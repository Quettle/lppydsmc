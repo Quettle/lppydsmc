{
 "cells": [
  {
   "cell_type": "markdown",
   "id": "54dc0c23-da24-4edb-beb1-bd8b0e4d5e6f",
   "metadata": {},
   "source": [
    "# Main notebook\n",
    "\n",
    "For quick and generic simulations.\n",
    "\n",
    "## Imports"
   ]
  },
  {
   "cell_type": "code",
   "execution_count": 28,
   "id": "c4e0d108-303d-43f0-8000-f064e7291333",
   "metadata": {},
   "outputs": [],
   "source": [
    "%matplotlib widget\n",
    "\n",
    "# system\n",
    "from src.system_creator import SystemCreator\n",
    "\n",
    "# Grid\n",
    "from src.utils import Grid, pos_in_grid, convert_to_grid_datatype\n",
    "\n",
    "# Particles\n",
    "from src.utils import Particle\n",
    "\n",
    "# injection \n",
    "from src.utils import inject\n",
    "\n",
    "# advection\n",
    "from src.utils import advect\n",
    "from src.utils import euler_explicit, leap_frog\n",
    "\n",
    "# collisions\n",
    "from src.utils import handler_wall_collision, handler_wall_collision_point, make_collisions_vectorized, make_collisions_out_walls, deal_with_corner\n",
    "\n",
    "# utils \n",
    "from src.utils import gaussian, maxwellian_flux, maxwellian_mean_speed, get_mass_part, mean_free_path, mean_free_time\n",
    "\n",
    "# systems\n",
    "from src.utils import systems\n",
    "\n",
    "# plotting \n",
    "from src.plotting import plot_boundaries, plot_particles, plot_grid, plot_system\n",
    "from src.plotting import analysis\n",
    "\n",
    "# collisions between particles\n",
    "from src.utils import handler_particles_collisions, candidates # candidates, index_choosen_couples, probability, is_colliding, reflect, \n",
    "\n",
    "# saving \n",
    "from src.data import Saver\n",
    "\n",
    "# other imports\n",
    "import numpy as np\n",
    "import matplotlib.pyplot as plt\n",
    "from tqdm import tqdm\n",
    "import pandas as pd\n",
    "import seaborn as sns\n",
    "import os\n",
    "from pathlib import Path\n",
    "\n",
    "# you can choose the seed here\n",
    "np.random.seed(1111)"
   ]
  },
  {
   "cell_type": "markdown",
   "id": "682c2228-f87c-4568-92c9-44125ba94449",
   "metadata": {},
   "source": [
    "## System choice\n",
    "\n",
    "Four default systems can be initialized using the following cell."
   ]
  },
  {
   "cell_type": "code",
   "execution_count": 29,
   "id": "b524a2f0-7faf-43b3-b785-295d99a8e938",
   "metadata": {},
   "outputs": [],
   "source": [
    "system_type = 'tube' # thruster, cylinder\n",
    "\n",
    "# ---------------------- System --------------------\n",
    "dz = 0.001\n",
    "typical_lenght = 0.001 # typical size of the system (minimum distance between two walls for example)\n",
    "                       # used for computing the mean free path later on (not used in the simulation)\n",
    "                       # just useful to have an idea of it.\n",
    "\n",
    "if system_type == 'tube':\n",
    "    system, idx_out_walls, idx_in_wall = systems.system_rectangle(lx = 0.01, ly = 0.001)\n",
    "    \n",
    "elif system_type == 'square':\n",
    "    system, idx_out_walls, idx_in_wall = systems.system_rectangle(lx = 0.01, ly = 0.01)\n",
    "\n",
    "elif system_type == 'thruster':\n",
    "    dp = 0.001\n",
    "    system, idx_out_walls, idx_in_wall = systems.thruster_system(w_in = 5*dp, l_in = 3*dp, w1 = 3*dp, l1 = dp, l_int = dp, w2 = dp, l2 = 5*dp, w_out = 5*dp, l_out = dp, offsets = np.array([0,0]))\n",
    "\n",
    "elif(system_type == 'cylinder'):\n",
    "    system, idx_out_walls, idx_in_wall = systems.cylinder_system(res = 4, lx = 0.003, ly = 0.001, cx = 0.0015 , cy = 0.0005, r = 0.0001)\n",
    "\n",
    "offsets = system.get_offsets()\n",
    "system_shape = system.system_shape()\n",
    "a = system.get_dir_vects()\n",
    "segments = system.get_segments()"
   ]
  },
  {
   "cell_type": "markdown",
   "id": "442d8602-9949-4143-ab61-b327509cde43",
   "metadata": {},
   "source": [
    "## DSMC grid creation"
   ]
  },
  {
   "cell_type": "code",
   "execution_count": 30,
   "id": "e59fa0ef-cfd8-4646-a314-5981c89f1ee8",
   "metadata": {},
   "outputs": [],
   "source": [
    "# grid :\n",
    "mean_number_per_cell = 1000 # 200 is enough to have a \"convergence\", however, it is better to use more for better statistics (you could also average over more time steps in steady state)\n",
    "max_number_per_cell = 10*mean_number_per_cell \n",
    "# factor 10 is completely overshot (Note : a future version will have dynamic arrays instead of static one)\n",
    "\n",
    "if system_type == 'tube':\n",
    "    resolutions = np.array((10,1), dtype = int) # tube\n",
    "\n",
    "elif system_type == 'square':\n",
    "    resolutions = np.array((3,3), dtype = int) # tube\n",
    "\n",
    "elif system_type == 'thruster':\n",
    "    resolutions = np.array((11,5), dtype = int)\n",
    "\n",
    "elif(system_type == 'cylinder'):\n",
    "    resolutions = np.array((9,9), dtype = int)\n",
    "    \n",
    "grid = Grid(resolutions, max_number_per_cell)\n",
    "\n",
    "# --------- useful quantity for the simulation ------------ #\n",
    "volume_cell = dz * system_shape[0]/resolutions[0] * system_shape[1]/resolutions[1]\n"
   ]
  },
  {
   "cell_type": "markdown",
   "id": "18653607-fac8-4a2e-a609-ade66c677790",
   "metadata": {},
   "source": [
    "## Particles"
   ]
  },
  {
   "cell_type": "code",
   "execution_count": 31,
   "id": "8ae026a0-b90a-492a-9219-f8c41280ed54",
   "metadata": {},
   "outputs": [],
   "source": [
    "# ------------------ Particles Params ----------------- #\n",
    "\n",
    "# particles density in the real system\n",
    "density = 3.2e19 # m-3\n",
    "\n",
    "part_type = 'I'\n",
    "charge, mass, radius = 0, get_mass_part(53, 53, 74), 2e-10\n",
    "\n",
    "temperature = 300 # K \n",
    "v_mean = maxwellian_mean_speed(temperature, mass)\n",
    "\n",
    "size_array = 2*mean_number_per_cell*np.prod(resolutions) # max size for the array\n",
    "container = Particle(part_type, charge, mass, radius, size_array)\n",
    "\n",
    "\n",
    "# ------ useful quantities for the simulation (or for plotting) ----------- #\n",
    "# ----------- based on params - should not be modified ---------------- #\n",
    "\n",
    "# \"mean number of particles in the simulated system\"\n",
    "n_simu = mean_number_per_cell*np.prod(resolutions)\n",
    "\n",
    "# \"mean number of particles in the real system\"\n",
    "n_real = volume_cell * density * np.prod(resolutions) \n",
    "\n",
    "# macro particules ratio = number of particles in the real system / number of macro part in the simulated system\n",
    "mr = n_real/n_simu \n",
    "\n",
    "# density in the dsmc\n",
    "density_dsmc = density/mr\n",
    "\n",
    "# particle cross section (useful for particles collision)\n",
    "cross_section = container.get_params()[3]  \n",
    "\n",
    "# mean free path and time\n",
    "mfp = mean_free_path(cross_section, density)\n",
    "mft = mean_free_time(typical_lenght, v_mean = v_mean)"
   ]
  },
  {
   "cell_type": "markdown",
   "id": "bd79bb02-d2d3-4e85-bdc2-a4654e872dc4",
   "metadata": {},
   "source": [
    "## Initialization of particles"
   ]
  },
  {
   "cell_type": "code",
   "execution_count": 32,
   "id": "3250c09f-bb43-4045-a8cc-b067bb36f7a0",
   "metadata": {},
   "outputs": [],
   "source": [
    "init_particles = False\n",
    "\n",
    "if(init_particles):\n",
    "    # you have to decice your strategy to initialize a 2D array of size Nx5\n",
    "    # where N is the number of particle\n",
    "    # and each particle is given [x, y, vx, vy, vz].\n",
    "    \n",
    "    # new = [....] # the 2D array\n",
    "    \n",
    "    # in the end add it to the system.\n",
    "    # container.add_multiple(new)\n",
    "    pass"
   ]
  },
  {
   "cell_type": "markdown",
   "id": "9c5fc5cf-7216-4d2e-aed8-1fa3b22d82e6",
   "metadata": {},
   "source": [
    "## Injection params "
   ]
  },
  {
   "cell_type": "code",
   "execution_count": 33,
   "id": "a5d3bba9-a9e8-4187-9620-5b205a4e954b",
   "metadata": {},
   "outputs": [],
   "source": [
    "inject_particles = True\n",
    "\n",
    "if(inject_particles):\n",
    "    in_wall = segments[idx_in_wall]\n",
    "    in_vect = np.array([in_wall[3]-in_wall[1],in_wall[0]-in_wall[2]])\n",
    "    \n",
    "    # for the injection\n",
    "    debit = maxwellian_flux(density_dsmc, v_mean)*np.linalg.norm(in_wall[:2]-in_wall[2:])*dz\n",
    "    vel_std = gaussian(temperature, mass)\n"
   ]
  },
  {
   "cell_type": "markdown",
   "id": "6d59d8af-24cf-4437-8ad8-ec78bedac2a1",
   "metadata": {},
   "source": [
    "## Simulation parameters"
   ]
  },
  {
   "cell_type": "code",
   "execution_count": 34,
   "id": "9db5ccb6-6e8c-492d-9c1d-a79f437cc09a",
   "metadata": {},
   "outputs": [],
   "source": [
    "# Simulation params\n",
    "iterations = 1000\n",
    "dt = 1e-6 # in sec.\n",
    "\n",
    "# saving params \n",
    "saving_period = 10 # when do we save various data (see the simulation algo)\n",
    "adding_period = 1 # when to we add to the dataframe that contains the particles position and velocity\n",
    "\n",
    "# advection function - returns a 2D arrays containing the acceleration for each of the given particle\n",
    "    # here arr is a N x 5 array. N particles, and for each one : x, y, vx, vy, vz is stored.\n",
    "    # very simple for now - as there is no electric fields, nor any force in the system \n",
    "    # thus no acceleration\n",
    "def f(arr, dt):\n",
    "    return np.zeros(shape = (arr.shape[0], 3))\n",
    "\n",
    "# args is given to euler_explicit and then given to *f* (the advection function) in addition to arr and dt.\n",
    "# in our case, it is not needed. However, we could imagine a system with an electric field computed at the setup phase, \n",
    "# and we would like to give it as an args.\n",
    "args = []\n",
    "scheme = euler_explicit"
   ]
  },
  {
   "cell_type": "markdown",
   "id": "3b829450-6019-4ad3-a5b4-ae501546126f",
   "metadata": {},
   "source": [
    "## Summing-up and plotting"
   ]
  },
  {
   "cell_type": "code",
   "execution_count": 39,
   "id": "da7a9761-dab2-4664-821b-e635ec48656c",
   "metadata": {},
   "outputs": [
    {
     "name": "stdout",
     "output_type": "stream",
     "text": [
      "Initializing a system of type tube, of shape [0.01  0.001] with 10 cells.\n",
      "The number of particles (type I) in the system is 0.\n",
      "In steady state, 10000 can be expect in the simulated system, which represents 320000000000.0 in the real system. The ratio between the two is 32000000.0.\n",
      "The simulation lasts 1000 iterations, with a time step of 1e-06 s. Simulation duration : 0.001 s\n",
      "Disk space usage for saving this simulation (counting ONLY the particles positions and speed) and considering that we save 10000 particles each time is 190.73486328125 MB.\n"
     ]
    },
    {
     "data": {
      "application/vnd.jupyter.widget-view+json": {
       "model_id": "39bc6dbee00e4e00aa10b4cb4d03fa1b",
       "version_major": 2,
       "version_minor": 0
      },
      "text/plain": [
       "Canvas(toolbar=Toolbar(toolitems=[('Home', 'Reset original view', 'home', 'home'), ('Back', 'Back to previous …"
      ]
     },
     "metadata": {},
     "output_type": "display_data"
    }
   ],
   "source": [
    "print(f'Initializing a system of type {system_type}, of shape {system_shape} with {np.prod(resolutions)} cells.')\n",
    "print(f'The number of particles (type {part_type}) in the system is {container.get_current()}.')\n",
    "print(f'In steady state, {n_simu} can be expect in the simulated system, which represents {round(n_real,3)} in the real system. The ratio between the two is {round(mr,3)}.')\n",
    "print(f'The simulation lasts {iterations} iterations, with a time step of {dt} s. Simulation duration : {dt*iterations} s')\n",
    "# Note:  HDF5 uses a different format than csv, and the size on the disk is much different that what is expected. Check out : https://support.hdfgroup.org/HDF5/doc/H5.intro.html\n",
    "# Here, you can at least multiply by 4 the size (considering we save much more than )\n",
    "print(f'Disk space usage for saving this simulation (counting ONLY the particles positions and speed) and considering that we save {n_simu} particles each time is {iterations//adding_period*n_simu*(5*4)/1024**2} MB.') \n",
    "plot_system(container.get_particles(), segments, radius, resolutions, system_shape, offsets);"
   ]
  },
  {
   "cell_type": "markdown",
   "id": "27286ed1-9240-4f1e-a294-e60da7770540",
   "metadata": {},
   "source": [
    "# Saving directory and name"
   ]
  },
  {
   "cell_type": "code",
   "execution_count": null,
   "id": "c3a47057-81fe-4fb5-8b3b-cd2b58994a5a",
   "metadata": {},
   "outputs": [],
   "source": [
    "# which directory is used to save the data\n",
    "# and under what name.\n",
    "dir_path = Path('results/')\n",
    "name = 'test_thruster.h5' \n",
    "\n",
    "saver = Saver(dir_path, name)"
   ]
  },
  {
   "cell_type": "markdown",
   "id": "8e64a2b6-cc06-4fa6-8e28-fe60c76aa325",
   "metadata": {},
   "source": [
    "# Simulation\n",
    "\n",
    "The next cell takes care of the simulation. It algo gives you an idea of the evolution of the number of particles in the system and of its very general state.\n",
    "\n",
    "At the end, the *saver* which saves the data is closed and you can then analyse your simulation using *analysis.ipynb*."
   ]
  },
  {
   "cell_type": "code",
   "execution_count": null,
   "id": "8527de5f-ebb5-4d67-934c-fe98fd0407e4",
   "metadata": {},
   "outputs": [],
   "source": [
    "df = pd.DataFrame(columns = ['x','y','vx','vy','vz']) # bucket for the particles - index of particles is the iteration number\n",
    "\n",
    "# defining useful arrays and ints \n",
    "remains = 0 # fractionnal part of the number of particles to inject (it is then passed to the following time step)\n",
    "averages = np.full(shape = grid.current.shape, fill_value = mean_number_per_cell) # average number of particles per cell\n",
    "pmax = 2*v_mean*cross_section*np.ones(averages.shape) # max proba per cell in the simu\n",
    "remains_per_cell = np.zeros(shape = grid.current.shape, dtype = float) # remains per cell for the particles collisions step\n",
    "\n",
    "# SIMULATING\n",
    "print('|{:^10}|{:^10}|{:^10}|{:^10}|{:^10}|'.format(' it ', ' INIT ', ' INJECT ', ' DEL ', ' TRY'))\n",
    "print('{:-^56}'.format(''))\n",
    "\n",
    "for it in range(iterations): # tqdm\n",
    "    n1 = container.get_current()\n",
    "                   \n",
    "    # INJECTING PARTICLES\n",
    "    new, remains = inject(in_wall, in_vect, debit, vel_std, radius, dt, remains)\n",
    "    container.add_multiple(new)\n",
    "                   \n",
    "    n2 = container.get_current()-n1\n",
    "    \n",
    "    # PHASE : ADVECTING\n",
    "        # MOVING PARTICLES\n",
    "    arr = container.get_particles()\n",
    "    \n",
    "    if(it%adding_period == 0):\n",
    "        df = df.append(pd.DataFrame(data=arr, index=[it]*arr.shape[0], columns = ['x','y','vx','vy','vz']))\n",
    "    \n",
    "    advect(arr, f, dt, args, scheme) # advect is inplace\n",
    "    \n",
    "        # HANDLING BOUNDARIES \n",
    "    count = np.full(fill_value = True, shape = arr.shape[0])\n",
    "    idxes_out = []\n",
    "    c = 0\n",
    "    while(np.sum(count, where = count == True) > 0):\n",
    "        c+=1\n",
    "        ct, cp = handler_wall_collision_point(arr[count], segments, a) # handler_wall_collision(arr[count], segments, a, radius)\n",
    "        count, idxes_out_ = make_collisions_out_walls(arr, a, ct, cp, idx_out_walls, count) # idxes_out : indexes of the particles (in arr) that got out of the system\n",
    "        idxes_out.append(idxes_out_)\n",
    "    \n",
    "    idxes_out = np.concatenate(idxes_out)\n",
    "    \n",
    "    # TODO : make delete multiple better - currently the function creates a new array where as we can do it inplace.\n",
    "    container.delete_multiple(idxes_out)\n",
    "    \n",
    "    arr = container.get_particles()\n",
    "    \n",
    "    # PHASE : COLLISIONS\n",
    "        # UPDATING GRID - HARD RESET\n",
    "        # TODO : change the way it's done\n",
    "    grid.reset()\n",
    "    positions = pos_in_grid(arr[:,:2], resolutions, offsets, system_shape)\n",
    "    particles = convert_to_grid_datatype(positions, new = positions.shape[0])\n",
    "    grid.add_multiple(particles)\n",
    "        \n",
    "        # DSMC\n",
    "        # TODO: make parallel (1st : note criticals functions in C++)\n",
    "    currents = grid.get_currents()\n",
    "    averages = (it*averages+currents)/(it+1) # TODO: may be it too violent ? \n",
    "    \n",
    "    remains_per_cell, nb_colls, pmax, monitor = handler_particles_collisions([arr], grid.get_grid(), currents, dt, averages, pmax, cross_section, volume_cell, mr, remains_per_cell, monitoring = True)\n",
    "    \n",
    "    # PLOTTING AND SAVING (OPTIONAL)\n",
    "    if(it%saving_period==0 or it == iterations-1): # saving if last iteration too\n",
    "        saver.save(it = it, append = {\n",
    "                        'df' : df,\n",
    "                        'collisions_per_cell' : nb_colls, # evolution of the number of collisions per cell - size : grid.shape[0] x grid.shape[1] (2D)\n",
    "                        'total_distance' : float(monitor[0]), # evolution of the sum of the distance accross all cells \n",
    "                        'total_proba' : float(monitor[1]), # evolution of the sum of proba accross all cells\n",
    "                        'pmax_per_cell' : pmax,  # evolution of the sum of pmax - per cell (2D)\n",
    "                        'total_deleted' : len(idxes_out), # evolution of the number of deleted particles per cell (int)\n",
    "                        'averages_per_cell' : averages # evolution of the average number of particle per cell\n",
    "                  })\n",
    "        \n",
    "        # resetting dataframe to not use too much memory\n",
    "        df = pd.DataFrame(columns = ['x','y','vx','vy','vz'])\n",
    "        print('|{:^10}|{:^10}|{:^10}|{:^10}|{:^10}|'.format(it, n1, n2, idxes_out.shape[0], c))\n",
    "saver.close()"
   ]
  }
 ],
 "metadata": {
  "kernelspec": {
   "display_name": "Python 3",
   "language": "python",
   "name": "python3"
  },
  "language_info": {
   "codemirror_mode": {
    "name": "ipython",
    "version": 3
   },
   "file_extension": ".py",
   "mimetype": "text/x-python",
   "name": "python",
   "nbconvert_exporter": "python",
   "pygments_lexer": "ipython3",
   "version": "3.9.4"
  }
 },
 "nbformat": 4,
 "nbformat_minor": 5
}
