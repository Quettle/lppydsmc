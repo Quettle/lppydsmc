{
 "cells": [
  {
   "cell_type": "markdown",
   "id": "87c48f46",
   "metadata": {},
   "source": [
    "# Main notebook\n",
    "\n",
    "For quick and generic simulations.\n",
    "\n",
    "## Imports"
   ]
  },
  {
   "cell_type": "code",
   "execution_count": 1,
   "id": "b4f0e3af",
   "metadata": {},
   "outputs": [],
   "source": [
    "# %matplotlib widget\n",
    "\n",
    "import lppydsmc as ld\n",
    "import plotting\n",
    "\n",
    "# imports for poisson solver\n",
    "from fenics import *\n",
    "import lppydsmc.poisson_solver as ps\n",
    "\n",
    "\n",
    "# other imports\n",
    "import numpy as np\n",
    "import matplotlib.pyplot as plt\n",
    "from tqdm import tqdm\n",
    "import pandas as pd\n",
    "import seaborn as sns\n",
    "import os\n",
    "from pathlib import Path\n",
    "\n",
    "# you can choose the seed here\n",
    "np.random.seed(1111)"
   ]
  },
  {
   "cell_type": "markdown",
   "id": "7cf7a422",
   "metadata": {},
   "source": [
    "## System choice\n",
    "\n",
    "Four default systems can be initialized using the following cell."
   ]
  },
  {
   "cell_type": "code",
   "execution_count": 2,
   "id": "4c464453",
   "metadata": {},
   "outputs": [],
   "source": [
    "# ---------------------- System --------------------\n",
    "system_type = 'thruster'\n",
    "dz = 0.001\n",
    "typical_lenght = 0.001 # typical size of the system (minimum distance between two walls for example)\n",
    "                       # used for computing the mean free path later on (not used in the simulation)\n",
    "                       # just useful to have an idea of it.\n",
    "\n",
    "dp = 0.001\n",
    "# here, x : l, y : w\n",
    "dict_thruster = {\n",
    "    'w_in' : 5*dp,\n",
    "    'l_in' : 3*dp,\n",
    "    'w_1' : 3*dp,\n",
    "    'l_1' : dp,\n",
    "    'l_int' : dp,\n",
    "    'w_2' : dp,\n",
    "    'l_2' : 10*dp,\n",
    "    'w_out' : 5*dp,\n",
    "    'l_out' : dp,\n",
    "    'offsets' : np.array([0,0]) \n",
    "}\n",
    "\n",
    "system, idx_out_walls, idx_in_wall = ld.systems.helper.thruster_system(**dict_thruster)\n",
    "idx_out_walls = [10, 9, 11] # not the input wall\n",
    "offsets = system.get_offsets()\n",
    "system_shape = system.system_shape()\n",
    "a = system.get_dir_vects()\n",
    "segments = system.get_segments()"
   ]
  },
  {
   "cell_type": "code",
   "execution_count": 3,
   "id": "883696e0-1b58-4093-a2f1-dc1a95abcbbc",
   "metadata": {},
   "outputs": [],
   "source": [
    "# electric field and stuff\n",
    "charge_density = {\n",
    "            'value' : '0',  # must be a string too\n",
    "            'degree' : 0,\n",
    "            'kwargs' : {}\n",
    "            }\n",
    "potential_field, electric_field = ps.helper.thruster(dimensions = dict_thruster, mesh_resolution = 100, \\\n",
    "                                                     potential_electrode_1 = '30', potential_electrode_2 = '300', \\\n",
    "                                                     charge_density = charge_density)\n"
   ]
  },
  {
   "cell_type": "markdown",
   "id": "00d43ca1",
   "metadata": {},
   "source": [
    "## Particles"
   ]
  },
  {
   "cell_type": "code",
   "execution_count": 4,
   "id": "c429acad",
   "metadata": {},
   "outputs": [],
   "source": [
    "# ------------------ Particles Params ----------------- #\n",
    "\n",
    "# particles density in the real system\n",
    "density = 1e17 # m-3\n",
    "\n",
    "part_type = 'I-'\n",
    "charge, mass, radius = 1*ld.utils.physics.ELECTRON_CHARGE, ld.utils.physics.get_mass_part(53+1, 53, 74), 2e-10\n",
    "\n",
    "temperature = 24e3 # K - ion speed is much higher (around 2000 m/s)\n",
    "v_mean = ld.utils.physics.maxwellian_mean_speed(temperature, mass) # for 24k K , ~ 1993 m/s\n",
    "\n",
    "size_array = 10000 # for example - to start with\n",
    "container = ld.data_structures.Particle(part_type, charge, mass, radius, size_array)\n",
    "\n",
    "# particle cross section (useful for particles collision)\n",
    "cross_section = container.get_params()[3]  \n",
    "\n",
    "# mean free path and time\n",
    "mfp = ld.utils.physics.mean_free_path(cross_section, density)\n",
    "mft = ld.utils.physics.mean_free_time(mfp, v_mean = v_mean) # min(typical_lenght,mfp)"
   ]
  },
  {
   "cell_type": "code",
   "execution_count": 5,
   "id": "d34ed6d0-6be4-4586-bac0-917c171144da",
   "metadata": {},
   "outputs": [
    {
     "data": {
      "text/plain": [
       "5.0171189082561205e-08"
      ]
     },
     "execution_count": 5,
     "metadata": {},
     "output_type": "execute_result"
    }
   ],
   "source": [
    "ld.utils.physics.mean_free_time(typical_lenght, v_mean = 10*v_mean) # this is the actual time we need"
   ]
  },
  {
   "cell_type": "markdown",
   "id": "6a6013a8",
   "metadata": {},
   "source": [
    "## Injection params "
   ]
  },
  {
   "cell_type": "code",
   "execution_count": 6,
   "id": "370c6a61",
   "metadata": {},
   "outputs": [],
   "source": [
    "inject_particles = True\n",
    "\n",
    "if(inject_particles):\n",
    "    in_wall = segments[idx_in_wall]\n",
    "    in_vect = np.array([a[idx_in_wall,1], -a[idx_in_wall,0]])\n",
    "    \n",
    "    # for the injection\n",
    "    vel_std = ld.utils.physics.gaussian(temperature, mass)\n"
   ]
  },
  {
   "cell_type": "markdown",
   "id": "ce959537",
   "metadata": {},
   "source": [
    "## Reactions "
   ]
  },
  {
   "cell_type": "markdown",
   "id": "486533a8",
   "metadata": {},
   "source": [
    "### with walls\n",
    "\n",
    "function used : ld.advection.reactions.basic(arr, count, law) - not vectorized.\n",
    "with :\n",
    "* arr : the array of particle - shape : $N \\times 5$ \n",
    "* count : the array of int - shape : $N$ - each value corresponds to the number of times the associated particle in *arr* collided with a wall.\n",
    "* law : a function, params : (part = [x,y,vx,vy,vz], count), returns a probability.\n",
    "\n",
    "The function returns an **array of reacting particles**.\n",
    "\n",
    "*TODO* : in the future, we may want to take the angle with the wall.\n",
    "\n",
    "Once we have the array, we have to change the type of the particles. We will use two container for now."
   ]
  },
  {
   "cell_type": "code",
   "execution_count": 7,
   "id": "21b2dd26",
   "metadata": {},
   "outputs": [],
   "source": [
    "max_speed = 40000 # for example (we just normalize it by a \"maximum value\"- in theory it should corresponds to some realistic value)\n",
    "\n",
    "def law_walls(part, c):\n",
    "    proba = (np.linalg.norm(part[2:5])/max_speed)**c\n",
    "    # print('Mean proba reacting with walls : {:.3e}'.format(np.mean(proba)))\n",
    "    return proba"
   ]
  },
  {
   "cell_type": "markdown",
   "id": "0cae0a83",
   "metadata": {},
   "source": [
    "### with particles (or \"background gas\")\n",
    "\n",
    "In this case, we consider that there is a certain probability of colliding and reacting depending on the position in the system and the speed of the particle. \n",
    "\n",
    "We are simply going to use : background_gas(arr, law)\n",
    "\n",
    "Where :\n",
    "- arr is the array of particles\n",
    "- law the law that gives the probility of reactions (vectorized here)\n",
    "\n",
    "#### Note : for now this is highly poorly coded, not usable in the long run etc. but it is still good just to try out and answer the problem we are facing."
   ]
  },
  {
   "cell_type": "code",
   "execution_count": 8,
   "id": "f82d1b2b",
   "metadata": {},
   "outputs": [],
   "source": [
    "max_value = 3.2e19 # m-3\n",
    "min_value = 0 # m-3\n",
    "density_fn = lambda arr :  max_value - arr[:,0] * (max_value-min_value) # vectorized\n",
    "\n",
    "def reacting_particles(arr):\n",
    "    proba =  cross_section * density_fn(arr) * np.linalg.norm(arr[:,2:], axis = 1) * dt # if it collides then it necessarily reacts\n",
    "    # print('Mean proba reacting with background gas : {:.3e}'.format(np.mean(proba)))\n",
    "    return proba"
   ]
  },
  {
   "cell_type": "markdown",
   "id": "0c70ceed",
   "metadata": {},
   "source": [
    "### Transfering from one type to another\n",
    "=> I will not actually use it.\n",
    "\n",
    "I will simply store the type of each particle in another array (which is not the way it was intended to be use). \n",
    "Indeed, I met an issue : I can not transfer particles from one type to another and at the same time delete them without adding a \"handler\" of the indexes that are going to change. Thus this is kind of terrible.\n",
    "\n",
    "One possibility would be to do both at the same time I guess."
   ]
  },
  {
   "cell_type": "code",
   "execution_count": 9,
   "id": "5bcb3804",
   "metadata": {},
   "outputs": [],
   "source": [
    "def transfer(src, dest, idxes): # useless for now\n",
    "    for i in idxes :\n",
    "        dest.add(src.pop(i))\n",
    "    # where both src and dest are containers"
   ]
  },
  {
   "cell_type": "code",
   "execution_count": 10,
   "id": "585693cc",
   "metadata": {},
   "outputs": [],
   "source": [
    "species_container = ld.data_structures.Container(size_array, number_of_elements = 0, dtype = int) # 0 if of specie 0, 1 if of specie 1 etc."
   ]
  },
  {
   "cell_type": "markdown",
   "id": "fdc92757",
   "metadata": {},
   "source": [
    "## Simulation parameters"
   ]
  },
  {
   "cell_type": "code",
   "execution_count": 11,
   "id": "4308babd",
   "metadata": {},
   "outputs": [],
   "source": [
    "# Simulation params\n",
    "iterations = int(2e3)\n",
    "dt = 1e-8 # in sec.\n",
    "\n",
    "# saving params\n",
    "saving_period = 100 # when do we save various data (see the simulation algo)\n",
    "adding_period = 1 # when to we add to the dataframe that contains the particles position and velocity\n",
    "\n",
    "# advection function - returns a 2D arrays containing the acceleration for each of the given particle\n",
    "    # here arr is a N x 5 array. N particles, and for each one : x, y, vx, vy, vz is stored.\n",
    "    \n",
    "def f(arr, t, m, q, electric_field, species):\n",
    "    der = np.zeros((arr.shape[0], 5)) # (vx, vy, ax, ay, az)\n",
    "    fact  = q/m\n",
    "    \n",
    "    species_arr = species.get_array()\n",
    "    # print('Mean specie : {}'.format(np.mean(species_arr)))\n",
    "    for k, part in enumerate(arr):\n",
    "        if(species_arr[k] == 0):\n",
    "            try:\n",
    "                der[k,2:4] =  fact * electric_field(part[:2]) # no acceleration on z\n",
    "            except Exception as e:\n",
    "                pass\n",
    "                # der[k,2:4] = 0. # this is not even useful as we initialize at 0 the array der\n",
    "        # else :\n",
    "        #    der[k,2:4] = 0. # in this case we have an neutral - no acceleration for it.\n",
    "    der[:,:2] = arr[:,2:4]\n",
    "    return der\n",
    "\n",
    "# args is given to euler_explicit and then given to *f* (the advection function) in addition to arr and dt.\n",
    "# in our case, it is not needed. However, we could imagine a system with an electric field computed at the setup phase, \n",
    "# and we would like to give it as an args.\n",
    "args = [mass, charge, electric_field, species_container]\n",
    "scheme = ld.utils.schemes.rk4"
   ]
  },
  {
   "cell_type": "markdown",
   "id": "a88d3d6a",
   "metadata": {},
   "source": [
    "## Summing-up and plotting"
   ]
  },
  {
   "cell_type": "code",
   "execution_count": 12,
   "id": "fad5125a",
   "metadata": {},
   "outputs": [
    {
     "name": "stdout",
     "output_type": "stream",
     "text": [
      "Initializing a system of type thruster, of shape [0.016 0.005].\n",
      "The number of particles (type I-) in the system is 0.\n",
      "Mean free path : 14.067442439954778 m ; Mean free time : 0.007057803145630173 m\n",
      "The simulation lasts 2000 iterations, with a time step of 1e-08 s. Simulation duration : 2e-05 s\n",
      "Disk space usage for saving this simulation (counting ONLY the particles positions and speed) and considering that we save 10000 particles each time is 381.4697265625 MB.\n"
     ]
    }
   ],
   "source": [
    "print(f'Initializing a system of type {system_type}, of shape {system_shape}.')\n",
    "print(f'The number of particles (type {part_type}) in the system is {container.get_current()}.')\n",
    "print(f'Mean free path : {mfp} m ; Mean free time : {mft} m')\n",
    "print(f'The simulation lasts {iterations} iterations, with a time step of {dt} s. Simulation duration : {dt*iterations} s')\n",
    "# Note:  HDF5 uses a different format than csv, and the size on the disk is much different that what is expected. Check out : https://support.hdfgroup.org/HDF5/doc/H5.intro.html\n",
    "# Here, you can at least multiply by 4 the size (considering we save much more than )\n",
    "print(f'Disk space usage for saving this simulation (counting ONLY the particles positions and speed) and considering that we save {size_array} particles each time is {iterations//adding_period*size_array*(5*4)/1024**2} MB.') "
   ]
  },
  {
   "cell_type": "markdown",
   "id": "514540a8",
   "metadata": {},
   "source": [
    "# Saving directory and name"
   ]
  },
  {
   "cell_type": "code",
   "execution_count": 13,
   "id": "8aa8d4a0",
   "metadata": {},
   "outputs": [],
   "source": [
    "# which directory is used to save the data\n",
    "# and under what name.\n",
    "dir_path = Path('results/')\n",
    "name = 'neutralization.h5' \n",
    "\n",
    "saver = ld.data.saver.Saver(dir_path, name)"
   ]
  },
  {
   "cell_type": "markdown",
   "id": "2d7241c3",
   "metadata": {},
   "source": [
    "# Simulation\n",
    "\n",
    "The next cell takes care of the simulation. It algo gives you an idea of the evolution of the number of particles in the system and of its very general state.\n",
    "\n",
    "At the end, the *saver* which saves the data is closed and you can then analyse your simulation using *analysis.ipynb*."
   ]
  },
  {
   "cell_type": "code",
   "execution_count": 14,
   "id": "76911f56",
   "metadata": {},
   "outputs": [
    {
     "name": "stdout",
     "output_type": "stream",
     "text": [
      "|    it    |   INIT   |   DEL    |\n",
      "----------------------------------\n",
      "|   100    |  10000   |    0     |\n",
      "|   200    |   3474   |    4     |\n",
      "|   300    |   2422   |    3     |\n",
      "|   400    |   2007   |    5     |\n",
      "|   500    |   1666   |    4     |\n",
      "|   600    |   1431   |    0     |\n",
      "|   700    |   1225   |    2     |\n",
      "|   800    |   1065   |    2     |\n",
      "|   900    |   942    |    3     |\n",
      "|   1000   |   832    |    4     |\n",
      "|   1100   |   746    |    1     |\n",
      "|   1200   |   687    |    0     |\n",
      "|   1300   |   610    |    1     |\n",
      "|   1400   |   558    |    2     |\n",
      "|   1500   |   504    |    0     |\n",
      "|   1600   |   469    |    0     |\n",
      "|   1700   |   432    |    0     |\n",
      "|   1800   |   413    |    0     |\n",
      "|   1900   |   388    |    1     |\n",
      "|   1999   |   369    |    0     |\n",
      "|   2000   |   369    |    0     |\n"
     ]
    }
   ],
   "source": [
    "df = pd.DataFrame(columns = ['x','y','vx','vy','vz']) # bucket for the particles - index of particles is the iteration number\n",
    "tracking_out = pd.Series(dtype = int)\n",
    "tracking_collisions = pd.Series(dtype = int)\n",
    "mean_proba_walls = pd.Series(dtype = float)\n",
    "mean_proba_gas = pd.Series(dtype = float)\n",
    "df_out_particles = pd.DataFrame(columns = ['x','y','vx','vy','vz','type'])\n",
    "df_collision_with_walls = pd.DataFrame(columns = ['x','y','type'])\n",
    "df_collision_background_gas = pd.DataFrame(columns = ['x','y','type'])\n",
    "\n",
    "# ------------------------- INJECTING PARTICLES ------------------------- \n",
    "remains = 0\n",
    "debit = size_array/dt\n",
    "new, remains = ld.injection.maxwellian(in_wall, in_vect, debit, vel_std, dt, remains) # injecting directly 1000 particles\n",
    "container.add_multiple(new)\n",
    "species_container.add_multiple(np.zeros(new.shape[0], dtype = int))\n",
    "\n",
    "# SIMULATING\n",
    "print('|{:^10}|{:^10}|{:^10}|'.format(' it ', ' INIT ', 'DEL '))\n",
    "print('{:-^34}'.format(''))\n",
    "\n",
    "t = 0.\n",
    "for it in range(1,iterations+1): # tqdm\n",
    "    n1 = container.get_current()\n",
    "    \n",
    "    if(n1 == 0):\n",
    "        break\n",
    "    # ---------------------------- PHASE : ADVECTING --------------------\n",
    "        # MOVING PARTICLES\n",
    "    arr = container.get_array()\n",
    "    \n",
    "    # neutrals = arr[np.where(species_container.get_array()==0)]\n",
    "    # nrj_neutral_before = np.sum(np.linalg.norm(neutrals, axis = 1)**2)\n",
    "    \n",
    "    ld.advection.advect(arr, f, dt, t, args, scheme) # advect is inplace - it not the same f for both I and I-...\n",
    "    \n",
    "    # neutrals = arr[np.where(species_container.get_array()==0)]\n",
    "    # nrj_neutral_after = np.sum(np.linalg.norm(neutrals, axis = 1)**2)\n",
    "    # print('{}'.format(nrj_neutral_after/nrj_neutral_before))\n",
    "    # adding the reacting with background gas here\n",
    "    idxes_reacting, mp_gas = ld.collision.reactions.background_gas(arr, reacting_particles)\n",
    "    \n",
    "    # saving the position of the collision (and type)\n",
    "    out_species = species_container.get_array()[idxes_reacting]\n",
    "    out_arr = arr[idxes_reacting] # it's a copy\n",
    "    df_collision_background_gas = df_collision_background_gas.append(pd.DataFrame(data=np.concatenate((out_arr[:,:2], np.expand_dims(out_species, axis = 1)), axis = 1), index=[it]*out_arr.shape[0], columns = ['x','y','type']))\n",
    "    \n",
    "    # updating\n",
    "    species_container.update(idxes_reacting, 1)\n",
    "    \n",
    "        # HANDLING BOUNDARIES\n",
    "    count_collisions_per_part = np.full(fill_value = 0, shape = arr.shape[0])\n",
    "    count = np.full(fill_value = True, shape = arr.shape[0]) # True if the particle is outside the system (and thus collided)\n",
    "    # all of them are supposed to be outside the system\n",
    "    idxes_out = []\n",
    "    c = 0\n",
    "    collisions_with_walls = 0\n",
    "    while(np.count_nonzero(count) > 0):  # np.sum(count, where = count == True) - does not work in python 3.7\n",
    "        c+=1\n",
    "        ct, cp = ld.advection.wall_collision.handler_wall_collision_point(arr[count], segments, a) # handler_wall_collision(arr[count], segments, a, radius)\n",
    "        count, idxes_out_ = ld.advection.wall_collision.make_collisions_out_walls(arr, a, ct, cp, idx_out_walls, count) # idxes_out : indexes of the particles (in arr) that got out of the system\n",
    "        idxes_out.append(idxes_out_)\n",
    "        \n",
    "        count_collisions_per_part += count.astype(int) # 1-\n",
    "        # the first one that is received is the number of particles colliding with walls.\n",
    "        if(c == 1):\n",
    "            collisions_with_walls = np.count_nonzero(count)\n",
    "    \n",
    "    idxes_out = np.sort(np.concatenate(idxes_out))\n",
    "    \n",
    "    idxes_reacting, mp_walls = ld.advection.reactions.basic(arr, count_collisions_per_part, law = law_walls)\n",
    "    \n",
    "    # saving\n",
    "    out_species = species_container.get_array()[idxes_reacting]\n",
    "    out_arr = arr[idxes_reacting] # it's a copy\n",
    "    df_collision_with_walls = df_collision_with_walls.append(pd.DataFrame(data=np.concatenate((out_arr[:,:2], np.expand_dims(out_species, axis = 1)), axis = 1), index=[it]*out_arr.shape[0], columns = ['x','y','type']))\n",
    "    \n",
    "    # the reacting particles needs their \"type\" to be updated from 0 to 1.\n",
    "    species_container.update(idxes_reacting, 1)\n",
    "\n",
    "    # deleting particles that are outside\n",
    "    out_species = species_container.pop_multiple(idxes_out)\n",
    "    out_arr = container.pop_multiple(idxes_out)\n",
    "    df_out_particles = df_out_particles.append(pd.DataFrame(data=np.concatenate((out_arr, np.expand_dims(out_species, axis = 1)), axis = 1), index=[it]*out_arr.shape[0], columns = ['x','y','vx','vy','vz','type']))\n",
    "    t += dt\n",
    "    \n",
    "    # ----------------------------- PLOTTING AND SAVING (OPTIONAL) ----------------------------- \n",
    "    if(it%adding_period == 0 or it == iterations-1):\n",
    "        df = df.append(pd.DataFrame(data=arr, index=[it]*arr.shape[0], columns = ['x','y','vx','vy','vz']))\n",
    "        tracking_out.loc[it] = len(idxes_out)\n",
    "        tracking_collisions.loc[it] = int(collisions_with_walls)\n",
    "        mean_proba_walls.loc[it] = float(mp_walls)\n",
    "        mean_proba_gas.loc[it] = float(mp_gas)\n",
    "\n",
    "    if(it%saving_period == 0 or it == iterations-1): # saving if last iteration too\n",
    "        saver.save(it = it, append = {\n",
    "                        'df_out_particles' : df_out_particles,\n",
    "                        'df_collision_with_walls' : df_collision_with_walls,\n",
    "                        'df_collision_background_gas' : df_collision_background_gas,\n",
    "                        'df' : df,\n",
    "                        'total_deleted' : tracking_out, # evolution of the number of deleted particles per cell (int)\n",
    "                        'collisions_with_walls' : tracking_collisions, # number of collisions with walls - evolution\n",
    "                        'mean_proba_walls' : mean_proba_walls,\n",
    "                        'mean_proba_gas' : mean_proba_gas,\n",
    "                    })\n",
    "        # resetting dataframe to not use too much memory\n",
    "        df = pd.DataFrame(columns = ['x','y','vx','vy','vz']) # bucket for the particles - index of particles is the iteration number\n",
    "        tracking_out = pd.Series(dtype = int)\n",
    "        tracking_collisions = pd.Series(dtype = int)\n",
    "        mean_proba_walls = pd.Series(dtype = float)\n",
    "        mean_proba_gas = pd.Series(dtype = float)\n",
    "        df_out_particles = pd.DataFrame(columns = ['x','y','vx','vy','vz','type'])\n",
    "        df_collision_with_walls = pd.DataFrame(columns = ['x','y','type'])\n",
    "        df_collision_background_gas = pd.DataFrame(columns = ['x','y','type'])\n",
    "        print('|{:^10}|{:^10}|{:^10}|'.format(it, n1, idxes_out.shape[0]))\n",
    "    \n",
    "    if(container.get_current()==0):\n",
    "        print('All particles got out.')\n",
    "        break\n",
    "        \n",
    "saver.close()"
   ]
  },
  {
   "cell_type": "code",
   "execution_count": null,
   "id": "a3ba3f83",
   "metadata": {},
   "outputs": [],
   "source": []
  }
 ],
 "metadata": {
  "kernelspec": {
   "display_name": "Python 3",
   "language": "python",
   "name": "python3"
  },
  "language_info": {
   "codemirror_mode": {
    "name": "ipython",
    "version": 3
   },
   "file_extension": ".py",
   "mimetype": "text/x-python",
   "name": "python",
   "nbconvert_exporter": "python",
   "pygments_lexer": "ipython3",
   "version": "3.7.10"
  }
 },
 "nbformat": 4,
 "nbformat_minor": 5
}
