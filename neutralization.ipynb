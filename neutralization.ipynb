{
 "cells": [
  {
   "cell_type": "markdown",
   "id": "87c48f46",
   "metadata": {},
   "source": [
    "# Main notebook\n",
    "\n",
    "For quick and generic simulations.\n",
    "\n",
    "## Imports"
   ]
  },
  {
   "cell_type": "code",
   "execution_count": 1,
   "id": "b4f0e3af",
   "metadata": {},
   "outputs": [],
   "source": [
    "# %matplotlib widget\n",
    "\n",
    "import lppydsmc as ld\n",
    "import plotting\n",
    "\n",
    "# imports for poisson solver\n",
    "from fenics import *\n",
    "import lppydsmc.poisson_solver as ps\n",
    "\n",
    "\n",
    "# other imports\n",
    "import numpy as np\n",
    "import matplotlib.pyplot as plt\n",
    "from tqdm import tqdm\n",
    "import pandas as pd\n",
    "import seaborn as sns\n",
    "import os\n",
    "from pathlib import Path\n",
    "\n",
    "# you can choose the seed here\n",
    "np.random.seed(1111)"
   ]
  },
  {
   "cell_type": "markdown",
   "id": "7cf7a422",
   "metadata": {},
   "source": [
    "## System choice\n",
    "\n",
    "Four default systems can be initialized using the following cell."
   ]
  },
  {
   "cell_type": "code",
   "execution_count": 2,
   "id": "4c464453",
   "metadata": {},
   "outputs": [],
   "source": [
    "# ---------------------- System --------------------\n",
    "system_type = 'thruster'\n",
    "dz = 0.001\n",
    "typical_lenght = 0.001 # typical size of the system (minimum distance between two walls for example)\n",
    "                       # used for computing the mean free path later on (not used in the simulation)\n",
    "                       # just useful to have an idea of it.\n",
    "\n",
    "dp = 0.001\n",
    "# here, x : l, y : w\n",
    "dict_thruster = {\n",
    "    'w_in' : 5*dp,\n",
    "    'l_in' : 3*dp,\n",
    "    'w_1' : 3*dp,\n",
    "    'l_1' : dp,\n",
    "    'l_int' : dp,\n",
    "    'w_2' : dp,\n",
    "    'l_2' : 10*dp,\n",
    "    'w_out' : 5*dp,\n",
    "    'l_out' : dp,\n",
    "    'offsets' : np.array([0,0]) \n",
    "}\n",
    "\n",
    "system, idx_out_walls, idx_in_wall = ld.systems.helper.thruster_system(**dict_thruster)\n",
    "idx_out_walls = [10, 9, 11] # not the input wall\n",
    "offsets = system.get_offsets()\n",
    "system_shape = system.system_shape()\n",
    "a = system.get_dir_vects()\n",
    "segments = system.get_segments()"
   ]
  },
  {
   "cell_type": "code",
   "execution_count": 3,
   "id": "883696e0-1b58-4093-a2f1-dc1a95abcbbc",
   "metadata": {},
   "outputs": [],
   "source": [
    "# electric field and stuff\n",
    "charge_density = {\n",
    "            'value' : '0',  # must be a string too\n",
    "            'degree' : 0,\n",
    "            'kwargs' : {}\n",
    "            }\n",
    "potential_field, electric_field = ps.helper.thruster(dimensions = dict_thruster, mesh_resolution = 100, \\\n",
    "                                                     potential_electrode_1 = '30', potential_electrode_2 = '300', \\\n",
    "                                                     charge_density = charge_density)\n"
   ]
  },
  {
   "cell_type": "markdown",
   "id": "00d43ca1",
   "metadata": {},
   "source": [
    "## Particles"
   ]
  },
  {
   "cell_type": "code",
   "execution_count": 4,
   "id": "c429acad",
   "metadata": {},
   "outputs": [],
   "source": [
    "# ------------------ Particles Params ----------------- #\n",
    "\n",
    "# particles density in the real system\n",
    "density = 1e17 # m-3\n",
    "\n",
    "part_type = 'I-'\n",
    "charge, mass, radius = 1*ld.utils.physics.ELECTRON_CHARGE, ld.utils.physics.get_mass_part(53+1, 53, 74), 2e-10\n",
    "\n",
    "temperature = 24e3 # K - ion speed is much higher (around 2000 m/s)\n",
    "v_mean = ld.utils.physics.maxwellian_mean_speed(temperature, mass) # for 24k K , ~ 1993 m/s\n",
    "\n",
    "size_array = 1000 # for example - to start with\n",
    "container = ld.data_structures.Particle(part_type, charge, mass, radius, size_array)\n",
    "\n",
    "# particle cross section (useful for particles collision)\n",
    "cross_section = container.get_params()[3]  \n",
    "\n",
    "# mean free path and time\n",
    "mfp = ld.utils.physics.mean_free_path(cross_section, density)\n",
    "mft = ld.utils.physics.mean_free_time(mfp, v_mean = v_mean) # min(typical_lenght,mfp)"
   ]
  },
  {
   "cell_type": "code",
   "execution_count": 5,
   "id": "d34ed6d0-6be4-4586-bac0-917c171144da",
   "metadata": {},
   "outputs": [
    {
     "data": {
      "text/plain": [
       "5.0171189082561205e-08"
      ]
     },
     "execution_count": 5,
     "metadata": {},
     "output_type": "execute_result"
    }
   ],
   "source": [
    "ld.utils.physics.mean_free_time(typical_lenght, v_mean = 10*v_mean) # this is the actual time we need"
   ]
  },
  {
   "cell_type": "markdown",
   "id": "6a6013a8",
   "metadata": {},
   "source": [
    "## Injection params "
   ]
  },
  {
   "cell_type": "code",
   "execution_count": 6,
   "id": "370c6a61",
   "metadata": {},
   "outputs": [],
   "source": [
    "inject_particles = True\n",
    "\n",
    "if(inject_particles):\n",
    "    in_wall = segments[idx_in_wall]\n",
    "    in_vect = np.array([a[idx_in_wall,1], -a[idx_in_wall,0]])\n",
    "    \n",
    "    # for the injection\n",
    "    vel_std = ld.utils.physics.gaussian(temperature, mass)\n"
   ]
  },
  {
   "cell_type": "markdown",
   "id": "3d8b7a30",
   "metadata": {},
   "source": [
    "## Simulation parameters"
   ]
  },
  {
   "cell_type": "code",
   "execution_count": 7,
   "id": "34061913",
   "metadata": {},
   "outputs": [],
   "source": [
    "# Simulation params\n",
    "iterations = int(1e4)\n",
    "dt = 1e-7 # in sec.\n",
    "\n",
    "# saving params \n",
    "saving_period = 100 # when do we save various data (see the simulation algo)\n",
    "adding_period = 1 # when to we add to the dataframe that contains the particles position and velocity\n",
    "\n",
    "# advection function - returns a 2D arrays containing the acceleration for each of the given particle\n",
    "    # here arr is a N x 5 array. N particles, and for each one : x, y, vx, vy, vz is stored.\n",
    "    \n",
    "def f(arr, t, m, q, electric_field):\n",
    "    der = np.zeros((arr.shape[0], 5))\n",
    "    fact  = m/q\n",
    "    for k, part in enumerate(arr):\n",
    "        try:\n",
    "            der[k,2:4] =  fact * electric_field(part[:2])\n",
    "        except Exception as e:\n",
    "            der[k,2:4] = 0.\n",
    "    der[:,:2] = arr[:,2:4]\n",
    "    return der\n",
    "\n",
    "# args is given to euler_explicit and then given to *f* (the advection function) in addition to arr and dt.\n",
    "# in our case, it is not needed. However, we could imagine a system with an electric field computed at the setup phase, \n",
    "# and we would like to give it as an args.\n",
    "args = [mass, charge, electric_field]\n",
    "scheme = ld.utils.schemes.rk4"
   ]
  },
  {
   "cell_type": "markdown",
   "id": "a88d3d6a",
   "metadata": {},
   "source": [
    "## Summing-up and plotting"
   ]
  },
  {
   "cell_type": "code",
   "execution_count": 8,
   "id": "fad5125a",
   "metadata": {},
   "outputs": [
    {
     "name": "stdout",
     "output_type": "stream",
     "text": [
      "Initializing a system of type thruster, of shape [0.016 0.005].\n",
      "The number of particles (type I-) in the system is 0.\n",
      "Mean free path : 14.067442439954778 m ; Mean free time : 0.007057803145630173 m\n",
      "The simulation lasts 10000 iterations, with a time step of 1e-07 s. Simulation duration : 0.001 s\n",
      "Disk space usage for saving this simulation (counting ONLY the particles positions and speed) and considering that we save 1000 particles each time is 190.73486328125 MB.\n"
     ]
    }
   ],
   "source": [
    "print(f'Initializing a system of type {system_type}, of shape {system_shape}.')\n",
    "print(f'The number of particles (type {part_type}) in the system is {container.get_current()}.')\n",
    "print(f'Mean free path : {mfp} m ; Mean free time : {mft} m')\n",
    "print(f'The simulation lasts {iterations} iterations, with a time step of {dt} s. Simulation duration : {dt*iterations} s')\n",
    "# Note:  HDF5 uses a different format than csv, and the size on the disk is much different that what is expected. Check out : https://support.hdfgroup.org/HDF5/doc/H5.intro.html\n",
    "# Here, you can at least multiply by 4 the size (considering we save much more than )\n",
    "print(f'Disk space usage for saving this simulation (counting ONLY the particles positions and speed) and considering that we save {size_array} particles each time is {iterations//adding_period*size_array*(5*4)/1024**2} MB.') "
   ]
  },
  {
   "cell_type": "markdown",
   "id": "514540a8",
   "metadata": {},
   "source": [
    "# Saving directory and name"
   ]
  },
  {
   "cell_type": "code",
   "execution_count": 9,
   "id": "8aa8d4a0",
   "metadata": {},
   "outputs": [],
   "source": [
    "# which directory is used to save the data\n",
    "# and under what name.\n",
    "dir_path = Path('results/')\n",
    "name = 'pusher_poisson.h5' \n",
    "\n",
    "saver = ld.data.saver.Saver(dir_path, name)"
   ]
  },
  {
   "cell_type": "markdown",
   "id": "2d7241c3",
   "metadata": {},
   "source": [
    "# Simulation\n",
    "\n",
    "The next cell takes care of the simulation. It algo gives you an idea of the evolution of the number of particles in the system and of its very general state.\n",
    "\n",
    "At the end, the *saver* which saves the data is closed and you can then analyse your simulation using *analysis.ipynb*."
   ]
  },
  {
   "cell_type": "code",
   "execution_count": 10,
   "id": "76911f56",
   "metadata": {},
   "outputs": [
    {
     "name": "stdout",
     "output_type": "stream",
     "text": [
      "|    it    |   INIT   |   DEL    |\n",
      "----------------------------------\n",
      "|   100    |   867    |    1     |\n",
      "|   200    |   644    |    0     |\n",
      "|   300    |   499    |    1     |\n",
      "|   400    |   411    |    2     |\n",
      "|   500    |   336    |    0     |\n",
      "|   600    |   284    |    1     |\n",
      "|   700    |   247    |    0     |\n",
      "|   800    |   215    |    0     |\n",
      "|   900    |   199    |    0     |\n",
      "|   1000   |   179    |    0     |\n",
      "|   1100   |   164    |    0     |\n",
      "|   1200   |   151    |    1     |\n",
      "|   1300   |   137    |    0     |\n",
      "|   1400   |   121    |    0     |\n",
      "|   1500   |   112    |    0     |\n",
      "|   1600   |   105    |    0     |\n",
      "|   1700   |    99    |    0     |\n",
      "|   1800   |    93    |    0     |\n",
      "|   1900   |    88    |    0     |\n",
      "|   2000   |    84    |    0     |\n",
      "|   2100   |    81    |    0     |\n",
      "|   2200   |    78    |    0     |\n",
      "|   2300   |    73    |    0     |\n",
      "|   2400   |    66    |    0     |\n",
      "|   2500   |    63    |    0     |\n",
      "|   2600   |    61    |    0     |\n",
      "|   2700   |    58    |    0     |\n",
      "|   2800   |    58    |    0     |\n",
      "|   2900   |    56    |    0     |\n",
      "|   3000   |    55    |    0     |\n",
      "|   3100   |    54    |    0     |\n",
      "|   3200   |    53    |    0     |\n",
      "|   3300   |    50    |    0     |\n",
      "|   3400   |    49    |    0     |\n",
      "|   3500   |    48    |    0     |\n",
      "|   3600   |    48    |    0     |\n",
      "|   3700   |    46    |    0     |\n",
      "|   3800   |    45    |    0     |\n",
      "|   3900   |    45    |    0     |\n",
      "|   4000   |    45    |    0     |\n",
      "|   4100   |    45    |    0     |\n",
      "|   4200   |    43    |    0     |\n",
      "|   4300   |    43    |    0     |\n",
      "|   4400   |    43    |    0     |\n",
      "|   4500   |    43    |    0     |\n",
      "|   4600   |    43    |    0     |\n",
      "|   4700   |    42    |    0     |\n",
      "|   4800   |    42    |    0     |\n",
      "|   4900   |    42    |    0     |\n",
      "|   5000   |    42    |    0     |\n",
      "|   5100   |    40    |    0     |\n",
      "|   5200   |    40    |    0     |\n",
      "|   5300   |    40    |    0     |\n",
      "|   5400   |    40    |    0     |\n",
      "|   5500   |    39    |    0     |\n",
      "|   5600   |    39    |    0     |\n",
      "|   5700   |    38    |    0     |\n",
      "|   5800   |    37    |    0     |\n",
      "|   5900   |    35    |    0     |\n",
      "|   6000   |    35    |    0     |\n",
      "|   6100   |    34    |    0     |\n",
      "|   6200   |    33    |    0     |\n",
      "|   6300   |    32    |    0     |\n",
      "|   6400   |    32    |    0     |\n",
      "|   6500   |    32    |    0     |\n",
      "|   6600   |    31    |    0     |\n",
      "|   6700   |    31    |    0     |\n",
      "|   6800   |    30    |    0     |\n",
      "|   6900   |    30    |    0     |\n",
      "|   7000   |    30    |    0     |\n",
      "|   7100   |    30    |    0     |\n",
      "|   7200   |    30    |    0     |\n",
      "|   7300   |    30    |    0     |\n",
      "|   7400   |    30    |    0     |\n",
      "|   7500   |    30    |    0     |\n",
      "|   7600   |    30    |    0     |\n",
      "|   7700   |    30    |    0     |\n",
      "|   7800   |    30    |    0     |\n",
      "|   7900   |    30    |    0     |\n",
      "|   8000   |    30    |    0     |\n",
      "|   8100   |    30    |    0     |\n",
      "|   8200   |    30    |    0     |\n",
      "|   8300   |    30    |    0     |\n",
      "|   8400   |    30    |    0     |\n",
      "|   8500   |    30    |    0     |\n",
      "|   8600   |    30    |    0     |\n",
      "|   8700   |    30    |    0     |\n",
      "|   8800   |    29    |    0     |\n",
      "|   8900   |    29    |    0     |\n",
      "|   9000   |    28    |    0     |\n",
      "|   9100   |    28    |    0     |\n",
      "|   9200   |    28    |    0     |\n",
      "|   9300   |    28    |    0     |\n",
      "|   9400   |    28    |    0     |\n",
      "|   9500   |    28    |    0     |\n",
      "|   9600   |    27    |    0     |\n",
      "|   9700   |    27    |    0     |\n",
      "|   9800   |    26    |    0     |\n",
      "|   9900   |    26    |    0     |\n",
      "|   9999   |    25    |    0     |\n",
      "|  10000   |    25    |    0     |\n"
     ]
    }
   ],
   "source": [
    "df = pd.DataFrame(columns = ['x','y','vx','vy','vz']) # bucket for the particles - index of particles is the iteration number\n",
    "tracking_out = pd.Series(dtype = int)\n",
    "tracking_collisions = pd.Series(dtype = int)\n",
    "# ------------------------- INJECTING PARTICLES ------------------------- \n",
    "remains = 0\n",
    "debit = size_array/dt\n",
    "new, remains = ld.injection.maxwellian(in_wall, in_vect, debit, vel_std, dt, remains) # injecting directly 1000 particles\n",
    "container.add_multiple(new)\n",
    "\n",
    "# SIMULATING\n",
    "print('|{:^10}|{:^10}|{:^10}|'.format(' it ', ' INIT ', 'DEL '))\n",
    "print('{:-^34}'.format(''))\n",
    "\n",
    "t = 0.\n",
    "for it in range(1,iterations+1): # tqdm\n",
    "    n1 = container.get_current()\n",
    " \n",
    "    # ---------------------------- PHASE : ADVECTING --------------------\n",
    "        # MOVING PARTICLES\n",
    "    arr = container.get_array()\n",
    "        \n",
    "    ld.advection.advect(arr, f, dt, t, args, scheme) # advect is inplace\n",
    "    \n",
    "        # HANDLING BOUNDARIES \n",
    "    count = np.full(fill_value = True, shape = arr.shape[0])\n",
    "    idxes_out = []\n",
    "    c = 0\n",
    "    collisions_with_walls = 0\n",
    "    while(np.count_nonzero(count) > 0):  # np.sum(count, where = count == True) - does not work in python 3.7\n",
    "        c+=1\n",
    "        ct, cp = ld.advection.wall_collision.handler_wall_collision_point(arr[count], segments, a) # handler_wall_collision(arr[count], segments, a, radius)\n",
    "        count, idxes_out_ = ld.advection.wall_collision.make_collisions_out_walls(arr, a, ct, cp, idx_out_walls, count) # idxes_out : indexes of the particles (in arr) that got out of the system\n",
    "        idxes_out.append(idxes_out_)\n",
    "        \n",
    "        # the first one that is received is the number of particles colliding with walls.\n",
    "        if(c == 1):\n",
    "            collisions_with_walls = np.count_nonzero(count)\n",
    "    \n",
    "    idxes_out = np.sort(np.concatenate(idxes_out))\n",
    "    container.delete_multiple(idxes_out)\n",
    "\n",
    "    t += dt\n",
    "    \n",
    "    # ----------------------------- PLOTTING AND SAVING (OPTIONAL) ----------------------------- \n",
    "    if(it%adding_period == 0 or it == iterations-1):\n",
    "        df = df.append(pd.DataFrame(data=arr, index=[it]*arr.shape[0], columns = ['x','y','vx','vy','vz']))\n",
    "        tracking_out.loc[it] = len(idxes_out)\n",
    "        tracking_collisions.loc[it] = collisions_with_walls\n",
    "    if(it%saving_period == 0 or it == iterations-1): # saving if last iteration too\n",
    "        saver.save(it = it, append = {\n",
    "                        'df' : df,\n",
    "                        'total_deleted' : tracking_out, # evolution of the number of deleted particles per cell (int)\n",
    "                        'collisions_with_walls' : tracking_collisions, # number of collisions with walls - evolution\n",
    "                  })\n",
    "        \n",
    "        # resetting dataframe to not use too much memory\n",
    "        df = pd.DataFrame(columns = ['x','y','vx','vy','vz'])\n",
    "        print('|{:^10}|{:^10}|{:^10}|'.format(it, n1, idxes_out.shape[0]))\n",
    "    \n",
    "    if(container.get_current()==0):\n",
    "        print('All particles got out.')\n",
    "        break\n",
    "        \n",
    "saver.close()"
   ]
  }
 ],
 "metadata": {
  "kernelspec": {
   "display_name": "Python 3",
   "language": "python",
   "name": "python3"
  },
  "language_info": {
   "codemirror_mode": {
    "name": "ipython",
    "version": 3
   },
   "file_extension": ".py",
   "mimetype": "text/x-python",
   "name": "python",
   "nbconvert_exporter": "python",
   "pygments_lexer": "ipython3",
   "version": "3.7.10"
  }
 },
 "nbformat": 4,
 "nbformat_minor": 5
}
