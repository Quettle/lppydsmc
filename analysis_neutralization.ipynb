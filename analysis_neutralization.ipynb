{
 "cells": [
  {
   "cell_type": "markdown",
   "id": "2292864b",
   "metadata": {},
   "source": [
    "## Note : \n",
    "Mean free path : $\\lambda = \\frac{1}{n \\sigma}$\n",
    "\n",
    "If $n \\rightarrow 100 \\times n$, then :\n",
    "- $\\lambda \\rightarrow \\frac{\\lambda}{100}$\n",
    "- $\\text{cell size} \\rightarrow \\frac{\\text{cell size}}{100}$ ($100^2$ more cells because the grid is 2D)\n",
    "- $dt \\rightarrow \\frac{dt}{100}$\n",
    "\n",
    "But you can lower, down to a certain extent, the number of particles per cell to \"not incease too much the computation time\"."
   ]
  },
  {
   "cell_type": "markdown",
   "id": "8674e7ec",
   "metadata": {},
   "source": [
    "## Representative physical length scale\n",
    "\n",
    "The system has two lenghts : \n",
    "* lenght of the tube : $L = 0.01$ $m$\n",
    "* width : $w = 0.001$ $m$\n",
    "\n",
    "The width is the representative physical length scale that constrains the flow.\n",
    "\n",
    "So : $K_d = \\frac{\\lambda}{w}$.\n",
    "\n",
    "\n"
   ]
  },
  {
   "cell_type": "markdown",
   "id": "0f2b1686",
   "metadata": {},
   "source": [
    "# ISP, thrust etc."
   ]
  },
  {
   "cell_type": "code",
   "execution_count": 222,
   "id": "9c938cf3",
   "metadata": {},
   "outputs": [],
   "source": [
    "def isp(ve):\n",
    "    return ve/9.81\n",
    "\n",
    "def thrust(mass, speeds, dt):\n",
    "    return mass*np.sum(speeds)/dt"
   ]
  },
  {
   "cell_type": "code",
   "execution_count": 1,
   "id": "334cfa94",
   "metadata": {},
   "outputs": [
    {
     "data": {
      "text/html": [
       "<style>.container { width:100% !important; }</style>"
      ],
      "text/plain": [
       "<IPython.core.display.HTML object>"
      ]
     },
     "metadata": {},
     "output_type": "display_data"
    }
   ],
   "source": [
    "\n",
    "from IPython.core.display import display, HTML\n",
    "display(HTML(\"<style>.container { width:100% !important; }</style>\"))"
   ]
  },
  {
   "cell_type": "code",
   "execution_count": 1,
   "id": "71b6d621",
   "metadata": {
    "slideshow": {
     "slide_type": "slide"
    }
   },
   "outputs": [],
   "source": [
    "%matplotlib widget\n",
    "\n",
    "# notebook\n",
    "import pandas as pd\n",
    "import numpy as np\n",
    "import matplotlib.pyplot as plt\n",
    "import scipy as scipy\n",
    "from pathlib import Path\n",
    "import seaborn as sns\n",
    "\n",
    "from lppydsmc.data.saver import Saver\n",
    "from plotting import analysis\n",
    "from lppydsmc.utils import physics\n",
    "\n",
    "# plt.figure.max_open_warning = False"
   ]
  },
  {
   "cell_type": "markdown",
   "id": "dd77c5cf",
   "metadata": {},
   "source": [
    "## Loading results"
   ]
  },
  {
   "cell_type": "code",
   "execution_count": 2,
   "id": "3d32caa3",
   "metadata": {
    "slideshow": {
     "slide_type": "slide"
    }
   },
   "outputs": [],
   "source": [
    "dir_path = Path('results/')\n",
    "dz = 0.001"
   ]
  },
  {
   "cell_type": "code",
   "execution_count": 3,
   "id": "637957e7",
   "metadata": {
    "slideshow": {
     "slide_type": "subslide"
    }
   },
   "outputs": [],
   "source": [
    "dt = 1e-8\n",
    "mr = 1\n",
    "name = 'neutralization_three_grids.h5'\n",
    "lenght = 0.011 # m\n",
    "width = 0.005\n",
    "cell_size = 0.001\n",
    "temperature = 23e3 # K\n",
    "nb_cells = 41 # 33\n",
    "volume = cell_size*cell_size*dz*nb_cells\n",
    "\n",
    "nb_injected_particles = 10000"
   ]
  },
  {
   "cell_type": "code",
   "execution_count": 4,
   "id": "9b97e8f3",
   "metadata": {},
   "outputs": [],
   "source": [
    "store = pd.HDFStore(dir_path/name)"
   ]
  },
  {
   "cell_type": "code",
   "execution_count": 5,
   "id": "3cb5a06d",
   "metadata": {},
   "outputs": [
    {
     "data": {
      "text/plain": [
       "['/collisions_with_walls',\n",
       " '/df',\n",
       " '/df_collision_background_gas',\n",
       " '/df_collision_with_walls',\n",
       " '/df_out_particles',\n",
       " '/mean_proba_gas',\n",
       " '/mean_proba_walls',\n",
       " '/total_deleted']"
      ]
     },
     "execution_count": 5,
     "metadata": {},
     "output_type": "execute_result"
    }
   ],
   "source": [
    "store.keys()"
   ]
  },
  {
   "cell_type": "code",
   "execution_count": 6,
   "id": "02437b80",
   "metadata": {},
   "outputs": [],
   "source": [
    "# defining each variable\n",
    "df = store['df']\n",
    "df_out_particles = store['df_out_particles']\n",
    "df_collision_background_gas = store['df_collision_background_gas']\n",
    "df_collision_with_walls = store['df_collision_with_walls']\n",
    "total_deleted = store['total_deleted']\n",
    "collisions_with_walls = store['collisions_with_walls']\n",
    "mean_proba_walls = store['mean_proba_walls']\n",
    "mean_proba_gas = store['mean_proba_gas']"
   ]
  },
  {
   "cell_type": "code",
   "execution_count": 7,
   "id": "272f0f17",
   "metadata": {},
   "outputs": [],
   "source": [
    "choice = 'I'\n",
    "gamma = 5/3. # roughly for atomes, for diatomic molecule : 7/5.\n",
    "\n",
    "\n",
    "mass = physics.get_mass_part(53+1, 53, 74) # I\n",
    "molecular_mass = 0.1269 # kg/mol\n",
    "\n",
    "verbose=False"
   ]
  },
  {
   "cell_type": "code",
   "execution_count": 8,
   "id": "17cbe022",
   "metadata": {},
   "outputs": [
    {
     "name": "stdout",
     "output_type": "stream",
     "text": [
      "Speed of sound for [I] at temperature 23000.0 K : 1584.7563179678798 m/s\n"
     ]
    }
   ],
   "source": [
    "sound_vel = physics.speed_of_sound(molecular_mass, temperature, gamma)\n",
    "print(f'Speed of sound for [{choice}] at temperature {temperature} K : {sound_vel} m/s')"
   ]
  },
  {
   "cell_type": "markdown",
   "id": "ffe8ae01",
   "metadata": {},
   "source": [
    "## Note : \n",
    "To save a figure, you can use : `analysis.save_fig(fig, path, title = None, dpi = 400, figsize = None)`, which allows you to easily save a figure while giving it a title and changing its size.\n",
    "You can also use the interactive widget."
   ]
  },
  {
   "cell_type": "markdown",
   "id": "bf70d067",
   "metadata": {},
   "source": [
    "## Choosing the part of the system to plot "
   ]
  },
  {
   "cell_type": "code",
   "execution_count": 9,
   "id": "a6f7428a",
   "metadata": {},
   "outputs": [],
   "source": [
    "\n",
    "res_x_0, res_y_0 = 11, 5\n",
    "\n",
    "total_nb_cells = res_x_0*res_y_0"
   ]
  },
  {
   "cell_type": "code",
   "execution_count": 10,
   "id": "3b3f4555",
   "metadata": {},
   "outputs": [
    {
     "data": {
      "application/vnd.jupyter.widget-view+json": {
       "model_id": "1af698cb3cbc4a4f882d4c27ad954d78",
       "version_major": 2,
       "version_minor": 0
      },
      "text/plain": [
       "Canvas(toolbar=Toolbar(toolitems=[('Home', 'Reset original view', 'home', 'home'), ('Back', 'Back to previous …"
      ]
     },
     "metadata": {},
     "output_type": "display_data"
    }
   ],
   "source": [
    "fig, ax = plt.subplots(1, constrained_layout = True, figsize = (res_x_0, res_y_0));\n",
    "\n",
    "fact = 10\n",
    "volume_cell_plot = volume/(fact*fact*res_x_0*res_y_0)\n",
    "duration = df.index.unique().values.shape[0]\n",
    "analysis.hist2d(ax, df, bins = (fact*res_x_0,fact*res_y_0), weights = mr*np.ones(df.shape[0])/(duration*volume_cell_plot), stat = 'count'); # TODO: add cmap"
   ]
  },
  {
   "cell_type": "markdown",
   "id": "dd05cd9c",
   "metadata": {},
   "source": [
    "## Choosing frames to plot"
   ]
  },
  {
   "cell_type": "code",
   "execution_count": 11,
   "id": "c460d1c0",
   "metadata": {},
   "outputs": [],
   "source": [
    "unique_index = df.index.unique().values\n",
    "nb_save = unique_index.shape[0]\n",
    "iterations = np.max(unique_index)\n",
    "adding_period = unique_index[1]-unique_index[0] # adding period - required to\n",
    "# generally speaking, you choose frames so you have the steady state\n",
    "frames = unique_index[int(0.0*nb_save):nb_save] \n",
    "\n",
    "if(verbose):\n",
    "    print(f'Available frames :  {unique_index}')\n",
    "    print(f'Max iteration : {iterations}')\n",
    "    print(f'Choosen frames (for plotting) : \\n{frames}')"
   ]
  },
  {
   "cell_type": "markdown",
   "id": "37c37105",
   "metadata": {},
   "source": [
    "## Proba evolution"
   ]
  },
  {
   "cell_type": "code",
   "execution_count": 12,
   "id": "3fb56cbf",
   "metadata": {},
   "outputs": [
    {
     "data": {
      "application/vnd.jupyter.widget-view+json": {
       "model_id": "e8e6669ebcf74599b7ec9f64d07474af",
       "version_major": 2,
       "version_minor": 0
      },
      "text/plain": [
       "Canvas(toolbar=Toolbar(toolitems=[('Home', 'Reset original view', 'home', 'home'), ('Back', 'Back to previous …"
      ]
     },
     "metadata": {},
     "output_type": "display_data"
    }
   ],
   "source": [
    "fig, ax = plt.subplots(2)\n",
    "# ax.set_yscale('log')\n",
    "ax[0].plot(mean_proba_gas.index*dt, mean_proba_gas.values, label = 'gas')\n",
    "ax[1].plot(mean_proba_walls.index*dt, mean_proba_walls.values, label = 'walls');\n",
    "ax[0].legend();\n",
    "ax[1].legend();"
   ]
  },
  {
   "cell_type": "markdown",
   "id": "5171716f",
   "metadata": {},
   "source": [
    "## Out particles analysis"
   ]
  },
  {
   "cell_type": "code",
   "execution_count": 13,
   "id": "14e295bb",
   "metadata": {},
   "outputs": [
    {
     "data": {
      "text/html": [
       "<div>\n",
       "<style scoped>\n",
       "    .dataframe tbody tr th:only-of-type {\n",
       "        vertical-align: middle;\n",
       "    }\n",
       "\n",
       "    .dataframe tbody tr th {\n",
       "        vertical-align: top;\n",
       "    }\n",
       "\n",
       "    .dataframe thead th {\n",
       "        text-align: right;\n",
       "    }\n",
       "</style>\n",
       "<table border=\"1\" class=\"dataframe\">\n",
       "  <thead>\n",
       "    <tr style=\"text-align: right;\">\n",
       "      <th></th>\n",
       "      <th>x</th>\n",
       "      <th>y</th>\n",
       "      <th>vx</th>\n",
       "      <th>vy</th>\n",
       "      <th>vz</th>\n",
       "      <th>type</th>\n",
       "    </tr>\n",
       "  </thead>\n",
       "  <tbody>\n",
       "    <tr>\n",
       "      <th>125</th>\n",
       "      <td>0.020101</td>\n",
       "      <td>0.002473</td>\n",
       "      <td>20563.186640</td>\n",
       "      <td>1294.760448</td>\n",
       "      <td>537.412261</td>\n",
       "      <td>1.0</td>\n",
       "    </tr>\n",
       "    <tr>\n",
       "      <th>125</th>\n",
       "      <td>0.020138</td>\n",
       "      <td>0.002488</td>\n",
       "      <td>20551.768006</td>\n",
       "      <td>1660.378031</td>\n",
       "      <td>1812.953222</td>\n",
       "      <td>1.0</td>\n",
       "    </tr>\n",
       "    <tr>\n",
       "      <th>126</th>\n",
       "      <td>0.020118</td>\n",
       "      <td>0.002502</td>\n",
       "      <td>20497.690301</td>\n",
       "      <td>-1987.745745</td>\n",
       "      <td>978.788179</td>\n",
       "      <td>1.0</td>\n",
       "    </tr>\n",
       "    <tr>\n",
       "      <th>126</th>\n",
       "      <td>0.020195</td>\n",
       "      <td>0.002276</td>\n",
       "      <td>20511.435264</td>\n",
       "      <td>640.466067</td>\n",
       "      <td>60.388648</td>\n",
       "      <td>1.0</td>\n",
       "    </tr>\n",
       "    <tr>\n",
       "      <th>126</th>\n",
       "      <td>0.020129</td>\n",
       "      <td>0.003092</td>\n",
       "      <td>21576.989096</td>\n",
       "      <td>886.679168</td>\n",
       "      <td>-966.083596</td>\n",
       "      <td>1.0</td>\n",
       "    </tr>\n",
       "  </tbody>\n",
       "</table>\n",
       "</div>"
      ],
      "text/plain": [
       "            x         y            vx           vy           vz  type\n",
       "125  0.020101  0.002473  20563.186640  1294.760448   537.412261   1.0\n",
       "125  0.020138  0.002488  20551.768006  1660.378031  1812.953222   1.0\n",
       "126  0.020118  0.002502  20497.690301 -1987.745745   978.788179   1.0\n",
       "126  0.020195  0.002276  20511.435264   640.466067    60.388648   1.0\n",
       "126  0.020129  0.003092  21576.989096   886.679168  -966.083596   1.0"
      ]
     },
     "execution_count": 13,
     "metadata": {},
     "output_type": "execute_result"
    }
   ],
   "source": [
    "df_out_particles.head()"
   ]
  },
  {
   "cell_type": "code",
   "execution_count": 14,
   "id": "a14be5cb",
   "metadata": {},
   "outputs": [
    {
     "name": "stdout",
     "output_type": "stream",
     "text": [
      "8746\n"
     ]
    }
   ],
   "source": [
    "print(df_out_particles.shape[0])"
   ]
  },
  {
   "cell_type": "code",
   "execution_count": 15,
   "id": "e619555d",
   "metadata": {},
   "outputs": [],
   "source": [
    "def convert_to_species(row):\n",
    "    if(row['type'] == 0):\n",
    "        return 'I-'\n",
    "    else :\n",
    "        return 'I'"
   ]
  },
  {
   "cell_type": "code",
   "execution_count": 16,
   "id": "358b8393",
   "metadata": {},
   "outputs": [],
   "source": [
    "df_out_particles['species'] = df_out_particles.apply(convert_to_species, axis = 1)"
   ]
  },
  {
   "cell_type": "code",
   "execution_count": 17,
   "id": "31449af6",
   "metadata": {},
   "outputs": [],
   "source": [
    "df_out_particles['v'] = np.sqrt(df_out_particles['vx']**2+df_out_particles['vy']**2+df_out_particles['vz']**2)\n",
    "df_out_particles['energy'] = df_out_particles['v']**2\n",
    "df_out_particles['angle'] = np.arctan(df_out_particles['vy']/df_out_particles['vx'])"
   ]
  },
  {
   "cell_type": "code",
   "execution_count": 18,
   "id": "bdde47ae",
   "metadata": {},
   "outputs": [],
   "source": [
    "ions_out = df_out_particles.loc[df_out_particles['type'] == 0]\n",
    "neutral_out =  df_out_particles.loc[df_out_particles['type'] == 1]"
   ]
  },
  {
   "cell_type": "code",
   "execution_count": 19,
   "id": "cae704a2",
   "metadata": {},
   "outputs": [
    {
     "name": "stdout",
     "output_type": "stream",
     "text": [
      "Out particles neutralization percentage : 99.0 %\n"
     ]
    }
   ],
   "source": [
    "results = df_out_particles[['type', 'x']].groupby('type').count();\n",
    "print('Out particles neutralization percentage : {:.3} %'.format(100*results.iloc[1,0]/(results.iloc[1,0]+results.iloc[0,0])))"
   ]
  },
  {
   "cell_type": "code",
   "execution_count": 20,
   "id": "729f40ba",
   "metadata": {},
   "outputs": [
    {
     "data": {
      "text/html": [
       "<div>\n",
       "<style scoped>\n",
       "    .dataframe tbody tr th:only-of-type {\n",
       "        vertical-align: middle;\n",
       "    }\n",
       "\n",
       "    .dataframe tbody tr th {\n",
       "        vertical-align: top;\n",
       "    }\n",
       "\n",
       "    .dataframe thead th {\n",
       "        text-align: right;\n",
       "    }\n",
       "</style>\n",
       "<table border=\"1\" class=\"dataframe\">\n",
       "  <thead>\n",
       "    <tr style=\"text-align: right;\">\n",
       "      <th></th>\n",
       "      <th>vx</th>\n",
       "      <th>vy</th>\n",
       "      <th>vz</th>\n",
       "      <th>v</th>\n",
       "      <th>energy</th>\n",
       "    </tr>\n",
       "    <tr>\n",
       "      <th>species</th>\n",
       "      <th></th>\n",
       "      <th></th>\n",
       "      <th></th>\n",
       "      <th></th>\n",
       "      <th></th>\n",
       "    </tr>\n",
       "  </thead>\n",
       "  <tbody>\n",
       "    <tr>\n",
       "      <th>I</th>\n",
       "      <td>13640.917390</td>\n",
       "      <td>-31.985067</td>\n",
       "      <td>-15.300679</td>\n",
       "      <td>14123.159969</td>\n",
       "      <td>2.436893e+08</td>\n",
       "    </tr>\n",
       "    <tr>\n",
       "      <th>I-</th>\n",
       "      <td>1575.188432</td>\n",
       "      <td>89.263011</td>\n",
       "      <td>-156.692030</td>\n",
       "      <td>2065.558824</td>\n",
       "      <td>4.875298e+06</td>\n",
       "    </tr>\n",
       "  </tbody>\n",
       "</table>\n",
       "</div>"
      ],
      "text/plain": [
       "                   vx         vy          vz             v        energy\n",
       "species                                                                 \n",
       "I        13640.917390 -31.985067  -15.300679  14123.159969  2.436893e+08\n",
       "I-        1575.188432  89.263011 -156.692030   2065.558824  4.875298e+06"
      ]
     },
     "execution_count": 20,
     "metadata": {},
     "output_type": "execute_result"
    }
   ],
   "source": [
    "vel_results = df_out_particles[['species', 'vx', 'vy', 'vz', 'v','energy']].groupby('species').agg('mean');\n",
    "vel_results"
   ]
  },
  {
   "cell_type": "code",
   "execution_count": 21,
   "id": "688224fb",
   "metadata": {},
   "outputs": [
    {
     "data": {
      "application/vnd.jupyter.widget-view+json": {
       "model_id": "109bcc00b2e84816a75b7863ea25645e",
       "version_major": 2,
       "version_minor": 0
      },
      "text/plain": [
       "Canvas(toolbar=Toolbar(toolitems=[('Home', 'Reset original view', 'home', 'home'), ('Back', 'Back to previous …"
      ]
     },
     "metadata": {},
     "output_type": "display_data"
    }
   ],
   "source": [
    "fig, ax = plt.subplots()\n",
    "sns.despine(fig)\n",
    "\n",
    "sns.histplot(\n",
    "    df_out_particles,\n",
    "    x=\"vx\", hue=\"species\",\n",
    "    bins = 100,\n",
    "    multiple=\"stack\",\n",
    "    palette=\"light:m_r\",\n",
    "    edgecolor=\".3\",\n",
    "    linewidth=.5,\n",
    "    log_scale=False,\n",
    ");"
   ]
  },
  {
   "cell_type": "code",
   "execution_count": 22,
   "id": "819f4d6f",
   "metadata": {},
   "outputs": [
    {
     "data": {
      "application/vnd.jupyter.widget-view+json": {
       "model_id": "2bb07a13fd2b4f10b5c559a4d7581516",
       "version_major": 2,
       "version_minor": 0
      },
      "text/plain": [
       "Canvas(toolbar=Toolbar(toolitems=[('Home', 'Reset original view', 'home', 'home'), ('Back', 'Back to previous …"
      ]
     },
     "metadata": {},
     "output_type": "display_data"
    }
   ],
   "source": [
    "fig, ax = plt.subplots()\n",
    "sns.despine(fig)\n",
    "\n",
    "sns.histplot(\n",
    "    df_out_particles,\n",
    "    # bins = 100,\n",
    "    x=\"angle\", hue=\"species\",\n",
    "    multiple=\"stack\",\n",
    "    palette=\"light:m_r\",\n",
    "    edgecolor=\".3\",\n",
    "    linewidth=.5,\n",
    "    log_scale=False,\n",
    ");\n",
    "ax.set_xticks([-np.pi/4, -np.pi/2, 0, np.pi/2, np.pi/4]);\n",
    "# ax.set_xticklabels(['$-\\frac{pi}{4}$', '$-\\frac{pi}{8}$', '0', '$\\frac{pi}{8}$', '$\\frac{pi}{4}$']);"
   ]
  },
  {
   "cell_type": "markdown",
   "id": "6b5761d1-6338-4eef-a348-063187ceabdb",
   "metadata": {},
   "source": [
    "### Thrust due to ions"
   ]
  },
  {
   "cell_type": "code",
   "execution_count": 23,
   "id": "b8f5d3a0-beb6-4ffe-bf0d-ac8ac40f8d3f",
   "metadata": {},
   "outputs": [
    {
     "name": "stdout",
     "output_type": "stream",
     "text": [
      "Mean speed out : 1.182e+04 m/s.\n"
     ]
    }
   ],
   "source": [
    "print('Mean speed out : {:.3e} m/s.'.format(df_out_particles.sum()['vx']/nb_injected_particles))"
   ]
  },
  {
   "cell_type": "code",
   "execution_count": 223,
   "id": "4a17ab79",
   "metadata": {},
   "outputs": [
    {
     "name": "stdout",
     "output_type": "stream",
     "text": [
      "Thrust : 5.022e-07 N\n"
     ]
    }
   ],
   "source": [
    "debit = 2e14\n",
    "delta_time =  1/debit # sec\n",
    "mean_speed = df_out_particles.sum()['vx']/nb_injected_particles\n",
    "\n",
    "print('Thrust : {:.3e} N'.format(mean_speed*mass/delta_time))"
   ]
  },
  {
   "cell_type": "code",
   "execution_count": 224,
   "id": "7a98fe2b",
   "metadata": {},
   "outputs": [
    {
     "name": "stdout",
     "output_type": "stream",
     "text": [
      "Isp : 1.205e+03 s-1\n"
     ]
    }
   ],
   "source": [
    "print('Isp : {:.3e} s-1'.format(mean_speed/9.81))"
   ]
  },
  {
   "cell_type": "markdown",
   "id": "de887451",
   "metadata": {},
   "source": [
    "## df_collision_background_gas"
   ]
  },
  {
   "cell_type": "code",
   "execution_count": 24,
   "id": "234a67c5",
   "metadata": {},
   "outputs": [],
   "source": [
    "df_collision_background_gas['species'] = df_collision_background_gas.apply(convert_to_species, axis = 1)"
   ]
  },
  {
   "cell_type": "code",
   "execution_count": 25,
   "id": "82ec00a5",
   "metadata": {},
   "outputs": [
    {
     "name": "stdout",
     "output_type": "stream",
     "text": [
      "Number of collisions with background gas : 5575\n"
     ]
    },
    {
     "data": {
      "text/html": [
       "<div>\n",
       "<style scoped>\n",
       "    .dataframe tbody tr th:only-of-type {\n",
       "        vertical-align: middle;\n",
       "    }\n",
       "\n",
       "    .dataframe tbody tr th {\n",
       "        vertical-align: top;\n",
       "    }\n",
       "\n",
       "    .dataframe thead th {\n",
       "        text-align: right;\n",
       "    }\n",
       "</style>\n",
       "<table border=\"1\" class=\"dataframe\">\n",
       "  <thead>\n",
       "    <tr style=\"text-align: right;\">\n",
       "      <th></th>\n",
       "      <th>x</th>\n",
       "      <th>y</th>\n",
       "      <th>type</th>\n",
       "      <th>species</th>\n",
       "    </tr>\n",
       "  </thead>\n",
       "  <tbody>\n",
       "    <tr>\n",
       "      <th>1</th>\n",
       "      <td>0.000054</td>\n",
       "      <td>0.003384</td>\n",
       "      <td>0.0</td>\n",
       "      <td>I-</td>\n",
       "    </tr>\n",
       "    <tr>\n",
       "      <th>1</th>\n",
       "      <td>0.000029</td>\n",
       "      <td>0.004883</td>\n",
       "      <td>0.0</td>\n",
       "      <td>I-</td>\n",
       "    </tr>\n",
       "    <tr>\n",
       "      <th>1</th>\n",
       "      <td>0.000014</td>\n",
       "      <td>0.004905</td>\n",
       "      <td>0.0</td>\n",
       "      <td>I-</td>\n",
       "    </tr>\n",
       "    <tr>\n",
       "      <th>2</th>\n",
       "      <td>0.000073</td>\n",
       "      <td>0.002246</td>\n",
       "      <td>0.0</td>\n",
       "      <td>I-</td>\n",
       "    </tr>\n",
       "    <tr>\n",
       "      <th>3</th>\n",
       "      <td>0.000075</td>\n",
       "      <td>0.001645</td>\n",
       "      <td>0.0</td>\n",
       "      <td>I-</td>\n",
       "    </tr>\n",
       "  </tbody>\n",
       "</table>\n",
       "</div>"
      ],
      "text/plain": [
       "          x         y  type species\n",
       "1  0.000054  0.003384   0.0      I-\n",
       "1  0.000029  0.004883   0.0      I-\n",
       "1  0.000014  0.004905   0.0      I-\n",
       "2  0.000073  0.002246   0.0      I-\n",
       "3  0.000075  0.001645   0.0      I-"
      ]
     },
     "execution_count": 25,
     "metadata": {},
     "output_type": "execute_result"
    }
   ],
   "source": [
    "print('Number of collisions with background gas : {}'.format(df_collision_background_gas.shape[0]))\n",
    "df_collision_background_gas.head()"
   ]
  },
  {
   "cell_type": "code",
   "execution_count": 26,
   "id": "7d23fbdb",
   "metadata": {},
   "outputs": [
    {
     "data": {
      "application/vnd.jupyter.widget-view+json": {
       "model_id": "5e9fa9b837544daca3a65b7ce51101c0",
       "version_major": 2,
       "version_minor": 0
      },
      "text/plain": [
       "Canvas(toolbar=Toolbar(toolitems=[('Home', 'Reset original view', 'home', 'home'), ('Back', 'Back to previous …"
      ]
     },
     "metadata": {},
     "output_type": "display_data"
    }
   ],
   "source": [
    "# Ion plot\n",
    "sns.set_theme(style=\"ticks\")\n",
    "sns.jointplot(data = df_collision_background_gas.loc[df_collision_background_gas['type']==0], x='x', y='y', kind=\"hex\", color=\"#4CB391\");\n",
    "\n",
    "# Neutral\n",
    "# sns.set_theme(style=\"ticks\")\n",
    "# sns.jointplot(data = df_collision_background_gas.loc[df_collision_background_gas['type']==1], x='x', y='y', kind=\"hex\", color=\"#4CB391\");"
   ]
  },
  {
   "cell_type": "code",
   "execution_count": 27,
   "id": "b1bb3eed",
   "metadata": {},
   "outputs": [],
   "source": [
    "# both\n",
    "# sns.set_theme(style=\"ticks\")\n",
    "# sns.jointplot(data = df_collision_background_gas, x='x', y='y', hue=\"type\", s = 10) # , kind=\"hist\") #, kind=\"hist\")"
   ]
  },
  {
   "cell_type": "markdown",
   "id": "2a2033f3",
   "metadata": {},
   "source": [
    "## df_collision_with_walls"
   ]
  },
  {
   "cell_type": "code",
   "execution_count": 28,
   "id": "19745aa7",
   "metadata": {},
   "outputs": [],
   "source": [
    "df_collision_with_walls['species'] = df_collision_with_walls.apply(convert_to_species, axis = 1)"
   ]
  },
  {
   "cell_type": "code",
   "execution_count": 29,
   "id": "76ca7f78",
   "metadata": {},
   "outputs": [
    {
     "name": "stdout",
     "output_type": "stream",
     "text": [
      "Number of collisions with walls : 65916\n"
     ]
    },
    {
     "data": {
      "text/html": [
       "<div>\n",
       "<style scoped>\n",
       "    .dataframe tbody tr th:only-of-type {\n",
       "        vertical-align: middle;\n",
       "    }\n",
       "\n",
       "    .dataframe tbody tr th {\n",
       "        vertical-align: top;\n",
       "    }\n",
       "\n",
       "    .dataframe thead th {\n",
       "        text-align: right;\n",
       "    }\n",
       "</style>\n",
       "<table border=\"1\" class=\"dataframe\">\n",
       "  <thead>\n",
       "    <tr style=\"text-align: right;\">\n",
       "      <th></th>\n",
       "      <th>x</th>\n",
       "      <th>y</th>\n",
       "      <th>type</th>\n",
       "      <th>angle</th>\n",
       "      <th>species</th>\n",
       "    </tr>\n",
       "  </thead>\n",
       "  <tbody>\n",
       "    <tr>\n",
       "      <th>1</th>\n",
       "      <td>0.000024</td>\n",
       "      <td>2.997290e-07</td>\n",
       "      <td>0.0</td>\n",
       "      <td>0.738741</td>\n",
       "      <td>I-</td>\n",
       "    </tr>\n",
       "    <tr>\n",
       "      <th>1</th>\n",
       "      <td>0.000012</td>\n",
       "      <td>2.315133e-05</td>\n",
       "      <td>0.0</td>\n",
       "      <td>0.378487</td>\n",
       "      <td>I-</td>\n",
       "    </tr>\n",
       "    <tr>\n",
       "      <th>1</th>\n",
       "      <td>0.000046</td>\n",
       "      <td>4.992539e-03</td>\n",
       "      <td>0.0</td>\n",
       "      <td>1.126633</td>\n",
       "      <td>I-</td>\n",
       "    </tr>\n",
       "    <tr>\n",
       "      <th>1</th>\n",
       "      <td>0.000034</td>\n",
       "      <td>4.988920e-03</td>\n",
       "      <td>0.0</td>\n",
       "      <td>0.776821</td>\n",
       "      <td>I-</td>\n",
       "    </tr>\n",
       "    <tr>\n",
       "      <th>1</th>\n",
       "      <td>0.000045</td>\n",
       "      <td>4.997367e-03</td>\n",
       "      <td>0.0</td>\n",
       "      <td>1.155873</td>\n",
       "      <td>I-</td>\n",
       "    </tr>\n",
       "  </tbody>\n",
       "</table>\n",
       "</div>"
      ],
      "text/plain": [
       "          x             y  type     angle species\n",
       "1  0.000024  2.997290e-07   0.0  0.738741      I-\n",
       "1  0.000012  2.315133e-05   0.0  0.378487      I-\n",
       "1  0.000046  4.992539e-03   0.0  1.126633      I-\n",
       "1  0.000034  4.988920e-03   0.0  0.776821      I-\n",
       "1  0.000045  4.997367e-03   0.0  1.155873      I-"
      ]
     },
     "execution_count": 29,
     "metadata": {},
     "output_type": "execute_result"
    }
   ],
   "source": [
    "print('Number of collisions with walls : {}'.format(df_collision_with_walls.shape[0]))\n",
    "df_collision_with_walls.head()"
   ]
  },
  {
   "cell_type": "code",
   "execution_count": 30,
   "id": "13d0a969",
   "metadata": {},
   "outputs": [
    {
     "data": {
      "application/vnd.jupyter.widget-view+json": {
       "model_id": "b9356bbbd1194f7bb79239d0666da888",
       "version_major": 2,
       "version_minor": 0
      },
      "text/plain": [
       "Canvas(toolbar=Toolbar(toolitems=[('Home', 'Reset original view', 'home', 'home'), ('Back', 'Back to previous …"
      ]
     },
     "metadata": {},
     "output_type": "display_data"
    }
   ],
   "source": [
    "ions = df_collision_with_walls.loc[df_collision_with_walls['type']==0]\n",
    "fig, ax = plt.subplots()\n",
    "ax.axis('equal')\n",
    "scatter = ax.scatter(ions['x'], ions['y'], s = 0.005, c = ions['type']);\n",
    "# produce a legend with the unique colors from the scatter\n",
    "legend1 = ax.legend(*scatter.legend_elements(),\n",
    "                    loc=\"upper right\", title=\"Species\")\n",
    "ax.add_artist(legend1);"
   ]
  },
  {
   "cell_type": "code",
   "execution_count": 31,
   "id": "0f347f41",
   "metadata": {},
   "outputs": [
    {
     "data": {
      "application/vnd.jupyter.widget-view+json": {
       "model_id": "8130040b305e42f0879a219bb65bdcd9",
       "version_major": 2,
       "version_minor": 0
      },
      "text/plain": [
       "Canvas(toolbar=Toolbar(toolitems=[('Home', 'Reset original view', 'home', 'home'), ('Back', 'Back to previous …"
      ]
     },
     "metadata": {},
     "output_type": "display_data"
    }
   ],
   "source": [
    "sns.set_theme(style=\"ticks\")\n",
    "sns.jointplot(data = ions, x='x', y='y', kind=\"hex\", color=\"#4CB391\");"
   ]
  },
  {
   "cell_type": "code",
   "execution_count": 32,
   "id": "85a2186e",
   "metadata": {},
   "outputs": [
    {
     "data": {
      "application/vnd.jupyter.widget-view+json": {
       "model_id": "3ef50a89af734481ae78a34416993ffa",
       "version_major": 2,
       "version_minor": 0
      },
      "text/plain": [
       "Canvas(toolbar=Toolbar(toolitems=[('Home', 'Reset original view', 'home', 'home'), ('Back', 'Back to previous …"
      ]
     },
     "metadata": {},
     "output_type": "display_data"
    }
   ],
   "source": [
    "fig, ax = plt.subplots()\n",
    "sns.despine(fig)\n",
    "\n",
    "sns.histplot(\n",
    "    df_collision_with_walls,\n",
    "    # bins = 100,\n",
    "    x=\"angle\", hue=\"species\",\n",
    "    multiple=\"stack\",\n",
    "    palette=\"light:m_r\",\n",
    "    edgecolor=\".3\",\n",
    "    linewidth=.5,\n",
    "    log_scale=False,\n",
    ");"
   ]
  },
  {
   "cell_type": "code",
   "execution_count": 33,
   "id": "1fca531a",
   "metadata": {},
   "outputs": [],
   "source": [
    "# Neutral plot\n",
    "# sns.set_theme(style=\"ticks\")\n",
    "# sns.jointplot(data = df_collision_with_walls, x='x', y='y', hue=\"type\", s = 10) # , kind=\"hist\") #, kind=\"hist\")"
   ]
  },
  {
   "cell_type": "markdown",
   "id": "f66f0bf8",
   "metadata": {},
   "source": [
    "## Particles analysis\n",
    "### Plotting number of particles evolution"
   ]
  },
  {
   "cell_type": "code",
   "execution_count": 34,
   "id": "bb3f98d8",
   "metadata": {},
   "outputs": [],
   "source": [
    "df['species'] = df.apply(convert_to_species, axis = 1)"
   ]
  },
  {
   "cell_type": "code",
   "execution_count": 195,
   "id": "f41c43e7",
   "metadata": {},
   "outputs": [
    {
     "data": {
      "text/html": [
       "<div>\n",
       "<style scoped>\n",
       "    .dataframe tbody tr th:only-of-type {\n",
       "        vertical-align: middle;\n",
       "    }\n",
       "\n",
       "    .dataframe tbody tr th {\n",
       "        vertical-align: top;\n",
       "    }\n",
       "\n",
       "    .dataframe thead th {\n",
       "        text-align: right;\n",
       "    }\n",
       "</style>\n",
       "<table border=\"1\" class=\"dataframe\">\n",
       "  <thead>\n",
       "    <tr style=\"text-align: right;\">\n",
       "      <th></th>\n",
       "      <th>x</th>\n",
       "      <th>y</th>\n",
       "      <th>vx</th>\n",
       "      <th>vy</th>\n",
       "      <th>vz</th>\n",
       "      <th>type</th>\n",
       "      <th>species</th>\n",
       "      <th>x_int</th>\n",
       "      <th>y_int</th>\n",
       "      <th>i</th>\n",
       "      <th>j</th>\n",
       "    </tr>\n",
       "  </thead>\n",
       "  <tbody>\n",
       "    <tr>\n",
       "      <th>1</th>\n",
       "      <td>0.000008</td>\n",
       "      <td>0.004777</td>\n",
       "      <td>671.253250</td>\n",
       "      <td>472.393238</td>\n",
       "      <td>745.819121</td>\n",
       "      <td>0.0</td>\n",
       "      <td>I-</td>\n",
       "      <td>0.0</td>\n",
       "      <td>0.0046</td>\n",
       "      <td>0</td>\n",
       "      <td>23</td>\n",
       "    </tr>\n",
       "    <tr>\n",
       "      <th>1</th>\n",
       "      <td>0.000042</td>\n",
       "      <td>0.000270</td>\n",
       "      <td>2954.596819</td>\n",
       "      <td>1108.321428</td>\n",
       "      <td>1428.512151</td>\n",
       "      <td>0.0</td>\n",
       "      <td>I-</td>\n",
       "      <td>0.0</td>\n",
       "      <td>0.0002</td>\n",
       "      <td>0</td>\n",
       "      <td>1</td>\n",
       "    </tr>\n",
       "    <tr>\n",
       "      <th>1</th>\n",
       "      <td>0.000015</td>\n",
       "      <td>0.003250</td>\n",
       "      <td>1275.003919</td>\n",
       "      <td>-52.714019</td>\n",
       "      <td>-75.409367</td>\n",
       "      <td>0.0</td>\n",
       "      <td>I-</td>\n",
       "      <td>0.0</td>\n",
       "      <td>0.0032</td>\n",
       "      <td>0</td>\n",
       "      <td>16</td>\n",
       "    </tr>\n",
       "    <tr>\n",
       "      <th>1</th>\n",
       "      <td>0.000015</td>\n",
       "      <td>0.000041</td>\n",
       "      <td>1188.067397</td>\n",
       "      <td>548.589815</td>\n",
       "      <td>1630.475805</td>\n",
       "      <td>0.0</td>\n",
       "      <td>I-</td>\n",
       "      <td>0.0</td>\n",
       "      <td>0.0000</td>\n",
       "      <td>0</td>\n",
       "      <td>0</td>\n",
       "    </tr>\n",
       "    <tr>\n",
       "      <th>1</th>\n",
       "      <td>0.000002</td>\n",
       "      <td>0.003980</td>\n",
       "      <td>198.207350</td>\n",
       "      <td>-294.642191</td>\n",
       "      <td>124.374629</td>\n",
       "      <td>0.0</td>\n",
       "      <td>I-</td>\n",
       "      <td>0.0</td>\n",
       "      <td>0.0038</td>\n",
       "      <td>0</td>\n",
       "      <td>19</td>\n",
       "    </tr>\n",
       "  </tbody>\n",
       "</table>\n",
       "</div>"
      ],
      "text/plain": [
       "          x         y           vx           vy           vz  type species  \\\n",
       "1  0.000008  0.004777   671.253250   472.393238   745.819121   0.0      I-   \n",
       "1  0.000042  0.000270  2954.596819  1108.321428  1428.512151   0.0      I-   \n",
       "1  0.000015  0.003250  1275.003919   -52.714019   -75.409367   0.0      I-   \n",
       "1  0.000015  0.000041  1188.067397   548.589815  1630.475805   0.0      I-   \n",
       "1  0.000002  0.003980   198.207350  -294.642191   124.374629   0.0      I-   \n",
       "\n",
       "   x_int   y_int  i   j  \n",
       "1    0.0  0.0046  0  23  \n",
       "1    0.0  0.0002  0   1  \n",
       "1    0.0  0.0032  0  16  \n",
       "1    0.0  0.0000  0   0  \n",
       "1    0.0  0.0038  0  19  "
      ]
     },
     "execution_count": 195,
     "metadata": {},
     "output_type": "execute_result"
    }
   ],
   "source": [
    "df.head()"
   ]
  },
  {
   "cell_type": "code",
   "execution_count": 196,
   "id": "6934008e",
   "metadata": {},
   "outputs": [],
   "source": [
    "nb_parts = df['x'].groupby(df.index).agg('count').values"
   ]
  },
  {
   "cell_type": "code",
   "execution_count": 197,
   "id": "ec64508a",
   "metadata": {},
   "outputs": [
    {
     "data": {
      "application/vnd.jupyter.widget-view+json": {
       "model_id": "1f30187eadd3469c82002940fb64dfb5",
       "version_major": 2,
       "version_minor": 0
      },
      "text/plain": [
       "Canvas(toolbar=Toolbar(toolitems=[('Home', 'Reset original view', 'home', 'home'), ('Back', 'Back to previous …"
      ]
     },
     "metadata": {},
     "output_type": "display_data"
    }
   ],
   "source": [
    "fig, ax = plt.subplots()\n",
    "ax.plot(df.index.unique()*dt, nb_parts)\n",
    "analysis.set_axis(ax, x = 'time', y = 'quantity')"
   ]
  },
  {
   "cell_type": "code",
   "execution_count": 198,
   "id": "d7ec5c49",
   "metadata": {},
   "outputs": [
    {
     "data": {
      "application/vnd.jupyter.widget-view+json": {
       "model_id": "6e6a0c3f1dd149a1bc67939502f0ee70",
       "version_major": 2,
       "version_minor": 0
      },
      "text/plain": [
       "Canvas(toolbar=Toolbar(toolitems=[('Home', 'Reset original view', 'home', 'home'), ('Back', 'Back to previous …"
      ]
     },
     "metadata": {},
     "output_type": "display_data"
    }
   ],
   "source": [
    "df_it = df.loc[df.index == 1000]\n",
    "fig, ax = plt.subplots()\n",
    "sns.despine(fig)\n",
    "\n",
    "sns.scatterplot(\n",
    "    data = df_it,\n",
    "    # bins = 100,\n",
    "    x=\"x\", y =\"y\", hue=\"species\", s = 5.\n",
    ");"
   ]
  },
  {
   "cell_type": "code",
   "execution_count": 199,
   "id": "3c2dc3f3",
   "metadata": {},
   "outputs": [
    {
     "data": {
      "application/vnd.jupyter.widget-view+json": {
       "model_id": "398bd27e37bb424b910cc1456b2cc506",
       "version_major": 2,
       "version_minor": 0
      },
      "text/plain": [
       "Canvas(toolbar=Toolbar(toolitems=[('Home', 'Reset original view', 'home', 'home'), ('Back', 'Back to previous …"
      ]
     },
     "metadata": {},
     "output_type": "display_data"
    }
   ],
   "source": [
    "df_it = df.loc[df.index == 1000]\n",
    "fig, ax = plt.subplots()\n",
    "sns.despine(fig)\n",
    "\n",
    "sns.scatterplot(\n",
    "    data = df_it,\n",
    "    # bins = 100,\n",
    "    x=\"x\", y =\"y\", hue=\"vx\", s = 10.\n",
    ");"
   ]
  },
  {
   "cell_type": "code",
   "execution_count": 236,
   "id": "543fbfdd",
   "metadata": {},
   "outputs": [],
   "source": [
    "dp = 1e-4\n",
    "df['i'] = (df['x']/dp).astype(int)\n",
    "df['j'] = (df['y']/dp).astype(int)"
   ]
  },
  {
   "cell_type": "markdown",
   "id": "501dde4e",
   "metadata": {},
   "source": [
    "#### we could select only the I- - anyway"
   ]
  },
  {
   "cell_type": "code",
   "execution_count": 237,
   "id": "d88c9edf",
   "metadata": {},
   "outputs": [],
   "source": [
    "groups = df.loc[df['species'] == 'I-'].groupby(['i','j']).mean()"
   ]
  },
  {
   "cell_type": "code",
   "execution_count": 238,
   "id": "52f9d183",
   "metadata": {},
   "outputs": [],
   "source": [
    "groups = groups.reset_index()"
   ]
  },
  {
   "cell_type": "code",
   "execution_count": 239,
   "id": "fea4dca9",
   "metadata": {},
   "outputs": [
    {
     "data": {
      "text/html": [
       "<div>\n",
       "<style scoped>\n",
       "    .dataframe tbody tr th:only-of-type {\n",
       "        vertical-align: middle;\n",
       "    }\n",
       "\n",
       "    .dataframe tbody tr th {\n",
       "        vertical-align: top;\n",
       "    }\n",
       "\n",
       "    .dataframe thead th {\n",
       "        text-align: right;\n",
       "    }\n",
       "</style>\n",
       "<table border=\"1\" class=\"dataframe\">\n",
       "  <thead>\n",
       "    <tr style=\"text-align: right;\">\n",
       "      <th></th>\n",
       "      <th>i</th>\n",
       "      <th>j</th>\n",
       "      <th>x</th>\n",
       "      <th>y</th>\n",
       "      <th>vx</th>\n",
       "      <th>vy</th>\n",
       "      <th>vz</th>\n",
       "      <th>type</th>\n",
       "      <th>x_int</th>\n",
       "      <th>y_int</th>\n",
       "    </tr>\n",
       "  </thead>\n",
       "  <tbody>\n",
       "    <tr>\n",
       "      <th>0</th>\n",
       "      <td>0</td>\n",
       "      <td>0</td>\n",
       "      <td>0.000048</td>\n",
       "      <td>0.000051</td>\n",
       "      <td>1618.870419</td>\n",
       "      <td>-162.204307</td>\n",
       "      <td>-5.988500</td>\n",
       "      <td>0.0</td>\n",
       "      <td>0.0000</td>\n",
       "      <td>0.0000</td>\n",
       "    </tr>\n",
       "    <tr>\n",
       "      <th>1</th>\n",
       "      <td>0</td>\n",
       "      <td>1</td>\n",
       "      <td>0.000053</td>\n",
       "      <td>0.000150</td>\n",
       "      <td>1604.782133</td>\n",
       "      <td>60.986208</td>\n",
       "      <td>-60.733695</td>\n",
       "      <td>0.0</td>\n",
       "      <td>0.0000</td>\n",
       "      <td>0.0000</td>\n",
       "    </tr>\n",
       "    <tr>\n",
       "      <th>2</th>\n",
       "      <td>0</td>\n",
       "      <td>2</td>\n",
       "      <td>0.000051</td>\n",
       "      <td>0.000251</td>\n",
       "      <td>1632.221946</td>\n",
       "      <td>-54.305698</td>\n",
       "      <td>45.790731</td>\n",
       "      <td>0.0</td>\n",
       "      <td>0.0000</td>\n",
       "      <td>0.0002</td>\n",
       "    </tr>\n",
       "    <tr>\n",
       "      <th>3</th>\n",
       "      <td>0</td>\n",
       "      <td>3</td>\n",
       "      <td>0.000053</td>\n",
       "      <td>0.000350</td>\n",
       "      <td>1661.038475</td>\n",
       "      <td>19.040131</td>\n",
       "      <td>-46.495850</td>\n",
       "      <td>0.0</td>\n",
       "      <td>0.0000</td>\n",
       "      <td>0.0002</td>\n",
       "    </tr>\n",
       "    <tr>\n",
       "      <th>4</th>\n",
       "      <td>0</td>\n",
       "      <td>4</td>\n",
       "      <td>0.000052</td>\n",
       "      <td>0.000451</td>\n",
       "      <td>1673.802439</td>\n",
       "      <td>-22.751111</td>\n",
       "      <td>-53.469233</td>\n",
       "      <td>0.0</td>\n",
       "      <td>0.0000</td>\n",
       "      <td>0.0004</td>\n",
       "    </tr>\n",
       "    <tr>\n",
       "      <th>...</th>\n",
       "      <td>...</td>\n",
       "      <td>...</td>\n",
       "      <td>...</td>\n",
       "      <td>...</td>\n",
       "      <td>...</td>\n",
       "      <td>...</td>\n",
       "      <td>...</td>\n",
       "      <td>...</td>\n",
       "      <td>...</td>\n",
       "      <td>...</td>\n",
       "    </tr>\n",
       "    <tr>\n",
       "      <th>4033</th>\n",
       "      <td>199</td>\n",
       "      <td>37</td>\n",
       "      <td>0.019950</td>\n",
       "      <td>0.003773</td>\n",
       "      <td>1755.081118</td>\n",
       "      <td>-648.653102</td>\n",
       "      <td>2012.437490</td>\n",
       "      <td>0.0</td>\n",
       "      <td>0.0198</td>\n",
       "      <td>0.0036</td>\n",
       "    </tr>\n",
       "    <tr>\n",
       "      <th>4034</th>\n",
       "      <td>199</td>\n",
       "      <td>39</td>\n",
       "      <td>0.019948</td>\n",
       "      <td>0.003961</td>\n",
       "      <td>1537.845303</td>\n",
       "      <td>56.815961</td>\n",
       "      <td>-1069.583467</td>\n",
       "      <td>0.0</td>\n",
       "      <td>0.0198</td>\n",
       "      <td>0.0038</td>\n",
       "    </tr>\n",
       "    <tr>\n",
       "      <th>4035</th>\n",
       "      <td>199</td>\n",
       "      <td>40</td>\n",
       "      <td>0.019948</td>\n",
       "      <td>0.004034</td>\n",
       "      <td>1722.266042</td>\n",
       "      <td>468.472150</td>\n",
       "      <td>-272.613705</td>\n",
       "      <td>0.0</td>\n",
       "      <td>0.0198</td>\n",
       "      <td>0.0040</td>\n",
       "    </tr>\n",
       "    <tr>\n",
       "      <th>4036</th>\n",
       "      <td>199</td>\n",
       "      <td>43</td>\n",
       "      <td>0.019936</td>\n",
       "      <td>0.004370</td>\n",
       "      <td>2353.611508</td>\n",
       "      <td>1858.771535</td>\n",
       "      <td>629.298467</td>\n",
       "      <td>0.0</td>\n",
       "      <td>0.0198</td>\n",
       "      <td>0.0042</td>\n",
       "    </tr>\n",
       "    <tr>\n",
       "      <th>4037</th>\n",
       "      <td>199</td>\n",
       "      <td>44</td>\n",
       "      <td>0.019983</td>\n",
       "      <td>0.004407</td>\n",
       "      <td>2357.030361</td>\n",
       "      <td>1832.475371</td>\n",
       "      <td>629.298467</td>\n",
       "      <td>0.0</td>\n",
       "      <td>0.0198</td>\n",
       "      <td>0.0044</td>\n",
       "    </tr>\n",
       "  </tbody>\n",
       "</table>\n",
       "<p>4038 rows × 10 columns</p>\n",
       "</div>"
      ],
      "text/plain": [
       "        i   j         x         y           vx           vy           vz  \\\n",
       "0       0   0  0.000048  0.000051  1618.870419  -162.204307    -5.988500   \n",
       "1       0   1  0.000053  0.000150  1604.782133    60.986208   -60.733695   \n",
       "2       0   2  0.000051  0.000251  1632.221946   -54.305698    45.790731   \n",
       "3       0   3  0.000053  0.000350  1661.038475    19.040131   -46.495850   \n",
       "4       0   4  0.000052  0.000451  1673.802439   -22.751111   -53.469233   \n",
       "...   ...  ..       ...       ...          ...          ...          ...   \n",
       "4033  199  37  0.019950  0.003773  1755.081118  -648.653102  2012.437490   \n",
       "4034  199  39  0.019948  0.003961  1537.845303    56.815961 -1069.583467   \n",
       "4035  199  40  0.019948  0.004034  1722.266042   468.472150  -272.613705   \n",
       "4036  199  43  0.019936  0.004370  2353.611508  1858.771535   629.298467   \n",
       "4037  199  44  0.019983  0.004407  2357.030361  1832.475371   629.298467   \n",
       "\n",
       "      type   x_int   y_int  \n",
       "0      0.0  0.0000  0.0000  \n",
       "1      0.0  0.0000  0.0000  \n",
       "2      0.0  0.0000  0.0002  \n",
       "3      0.0  0.0000  0.0002  \n",
       "4      0.0  0.0000  0.0004  \n",
       "...    ...     ...     ...  \n",
       "4033   0.0  0.0198  0.0036  \n",
       "4034   0.0  0.0198  0.0038  \n",
       "4035   0.0  0.0198  0.0040  \n",
       "4036   0.0  0.0198  0.0042  \n",
       "4037   0.0  0.0198  0.0044  \n",
       "\n",
       "[4038 rows x 10 columns]"
      ]
     },
     "execution_count": 239,
     "metadata": {},
     "output_type": "execute_result"
    }
   ],
   "source": [
    "groups"
   ]
  },
  {
   "cell_type": "code",
   "execution_count": 240,
   "id": "dfe88595",
   "metadata": {},
   "outputs": [
    {
     "data": {
      "text/plain": [
       "199"
      ]
     },
     "execution_count": 240,
     "metadata": {},
     "output_type": "execute_result"
    }
   ],
   "source": [
    "groups['i'].max()"
   ]
  },
  {
   "cell_type": "code",
   "execution_count": 241,
   "id": "7438b9e1",
   "metadata": {},
   "outputs": [
    {
     "data": {
      "application/vnd.jupyter.widget-view+json": {
       "model_id": "2da7142dfa314984ba0dd5efc2c28659",
       "version_major": 2,
       "version_minor": 0
      },
      "text/plain": [
       "Canvas(toolbar=Toolbar(toolitems=[('Home', 'Reset original view', 'home', 'home'), ('Back', 'Back to previous …"
      ]
     },
     "metadata": {},
     "output_type": "display_data"
    }
   ],
   "source": [
    "fig, ax = plt.subplots()\n",
    "\n",
    "values = {\n",
    "    'width' : 3*dp,\n",
    "    'headwidth' : 3,\n",
    "    'headlength' : 5\n",
    "}\n",
    "\n",
    "ax.quiver(dp*groups['i'], dp*groups['j'], groups['vx'], groups['vy'], groups['vx'], **values);"
   ]
  },
  {
   "cell_type": "code",
   "execution_count": 242,
   "id": "0b5e5995",
   "metadata": {
    "scrolled": true
   },
   "outputs": [],
   "source": [
    "U,V = np.zeros((groups['j'].max()-groups['j'].min(),groups['i'].max()-groups['i'].min()), dtype = float), np.zeros((groups['j'].max()-groups['j'].min(),groups['i'].max()-groups['i'].min()), dtype = float)\n",
    "X, Y = np.arange(groups['i'].min(), groups['i'].max()),  np.arange(groups['j'].min(), groups['j'].max())\n",
    "\n",
    "for x in X:\n",
    "    for y in Y:\n",
    "        row = groups.loc[(groups['i'] == x) &  (groups['j'] == y)]\n",
    "        try :\n",
    "            U[y,x] = row['vx']\n",
    "            V[y,x] = row['vy']\n",
    "        except ValueError as e:\n",
    "            pass"
   ]
  },
  {
   "cell_type": "code",
   "execution_count": 243,
   "id": "fafba8f5",
   "metadata": {},
   "outputs": [
    {
     "name": "stdout",
     "output_type": "stream",
     "text": [
      "(49, 199) (49, 199)\n",
      "(199,) (49,)\n"
     ]
    }
   ],
   "source": [
    "print(U.shape, V.shape)\n",
    "print(X.shape, Y.shape)\n",
    "speed = np.sqrt(U**2+V**2)\n",
    "lw = 2 * speed / (speed.max()+1e-8)"
   ]
  },
  {
   "cell_type": "code",
   "execution_count": 245,
   "id": "fdd9c79d",
   "metadata": {},
   "outputs": [
    {
     "data": {
      "application/vnd.jupyter.widget-view+json": {
       "model_id": "e98c41a3d0a1405bab4eeb6449b0f0d9",
       "version_major": 2,
       "version_minor": 0
      },
      "text/plain": [
       "Canvas(toolbar=Toolbar(toolitems=[('Home', 'Reset original view', 'home', 'home'), ('Back', 'Back to previous …"
      ]
     },
     "metadata": {},
     "output_type": "display_data"
    }
   ],
   "source": [
    "fig, ax = plt.subplots()\n",
    "# ax.axis('equal')\n",
    "ax.streamplot(x=dp*X,y=dp*Y,u=U,v=V, density = 3, color=U, linewidth=lw, cmap='plasma'); "
   ]
  },
  {
   "cell_type": "code",
   "execution_count": null,
   "id": "1ff44041",
   "metadata": {},
   "outputs": [],
   "source": []
  }
 ],
 "metadata": {
  "kernelspec": {
   "display_name": "Python 3",
   "language": "python",
   "name": "python3"
  },
  "language_info": {
   "codemirror_mode": {
    "name": "ipython",
    "version": 3
   },
   "file_extension": ".py",
   "mimetype": "text/x-python",
   "name": "python",
   "nbconvert_exporter": "python",
   "pygments_lexer": "ipython3",
   "version": "3.7.10"
  }
 },
 "nbformat": 4,
 "nbformat_minor": 5
}
