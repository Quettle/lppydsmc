{
 "cells": [
  {
   "cell_type": "markdown",
   "id": "2292864b",
   "metadata": {},
   "source": [
    "## Note : \n",
    "Mean free path : $\\lambda = \\frac{1}{n \\sigma}$\n",
    "\n",
    "If $n \\rightarrow 100 \\times n$, then :\n",
    "- $\\lambda \\rightarrow \\frac{\\lambda}{100}$\n",
    "- $\\text{cell size} \\rightarrow \\frac{\\text{cell size}}{100}$ ($100^2$ more cells because the grid is 2D)\n",
    "- $dt \\rightarrow \\frac{dt}{100}$\n",
    "\n",
    "But you can lower, down to a certain extent, the number of particles per cell to \"not incease too much the computation time\"."
   ]
  },
  {
   "cell_type": "markdown",
   "id": "8674e7ec",
   "metadata": {},
   "source": [
    "## Representative physical length scale\n",
    "\n",
    "The system has two lenghts : \n",
    "* lenght of the tube : $L = 0.01$ $m$\n",
    "* width : $w = 0.001$ $m$\n",
    "\n",
    "The width is the representative physical length scale that constrains the flow.\n",
    "\n",
    "So : $K_d = \\frac{\\lambda}{w}$.\n",
    "\n",
    "\n"
   ]
  },
  {
   "cell_type": "code",
   "execution_count": 1,
   "id": "71b6d621",
   "metadata": {
    "slideshow": {
     "slide_type": "slide"
    }
   },
   "outputs": [],
   "source": [
    "%matplotlib widget\n",
    "\n",
    "# notebook\n",
    "import pandas as pd\n",
    "import numpy as np\n",
    "import matplotlib.pyplot as plt\n",
    "import scipy as scipy\n",
    "from pathlib import Path\n",
    "\n",
    "from lppydsmc.data.saver import Saver\n",
    "from plotting import analysis\n",
    "from lppydsmc.utils import physics\n",
    "\n",
    "# plt.figure.max_open_warning = False"
   ]
  },
  {
   "cell_type": "markdown",
   "id": "dd77c5cf",
   "metadata": {},
   "source": [
    "## Loading results"
   ]
  },
  {
   "cell_type": "code",
   "execution_count": 2,
   "id": "3d32caa3",
   "metadata": {
    "slideshow": {
     "slide_type": "slide"
    }
   },
   "outputs": [],
   "source": [
    "dir_path = Path('results/')\n",
    "dz = 0.001"
   ]
  },
  {
   "cell_type": "code",
   "execution_count": 3,
   "id": "637957e7",
   "metadata": {
    "slideshow": {
     "slide_type": "subslide"
    }
   },
   "outputs": [],
   "source": [
    "dt = 1e-7\n",
    "mr = 1\n",
    "name = 'pusher_poisson.h5'\n",
    "lenght = 0.011 # m\n",
    "width = 0.005\n",
    "cell_size = 0.001\n",
    "temperature = 23e3 # K\n",
    "nb_cells = 33\n",
    "volume = cell_size*cell_size*dz*nb_cells\n"
   ]
  },
  {
   "cell_type": "code",
   "execution_count": 4,
   "id": "9b97e8f3",
   "metadata": {},
   "outputs": [],
   "source": [
    "store = pd.HDFStore(dir_path/name)"
   ]
  },
  {
   "cell_type": "code",
   "execution_count": 5,
   "id": "02437b80",
   "metadata": {},
   "outputs": [],
   "source": [
    "# defining each variable\n",
    "df = store['df']\n",
    "total_deleted = store['total_deleted']\n",
    "collisions_with_walls = store['collisions_with_walls']"
   ]
  },
  {
   "cell_type": "code",
   "execution_count": 6,
   "id": "272f0f17",
   "metadata": {},
   "outputs": [],
   "source": [
    "choice = 'I'\n",
    "gamma = 5/3. # roughly for atomes, for diatomic molecule : 7/5.\n",
    "\n",
    "\n",
    "mass = physics.get_mass_part(53+1, 53, 74) # I\n",
    "molecular_mass = 0.1269 # kg/mol\n",
    "\n",
    "verbose=False"
   ]
  },
  {
   "cell_type": "code",
   "execution_count": 7,
   "id": "17cbe022",
   "metadata": {},
   "outputs": [
    {
     "name": "stdout",
     "output_type": "stream",
     "text": [
      "Speed of sound for [I] at temperature 23000.0 K : 1584.7563179678798 m/s\n"
     ]
    }
   ],
   "source": [
    "sound_vel = physics.speed_of_sound(molecular_mass, temperature, gamma)\n",
    "print(f'Speed of sound for [{choice}] at temperature {temperature} K : {sound_vel} m/s')"
   ]
  },
  {
   "cell_type": "markdown",
   "id": "ffe8ae01",
   "metadata": {},
   "source": [
    "## Note : \n",
    "To save a figure, you can use : `analysis.save_fig(fig, path, title = None, dpi = 400, figsize = None)`, which allows you to easily save a figure while giving it a title and changing its size.\n",
    "You can also use the interactive widget."
   ]
  },
  {
   "cell_type": "markdown",
   "id": "bf70d067",
   "metadata": {},
   "source": [
    "## Choosing the part of the system to plot "
   ]
  },
  {
   "cell_type": "code",
   "execution_count": 8,
   "id": "a6f7428a",
   "metadata": {},
   "outputs": [],
   "source": [
    "\n",
    "res_x_0, res_y_0 = 11, 5\n",
    "\n",
    "total_nb_cells = res_x_0*res_y_0"
   ]
  },
  {
   "cell_type": "code",
   "execution_count": 9,
   "id": "3b3f4555",
   "metadata": {},
   "outputs": [
    {
     "data": {
      "application/vnd.jupyter.widget-view+json": {
       "model_id": "2f000933c1334937bc24fcdb14c84ae7",
       "version_major": 2,
       "version_minor": 0
      },
      "text/plain": [
       "Canvas(toolbar=Toolbar(toolitems=[('Home', 'Reset original view', 'home', 'home'), ('Back', 'Back to previous …"
      ]
     },
     "metadata": {},
     "output_type": "display_data"
    }
   ],
   "source": [
    "fig, ax = plt.subplots(1, constrained_layout = True, figsize = (res_x_0, res_y_0));\n",
    "\n",
    "fact = 10\n",
    "volume_cell_plot = volume/(fact*fact*res_x_0*res_y_0)\n",
    "duration = df.index.unique().values.shape[0]\n",
    "analysis.hist2d(ax, df, bins = (fact*res_x_0,fact*res_y_0), weights = mr*np.ones(df.shape[0])/(duration*volume_cell_plot), stat = 'count'); # TODO: add cmap"
   ]
  },
  {
   "cell_type": "markdown",
   "id": "dd05cd9c",
   "metadata": {},
   "source": [
    "## Choosing frames to plot"
   ]
  },
  {
   "cell_type": "code",
   "execution_count": 10,
   "id": "c460d1c0",
   "metadata": {},
   "outputs": [],
   "source": [
    "unique_index = df.index.unique().values\n",
    "nb_save = unique_index.shape[0]\n",
    "iterations = np.max(unique_index)\n",
    "adding_period = unique_index[1]-unique_index[0] # adding period - required to\n",
    "# generally speaking, you choose frames so you have the steady state\n",
    "frames = unique_index[int(0.0*nb_save):nb_save] \n",
    "\n",
    "if(verbose):\n",
    "    print(f'Available frames :  {unique_index}')\n",
    "    print(f'Max iteration : {iterations}')\n",
    "    print(f'Choosen frames (for plotting) : \\n{frames}')"
   ]
  },
  {
   "cell_type": "markdown",
   "id": "f66f0bf8",
   "metadata": {},
   "source": [
    "## Particles analysis\n",
    "### Plotting number of particles evolution"
   ]
  },
  {
   "cell_type": "code",
   "execution_count": 11,
   "id": "6934008e",
   "metadata": {},
   "outputs": [],
   "source": [
    "nb_parts = df['x'].groupby(df.index).agg('count').values"
   ]
  },
  {
   "cell_type": "code",
   "execution_count": 12,
   "id": "ec64508a",
   "metadata": {},
   "outputs": [
    {
     "data": {
      "application/vnd.jupyter.widget-view+json": {
       "model_id": "d0ac29e25e464aacbce8f71a0d597aae",
       "version_major": 2,
       "version_minor": 0
      },
      "text/plain": [
       "Canvas(toolbar=Toolbar(toolitems=[('Home', 'Reset original view', 'home', 'home'), ('Back', 'Back to previous …"
      ]
     },
     "metadata": {},
     "output_type": "display_data"
    }
   ],
   "source": [
    "fig, ax = plt.subplots()\n",
    "ax.plot(df.index.unique()*dt, nb_parts)\n",
    "analysis.set_axis(ax, x = 'time', y = 'quantity')"
   ]
  },
  {
   "cell_type": "markdown",
   "id": "428cae1c",
   "metadata": {},
   "source": [
    "### Plotting density evolution"
   ]
  },
  {
   "cell_type": "code",
   "execution_count": 13,
   "id": "e6bfc3eb",
   "metadata": {},
   "outputs": [
    {
     "data": {
      "application/vnd.jupyter.widget-view+json": {
       "model_id": "a5617727003b41378431191b13d995f4",
       "version_major": 2,
       "version_minor": 0
      },
      "text/plain": [
       "Canvas(toolbar=Toolbar(toolitems=[('Home', 'Reset original view', 'home', 'home'), ('Back', 'Back to previous …"
      ]
     },
     "metadata": {},
     "output_type": "display_data"
    }
   ],
   "source": [
    "fig, ax = plt.subplots()\n",
    "ax.plot(df.index.unique()*dt, nb_parts*mr/volume)\n",
    "analysis.set_axis(ax, x = 'time', y = 'density')"
   ]
  },
  {
   "cell_type": "markdown",
   "id": "8ab61926",
   "metadata": {},
   "source": [
    "### Density as a function of x"
   ]
  },
  {
   "cell_type": "code",
   "execution_count": 14,
   "id": "c90b4431",
   "metadata": {},
   "outputs": [
    {
     "data": {
      "application/vnd.jupyter.widget-view+json": {
       "model_id": "bf7f248c842748cdab661417e12c7ffb",
       "version_major": 2,
       "version_minor": 0
      },
      "text/plain": [
       "Canvas(toolbar=Toolbar(toolitems=[('Home', 'Reset original view', 'home', 'home'), ('Back', 'Back to previous …"
      ]
     },
     "metadata": {},
     "output_type": "display_data"
    }
   ],
   "source": [
    "fig, ax = plt.subplots()\n",
    "bins = 100\n",
    "volume_cell_plot = volume/bins\n",
    "duration = df.index.unique().values.shape[0]\n",
    "weights = mr*np.ones(df.shape[0])/(duration*volume_cell_plot)\n",
    "analysis.hist1d(ax, df, 'x', bins = bins, density = False, color = 'default', weights = weights, histtype = 'step')\n",
    "analysis.set_axis(ax, x = 'x', y = 'density');"
   ]
  },
  {
   "cell_type": "markdown",
   "id": "6dddc901",
   "metadata": {},
   "source": [
    "### Pressure in mTorr"
   ]
  },
  {
   "cell_type": "code",
   "execution_count": 15,
   "id": "92234ae0",
   "metadata": {},
   "outputs": [],
   "source": [
    "pressure_torr = physics.pressure_torr(nb_parts*mr, volume, temperature)"
   ]
  },
  {
   "cell_type": "code",
   "execution_count": 16,
   "id": "fafb6a9b",
   "metadata": {},
   "outputs": [
    {
     "data": {
      "application/vnd.jupyter.widget-view+json": {
       "model_id": "7763bf785fd34bca82a390f09a7e1cc1",
       "version_major": 2,
       "version_minor": 0
      },
      "text/plain": [
       "Canvas(toolbar=Toolbar(toolitems=[('Home', 'Reset original view', 'home', 'home'), ('Back', 'Back to previous …"
      ]
     },
     "metadata": {},
     "output_type": "display_data"
    }
   ],
   "source": [
    "fig, ax = plt.subplots()\n",
    "ax.plot(df.index.unique()*dt, pressure_torr*1e3)\n",
    "analysis.set_axis(ax, x = 'time', y = None)\n",
    "ax.set_ylabel('pressure (mTorr)');"
   ]
  },
  {
   "cell_type": "markdown",
   "id": "7d3f1593",
   "metadata": {},
   "source": [
    "### Velocity distribution"
   ]
  },
  {
   "cell_type": "code",
   "execution_count": 17,
   "id": "1bae07ec",
   "metadata": {},
   "outputs": [
    {
     "data": {
      "application/vnd.jupyter.widget-view+json": {
       "model_id": "a11e626b340d43c0b0dbca24f359f982",
       "version_major": 2,
       "version_minor": 0
      },
      "text/plain": [
       "Canvas(toolbar=Toolbar(toolitems=[('Home', 'Reset original view', 'home', 'home'), ('Back', 'Back to previous …"
      ]
     },
     "metadata": {},
     "output_type": "display_data"
    }
   ],
   "source": [
    "fig, axes = analysis.velocity_distribution(df, frames, bins = 100, density = True, sharex = False, sharey = False);"
   ]
  },
  {
   "cell_type": "markdown",
   "id": "3ac57e0a",
   "metadata": {},
   "source": [
    "df_mean = df.groupby(df.index).mean()\n",
    "## Temperature evolution\n",
    "\n",
    "First - not by cell but for the whole system.\n",
    "\n",
    "### Theory : \n",
    "\n",
    "The kinetic energy density $w$ is\n",
    "\n",
    "$w = \\frac{3}{2}p(\\vec{r},t) + n(\\vec{r},t)\\frac{1}{2} m |\\vec{u}(\\vec{r},t)|^2$ \n",
    "\n",
    "With $\\vec{u}(\\vec{r},t) = ((<(v_x, v_y, v_z)>)(\\vec{r},t))^T$ thus : $|\\vec{u}(\\vec{r},t)| = |<\\vec{v}>|$.\n",
    "\n",
    "Here the drift is not zero. So we have to remove it to have only $\\frac{3}{2}p(\\vec{r},t) = w - n(\\vec{r},t)\\frac{1}{2} m |\\vec{u}(\\vec{r},t)|^2$.\n",
    "\n",
    "This yields : \n",
    "\n",
    "$\\frac{3}{2}p(\\vec{r},t) = n(\\vec{r},t)  <\\frac{1}{2}mv^2> - n(\\vec{r},t)\\frac{1}{2} m |\\vec{u}(\\vec{r},t)|^2$\n",
    "\n",
    "Which yields : \n",
    "\n",
    "$$ \\frac{3}{2}p(\\vec{r},t) = \\frac{m n(\\vec{r},t)}{2}  (<v^2> - |<\\vec{v}>|^2) $$\n",
    "\n",
    "With $p = nkT$.\n",
    "\n",
    "Intuition : total energy - energy contains in the drift."
   ]
  },
  {
   "cell_type": "code",
   "execution_count": 18,
   "id": "496f52e4",
   "metadata": {},
   "outputs": [],
   "source": [
    "df['v'] = np.sqrt(df['vx']*df['vx']+df['vy']*df['vy']+df['vz']*df['vz']) # df.apply(analysis.speed_norm, axis = 1)\n",
    "df['v2'] = df['v']**2\n",
    "df_mean = df.groupby(df.index).mean()\n",
    "df_mean['v_drift'] = np.sqrt(df_mean['vx']*df_mean['vx']+df_mean['vy']*df_mean['vy']+df_mean['vz']*df_mean['vz'])"
   ]
  },
  {
   "cell_type": "code",
   "execution_count": 19,
   "id": "43a08fbf",
   "metadata": {},
   "outputs": [],
   "source": [
    "# maxwellian temperature \n",
    "temperature_mb = np.pi*mass*df_mean['v']**2/(8*physics.BOLTZMAN_CONSTANT)"
   ]
  },
  {
   "cell_type": "code",
   "execution_count": 20,
   "id": "6b42bbca",
   "metadata": {},
   "outputs": [],
   "source": [
    "df_mean['temperature'] =  mass/(3.*physics.BOLTZMAN_CONSTANT) * (df_mean['v2']-df_mean['v_drift']**2)\n",
    "temperatures = df_mean['temperature']"
   ]
  },
  {
   "cell_type": "code",
   "execution_count": 21,
   "id": "eb5681e3",
   "metadata": {},
   "outputs": [
    {
     "data": {
      "application/vnd.jupyter.widget-view+json": {
       "model_id": "9b17844c92e84833969afdcb8df6499d",
       "version_major": 2,
       "version_minor": 0
      },
      "text/plain": [
       "Canvas(toolbar=Toolbar(toolitems=[('Home', 'Reset original view', 'home', 'home'), ('Back', 'Back to previous …"
      ]
     },
     "metadata": {},
     "output_type": "display_data"
    }
   ],
   "source": [
    "fig, ax = plt.subplots(1,2)\n",
    "ax[0].plot(unique_index*dt,temperatures)\n",
    "ax[1].plot(unique_index*dt,temperature_mb)\n",
    "\n",
    "analysis.set_axis(ax[0], x = 'time', y = 'temperature')\n",
    "analysis.set_axis(ax[1], x = 'time', y = 'temperature')"
   ]
  },
  {
   "cell_type": "code",
   "execution_count": 22,
   "id": "4937d714",
   "metadata": {},
   "outputs": [
    {
     "data": {
      "application/vnd.jupyter.widget-view+json": {
       "model_id": "ce6839491964430d9dbdba8b8be11cb3",
       "version_major": 2,
       "version_minor": 0
      },
      "text/plain": [
       "Canvas(toolbar=Toolbar(toolitems=[('Home', 'Reset original view', 'home', 'home'), ('Back', 'Back to previous …"
      ]
     },
     "metadata": {},
     "output_type": "display_data"
    }
   ],
   "source": [
    "fig, ax = plt.subplots()\n",
    "ax.plot(unique_index*dt,temperatures)\n",
    "analysis.set_axis(ax, x = 'time', y = 'temperature')"
   ]
  },
  {
   "cell_type": "code",
   "execution_count": 23,
   "id": "cf38e075",
   "metadata": {},
   "outputs": [
    {
     "data": {
      "application/vnd.jupyter.widget-view+json": {
       "model_id": "37eb08700f7d45e69bcc88a82900be2f",
       "version_major": 2,
       "version_minor": 0
      },
      "text/plain": [
       "Canvas(toolbar=Toolbar(toolitems=[('Home', 'Reset original view', 'home', 'home'), ('Back', 'Back to previous …"
      ]
     },
     "metadata": {},
     "output_type": "display_data"
    }
   ],
   "source": [
    "fig, ax = plt.subplots()\n",
    "ax.plot(unique_index*dt, physics.pressure_torr(nb_parts*mr, volume, temperature_mb)*1e3)\n",
    "analysis.set_axis(ax, x = 'iteration', y = None)\n",
    "ax.set_ylabel('pressure (mTorr)');"
   ]
  },
  {
   "cell_type": "code",
   "execution_count": 24,
   "id": "71c91836",
   "metadata": {},
   "outputs": [],
   "source": [
    "sound_speed = physics.speed_of_sound(molecular_mass, temperature_mb, gamma)"
   ]
  },
  {
   "cell_type": "code",
   "execution_count": 25,
   "id": "7e8f7d6d",
   "metadata": {},
   "outputs": [
    {
     "data": {
      "application/vnd.jupyter.widget-view+json": {
       "model_id": "6d11fc99fa434aa7b0053d1a101da4d7",
       "version_major": 2,
       "version_minor": 0
      },
      "text/plain": [
       "Canvas(toolbar=Toolbar(toolitems=[('Home', 'Reset original view', 'home', 'home'), ('Back', 'Back to previous …"
      ]
     },
     "metadata": {},
     "output_type": "display_data"
    }
   ],
   "source": [
    "fig, ax = plt.subplots()\n",
    "ax.plot(unique_index*dt,sound_speed)\n",
    "analysis.set_axis(ax, x = 'time', y = 'sound speed')"
   ]
  },
  {
   "cell_type": "markdown",
   "id": "22f2de38",
   "metadata": {},
   "source": [
    "## Flow speed"
   ]
  },
  {
   "cell_type": "code",
   "execution_count": 26,
   "id": "68e0b1bd",
   "metadata": {},
   "outputs": [
    {
     "data": {
      "application/vnd.jupyter.widget-view+json": {
       "model_id": "a31d95e8e8e544a986c9941d8cd075f9",
       "version_major": 2,
       "version_minor": 0
      },
      "text/plain": [
       "Canvas(toolbar=Toolbar(toolitems=[('Home', 'Reset original view', 'home', 'home'), ('Back', 'Back to previous …"
      ]
     },
     "metadata": {},
     "output_type": "display_data"
    }
   ],
   "source": [
    "fig, ax = plt.subplots()\n",
    "ax.plot(unique_index*dt,df_mean['v_drift'])\n",
    "analysis.set_axis(ax, x = 'time', y = 'v');"
   ]
  },
  {
   "cell_type": "markdown",
   "id": "b18dd90f",
   "metadata": {},
   "source": [
    "## Mach number"
   ]
  },
  {
   "cell_type": "code",
   "execution_count": 27,
   "id": "baba17d2",
   "metadata": {},
   "outputs": [
    {
     "data": {
      "application/vnd.jupyter.widget-view+json": {
       "model_id": "5b85f3fea34f4c2784f515f46f3fd76c",
       "version_major": 2,
       "version_minor": 0
      },
      "text/plain": [
       "Canvas(toolbar=Toolbar(toolitems=[('Home', 'Reset original view', 'home', 'home'), ('Back', 'Back to previous …"
      ]
     },
     "metadata": {},
     "output_type": "display_data"
    }
   ],
   "source": [
    "fig, ax = plt.subplots()\n",
    "ax.plot(unique_index*dt,df_mean['v_drift']/sound_speed)\n",
    "analysis.set_axis(ax, x = 'time')\n",
    "ax.set_ylabel('Mach number');"
   ]
  },
  {
   "cell_type": "markdown",
   "id": "3e2eb298",
   "metadata": {},
   "source": [
    "## Collision with walls - analysis"
   ]
  },
  {
   "cell_type": "code",
   "execution_count": 28,
   "id": "5d341e4c",
   "metadata": {},
   "outputs": [
    {
     "data": {
      "application/vnd.jupyter.widget-view+json": {
       "model_id": "898adda8be5c44e1afa3d5f56190d3fb",
       "version_major": 2,
       "version_minor": 0
      },
      "text/plain": [
       "Canvas(toolbar=Toolbar(toolitems=[('Home', 'Reset original view', 'home', 'home'), ('Back', 'Back to previous …"
      ]
     },
     "metadata": {},
     "output_type": "display_data"
    }
   ],
   "source": [
    "fig, ax = plt.subplots()\n",
    "analysis.set_axis(ax, x = 'time', y = 'quantity')\n",
    "ax.plot(collisions_with_walls.index*dt, collisions_with_walls*mr);"
   ]
  },
  {
   "cell_type": "markdown",
   "id": "e6963079",
   "metadata": {},
   "source": [
    "## Out particle analysis"
   ]
  },
  {
   "cell_type": "code",
   "execution_count": 29,
   "id": "f3d6ca33",
   "metadata": {},
   "outputs": [
    {
     "data": {
      "application/vnd.jupyter.widget-view+json": {
       "model_id": "856c1d5aa07f44859290c962bcf40d71",
       "version_major": 2,
       "version_minor": 0
      },
      "text/plain": [
       "Canvas(toolbar=Toolbar(toolitems=[('Home', 'Reset original view', 'home', 'home'), ('Back', 'Back to previous …"
      ]
     },
     "metadata": {},
     "output_type": "display_data"
    }
   ],
   "source": [
    "fig, ax = plt.subplots()\n",
    "mass_flow_rate = mr*physics.compute_mass_flow_rate(total_deleted, dt, mass)\n",
    "analysis.set_axis(ax, x = 'time', y = 'mass flow rate')\n",
    "plt.plot(mass_flow_rate.index*dt, mass_flow_rate);"
   ]
  },
  {
   "cell_type": "code",
   "execution_count": 30,
   "id": "d6db9ecd-9628-4a3e-be7a-8a792e95323b",
   "metadata": {},
   "outputs": [
    {
     "data": {
      "application/vnd.jupyter.widget-view+json": {
       "model_id": "01c7eceb97464f069ce539b0a073fe5a",
       "version_major": 2,
       "version_minor": 0
      },
      "text/plain": [
       "Canvas(toolbar=Toolbar(toolitems=[('Home', 'Reset original view', 'home', 'home'), ('Back', 'Back to previous …"
      ]
     },
     "metadata": {},
     "output_type": "display_data"
    }
   ],
   "source": [
    "fig, ax = plt.subplots()\n",
    "analysis.set_axis(ax, x = 'time', y = 'quantity')\n",
    "plt.plot(total_deleted.index*dt, total_deleted);"
   ]
  },
  {
   "cell_type": "markdown",
   "id": "22e87bac",
   "metadata": {},
   "source": [
    "## Bonus - Not necessarily recommended and takes lots of time\n",
    "Next is the plot of the system for each saved step. "
   ]
  },
  {
   "cell_type": "code",
   "execution_count": 31,
   "id": "1d07dbdf",
   "metadata": {},
   "outputs": [],
   "source": [
    "# creating speed_norm (for the color)\n",
    "# df['speed_norm'] = np.sqrt(df['vx']**2+df['vy']**2+df['vz']**2) -> DO NOT NEED THAT"
   ]
  },
  {
   "cell_type": "code",
   "execution_count": 32,
   "id": "62143ff0",
   "metadata": {},
   "outputs": [
    {
     "data": {
      "application/vnd.jupyter.widget-view+json": {
       "model_id": "2efa33feb06a422896af5ad34f5ce9fe",
       "version_major": 2,
       "version_minor": 0
      },
      "text/plain": [
       "Canvas(toolbar=Toolbar(toolitems=[('Home', 'Reset original view', 'home', 'home'), ('Back', 'Back to previous …"
      ]
     },
     "metadata": {},
     "output_type": "display_data"
    }
   ],
   "source": [
    "# %matplotlib notebook\n",
    "import numpy as np\n",
    "from matplotlib import pyplot as plt\n",
    "from matplotlib.animation import FuncAnimation\n",
    "\n",
    "def update_hist(num, df, dt):\n",
    "    if(num%1000==0):\n",
    "        print('{}/{}'.format((num), iterations))\n",
    "    \n",
    "    dfit = df.loc[df.index == num]\n",
    "\n",
    "    scat.set_offsets(np.c_[dfit['x'],dfit['y']])\n",
    "    scat.set_array(df['v'])\n",
    "    \n",
    "    #ax.set_xlim((0.0,16e-3))\n",
    "    #ax.set_ylim((0.0, 5e-3))\n",
    "    ax.set_title('{:.3e}/{:.3e} s'.format(num*dt, iterations*dt), fontsize=15)\n",
    "\n",
    "fig, ax = plt.subplots()\n",
    "dfit = df.loc[df.index == 0]\n",
    "scat = ax.scatter(dfit['x'], dfit['y'], s=0.1, c = dfit['v'], cmap='seismic') #  c = df['speed_norm']\n",
    "analysis.set_axis(ax, x = 'x', y = 'y')\n",
    "# if you want the boundaries to be plotted and the grid too, you have to initialize those fields yourself.\n",
    "# in the other case, only particles will be plotted.\n",
    "# plot_boundaries(ax, segments)\n",
    "# plot_grid(ax, resolutions, system_shape)\n",
    "ax.set_title('{}/{}'.format(1, iterations), fontsize=12)\n",
    "#ax.axis('equal')\n",
    "\n",
    "ax.set_xlim((0.0,16e-3))\n",
    "ax.set_ylim((0.0, 5e-3))\n",
    "\n",
    "interval = 10 # 160 images per second\n",
    "anim = FuncAnimation(fig, update_hist, interval=interval, frames=frames[:5000], fargs=(df, dt), save_count=iterations)\n",
    "plt.show()\n",
    "# anim.save(dir_path/'system_state_evo.avi', dpi = 300);"
   ]
  },
  {
   "cell_type": "code",
   "execution_count": null,
   "id": "a9e236a0-7d0d-46a1-9907-2b3e50bb95a1",
   "metadata": {},
   "outputs": [],
   "source": []
  },
  {
   "cell_type": "code",
   "execution_count": null,
   "id": "7187f5d0",
   "metadata": {},
   "outputs": [],
   "source": []
  }
 ],
 "metadata": {
  "kernelspec": {
   "display_name": "Python 3",
   "language": "python",
   "name": "python3"
  },
  "language_info": {
   "codemirror_mode": {
    "name": "ipython",
    "version": 3
   },
   "file_extension": ".py",
   "mimetype": "text/x-python",
   "name": "python",
   "nbconvert_exporter": "python",
   "pygments_lexer": "ipython3",
   "version": "3.9.4"
  }
 },
 "nbformat": 4,
 "nbformat_minor": 5
}
