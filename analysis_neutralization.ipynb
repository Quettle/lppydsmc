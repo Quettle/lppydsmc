{
 "cells": [
  {
   "cell_type": "markdown",
   "id": "2292864b",
   "metadata": {},
   "source": [
    "## Note : \n",
    "Mean free path : $\\lambda = \\frac{1}{n \\sigma}$\n",
    "\n",
    "If $n \\rightarrow 100 \\times n$, then :\n",
    "- $\\lambda \\rightarrow \\frac{\\lambda}{100}$\n",
    "- $\\text{cell size} \\rightarrow \\frac{\\text{cell size}}{100}$ ($100^2$ more cells because the grid is 2D)\n",
    "- $dt \\rightarrow \\frac{dt}{100}$\n",
    "\n",
    "But you can lower, down to a certain extent, the number of particles per cell to \"not incease too much the computation time\"."
   ]
  },
  {
   "cell_type": "markdown",
   "id": "8674e7ec",
   "metadata": {},
   "source": [
    "## Representative physical length scale\n",
    "\n",
    "The system has two lenghts : \n",
    "* lenght of the tube : $L = 0.01$ $m$\n",
    "* width : $w = 0.001$ $m$\n",
    "\n",
    "The width is the representative physical length scale that constrains the flow.\n",
    "\n",
    "So : $K_d = \\frac{\\lambda}{w}$.\n",
    "\n",
    "\n"
   ]
  },
  {
   "cell_type": "markdown",
   "id": "0f2b1686",
   "metadata": {},
   "source": [
    "# ISP, thrust etc."
   ]
  },
  {
   "cell_type": "code",
   "execution_count": 1,
   "id": "9c938cf3",
   "metadata": {},
   "outputs": [],
   "source": [
    "def isp(ve):\n",
    "    return ve/9.81\n",
    "\n",
    "def thrust(mass, speeds, dt):\n",
    "    return mass*np.sum(speeds)/dt"
   ]
  },
  {
   "cell_type": "code",
   "execution_count": 2,
   "id": "334cfa94",
   "metadata": {},
   "outputs": [
    {
     "data": {
      "text/html": [
       "<style>.container { width:100% !important; }</style>"
      ],
      "text/plain": [
       "<IPython.core.display.HTML object>"
      ]
     },
     "metadata": {},
     "output_type": "display_data"
    }
   ],
   "source": [
    "\n",
    "from IPython.core.display import display, HTML\n",
    "display(HTML(\"<style>.container { width:100% !important; }</style>\"))"
   ]
  },
  {
   "cell_type": "code",
   "execution_count": 3,
   "id": "71b6d621",
   "metadata": {
    "slideshow": {
     "slide_type": "slide"
    }
   },
   "outputs": [],
   "source": [
    "%matplotlib widget\n",
    "\n",
    "# notebook\n",
    "import pandas as pd\n",
    "import numpy as np\n",
    "import matplotlib.pyplot as plt\n",
    "import scipy as scipy\n",
    "from pathlib import Path\n",
    "import seaborn as sns\n",
    "\n",
    "from lppydsmc.data.saver import Saver\n",
    "from plotting import analysis\n",
    "from lppydsmc.utils import physics\n",
    "\n",
    "# plt.figure.max_open_warning = False"
   ]
  },
  {
   "cell_type": "markdown",
   "id": "dd77c5cf",
   "metadata": {},
   "source": [
    "## Loading results"
   ]
  },
  {
   "cell_type": "code",
   "execution_count": 4,
   "id": "3d32caa3",
   "metadata": {
    "slideshow": {
     "slide_type": "slide"
    }
   },
   "outputs": [],
   "source": [
    "dir_path = Path('results/')\n",
    "dz = 0.001"
   ]
  },
  {
   "cell_type": "code",
   "execution_count": 5,
   "id": "637957e7",
   "metadata": {
    "slideshow": {
     "slide_type": "subslide"
    }
   },
   "outputs": [],
   "source": [
    "dt = 1e-8\n",
    "mr = 1\n",
    "name = 'neutralization_3_minus100.h5'\n",
    "lenght = 0.011 # m\n",
    "width = 0.005\n",
    "cell_size = 0.001\n",
    "temperature = 23e3 # K\n",
    "nb_cells = 41 # 33\n",
    "volume = cell_size*cell_size*dz*nb_cells\n",
    "\n",
    "nb_injected_particles = 10000"
   ]
  },
  {
   "cell_type": "code",
   "execution_count": 6,
   "id": "9b97e8f3",
   "metadata": {},
   "outputs": [],
   "source": [
    "store = pd.HDFStore(dir_path/name)"
   ]
  },
  {
   "cell_type": "code",
   "execution_count": 7,
   "id": "3cb5a06d",
   "metadata": {},
   "outputs": [
    {
     "data": {
      "text/plain": [
       "['/collisions_with_walls',\n",
       " '/df',\n",
       " '/df_collision_background_gas',\n",
       " '/df_collision_with_walls',\n",
       " '/df_out_particles',\n",
       " '/mean_proba_gas',\n",
       " '/mean_proba_walls',\n",
       " '/total_deleted']"
      ]
     },
     "execution_count": 7,
     "metadata": {},
     "output_type": "execute_result"
    }
   ],
   "source": [
    "store.keys()"
   ]
  },
  {
   "cell_type": "code",
   "execution_count": 8,
   "id": "02437b80",
   "metadata": {},
   "outputs": [],
   "source": [
    "# defining each variable\n",
    "df = store['df']\n",
    "df_out_particles = store['df_out_particles']\n",
    "df_collision_background_gas = store['df_collision_background_gas']\n",
    "df_collision_with_walls = store['df_collision_with_walls']\n",
    "total_deleted = store['total_deleted']\n",
    "collisions_with_walls = store['collisions_with_walls']\n",
    "mean_proba_walls = store['mean_proba_walls']\n",
    "mean_proba_gas = store['mean_proba_gas']"
   ]
  },
  {
   "cell_type": "code",
   "execution_count": 9,
   "id": "272f0f17",
   "metadata": {},
   "outputs": [],
   "source": [
    "choice = 'I'\n",
    "gamma = 5/3. # roughly for atomes, for diatomic molecule : 7/5.\n",
    "\n",
    "\n",
    "mass = physics.get_mass_part(53+1, 53, 74) # I\n",
    "molecular_mass = 0.1269 # kg/mol\n",
    "\n",
    "verbose=False"
   ]
  },
  {
   "cell_type": "code",
   "execution_count": 10,
   "id": "17cbe022",
   "metadata": {},
   "outputs": [
    {
     "name": "stdout",
     "output_type": "stream",
     "text": [
      "Speed of sound for [I] at temperature 23000.0 K : 1584.7563179678798 m/s\n"
     ]
    }
   ],
   "source": [
    "sound_vel = physics.speed_of_sound(molecular_mass, temperature, gamma)\n",
    "print(f'Speed of sound for [{choice}] at temperature {temperature} K : {sound_vel} m/s')"
   ]
  },
  {
   "cell_type": "markdown",
   "id": "ffe8ae01",
   "metadata": {},
   "source": [
    "## Note : \n",
    "To save a figure, you can use : `analysis.save_fig(fig, path, title = None, dpi = 400, figsize = None)`, which allows you to easily save a figure while giving it a title and changing its size.\n",
    "You can also use the interactive widget."
   ]
  },
  {
   "cell_type": "markdown",
   "id": "bf70d067",
   "metadata": {},
   "source": [
    "## Choosing the part of the system to plot "
   ]
  },
  {
   "cell_type": "code",
   "execution_count": 11,
   "id": "a6f7428a",
   "metadata": {},
   "outputs": [],
   "source": [
    "\n",
    "res_x_0, res_y_0 = 11, 5\n",
    "\n",
    "total_nb_cells = res_x_0*res_y_0"
   ]
  },
  {
   "cell_type": "code",
   "execution_count": 12,
   "id": "3b3f4555",
   "metadata": {},
   "outputs": [
    {
     "data": {
      "application/vnd.jupyter.widget-view+json": {
       "model_id": "d9be398b2d5d477f866b35bf31c8df58",
       "version_major": 2,
       "version_minor": 0
      },
      "text/plain": [
       "Canvas(toolbar=Toolbar(toolitems=[('Home', 'Reset original view', 'home', 'home'), ('Back', 'Back to previous …"
      ]
     },
     "metadata": {},
     "output_type": "display_data"
    }
   ],
   "source": [
    "fig, ax = plt.subplots(1, constrained_layout = True, figsize = (res_x_0, res_y_0));\n",
    "\n",
    "fact = 10\n",
    "volume_cell_plot = volume/(fact*fact*res_x_0*res_y_0)\n",
    "duration = df.index.unique().values.shape[0]\n",
    "analysis.hist2d(ax, df, bins = (fact*res_x_0,fact*res_y_0), weights = mr*np.ones(df.shape[0])/(duration*volume_cell_plot), stat = 'count'); # TODO: add cmap"
   ]
  },
  {
   "cell_type": "markdown",
   "id": "dd05cd9c",
   "metadata": {},
   "source": [
    "## Choosing frames to plot"
   ]
  },
  {
   "cell_type": "code",
   "execution_count": 13,
   "id": "c460d1c0",
   "metadata": {},
   "outputs": [],
   "source": [
    "unique_index = df.index.unique().values\n",
    "nb_save = unique_index.shape[0]\n",
    "iterations = np.max(unique_index)\n",
    "adding_period = unique_index[1]-unique_index[0] # adding period - required to\n",
    "# generally speaking, you choose frames so you have the steady state\n",
    "frames = unique_index[int(0.0*nb_save):nb_save] \n",
    "\n",
    "if(verbose):\n",
    "    print(f'Available frames :  {unique_index}')\n",
    "    print(f'Max iteration : {iterations}')\n",
    "    print(f'Choosen frames (for plotting) : \\n{frames}')"
   ]
  },
  {
   "cell_type": "markdown",
   "id": "37c37105",
   "metadata": {},
   "source": [
    "## Proba evolution"
   ]
  },
  {
   "cell_type": "code",
   "execution_count": 14,
   "id": "3fb56cbf",
   "metadata": {},
   "outputs": [
    {
     "data": {
      "application/vnd.jupyter.widget-view+json": {
       "model_id": "7db6b5af72074f4380a96ef7c1e90ae5",
       "version_major": 2,
       "version_minor": 0
      },
      "text/plain": [
       "Canvas(toolbar=Toolbar(toolitems=[('Home', 'Reset original view', 'home', 'home'), ('Back', 'Back to previous …"
      ]
     },
     "metadata": {},
     "output_type": "display_data"
    }
   ],
   "source": [
    "fig, ax = plt.subplots(2)\n",
    "# ax.set_yscale('log')\n",
    "ax[0].plot(mean_proba_gas.index*dt, mean_proba_gas.values, label = 'gas')\n",
    "ax[1].plot(mean_proba_walls.index*dt, mean_proba_walls.values, label = 'walls');\n",
    "ax[0].legend();\n",
    "ax[1].legend();"
   ]
  },
  {
   "cell_type": "markdown",
   "id": "5171716f",
   "metadata": {},
   "source": [
    "## Out particles analysis"
   ]
  },
  {
   "cell_type": "code",
   "execution_count": 15,
   "id": "14e295bb",
   "metadata": {},
   "outputs": [
    {
     "data": {
      "text/html": [
       "<div>\n",
       "<style scoped>\n",
       "    .dataframe tbody tr th:only-of-type {\n",
       "        vertical-align: middle;\n",
       "    }\n",
       "\n",
       "    .dataframe tbody tr th {\n",
       "        vertical-align: top;\n",
       "    }\n",
       "\n",
       "    .dataframe thead th {\n",
       "        text-align: right;\n",
       "    }\n",
       "</style>\n",
       "<table border=\"1\" class=\"dataframe\">\n",
       "  <thead>\n",
       "    <tr style=\"text-align: right;\">\n",
       "      <th></th>\n",
       "      <th>x</th>\n",
       "      <th>y</th>\n",
       "      <th>vx</th>\n",
       "      <th>vy</th>\n",
       "      <th>vz</th>\n",
       "      <th>type</th>\n",
       "    </tr>\n",
       "  </thead>\n",
       "  <tbody>\n",
       "    <tr>\n",
       "      <th>115</th>\n",
       "      <td>0.018027</td>\n",
       "      <td>0.002358</td>\n",
       "      <td>20550.091993</td>\n",
       "      <td>1319.385148</td>\n",
       "      <td>537.412261</td>\n",
       "      <td>1.0</td>\n",
       "    </tr>\n",
       "    <tr>\n",
       "      <th>115</th>\n",
       "      <td>0.018081</td>\n",
       "      <td>0.002164</td>\n",
       "      <td>20660.790745</td>\n",
       "      <td>571.290774</td>\n",
       "      <td>60.388648</td>\n",
       "      <td>1.0</td>\n",
       "    </tr>\n",
       "    <tr>\n",
       "      <th>115</th>\n",
       "      <td>0.018084</td>\n",
       "      <td>0.002321</td>\n",
       "      <td>20529.865263</td>\n",
       "      <td>1690.159952</td>\n",
       "      <td>1812.953222</td>\n",
       "      <td>1.0</td>\n",
       "    </tr>\n",
       "    <tr>\n",
       "      <th>116</th>\n",
       "      <td>0.018058</td>\n",
       "      <td>0.002651</td>\n",
       "      <td>20482.668143</td>\n",
       "      <td>2027.324130</td>\n",
       "      <td>386.319796</td>\n",
       "      <td>1.0</td>\n",
       "    </tr>\n",
       "    <tr>\n",
       "      <th>116</th>\n",
       "      <td>0.018132</td>\n",
       "      <td>0.001976</td>\n",
       "      <td>21652.645224</td>\n",
       "      <td>-361.886807</td>\n",
       "      <td>-685.016668</td>\n",
       "      <td>1.0</td>\n",
       "    </tr>\n",
       "  </tbody>\n",
       "</table>\n",
       "</div>"
      ],
      "text/plain": [
       "            x         y            vx           vy           vz  type\n",
       "115  0.018027  0.002358  20550.091993  1319.385148   537.412261   1.0\n",
       "115  0.018081  0.002164  20660.790745   571.290774    60.388648   1.0\n",
       "115  0.018084  0.002321  20529.865263  1690.159952  1812.953222   1.0\n",
       "116  0.018058  0.002651  20482.668143  2027.324130   386.319796   1.0\n",
       "116  0.018132  0.001976  21652.645224  -361.886807  -685.016668   1.0"
      ]
     },
     "execution_count": 15,
     "metadata": {},
     "output_type": "execute_result"
    }
   ],
   "source": [
    "df_out_particles.head()"
   ]
  },
  {
   "cell_type": "code",
   "execution_count": 16,
   "id": "a14be5cb",
   "metadata": {},
   "outputs": [
    {
     "name": "stdout",
     "output_type": "stream",
     "text": [
      "9356\n"
     ]
    }
   ],
   "source": [
    "print(df_out_particles.shape[0])"
   ]
  },
  {
   "cell_type": "code",
   "execution_count": 17,
   "id": "e619555d",
   "metadata": {},
   "outputs": [],
   "source": [
    "def convert_to_species(row):\n",
    "    if(row['type'] == 0):\n",
    "        return 'I-'\n",
    "    else :\n",
    "        return 'I'"
   ]
  },
  {
   "cell_type": "code",
   "execution_count": 18,
   "id": "358b8393",
   "metadata": {},
   "outputs": [],
   "source": [
    "df_out_particles['species'] = df_out_particles.apply(convert_to_species, axis = 1)"
   ]
  },
  {
   "cell_type": "code",
   "execution_count": 19,
   "id": "31449af6",
   "metadata": {},
   "outputs": [],
   "source": [
    "df_out_particles['v'] = np.sqrt(df_out_particles['vx']**2+df_out_particles['vy']**2+df_out_particles['vz']**2)\n",
    "df_out_particles['energy'] = df_out_particles['v']**2\n",
    "df_out_particles['angle'] = np.arctan(df_out_particles['vy']/df_out_particles['vx'])"
   ]
  },
  {
   "cell_type": "code",
   "execution_count": 20,
   "id": "bdde47ae",
   "metadata": {},
   "outputs": [],
   "source": [
    "ions_out = df_out_particles.loc[df_out_particles['type'] == 0]\n",
    "neutral_out =  df_out_particles.loc[df_out_particles['type'] == 1]"
   ]
  },
  {
   "cell_type": "code",
   "execution_count": 21,
   "id": "cae704a2",
   "metadata": {},
   "outputs": [
    {
     "name": "stdout",
     "output_type": "stream",
     "text": [
      "100% neutralization\n",
      "         x\n",
      "type      \n",
      "1.0   9356\n"
     ]
    }
   ],
   "source": [
    "results = df_out_particles[['type', 'x']].groupby('type').count();\n",
    "try:\n",
    "    print('Out particles neutralization percentage : {:.3} %'.format(100*results.iloc[1,0]/(results.iloc[1,0]+results.iloc[0,0])))\n",
    "except:\n",
    "    print('100% neutralization')\n",
    "    print(results)"
   ]
  },
  {
   "cell_type": "code",
   "execution_count": 22,
   "id": "729f40ba",
   "metadata": {},
   "outputs": [
    {
     "data": {
      "text/html": [
       "<div>\n",
       "<style scoped>\n",
       "    .dataframe tbody tr th:only-of-type {\n",
       "        vertical-align: middle;\n",
       "    }\n",
       "\n",
       "    .dataframe tbody tr th {\n",
       "        vertical-align: top;\n",
       "    }\n",
       "\n",
       "    .dataframe thead th {\n",
       "        text-align: right;\n",
       "    }\n",
       "</style>\n",
       "<table border=\"1\" class=\"dataframe\">\n",
       "  <thead>\n",
       "    <tr style=\"text-align: right;\">\n",
       "      <th></th>\n",
       "      <th>vx</th>\n",
       "      <th>vy</th>\n",
       "      <th>vz</th>\n",
       "      <th>v</th>\n",
       "      <th>energy</th>\n",
       "    </tr>\n",
       "    <tr>\n",
       "      <th>species</th>\n",
       "      <th></th>\n",
       "      <th></th>\n",
       "      <th></th>\n",
       "      <th></th>\n",
       "      <th></th>\n",
       "    </tr>\n",
       "  </thead>\n",
       "  <tbody>\n",
       "    <tr>\n",
       "      <th>I</th>\n",
       "      <td>13069.610458</td>\n",
       "      <td>8.432608</td>\n",
       "      <td>-19.303842</td>\n",
       "      <td>13541.7677</td>\n",
       "      <td>2.341396e+08</td>\n",
       "    </tr>\n",
       "  </tbody>\n",
       "</table>\n",
       "</div>"
      ],
      "text/plain": [
       "                   vx        vy         vz           v        energy\n",
       "species                                                             \n",
       "I        13069.610458  8.432608 -19.303842  13541.7677  2.341396e+08"
      ]
     },
     "execution_count": 22,
     "metadata": {},
     "output_type": "execute_result"
    }
   ],
   "source": [
    "vel_results = df_out_particles[['species', 'vx', 'vy', 'vz', 'v','energy']].groupby('species').agg('mean');\n",
    "vel_results"
   ]
  },
  {
   "cell_type": "code",
   "execution_count": 47,
   "id": "a5d7a461-9bc7-4673-9b9b-32ba8be42e2f",
   "metadata": {},
   "outputs": [],
   "source": [
    "analysis.set_fontsizes(SMALL_SIZE = 10, MEDIUM_SIZE = 12, BIGGER_SIZE = 14)"
   ]
  },
  {
   "cell_type": "code",
   "execution_count": 49,
   "id": "688224fb",
   "metadata": {},
   "outputs": [
    {
     "data": {
      "application/vnd.jupyter.widget-view+json": {
       "model_id": "dcb07d1c9ec14eef90f4b30928b95f5d",
       "version_major": 2,
       "version_minor": 0
      },
      "text/plain": [
       "Canvas(toolbar=Toolbar(toolitems=[('Home', 'Reset original view', 'home', 'home'), ('Back', 'Back to previous …"
      ]
     },
     "metadata": {},
     "output_type": "display_data"
    }
   ],
   "source": [
    "fig, ax = plt.subplots(constrained_layout = True)\n",
    "sns.despine(fig)\n",
    "\n",
    "sns.histplot(\n",
    "    df_out_particles,\n",
    "    x=\"vx\", hue=\"species\",\n",
    "    bins = 100,\n",
    "    multiple=\"stack\",\n",
    "    palette=\"light:m_r\",\n",
    "    edgecolor=\".3\",\n",
    "    linewidth=.5,\n",
    "    log_scale=False,\n",
    ");"
   ]
  },
  {
   "cell_type": "code",
   "execution_count": 48,
   "id": "819f4d6f",
   "metadata": {},
   "outputs": [
    {
     "data": {
      "application/vnd.jupyter.widget-view+json": {
       "model_id": "914e88df6fb94d7182c3fe7fcf62b39c",
       "version_major": 2,
       "version_minor": 0
      },
      "text/plain": [
       "Canvas(toolbar=Toolbar(toolitems=[('Home', 'Reset original view', 'home', 'home'), ('Back', 'Back to previous …"
      ]
     },
     "metadata": {},
     "output_type": "display_data"
    },
    {
     "data": {
      "text/plain": [
       "<AxesSubplot:xlabel='angle', ylabel='Count'>"
      ]
     },
     "execution_count": 48,
     "metadata": {},
     "output_type": "execute_result"
    }
   ],
   "source": [
    "fig, ax = plt.subplots(constrained_layout = True)\n",
    "#sns.despine(fig)\n",
    "ax.set_xticks([-np.pi/2, -np.pi/4, 0, np.pi/4, np.pi/2]);\n",
    "ax.set_xticklabels(['-π/2', '-π/4', '0', 'π/4', 'π/2'])\n",
    "sns.histplot(\n",
    "    df_out_particles,\n",
    "    # bins = 100,\n",
    "    x=\"angle\", hue=\"species\",\n",
    "    multiple=\"stack\",\n",
    "    palette=\"light:m_r\",\n",
    "    edgecolor=\".3\",\n",
    "    linewidth=.5,\n",
    "    log_scale=False,\n",
    ")\n"
   ]
  },
  {
   "cell_type": "markdown",
   "id": "6b5761d1-6338-4eef-a348-063187ceabdb",
   "metadata": {},
   "source": [
    "### Thrust due to ions"
   ]
  },
  {
   "cell_type": "code",
   "execution_count": 50,
   "id": "b8f5d3a0-beb6-4ffe-bf0d-ac8ac40f8d3f",
   "metadata": {},
   "outputs": [
    {
     "name": "stdout",
     "output_type": "stream",
     "text": [
      "Mean speed out : 1.223e+04 m/s.\n"
     ]
    }
   ],
   "source": [
    "print('Mean speed out : {:.3e} m/s.'.format(df_out_particles.sum()['vx']/nb_injected_particles))"
   ]
  },
  {
   "cell_type": "code",
   "execution_count": 51,
   "id": "4a17ab79",
   "metadata": {},
   "outputs": [
    {
     "name": "stdout",
     "output_type": "stream",
     "text": [
      "Ratio ion / neutral : 12.2\n",
      "Thrust per injection surface : 4.50e-01 N/m²\n"
     ]
    }
   ],
   "source": [
    "density_ion = 3.2e17\n",
    "v_mean_injection_ion = 2000 # m/s\n",
    "flux_ion = 0.25*density_ion*v_mean_injection_ion\n",
    "\n",
    "density = 3.2e19\n",
    "v_mean_injection = 200 # m/s\n",
    "flux = 0.25*density*v_mean_injection\n",
    "\n",
    "# in this simulation\n",
    "mean_speed_ion = df_out_particles.sum()['vx']/nb_injected_particles\n",
    "mean_speed = 100 # m/s\n",
    "\n",
    "surfasic_thrust_ion = mean_speed_ion*mass*flux_ion\n",
    "surfasic_thrust = mean_speed*mass*flux\n",
    "total_thrust = surfasic_thrust+surfasic_thrust_ion\n",
    "print('Ratio ion / neutral : {:.3}'.format(surfasic_thrust_ion/surfasic_thrust))\n",
    "print('Thrust per injection surface : {:.2e} N/m²'.format(total_thrust))"
   ]
  },
  {
   "cell_type": "code",
   "execution_count": 52,
   "id": "b8df5bc0-0f08-4de2-98e5-d2814ae61494",
   "metadata": {},
   "outputs": [
    {
     "data": {
      "text/plain": [
       "0.9180327868852459"
      ]
     },
     "execution_count": 52,
     "metadata": {},
     "output_type": "execute_result"
    }
   ],
   "source": [
    "1-1/12.2"
   ]
  },
  {
   "cell_type": "code",
   "execution_count": 53,
   "id": "28669836-2e24-46e8-9f11-094d99967e08",
   "metadata": {},
   "outputs": [
    {
     "name": "stdout",
     "output_type": "stream",
     "text": [
      "Pegase thrust : 8.990e-04 N\n"
     ]
    }
   ],
   "source": [
    "surface_pegase = 5e-2 * 4e-2 # m²\n",
    "print('Pegase thrust : {:.3e} N'.format(total_thrust*surface_pegase))"
   ]
  },
  {
   "cell_type": "code",
   "execution_count": 54,
   "id": "7a98fe2b",
   "metadata": {},
   "outputs": [
    {
     "name": "stdout",
     "output_type": "stream",
     "text": [
      "Isp : 1.246e+03 s-1\n",
      "Theoretical Isp : 2.273e+03 s-1\n",
      "Efficiency : 54.8 %\n"
     ]
    }
   ],
   "source": [
    "V_accel = 330 # V\n",
    "e = 1.6e-19\n",
    "print('Isp : {:.3e} s-1'.format(mean_speed_ion/9.81))\n",
    "print('Theoretical Isp : {:.3e} s-1'.format((np.sqrt(2*e*V_accel/mass))/9.81))\n",
    "print('Efficiency : {:.3} %'.format(100*mean_speed_ion/np.sqrt(2*e*V_accel/mass)))"
   ]
  },
  {
   "cell_type": "markdown",
   "id": "de887451",
   "metadata": {},
   "source": [
    "## df_collision_background_gas"
   ]
  },
  {
   "cell_type": "code",
   "execution_count": 55,
   "id": "234a67c5",
   "metadata": {},
   "outputs": [],
   "source": [
    "df_collision_background_gas['species'] = df_collision_background_gas.apply(convert_to_species, axis = 1)"
   ]
  },
  {
   "cell_type": "code",
   "execution_count": 56,
   "id": "82ec00a5",
   "metadata": {},
   "outputs": [
    {
     "name": "stdout",
     "output_type": "stream",
     "text": [
      "Number of collisions with background gas : 5783\n"
     ]
    },
    {
     "data": {
      "text/html": [
       "<div>\n",
       "<style scoped>\n",
       "    .dataframe tbody tr th:only-of-type {\n",
       "        vertical-align: middle;\n",
       "    }\n",
       "\n",
       "    .dataframe tbody tr th {\n",
       "        vertical-align: top;\n",
       "    }\n",
       "\n",
       "    .dataframe thead th {\n",
       "        text-align: right;\n",
       "    }\n",
       "</style>\n",
       "<table border=\"1\" class=\"dataframe\">\n",
       "  <thead>\n",
       "    <tr style=\"text-align: right;\">\n",
       "      <th></th>\n",
       "      <th>x</th>\n",
       "      <th>y</th>\n",
       "      <th>type</th>\n",
       "      <th>species</th>\n",
       "    </tr>\n",
       "  </thead>\n",
       "  <tbody>\n",
       "    <tr>\n",
       "      <th>1</th>\n",
       "      <td>0.000054</td>\n",
       "      <td>0.003384</td>\n",
       "      <td>0.0</td>\n",
       "      <td>I-</td>\n",
       "    </tr>\n",
       "    <tr>\n",
       "      <th>1</th>\n",
       "      <td>0.000029</td>\n",
       "      <td>0.004883</td>\n",
       "      <td>0.0</td>\n",
       "      <td>I-</td>\n",
       "    </tr>\n",
       "    <tr>\n",
       "      <th>1</th>\n",
       "      <td>0.000014</td>\n",
       "      <td>0.004905</td>\n",
       "      <td>0.0</td>\n",
       "      <td>I-</td>\n",
       "    </tr>\n",
       "    <tr>\n",
       "      <th>2</th>\n",
       "      <td>0.000073</td>\n",
       "      <td>0.002246</td>\n",
       "      <td>0.0</td>\n",
       "      <td>I-</td>\n",
       "    </tr>\n",
       "    <tr>\n",
       "      <th>3</th>\n",
       "      <td>0.000075</td>\n",
       "      <td>0.001645</td>\n",
       "      <td>0.0</td>\n",
       "      <td>I-</td>\n",
       "    </tr>\n",
       "  </tbody>\n",
       "</table>\n",
       "</div>"
      ],
      "text/plain": [
       "          x         y  type species\n",
       "1  0.000054  0.003384   0.0      I-\n",
       "1  0.000029  0.004883   0.0      I-\n",
       "1  0.000014  0.004905   0.0      I-\n",
       "2  0.000073  0.002246   0.0      I-\n",
       "3  0.000075  0.001645   0.0      I-"
      ]
     },
     "execution_count": 56,
     "metadata": {},
     "output_type": "execute_result"
    }
   ],
   "source": [
    "print('Number of collisions with background gas : {}'.format(df_collision_background_gas.shape[0]))\n",
    "df_collision_background_gas.head()"
   ]
  },
  {
   "cell_type": "code",
   "execution_count": 57,
   "id": "7d23fbdb",
   "metadata": {},
   "outputs": [
    {
     "data": {
      "application/vnd.jupyter.widget-view+json": {
       "model_id": "ca743c2c844944e18a57c0e9ac6724e3",
       "version_major": 2,
       "version_minor": 0
      },
      "text/plain": [
       "Canvas(toolbar=Toolbar(toolitems=[('Home', 'Reset original view', 'home', 'home'), ('Back', 'Back to previous …"
      ]
     },
     "metadata": {},
     "output_type": "display_data"
    }
   ],
   "source": [
    "# Ion plot\n",
    "sns.set_theme(style=\"ticks\")\n",
    "sns.jointplot(data = df_collision_background_gas.loc[df_collision_background_gas['type']==0], x='x', y='y', kind=\"hex\", color=\"#4CB391\");\n",
    "\n",
    "# Neutral\n",
    "# sns.set_theme(style=\"ticks\")\n",
    "# sns.jointplot(data = df_collision_background_gas.loc[df_collision_background_gas['type']==1], x='x', y='y', kind=\"hex\", color=\"#4CB391\");"
   ]
  },
  {
   "cell_type": "code",
   "execution_count": 58,
   "id": "b1bb3eed",
   "metadata": {},
   "outputs": [],
   "source": [
    "# both\n",
    "# sns.set_theme(style=\"ticks\")\n",
    "# sns.jointplot(data = df_collision_background_gas, x='x', y='y', hue=\"type\", s = 10) # , kind=\"hist\") #, kind=\"hist\")"
   ]
  },
  {
   "cell_type": "markdown",
   "id": "2a2033f3",
   "metadata": {},
   "source": [
    "## df_collision_with_walls"
   ]
  },
  {
   "cell_type": "code",
   "execution_count": 59,
   "id": "19745aa7",
   "metadata": {},
   "outputs": [],
   "source": [
    "df_collision_with_walls['species'] = df_collision_with_walls.apply(convert_to_species, axis = 1)"
   ]
  },
  {
   "cell_type": "code",
   "execution_count": 60,
   "id": "76ca7f78",
   "metadata": {},
   "outputs": [
    {
     "name": "stdout",
     "output_type": "stream",
     "text": [
      "Number of collisions with walls : 74790\n"
     ]
    },
    {
     "data": {
      "text/html": [
       "<div>\n",
       "<style scoped>\n",
       "    .dataframe tbody tr th:only-of-type {\n",
       "        vertical-align: middle;\n",
       "    }\n",
       "\n",
       "    .dataframe tbody tr th {\n",
       "        vertical-align: top;\n",
       "    }\n",
       "\n",
       "    .dataframe thead th {\n",
       "        text-align: right;\n",
       "    }\n",
       "</style>\n",
       "<table border=\"1\" class=\"dataframe\">\n",
       "  <thead>\n",
       "    <tr style=\"text-align: right;\">\n",
       "      <th></th>\n",
       "      <th>x</th>\n",
       "      <th>y</th>\n",
       "      <th>type</th>\n",
       "      <th>angle</th>\n",
       "      <th>species</th>\n",
       "    </tr>\n",
       "  </thead>\n",
       "  <tbody>\n",
       "    <tr>\n",
       "      <th>1</th>\n",
       "      <td>0.000024</td>\n",
       "      <td>2.998022e-07</td>\n",
       "      <td>0.0</td>\n",
       "      <td>0.738774</td>\n",
       "      <td>I-</td>\n",
       "    </tr>\n",
       "    <tr>\n",
       "      <th>1</th>\n",
       "      <td>0.000012</td>\n",
       "      <td>2.315137e-05</td>\n",
       "      <td>0.0</td>\n",
       "      <td>0.378493</td>\n",
       "      <td>I-</td>\n",
       "    </tr>\n",
       "    <tr>\n",
       "      <th>1</th>\n",
       "      <td>0.000046</td>\n",
       "      <td>4.992539e-03</td>\n",
       "      <td>0.0</td>\n",
       "      <td>1.126634</td>\n",
       "      <td>I-</td>\n",
       "    </tr>\n",
       "    <tr>\n",
       "      <th>1</th>\n",
       "      <td>0.000034</td>\n",
       "      <td>4.988920e-03</td>\n",
       "      <td>0.0</td>\n",
       "      <td>0.776822</td>\n",
       "      <td>I-</td>\n",
       "    </tr>\n",
       "    <tr>\n",
       "      <th>1</th>\n",
       "      <td>0.000045</td>\n",
       "      <td>4.997367e-03</td>\n",
       "      <td>0.0</td>\n",
       "      <td>1.155879</td>\n",
       "      <td>I-</td>\n",
       "    </tr>\n",
       "  </tbody>\n",
       "</table>\n",
       "</div>"
      ],
      "text/plain": [
       "          x             y  type     angle species\n",
       "1  0.000024  2.998022e-07   0.0  0.738774      I-\n",
       "1  0.000012  2.315137e-05   0.0  0.378493      I-\n",
       "1  0.000046  4.992539e-03   0.0  1.126634      I-\n",
       "1  0.000034  4.988920e-03   0.0  0.776822      I-\n",
       "1  0.000045  4.997367e-03   0.0  1.155879      I-"
      ]
     },
     "execution_count": 60,
     "metadata": {},
     "output_type": "execute_result"
    }
   ],
   "source": [
    "print('Number of collisions with walls : {}'.format(df_collision_with_walls.shape[0]))\n",
    "df_collision_with_walls.head()"
   ]
  },
  {
   "cell_type": "code",
   "execution_count": 61,
   "id": "13d0a969",
   "metadata": {},
   "outputs": [
    {
     "data": {
      "application/vnd.jupyter.widget-view+json": {
       "model_id": "da5aed4d1b614526bbd9431488b39183",
       "version_major": 2,
       "version_minor": 0
      },
      "text/plain": [
       "Canvas(toolbar=Toolbar(toolitems=[('Home', 'Reset original view', 'home', 'home'), ('Back', 'Back to previous …"
      ]
     },
     "metadata": {},
     "output_type": "display_data"
    }
   ],
   "source": [
    "ions = df_collision_with_walls.loc[df_collision_with_walls['type']==0]\n",
    "fig, ax = plt.subplots()\n",
    "ax.axis('equal')\n",
    "scatter = ax.scatter(ions['x'], ions['y'], s = 0.005, c = ions['type']);\n",
    "# produce a legend with the unique colors from the scatter\n",
    "legend1 = ax.legend(*scatter.legend_elements(),\n",
    "                    loc=\"upper right\", title=\"Species\")\n",
    "ax.add_artist(legend1);"
   ]
  },
  {
   "cell_type": "code",
   "execution_count": 62,
   "id": "0f347f41",
   "metadata": {},
   "outputs": [
    {
     "data": {
      "application/vnd.jupyter.widget-view+json": {
       "model_id": "dbf7e3be6b254d7591101b108031c002",
       "version_major": 2,
       "version_minor": 0
      },
      "text/plain": [
       "Canvas(toolbar=Toolbar(toolitems=[('Home', 'Reset original view', 'home', 'home'), ('Back', 'Back to previous …"
      ]
     },
     "metadata": {},
     "output_type": "display_data"
    }
   ],
   "source": [
    "sns.set_theme(style=\"ticks\")\n",
    "sns.jointplot(data = ions, x='x', y='y', kind=\"hex\", color=\"#4CB391\");"
   ]
  },
  {
   "cell_type": "code",
   "execution_count": 63,
   "id": "85a2186e",
   "metadata": {},
   "outputs": [
    {
     "data": {
      "application/vnd.jupyter.widget-view+json": {
       "model_id": "48289bfbbcfc4fd3b3266a6a9dcb951c",
       "version_major": 2,
       "version_minor": 0
      },
      "text/plain": [
       "Canvas(toolbar=Toolbar(toolitems=[('Home', 'Reset original view', 'home', 'home'), ('Back', 'Back to previous …"
      ]
     },
     "metadata": {},
     "output_type": "display_data"
    }
   ],
   "source": [
    "fig, ax = plt.subplots()\n",
    "sns.despine(fig)\n",
    "\n",
    "sns.histplot(\n",
    "    df_collision_with_walls,\n",
    "    # bins = 100,\n",
    "    x=\"angle\", hue=\"species\",\n",
    "    multiple=\"stack\",\n",
    "    palette=\"light:m_r\",\n",
    "    edgecolor=\".3\",\n",
    "    linewidth=.5,\n",
    "    log_scale=False,\n",
    ");"
   ]
  },
  {
   "cell_type": "code",
   "execution_count": 64,
   "id": "1fca531a",
   "metadata": {},
   "outputs": [],
   "source": [
    "# Neutral plot\n",
    "# sns.set_theme(style=\"ticks\")\n",
    "# sns.jointplot(data = df_collision_with_walls, x='x', y='y', hue=\"type\", s = 10) # , kind=\"hist\") #, kind=\"hist\")"
   ]
  },
  {
   "cell_type": "markdown",
   "id": "f66f0bf8",
   "metadata": {},
   "source": [
    "## Particles analysis\n",
    "### Plotting number of particles evolution"
   ]
  },
  {
   "cell_type": "code",
   "execution_count": 65,
   "id": "bb3f98d8",
   "metadata": {},
   "outputs": [],
   "source": [
    "df['species'] = df.apply(convert_to_species, axis = 1)"
   ]
  },
  {
   "cell_type": "code",
   "execution_count": 66,
   "id": "f41c43e7",
   "metadata": {},
   "outputs": [
    {
     "data": {
      "text/html": [
       "<div>\n",
       "<style scoped>\n",
       "    .dataframe tbody tr th:only-of-type {\n",
       "        vertical-align: middle;\n",
       "    }\n",
       "\n",
       "    .dataframe tbody tr th {\n",
       "        vertical-align: top;\n",
       "    }\n",
       "\n",
       "    .dataframe thead th {\n",
       "        text-align: right;\n",
       "    }\n",
       "</style>\n",
       "<table border=\"1\" class=\"dataframe\">\n",
       "  <thead>\n",
       "    <tr style=\"text-align: right;\">\n",
       "      <th></th>\n",
       "      <th>x</th>\n",
       "      <th>y</th>\n",
       "      <th>vx</th>\n",
       "      <th>vy</th>\n",
       "      <th>vz</th>\n",
       "      <th>type</th>\n",
       "      <th>species</th>\n",
       "    </tr>\n",
       "  </thead>\n",
       "  <tbody>\n",
       "    <tr>\n",
       "      <th>1</th>\n",
       "      <td>0.000008</td>\n",
       "      <td>0.004777</td>\n",
       "      <td>671.406992</td>\n",
       "      <td>472.302939</td>\n",
       "      <td>745.819121</td>\n",
       "      <td>0.0</td>\n",
       "      <td>I-</td>\n",
       "    </tr>\n",
       "    <tr>\n",
       "      <th>1</th>\n",
       "      <td>0.000042</td>\n",
       "      <td>0.000270</td>\n",
       "      <td>2954.658408</td>\n",
       "      <td>1108.304440</td>\n",
       "      <td>1428.512151</td>\n",
       "      <td>0.0</td>\n",
       "      <td>I-</td>\n",
       "    </tr>\n",
       "    <tr>\n",
       "      <th>1</th>\n",
       "      <td>0.000015</td>\n",
       "      <td>0.003250</td>\n",
       "      <td>1274.714431</td>\n",
       "      <td>-52.792652</td>\n",
       "      <td>-75.409367</td>\n",
       "      <td>0.0</td>\n",
       "      <td>I-</td>\n",
       "    </tr>\n",
       "    <tr>\n",
       "      <th>1</th>\n",
       "      <td>0.000015</td>\n",
       "      <td>0.000041</td>\n",
       "      <td>1188.151121</td>\n",
       "      <td>548.605835</td>\n",
       "      <td>1630.475805</td>\n",
       "      <td>0.0</td>\n",
       "      <td>I-</td>\n",
       "    </tr>\n",
       "    <tr>\n",
       "      <th>1</th>\n",
       "      <td>0.000002</td>\n",
       "      <td>0.003980</td>\n",
       "      <td>198.520273</td>\n",
       "      <td>-294.783393</td>\n",
       "      <td>124.374629</td>\n",
       "      <td>0.0</td>\n",
       "      <td>I-</td>\n",
       "    </tr>\n",
       "  </tbody>\n",
       "</table>\n",
       "</div>"
      ],
      "text/plain": [
       "          x         y           vx           vy           vz  type species\n",
       "1  0.000008  0.004777   671.406992   472.302939   745.819121   0.0      I-\n",
       "1  0.000042  0.000270  2954.658408  1108.304440  1428.512151   0.0      I-\n",
       "1  0.000015  0.003250  1274.714431   -52.792652   -75.409367   0.0      I-\n",
       "1  0.000015  0.000041  1188.151121   548.605835  1630.475805   0.0      I-\n",
       "1  0.000002  0.003980   198.520273  -294.783393   124.374629   0.0      I-"
      ]
     },
     "execution_count": 66,
     "metadata": {},
     "output_type": "execute_result"
    }
   ],
   "source": [
    "df.head()"
   ]
  },
  {
   "cell_type": "code",
   "execution_count": 67,
   "id": "6934008e",
   "metadata": {},
   "outputs": [],
   "source": [
    "nb_parts = df['x'].groupby(df.index).agg('count').values"
   ]
  },
  {
   "cell_type": "code",
   "execution_count": 68,
   "id": "ec64508a",
   "metadata": {},
   "outputs": [
    {
     "data": {
      "application/vnd.jupyter.widget-view+json": {
       "model_id": "8f3a0e8e22fe43c7b48d17c18b528142",
       "version_major": 2,
       "version_minor": 0
      },
      "text/plain": [
       "Canvas(toolbar=Toolbar(toolitems=[('Home', 'Reset original view', 'home', 'home'), ('Back', 'Back to previous …"
      ]
     },
     "metadata": {},
     "output_type": "display_data"
    }
   ],
   "source": [
    "fig, ax = plt.subplots()\n",
    "ax.plot(df.index.unique()*dt, nb_parts)\n",
    "analysis.set_axis(ax, x = 'time', y = 'quantity')"
   ]
  },
  {
   "cell_type": "code",
   "execution_count": 69,
   "id": "d7ec5c49",
   "metadata": {},
   "outputs": [
    {
     "data": {
      "application/vnd.jupyter.widget-view+json": {
       "model_id": "9b4b54d07c1a44b8ab6819984601a649",
       "version_major": 2,
       "version_minor": 0
      },
      "text/plain": [
       "Canvas(toolbar=Toolbar(toolitems=[('Home', 'Reset original view', 'home', 'home'), ('Back', 'Back to previous …"
      ]
     },
     "metadata": {},
     "output_type": "display_data"
    }
   ],
   "source": [
    "df_it = df.loc[df.index == 1000]\n",
    "fig, ax = plt.subplots()\n",
    "sns.despine(fig)\n",
    "\n",
    "sns.scatterplot(\n",
    "    data = df_it,\n",
    "    # bins = 100,\n",
    "    x=\"x\", y =\"y\", hue=\"species\", s = 5.\n",
    ");"
   ]
  },
  {
   "cell_type": "code",
   "execution_count": 70,
   "id": "3c2dc3f3",
   "metadata": {},
   "outputs": [
    {
     "data": {
      "application/vnd.jupyter.widget-view+json": {
       "model_id": "14964d77bd5441da93b46493e980efa0",
       "version_major": 2,
       "version_minor": 0
      },
      "text/plain": [
       "Canvas(toolbar=Toolbar(toolitems=[('Home', 'Reset original view', 'home', 'home'), ('Back', 'Back to previous …"
      ]
     },
     "metadata": {},
     "output_type": "display_data"
    }
   ],
   "source": [
    "df_it = df.loc[df.index == 1000]\n",
    "fig, ax = plt.subplots()\n",
    "sns.despine(fig)\n",
    "\n",
    "sns.scatterplot(\n",
    "    data = df_it,\n",
    "    # bins = 100,\n",
    "    x=\"x\", y =\"y\", hue=\"vx\", s = 10.\n",
    ");"
   ]
  },
  {
   "cell_type": "code",
   "execution_count": 71,
   "id": "543fbfdd",
   "metadata": {},
   "outputs": [],
   "source": [
    "dp = 1e-4\n",
    "df['i'] = (df['x']/dp).astype(int)\n",
    "df['j'] = (df['y']/dp).astype(int)"
   ]
  },
  {
   "cell_type": "markdown",
   "id": "501dde4e",
   "metadata": {},
   "source": [
    "#### we could select only the I- - anyway"
   ]
  },
  {
   "cell_type": "code",
   "execution_count": 72,
   "id": "d88c9edf",
   "metadata": {},
   "outputs": [],
   "source": [
    "groups = df.loc[df['species'] == 'I-'].groupby(['i','j']).mean()"
   ]
  },
  {
   "cell_type": "code",
   "execution_count": 73,
   "id": "52f9d183",
   "metadata": {},
   "outputs": [],
   "source": [
    "groups = groups.reset_index()"
   ]
  },
  {
   "cell_type": "code",
   "execution_count": 74,
   "id": "fea4dca9",
   "metadata": {},
   "outputs": [
    {
     "data": {
      "text/html": [
       "<div>\n",
       "<style scoped>\n",
       "    .dataframe tbody tr th:only-of-type {\n",
       "        vertical-align: middle;\n",
       "    }\n",
       "\n",
       "    .dataframe tbody tr th {\n",
       "        vertical-align: top;\n",
       "    }\n",
       "\n",
       "    .dataframe thead th {\n",
       "        text-align: right;\n",
       "    }\n",
       "</style>\n",
       "<table border=\"1\" class=\"dataframe\">\n",
       "  <thead>\n",
       "    <tr style=\"text-align: right;\">\n",
       "      <th></th>\n",
       "      <th>i</th>\n",
       "      <th>j</th>\n",
       "      <th>x</th>\n",
       "      <th>y</th>\n",
       "      <th>vx</th>\n",
       "      <th>vy</th>\n",
       "      <th>vz</th>\n",
       "      <th>type</th>\n",
       "    </tr>\n",
       "  </thead>\n",
       "  <tbody>\n",
       "    <tr>\n",
       "      <th>0</th>\n",
       "      <td>0</td>\n",
       "      <td>0</td>\n",
       "      <td>0.000048</td>\n",
       "      <td>0.000051</td>\n",
       "      <td>1619.187341</td>\n",
       "      <td>-162.130615</td>\n",
       "      <td>-5.988500</td>\n",
       "      <td>0.0</td>\n",
       "    </tr>\n",
       "    <tr>\n",
       "      <th>1</th>\n",
       "      <td>0</td>\n",
       "      <td>1</td>\n",
       "      <td>0.000053</td>\n",
       "      <td>0.000150</td>\n",
       "      <td>1604.871695</td>\n",
       "      <td>61.577717</td>\n",
       "      <td>-60.107057</td>\n",
       "      <td>0.0</td>\n",
       "    </tr>\n",
       "    <tr>\n",
       "      <th>2</th>\n",
       "      <td>0</td>\n",
       "      <td>2</td>\n",
       "      <td>0.000051</td>\n",
       "      <td>0.000251</td>\n",
       "      <td>1632.456092</td>\n",
       "      <td>-54.418823</td>\n",
       "      <td>45.790731</td>\n",
       "      <td>0.0</td>\n",
       "    </tr>\n",
       "    <tr>\n",
       "      <th>3</th>\n",
       "      <td>0</td>\n",
       "      <td>3</td>\n",
       "      <td>0.000053</td>\n",
       "      <td>0.000350</td>\n",
       "      <td>1661.453291</td>\n",
       "      <td>19.082004</td>\n",
       "      <td>-46.495850</td>\n",
       "      <td>0.0</td>\n",
       "    </tr>\n",
       "    <tr>\n",
       "      <th>4</th>\n",
       "      <td>0</td>\n",
       "      <td>4</td>\n",
       "      <td>0.000052</td>\n",
       "      <td>0.000451</td>\n",
       "      <td>1674.159034</td>\n",
       "      <td>-22.729260</td>\n",
       "      <td>-53.469233</td>\n",
       "      <td>0.0</td>\n",
       "    </tr>\n",
       "    <tr>\n",
       "      <th>...</th>\n",
       "      <td>...</td>\n",
       "      <td>...</td>\n",
       "      <td>...</td>\n",
       "      <td>...</td>\n",
       "      <td>...</td>\n",
       "      <td>...</td>\n",
       "      <td>...</td>\n",
       "      <td>...</td>\n",
       "    </tr>\n",
       "    <tr>\n",
       "      <th>3260</th>\n",
       "      <td>169</td>\n",
       "      <td>26</td>\n",
       "      <td>0.016919</td>\n",
       "      <td>0.002632</td>\n",
       "      <td>328.780332</td>\n",
       "      <td>-1302.547893</td>\n",
       "      <td>-300.994917</td>\n",
       "      <td>0.0</td>\n",
       "    </tr>\n",
       "    <tr>\n",
       "      <th>3261</th>\n",
       "      <td>169</td>\n",
       "      <td>27</td>\n",
       "      <td>0.016908</td>\n",
       "      <td>0.002734</td>\n",
       "      <td>926.315291</td>\n",
       "      <td>-3349.414753</td>\n",
       "      <td>378.634895</td>\n",
       "      <td>0.0</td>\n",
       "    </tr>\n",
       "    <tr>\n",
       "      <th>3262</th>\n",
       "      <td>170</td>\n",
       "      <td>23</td>\n",
       "      <td>0.017005</td>\n",
       "      <td>0.002378</td>\n",
       "      <td>1034.874653</td>\n",
       "      <td>2573.527778</td>\n",
       "      <td>-1320.224328</td>\n",
       "      <td>0.0</td>\n",
       "    </tr>\n",
       "    <tr>\n",
       "      <th>3263</th>\n",
       "      <td>170</td>\n",
       "      <td>24</td>\n",
       "      <td>0.017024</td>\n",
       "      <td>0.002473</td>\n",
       "      <td>-124.943925</td>\n",
       "      <td>633.636917</td>\n",
       "      <td>-686.489167</td>\n",
       "      <td>0.0</td>\n",
       "    </tr>\n",
       "    <tr>\n",
       "      <th>3264</th>\n",
       "      <td>170</td>\n",
       "      <td>25</td>\n",
       "      <td>0.017017</td>\n",
       "      <td>0.002537</td>\n",
       "      <td>20.340215</td>\n",
       "      <td>184.885898</td>\n",
       "      <td>-29.749150</td>\n",
       "      <td>0.0</td>\n",
       "    </tr>\n",
       "  </tbody>\n",
       "</table>\n",
       "<p>3265 rows × 8 columns</p>\n",
       "</div>"
      ],
      "text/plain": [
       "        i   j         x         y           vx           vy           vz  type\n",
       "0       0   0  0.000048  0.000051  1619.187341  -162.130615    -5.988500   0.0\n",
       "1       0   1  0.000053  0.000150  1604.871695    61.577717   -60.107057   0.0\n",
       "2       0   2  0.000051  0.000251  1632.456092   -54.418823    45.790731   0.0\n",
       "3       0   3  0.000053  0.000350  1661.453291    19.082004   -46.495850   0.0\n",
       "4       0   4  0.000052  0.000451  1674.159034   -22.729260   -53.469233   0.0\n",
       "...   ...  ..       ...       ...          ...          ...          ...   ...\n",
       "3260  169  26  0.016919  0.002632   328.780332 -1302.547893  -300.994917   0.0\n",
       "3261  169  27  0.016908  0.002734   926.315291 -3349.414753   378.634895   0.0\n",
       "3262  170  23  0.017005  0.002378  1034.874653  2573.527778 -1320.224328   0.0\n",
       "3263  170  24  0.017024  0.002473  -124.943925   633.636917  -686.489167   0.0\n",
       "3264  170  25  0.017017  0.002537    20.340215   184.885898   -29.749150   0.0\n",
       "\n",
       "[3265 rows x 8 columns]"
      ]
     },
     "execution_count": 74,
     "metadata": {},
     "output_type": "execute_result"
    }
   ],
   "source": [
    "groups"
   ]
  },
  {
   "cell_type": "code",
   "execution_count": 75,
   "id": "dfe88595",
   "metadata": {},
   "outputs": [
    {
     "data": {
      "text/plain": [
       "170"
      ]
     },
     "execution_count": 75,
     "metadata": {},
     "output_type": "execute_result"
    }
   ],
   "source": [
    "groups['i'].max()"
   ]
  },
  {
   "cell_type": "code",
   "execution_count": 76,
   "id": "7438b9e1",
   "metadata": {},
   "outputs": [
    {
     "data": {
      "application/vnd.jupyter.widget-view+json": {
       "model_id": "0b411fcafa804b9b9d0f5fce85577e9e",
       "version_major": 2,
       "version_minor": 0
      },
      "text/plain": [
       "Canvas(toolbar=Toolbar(toolitems=[('Home', 'Reset original view', 'home', 'home'), ('Back', 'Back to previous …"
      ]
     },
     "metadata": {},
     "output_type": "display_data"
    }
   ],
   "source": [
    "fig, ax = plt.subplots()\n",
    "\n",
    "values = {\n",
    "    'width' : 3*dp,\n",
    "    'headwidth' : 3,\n",
    "    'headlength' : 5\n",
    "}\n",
    "\n",
    "ax.quiver(dp*groups['i'], dp*groups['j'], groups['vx'], groups['vy'], groups['vx'], **values);"
   ]
  },
  {
   "cell_type": "code",
   "execution_count": 77,
   "id": "0b5e5995",
   "metadata": {
    "scrolled": true
   },
   "outputs": [],
   "source": [
    "U,V = np.zeros((groups['j'].max()-groups['j'].min(),groups['i'].max()-groups['i'].min()), dtype = float), np.zeros((groups['j'].max()-groups['j'].min(),groups['i'].max()-groups['i'].min()), dtype = float)\n",
    "X, Y = np.arange(groups['i'].min(), groups['i'].max()),  np.arange(groups['j'].min(), groups['j'].max())\n",
    "\n",
    "for x in X:\n",
    "    for y in Y:\n",
    "        row = groups.loc[(groups['i'] == x) &  (groups['j'] == y)]\n",
    "        try :\n",
    "            U[y,x] = row['vx']\n",
    "            V[y,x] = row['vy']\n",
    "        except ValueError as e:\n",
    "            pass"
   ]
  },
  {
   "cell_type": "code",
   "execution_count": 78,
   "id": "fafba8f5",
   "metadata": {},
   "outputs": [
    {
     "name": "stdout",
     "output_type": "stream",
     "text": [
      "(49, 170) (49, 170)\n",
      "(170,) (49,)\n"
     ]
    }
   ],
   "source": [
    "print(U.shape, V.shape)\n",
    "print(X.shape, Y.shape)\n",
    "speed = np.sqrt(U**2+V**2)\n",
    "lw = 2 * speed / (speed.max()+1e-8)"
   ]
  },
  {
   "cell_type": "code",
   "execution_count": 79,
   "id": "fdd9c79d",
   "metadata": {},
   "outputs": [
    {
     "data": {
      "application/vnd.jupyter.widget-view+json": {
       "model_id": "481416790ba2472b90f0cff643afd46f",
       "version_major": 2,
       "version_minor": 0
      },
      "text/plain": [
       "Canvas(toolbar=Toolbar(toolitems=[('Home', 'Reset original view', 'home', 'home'), ('Back', 'Back to previous …"
      ]
     },
     "metadata": {},
     "output_type": "display_data"
    }
   ],
   "source": [
    "fig, ax = plt.subplots(constrained_layout=True)\n",
    "# ax.axis('equal')\n",
    "h = ax.streamplot(x=dp*X,y=dp*Y,u=U,v=V, density = 3, color=U, linewidth=lw, cmap='plasma'); \n",
    "cbar = fig.colorbar(h.lines, ax=ax)\n",
    "analysis.set_axis(ax, x = 'x', y = 'y');"
   ]
  },
  {
   "cell_type": "code",
   "execution_count": null,
   "id": "1ff44041",
   "metadata": {},
   "outputs": [],
   "source": []
  }
 ],
 "metadata": {
  "kernelspec": {
   "display_name": "Python 3",
   "language": "python",
   "name": "python3"
  },
  "language_info": {
   "codemirror_mode": {
    "name": "ipython",
    "version": 3
   },
   "file_extension": ".py",
   "mimetype": "text/x-python",
   "name": "python",
   "nbconvert_exporter": "python",
   "pygments_lexer": "ipython3",
   "version": "3.9.4"
  }
 },
 "nbformat": 4,
 "nbformat_minor": 5
}
