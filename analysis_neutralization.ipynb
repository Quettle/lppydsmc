{
 "cells": [
  {
   "cell_type": "markdown",
   "id": "2292864b",
   "metadata": {},
   "source": [
    "## Note : \n",
    "Mean free path : $\\lambda = \\frac{1}{n \\sigma}$\n",
    "\n",
    "If $n \\rightarrow 100 \\times n$, then :\n",
    "- $\\lambda \\rightarrow \\frac{\\lambda}{100}$\n",
    "- $\\text{cell size} \\rightarrow \\frac{\\text{cell size}}{100}$ ($100^2$ more cells because the grid is 2D)\n",
    "- $dt \\rightarrow \\frac{dt}{100}$\n",
    "\n",
    "But you can lower, down to a certain extent, the number of particles per cell to \"not incease too much the computation time\"."
   ]
  },
  {
   "cell_type": "markdown",
   "id": "8674e7ec",
   "metadata": {},
   "source": [
    "## Representative physical length scale\n",
    "\n",
    "The system has two lenghts : \n",
    "* lenght of the tube : $L = 0.01$ $m$\n",
    "* width : $w = 0.001$ $m$\n",
    "\n",
    "The width is the representative physical length scale that constrains the flow.\n",
    "\n",
    "So : $K_d = \\frac{\\lambda}{w}$.\n",
    "\n",
    "\n"
   ]
  },
  {
   "cell_type": "code",
   "execution_count": 59,
   "id": "1234b90a",
   "metadata": {},
   "outputs": [
    {
     "data": {
      "text/html": [
       "<style>.container { width:100% !important; }</style>"
      ],
      "text/plain": [
       "<IPython.core.display.HTML object>"
      ]
     },
     "metadata": {},
     "output_type": "display_data"
    }
   ],
   "source": [
    "from IPython.core.display import display, HTML\n",
    "display(HTML(\"<style>.container { width:100% !important; }</style>\"))"
   ]
  },
  {
   "cell_type": "code",
   "execution_count": 38,
   "id": "71b6d621",
   "metadata": {
    "slideshow": {
     "slide_type": "slide"
    }
   },
   "outputs": [],
   "source": [
    "%matplotlib widget\n",
    "\n",
    "# notebook\n",
    "import pandas as pd\n",
    "import numpy as np\n",
    "import matplotlib.pyplot as plt\n",
    "import scipy as scipy\n",
    "from pathlib import Path\n",
    "import seaborn as sns\n",
    "\n",
    "from lppydsmc.data.saver import Saver\n",
    "from plotting import analysis\n",
    "from lppydsmc.utils import physics\n",
    "\n",
    "# plt.figure.max_open_warning = False"
   ]
  },
  {
   "cell_type": "markdown",
   "id": "dd77c5cf",
   "metadata": {},
   "source": [
    "## Loading results"
   ]
  },
  {
   "cell_type": "code",
   "execution_count": 2,
   "id": "3d32caa3",
   "metadata": {
    "slideshow": {
     "slide_type": "slide"
    }
   },
   "outputs": [],
   "source": [
    "dir_path = Path('results/')\n",
    "dz = 0.001"
   ]
  },
  {
   "cell_type": "code",
   "execution_count": 3,
   "id": "637957e7",
   "metadata": {
    "slideshow": {
     "slide_type": "subslide"
    }
   },
   "outputs": [],
   "source": [
    "dt = 1e-8\n",
    "mr = 1\n",
    "name = 'neutralization.h5'\n",
    "lenght = 0.011 # m\n",
    "width = 0.005\n",
    "cell_size = 0.001\n",
    "temperature = 23e3 # K\n",
    "nb_cells = 33\n",
    "volume = cell_size*cell_size*dz*nb_cells\n"
   ]
  },
  {
   "cell_type": "code",
   "execution_count": 4,
   "id": "9b97e8f3",
   "metadata": {},
   "outputs": [],
   "source": [
    "store = pd.HDFStore(dir_path/name)"
   ]
  },
  {
   "cell_type": "code",
   "execution_count": 5,
   "id": "3cb5a06d",
   "metadata": {},
   "outputs": [
    {
     "data": {
      "text/plain": [
       "['/collisions_with_walls',\n",
       " '/df',\n",
       " '/df_collision_background_gas',\n",
       " '/df_collision_with_walls',\n",
       " '/df_out_particles',\n",
       " '/mean_proba_gas',\n",
       " '/mean_proba_walls',\n",
       " '/total_deleted']"
      ]
     },
     "execution_count": 5,
     "metadata": {},
     "output_type": "execute_result"
    }
   ],
   "source": [
    "store.keys()"
   ]
  },
  {
   "cell_type": "code",
   "execution_count": 6,
   "id": "02437b80",
   "metadata": {},
   "outputs": [],
   "source": [
    "# defining each variable\n",
    "df = store['df']\n",
    "df_out_particles = store['df_out_particles']\n",
    "df_collision_background_gas = store['df_collision_background_gas']\n",
    "df_collision_with_walls = store['df_collision_with_walls']\n",
    "total_deleted = store['total_deleted']\n",
    "collisions_with_walls = store['collisions_with_walls']\n",
    "mean_proba_walls = store['mean_proba_walls']\n",
    "mean_proba_gas = store['mean_proba_gas']"
   ]
  },
  {
   "cell_type": "code",
   "execution_count": 7,
   "id": "272f0f17",
   "metadata": {},
   "outputs": [],
   "source": [
    "choice = 'I'\n",
    "gamma = 5/3. # roughly for atomes, for diatomic molecule : 7/5.\n",
    "\n",
    "\n",
    "mass = physics.get_mass_part(53+1, 53, 74) # I\n",
    "molecular_mass = 0.1269 # kg/mol\n",
    "\n",
    "verbose=False"
   ]
  },
  {
   "cell_type": "code",
   "execution_count": 8,
   "id": "17cbe022",
   "metadata": {},
   "outputs": [
    {
     "name": "stdout",
     "output_type": "stream",
     "text": [
      "Speed of sound for [I] at temperature 23000.0 K : 1584.7563179678798 m/s\n"
     ]
    }
   ],
   "source": [
    "sound_vel = physics.speed_of_sound(molecular_mass, temperature, gamma)\n",
    "print(f'Speed of sound for [{choice}] at temperature {temperature} K : {sound_vel} m/s')"
   ]
  },
  {
   "cell_type": "markdown",
   "id": "ffe8ae01",
   "metadata": {},
   "source": [
    "## Note : \n",
    "To save a figure, you can use : `analysis.save_fig(fig, path, title = None, dpi = 400, figsize = None)`, which allows you to easily save a figure while giving it a title and changing its size.\n",
    "You can also use the interactive widget."
   ]
  },
  {
   "cell_type": "markdown",
   "id": "bf70d067",
   "metadata": {},
   "source": [
    "## Choosing the part of the system to plot "
   ]
  },
  {
   "cell_type": "code",
   "execution_count": 9,
   "id": "a6f7428a",
   "metadata": {},
   "outputs": [],
   "source": [
    "\n",
    "res_x_0, res_y_0 = 11, 5\n",
    "\n",
    "total_nb_cells = res_x_0*res_y_0"
   ]
  },
  {
   "cell_type": "code",
   "execution_count": 10,
   "id": "3b3f4555",
   "metadata": {},
   "outputs": [
    {
     "data": {
      "application/vnd.jupyter.widget-view+json": {
       "model_id": "205bb26a2492478ba81f1d46428eb7af",
       "version_major": 2,
       "version_minor": 0
      },
      "text/plain": [
       "Canvas(toolbar=Toolbar(toolitems=[('Home', 'Reset original view', 'home', 'home'), ('Back', 'Back to previous …"
      ]
     },
     "metadata": {},
     "output_type": "display_data"
    }
   ],
   "source": [
    "fig, ax = plt.subplots(1, constrained_layout = True, figsize = (res_x_0, res_y_0));\n",
    "\n",
    "fact = 10\n",
    "volume_cell_plot = volume/(fact*fact*res_x_0*res_y_0)\n",
    "duration = df.index.unique().values.shape[0]\n",
    "analysis.hist2d(ax, df, bins = (fact*res_x_0,fact*res_y_0), weights = mr*np.ones(df.shape[0])/(duration*volume_cell_plot), stat = 'count'); # TODO: add cmap"
   ]
  },
  {
   "cell_type": "markdown",
   "id": "dd05cd9c",
   "metadata": {},
   "source": [
    "## Choosing frames to plot"
   ]
  },
  {
   "cell_type": "code",
   "execution_count": 11,
   "id": "c460d1c0",
   "metadata": {},
   "outputs": [],
   "source": [
    "unique_index = df.index.unique().values\n",
    "nb_save = unique_index.shape[0]\n",
    "iterations = np.max(unique_index)\n",
    "adding_period = unique_index[1]-unique_index[0] # adding period - required to\n",
    "# generally speaking, you choose frames so you have the steady state\n",
    "frames = unique_index[int(0.0*nb_save):nb_save] \n",
    "\n",
    "if(verbose):\n",
    "    print(f'Available frames :  {unique_index}')\n",
    "    print(f'Max iteration : {iterations}')\n",
    "    print(f'Choosen frames (for plotting) : \\n{frames}')"
   ]
  },
  {
   "cell_type": "markdown",
   "id": "d5ccabd5",
   "metadata": {},
   "source": [
    "## Proba evolution"
   ]
  },
  {
   "cell_type": "code",
   "execution_count": 12,
   "id": "441419e8",
   "metadata": {},
   "outputs": [
    {
     "data": {
      "application/vnd.jupyter.widget-view+json": {
       "model_id": "7fe0939de9984667bc248a8c8d09323c",
       "version_major": 2,
       "version_minor": 0
      },
      "text/plain": [
       "Canvas(toolbar=Toolbar(toolitems=[('Home', 'Reset original view', 'home', 'home'), ('Back', 'Back to previous …"
      ]
     },
     "metadata": {},
     "output_type": "display_data"
    }
   ],
   "source": [
    "fig, ax = plt.subplots(2)\n",
    "# ax.set_yscale('log')\n",
    "ax[0].plot(mean_proba_gas.index*dt, mean_proba_gas.values, label = 'gas')\n",
    "ax[1].plot(mean_proba_walls.index*dt, mean_proba_walls.values, label = 'walls');\n",
    "ax[0].legend();\n",
    "ax[1].legend();"
   ]
  },
  {
   "cell_type": "markdown",
   "id": "5171716f",
   "metadata": {},
   "source": [
    "## Out particles analysis"
   ]
  },
  {
   "cell_type": "code",
   "execution_count": 13,
   "id": "14e295bb",
   "metadata": {},
   "outputs": [
    {
     "data": {
      "text/html": [
       "<div>\n",
       "<style scoped>\n",
       "    .dataframe tbody tr th:only-of-type {\n",
       "        vertical-align: middle;\n",
       "    }\n",
       "\n",
       "    .dataframe tbody tr th {\n",
       "        vertical-align: top;\n",
       "    }\n",
       "\n",
       "    .dataframe thead th {\n",
       "        text-align: right;\n",
       "    }\n",
       "</style>\n",
       "<table border=\"1\" class=\"dataframe\">\n",
       "  <thead>\n",
       "    <tr style=\"text-align: right;\">\n",
       "      <th></th>\n",
       "      <th>x</th>\n",
       "      <th>y</th>\n",
       "      <th>vx</th>\n",
       "      <th>vy</th>\n",
       "      <th>vz</th>\n",
       "      <th>type</th>\n",
       "    </tr>\n",
       "  </thead>\n",
       "  <tbody>\n",
       "    <tr>\n",
       "      <th>103</th>\n",
       "      <td>0.016047</td>\n",
       "      <td>0.002883</td>\n",
       "      <td>21751.642408</td>\n",
       "      <td>50.972980</td>\n",
       "      <td>585.330129</td>\n",
       "      <td>0.0</td>\n",
       "    </tr>\n",
       "    <tr>\n",
       "      <th>105</th>\n",
       "      <td>0.016156</td>\n",
       "      <td>0.002245</td>\n",
       "      <td>21650.361346</td>\n",
       "      <td>1402.021962</td>\n",
       "      <td>566.482263</td>\n",
       "      <td>0.0</td>\n",
       "    </tr>\n",
       "    <tr>\n",
       "      <th>105</th>\n",
       "      <td>0.016179</td>\n",
       "      <td>0.002119</td>\n",
       "      <td>21708.616919</td>\n",
       "      <td>613.180045</td>\n",
       "      <td>63.655224</td>\n",
       "      <td>0.0</td>\n",
       "    </tr>\n",
       "    <tr>\n",
       "      <th>105</th>\n",
       "      <td>0.016040</td>\n",
       "      <td>0.002337</td>\n",
       "      <td>21609.240420</td>\n",
       "      <td>-330.275600</td>\n",
       "      <td>-1270.573402</td>\n",
       "      <td>1.0</td>\n",
       "    </tr>\n",
       "    <tr>\n",
       "      <th>105</th>\n",
       "      <td>0.016116</td>\n",
       "      <td>0.002135</td>\n",
       "      <td>21644.289070</td>\n",
       "      <td>1625.036355</td>\n",
       "      <td>1911.020490</td>\n",
       "      <td>1.0</td>\n",
       "    </tr>\n",
       "  </tbody>\n",
       "</table>\n",
       "</div>"
      ],
      "text/plain": [
       "            x         y            vx           vy           vz  type\n",
       "103  0.016047  0.002883  21751.642408    50.972980   585.330129   0.0\n",
       "105  0.016156  0.002245  21650.361346  1402.021962   566.482263   0.0\n",
       "105  0.016179  0.002119  21708.616919   613.180045    63.655224   0.0\n",
       "105  0.016040  0.002337  21609.240420  -330.275600 -1270.573402   1.0\n",
       "105  0.016116  0.002135  21644.289070  1625.036355  1911.020490   1.0"
      ]
     },
     "execution_count": 13,
     "metadata": {},
     "output_type": "execute_result"
    }
   ],
   "source": [
    "df_out_particles.head()"
   ]
  },
  {
   "cell_type": "code",
   "execution_count": 108,
   "id": "9ef32aa8",
   "metadata": {},
   "outputs": [],
   "source": [
    "def convert_to_species(row):\n",
    "    if(row['type'] == 0):\n",
    "        return 'I-'\n",
    "    else :\n",
    "        return 'I'"
   ]
  },
  {
   "cell_type": "code",
   "execution_count": 109,
   "id": "b71fe274",
   "metadata": {},
   "outputs": [],
   "source": [
    "df_out_particles['species'] = df_out_particles.apply(convert_to_species, axis = 1)"
   ]
  },
  {
   "cell_type": "code",
   "execution_count": 110,
   "id": "81edc14b",
   "metadata": {},
   "outputs": [],
   "source": [
    "df_out_particles['v'] = np.sqrt(df_out_particles['vx']**2+df_out_particles['vy']**2+df_out_particles['vz']**2)\n",
    "df_out_particles['energy'] = df_out_particles['v']**2\n",
    "df_out_particles['angle'] = np.arctan(df_out_particles['vy']/df_out_particles['vx'])"
   ]
  },
  {
   "cell_type": "code",
   "execution_count": 111,
   "id": "c16f1cf0",
   "metadata": {},
   "outputs": [],
   "source": [
    "ions_out = df_out_particles.loc[df_out_particles['type'] == 0]\n",
    "neutral_out =  df_out_particles.loc[df_out_particles['type'] == 1]"
   ]
  },
  {
   "cell_type": "code",
   "execution_count": 105,
   "id": "cae704a2",
   "metadata": {},
   "outputs": [
    {
     "name": "stdout",
     "output_type": "stream",
     "text": [
      "Out particles neutralization percentage : 80.1 %\n"
     ]
    }
   ],
   "source": [
    "results = df_out_particles[['type', 'x']].groupby('type').count();\n",
    "print('Out particles neutralization percentage : {:.3} %'.format(100*results.iloc[1,0]/(results.iloc[1,0]+results.iloc[0,0])))"
   ]
  },
  {
   "cell_type": "code",
   "execution_count": 112,
   "id": "f6de0242",
   "metadata": {},
   "outputs": [
    {
     "data": {
      "text/html": [
       "<div>\n",
       "<style scoped>\n",
       "    .dataframe tbody tr th:only-of-type {\n",
       "        vertical-align: middle;\n",
       "    }\n",
       "\n",
       "    .dataframe tbody tr th {\n",
       "        vertical-align: top;\n",
       "    }\n",
       "\n",
       "    .dataframe thead th {\n",
       "        text-align: right;\n",
       "    }\n",
       "</style>\n",
       "<table border=\"1\" class=\"dataframe\">\n",
       "  <thead>\n",
       "    <tr style=\"text-align: right;\">\n",
       "      <th></th>\n",
       "      <th>vx</th>\n",
       "      <th>vy</th>\n",
       "      <th>vz</th>\n",
       "      <th>v</th>\n",
       "      <th>energy</th>\n",
       "    </tr>\n",
       "    <tr>\n",
       "      <th>species</th>\n",
       "      <th></th>\n",
       "      <th></th>\n",
       "      <th></th>\n",
       "      <th></th>\n",
       "      <th></th>\n",
       "    </tr>\n",
       "  </thead>\n",
       "  <tbody>\n",
       "    <tr>\n",
       "      <th>I</th>\n",
       "      <td>17353.747223</td>\n",
       "      <td>-75.131617</td>\n",
       "      <td>-31.956131</td>\n",
       "      <td>18213.824344</td>\n",
       "      <td>3.675043e+08</td>\n",
       "    </tr>\n",
       "    <tr>\n",
       "      <th>I-</th>\n",
       "      <td>21144.442520</td>\n",
       "      <td>55.042993</td>\n",
       "      <td>17.692484</td>\n",
       "      <td>21392.902857</td>\n",
       "      <td>4.576711e+08</td>\n",
       "    </tr>\n",
       "  </tbody>\n",
       "</table>\n",
       "</div>"
      ],
      "text/plain": [
       "                   vx         vy         vz             v        energy\n",
       "species                                                                \n",
       "I        17353.747223 -75.131617 -31.956131  18213.824344  3.675043e+08\n",
       "I-       21144.442520  55.042993  17.692484  21392.902857  4.576711e+08"
      ]
     },
     "execution_count": 112,
     "metadata": {},
     "output_type": "execute_result"
    }
   ],
   "source": [
    "vel_results = df_out_particles[['species', 'vx', 'vy', 'vz', 'v','energy']].groupby('species').agg('mean');\n",
    "vel_results"
   ]
  },
  {
   "cell_type": "code",
   "execution_count": 113,
   "id": "17dcadce",
   "metadata": {},
   "outputs": [
    {
     "data": {
      "application/vnd.jupyter.widget-view+json": {
       "model_id": "9cd4683e02054471b740590edefabf3d",
       "version_major": 2,
       "version_minor": 0
      },
      "text/plain": [
       "Canvas(toolbar=Toolbar(toolitems=[('Home', 'Reset original view', 'home', 'home'), ('Back', 'Back to previous …"
      ]
     },
     "metadata": {},
     "output_type": "display_data"
    }
   ],
   "source": [
    "fig, ax = plt.subplots()\n",
    "sns.despine(fig)\n",
    "\n",
    "sns.histplot(\n",
    "    df_out_particles,\n",
    "    x=\"vx\", hue=\"species\",\n",
    "    multiple=\"stack\",\n",
    "    palette=\"light:m_r\",\n",
    "    edgecolor=\".3\",\n",
    "    linewidth=.5,\n",
    "    log_scale=False,\n",
    ");\n",
    "# ax.set_xticks([2000, 5000, 10000, 20000]);"
   ]
  },
  {
   "cell_type": "code",
   "execution_count": 115,
   "id": "de63aacd",
   "metadata": {},
   "outputs": [
    {
     "data": {
      "application/vnd.jupyter.widget-view+json": {
       "model_id": "2be62d3b5fc04a5f81964263bb6d2820",
       "version_major": 2,
       "version_minor": 0
      },
      "text/plain": [
       "Canvas(toolbar=Toolbar(toolitems=[('Home', 'Reset original view', 'home', 'home'), ('Back', 'Back to previous …"
      ]
     },
     "metadata": {},
     "output_type": "display_data"
    }
   ],
   "source": [
    "fig, ax = plt.subplots()\n",
    "sns.despine(fig)\n",
    "\n",
    "sns.histplot(\n",
    "    df_out_particles,\n",
    "    # bins = 100,\n",
    "    x=\"angle\", hue=\"species\",\n",
    "    multiple=\"stack\",\n",
    "    palette=\"light:m_r\",\n",
    "    edgecolor=\".3\",\n",
    "    linewidth=.5,\n",
    "    log_scale=False,\n",
    ");"
   ]
  },
  {
   "cell_type": "markdown",
   "id": "e35142ad",
   "metadata": {},
   "source": [
    "## df_collision_background_gas"
   ]
  },
  {
   "cell_type": "code",
   "execution_count": 116,
   "id": "151ae522",
   "metadata": {},
   "outputs": [],
   "source": [
    "df_collision_background_gas['species'] = df_collision_background_gas.apply(convert_to_species, axis = 1)"
   ]
  },
  {
   "cell_type": "code",
   "execution_count": 117,
   "id": "29230590",
   "metadata": {},
   "outputs": [
    {
     "name": "stdout",
     "output_type": "stream",
     "text": [
      "Number of collisions with background gas : 4663\n"
     ]
    },
    {
     "data": {
      "text/html": [
       "<div>\n",
       "<style scoped>\n",
       "    .dataframe tbody tr th:only-of-type {\n",
       "        vertical-align: middle;\n",
       "    }\n",
       "\n",
       "    .dataframe tbody tr th {\n",
       "        vertical-align: top;\n",
       "    }\n",
       "\n",
       "    .dataframe thead th {\n",
       "        text-align: right;\n",
       "    }\n",
       "</style>\n",
       "<table border=\"1\" class=\"dataframe\">\n",
       "  <thead>\n",
       "    <tr style=\"text-align: right;\">\n",
       "      <th></th>\n",
       "      <th>x</th>\n",
       "      <th>y</th>\n",
       "      <th>type</th>\n",
       "      <th>species</th>\n",
       "    </tr>\n",
       "  </thead>\n",
       "  <tbody>\n",
       "    <tr>\n",
       "      <th>1</th>\n",
       "      <td>0.000054</td>\n",
       "      <td>0.003384</td>\n",
       "      <td>0.0</td>\n",
       "      <td>I-</td>\n",
       "    </tr>\n",
       "    <tr>\n",
       "      <th>1</th>\n",
       "      <td>0.000029</td>\n",
       "      <td>0.004883</td>\n",
       "      <td>0.0</td>\n",
       "      <td>I-</td>\n",
       "    </tr>\n",
       "    <tr>\n",
       "      <th>1</th>\n",
       "      <td>0.000014</td>\n",
       "      <td>0.004905</td>\n",
       "      <td>0.0</td>\n",
       "      <td>I-</td>\n",
       "    </tr>\n",
       "    <tr>\n",
       "      <th>2</th>\n",
       "      <td>0.000073</td>\n",
       "      <td>0.002246</td>\n",
       "      <td>0.0</td>\n",
       "      <td>I-</td>\n",
       "    </tr>\n",
       "    <tr>\n",
       "      <th>3</th>\n",
       "      <td>0.000075</td>\n",
       "      <td>0.001645</td>\n",
       "      <td>0.0</td>\n",
       "      <td>I-</td>\n",
       "    </tr>\n",
       "  </tbody>\n",
       "</table>\n",
       "</div>"
      ],
      "text/plain": [
       "          x         y  type species\n",
       "1  0.000054  0.003384   0.0      I-\n",
       "1  0.000029  0.004883   0.0      I-\n",
       "1  0.000014  0.004905   0.0      I-\n",
       "2  0.000073  0.002246   0.0      I-\n",
       "3  0.000075  0.001645   0.0      I-"
      ]
     },
     "execution_count": 117,
     "metadata": {},
     "output_type": "execute_result"
    }
   ],
   "source": [
    "print('Number of collisions with background gas : {}'.format(df_collision_background_gas.shape[0]))\n",
    "df_collision_background_gas.head()"
   ]
  },
  {
   "cell_type": "code",
   "execution_count": 118,
   "id": "d0bd8dd3",
   "metadata": {},
   "outputs": [
    {
     "data": {
      "application/vnd.jupyter.widget-view+json": {
       "model_id": "2baaa9a7d4844f74a21a89e235db47ef",
       "version_major": 2,
       "version_minor": 0
      },
      "text/plain": [
       "Canvas(toolbar=Toolbar(toolitems=[('Home', 'Reset original view', 'home', 'home'), ('Back', 'Back to previous …"
      ]
     },
     "metadata": {},
     "output_type": "display_data"
    }
   ],
   "source": [
    "# Ion plot\n",
    "sns.set_theme(style=\"ticks\")\n",
    "sns.jointplot(data = df_collision_background_gas.loc[df_collision_background_gas['type']==0], x='x', y='y', kind=\"hex\", color=\"#4CB391\");\n",
    "\n",
    "# Neutral\n",
    "# sns.set_theme(style=\"ticks\")\n",
    "# sns.jointplot(data = df_collision_background_gas.loc[df_collision_background_gas['type']==1], x='x', y='y', kind=\"hex\", color=\"#4CB391\");"
   ]
  },
  {
   "cell_type": "code",
   "execution_count": 66,
   "id": "074f06e3",
   "metadata": {},
   "outputs": [],
   "source": [
    "# both\n",
    "# sns.set_theme(style=\"ticks\")\n",
    "# sns.jointplot(data = df_collision_background_gas, x='x', y='y', hue=\"type\", s = 10) # , kind=\"hist\") #, kind=\"hist\")"
   ]
  },
  {
   "cell_type": "markdown",
   "id": "dc39039e",
   "metadata": {},
   "source": [
    "## df_collision_with_walls"
   ]
  },
  {
   "cell_type": "code",
   "execution_count": 67,
   "id": "7e04ed83",
   "metadata": {},
   "outputs": [
    {
     "name": "stdout",
     "output_type": "stream",
     "text": [
      "Number of collisions with walls : 20507\n"
     ]
    },
    {
     "data": {
      "text/html": [
       "<div>\n",
       "<style scoped>\n",
       "    .dataframe tbody tr th:only-of-type {\n",
       "        vertical-align: middle;\n",
       "    }\n",
       "\n",
       "    .dataframe tbody tr th {\n",
       "        vertical-align: top;\n",
       "    }\n",
       "\n",
       "    .dataframe thead th {\n",
       "        text-align: right;\n",
       "    }\n",
       "</style>\n",
       "<table border=\"1\" class=\"dataframe\">\n",
       "  <thead>\n",
       "    <tr style=\"text-align: right;\">\n",
       "      <th></th>\n",
       "      <th>x</th>\n",
       "      <th>y</th>\n",
       "      <th>type</th>\n",
       "    </tr>\n",
       "  </thead>\n",
       "  <tbody>\n",
       "    <tr>\n",
       "      <th>1</th>\n",
       "      <td>0.000044</td>\n",
       "      <td>0.004996</td>\n",
       "      <td>0.0</td>\n",
       "    </tr>\n",
       "    <tr>\n",
       "      <th>2</th>\n",
       "      <td>0.000033</td>\n",
       "      <td>0.000002</td>\n",
       "      <td>0.0</td>\n",
       "    </tr>\n",
       "    <tr>\n",
       "      <th>3</th>\n",
       "      <td>0.000025</td>\n",
       "      <td>0.000002</td>\n",
       "      <td>0.0</td>\n",
       "    </tr>\n",
       "    <tr>\n",
       "      <th>4</th>\n",
       "      <td>0.000040</td>\n",
       "      <td>0.004998</td>\n",
       "      <td>0.0</td>\n",
       "    </tr>\n",
       "    <tr>\n",
       "      <th>5</th>\n",
       "      <td>0.000047</td>\n",
       "      <td>0.000005</td>\n",
       "      <td>0.0</td>\n",
       "    </tr>\n",
       "  </tbody>\n",
       "</table>\n",
       "</div>"
      ],
      "text/plain": [
       "          x         y  type\n",
       "1  0.000044  0.004996   0.0\n",
       "2  0.000033  0.000002   0.0\n",
       "3  0.000025  0.000002   0.0\n",
       "4  0.000040  0.004998   0.0\n",
       "5  0.000047  0.000005   0.0"
      ]
     },
     "execution_count": 67,
     "metadata": {},
     "output_type": "execute_result"
    }
   ],
   "source": [
    "print('Number of collisions with walls : {}'.format(df_collision_with_walls.shape[0]))\n",
    "df_collision_with_walls.head()"
   ]
  },
  {
   "cell_type": "code",
   "execution_count": 70,
   "id": "9c511e1a",
   "metadata": {},
   "outputs": [
    {
     "data": {
      "application/vnd.jupyter.widget-view+json": {
       "model_id": "5431a4b7cb864b88b6cfdc614673ed60",
       "version_major": 2,
       "version_minor": 0
      },
      "text/plain": [
       "Canvas(toolbar=Toolbar(toolitems=[('Home', 'Reset original view', 'home', 'home'), ('Back', 'Back to previous …"
      ]
     },
     "metadata": {},
     "output_type": "display_data"
    }
   ],
   "source": [
    "ions = df_collision_with_walls.loc[df_collision_with_walls['type']==0]\n",
    "fig, ax = plt.subplots()\n",
    "ax.axis('equal')\n",
    "scatter = ax.scatter(ions['x'], ions['y'], s = 0.005, c = ions['type']);\n",
    "# produce a legend with the unique colors from the scatter\n",
    "legend1 = ax.legend(*scatter.legend_elements(),\n",
    "                    loc=\"upper right\", title=\"Species\")\n",
    "ax.add_artist(legend1);"
   ]
  },
  {
   "cell_type": "code",
   "execution_count": 71,
   "id": "630c5d24",
   "metadata": {},
   "outputs": [
    {
     "data": {
      "application/vnd.jupyter.widget-view+json": {
       "model_id": "0dff14e7eae14a72a4b10506ddcf4f18",
       "version_major": 2,
       "version_minor": 0
      },
      "text/plain": [
       "Canvas(toolbar=Toolbar(toolitems=[('Home', 'Reset original view', 'home', 'home'), ('Back', 'Back to previous …"
      ]
     },
     "metadata": {},
     "output_type": "display_data"
    }
   ],
   "source": [
    "sns.set_theme(style=\"ticks\")\n",
    "sns.jointplot(data = ions, x='x', y='y', kind=\"hex\", color=\"#4CB391\");"
   ]
  },
  {
   "cell_type": "code",
   "execution_count": 119,
   "id": "96c48da1",
   "metadata": {},
   "outputs": [],
   "source": [
    "# Neutral plot\n",
    "# sns.set_theme(style=\"ticks\")\n",
    "# sns.jointplot(data = df_collision_with_walls, x='x', y='y', hue=\"type\", s = 10) # , kind=\"hist\") #, kind=\"hist\")"
   ]
  },
  {
   "cell_type": "markdown",
   "id": "f66f0bf8",
   "metadata": {},
   "source": [
    "## Particles analysis\n",
    "### Plotting number of particles evolution"
   ]
  },
  {
   "cell_type": "code",
   "execution_count": 32,
   "id": "6934008e",
   "metadata": {},
   "outputs": [],
   "source": [
    "nb_parts = df['x'].groupby(df.index).agg('count').values"
   ]
  },
  {
   "cell_type": "code",
   "execution_count": 33,
   "id": "ec64508a",
   "metadata": {},
   "outputs": [
    {
     "data": {
      "application/vnd.jupyter.widget-view+json": {
       "model_id": "29b1eec0dc184fe0923ccae6702d3cbb",
       "version_major": 2,
       "version_minor": 0
      },
      "text/plain": [
       "Canvas(toolbar=Toolbar(toolitems=[('Home', 'Reset original view', 'home', 'home'), ('Back', 'Back to previous …"
      ]
     },
     "metadata": {},
     "output_type": "display_data"
    }
   ],
   "source": [
    "fig, ax = plt.subplots()\n",
    "ax.plot(df.index.unique()*dt, nb_parts)\n",
    "analysis.set_axis(ax, x = 'time', y = 'quantity')"
   ]
  },
  {
   "cell_type": "code",
   "execution_count": 122,
   "id": "9eebb101",
   "metadata": {},
   "outputs": [
    {
     "data": {
      "application/vnd.jupyter.widget-view+json": {
       "model_id": "c64fc74fd50446699eb64a99bd9b0807",
       "version_major": 2,
       "version_minor": 0
      },
      "text/plain": [
       "Canvas(toolbar=Toolbar(toolitems=[('Home', 'Reset original view', 'home', 'home'), ('Back', 'Back to previous …"
      ]
     },
     "metadata": {},
     "output_type": "display_data"
    }
   ],
   "source": [
    "sns.set_theme(style=\"ticks\")\n",
    "sns.jointplot(data = df, x='x', y='y', kind=\"hex\", color=\"#4CB391\");\n"
   ]
  },
  {
   "cell_type": "code",
   "execution_count": null,
   "id": "56f73f07",
   "metadata": {},
   "outputs": [],
   "source": []
  }
 ],
 "metadata": {
  "kernelspec": {
   "display_name": "Python 3",
   "language": "python",
   "name": "python3"
  },
  "language_info": {
   "codemirror_mode": {
    "name": "ipython",
    "version": 3
   },
   "file_extension": ".py",
   "mimetype": "text/x-python",
   "name": "python",
   "nbconvert_exporter": "python",
   "pygments_lexer": "ipython3",
   "version": "3.7.10"
  }
 },
 "nbformat": 4,
 "nbformat_minor": 5
}
