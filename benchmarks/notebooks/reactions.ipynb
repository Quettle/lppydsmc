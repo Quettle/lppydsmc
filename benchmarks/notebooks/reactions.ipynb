{
 "cells": [
  {
   "cell_type": "markdown",
   "id": "a8b53218-4737-47e4-aef2-20fe760cb28e",
   "metadata": {
    "tags": []
   },
   "source": [
    "# Reactions - benchmarks"
   ]
  },
  {
   "cell_type": "code",
   "execution_count": 1,
   "id": "21f1fb8c-4d6c-47ad-bbc1-2d377440ba0e",
   "metadata": {},
   "outputs": [],
   "source": [
    "%matplotlib widget \n",
    "# global import\n",
    "import numpy as np\n",
    "import pandas as pd\n",
    "\n",
    "# plotting\n",
    "import matplotlib.pyplot as plt\n",
    "import seaborn as sns\n",
    "# local import\n",
    "import lppydsmc as ld"
   ]
  },
  {
   "cell_type": "markdown",
   "id": "0f66c6f6-1ed5-4535-949b-d6a0089e00a4",
   "metadata": {},
   "source": [
    "## General theory\n",
    "\n",
    "The idea here is to initialize a 0D box in which we inject ions that are going to neutralize by colliding to a selected plan.\n",
    "\n",
    "In practice, an injection from the left is performed and neutralization occurs on the right boundary. The top and bottom boundaries are periodic ones.\n",
    "The injection boundary is an \"out\" one : the particles that manage to go out this way simply leave the system.\n",
    "\n",
    "An equilibrium should be reach. The ratio between I/I- depends on the neutralization probability.\n",
    "\n",
    "An analytical solution is apparently also available."
   ]
  },
  {
   "cell_type": "markdown",
   "id": "a77672b3-8fac-4bd8-bb8f-b092c5bb2c7d",
   "metadata": {},
   "source": [
    "## DSMC simulation now"
   ]
  },
  {
   "cell_type": "code",
   "execution_count": 2,
   "id": "d6e5a2ea-a2aa-4094-93ce-51f4dab31737",
   "metadata": {},
   "outputs": [],
   "source": [
    "path_reactions_1 = \"/home/calot/Documents/projets/lppydsmc/benchmarks/config_files/reactions_1.ini\""
   ]
  },
  {
   "cell_type": "code",
   "execution_count": 4,
   "id": "9ed83b6d-0111-42d3-9ce7-b4ebc70b32a0",
   "metadata": {},
   "outputs": [],
   "source": [
    "# launching simulations\n",
    "simulation = False\n",
    "if(simulation):\n",
    "    ld.main(path_reactions_1, save = True);"
   ]
  },
  {
   "cell_type": "code",
   "execution_count": 5,
   "id": "27295332-1950-4d2e-a9f7-e4ccfa00d6d1",
   "metadata": {},
   "outputs": [
    {
     "name": "stdout",
     "output_type": "stream",
     "text": [
      "['/dsmc_collisions', '/dsmc_tracking', '/fluxes', '/out_particles', '/particles', '/wall_collisions']\n"
     ]
    }
   ],
   "source": [
    "results_path = \"/home/calot/Documents/projets/lppydsmc/benchmarks/results/reactions_2_1/monitoring.h5\" # seems ok ...\n",
    "store = pd.HDFStore(results_path)\n",
    "print(store.keys())"
   ]
  },
  {
   "cell_type": "code",
   "execution_count": 13,
   "id": "acedec2f-6411-45b3-8353-fc0fc1e5914f",
   "metadata": {},
   "outputs": [],
   "source": [
    "dt = 1e-7\n",
    "particles_weight = 3200000000\n",
    "volume_cell = 1e-9\n",
    "nb_cells = 1\n",
    "qty_to_density = particles_weight/(volume_cell*nb_cells)"
   ]
  },
  {
   "cell_type": "code",
   "execution_count": 14,
   "id": "561d49a2-943f-43cf-bdc5-46887b4da951",
   "metadata": {},
   "outputs": [],
   "source": [
    "df_particles = store['particles']"
   ]
  },
  {
   "cell_type": "code",
   "execution_count": 15,
   "id": "f2169e91-206e-4f77-9288-e67afa26401b",
   "metadata": {},
   "outputs": [],
   "source": [
    "df_particles_I = df_particles.loc[df_particles['species']==0.0]\n",
    "df_particles_Im = df_particles.loc[df_particles['species']==1.0]"
   ]
  },
  {
   "cell_type": "code",
   "execution_count": 16,
   "id": "4f8f2edf-d952-44e8-9276-45de42c25982",
   "metadata": {},
   "outputs": [],
   "source": [
    "evo_I = df_particles_I['x'].groupby(df_particles_I.index).count()\n",
    "evo_Im = df_particles_Im['x'].groupby(df_particles_Im.index).count()"
   ]
  },
  {
   "cell_type": "code",
   "execution_count": 17,
   "id": "4c3777c2-dfcc-4106-9972-69008767a4ba",
   "metadata": {},
   "outputs": [
    {
     "name": "stdout",
     "output_type": "stream",
     "text": [
      "1       0.018519\n",
      "2       0.009174\n",
      "3       0.012346\n",
      "4       0.018605\n",
      "5       0.018587\n",
      "          ...   \n",
      "996     1.407080\n",
      "997     1.405929\n",
      "998     1.405891\n",
      "999     1.400239\n",
      "1000    1.396852\n",
      "Name: x, Length: 1000, dtype: float64\n"
     ]
    }
   ],
   "source": [
    "print(evo_I/evo_Im)"
   ]
  },
  {
   "cell_type": "code",
   "execution_count": 18,
   "id": "0c3cd807-dba8-4caa-8053-6246b7b4e560",
   "metadata": {},
   "outputs": [
    {
     "data": {
      "application/vnd.jupyter.widget-view+json": {
       "model_id": "45a822ad38634bf79b9ba3c768f371c0",
       "version_major": 2,
       "version_minor": 0
      },
      "text/plain": [
       "Canvas(toolbar=Toolbar(toolitems=[('Home', 'Reset original view', 'home', 'home'), ('Back', 'Back to previous …"
      ]
     },
     "metadata": {},
     "output_type": "display_data"
    }
   ],
   "source": [
    "fig, ax = plt.subplots(constrained_layout = True)\n",
    "ax.plot(evo_Im.index*dt, evo_Im*qty_to_density, label = 'I-',  color ='b')\n",
    "ax.plot(evo_I.index*dt, evo_I*qty_to_density, label = 'I', color ='r')\n",
    "# ax.plot(times, save[:,0]/dV, '--', color ='b')\n",
    "# ax.plot(times, save[:,1]/dV, '--', color ='r')\n",
    "\n",
    "# ax.plot(evo_Im.index*dt, (evo_Im+evo_I)*qty_to_density, label = 'I+I-', color ='k')\n",
    "# ax.plot(times, np.sum(save, axis =1)/dV, '--', color = 'k')\n",
    "\n",
    "ax.legend(loc='best');\n",
    "ax.set_xlabel('t (s)')\n",
    "ax.set_ylabel(r'density ($m^{-3}$)');"
   ]
  },
  {
   "cell_type": "code",
   "execution_count": 12,
   "id": "73cfc6a8-0bc8-4e5e-ad63-57e2b11002ba",
   "metadata": {},
   "outputs": [
    {
     "data": {
      "text/html": [
       "<div>\n",
       "<style scoped>\n",
       "    .dataframe tbody tr th:only-of-type {\n",
       "        vertical-align: middle;\n",
       "    }\n",
       "\n",
       "    .dataframe tbody tr th {\n",
       "        vertical-align: top;\n",
       "    }\n",
       "\n",
       "    .dataframe thead th {\n",
       "        text-align: right;\n",
       "    }\n",
       "</style>\n",
       "<table border=\"1\" class=\"dataframe\">\n",
       "  <thead>\n",
       "    <tr style=\"text-align: right;\">\n",
       "      <th></th>\n",
       "      <th>cell_idx</th>\n",
       "      <th>idx_reactions</th>\n",
       "      <th>quantity</th>\n",
       "    </tr>\n",
       "  </thead>\n",
       "  <tbody>\n",
       "    <tr>\n",
       "      <th>1</th>\n",
       "      <td>0.0</td>\n",
       "      <td>0.0</td>\n",
       "      <td>1.0</td>\n",
       "    </tr>\n",
       "    <tr>\n",
       "      <th>1</th>\n",
       "      <td>0.0</td>\n",
       "      <td>1.0</td>\n",
       "      <td>0.0</td>\n",
       "    </tr>\n",
       "    <tr>\n",
       "      <th>1</th>\n",
       "      <td>0.0</td>\n",
       "      <td>2.0</td>\n",
       "      <td>0.0</td>\n",
       "    </tr>\n",
       "    <tr>\n",
       "      <th>1</th>\n",
       "      <td>1.0</td>\n",
       "      <td>0.0</td>\n",
       "      <td>1.0</td>\n",
       "    </tr>\n",
       "    <tr>\n",
       "      <th>1</th>\n",
       "      <td>1.0</td>\n",
       "      <td>1.0</td>\n",
       "      <td>1.0</td>\n",
       "    </tr>\n",
       "  </tbody>\n",
       "</table>\n",
       "</div>"
      ],
      "text/plain": [
       "   cell_idx  idx_reactions  quantity\n",
       "1       0.0            0.0       1.0\n",
       "1       0.0            1.0       0.0\n",
       "1       0.0            2.0       0.0\n",
       "1       1.0            0.0       1.0\n",
       "1       1.0            1.0       1.0"
      ]
     },
     "execution_count": 12,
     "metadata": {},
     "output_type": "execute_result"
    }
   ],
   "source": [
    "# DSMC study\n",
    "df_dsmc_collisions = store['dsmc_collisions']\n",
    "df_dsmc_collisions.head()"
   ]
  },
  {
   "cell_type": "code",
   "execution_count": 343,
   "id": "7194425e-2e7a-408a-8375-773dca808e95",
   "metadata": {},
   "outputs": [],
   "source": [
    "reaction_0 = df_dsmc_collisions.loc[df_dsmc_collisions['idx_reactions']== 0]"
   ]
  },
  {
   "cell_type": "code",
   "execution_count": 344,
   "id": "2f422f3b-6659-470d-bacf-95ed31067cbf",
   "metadata": {},
   "outputs": [
    {
     "data": {
      "application/vnd.jupyter.widget-view+json": {
       "model_id": "2e9dd1c3d37c4a68ae00c3a791e380b0",
       "version_major": 2,
       "version_minor": 0
      },
      "text/plain": [
       "Canvas(toolbar=Toolbar(toolitems=[('Home', 'Reset original view', 'home', 'home'), ('Back', 'Back to previous …"
      ]
     },
     "metadata": {},
     "output_type": "display_data"
    },
    {
     "data": {
      "text/plain": [
       "[<matplotlib.lines.Line2D at 0x7fed08d3d590>]"
      ]
     },
     "execution_count": 344,
     "metadata": {},
     "output_type": "execute_result"
    }
   ],
   "source": [
    "fig, ax = plt.subplots()\n",
    "ax.plot(reaction_0.index, reaction_0['quantity'])"
   ]
  },
  {
   "cell_type": "code",
   "execution_count": 345,
   "id": "b9e42a6a-9cee-46c9-8a62-d1f92041ceec",
   "metadata": {},
   "outputs": [],
   "source": [
    "df_out = store['out_particles']"
   ]
  },
  {
   "cell_type": "code",
   "execution_count": 347,
   "id": "e7d5de80-d7fe-4d98-b76d-7338b3445869",
   "metadata": {},
   "outputs": [],
   "source": [
    "df_out_I = df_out.loc[df_out['species']==0.0]\n",
    "df_out_Im = df_out.loc[df_out['species']==1.0]"
   ]
  },
  {
   "cell_type": "code",
   "execution_count": 352,
   "id": "e1ca92f3-2fcd-4bee-a399-43b78cde1572",
   "metadata": {},
   "outputs": [],
   "source": [
    "count_I = df_out_I['x'].groupby(df_out_I.index).count()\n",
    "count_Im = df_out_Im['x'].groupby(df_out_Im.index).count()"
   ]
  },
  {
   "cell_type": "code",
   "execution_count": 354,
   "id": "28f43d9c-8e21-4e56-a471-6a5c338ff851",
   "metadata": {},
   "outputs": [
    {
     "data": {
      "application/vnd.jupyter.widget-view+json": {
       "model_id": "550845795ca24d9c88369b973f0b3555",
       "version_major": 2,
       "version_minor": 0
      },
      "text/plain": [
       "Canvas(toolbar=Toolbar(toolitems=[('Home', 'Reset original view', 'home', 'home'), ('Back', 'Back to previous …"
      ]
     },
     "metadata": {},
     "output_type": "display_data"
    },
    {
     "data": {
      "text/plain": [
       "[<matplotlib.lines.Line2D at 0x7fed08c67410>]"
      ]
     },
     "execution_count": 354,
     "metadata": {},
     "output_type": "execute_result"
    }
   ],
   "source": [
    "fig, ax = plt.subplots()\n",
    "ax.plot(count_I.index, count_I, 'r')\n",
    "ax.plot(count_Im.index, count_Im, 'b')"
   ]
  },
  {
   "cell_type": "code",
   "execution_count": 355,
   "id": "590c49ba-ee86-45bd-a8c3-52b823bd21a6",
   "metadata": {},
   "outputs": [],
   "source": [
    "df_wall_collisions = store['wall_collisions']"
   ]
  },
  {
   "cell_type": "code",
   "execution_count": 361,
   "id": "0d9ddc19-49ba-4be6-8b8c-1adeaae6e721",
   "metadata": {},
   "outputs": [
    {
     "data": {
      "application/vnd.jupyter.widget-view+json": {
       "model_id": "5799a87ff86149db8347995295c06fbd",
       "version_major": 2,
       "version_minor": 0
      },
      "text/plain": [
       "Canvas(toolbar=Toolbar(toolitems=[('Home', 'Reset original view', 'home', 'home'), ('Back', 'Back to previous …"
      ]
     },
     "metadata": {},
     "output_type": "display_data"
    },
    {
     "data": {
      "text/plain": [
       "<AxesSubplot:xlabel='x', ylabel='y'>"
      ]
     },
     "execution_count": 361,
     "metadata": {},
     "output_type": "execute_result"
    }
   ],
   "source": [
    "fig, ax = plt.subplots()\n",
    "sns.scatterplot(data = df_wall_collisions, x = 'x', y = 'y', s = 0.3)"
   ]
  },
  {
   "cell_type": "code",
   "execution_count": 367,
   "id": "c58d7400-f1bc-4a72-97b5-450f753a12b5",
   "metadata": {},
   "outputs": [],
   "source": [
    "df_partial = df_wall_collisions.loc[df_wall_collisions.index > 400]"
   ]
  },
  {
   "cell_type": "code",
   "execution_count": 368,
   "id": "c62893b9-7cea-4482-8c74-9aeb8c7bf4a1",
   "metadata": {},
   "outputs": [
    {
     "data": {
      "text/html": [
       "<div>\n",
       "<style scoped>\n",
       "    .dataframe tbody tr th:only-of-type {\n",
       "        vertical-align: middle;\n",
       "    }\n",
       "\n",
       "    .dataframe tbody tr th {\n",
       "        vertical-align: top;\n",
       "    }\n",
       "\n",
       "    .dataframe thead th {\n",
       "        text-align: right;\n",
       "    }\n",
       "</style>\n",
       "<table border=\"1\" class=\"dataframe\">\n",
       "  <thead>\n",
       "    <tr style=\"text-align: right;\">\n",
       "      <th></th>\n",
       "      <th>x</th>\n",
       "      <th>y</th>\n",
       "      <th>species</th>\n",
       "    </tr>\n",
       "    <tr>\n",
       "      <th>reaction</th>\n",
       "      <th></th>\n",
       "      <th></th>\n",
       "      <th></th>\n",
       "    </tr>\n",
       "  </thead>\n",
       "  <tbody>\n",
       "    <tr>\n",
       "      <th>0.0</th>\n",
       "      <td>983</td>\n",
       "      <td>983</td>\n",
       "      <td>983</td>\n",
       "    </tr>\n",
       "    <tr>\n",
       "      <th>1.0</th>\n",
       "      <td>461</td>\n",
       "      <td>461</td>\n",
       "      <td>461</td>\n",
       "    </tr>\n",
       "  </tbody>\n",
       "</table>\n",
       "</div>"
      ],
      "text/plain": [
       "            x    y  species\n",
       "reaction                   \n",
       "0.0       983  983      983\n",
       "1.0       461  461      461"
      ]
     },
     "execution_count": 368,
     "metadata": {},
     "output_type": "execute_result"
    }
   ],
   "source": [
    "df_partial.loc[df_partial['species']==1.0].groupby('reaction').count()"
   ]
  },
  {
   "cell_type": "code",
   "execution_count": 369,
   "id": "0592c6e2-9384-467d-890b-208a11d80c2b",
   "metadata": {},
   "outputs": [
    {
     "data": {
      "text/plain": [
       "0.3192520775623269"
      ]
     },
     "execution_count": 369,
     "metadata": {},
     "output_type": "execute_result"
    }
   ],
   "source": [
    "461/(983+461)"
   ]
  },
  {
   "cell_type": "code",
   "execution_count": 366,
   "id": "e4e300e8-86bd-4ca2-9974-a690f052215a",
   "metadata": {},
   "outputs": [
    {
     "data": {
      "text/html": [
       "<div>\n",
       "<style scoped>\n",
       "    .dataframe tbody tr th:only-of-type {\n",
       "        vertical-align: middle;\n",
       "    }\n",
       "\n",
       "    .dataframe tbody tr th {\n",
       "        vertical-align: top;\n",
       "    }\n",
       "\n",
       "    .dataframe thead th {\n",
       "        text-align: right;\n",
       "    }\n",
       "</style>\n",
       "<table border=\"1\" class=\"dataframe\">\n",
       "  <thead>\n",
       "    <tr style=\"text-align: right;\">\n",
       "      <th></th>\n",
       "      <th>x</th>\n",
       "      <th>y</th>\n",
       "      <th>species</th>\n",
       "      <th>reaction</th>\n",
       "    </tr>\n",
       "  </thead>\n",
       "  <tbody>\n",
       "    <tr>\n",
       "      <th>1</th>\n",
       "      <td>2.233387e-05</td>\n",
       "      <td>0.000028</td>\n",
       "      <td>1.0</td>\n",
       "      <td>0.0</td>\n",
       "    </tr>\n",
       "    <tr>\n",
       "      <th>10</th>\n",
       "      <td>1.838758e-04</td>\n",
       "      <td>0.000995</td>\n",
       "      <td>1.0</td>\n",
       "      <td>0.0</td>\n",
       "    </tr>\n",
       "    <tr>\n",
       "      <th>10</th>\n",
       "      <td>9.690159e-05</td>\n",
       "      <td>0.000995</td>\n",
       "      <td>1.0</td>\n",
       "      <td>0.0</td>\n",
       "    </tr>\n",
       "    <tr>\n",
       "      <th>10</th>\n",
       "      <td>1.354459e-04</td>\n",
       "      <td>0.000990</td>\n",
       "      <td>1.0</td>\n",
       "      <td>0.0</td>\n",
       "    </tr>\n",
       "    <tr>\n",
       "      <th>20</th>\n",
       "      <td>4.043435e-04</td>\n",
       "      <td>0.000985</td>\n",
       "      <td>1.0</td>\n",
       "      <td>0.0</td>\n",
       "    </tr>\n",
       "    <tr>\n",
       "      <th>...</th>\n",
       "      <td>...</td>\n",
       "      <td>...</td>\n",
       "      <td>...</td>\n",
       "      <td>...</td>\n",
       "    </tr>\n",
       "    <tr>\n",
       "      <th>1000</th>\n",
       "      <td>6.125017e-05</td>\n",
       "      <td>0.000976</td>\n",
       "      <td>1.0</td>\n",
       "      <td>1.0</td>\n",
       "    </tr>\n",
       "    <tr>\n",
       "      <th>1000</th>\n",
       "      <td>9.304397e-04</td>\n",
       "      <td>0.000005</td>\n",
       "      <td>1.0</td>\n",
       "      <td>0.0</td>\n",
       "    </tr>\n",
       "    <tr>\n",
       "      <th>1000</th>\n",
       "      <td>7.637624e-06</td>\n",
       "      <td>0.000003</td>\n",
       "      <td>1.0</td>\n",
       "      <td>1.0</td>\n",
       "    </tr>\n",
       "    <tr>\n",
       "      <th>1000</th>\n",
       "      <td>2.366333e-04</td>\n",
       "      <td>0.000994</td>\n",
       "      <td>1.0</td>\n",
       "      <td>0.0</td>\n",
       "    </tr>\n",
       "    <tr>\n",
       "      <th>1000</th>\n",
       "      <td>9.367690e-08</td>\n",
       "      <td>0.000009</td>\n",
       "      <td>1.0</td>\n",
       "      <td>0.0</td>\n",
       "    </tr>\n",
       "  </tbody>\n",
       "</table>\n",
       "<p>5857 rows × 4 columns</p>\n",
       "</div>"
      ],
      "text/plain": [
       "                 x         y  species  reaction\n",
       "1     2.233387e-05  0.000028      1.0       0.0\n",
       "10    1.838758e-04  0.000995      1.0       0.0\n",
       "10    9.690159e-05  0.000995      1.0       0.0\n",
       "10    1.354459e-04  0.000990      1.0       0.0\n",
       "20    4.043435e-04  0.000985      1.0       0.0\n",
       "...            ...       ...      ...       ...\n",
       "1000  6.125017e-05  0.000976      1.0       1.0\n",
       "1000  9.304397e-04  0.000005      1.0       0.0\n",
       "1000  7.637624e-06  0.000003      1.0       1.0\n",
       "1000  2.366333e-04  0.000994      1.0       0.0\n",
       "1000  9.367690e-08  0.000009      1.0       0.0\n",
       "\n",
       "[5857 rows x 4 columns]"
      ]
     },
     "execution_count": 366,
     "metadata": {},
     "output_type": "execute_result"
    }
   ],
   "source": [
    "df_wall_collisions"
   ]
  },
  {
   "cell_type": "code",
   "execution_count": 370,
   "id": "f692554c-12eb-4ab4-a974-f7cdebe91d56",
   "metadata": {},
   "outputs": [],
   "source": [
    "df_part_partial = df_particles.loc[df_particles.index > 400]"
   ]
  },
  {
   "cell_type": "code",
   "execution_count": 373,
   "id": "77250a38-1325-4312-8aa6-07a930bec5ce",
   "metadata": {},
   "outputs": [
    {
     "data": {
      "application/vnd.jupyter.widget-view+json": {
       "model_id": "341aacde2c7b41f7bd58216d8179cbfd",
       "version_major": 2,
       "version_minor": 0
      },
      "text/plain": [
       "Canvas(toolbar=Toolbar(toolitems=[('Home', 'Reset original view', 'home', 'home'), ('Back', 'Back to previous …"
      ]
     },
     "metadata": {},
     "output_type": "display_data"
    },
    {
     "data": {
      "text/plain": [
       "<AxesSubplot:xlabel='x', ylabel='y'>"
      ]
     },
     "execution_count": 373,
     "metadata": {},
     "output_type": "execute_result"
    }
   ],
   "source": [
    "fig, ax = plt.subplots()\n",
    "sns.histplot(data = df_part_partial.loc[df_part_partial['species']==0.0], x = 'x', y = 'y', ax = ax)"
   ]
  },
  {
   "cell_type": "code",
   "execution_count": 376,
   "id": "22503647-5d0c-4a11-a433-92a54c72c60d",
   "metadata": {},
   "outputs": [
    {
     "data": {
      "application/vnd.jupyter.widget-view+json": {
       "model_id": "fc34294ee67c4fca9a6ab9f92f50a553",
       "version_major": 2,
       "version_minor": 0
      },
      "text/plain": [
       "Canvas(toolbar=Toolbar(toolitems=[('Home', 'Reset original view', 'home', 'home'), ('Back', 'Back to previous …"
      ]
     },
     "metadata": {},
     "output_type": "display_data"
    },
    {
     "data": {
      "text/plain": [
       "<AxesSubplot:xlabel='x', ylabel='y'>"
      ]
     },
     "execution_count": 376,
     "metadata": {},
     "output_type": "execute_result"
    }
   ],
   "source": [
    "fig, ax = plt.subplots()\n",
    "sns.histplot(data = df_part_partial.loc[df_part_partial['species']==1.0], x = 'x', y = 'y', ax = ax)"
   ]
  },
  {
   "cell_type": "code",
   "execution_count": 379,
   "id": "9d6b39aa-5675-42a5-8a04-e368da6c5dc8",
   "metadata": {},
   "outputs": [
    {
     "data": {
      "application/vnd.jupyter.widget-view+json": {
       "model_id": "c3d29bf055214b7c94b486a7f0699644",
       "version_major": 2,
       "version_minor": 0
      },
      "text/plain": [
       "Canvas(toolbar=Toolbar(toolitems=[('Home', 'Reset original view', 'home', 'home'), ('Back', 'Back to previous …"
      ]
     },
     "metadata": {},
     "output_type": "display_data"
    },
    {
     "data": {
      "text/plain": [
       "<AxesSubplot:xlabel='vz', ylabel='Count'>"
      ]
     },
     "execution_count": 379,
     "metadata": {},
     "output_type": "execute_result"
    }
   ],
   "source": [
    "fig, ax = plt.subplots()\n",
    "sns.histplot(data = df_part_partial.loc[df_part_partial['species']==0.0], x = 'vz', ax = ax)"
   ]
  },
  {
   "cell_type": "code",
   "execution_count": null,
   "id": "c02f0087-3277-402e-ba87-1cb4b0b71c1a",
   "metadata": {},
   "outputs": [],
   "source": []
  }
 ],
 "metadata": {
  "kernelspec": {
   "display_name": "Python 3",
   "language": "python",
   "name": "python3"
  },
  "language_info": {
   "codemirror_mode": {
    "name": "ipython",
    "version": 3
   },
   "file_extension": ".py",
   "mimetype": "text/x-python",
   "name": "python",
   "nbconvert_exporter": "python",
   "pygments_lexer": "ipython3",
   "version": "3.7.10"
  }
 },
 "nbformat": 4,
 "nbformat_minor": 5
}
