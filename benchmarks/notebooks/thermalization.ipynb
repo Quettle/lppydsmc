{
 "cells": [
  {
   "cell_type": "markdown",
   "id": "a8b53218-4737-47e4-aef2-20fe760cb28e",
   "metadata": {
    "tags": []
   },
   "source": [
    "# Thermalization"
   ]
  },
  {
   "cell_type": "code",
   "execution_count": 2,
   "id": "21f1fb8c-4d6c-47ad-bbc1-2d377440ba0e",
   "metadata": {},
   "outputs": [],
   "source": [
    "%matplotlib widget \n",
    "\n",
    "# global import\n",
    "import numpy as np\n",
    "import pandas as pd\n",
    "\n",
    "# plotting\n",
    "import matplotlib.pyplot as plt\n",
    "import seaborn as sns\n",
    "# local import\n",
    "import lppydsmc as ld\n",
    "\n",
    "seed = 1111\n",
    "np.random.seed(1111)"
   ]
  },
  {
   "cell_type": "markdown",
   "id": "0f66c6f6-1ed5-4535-949b-d6a0089e00a4",
   "metadata": {},
   "source": [
    "## General theory\n",
    "\n",
    "Apparently there could be a analytical solution for the characteristic time of relaxation towards equilibrium.\n",
    "\n",
    "The idea here is to initialize a 0D box and one species of a monoatomic atom (for example : Iodine). \n",
    "\n",
    "Then, the translational energy along axis $y$ and $z$ (for example) relaxes towards the equilibrium. To do that, the translasional energy along the $x$ axis is reset at each time step to a give equilibrium and DSMC collisions are performed.\n",
    "\n",
    "Parameters :\n",
    " - temperature : $300$ K\n",
    " - density : $3.2 \\times 10^{19}$ $m^{-3}$\n",
    " - species : Iodine [I]\n",
    " \n",
    "The code does not allow, by default, to reinitialize at each time step a species or one of its component. In addition, advection and collisions with walls are not needed.\n",
    "Thus the choice that was made was to use the basic functions and code it from there."
   ]
  },
  {
   "cell_type": "code",
   "execution_count": 5,
   "id": "7942921a-5b2d-4372-9d9c-a81ab8b9d3bc",
   "metadata": {},
   "outputs": [],
   "source": [
    "def temperature_evolution(data, mass):\n",
    "    from lppydsmc.utils.physics import BOLTZMAN_CONSTANT\n",
    "    # speed norm\n",
    "    data['v2'] = data['vx']*data['vx']+data['vy']*data['vy']+data['vz']*data['vz']\n",
    "    data['v'] = np.sqrt(data['v2'])\n",
    "\n",
    "    # drift \n",
    "    v_mean = data.groupby(data.index).mean()\n",
    "    v_mean['drift2'] = v_mean['vx']*v_mean['vx']+v_mean['vy']*v_mean['vy']+v_mean['vz']*v_mean['vz']\n",
    "    v_mean['drift'] = np.sqrt(v_mean['drift2'])\n",
    "\n",
    "    # 3/2 k T = 1/2 m (<v²>-|<v>|²)\n",
    "    temperature = mass/(3.*BOLTZMAN_CONSTANT)*(v_mean['v2']-v_mean['drift2'])\n",
    "    # temperature = mass/(3.*BOLTZMAN_CONSTANT)*((v_mean['v']-v_mean['drift'])**2)\n",
    "\n",
    "    return temperature\n",
    "\n",
    "def variance_speed_evolution(data):\n",
    "    data['v2'] = data['vx']*data['vx']+data['vy']*data['vy']+data['vz']*data['vz']\n",
    "    data['v'] = np.sqrt(data['v2'])\n",
    "    data_var = data.groupby(data.index).var()\n",
    "    return data_var['v']\n",
    "\n",
    "def translational_energy(data, mass):\n",
    "    data['tx'] = 0.5*mass*data['vx']*data['vx']\n",
    "    data['ty'] = 0.5*mass*data['vy']*data['vy']\n",
    "    data['tz'] = 0.5*mass*data['vz']*data['vz']\n",
    "    \n",
    "    groups = data[['tx','ty','tz']].groupby(data.index).mean()\n",
    "    \n",
    "    return groups"
   ]
  },
  {
   "cell_type": "code",
   "execution_count": 3,
   "id": "26695a7c-dc3c-43c4-968b-97f5ee01b02f",
   "metadata": {},
   "outputs": [],
   "source": [
    "def thermalization(mass, radius, quantity, time_step, iterations, temperature = 300, seed = None):\n",
    "    import pandas as pd\n",
    "    import lppydsmc as ld\n",
    "    import numpy as np\n",
    "    from tqdm import tqdm\n",
    "    from pathlib import Path\n",
    "    np.random.seed(seed)\n",
    "    \n",
    "    df = pd.DataFrame(columns = ['vx','vy','vz']) # index will be the iteration\n",
    "    \n",
    "    points = 1e-3*np.array([[0,0],[0,1],[1,1],[1,0]])\n",
    "    positions = ld.initialization.particles.uniform_position(quantity, points)\n",
    "    \n",
    "    velocities = np.zeros((quantity, 3))\n",
    "    vel_std = ld.utils.physics.gaussian(temperature, mass)\n",
    "    velocities[:,0] = np.random.normal(loc=0.0, scale=vel_std, size = quantity)\n",
    "    \n",
    "    arrays = [np.concatenate((positions, velocities), axis = 1)]\n",
    "    \n",
    "    grid = np.array([np.zeros((quantity,2))]) # 1 cell\n",
    "    grid[0][:,1] = np.array([k for k in range(quantity)])\n",
    "    currents = np.array([quantity])\n",
    "    averages = np.array([quantity])\n",
    "    \n",
    "    cross_section = np.pi*4*radius*radius\n",
    "    cross_sections = np.array([[cross_section]])\n",
    "\n",
    "    max_proba = np.array([cross_section*ld.utils.physics.maxwellian_mean_speed(temperature, mass)])\n",
    "\n",
    "    target_density = 3.2e19\n",
    "    cell_volume = 1e-9\n",
    "    particles_weight = target_density*cell_volume/quantity\n",
    "    remains_per_cell = np.array([0])\n",
    "    masses = np.array([mass])\n",
    "    monitoring = None\n",
    "    group_fn = None\n",
    "    saver = ld.data.saver.Saver(Path(''), 'thermalization_monitoring_2.h5')\n",
    "    \n",
    "    period_saving = 10\n",
    "    with saver.__enter__() as store :\n",
    "        df = df.append(pd.DataFrame(arrays[0][:,2:], index=[0]*quantity, columns = ['vx','vy','vz']))\n",
    "        for iteration in tqdm(range(1,iterations+1)) :\n",
    "            results = ld.collision.handler_particles_collisions(arrays, grid, currents, time_step, \\\n",
    "                averages, max_proba, cross_sections, cell_volume, particles_weight, remains_per_cell, masses, monitoring = monitoring, group_fn = group_fn)\n",
    "\n",
    "            df = df.append(pd.DataFrame(arrays[0][:,2:], index=[iteration]*quantity, columns = ['vx','vy','vz']))\n",
    "\n",
    "            # resetting vx\n",
    "            arrays[0][:,2] = np.random.normal(loc=0.0, scale=vel_std, size = quantity)\n",
    "            \n",
    "            if(iteration%period_saving==0):\n",
    "                # print('Collisions : {}'.format(results))\n",
    "                saver.save(it = iteration, append = {'df':df})\n",
    "                df = pd.DataFrame(columns = ['vx','vy','vz'])"
   ]
  },
  {
   "cell_type": "code",
   "execution_count": 8,
   "id": "4215f24e-e420-4e97-ae5e-ab6de754dd82",
   "metadata": {},
   "outputs": [],
   "source": [
    "mass = 2.16e-25 # kg\n",
    "time_step = 1e-5\n",
    "radius = 2e-10\n",
    "J_TO_EV = 1/1.6e-19\n",
    "# thermalization(mass = mass, radius = radius, quantity = int(1e5), time_step = time_step, iterations = 1000, temperature = 300, seed = 1111)"
   ]
  },
  {
   "cell_type": "code",
   "execution_count": 9,
   "id": "622536a5-87d9-4ba0-8f0d-033799674ff9",
   "metadata": {},
   "outputs": [
    {
     "data": {
      "text/html": [
       "<div>\n",
       "<style scoped>\n",
       "    .dataframe tbody tr th:only-of-type {\n",
       "        vertical-align: middle;\n",
       "    }\n",
       "\n",
       "    .dataframe tbody tr th {\n",
       "        vertical-align: top;\n",
       "    }\n",
       "\n",
       "    .dataframe thead th {\n",
       "        text-align: right;\n",
       "    }\n",
       "</style>\n",
       "<table border=\"1\" class=\"dataframe\">\n",
       "  <thead>\n",
       "    <tr style=\"text-align: right;\">\n",
       "      <th></th>\n",
       "      <th>vx</th>\n",
       "      <th>vy</th>\n",
       "      <th>vz</th>\n",
       "    </tr>\n",
       "  </thead>\n",
       "  <tbody>\n",
       "    <tr>\n",
       "      <th>0</th>\n",
       "      <td>61.576818</td>\n",
       "      <td>0.0</td>\n",
       "      <td>0.0</td>\n",
       "    </tr>\n",
       "    <tr>\n",
       "      <th>0</th>\n",
       "      <td>-78.067974</td>\n",
       "      <td>0.0</td>\n",
       "      <td>0.0</td>\n",
       "    </tr>\n",
       "    <tr>\n",
       "      <th>0</th>\n",
       "      <td>65.671737</td>\n",
       "      <td>0.0</td>\n",
       "      <td>0.0</td>\n",
       "    </tr>\n",
       "    <tr>\n",
       "      <th>0</th>\n",
       "      <td>-43.097120</td>\n",
       "      <td>0.0</td>\n",
       "      <td>0.0</td>\n",
       "    </tr>\n",
       "    <tr>\n",
       "      <th>0</th>\n",
       "      <td>-32.607050</td>\n",
       "      <td>0.0</td>\n",
       "      <td>0.0</td>\n",
       "    </tr>\n",
       "  </tbody>\n",
       "</table>\n",
       "</div>"
      ],
      "text/plain": [
       "          vx   vy   vz\n",
       "0  61.576818  0.0  0.0\n",
       "0 -78.067974  0.0  0.0\n",
       "0  65.671737  0.0  0.0\n",
       "0 -43.097120  0.0  0.0\n",
       "0 -32.607050  0.0  0.0"
      ]
     },
     "execution_count": 9,
     "metadata": {},
     "output_type": "execute_result"
    }
   ],
   "source": [
    "store = pd.HDFStore('thermalization_monitoring_2.h5')\n",
    "df = store['df']\n",
    "df.head()"
   ]
  },
  {
   "cell_type": "code",
   "execution_count": 10,
   "id": "9eed6214-540b-4008-870b-0ee0e6ea86fd",
   "metadata": {},
   "outputs": [],
   "source": [
    "te = translational_energy(df, mass)"
   ]
  },
  {
   "cell_type": "code",
   "execution_count": 11,
   "id": "8ec7548e-238e-49cb-9a1f-1b498205c3aa",
   "metadata": {},
   "outputs": [],
   "source": [
    "temperatures = temperature_evolution(df, mass) "
   ]
  },
  {
   "cell_type": "code",
   "execution_count": 17,
   "id": "d4201e3e-aa74-47df-a77f-adf260099cbe",
   "metadata": {},
   "outputs": [
    {
     "data": {
      "application/vnd.jupyter.widget-view+json": {
       "model_id": "b8807a2f5cae4b56aee0725ccde74aa0",
       "version_major": 2,
       "version_minor": 0
      },
      "text/plain": [
       "Canvas(toolbar=Toolbar(toolitems=[('Home', 'Reset original view', 'home', 'home'), ('Back', 'Back to previous …"
      ]
     },
     "metadata": {},
     "output_type": "display_data"
    }
   ],
   "source": [
    "fig, ax = plt.subplots(constrained_layout = True)\n",
    "ax.set_title(r'$T_f =$' + '{:.2f} K'.format(np.mean(temperatures.values[500:])))\n",
    "ax.plot(te.index*time_step, te['tx']*J_TO_EV, color = 'r', label = 'Tx')\n",
    "ax.plot(te.index*time_step, te['ty']*J_TO_EV, color = 'g', label = 'Ty')\n",
    "ax.plot(te.index*time_step, te['tz']*J_TO_EV, color = 'b', label = 'Tz')\n",
    "ax.legend(loc = 'right', fontsize = 14)\n",
    "ax.set_xlabel('t (s)', fontsize = 14)\n",
    "ax.set_ylabel('translational energy (eV)', fontsize = 14);"
   ]
  },
  {
   "cell_type": "code",
   "execution_count": 13,
   "id": "f333f125-0664-421e-b17a-d3250d6063b8",
   "metadata": {},
   "outputs": [],
   "source": [
    "df['t'] = df['tx']+df['ty']+df['tz']"
   ]
  },
  {
   "cell_type": "code",
   "execution_count": 14,
   "id": "50f78294-580f-4d05-af3f-51567af59d80",
   "metadata": {},
   "outputs": [],
   "source": [
    "tf = df['t'].loc[df.index > 800]"
   ]
  },
  {
   "cell_type": "code",
   "execution_count": 15,
   "id": "b54820f8-482e-45fc-ab0e-7cf9bf2d591e",
   "metadata": {},
   "outputs": [],
   "source": [
    "target_temperature = 300\n",
    "target_density = 3.2e19\n",
    "factor = ld.utils.physics.BOLTZMAN_CONSTANT*target_temperature\n",
    "f = np.exp(-tf/factor)"
   ]
  },
  {
   "cell_type": "code",
   "execution_count": 18,
   "id": "f489e566-2561-4aaf-a667-f2b7f90ad366",
   "metadata": {},
   "outputs": [
    {
     "data": {
      "application/vnd.jupyter.widget-view+json": {
       "model_id": "dc9d3ee560f1465b87faf1413cffa76e",
       "version_major": 2,
       "version_minor": 0
      },
      "text/plain": [
       "Canvas(toolbar=Toolbar(toolitems=[('Home', 'Reset original view', 'home', 'home'), ('Back', 'Back to previous …"
      ]
     },
     "metadata": {},
     "output_type": "display_data"
    }
   ],
   "source": [
    "pre_factor = 1  # target_density # target_density*(mass/(factor*np.pi*2))**(3/2)\n",
    "fig, ax = plt.subplots(constrained_layout=True)\n",
    "ax.set_yscale('log')\n",
    "ax.scatter(tf*J_TO_EV, pre_factor*f, s = 0.1);\n",
    "ax.set_xlabel('Translational energy (eV)', fontsize=14)\n",
    "ax.set_ylabel(r'Probability density $f(E_t, T)$', fontsize=14);"
   ]
  },
  {
   "cell_type": "code",
   "execution_count": null,
   "id": "07abc6e6-a934-4065-a02e-b90a8ccf9cca",
   "metadata": {},
   "outputs": [],
   "source": []
  }
 ],
 "metadata": {
  "kernelspec": {
   "display_name": "Python 3",
   "language": "python",
   "name": "python3"
  },
  "language_info": {
   "codemirror_mode": {
    "name": "ipython",
    "version": 3
   },
   "file_extension": ".py",
   "mimetype": "text/x-python",
   "name": "python",
   "nbconvert_exporter": "python",
   "pygments_lexer": "ipython3",
   "version": "3.7.10"
  }
 },
 "nbformat": 4,
 "nbformat_minor": 5
}
