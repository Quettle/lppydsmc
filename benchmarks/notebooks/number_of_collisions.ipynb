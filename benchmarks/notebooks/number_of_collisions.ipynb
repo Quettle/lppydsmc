{
 "cells": [
  {
   "cell_type": "markdown",
   "id": "a8b53218-4737-47e4-aef2-20fe760cb28e",
   "metadata": {
    "tags": []
   },
   "source": [
    "# Number of collisions"
   ]
  },
  {
   "cell_type": "code",
   "execution_count": 1,
   "id": "21f1fb8c-4d6c-47ad-bbc1-2d377440ba0e",
   "metadata": {},
   "outputs": [],
   "source": [
    "%matplotlib widget \n",
    "\n",
    "# global import\n",
    "import numpy as np\n",
    "import pandas as pd\n",
    "\n",
    "# plotting\n",
    "import matplotlib.pyplot as plt\n",
    "import seaborn as sns\n",
    "# local import\n",
    "import lppydsmc as ld\n",
    "\n",
    "seed = 1111\n",
    "np.random.seed(seed)"
   ]
  },
  {
   "cell_type": "code",
   "execution_count": 2,
   "id": "26695a7c-dc3c-43c4-968b-97f5ee01b02f",
   "metadata": {},
   "outputs": [],
   "source": [
    "def number_of_collisions(mass, radius, quantity, time_step, iterations, temperature = 300, density = 3.2e19, cell_volume = 1e-9, seed = None):\n",
    "    import pandas as pd\n",
    "    import lppydsmc as ld\n",
    "    import numpy as np\n",
    "    from tqdm import tqdm\n",
    "    from pathlib import Path\n",
    "    np.random.seed(seed)\n",
    "    collisions_list = []\n",
    "    points = 1e-3*np.array([[0,0],[0,1],[1,1],[1,0]])\n",
    "    positions = ld.initialization.particles.uniform_position(quantity, points)\n",
    "\n",
    "    vel_std = ld.utils.physics.gaussian(temperature, mass)\n",
    "    velocities = np.random.normal(loc=0.0, scale=vel_std, size = (quantity,3))\n",
    "    \n",
    "    arrays = [np.concatenate((positions, velocities), axis = 1)]\n",
    "    \n",
    "    grid = np.array([np.zeros((quantity,2))]) # 1 cell\n",
    "    grid[0][:,1] = np.array([k for k in range(quantity)])\n",
    "    currents = np.array([quantity])\n",
    "    averages = np.array([quantity])\n",
    "    \n",
    "    cross_section = np.pi*4*radius*radius\n",
    "    cross_sections = np.array([[cross_section]])\n",
    "\n",
    "    max_proba = np.array([3*cross_section*ld.utils.physics.maxwellian_mean_speed(temperature, mass)])\n",
    "\n",
    "    target_density = density\n",
    "    cell_volume = cell_volume\n",
    "    particles_weight = target_density*cell_volume/quantity\n",
    "    remains_per_cell = np.array([0.])\n",
    "    masses = np.array([mass])\n",
    "    monitoring = None\n",
    "    group_fn = None\n",
    "    \n",
    "    period_saving = 10\n",
    "\n",
    "    for iteration in tqdm(range(1,iterations+1)) :\n",
    "        \n",
    "        results = ld.collision.handler_particles_collisions(arrays, grid, currents, time_step, \\\n",
    "            averages, max_proba, cross_sections, cell_volume, particles_weight, remains_per_cell, masses, monitoring = monitoring, group_fn = group_fn)\n",
    "        collisions_list.append(results)\n",
    "        # if(iteration%100 == 0):\n",
    "        #    print(ld.collision.collider.candidates(currents, time_step, averages, max_proba, cell_volume, particles_weight, remains_per_cell))\n",
    "        #    print(remains_per_cell)\n",
    "        #     fig, ax = plt.subplots(3)\n",
    "        #     ax[0].hist(arrays[0][:,2],color = 'r', bins = 30)\n",
    "        #     ax[1].hist(arrays[0][:,3], color = 'g', bins = 30)\n",
    "        #     ax[2].hist(arrays[0][:,4], color = 'b', bins = 30)\n",
    "    return collisions_list"
   ]
  },
  {
   "cell_type": "code",
   "execution_count": 11,
   "id": "4215f24e-e420-4e97-ae5e-ab6de754dd82",
   "metadata": {},
   "outputs": [
    {
     "name": "stderr",
     "output_type": "stream",
     "text": [
      "100%|██████████| 1000/1000 [01:18<00:00, 12.67it/s]\n"
     ]
    }
   ],
   "source": [
    "mass = 2.16e-25 # kg\n",
    "time_step = 1e-5\n",
    "radius = 2e-10\n",
    "J_TO_EV = 1/1.6e-19\n",
    "iterations = 1000\n",
    "T = 300\n",
    "n = 3.2e19\n",
    "quantity = int(1e5)\n",
    "cell_volume = 1e-9\n",
    "collisions_list = number_of_collisions(mass = mass, radius = radius, quantity = quantity, time_step = time_step, \\\n",
    "                                       iterations = iterations, temperature = T, density= n,cell_volume = cell_volume, seed = 1111)"
   ]
  },
  {
   "cell_type": "code",
   "execution_count": 12,
   "id": "213f13da-a745-45d7-bdd3-8b206a45593d",
   "metadata": {},
   "outputs": [
    {
     "data": {
      "application/vnd.jupyter.widget-view+json": {
       "model_id": "c056c87008ed41808ba4ea8741ad8a82",
       "version_major": 2,
       "version_minor": 0
      },
      "text/plain": [
       "Canvas(toolbar=Toolbar(toolitems=[('Home', 'Reset original view', 'home', 'home'), ('Back', 'Back to previous …"
      ]
     },
     "metadata": {},
     "output_type": "display_data"
    },
    {
     "data": {
      "text/plain": [
       "[<matplotlib.lines.Line2D at 0x7f2d3888f910>]"
      ]
     },
     "execution_count": 12,
     "metadata": {},
     "output_type": "execute_result"
    }
   ],
   "source": [
    "fig, ax = plt.subplots()\n",
    "ax.plot(collisions_list)"
   ]
  },
  {
   "cell_type": "code",
   "execution_count": 13,
   "id": "07abc6e6-a934-4065-a02e-b90a8ccf9cca",
   "metadata": {},
   "outputs": [],
   "source": [
    "BOLTZMAN_CONSTANT = 1.38064e-23 # J K−1\n",
    "\n",
    "def relative_speed_maxwellian(temperature,mass):\n",
    "    return 4/np.sqrt(np.pi)*np.sqrt(BOLTZMAN_CONSTANT*temperature/mass)\n",
    "# 1st : theoretical collision frequency for MB distribution\n",
    "def number_of_collisions_per_time_and_volume(T, m, d, n): # per unit of volume and time\n",
    "    cross_section = np.pi*d*d\n",
    "    return 1/2 * cross_section *n**2 * relative_speed_maxwellian(T,m)"
   ]
  },
  {
   "cell_type": "code",
   "execution_count": 14,
   "id": "f4b4c175-95f5-42c8-84e2-fe713bb6d851",
   "metadata": {},
   "outputs": [
    {
     "data": {
      "text/plain": [
       "312.50648393656974"
      ]
     },
     "execution_count": 14,
     "metadata": {},
     "output_type": "execute_result"
    }
   ],
   "source": [
    "relative_speed_maxwellian(T, mass)"
   ]
  },
  {
   "cell_type": "code",
   "execution_count": 15,
   "id": "ab966208-e0c4-437a-839d-0ec99f37b9ea",
   "metadata": {},
   "outputs": [],
   "source": [
    "nu_c = number_of_collisions_per_time_and_volume(T = T, m = mass, d=2*radius, n = n)\n",
    "simu_time = iterations*time_step\n",
    "volume_system = 1e-9\n",
    "particles_weight = n*volume_system/quantity"
   ]
  },
  {
   "cell_type": "code",
   "execution_count": 16,
   "id": "999b61ff-9302-4ede-8c28-89e811cd2f77",
   "metadata": {},
   "outputs": [
    {
     "data": {
      "text/plain": [
       "320000.00000000006"
      ]
     },
     "execution_count": 16,
     "metadata": {},
     "output_type": "execute_result"
    }
   ],
   "source": [
    "particles_weight"
   ]
  },
  {
   "cell_type": "code",
   "execution_count": 17,
   "id": "e12d23ba-b8d0-421a-adc8-93d81df8f8be",
   "metadata": {},
   "outputs": [
    {
     "name": "stdout",
     "output_type": "stream",
     "text": [
      "Total number of collision : 2.511540e+06\n",
      "Equivalent in reality : 8.036928e+11\n",
      "Expected number of collisions in reality : 8.042644e+11\n",
      "Ratio of the two : -0.071\n"
     ]
    }
   ],
   "source": [
    "collisions_nb = np.sum(np.array(collisions_list)) # we count twice too many \n",
    "print('Total number of collision : {:e}'.format(collisions_nb));\n",
    "print('Equivalent in reality : {:e}'.format(particles_weight*collisions_nb))\n",
    "print('Expected number of collisions in reality : {:e}'.format(nu_c*simu_time*volume_system))\n",
    "print('Ratio of the two : {:.2}'.format(100*(particles_weight*collisions_nb-nu_c*simu_time*volume_system)/(nu_c*simu_time*volume_system)))"
   ]
  },
  {
   "cell_type": "code",
   "execution_count": null,
   "id": "b33e2de3-891f-43aa-a90c-5c76f5c2f36f",
   "metadata": {},
   "outputs": [],
   "source": []
  },
  {
   "cell_type": "code",
   "execution_count": null,
   "id": "e700103c-3440-4330-a903-fd82cba931ac",
   "metadata": {},
   "outputs": [],
   "source": []
  }
 ],
 "metadata": {
  "kernelspec": {
   "display_name": "Python 3",
   "language": "python",
   "name": "python3"
  },
  "language_info": {
   "codemirror_mode": {
    "name": "ipython",
    "version": 3
   },
   "file_extension": ".py",
   "mimetype": "text/x-python",
   "name": "python",
   "nbconvert_exporter": "python",
   "pygments_lexer": "ipython3",
   "version": "3.7.10"
  }
 },
 "nbformat": 4,
 "nbformat_minor": 5
}
