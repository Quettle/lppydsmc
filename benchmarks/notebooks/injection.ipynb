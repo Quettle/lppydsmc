{
 "cells": [
  {
   "cell_type": "markdown",
   "id": "947060d9-615d-4372-96d4-22877ca13e06",
   "metadata": {},
   "source": [
    "# Injection benchmark\n",
    "\n",
    "Inject in a box a maxwellian at a given temperature and density. The box is initially empty. It should converge to the right density and have the right temperature.\n",
    "\n",
    "To start with, the dsmc-collisions are deactivated and only the density convergence is studied. Then, temperature convergence will be studied.\n",
    "\n",
    "All cases :\n",
    "- 0D-box (1 cell only) - size : $1e-1 \\times 1e-1 \\times 1e-2$.\n",
    "- Iodine at density $3.2\\times 10^{19}$ $m^{-3}$\n",
    "- Temperature is 300 K\n",
    "- injection wall is also an exiting wall (any particle colliding with the wall exits the system.\n",
    "- injection is performed by the left boundary.\n",
    "- time step : usually the mean free path of a particle for the aformentioned values is $4e-2$ $m$ (that why we chose $dx = dy = dz = 1e-2$). With a mean speed of $200$ $m/s$, it yields at time step of roughly $5 \\times 10^{-5}$ $s$ (a fourth of the mean free path). We eventually take  $1 \\times 10^{-5}$ $s$. \n",
    "\n",
    "Case 1: \n",
    "- the three other boundaries have specular reflection\n",
    "\n",
    "Case 2:\n",
    "- the three other boundaries have diffusive reflection at 300 K\n",
    "\n",
    "Conclusion :\n",
    "For the first two cases, we see that the specular reflections causes an issue with the density (ot so much with thermalization). \n",
    "We tend to be slightly below the right density for the specular reflections (5% for the parameters). We are really on point for the diffusive though.\n",
    "Increasing the number of cells, increased the number of collisions with particles for particles before leaving the system and we got closer to the target density.\n",
    "\n",
    "Case 3: Couette\n",
    "- the three other boundaries have diffusive reflection at 300 K\n",
    "- A drift in the 'x' direction is added for the top  boundary : in this case, a gradient will be present and there should be enough cells to represent it."
   ]
  },
  {
   "cell_type": "code",
   "execution_count": 3,
   "id": "3d77bf9e-7258-4e00-ab59-23644690c9ec",
   "metadata": {},
   "outputs": [],
   "source": [
    "%matplotlib widget \n",
    "# global import\n",
    "import numpy as np\n",
    "import pandas as pd\n",
    "\n",
    "# plotting\n",
    "import matplotlib.pyplot as plt\n",
    "\n",
    "# local import\n",
    "import lppydsmc as ld"
   ]
  },
  {
   "cell_type": "code",
   "execution_count": 4,
   "id": "be1d9436-ee5a-4c3a-9211-1fb0abeb75b4",
   "metadata": {},
   "outputs": [],
   "source": [
    "simulation = False"
   ]
  },
  {
   "cell_type": "markdown",
   "id": "989fb82d-9d5d-457c-8ddf-08e58288a6b4",
   "metadata": {},
   "source": [
    "## Case 1"
   ]
  },
  {
   "cell_type": "code",
   "execution_count": 2,
   "id": "7f402193-ab8b-40d5-bb41-28dca81b7d80",
   "metadata": {},
   "outputs": [],
   "source": [
    "path_injection_1 = \"/home/calot/Documents/projets/lppydsmc/benchmarks/config_files/injection_1.ini\""
   ]
  },
  {
   "cell_type": "code",
   "execution_count": 3,
   "id": "c08af947-36f4-4c6d-ada7-6606a92fbe0c",
   "metadata": {},
   "outputs": [
    {
     "name": "stdout",
     "output_type": "stream",
     "text": [
      "|    it    |   INIT   |  INJECT  |   DEL    | C. WALLS | C. PARTS |  REACT   | EXEC TIME (s) |\n",
      "----------------------------------------------------------------------------------------------\n",
      "|    0     |    0     |    0     |    0     |    0     |    0     |    NA    |       0       |\n",
      "|   100    |   4999   |    55    |    19    |    89    |   160    |    NA    |   1.571e-02   |\n",
      "|   200    |   7478   |    55    |    15    |   129    |   198    |    NA    |   2.664e-02   |\n",
      "|   300    |   8654   |    56    |    37    |   129    |   219    |    NA    |   3.701e-02   |\n",
      "|   400    |   9162   |    55    |    47    |   141    |   225    |    NA    |   3.962e-02   |\n",
      "|   500    |   9485   |    55    |    52    |   179    |   236    |    NA    |   4.103e-02   |\n",
      "|   600    |   9577   |    55    |    52    |   159    |   257    |    NA    |   4.173e-02   |\n",
      "|   700    |   9724   |    55    |    47    |   144    |   232    |    NA    |   4.326e-02   |\n",
      "|   800    |   9826   |    56    |    58    |   194    |   237    |    NA    |   8.728e-02   |\n",
      "|   900    |   9884   |    55    |    55    |   182    |   252    |    NA    |   4.821e-02   |\n",
      "|   1000   |   9899   |    55    |    55    |   156    |   245    |    NA    |   5.336e-02   |\n",
      "|   1100   |   9925   |    55    |    48    |   162    |   268    |    NA    |   6.290e-02   |\n",
      "|   1200   |   9887   |    55    |    53    |   166    |   258    |    NA    |   6.611e-02   |\n",
      "|   1300   |   9936   |    56    |    45    |   182    |   252    |    NA    |   4.281e-02   |\n",
      "|   1400   |   9887   |    55    |    55    |   178    |   262    |    NA    |   6.252e-02   |\n",
      "|   1500   |   9912   |    55    |    50    |   150    |   238    |    NA    |   7.092e-02   |\n",
      "|   1600   |   9886   |    56    |    64    |   169    |   244    |    NA    |   4.237e-02   |\n",
      "|   1700   |   9954   |    55    |    65    |   143    |   244    |    NA    |   5.800e-02   |\n",
      "|   1800   |   9918   |    55    |    65    |   168    |   229    |    NA    |   6.963e-02   |\n",
      "|   1900   |   9990   |    55    |    53    |   158    |   249    |    NA    |   4.737e-02   |\n",
      "|   2000   |   9840   |    55    |    66    |   189    |   256    |    NA    |   5.857e-02   |\n",
      "|   2100   |   9803   |    56    |    48    |   154    |   263    |    NA    |   6.513e-02   |\n",
      "|   2200   |   9783   |    55    |    60    |   170    |   224    |    NA    |   5.765e-02   |\n",
      "|   2300   |   9902   |    55    |    46    |   161    |   246    |    NA    |   4.991e-02   |\n",
      "|   2400   |   9919   |    55    |    57    |   149    |   255    |    NA    |   6.917e-02   |\n",
      "|   2500   |   9879   |    55    |    53    |   149    |   216    |    NA    |   5.832e-02   |\n",
      "|   2600   |   9957   |    56    |    46    |   184    |   238    |    NA    |   4.265e-02   |\n",
      "|   2700   |   9952   |    55    |    57    |   174    |   243    |    NA    |   6.970e-02   |\n",
      "|   2800   |   9967   |    55    |    59    |   202    |   257    |    NA    |   6.198e-02   |\n",
      "|   2900   |   9933   |    56    |    56    |   165    |   226    |    NA    |   5.635e-02   |\n",
      "|   3000   |   9941   |    55    |    74    |   159    |   250    |    NA    |   4.393e-02   |\n",
      "|   3100   |   9862   |    55    |    51    |   151    |   269    |    NA    |   6.913e-02   |\n",
      "|   3200   |   9907   |    55    |    58    |   160    |   244    |    NA    |   6.098e-02   |\n",
      "|   3300   |   9842   |    55    |    59    |   184    |   234    |    NA    |   4.555e-02   |\n",
      "|   3400   |   9804   |    56    |    44    |   167    |   240    |    NA    |   6.557e-02   |\n",
      "|   3500   |   9897   |    55    |    60    |   161    |   263    |    NA    |   6.853e-02   |\n",
      "|   3600   |   9900   |    55    |    50    |   168    |   266    |    NA    |   4.022e-02   |\n",
      "|   3700   |   9859   |    55    |    53    |   187    |   270    |    NA    |   6.640e-02   |\n",
      "|   3800   |   9837   |    55    |    61    |   179    |   241    |    NA    |   7.088e-02   |\n",
      "|   3900   |   9824   |    56    |    66    |   165    |   266    |    NA    |   4.160e-02   |\n",
      "|   4000   |   9845   |    55    |    50    |   148    |   230    |    NA    |   6.736e-02   |\n",
      "|   4100   |   9901   |    55    |    59    |   174    |   235    |    NA    |   6.387e-02   |\n",
      "|   4200   |   9938   |    56    |    51    |   180    |   241    |    NA    |   6.526e-02   |\n",
      "|   4300   |   9893   |    55    |    61    |   164    |   245    |    NA    |   4.062e-02   |\n",
      "|   4400   |   9789   |    55    |    56    |   160    |   243    |    NA    |   7.026e-02   |\n",
      "|   4500   |   9752   |    55    |    54    |   174    |   244    |    NA    |   7.256e-02   |\n",
      "|   4600   |   9814   |    55    |    60    |   174    |   250    |    NA    |   8.422e-02   |\n",
      "|   4700   |   9729   |    56    |    37    |   179    |   242    |    NA    |   4.116e-02   |\n",
      "|   4800   |   9812   |    55    |    56    |   157    |   265    |    NA    |   7.642e-02   |\n",
      "|   4900   |   9884   |    55    |    55    |   167    |   232    |    NA    |   7.285e-02   |\n",
      "|   5000   |   9844   |    55    |    46    |   164    |   253    |    NA    |   7.276e-02   |\n",
      "|   5100   |   9888   |    55    |    50    |   154    |   245    |    NA    |   5.159e-02   |\n",
      "|   5200   |   9950   |    56    |    56    |   125    |   260    |    NA    |   8.047e-02   |\n",
      "|   5300   |   9956   |    55    |    65    |   161    |   246    |    NA    |   5.778e-02   |\n",
      "|   5400   |   9970   |    55    |    41    |   151    |   237    |    NA    |   6.811e-02   |\n",
      "|   5500   |   9926   |    55    |    61    |   161    |   262    |    NA    |   6.546e-02   |\n",
      "|   5600   |   9922   |    55    |    57    |   153    |   250    |    NA    |   7.100e-02   |\n",
      "|   5700   |   9938   |    56    |    60    |   179    |   239    |    NA    |   4.485e-02   |\n",
      "|   5800   |   9947   |    55    |    67    |   156    |   234    |    NA    |   7.097e-02   |\n",
      "|   5900   |   9912   |    55    |    60    |   163    |   245    |    NA    |   8.057e-02   |\n",
      "|   6000   |   9928   |    56    |    58    |   165    |   275    |    NA    |   6.241e-02   |\n",
      "|   6100   |   9945   |    55    |    58    |   151    |   241    |    NA    |   7.480e-02   |\n",
      "|   6200   |   9914   |    55    |    42    |   154    |   242    |    NA    |   5.303e-02   |\n",
      "|   6300   |   9990   |    55    |    64    |   148    |   248    |    NA    |   5.774e-02   |\n",
      "|   6400   |  10003   |    55    |    59    |   153    |   240    |    NA    |   7.118e-02   |\n",
      "|   6500   |  10014   |    56    |    62    |   167    |   262    |    NA    |   6.037e-02   |\n",
      "|   6600   |   9935   |    55    |    63    |   169    |   269    |    NA    |   5.191e-02   |\n",
      "|   6700   |   9999   |    55    |    65    |   168    |   261    |    NA    |   6.639e-02   |\n",
      "|   6800   |   9952   |    55    |    57    |   168    |   245    |    NA    |   6.605e-02   |\n",
      "|   6900   |   9942   |    55    |    48    |   170    |   245    |    NA    |   6.631e-02   |\n",
      "|   7000   |   9934   |    56    |    60    |   147    |   249    |    NA    |   4.692e-02   |\n",
      "|   7100   |   9931   |    55    |    57    |   159    |   244    |    NA    |   9.293e-02   |\n",
      "|   7200   |   9816   |    55    |    50    |   141    |   253    |    NA    |   7.361e-02   |\n",
      "|   7300   |   9877   |    56    |    56    |   186    |   270    |    NA    |   5.343e-02   |\n",
      "|   7400   |   9825   |    55    |    55    |   173    |   253    |    NA    |   7.225e-02   |\n",
      "|   7500   |   9851   |    55    |    54    |   161    |   250    |    NA    |   6.595e-02   |\n",
      "|   7600   |   9943   |    55    |    55    |   163    |   249    |    NA    |   5.982e-02   |\n",
      "|   7700   |   9914   |    55    |    52    |   177    |   262    |    NA    |   8.344e-02   |\n",
      "|   7800   |   9990   |    56    |    63    |   169    |   246    |    NA    |   6.535e-02   |\n",
      "|   7900   |   9889   |    55    |    53    |   149    |   258    |    NA    |   6.958e-02   |\n",
      "|   8000   |  10002   |    55    |    42    |   162    |   231    |    NA    |   4.064e-02   |\n",
      "|   8100   |   9945   |    55    |    56    |   174    |   261    |    NA    |   6.114e-02   |\n",
      "|   8200   |   9961   |    55    |    54    |   164    |   231    |    NA    |   6.336e-02   |\n",
      "|   8300   |  10047   |    56    |    58    |   158    |   251    |    NA    |   5.971e-02   |\n",
      "|   8400   |  10047   |    55    |    47    |   167    |   255    |    NA    |   5.630e-02   |\n",
      "|   8500   |   9972   |    55    |    58    |   158    |   252    |    NA    |   6.956e-02   |\n",
      "|   8600   |   9949   |    56    |    61    |   153    |   243    |    NA    |   6.897e-02   |\n",
      "|   8700   |   9960   |    55    |    47    |   155    |   239    |    NA    |   6.711e-02   |\n",
      "|   8800   |   9963   |    55    |    41    |   173    |   269    |    NA    |   5.119e-02   |\n",
      "|   8900   |   9954   |    55    |    62    |   184    |   268    |    NA    |   6.203e-02   |\n",
      "|   9000   |  10004   |    55    |    45    |   169    |   237    |    NA    |   7.185e-02   |\n",
      "|   9100   |  10012   |    56    |    56    |   144    |   260    |    NA    |   5.220e-02   |\n",
      "|   9200   |  10035   |    55    |    49    |   159    |   221    |    NA    |   5.247e-02   |\n",
      "|   9300   |  10066   |    55    |    62    |   179    |   251    |    NA    |   6.640e-02   |\n",
      "|   9400   |  10025   |    55    |    44    |   161    |   249    |    NA    |   7.263e-02   |\n",
      "|   9500   |   9955   |    55    |    48    |   140    |   243    |    NA    |   5.573e-02   |\n",
      "|   9600   |   9973   |    56    |    47    |   168    |   243    |    NA    |   5.539e-02   |\n",
      "|   9700   |  10017   |    55    |    50    |   138    |   246    |    NA    |   7.280e-02   |\n",
      "|   9800   |   9936   |    55    |    51    |   153    |   232    |    NA    |   6.377e-02   |\n",
      "|   9900   |   9903   |    55    |    58    |   180    |   242    |    NA    |   4.149e-02   |\n",
      "SIMULATION FINISHED\n",
      "Path to results : /home/calot/Documents/projets/lppydsmc/benchmarks/results/injection_1_2\n"
     ]
    }
   ],
   "source": [
    "# launching simulations\n",
    "if(simulation):\n",
    "    ld.main(path_injection_1, save = True);"
   ]
  },
  {
   "cell_type": "markdown",
   "id": "0467eb8c-0ed8-45d5-b530-be0d041531d8",
   "metadata": {},
   "source": [
    "### Analyzing results"
   ]
  },
  {
   "cell_type": "code",
   "execution_count": 6,
   "id": "ffeb9693-6328-449b-941b-e38c87a4b061",
   "metadata": {},
   "outputs": [
    {
     "name": "stdout",
     "output_type": "stream",
     "text": [
      "['/dsmc_collisions', '/dsmc_tracking', '/fluxes', '/out_particles', '/particles', '/wall_collisions']\n"
     ]
    }
   ],
   "source": [
    "results_path = \"/home/calot/Documents/projets/lppydsmc/benchmarks/results/injection_1_2/monitoring.h5\" # seems ok ...\n",
    "store = pd.HDFStore(results_path)\n",
    "print(store.keys())"
   ]
  },
  {
   "cell_type": "code",
   "execution_count": 7,
   "id": "b7856a13-4370-477e-a848-3098b02ce68b",
   "metadata": {},
   "outputs": [],
   "source": [
    "dt = 1e-5 \n",
    "dx, dy, dz = 1e-2, 1e-2, 1e-2\n",
    "nb_cells = 10*10\n",
    "particles_weight = 320000000000\n",
    "target_density = 3.2e19"
   ]
  },
  {
   "cell_type": "code",
   "execution_count": 8,
   "id": "1f471c34-a997-4000-a25b-379ff507267d",
   "metadata": {
    "jupyter": {
     "source_hidden": true
    },
    "tags": []
   },
   "outputs": [],
   "source": [
    "df_particles = store['particles']"
   ]
  },
  {
   "cell_type": "markdown",
   "id": "80222681-d38c-4d89-8ff2-65d0ed3d2492",
   "metadata": {},
   "source": [
    "#### Density"
   ]
  },
  {
   "cell_type": "code",
   "execution_count": 11,
   "id": "f600c80a-dd0d-40cd-ba2d-f91050ffa753",
   "metadata": {},
   "outputs": [],
   "source": [
    "evo_nb_particles = df_particles['x'].groupby(df_particles.index).count()\n",
    "evo_nb_particles = evo_nb_particles/(dx*dy*dz*nb_cells)*particles_weight\n",
    "mean_density_steady_flow = np.mean(evo_nb_particles.values[8000:])"
   ]
  },
  {
   "cell_type": "code",
   "execution_count": 12,
   "id": "b89fb389-782d-45fd-80e6-ef0fe92f1c6c",
   "metadata": {},
   "outputs": [
    {
     "data": {
      "application/vnd.jupyter.widget-view+json": {
       "model_id": "08bdfe8c492b4c8d960b9bcbe1c84314",
       "version_major": 2,
       "version_minor": 0
      },
      "text/plain": [
       "Canvas(toolbar=Toolbar(toolitems=[('Home', 'Reset original view', 'home', 'home'), ('Back', 'Back to previous …"
      ]
     },
     "metadata": {},
     "output_type": "display_data"
    },
    {
     "name": "stdout",
     "output_type": "stream",
     "text": [
      "Mean value of last 300 iterations : 3.196e+19 m^-3\n",
      "Relative difference to target : 0.123 %\n",
      "Min / max value : 1.760e+17 / 3.226e+19 m^-3\n"
     ]
    }
   ],
   "source": [
    "fig, ax = plt.subplots()\n",
    "print('Mean value of last 300 iterations : {:.3e} m^-3'.format(mean_density_steady_flow))\n",
    "print('Relative difference to target : {:.3} %'.format(100*abs(target_density-mean_density_steady_flow)/target_density))\n",
    "print('Min / max value : {:.3e} / {:.3e} m^-3'.format(np.min(evo_nb_particles), np.max(evo_nb_particles)))\n",
    "ax.plot(evo_nb_particles.index*dt, evo_nb_particles.values);"
   ]
  },
  {
   "cell_type": "markdown",
   "id": "94fe3686-874f-414a-bd01-2bba9a49c502",
   "metadata": {},
   "source": [
    "#### Thermal equilibrium"
   ]
  },
  {
   "cell_type": "code",
   "execution_count": 5,
   "id": "0bb978a3-1d7c-4909-b3b5-032c0310af15",
   "metadata": {},
   "outputs": [],
   "source": [
    "mass = 2.16e-25"
   ]
  },
  {
   "cell_type": "code",
   "execution_count": null,
   "id": "c4191005-68fe-440e-9381-fcc84953d758",
   "metadata": {},
   "outputs": [],
   "source": [
    "df_particles['v2'] = df_particles['vx']*df_particles['vx']+df_particles['vy']*df_particles['vy']+df_particles['vz']*df_particles['vz']\n",
    "df_particles['v'] = np.sqrt(df_particles['v2'])"
   ]
  },
  {
   "cell_type": "code",
   "execution_count": 20,
   "id": "838a7d3c-04d0-42e1-af80-7d1cc4f832b3",
   "metadata": {},
   "outputs": [],
   "source": [
    "frames = 0.8 # taking the last 80% of the simulation\n",
    "max_frame = np.max(df_particles.index)\n",
    "df_partial = df_particles.loc[df_particles.index > frames*max_frame]"
   ]
  },
  {
   "cell_type": "code",
   "execution_count": 31,
   "id": "0363925f-836d-4975-b4a8-67a16bc2e7f7",
   "metadata": {},
   "outputs": [
    {
     "data": {
      "application/vnd.jupyter.widget-view+json": {
       "model_id": "5ff7faf7c8e04120a3234aa6fe317384",
       "version_major": 2,
       "version_minor": 0
      },
      "text/plain": [
       "Canvas(toolbar=Toolbar(toolitems=[('Home', 'Reset original view', 'home', 'home'), ('Back', 'Back to previous …"
      ]
     },
     "metadata": {},
     "output_type": "display_data"
    }
   ],
   "source": [
    "bins = 100\n",
    "\n",
    "fig, ax = plt.subplots(2,2, constrained_layout = True)\n",
    "ax[0,0].hist(df_partial['vx'], bins = bins, color = 'r')\n",
    "ax[0,1].hist(df_partial['vy'], bins = bins, color = 'g')\n",
    "ax[1,0].hist(df_partial['vz'], bins = bins, color = 'b')\n",
    "ax[1,1].hist(df_partial['v'], bins = bins, color = 'k');"
   ]
  },
  {
   "cell_type": "code",
   "execution_count": 24,
   "id": "250ce647-88ac-4244-ad16-774cac04bc48",
   "metadata": {},
   "outputs": [],
   "source": [
    "mean = df_partial.mean()"
   ]
  },
  {
   "cell_type": "code",
   "execution_count": 30,
   "id": "ce643a5d-52ae-4348-816d-a57ccb978073",
   "metadata": {},
   "outputs": [
    {
     "name": "stdout",
     "output_type": "stream",
     "text": [
      "Drift : [-0.9409625   0.0495034   1.00913292] m/s\n",
      "Local temperature : 2.986e+02 K\n",
      "Standard deviation on the gaussian : 1.379e+02 m/s\n"
     ]
    }
   ],
   "source": [
    "v = df_partial['v']\n",
    "drift = np.array([mean['vx'],mean['vy'],mean['vz']])\n",
    "drift_norm = np.linalg.norm(drift)\n",
    "kb = ld.utils.physics.BOLTZMAN_CONSTANT\n",
    "print('Drift : {} m/s'.format(drift))\n",
    "print(\"Local temperature : {:.3e} K\".format((np.mean(v*v)-drift_norm*drift_norm)*mass/(kb*3)))\n",
    "print('Standard deviation on the gaussian : {:.3e} m/s'.format(np.std(df_partial['vx'])))"
   ]
  },
  {
   "cell_type": "markdown",
   "id": "79eeba47-9342-46a3-a6a9-665aa3504f14",
   "metadata": {
    "tags": []
   },
   "source": [
    "#### Conclusion\n",
    "\n",
    "- Density : OK\n",
    "- Maxwell-Boltzmann distribution at 300 K : OK"
   ]
  },
  {
   "cell_type": "markdown",
   "id": "ea6fc183-0a11-4889-8622-39ab025456e9",
   "metadata": {},
   "source": [
    "## Case 2"
   ]
  },
  {
   "cell_type": "code",
   "execution_count": 7,
   "id": "67bb8c92-2663-498d-aa81-0053f5c23a57",
   "metadata": {},
   "outputs": [],
   "source": [
    "path_injection_2 = \"/home/calot/Documents/projets/lppydsmc/benchmarks/config_files/injection_2.ini\""
   ]
  },
  {
   "cell_type": "code",
   "execution_count": 8,
   "id": "6d53e818-5b01-41c1-8c4f-d49df4052ae2",
   "metadata": {},
   "outputs": [
    {
     "name": "stdout",
     "output_type": "stream",
     "text": [
      "Diffusive is not implemented yet\n",
      "|    it    |   INIT   |  INJECT  |   DEL    | C. WALLS | C. PARTS |  REACT   | EXEC TIME (s) |\n",
      "----------------------------------------------------------------------------------------------\n",
      "|    0     |    0     |    0     |    0     |    0     |    0     |    NA    |       0       |\n",
      "|   100    |   4804   |    55    |    12    |    88    |   105    |    NA    |   1.534e-02   |\n",
      "|   200    |   7612   |    55    |    41    |   132    |   203    |    NA    |   2.736e-02   |\n",
      "|   300    |   8956   |    56    |    43    |   147    |   239    |    NA    |   4.633e-02   |\n",
      "|   400    |   9489   |    55    |    55    |   153    |   244    |    NA    |   4.721e-02   |\n",
      "|   500    |   9712   |    55    |    48    |   168    |   221    |    NA    |   5.108e-02   |\n",
      "|   600    |   9835   |    55    |    46    |   175    |   260    |    NA    |   8.208e-02   |\n",
      "|   700    |   9995   |    55    |    64    |   188    |   239    |    NA    |   4.326e-02   |\n",
      "|   800    |  10024   |    56    |    55    |   180    |   247    |    NA    |   7.883e-02   |\n",
      "|   900    |   9802   |    55    |    59    |   154    |   265    |    NA    |   6.841e-02   |\n",
      "|   1000   |   9894   |    55    |    43    |   145    |   238    |    NA    |   6.666e-02   |\n",
      "|   1100   |   9943   |    55    |    44    |   190    |   239    |    NA    |   7.538e-02   |\n",
      "|   1200   |  10093   |    55    |    52    |   172    |   256    |    NA    |   5.812e-02   |\n",
      "|   1300   |  10094   |    56    |    48    |   160    |   250    |    NA    |   6.677e-02   |\n",
      "|   1400   |   9992   |    55    |    62    |   154    |   256    |    NA    |   8.172e-02   |\n",
      "|   1500   |  10028   |    55    |    58    |   160    |   258    |    NA    |   7.143e-02   |\n",
      "|   1600   |  10049   |    56    |    54    |   174    |   233    |    NA    |   7.045e-02   |\n",
      "|   1700   |  10088   |    55    |    47    |   158    |   253    |    NA    |   8.017e-02   |\n",
      "|   1800   |  10101   |    55    |    72    |   163    |   267    |    NA    |   7.185e-02   |\n",
      "|   1900   |  10118   |    55    |    47    |   153    |   242    |    NA    |   7.220e-02   |\n",
      "|   2000   |  10064   |    55    |    51    |   165    |   245    |    NA    |   4.690e-02   |\n",
      "|   2100   |  10077   |    56    |    52    |   132    |   243    |    NA    |   8.060e-02   |\n",
      "|   2200   |  10046   |    55    |    40    |   171    |   265    |    NA    |   8.099e-02   |\n",
      "|   2300   |  10060   |    55    |    42    |   173    |   256    |    NA    |   7.151e-02   |\n",
      "|   2400   |   9936   |    55    |    53    |   152    |   254    |    NA    |   8.128e-02   |\n",
      "|   2500   |   9930   |    55    |    54    |   169    |   252    |    NA    |   4.481e-02   |\n",
      "|   2600   |   9922   |    56    |    66    |   149    |   254    |    NA    |   7.304e-02   |\n",
      "|   2700   |   9980   |    55    |    55    |   158    |   251    |    NA    |   7.374e-02   |\n",
      "|   2800   |  10002   |    55    |    51    |   153    |   268    |    NA    |   7.385e-02   |\n",
      "|   2900   |  10023   |    56    |    52    |   171    |   242    |    NA    |   5.702e-02   |\n",
      "|   3000   |  10126   |    55    |    58    |   176    |   257    |    NA    |   5.621e-02   |\n",
      "|   3100   |  10087   |    55    |    48    |   192    |   259    |    NA    |   5.885e-02   |\n",
      "|   3200   |  10050   |    55    |    58    |   163    |   261    |    NA    |   6.056e-02   |\n",
      "|   3300   |  10065   |    55    |    61    |   159    |   242    |    NA    |   6.529e-02   |\n",
      "|   3400   |  10053   |    56    |    64    |   164    |   247    |    NA    |   6.508e-02   |\n",
      "|   3500   |  10006   |    55    |    55    |   160    |   263    |    NA    |   8.237e-02   |\n",
      "|   3600   |  10090   |    55    |    55    |   159    |   247    |    NA    |   6.735e-02   |\n",
      "|   3700   |  10067   |    55    |    57    |   183    |   248    |    NA    |   6.251e-02   |\n",
      "|   3800   |  10038   |    55    |    60    |   162    |   238    |    NA    |   5.158e-02   |\n",
      "|   3900   |   9985   |    56    |    63    |   158    |   268    |    NA    |   5.236e-02   |\n",
      "|   4000   |   9956   |    55    |    65    |   164    |   246    |    NA    |   6.768e-02   |\n",
      "|   4100   |  10056   |    55    |    54    |   152    |   250    |    NA    |   6.197e-02   |\n",
      "|   4200   |   9933   |    56    |    62    |   154    |   247    |    NA    |   6.072e-02   |\n",
      "|   4300   |   9934   |    55    |    60    |   191    |   245    |    NA    |   6.749e-02   |\n",
      "|   4400   |  10004   |    55    |    45    |   164    |   249    |    NA    |   4.942e-02   |\n",
      "|   4500   |  10010   |    55    |    43    |   166    |   247    |    NA    |   5.978e-02   |\n",
      "|   4600   |  10075   |    55    |    48    |   179    |   253    |    NA    |   6.570e-02   |\n",
      "|   4700   |  10037   |    56    |    60    |   134    |   256    |    NA    |   8.891e-02   |\n",
      "|   4800   |  10072   |    55    |    54    |   178    |   244    |    NA    |   8.302e-02   |\n",
      "|   4900   |   9976   |    55    |    37    |   154    |   241    |    NA    |   8.221e-02   |\n",
      "|   5000   |  10032   |    55    |    54    |   173    |   239    |    NA    |   4.551e-02   |\n",
      "|   5100   |  10023   |    55    |    48    |   165    |   236    |    NA    |   8.497e-02   |\n",
      "|   5200   |   9987   |    56    |    52    |   189    |   234    |    NA    |   6.605e-02   |\n",
      "|   5300   |  10085   |    55    |    54    |   158    |   244    |    NA    |   7.487e-02   |\n",
      "|   5400   |  10077   |    55    |    58    |   188    |   250    |    NA    |   8.222e-02   |\n",
      "|   5500   |  10029   |    55    |    47    |   185    |   250    |    NA    |   9.377e-02   |\n",
      "|   5600   |   9916   |    55    |    66    |   165    |   230    |    NA    |   6.752e-02   |\n",
      "|   5700   |   9929   |    56    |    56    |   177    |   256    |    NA    |   7.567e-02   |\n",
      "|   5800   |   9894   |    55    |    46    |   160    |   246    |    NA    |   6.446e-02   |\n",
      "|   5900   |  10037   |    55    |    45    |   152    |   244    |    NA    |   5.278e-02   |\n",
      "|   6000   |  10024   |    56    |    60    |   200    |   251    |    NA    |   6.929e-02   |\n",
      "|   6100   |  10158   |    55    |    47    |   176    |   256    |    NA    |   7.639e-02   |\n",
      "|   6200   |  10000   |    55    |    47    |   166    |   228    |    NA    |   4.779e-02   |\n",
      "|   6300   |   9883   |    55    |    57    |   147    |   251    |    NA    |   6.970e-02   |\n",
      "|   6400   |   9982   |    55    |    54    |   196    |   246    |    NA    |   7.650e-02   |\n",
      "|   6500   |  10047   |    56    |    66    |   166    |   239    |    NA    |   8.530e-02   |\n",
      "|   6600   |   9983   |    55    |    55    |   170    |   263    |    NA    |   7.052e-02   |\n",
      "|   6700   |  10090   |    55    |    54    |   177    |   251    |    NA    |   7.357e-02   |\n",
      "|   6800   |  10070   |    55    |    62    |   166    |   257    |    NA    |   6.931e-02   |\n",
      "|   6900   |  10045   |    55    |    66    |   166    |   223    |    NA    |   6.461e-02   |\n",
      "|   7000   |   9944   |    56    |    61    |   156    |   245    |    NA    |   5.477e-02   |\n",
      "|   7100   |   9917   |    55    |    51    |   172    |   237    |    NA    |   7.633e-02   |\n",
      "|   7200   |  10017   |    55    |    51    |   151    |   253    |    NA    |   7.707e-02   |\n",
      "|   7300   |  10028   |    56    |    52    |   148    |   255    |    NA    |   6.308e-02   |\n",
      "|   7400   |  10024   |    55    |    51    |   158    |   251    |    NA    |   4.683e-02   |\n",
      "|   7500   |   9955   |    55    |    50    |   165    |   244    |    NA    |   7.694e-02   |\n",
      "|   7600   |   9974   |    55    |    58    |   156    |   252    |    NA    |   7.835e-02   |\n",
      "|   7700   |   9975   |    55    |    45    |   170    |   235    |    NA    |   7.219e-02   |\n",
      "|   7800   |   9998   |    56    |    52    |   164    |   236    |    NA    |   5.812e-02   |\n",
      "|   7900   |   9927   |    55    |    51    |   175    |   234    |    NA    |   4.619e-02   |\n",
      "|   8000   |  10026   |    55    |    53    |   162    |   255    |    NA    |   6.386e-02   |\n",
      "|   8100   |  10022   |    55    |    55    |   173    |   230    |    NA    |   7.026e-02   |\n",
      "|   8200   |  10109   |    55    |    59    |   163    |   245    |    NA    |   8.242e-02   |\n",
      "|   8300   |  10030   |    56    |    54    |   156    |   267    |    NA    |   7.334e-02   |\n",
      "|   8400   |  10024   |    55    |    47    |   146    |   242    |    NA    |   7.242e-02   |\n",
      "|   8500   |   9991   |    55    |    60    |   130    |   269    |    NA    |   5.139e-02   |\n",
      "|   8600   |   9943   |    56    |    54    |   153    |   249    |    NA    |   6.947e-02   |\n",
      "|   8700   |   9903   |    55    |    61    |   174    |   271    |    NA    |   8.234e-02   |\n",
      "|   8800   |  10047   |    55    |    48    |   170    |   248    |    NA    |   7.888e-02   |\n",
      "|   8900   |  10108   |    55    |    47    |   179    |   240    |    NA    |   7.484e-02   |\n",
      "|   9000   |   9981   |    55    |    51    |   157    |   247    |    NA    |   7.441e-02   |\n",
      "|   9100   |  10071   |    56    |    47    |   167    |   242    |    NA    |   6.532e-02   |\n",
      "|   9200   |  10067   |    55    |    69    |   151    |   254    |    NA    |   4.450e-02   |\n",
      "|   9300   |  10046   |    55    |    57    |   157    |   222    |    NA    |   6.669e-02   |\n",
      "|   9400   |   9899   |    55    |    58    |   172    |   227    |    NA    |   6.625e-02   |\n",
      "|   9500   |   9946   |    55    |    52    |   160    |   227    |    NA    |   6.830e-02   |\n",
      "|   9600   |   9971   |    56    |    59    |   188    |   236    |    NA    |   7.568e-02   |\n",
      "|   9700   |   9935   |    55    |    75    |   170    |   258    |    NA    |   7.771e-02   |\n",
      "|   9800   |   9932   |    55    |    54    |   139    |   254    |    NA    |   4.478e-02   |\n",
      "|   9900   |  10016   |    55    |    51    |   161    |   234    |    NA    |   6.235e-02   |\n",
      "SIMULATION FINISHED\n",
      "Path to results : /home/calot/Documents/projets/lppydsmc/benchmarks/results/injection_2_1\n"
     ]
    }
   ],
   "source": [
    "# launching simulations\n",
    "if(simulation):\n",
    "    ld.main(path_injection_2, save = True);"
   ]
  },
  {
   "cell_type": "markdown",
   "id": "7e202ba7-1eb9-408a-bcff-bdd1e065d1c0",
   "metadata": {},
   "source": [
    "### Analyzing results"
   ]
  },
  {
   "cell_type": "code",
   "execution_count": 9,
   "id": "7ed68535-d73b-4fc9-97cd-e93f03901908",
   "metadata": {},
   "outputs": [
    {
     "name": "stdout",
     "output_type": "stream",
     "text": [
      "['/dsmc_collisions', '/dsmc_tracking', '/fluxes', '/out_particles', '/particles', '/wall_collisions']\n"
     ]
    }
   ],
   "source": [
    "results_path = \"/home/calot/Documents/projets/lppydsmc/benchmarks/results/injection_2_1/monitoring.h5\" # seems ok ...\n",
    "store = pd.HDFStore(results_path)\n",
    "print(store.keys())"
   ]
  },
  {
   "cell_type": "code",
   "execution_count": 10,
   "id": "5d82e573-9d4d-4965-af0e-780c0743e2c9",
   "metadata": {},
   "outputs": [],
   "source": [
    "dt = 1e-5 \n",
    "dx, dy, dz = 1e-2, 1e-2, 1e-2\n",
    "nb_cells = 10*10\n",
    "particles_weight = 320000000000\n",
    "target_density = 3.2e19"
   ]
  },
  {
   "cell_type": "code",
   "execution_count": 11,
   "id": "c7810f4c-2bd5-4460-8026-7a889ab3e4c0",
   "metadata": {
    "jupyter": {
     "source_hidden": true
    },
    "tags": []
   },
   "outputs": [],
   "source": [
    "df_particles = store['particles']"
   ]
  },
  {
   "cell_type": "markdown",
   "id": "4f0c1598-289d-4bfe-bdac-1eaec89e9b47",
   "metadata": {},
   "source": [
    "#### Density"
   ]
  },
  {
   "cell_type": "code",
   "execution_count": 12,
   "id": "3d142aeb-b3cd-413f-a0b2-b31a2b27388c",
   "metadata": {},
   "outputs": [],
   "source": [
    "steady = 8000\n",
    "evo_nb_particles = df_particles['x'].groupby(df_particles.index).count()\n",
    "evo_nb_particles = evo_nb_particles/(dx*dy*dz*nb_cells)*particles_weight\n",
    "mean_density_steady_flow = np.mean(evo_nb_particles.values[steady:])"
   ]
  },
  {
   "cell_type": "code",
   "execution_count": 24,
   "id": "23bcf725-bbfa-4d44-a163-22422772d1f2",
   "metadata": {},
   "outputs": [
    {
     "data": {
      "application/vnd.jupyter.widget-view+json": {
       "model_id": "7180e7d8e36c4cdcaf7e140087f143b6",
       "version_major": 2,
       "version_minor": 0
      },
      "text/plain": [
       "Canvas(toolbar=Toolbar(toolitems=[('Home', 'Reset original view', 'home', 'home'), ('Back', 'Back to previous …"
      ]
     },
     "metadata": {},
     "output_type": "display_data"
    },
    {
     "name": "stdout",
     "output_type": "stream",
     "text": [
      "Mean value of last 300 iterations : 3.203e+19 m^-3\n",
      "Relative difference to target : 0.0877 %\n",
      "Min / max value : 1.760e+17 / 3.254e+19 m^-3\n"
     ]
    }
   ],
   "source": [
    "fig, ax = plt.subplots()\n",
    "print('Mean value of last 300 iterations : {:.3e} m^-3'.format(mean_density_steady_flow))\n",
    "print('Relative difference to target : {:.3} %'.format(100*abs(target_density-mean_density_steady_flow)/target_density))\n",
    "print('Min / max value : {:.3e} / {:.3e} m^-3'.format(np.min(evo_nb_particles), np.max(evo_nb_particles)))\n",
    "ax.plot(evo_nb_particles.index*dt, (target_density-evo_nb_particles.values)/target_density);"
   ]
  },
  {
   "cell_type": "markdown",
   "id": "c9583098-75a4-4c20-8f02-f1c771f7009f",
   "metadata": {},
   "source": [
    "#### Thermal equilibrium"
   ]
  },
  {
   "cell_type": "code",
   "execution_count": 14,
   "id": "58f1c7e8-7d23-4eda-9b5b-3e96f6a9a292",
   "metadata": {},
   "outputs": [],
   "source": [
    "mass = 2.16e-25"
   ]
  },
  {
   "cell_type": "code",
   "execution_count": 15,
   "id": "f1da861d-10e2-48e4-831e-9d7cbfb8bdb1",
   "metadata": {},
   "outputs": [],
   "source": [
    "df_particles['v2'] = df_particles['vx']*df_particles['vx']+df_particles['vy']*df_particles['vy']+df_particles['vz']*df_particles['vz']\n",
    "df_particles['v'] = np.sqrt(df_particles['v2'])"
   ]
  },
  {
   "cell_type": "code",
   "execution_count": 16,
   "id": "5f8cc935-2735-4d3e-87da-bf667c667627",
   "metadata": {},
   "outputs": [],
   "source": [
    "frames = 0.8 # taking the last 80% of the simulation\n",
    "max_frame = np.max(df_particles.index)\n",
    "df_partial = df_particles.loc[df_particles.index > frames*max_frame]"
   ]
  },
  {
   "cell_type": "code",
   "execution_count": 17,
   "id": "2beeade3-6fac-49ea-9aa6-46a2b36cda5f",
   "metadata": {},
   "outputs": [
    {
     "data": {
      "application/vnd.jupyter.widget-view+json": {
       "model_id": "57a2d55bd1c74766a933557f73af4688",
       "version_major": 2,
       "version_minor": 0
      },
      "text/plain": [
       "Canvas(toolbar=Toolbar(toolitems=[('Home', 'Reset original view', 'home', 'home'), ('Back', 'Back to previous …"
      ]
     },
     "metadata": {},
     "output_type": "display_data"
    }
   ],
   "source": [
    "bins = 100\n",
    "\n",
    "fig, ax = plt.subplots(2,2, constrained_layout = True)\n",
    "ax[0,0].hist(df_partial['vx'], bins = bins, color = 'r')\n",
    "ax[0,1].hist(df_partial['vy'], bins = bins, color = 'g')\n",
    "ax[1,0].hist(df_partial['vz'], bins = bins, color = 'b')\n",
    "ax[1,1].hist(df_partial['v'], bins = bins, color = 'k');"
   ]
  },
  {
   "cell_type": "code",
   "execution_count": 18,
   "id": "24e536da-cf97-4c0a-a43b-760517cf799a",
   "metadata": {},
   "outputs": [],
   "source": [
    "mean = df_partial.mean()"
   ]
  },
  {
   "cell_type": "code",
   "execution_count": 19,
   "id": "5c4cb1e4-c130-4bf7-a892-26019e3772eb",
   "metadata": {},
   "outputs": [
    {
     "name": "stdout",
     "output_type": "stream",
     "text": [
      "Drift : [-0.96012228  0.01107804  0.25788661] m/s\n",
      "Local temperature : 2.998e+02 K\n",
      "Standard deviation on the gaussian : 1.383e+02 m/s\n"
     ]
    }
   ],
   "source": [
    "v = df_partial['v']\n",
    "drift = np.array([mean['vx'],mean['vy'],mean['vz']])\n",
    "drift_norm = np.linalg.norm(drift)\n",
    "kb = ld.utils.physics.BOLTZMAN_CONSTANT\n",
    "print('Drift : {} m/s'.format(drift))\n",
    "print(\"Local temperature : {:.3e} K\".format((np.mean(v*v)-drift_norm*drift_norm)*mass/(kb*3)))\n",
    "print('Standard deviation on the gaussian : {:.3e} m/s'.format(np.std(df_partial['vx'])))"
   ]
  },
  {
   "cell_type": "markdown",
   "id": "757548e9-de23-4c3e-81df-f1963a4a842d",
   "metadata": {},
   "source": [
    "#### Conclusion\n",
    "\n",
    "- Density : OK\n",
    "- Maxwell-Boltzmann distribution at 300 K : OK"
   ]
  },
  {
   "cell_type": "markdown",
   "id": "1fdc4454-4bac-4388-8125-d31fb81c1fb8",
   "metadata": {},
   "source": [
    "## Case 3 : Couette but with injection\n",
    "\n",
    "The objective is to make a comparison with the previous tests in order to prepare for the bigger tests with much more cells and no injection (initialization instead). \n",
    "It is interesting to see what happens when you simply change two conditions :\n",
    "- drift for the top wall\n",
    "- specular reflection for the top wall\n",
    "\n",
    "Of course, it is a very useless simulation for benchmarking but may be it can help understanding what happens next.\n",
    "\n",
    "------\n",
    "\n",
    "What we see immediately is that the density in the system increases compared to the previous simulation : indeed this is because the top wall is biased, it tends to make particles go to the right whereas the left wall is the \"out-wall\". Here it is roughly a 8 to 10% increase.\n",
    "\n",
    "This is the same phenomena than between the first case and second one: adding diffusivity randomize the velocities whereas when we inject with only specular reflections, the particles going straight (vx >> vy) tend to leave the system immediately after the first reflection."
   ]
  },
  {
   "cell_type": "code",
   "execution_count": 26,
   "id": "3f92915b-2956-4c40-b6ba-29f98bd3ce36",
   "metadata": {},
   "outputs": [],
   "source": [
    "path_injection_3 = \"/home/calot/Documents/projets/lppydsmc/benchmarks/config_files/injection_3.ini\""
   ]
  },
  {
   "cell_type": "code",
   "execution_count": 28,
   "id": "2d8ce4e3-993f-4992-99dd-0bb022774bb2",
   "metadata": {},
   "outputs": [
    {
     "name": "stdout",
     "output_type": "stream",
     "text": [
      "|    it    |   INIT   |  INJECT  |   DEL    | C. WALLS | C. PARTS |  REACT   | EXEC TIME (s) |\n",
      "----------------------------------------------------------------------------------------------\n",
      "|    0     |    0     |    0     |    0     |    0     |    0     |    NA    |       0       |\n",
      "|   100    |   4838   |    55    |    22    |   100    |   123    |    NA    |   1.418e-02   |\n",
      "|   200    |   7770   |    55    |    36    |   158    |   207    |    NA    |   2.475e-02   |\n",
      "|   300    |   9240   |    56    |    42    |   168    |   245    |    NA    |   3.307e-02   |\n",
      "|   400    |  10009   |    55    |    60    |   194    |   243    |    NA    |   4.381e-02   |\n",
      "|   500    |  10451   |    55    |    48    |   171    |   265    |    NA    |   5.071e-02   |\n",
      "|   600    |  10632   |    55    |    43    |   173    |   280    |    NA    |   4.851e-02   |\n",
      "|   700    |  10788   |    55    |    56    |   171    |   263    |    NA    |   4.719e-02   |\n",
      "|   800    |  10785   |    56    |    61    |   193    |   276    |    NA    |   8.895e-02   |\n",
      "|   900    |  10759   |    55    |    61    |   210    |   272    |    NA    |   6.937e-02   |\n",
      "|   1000   |  10688   |    55    |    64    |   197    |   291    |    NA    |   5.497e-02   |\n",
      "|   1100   |  10863   |    55    |    60    |   191    |   270    |    NA    |   5.863e-02   |\n",
      "|   1200   |  10979   |    55    |    61    |   176    |   292    |    NA    |   8.419e-02   |\n",
      "|   1300   |  10876   |    56    |    74    |   207    |   296    |    NA    |   8.962e-02   |\n",
      "|   1400   |  10895   |    55    |    58    |   217    |   285    |    NA    |   9.134e-02   |\n",
      "|   1500   |  10854   |    55    |    55    |   193    |   283    |    NA    |   7.221e-02   |\n",
      "|   1600   |  10854   |    56    |    53    |   181    |   298    |    NA    |   7.025e-02   |\n",
      "|   1700   |  10756   |    55    |    45    |   172    |   299    |    NA    |   6.825e-02   |\n",
      "|   1800   |  10765   |    55    |    59    |   155    |   247    |    NA    |   6.843e-02   |\n",
      "|   1900   |  10915   |    55    |    52    |   199    |   261    |    NA    |   4.828e-02   |\n",
      "|   2000   |  10822   |    55    |    56    |   195    |   268    |    NA    |   6.420e-02   |\n",
      "|   2100   |  10966   |    56    |    44    |   192    |   284    |    NA    |   6.911e-02   |\n",
      "|   2200   |  10857   |    55    |    60    |   174    |   268    |    NA    |   7.056e-02   |\n",
      "|   2300   |  10824   |    55    |    58    |   190    |   268    |    NA    |   7.183e-02   |\n",
      "|   2400   |  10795   |    55    |    52    |   203    |   274    |    NA    |   6.992e-02   |\n",
      "|   2500   |  10864   |    55    |    62    |   188    |   292    |    NA    |   5.067e-02   |\n",
      "|   2600   |  10812   |    56    |    56    |   172    |   267    |    NA    |   6.054e-02   |\n",
      "|   2700   |  10857   |    55    |    48    |   186    |   280    |    NA    |   7.821e-02   |\n",
      "|   2800   |  10891   |    55    |    53    |   198    |   300    |    NA    |   8.389e-02   |\n",
      "|   2900   |  10888   |    56    |    47    |   181    |   267    |    NA    |   7.146e-02   |\n",
      "|   3000   |  10845   |    55    |    48    |   174    |   300    |    NA    |   6.870e-02   |\n",
      "|   3100   |  10810   |    55    |    53    |   192    |   246    |    NA    |   5.570e-02   |\n",
      "|   3200   |  10911   |    55    |    48    |   207    |   273    |    NA    |   5.461e-02   |\n",
      "|   3300   |  10950   |    55    |    54    |   206    |   288    |    NA    |   7.067e-02   |\n",
      "|   3400   |  10890   |    56    |    65    |   227    |   295    |    NA    |   7.028e-02   |\n",
      "|   3500   |  10908   |    55    |    62    |   184    |   308    |    NA    |   7.485e-02   |\n",
      "|   3600   |  10826   |    55    |    47    |   176    |   289    |    NA    |   7.444e-02   |\n",
      "|   3700   |  10850   |    55    |    56    |   176    |   289    |    NA    |   7.412e-02   |\n",
      "|   3800   |  10970   |    55    |    51    |   202    |   265    |    NA    |   8.297e-02   |\n",
      "|   3900   |  10982   |    56    |    52    |   205    |   274    |    NA    |   4.618e-02   |\n",
      "|   4000   |  10883   |    55    |    61    |   202    |   273    |    NA    |   7.193e-02   |\n",
      "|   4100   |  10807   |    55    |    60    |   177    |   283    |    NA    |   7.393e-02   |\n",
      "|   4200   |  10903   |    56    |    49    |   186    |   283    |    NA    |   7.321e-02   |\n",
      "|   4300   |  10894   |    55    |    55    |   163    |   262    |    NA    |   7.631e-02   |\n",
      "|   4400   |  10937   |    55    |    65    |   185    |   246    |    NA    |   7.356e-02   |\n",
      "|   4500   |  10884   |    55    |    57    |   185    |   294    |    NA    |   6.636e-02   |\n",
      "|   4600   |  10880   |    55    |    53    |   200    |   261    |    NA    |   6.067e-02   |\n",
      "|   4700   |  10853   |    56    |    51    |   183    |   301    |    NA    |   6.355e-02   |\n",
      "|   4800   |  10756   |    55    |    62    |   202    |   280    |    NA    |   6.090e-02   |\n",
      "|   4900   |  10707   |    55    |    54    |   208    |   303    |    NA    |   7.206e-02   |\n",
      "|   5000   |  10762   |    55    |    52    |   202    |   267    |    NA    |   7.313e-02   |\n",
      "|   5100   |  10886   |    55    |    40    |   193    |   278    |    NA    |   7.860e-02   |\n",
      "|   5200   |  10927   |    56    |    43    |   215    |   255    |    NA    |   7.212e-02   |\n",
      "|   5300   |  10897   |    55    |    53    |   195    |   298    |    NA    |   7.387e-02   |\n",
      "|   5400   |  10861   |    55    |    50    |   214    |   275    |    NA    |   5.336e-02   |\n",
      "|   5500   |  10895   |    55    |    59    |   199    |   253    |    NA    |   6.239e-02   |\n",
      "|   5600   |  10939   |    55    |    50    |   193    |   303    |    NA    |   6.806e-02   |\n",
      "|   5700   |  10827   |    56    |    51    |   193    |   279    |    NA    |   7.274e-02   |\n",
      "|   5800   |  10847   |    55    |    52    |   202    |   254    |    NA    |   6.664e-02   |\n",
      "|   5900   |  10906   |    55    |    53    |   215    |   272    |    NA    |   7.496e-02   |\n",
      "|   6000   |  10852   |    56    |    60    |   201    |   277    |    NA    |   7.951e-02   |\n",
      "|   6100   |  10925   |    55    |    48    |   214    |   290    |    NA    |   5.214e-02   |\n",
      "|   6200   |  10956   |    55    |    54    |   205    |   263    |    NA    |   6.424e-02   |\n",
      "|   6300   |  10891   |    55    |    61    |   202    |   290    |    NA    |   6.957e-02   |\n",
      "|   6400   |  10824   |    55    |    57    |   177    |   264    |    NA    |   6.472e-02   |\n",
      "|   6500   |  10812   |    56    |    53    |   167    |   288    |    NA    |   7.122e-02   |\n",
      "|   6600   |  10937   |    55    |    57    |   168    |   280    |    NA    |   6.711e-02   |\n",
      "|   6700   |  10908   |    55    |    49    |   193    |   253    |    NA    |   7.381e-02   |\n",
      "|   6800   |  10834   |    55    |    49    |   163    |   290    |    NA    |   7.301e-02   |\n",
      "|   6900   |  10811   |    55    |    54    |   202    |   253    |    NA    |   6.681e-02   |\n",
      "|   7000   |  10801   |    56    |    53    |   177    |   274    |    NA    |   5.885e-02   |\n",
      "|   7100   |  10759   |    55    |    49    |   192    |   271    |    NA    |   5.513e-02   |\n",
      "|   7200   |  10899   |    55    |    55    |   192    |   275    |    NA    |   6.846e-02   |\n",
      "|   7300   |  10834   |    56    |    70    |   197    |   294    |    NA    |   7.188e-02   |\n",
      "|   7400   |  10862   |    55    |    50    |   225    |   267    |    NA    |   7.183e-02   |\n",
      "|   7500   |  10886   |    55    |    53    |   201    |   296    |    NA    |   7.532e-02   |\n",
      "|   7600   |  10853   |    55    |    47    |   206    |   244    |    NA    |   4.523e-02   |\n",
      "|   7700   |  10860   |    55    |    66    |   213    |   291    |    NA    |   7.283e-02   |\n",
      "|   7800   |  10884   |    56    |    56    |   202    |   286    |    NA    |   7.298e-02   |\n",
      "|   7900   |  10856   |    55    |    50    |   214    |   270    |    NA    |   6.744e-02   |\n",
      "|   8000   |  10817   |    55    |    55    |   202    |   267    |    NA    |   7.648e-02   |\n",
      "|   8100   |  10890   |    55    |    59    |   186    |   290    |    NA    |   7.444e-02   |\n",
      "|   8200   |  10884   |    55    |    56    |   201    |   270    |    NA    |   7.214e-02   |\n",
      "|   8300   |  10915   |    56    |    60    |   183    |   287    |    NA    |   6.084e-02   |\n",
      "|   8400   |  10982   |    55    |    64    |   202    |   271    |    NA    |   6.279e-02   |\n",
      "|   8500   |  10849   |    55    |    62    |   186    |   254    |    NA    |   6.715e-02   |\n",
      "|   8600   |  10792   |    56    |    48    |   174    |   308    |    NA    |   6.405e-02   |\n",
      "|   8700   |  10680   |    55    |    53    |   182    |   282    |    NA    |   6.814e-02   |\n",
      "|   8800   |  10719   |    55    |    65    |   174    |   272    |    NA    |   6.715e-02   |\n",
      "|   8900   |  10758   |    55    |    63    |   189    |   284    |    NA    |   6.043e-02   |\n",
      "|   9000   |  10805   |    55    |    65    |   209    |   247    |    NA    |   5.198e-02   |\n",
      "|   9100   |  10818   |    56    |    60    |   188    |   243    |    NA    |   6.465e-02   |\n",
      "|   9200   |  10823   |    55    |    51    |   171    |   281    |    NA    |   6.813e-02   |\n",
      "|   9300   |  10924   |    55    |    56    |   200    |   270    |    NA    |   6.875e-02   |\n",
      "|   9400   |  10886   |    55    |    42    |   170    |   258    |    NA    |   6.986e-02   |\n",
      "|   9500   |  10868   |    55    |    65    |   196    |   265    |    NA    |   4.979e-02   |\n",
      "|   9600   |  10833   |    56    |    33    |   203    |   270    |    NA    |   6.795e-02   |\n",
      "|   9700   |  10841   |    55    |    51    |   200    |   277    |    NA    |   7.572e-02   |\n",
      "|   9800   |  10863   |    55    |    52    |   201    |   267    |    NA    |   7.232e-02   |\n",
      "|   9900   |  10985   |    55    |    51    |   183    |   278    |    NA    |   7.261e-02   |\n",
      "SIMULATION FINISHED\n",
      "Path to results : /home/calot/Documents/projets/lppydsmc/benchmarks/results/injection_3_1\n"
     ]
    }
   ],
   "source": [
    "# launching simulations\n",
    "ld.main(path_injection_3, save = True);"
   ]
  },
  {
   "cell_type": "markdown",
   "id": "a90a244e-2ed5-46ad-b5f5-326b3ca36f98",
   "metadata": {},
   "source": [
    "### Analyzing results"
   ]
  },
  {
   "cell_type": "code",
   "execution_count": 29,
   "id": "17cffd7b-2c51-4550-b382-37245974c483",
   "metadata": {},
   "outputs": [
    {
     "name": "stdout",
     "output_type": "stream",
     "text": [
      "['/dsmc_collisions', '/dsmc_tracking', '/fluxes', '/out_particles', '/particles', '/wall_collisions']\n"
     ]
    }
   ],
   "source": [
    "results_path = \"/home/calot/Documents/projets/lppydsmc/benchmarks/results/injection_3_1/monitoring.h5\" # seems ok ...\n",
    "store = pd.HDFStore(results_path)\n",
    "print(store.keys())"
   ]
  },
  {
   "cell_type": "code",
   "execution_count": 30,
   "id": "cc0addf2-bc20-4fa2-94f1-a6e171695ce5",
   "metadata": {},
   "outputs": [],
   "source": [
    "dt = 1e-5 \n",
    "dx, dy, dz = 1e-2, 1e-2, 1e-2\n",
    "nb_cells = 10*10\n",
    "particles_weight = 320000000000\n",
    "target_density = 3.2e19"
   ]
  },
  {
   "cell_type": "code",
   "execution_count": 31,
   "id": "a51217fe-68bb-460d-8f5d-84aec39ab1be",
   "metadata": {
    "tags": []
   },
   "outputs": [],
   "source": [
    "df_particles = store['particles']"
   ]
  },
  {
   "cell_type": "markdown",
   "id": "c778d730-3ae9-4d0e-8658-6037446fc059",
   "metadata": {},
   "source": [
    "#### Density"
   ]
  },
  {
   "cell_type": "code",
   "execution_count": 32,
   "id": "18d6e97a-28c2-4e03-bfd9-253028b5be55",
   "metadata": {},
   "outputs": [],
   "source": [
    "evo_nb_particles = df_particles['x'].groupby(df_particles.index).count()\n",
    "evo_nb_particles = evo_nb_particles/(dx*dy*dz*nb_cells)*particles_weight\n",
    "mean_density_steady_flow = np.mean(evo_nb_particles.values[8000:])"
   ]
  },
  {
   "cell_type": "code",
   "execution_count": 33,
   "id": "22052802-43f5-4236-a1dd-6a1adec14efb",
   "metadata": {},
   "outputs": [
    {
     "data": {
      "application/vnd.jupyter.widget-view+json": {
       "model_id": "80b082e5f0dc4ed5b6bafbc1dfa7c982",
       "version_major": 2,
       "version_minor": 0
      },
      "text/plain": [
       "Canvas(toolbar=Toolbar(toolitems=[('Home', 'Reset original view', 'home', 'home'), ('Back', 'Back to previous …"
      ]
     },
     "metadata": {},
     "output_type": "display_data"
    },
    {
     "name": "stdout",
     "output_type": "stream",
     "text": [
      "Mean value of last 300 iterations : 3.473e+19 m^-3\n",
      "Relative difference to target : 8.54 %\n",
      "Min / max value : 1.760e+17 / 3.529e+19 m^-3\n"
     ]
    }
   ],
   "source": [
    "fig, ax = plt.subplots()\n",
    "print('Mean value of last 300 iterations : {:.3e} m^-3'.format(mean_density_steady_flow))\n",
    "print('Relative difference to target : {:.3} %'.format(100*abs(target_density-mean_density_steady_flow)/target_density))\n",
    "print('Min / max value : {:.3e} / {:.3e} m^-3'.format(np.min(evo_nb_particles), np.max(evo_nb_particles)))\n",
    "ax.plot(evo_nb_particles.index*dt, evo_nb_particles.values);"
   ]
  },
  {
   "cell_type": "markdown",
   "id": "e17174f1-ad36-4cbb-90d3-5785d61f6cb0",
   "metadata": {},
   "source": [
    "#### Thermal equilibrium"
   ]
  },
  {
   "cell_type": "code",
   "execution_count": 34,
   "id": "654b7159-0098-4ea5-9e75-c6587edda70f",
   "metadata": {},
   "outputs": [],
   "source": [
    "mass = 2.16e-25"
   ]
  },
  {
   "cell_type": "code",
   "execution_count": 35,
   "id": "29e02030-9d6b-4608-9237-1385b386ce7d",
   "metadata": {},
   "outputs": [],
   "source": [
    "df_particles['v2'] = df_particles['vx']*df_particles['vx']+df_particles['vy']*df_particles['vy']+df_particles['vz']*df_particles['vz']\n",
    "df_particles['v'] = np.sqrt(df_particles['v2'])"
   ]
  },
  {
   "cell_type": "code",
   "execution_count": 36,
   "id": "81eac6f0-21aa-4665-8061-cd3d2a03c507",
   "metadata": {},
   "outputs": [],
   "source": [
    "frames = 0.8 # taking the last 80% of the simulation\n",
    "max_frame = np.max(df_particles.index)\n",
    "df_partial = df_particles.loc[df_particles.index > frames*max_frame]"
   ]
  },
  {
   "cell_type": "code",
   "execution_count": 69,
   "id": "fb494cc1-719a-4a83-86b4-804209de531d",
   "metadata": {},
   "outputs": [
    {
     "data": {
      "application/vnd.jupyter.widget-view+json": {
       "model_id": "46ab6888b57b417188c9b04e46d0e825",
       "version_major": 2,
       "version_minor": 0
      },
      "text/plain": [
       "Canvas(toolbar=Toolbar(toolitems=[('Home', 'Reset original view', 'home', 'home'), ('Back', 'Back to previous …"
      ]
     },
     "metadata": {},
     "output_type": "display_data"
    }
   ],
   "source": [
    "bins = 100\n",
    "\n",
    "fig, ax = plt.subplots(2,2, constrained_layout = True)\n",
    "ax[0,0].hist(df_partial['vx'], bins = bins, color = 'r')\n",
    "ax[0,1].hist(df_partial['vy'], bins = bins, color = 'g')\n",
    "ax[1,0].hist(df_partial['vz'], bins = bins, color = 'b')\n",
    "ax[1,1].hist(df_partial['v'], bins = bins, color = 'k');"
   ]
  },
  {
   "cell_type": "code",
   "execution_count": 38,
   "id": "fe2f62c7-b5de-4703-9a8a-de6bffc1088d",
   "metadata": {},
   "outputs": [],
   "source": [
    "mean = df_partial.mean()"
   ]
  },
  {
   "cell_type": "code",
   "execution_count": 39,
   "id": "3782a545-84d0-49ea-aed8-87bc08d8af5a",
   "metadata": {},
   "outputs": [
    {
     "name": "stdout",
     "output_type": "stream",
     "text": [
      "Drift : [-0.82173833 -1.66189331 -0.29664523] m/s\n",
      "Local temperature : 3.169e+02 K\n",
      "Standard deviation on the gaussian : 1.448e+02 m/s\n"
     ]
    }
   ],
   "source": [
    "v = df_partial['v']\n",
    "drift = np.array([mean['vx'],mean['vy'],mean['vz']])\n",
    "drift_norm = np.linalg.norm(drift)\n",
    "kb = ld.utils.physics.BOLTZMAN_CONSTANT\n",
    "print('Drift : {} m/s'.format(drift))\n",
    "print(\"Local temperature : {:.3e} K\".format((np.mean(v*v)-drift_norm*drift_norm)*mass/(kb*3)))\n",
    "print('Standard deviation on the gaussian : {:.3e} m/s'.format(np.std(df_partial['vx'])))"
   ]
  },
  {
   "cell_type": "markdown",
   "id": "79323f9d-273d-4554-b49c-cd5cf732421e",
   "metadata": {
    "tags": []
   },
   "source": [
    "#### Conclusion\n",
    "As expected we have different things although almost no drift is to be seen (and not one that would be expected). => we have gradients.\n",
    "\n",
    "We see that the temperature is higher meaning the system is heaten by the top wall."
   ]
  },
  {
   "cell_type": "code",
   "execution_count": 40,
   "id": "085b5297-c5fb-49ea-8794-3038c02115f7",
   "metadata": {},
   "outputs": [],
   "source": [
    "import seaborn as sns"
   ]
  },
  {
   "cell_type": "code",
   "execution_count": 51,
   "id": "8890e1da-df49-4ccc-979a-2b06677a76f8",
   "metadata": {},
   "outputs": [
    {
     "data": {
      "application/vnd.jupyter.widget-view+json": {
       "model_id": "21c31f3cbb68489d9b956952d4907310",
       "version_major": 2,
       "version_minor": 0
      },
      "text/plain": [
       "Canvas(toolbar=Toolbar(toolitems=[('Home', 'Reset original view', 'home', 'home'), ('Back', 'Back to previous …"
      ]
     },
     "metadata": {},
     "output_type": "display_data"
    },
    {
     "data": {
      "text/plain": [
       "<AxesSubplot:xlabel='x', ylabel='vx'>"
      ]
     },
     "execution_count": 51,
     "metadata": {},
     "output_type": "execute_result"
    }
   ],
   "source": [
    "fig, ax = plt.subplots()\n",
    "sns.histplot(data = df_partial, x = 'x', y = 'vx', cbar = True, bins = 50, ax = ax)"
   ]
  },
  {
   "cell_type": "code",
   "execution_count": 50,
   "id": "eef985a3-9c20-4e06-ac60-f4af0ecd9ce2",
   "metadata": {},
   "outputs": [
    {
     "data": {
      "application/vnd.jupyter.widget-view+json": {
       "model_id": "e7f5a2522c0a4b02b1c37c2d7788b5f1",
       "version_major": 2,
       "version_minor": 0
      },
      "text/plain": [
       "Canvas(toolbar=Toolbar(toolitems=[('Home', 'Reset original view', 'home', 'home'), ('Back', 'Back to previous …"
      ]
     },
     "metadata": {},
     "output_type": "display_data"
    },
    {
     "data": {
      "text/plain": [
       "<AxesSubplot:xlabel='vx', ylabel='y'>"
      ]
     },
     "execution_count": 50,
     "metadata": {},
     "output_type": "execute_result"
    }
   ],
   "source": [
    "fig, ax = plt.subplots()\n",
    "sns.histplot(data = df_partial, x = 'vx', y = 'y', cbar = True, bins = 50, ax = ax)"
   ]
  },
  {
   "cell_type": "code",
   "execution_count": 53,
   "id": "aa8caa25-f68b-4b86-9ff5-7f8532c19373",
   "metadata": {},
   "outputs": [],
   "source": [
    "df_particles['y_int'] = (df_particles['y']/dy).astype(int) "
   ]
  },
  {
   "cell_type": "code",
   "execution_count": 56,
   "id": "81dc6e2e-904a-4051-9103-a2ae91dfed45",
   "metadata": {},
   "outputs": [],
   "source": [
    "results = df_partial.groupby('y_int').mean()['vx']"
   ]
  },
  {
   "cell_type": "code",
   "execution_count": 59,
   "id": "f20a4dfe-b323-4f9b-ba30-0c54302f7a13",
   "metadata": {},
   "outputs": [
    {
     "data": {
      "application/vnd.jupyter.widget-view+json": {
       "model_id": "0d3f21fc09e54f74864d22cb99fe420b",
       "version_major": 2,
       "version_minor": 0
      },
      "text/plain": [
       "Canvas(toolbar=Toolbar(toolitems=[('Home', 'Reset original view', 'home', 'home'), ('Back', 'Back to previous …"
      ]
     },
     "metadata": {},
     "output_type": "display_data"
    }
   ],
   "source": [
    "fig, ax = plt.subplots()\n",
    "ax.plot(results.values, results.index*dy);"
   ]
  },
  {
   "cell_type": "code",
   "execution_count": 66,
   "id": "71a9cec8-13d3-41e0-b5e8-000da6fc266e",
   "metadata": {},
   "outputs": [],
   "source": [
    "df_particles['x_int'] = (df_particles['x']/dx).astype(int) "
   ]
  },
  {
   "cell_type": "code",
   "execution_count": 67,
   "id": "e3dabb6a-3d8a-43d6-be28-7732a1b09252",
   "metadata": {},
   "outputs": [
    {
     "data": {
      "application/vnd.jupyter.widget-view+json": {
       "model_id": "650e0d29a8fd4473860919ccd8ed882c",
       "version_major": 2,
       "version_minor": 0
      },
      "text/plain": [
       "Canvas(toolbar=Toolbar(toolitems=[('Home', 'Reset original view', 'home', 'home'), ('Back', 'Back to previous …"
      ]
     },
     "metadata": {},
     "output_type": "display_data"
    }
   ],
   "source": [
    "results = df_partial.groupby('x_int').mean()['vx']\n",
    "fig, ax = plt.subplots()\n",
    "ax.plot(results.index*dx, results.values);"
   ]
  },
  {
   "cell_type": "code",
   "execution_count": null,
   "id": "144a5152-ac92-4818-87ca-a50853f90da6",
   "metadata": {},
   "outputs": [],
   "source": []
  }
 ],
 "metadata": {
  "kernelspec": {
   "display_name": "Python 3",
   "language": "python",
   "name": "python3"
  },
  "language_info": {
   "codemirror_mode": {
    "name": "ipython",
    "version": 3
   },
   "file_extension": ".py",
   "mimetype": "text/x-python",
   "name": "python",
   "nbconvert_exporter": "python",
   "pygments_lexer": "ipython3",
   "version": "3.7.10"
  }
 },
 "nbformat": 4,
 "nbformat_minor": 5
}
