{
 "cells": [
  {
   "cell_type": "code",
   "execution_count": 12,
   "id": "beaf76e2-8646-4f2b-8ddd-bd1ad597b318",
   "metadata": {},
   "outputs": [],
   "source": [
    "%matplotlib widget \n",
    "# global import\n",
    "import numpy as np\n",
    "import pandas as pd\n",
    "from tqdm import tqdm\n",
    "\n",
    "# plotting\n",
    "import matplotlib.pyplot as plt\n",
    "import seaborn as sns\n",
    "# local import\n",
    "import lppydsmc as ld"
   ]
  },
  {
   "cell_type": "markdown",
   "id": "f781cf96-857a-4044-b3f7-170d0e25768b",
   "metadata": {},
   "source": [
    "# Explanation\n",
    "The goal is to refined the model and make sure I am not doing anything stupid.\n",
    "We'll use bokeh to plot. It will much easier + play with the params.\n",
    "\n",
    "\n",
    "## Model \n",
    "The modeled system is a 2D square of size $0.001$ $m$. We suppose the problem is 0D (no dependance on space).\n",
    "\n",
    "To simplify things, let's attribute numbers to walls (boundaries): \n",
    "- left wall : $b_0$\n",
    "- top wall : $b_1$\n",
    "- right wall : $b_2$\n",
    "- bottom wall : $b_3$\n",
    "\n",
    "We inject a Maxwellian of $300$ $K$ of ions trough $b_0$. The density of the injection can vary.\n",
    "\n",
    "Once injected, the ions can collide with the boundaries $b_{1,2,3}$ and each ion has a probability of $p$ to be neutralized when colliding. The boundaries $b_{1,2,3}$ are considered purely diffusive.\n",
    "\n",
    "Each species can leave the system trough $b_1$. \n",
    "\n",
    "We will take Iodine (not that it matter really). Its mass is $2.16 \\times 10^{-25}$ $kg$. This yields $\\bar v \\approx 200$ $m.s^{-1}$.\n",
    "\n",
    "We thus have the following equations where $N_{I}(t)$ and $N_{I^-}(t)$ are the number of particles in the system :\n",
    "\n",
    "- $\\frac{dN_{I^-}}{dt} = \\Gamma_{injection, I^-} S_{b_1} - \\Gamma_{out, I^-} S_{b_1} - \\Gamma_{neutralization, I^-} S_{b_{1,2,3}}$\n",
    "- $\\frac{dN_{I}}{dt} = - \\Gamma_{out, I} S_{b_1} + \\Gamma_{neutralization, I^-} S_{b_{1,2,3}}$\n",
    "\n",
    "We suppose that we are at thermal equilibrium : each species is a the same temperature and we can compute the flux reaching each boundary for each species, it would be :\n",
    "$\\Gamma = \\frac{1}{4} n \\bar v$, where $n = \\frac{N}{V}$ is the density we consider.\n",
    "\n",
    "Thus the previous system yields :\n",
    "- $\\frac{dN_{I^-}}{dt} = \\frac{1}{4} (n_{injection, I^-} - n_{I^-} (1+3p)) \\bar v$, where $p$ is the probability of neutralization when colliding with boundaries.\n",
    "- $\\frac{dN_{I}}{dt} = \\frac{1}{4} (3 n_{I^-}p - n_I) \\bar v$\n",
    "\n",
    "Which is a system we can easily solve and can be written : $X' = AX + B$, $X = (N_{neutrals}, N_{ions})$.\n",
    "\n",
    "Where $A = ((,),(,))"
   ]
  },
  {
   "cell_type": "code",
   "execution_count": 84,
   "id": "bcadb8e6-1af5-4d11-bad9-cf001215a118",
   "metadata": {},
   "outputs": [],
   "source": [
    "# Fixed params\n",
    "temperature = 300 # K\n",
    "mass = 2.16e-25 # kg\n",
    "v_mean = ld.utils.physics.maxwellian_mean_speed(temperature, mass)\n",
    "\n",
    "dx = dy = dz = 1e-3 # volume system\n",
    "dS = dy*dz # surface 1 plan\n",
    "dV = dx*dy*dz"
   ]
  },
  {
   "cell_type": "code",
   "execution_count": 95,
   "id": "28a096c0-d705-49ac-b711-42e52f074995",
   "metadata": {},
   "outputs": [],
   "source": [
    "class Model:    \n",
    "    def __init__(self, **kwargs):\n",
    "        self.temperature = 300 if 'temperature' not in kwargs else kwargs['temperature']\n",
    "        self.mass = 2.16e-25 if 'mass' not in kwargs else kwargs['mass']\n",
    "        self.v_mean = ld.utils.physics.maxwellian_mean_speed(self.temperature, self.mass)\n",
    "        self.n_walls = 3 if 'n_walls' not in kwargs else kwargs['n_walls']# number of walls with which to collide for neutralization\n",
    "        self.dx = 1e-3 if 'dx' not in kwargs else kwargs['dx']\n",
    "        self.dy = 1e-3 if 'dy' not in kwargs else kwargs['dy']\n",
    "        self.dz = 1e-3 if 'dz' not in kwargs else kwargs['dz']\n",
    "        self.surface_injection = self.dy*self.dz\n",
    "        self.volume = self.dx*self.dy*self.dz\n",
    "        \n",
    "    \n",
    "    def integrate(self, x0, density, proba, time_step = 1e-6, iterations = 1000, disable = False):\n",
    "        self.density = density\n",
    "        self.proba = proba\n",
    "        self.time_step = time_step\n",
    "        self.iterations = iterations\n",
    "        self.x0 = x0\n",
    "        \n",
    "        self.a = self.A(proba)\n",
    "        self.b = self.B(density)\n",
    "        \n",
    "        x = x0\n",
    "        self.x_arr = np.zeros((iterations+1,2))\n",
    "        self.x_arr[0,:] = x0\n",
    "        for iteration in tqdm(range(1,iterations+1), disable = disable):\n",
    "            # euler explicit\n",
    "            x += (self.a.dot(x)+self.b)*time_step\n",
    "            self.x_arr[iteration,:] = x\n",
    "        return self.x_arr\n",
    "    \n",
    "    def A(self, proba):\n",
    "        cte = 0.25*self.v_mean*self.surface_injection/self.volume # S/V = 1/dx\n",
    "        loss_neutrals = -cte # neutrals -> neutrals\n",
    "        loss_ions = -cte\n",
    "        rate_ions_neutrals = proba * self.n_walls * cte\n",
    "\n",
    "        return np.array([[ loss_neutrals , rate_ions_neutrals ],\n",
    "                         [ 0. , loss_ions - rate_ions_neutrals ]])\n",
    "    \n",
    "    def B(self, density):\n",
    "        return np.array([0., 1/4. * density * self.v_mean * self.surface_injection])\n",
    "    \n",
    "    def plot_solution(self):\n",
    "        fig, ax = plt.subplots(constrained_layout = True)\n",
    "        times = np.arange(self.iterations+1)*self.time_step\n",
    "        ax.plot(times, self.x_arr[:,0]/self.volume, label = 'Neutral', color = 'r')\n",
    "        ax.plot(times, self.x_arr[:,1]/self.volume, label = 'Ion', color = 'b')\n",
    "        ax.legend(loc='best');\n",
    "        print('number of walls x proba = {:.3f}'.format(self.x_arr[-1,0]/self.x_arr[-1,1]))\n",
    "        "
   ]
  },
  {
   "cell_type": "code",
   "execution_count": 96,
   "id": "91902706-7540-45d5-819d-16631078ecd0",
   "metadata": {},
   "outputs": [],
   "source": [
    "model = Model(n_walls = 3)"
   ]
  },
  {
   "cell_type": "code",
   "execution_count": 99,
   "id": "e2b58b3c-6788-48cd-bf8d-77cc1b4afaf1",
   "metadata": {},
   "outputs": [
    {
     "name": "stderr",
     "output_type": "stream",
     "text": [
      "100%|██████████| 1000/1000 [00:00<00:00, 285055.32it/s]\n"
     ]
    }
   ],
   "source": [
    "volume = 1e-9\n",
    "n_init = 1.6e20*volume*0\n",
    "results = model.integrate(np.array([n_init,n_init]), density = 3.2e20, proba = 0.3, time_step = 1e-7, iterations = 1000)"
   ]
  },
  {
   "cell_type": "code",
   "execution_count": 100,
   "id": "e7eb3f2a-f835-493b-ad6c-3b247a45a2a8",
   "metadata": {},
   "outputs": [
    {
     "data": {
      "application/vnd.jupyter.widget-view+json": {
       "model_id": "b7fa21a01e06474fa7cf97cb7e0cdb08",
       "version_major": 2,
       "version_minor": 0
      },
      "text/plain": [
       "Canvas(toolbar=Toolbar(toolitems=[('Home', 'Reset original view', 'home', 'home'), ('Back', 'Back to previous …"
      ]
     },
     "metadata": {},
     "output_type": "display_data"
    },
    {
     "name": "stdout",
     "output_type": "stream",
     "text": [
      "number of walls x proba = 0.893\n"
     ]
    }
   ],
   "source": [
    "model.plot_solution()"
   ]
  },
  {
   "cell_type": "code",
   "execution_count": null,
   "id": "b2f87f5f-4cd5-4178-9a8d-c5b45d11d033",
   "metadata": {},
   "outputs": [],
   "source": [
    "time_step = 1e-6\n",
    "volume = 1e-9\n",
    "iterations = 1000\n",
    "fig, ax = plt.subplots(constrained_layout = True)\n",
    "times = np.arange(iterations+1)*time_step\n",
    "ax.plot(times, results_1[:,0]/volume, label = 'Neutral')\n",
    "ax.plot(times, results_1[:,1]/volume, label = 'Ion')\n",
    "ax.legend(loc='best');\n",
    "ax.set_yscale('log')\n"
   ]
  }
 ],
 "metadata": {
  "kernelspec": {
   "display_name": "Python 3",
   "language": "python",
   "name": "python3"
  },
  "language_info": {
   "codemirror_mode": {
    "name": "ipython",
    "version": 3
   },
   "file_extension": ".py",
   "mimetype": "text/x-python",
   "name": "python",
   "nbconvert_exporter": "python",
   "pygments_lexer": "ipython3",
   "version": "3.7.10"
  }
 },
 "nbformat": 4,
 "nbformat_minor": 5
}
