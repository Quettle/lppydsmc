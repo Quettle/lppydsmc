{
 "cells": [
  {
   "cell_type": "markdown",
   "id": "a8b53218-4737-47e4-aef2-20fe760cb28e",
   "metadata": {
    "tags": []
   },
   "source": [
    "# Couette flow simulations"
   ]
  },
  {
   "cell_type": "code",
   "execution_count": 1,
   "id": "bda8abdd-2384-41c3-a282-100b38570532",
   "metadata": {},
   "outputs": [],
   "source": [
    "%matplotlib widget \n",
    "# global import\n",
    "import numpy as np\n",
    "import pandas as pd\n",
    "\n",
    "# plotting\n",
    "import matplotlib.pyplot as plt\n",
    "import seaborn as sns\n",
    "\n",
    "# local import\n",
    "import lppydsmc as ld"
   ]
  },
  {
   "cell_type": "markdown",
   "id": "ff7e640e-69b3-4835-b06b-56814150214e",
   "metadata": {},
   "source": [
    "## Case 1 "
   ]
  },
  {
   "cell_type": "code",
   "execution_count": 2,
   "id": "8263db65-addc-4a40-8a40-d85b80e278d9",
   "metadata": {},
   "outputs": [],
   "source": [
    "path_couette_1 = \"/home/calot/Documents/projets/lppydsmc/benchmarks/config_files/couette_1.ini\""
   ]
  },
  {
   "cell_type": "code",
   "execution_count": 3,
   "id": "a47b00aa-4db1-4b98-90c5-d106c3820afa",
   "metadata": {},
   "outputs": [
    {
     "name": "stdout",
     "output_type": "stream",
     "text": [
      "|    it    |   INIT   |  INJECT  |   DEL    | C. WALLS | C. PARTS |  REACT   | EXEC TIME (s) |\n",
      "----------------------------------------------------------------------------------------------\n",
      "|    0     |   4000   |    NA    |    0     |    0     |    0     |    NA    |       0       |\n"
     ]
    },
    {
     "ename": "ValueError",
     "evalue": "operands could not be broadcast together with shapes (812,3) (2,) (812,3) ",
     "output_type": "error",
     "traceback": [
      "\u001b[0;31m---------------------------------------------------------------------------\u001b[0m",
      "\u001b[0;31mValueError\u001b[0m                                Traceback (most recent call last)",
      "\u001b[0;32m<ipython-input-3-c9cbcee0e772>\u001b[0m in \u001b[0;36m<module>\u001b[0;34m\u001b[0m\n\u001b[1;32m      2\u001b[0m \u001b[0msimulation\u001b[0m \u001b[0;34m=\u001b[0m \u001b[0;32mTrue\u001b[0m\u001b[0;34m\u001b[0m\u001b[0;34m\u001b[0m\u001b[0m\n\u001b[1;32m      3\u001b[0m \u001b[0;32mif\u001b[0m\u001b[0;34m(\u001b[0m\u001b[0msimulation\u001b[0m\u001b[0;34m)\u001b[0m\u001b[0;34m:\u001b[0m\u001b[0;34m\u001b[0m\u001b[0;34m\u001b[0m\u001b[0m\n\u001b[0;32m----> 4\u001b[0;31m     \u001b[0mld\u001b[0m\u001b[0;34m.\u001b[0m\u001b[0mmain\u001b[0m\u001b[0;34m(\u001b[0m\u001b[0mpath_couette_1\u001b[0m\u001b[0;34m,\u001b[0m \u001b[0msave\u001b[0m \u001b[0;34m=\u001b[0m \u001b[0;32mTrue\u001b[0m\u001b[0;34m)\u001b[0m\u001b[0;34m;\u001b[0m\u001b[0;34m\u001b[0m\u001b[0;34m\u001b[0m\u001b[0m\n\u001b[0m",
      "\u001b[0;32m~/.conda/envs/NIRN/lib/python3.7/site-packages/lppydsmc/main.py\u001b[0m in \u001b[0;36mmain\u001b[0;34m(path_to_cfg, save)\u001b[0m\n\u001b[1;32m     51\u001b[0m                 \u001b[0;34m'saver'\u001b[0m \u001b[0;34m:\u001b[0m \u001b[0msaver\u001b[0m\u001b[0;34m,\u001b[0m\u001b[0;34m\u001b[0m\u001b[0;34m\u001b[0m\u001b[0m\n\u001b[1;32m     52\u001b[0m             }\n\u001b[0;32m---> 53\u001b[0;31m             \u001b[0msimulate\u001b[0m\u001b[0;34m(\u001b[0m\u001b[0mp\u001b[0m\u001b[0;34m[\u001b[0m\u001b[0;34m'use_fluxes'\u001b[0m\u001b[0;34m]\u001b[0m\u001b[0;34m,\u001b[0m \u001b[0mp\u001b[0m\u001b[0;34m[\u001b[0m\u001b[0;34m'use_dsmc'\u001b[0m\u001b[0;34m]\u001b[0m\u001b[0;34m,\u001b[0m \u001b[0mp\u001b[0m\u001b[0;34m[\u001b[0m\u001b[0;34m'use_reactions'\u001b[0m\u001b[0;34m]\u001b[0m\u001b[0;34m,\u001b[0m \u001b[0mp\u001b[0m\u001b[0;34m[\u001b[0m\u001b[0;34m'use_plotting'\u001b[0m\u001b[0;34m]\u001b[0m\u001b[0;34m,\u001b[0m \u001b[0mp\u001b[0m\u001b[0;34m[\u001b[0m\u001b[0;34m'use_verbose'\u001b[0m\u001b[0;34m]\u001b[0m\u001b[0;34m,\u001b[0m \u001b[0mmonitor_dict\u001b[0m \u001b[0;34m=\u001b[0m \u001b[0mmonitor_dict\u001b[0m\u001b[0;34m,\u001b[0m \u001b[0;34m**\u001b[0m\u001b[0mp\u001b[0m\u001b[0;34m[\u001b[0m\u001b[0;34m'setup'\u001b[0m\u001b[0;34m]\u001b[0m\u001b[0;34m)\u001b[0m\u001b[0;34m\u001b[0m\u001b[0;34m\u001b[0m\u001b[0m\n\u001b[0m\u001b[1;32m     54\u001b[0m \u001b[0;34m\u001b[0m\u001b[0m\n\u001b[1;32m     55\u001b[0m     \u001b[0;32melse\u001b[0m\u001b[0;34m:\u001b[0m\u001b[0;34m\u001b[0m\u001b[0;34m\u001b[0m\u001b[0m\n",
      "\u001b[0;32m~/.conda/envs/NIRN/lib/python3.7/site-packages/lppydsmc/main.py\u001b[0m in \u001b[0;36msimulate\u001b[0;34m(use_fluxes, use_dsmc, use_reactions, use_plotting, use_verbose, monitor_dict, **kwargs)\u001b[0m\n\u001b[1;32m    215\u001b[0m         \u001b[0madvect\u001b[0m\u001b[0;34m(\u001b[0m\u001b[0;34m[\u001b[0m\u001b[0mcontainer\u001b[0m\u001b[0;34m.\u001b[0m\u001b[0mget_array\u001b[0m\u001b[0;34m(\u001b[0m\u001b[0;34m)\u001b[0m \u001b[0;32mfor\u001b[0m \u001b[0mspecie\u001b[0m\u001b[0;34m,\u001b[0m \u001b[0mcontainer\u001b[0m \u001b[0;32min\u001b[0m \u001b[0mcontainers\u001b[0m\u001b[0;34m.\u001b[0m\u001b[0mitems\u001b[0m\u001b[0;34m(\u001b[0m\u001b[0;34m)\u001b[0m\u001b[0;34m]\u001b[0m\u001b[0;34m,\u001b[0m \u001b[0mcurrent_time\u001b[0m\u001b[0;34m,\u001b[0m \u001b[0mtime_step\u001b[0m\u001b[0;34m,\u001b[0m \u001b[0mupdate_functions\u001b[0m\u001b[0;34m,\u001b[0m \u001b[0margs_update_functions\u001b[0m\u001b[0;34m,\u001b[0m \u001b[0mschemes\u001b[0m\u001b[0;34m)\u001b[0m\u001b[0;34m\u001b[0m\u001b[0;34m\u001b[0m\u001b[0m\n\u001b[1;32m    216\u001b[0m \u001b[0;34m\u001b[0m\u001b[0m\n\u001b[0;32m--> 217\u001b[0;31m         \u001b[0mresults_reflect_particles\u001b[0m \u001b[0;34m=\u001b[0m \u001b[0mreflect_out_particles\u001b[0m\u001b[0;34m(\u001b[0m\u001b[0mcontainers\u001b[0m\u001b[0;34m,\u001b[0m \u001b[0msystem\u001b[0m\u001b[0;34m,\u001b[0m \u001b[0mreflect_fns\u001b[0m\u001b[0;34m,\u001b[0m \u001b[0muser_generic_args\u001b[0m\u001b[0;34m,\u001b[0m \u001b[0muser_defined_args\u001b[0m\u001b[0;34m,\u001b[0m \u001b[0mmonitoring\u001b[0m\u001b[0;34m)\u001b[0m\u001b[0;34m\u001b[0m\u001b[0;34m\u001b[0m\u001b[0m\n\u001b[0m\u001b[1;32m    218\u001b[0m         \u001b[0;31m# if monitoring is True then return idx_gsi and out_particles (the particles that got out)\u001b[0m\u001b[0;34m\u001b[0m\u001b[0;34m\u001b[0m\u001b[0;34m\u001b[0m\u001b[0m\n\u001b[1;32m    219\u001b[0m         \u001b[0mnb_out_particles\u001b[0m \u001b[0;34m=\u001b[0m \u001b[0mresults_reflect_particles\u001b[0m\u001b[0;34m[\u001b[0m\u001b[0;36m1\u001b[0m\u001b[0;34m]\u001b[0m\u001b[0;34m\u001b[0m\u001b[0;34m\u001b[0m\u001b[0m\n",
      "\u001b[0;32m~/.conda/envs/NIRN/lib/python3.7/site-packages/lppydsmc/main.py\u001b[0m in \u001b[0;36mreflect_out_particles\u001b[0;34m(containers, system, reflect_fns, user_generic_args, user_defined_args, monitoring)\u001b[0m\n\u001b[1;32m    432\u001b[0m             \u001b[0mabsolute_idxes_exited_\u001b[0m \u001b[0;34m=\u001b[0m \u001b[0mld\u001b[0m\u001b[0;34m.\u001b[0m\u001b[0madvection\u001b[0m\u001b[0;34m.\u001b[0m\u001b[0mboundaries\u001b[0m\u001b[0;34m.\u001b[0m\u001b[0mget_absolute_indexes\u001b[0m\u001b[0;34m(\u001b[0m\u001b[0mabsolute_colliding_bool\u001b[0m\u001b[0;34m,\u001b[0m \u001b[0mrelative_colliding_bool\u001b[0m\u001b[0;34m,\u001b[0m \u001b[0mrelative_idxes_exiting\u001b[0m\u001b[0;34m)\u001b[0m\u001b[0;34m\u001b[0m\u001b[0;34m\u001b[0m\u001b[0m\n\u001b[1;32m    433\u001b[0m             \u001b[0;31m# arr require the absolute indexes, while idxes_walls, ct and cp require relative_colliding_bool\u001b[0m\u001b[0;34m\u001b[0m\u001b[0;34m\u001b[0m\u001b[0;34m\u001b[0m\u001b[0m\n\u001b[0;32m--> 434\u001b[0;31m             \u001b[0mld\u001b[0m\u001b[0;34m.\u001b[0m\u001b[0madvection\u001b[0m\u001b[0;34m.\u001b[0m\u001b[0mboundaries\u001b[0m\u001b[0;34m.\u001b[0m\u001b[0mreflect_back_in\u001b[0m\u001b[0;34m(\u001b[0m\u001b[0marr\u001b[0m\u001b[0;34m,\u001b[0m \u001b[0mabsolute_colliding_bool\u001b[0m\u001b[0;34m,\u001b[0m \u001b[0mrelative_colliding_bool\u001b[0m\u001b[0;34m,\u001b[0m \u001b[0mgeneric_args\u001b[0m\u001b[0;34m,\u001b[0m \u001b[0mreflect_fns\u001b[0m\u001b[0;34m[\u001b[0m\u001b[0mk\u001b[0m\u001b[0;34m]\u001b[0m\u001b[0;34m,\u001b[0m \u001b[0muser_generic_args\u001b[0m\u001b[0;34m[\u001b[0m\u001b[0mk\u001b[0m\u001b[0;34m]\u001b[0m\u001b[0;34m,\u001b[0m \u001b[0muser_defined_args\u001b[0m\u001b[0;34m[\u001b[0m\u001b[0mk\u001b[0m\u001b[0;34m]\u001b[0m\u001b[0;34m)\u001b[0m \u001b[0;31m# in place\u001b[0m\u001b[0;34m\u001b[0m\u001b[0;34m\u001b[0m\u001b[0m\n\u001b[0m\u001b[1;32m    435\u001b[0m \u001b[0;34m\u001b[0m\u001b[0m\n\u001b[1;32m    436\u001b[0m             \u001b[0mabsolute_idxes_exited\u001b[0m\u001b[0;34m.\u001b[0m\u001b[0mappend\u001b[0m\u001b[0;34m(\u001b[0m\u001b[0mabsolute_idxes_exited_\u001b[0m\u001b[0;34m)\u001b[0m\u001b[0;34m\u001b[0m\u001b[0;34m\u001b[0m\u001b[0m\n",
      "\u001b[0;32m~/.conda/envs/NIRN/lib/python3.7/site-packages/lppydsmc/advection/boundaries.py\u001b[0m in \u001b[0;36mreflect_back_in\u001b[0;34m(arr, absolute_colliding_bool, relative_colliding_bool, generic_args, reflect_fn, user_generic_args, user_defined_args)\u001b[0m\n\u001b[1;32m    336\u001b[0m         \u001b[0muser_defined_args\u001b[0m\u001b[0;34m[\u001b[0m\u001b[0;34m'mass'\u001b[0m\u001b[0;34m]\u001b[0m \u001b[0;34m=\u001b[0m \u001b[0mgeneric_args\u001b[0m\u001b[0;34m[\u001b[0m\u001b[0;34m'mass'\u001b[0m\u001b[0;34m]\u001b[0m\u001b[0;34m\u001b[0m\u001b[0;34m\u001b[0m\u001b[0m\n\u001b[1;32m    337\u001b[0m \u001b[0;34m\u001b[0m\u001b[0m\n\u001b[0;32m--> 338\u001b[0;31m     \u001b[0marr\u001b[0m\u001b[0;34m[\u001b[0m\u001b[0mabsolute_colliding_bool\u001b[0m\u001b[0;34m,\u001b[0m\u001b[0;34m:\u001b[0m\u001b[0;34m]\u001b[0m \u001b[0;34m=\u001b[0m \u001b[0mreflect_fn\u001b[0m\u001b[0;34m(\u001b[0m\u001b[0marr\u001b[0m\u001b[0;34m[\u001b[0m\u001b[0mabsolute_colliding_bool\u001b[0m\u001b[0;34m,\u001b[0m\u001b[0;34m:\u001b[0m\u001b[0;34m]\u001b[0m\u001b[0;34m,\u001b[0m \u001b[0;34m**\u001b[0m\u001b[0muser_defined_args\u001b[0m\u001b[0;34m)\u001b[0m\u001b[0;34m\u001b[0m\u001b[0;34m\u001b[0m\u001b[0m\n\u001b[0m",
      "\u001b[0;32m~/.conda/envs/NIRN/lib/python3.7/site-packages/lppydsmc/advection/boundaries.py\u001b[0m in \u001b[0;36m_couette\u001b[0;34m(arr, **kwargs)\u001b[0m\n\u001b[1;32m    147\u001b[0m     }\n\u001b[1;32m    148\u001b[0m \u001b[0;34m\u001b[0m\u001b[0m\n\u001b[0;32m--> 149\u001b[0;31m     \u001b[0marr\u001b[0m\u001b[0;34m[\u001b[0m\u001b[0mleft\u001b[0m\u001b[0;34m]\u001b[0m \u001b[0;34m=\u001b[0m \u001b[0m_periodic\u001b[0m\u001b[0;34m(\u001b[0m\u001b[0marr\u001b[0m\u001b[0;34m[\u001b[0m\u001b[0mleft\u001b[0m\u001b[0;34m]\u001b[0m\u001b[0;34m,\u001b[0m \u001b[0;34m**\u001b[0m\u001b[0mkwargs_left\u001b[0m\u001b[0;34m)\u001b[0m\u001b[0;34m\u001b[0m\u001b[0;34m\u001b[0m\u001b[0m\n\u001b[0m\u001b[1;32m    150\u001b[0m     \u001b[0marr\u001b[0m\u001b[0;34m[\u001b[0m\u001b[0mright\u001b[0m\u001b[0;34m]\u001b[0m \u001b[0;34m=\u001b[0m \u001b[0m_periodic\u001b[0m\u001b[0;34m(\u001b[0m\u001b[0marr\u001b[0m\u001b[0;34m[\u001b[0m\u001b[0mright\u001b[0m\u001b[0;34m]\u001b[0m\u001b[0;34m,\u001b[0m \u001b[0;34m**\u001b[0m\u001b[0mkwargs_right\u001b[0m\u001b[0;34m)\u001b[0m\u001b[0;34m\u001b[0m\u001b[0;34m\u001b[0m\u001b[0m\n\u001b[1;32m    151\u001b[0m     \u001b[0marr\u001b[0m\u001b[0;34m[\u001b[0m\u001b[0mtop\u001b[0m\u001b[0;34m]\u001b[0m \u001b[0;34m=\u001b[0m \u001b[0m_reflect_particle_diffusive\u001b[0m\u001b[0;34m(\u001b[0m\u001b[0marr\u001b[0m\u001b[0;34m[\u001b[0m\u001b[0mtop\u001b[0m\u001b[0;34m]\u001b[0m\u001b[0;34m,\u001b[0m \u001b[0;34m**\u001b[0m\u001b[0mkwargs_top\u001b[0m\u001b[0;34m)\u001b[0m\u001b[0;34m\u001b[0m\u001b[0;34m\u001b[0m\u001b[0m\n",
      "\u001b[0;32m~/.conda/envs/NIRN/lib/python3.7/site-packages/lppydsmc/advection/boundaries.py\u001b[0m in \u001b[0;36m_periodic\u001b[0;34m(arr, **kwargs)\u001b[0m\n\u001b[1;32m     97\u001b[0m \u001b[0;34m\u001b[0m\u001b[0m\n\u001b[1;32m     98\u001b[0m \u001b[0;32mdef\u001b[0m \u001b[0m_periodic\u001b[0m\u001b[0;34m(\u001b[0m\u001b[0marr\u001b[0m\u001b[0;34m,\u001b[0m \u001b[0;34m**\u001b[0m\u001b[0mkwargs\u001b[0m\u001b[0;34m)\u001b[0m\u001b[0;34m:\u001b[0m \u001b[0;31m# for only one wall I think no ?\u001b[0m\u001b[0;34m\u001b[0m\u001b[0;34m\u001b[0m\u001b[0m\n\u001b[0;32m---> 99\u001b[0;31m     \u001b[0marr\u001b[0m\u001b[0;34m[\u001b[0m\u001b[0;34m:\u001b[0m\u001b[0;34m,\u001b[0m\u001b[0;36m2\u001b[0m\u001b[0;34m:\u001b[0m\u001b[0;34m]\u001b[0m \u001b[0;34m+=\u001b[0m \u001b[0mkwargs\u001b[0m\u001b[0;34m[\u001b[0m\u001b[0;34m'translation'\u001b[0m\u001b[0;34m]\u001b[0m\u001b[0;34m\u001b[0m\u001b[0;34m\u001b[0m\u001b[0m\n\u001b[0m\u001b[1;32m    100\u001b[0m     \u001b[0;32mreturn\u001b[0m \u001b[0marr\u001b[0m\u001b[0;34m\u001b[0m\u001b[0;34m\u001b[0m\u001b[0m\n\u001b[1;32m    101\u001b[0m \u001b[0;34m\u001b[0m\u001b[0m\n",
      "\u001b[0;31mValueError\u001b[0m: operands could not be broadcast together with shapes (812,3) (2,) (812,3) "
     ]
    }
   ],
   "source": [
    "# launching simulations\n",
    "simulation = True\n",
    "if(simulation):\n",
    "    ld.main(path_couette_1, save = True);"
   ]
  },
  {
   "cell_type": "markdown",
   "id": "6d3a859f-5b17-4e18-bd27-04f5053baf4d",
   "metadata": {},
   "source": [
    "### Loading Results"
   ]
  },
  {
   "cell_type": "code",
   "execution_count": 4,
   "id": "c679d2e8-d992-443e-8016-56e0fad2b106",
   "metadata": {},
   "outputs": [
    {
     "name": "stdout",
     "output_type": "stream",
     "text": [
      "['/dsmc_collisions', '/dsmc_tracking', '/particles', '/wall_collisions']\n"
     ]
    }
   ],
   "source": [
    "results_path = \"/home/calot/Documents/projets/lppydsmc/benchmarks/results/couette_1/monitoring.h5\" # seems ok ...\n",
    "store = pd.HDFStore(results_path)\n",
    "print(store.keys())"
   ]
  },
  {
   "cell_type": "code",
   "execution_count": 164,
   "id": "68b550db-94dc-4789-aac7-779cfcc846ce",
   "metadata": {},
   "outputs": [],
   "source": [
    "h = 1e-3\n",
    "l = 2.5e-4\n",
    "dy = h/40.\n",
    "dx = 2.5e-4/10.\n",
    "U = 100 # m/s\n",
    "dt = 1e-7"
   ]
  },
  {
   "cell_type": "code",
   "execution_count": 8,
   "id": "01e76764-48cb-4349-a3a2-8bf8de43a937",
   "metadata": {},
   "outputs": [],
   "source": [
    "df_particles = store['particles']"
   ]
  },
  {
   "cell_type": "code",
   "execution_count": 13,
   "id": "1edea2f7-5e83-416a-9a8a-4c0678664f38",
   "metadata": {},
   "outputs": [],
   "source": [
    "df_particles['v2'] = df_particles['vx']*df_particles['vx']+df_particles['vy']*df_particles['vy']+df_particles['vz']*df_particles['vz']\n",
    "df_particles['v'] = np.sqrt(df_particles['v2'])"
   ]
  },
  {
   "cell_type": "code",
   "execution_count": 40,
   "id": "3b5e31b6-5ffa-45af-9677-e79548f7f668",
   "metadata": {},
   "outputs": [],
   "source": [
    "frames = 0.2 # taking the last 80% of the simulation\n",
    "max_frame = np.max(df_particles.index)\n",
    "df_partial = df_particles.loc[df_particles.index > frames*max_frame]"
   ]
  },
  {
   "cell_type": "markdown",
   "id": "62657e77-4216-418c-8e15-befbaaa4bc5d",
   "metadata": {},
   "source": [
    "### Scatter plot"
   ]
  },
  {
   "cell_type": "code",
   "execution_count": 176,
   "id": "38287eca-babf-40be-aa80-55d1a8da61b6",
   "metadata": {},
   "outputs": [
    {
     "data": {
      "application/vnd.jupyter.widget-view+json": {
       "model_id": "6d83fc0e1724412b97b326e6a8091cc0",
       "version_major": 2,
       "version_minor": 0
      },
      "text/plain": [
       "Canvas(toolbar=Toolbar(toolitems=[('Home', 'Reset original view', 'home', 'home'), ('Back', 'Back to previous …"
      ]
     },
     "metadata": {},
     "output_type": "display_data"
    },
    {
     "data": {
      "text/plain": [
       "<AxesSubplot:xlabel='x', ylabel='y'>"
      ]
     },
     "execution_count": 176,
     "metadata": {},
     "output_type": "execute_result"
    }
   ],
   "source": [
    "df_last_frame = df_partial.loc[df_partial.index == max_frame]\n",
    "fig, ax = plt.subplots(constrained_layout=True)\n",
    "ax.axis('equal')\n",
    "sns.scatterplot(data = df_last_frame, x='x',y='y')"
   ]
  },
  {
   "cell_type": "markdown",
   "id": "853ec39f-6136-4e1a-8339-21974b529a14",
   "metadata": {},
   "source": [
    "### Distribution"
   ]
  },
  {
   "cell_type": "code",
   "execution_count": 170,
   "id": "8f482895-1a79-4e90-8a70-f9b2233e77e3",
   "metadata": {},
   "outputs": [
    {
     "data": {
      "application/vnd.jupyter.widget-view+json": {
       "model_id": "409d4706b0154883b16c8cd9d159f489",
       "version_major": 2,
       "version_minor": 0
      },
      "text/plain": [
       "Canvas(toolbar=Toolbar(toolitems=[('Home', 'Reset original view', 'home', 'home'), ('Back', 'Back to previous …"
      ]
     },
     "metadata": {},
     "output_type": "display_data"
    },
    {
     "data": {
      "text/plain": [
       "Text(0.5, 0, 'v (m/s)')"
      ]
     },
     "execution_count": 170,
     "metadata": {},
     "output_type": "execute_result"
    }
   ],
   "source": [
    "bins = 100\n",
    "\n",
    "fig, ax = plt.subplots(2,2, constrained_layout = True)\n",
    "ax[0,0].hist(df_partial['vx'], bins = bins, color = 'r', density = False)\n",
    "ax[0,1].hist(df_partial['vy'], bins = bins, color = 'g', density = False)\n",
    "ax[1,0].hist(df_partial['vz'], bins = bins, color = 'b', density = False)\n",
    "ax[1,1].hist(df_partial['v'], bins = bins, color = 'k', density = False);\n",
    "\n",
    "ax[0,0].set_xlabel('vx (m/s)')\n",
    "ax[0,1].set_xlabel('vy (m/s)')\n",
    "ax[1,0].set_xlabel('vz (m/s)')\n",
    "ax[1,1].set_xlabel('v (m/s)')"
   ]
  },
  {
   "cell_type": "markdown",
   "id": "5eb98696-4ead-42c1-b4c0-70b1286961bc",
   "metadata": {},
   "source": [
    "### Distribution $v_x$ depending on $y$"
   ]
  },
  {
   "cell_type": "code",
   "execution_count": 37,
   "id": "dfb83331-d75f-4f9b-8288-0206cbc909bc",
   "metadata": {},
   "outputs": [],
   "source": [
    "df_particles['vx/U'] = df_particles['vx']/U\n",
    "df_particles['y/h'] = df_particles['y']/h"
   ]
  },
  {
   "cell_type": "code",
   "execution_count": 42,
   "id": "bf2d52f1-b85d-4a18-8f64-38a5ef76a826",
   "metadata": {},
   "outputs": [
    {
     "data": {
      "application/vnd.jupyter.widget-view+json": {
       "model_id": "7ec7dec45bb94ae4b2b10c0b5207c090",
       "version_major": 2,
       "version_minor": 0
      },
      "text/plain": [
       "Canvas(toolbar=Toolbar(toolitems=[('Home', 'Reset original view', 'home', 'home'), ('Back', 'Back to previous …"
      ]
     },
     "metadata": {},
     "output_type": "display_data"
    },
    {
     "data": {
      "text/plain": [
       "<AxesSubplot:xlabel='vx/U', ylabel='y/h'>"
      ]
     },
     "execution_count": 42,
     "metadata": {},
     "output_type": "execute_result"
    }
   ],
   "source": [
    "fig, ax = plt.subplots(constrained_layout = True)\n",
    "sns.histplot(data = df_partial, x = 'vx/U', y = 'y/h', cbar = True, bins = 40, stat = 'density', ax = ax)"
   ]
  },
  {
   "cell_type": "markdown",
   "id": "f827783c-67b3-4356-b0b8-46231d458bf9",
   "metadata": {},
   "source": [
    "### Profile - and dependance on the x-position"
   ]
  },
  {
   "cell_type": "code",
   "execution_count": null,
   "id": "69847cb5-e221-4e85-be31-a49af75ba006",
   "metadata": {},
   "outputs": [],
   "source": [
    "df_particles['y_int'] = (df_particles['y']/dy).astype(int) "
   ]
  },
  {
   "cell_type": "code",
   "execution_count": 149,
   "id": "fe2d4a5b-af1b-4305-99da-9b8b42add6be",
   "metadata": {},
   "outputs": [],
   "source": [
    "def plot_profile(ax, df, height, lenght, dx, dy, wall_speed, factor = 0):\n",
    "    # df['y_int'] = (df['y']/dy).astype(int) \n",
    "    if(factor == 0):\n",
    "        results = df.groupby('y_int').mean()['vx']\n",
    "    else:\n",
    "        df_partial_x_low = df.loc[df['x']<factor*dx]\n",
    "        df_partial_x_mid = df.loc[(df['x']<lenght-factor*dx) & (df_partial['x']>factor*dx)]\n",
    "        df_partial_x_high = df.loc[df['x']>lenght-factor*dx]\n",
    "        results_low = df_partial_x_low.groupby('y_int').mean()['vx']\n",
    "        results_mid = df_partial_x_mid.groupby('y_int').mean()['vx']\n",
    "        results_high = df_partial_x_high.groupby('y_int').mean()['vx']\n",
    "        \n",
    "    ax.set_xlabel('vx/U')\n",
    "    ax.set_ylabel('y/h')\n",
    "    if(factor == 0):\n",
    "        ax.plot(results.values/wall_speed, results.index*dy/height, color = 'k',  label = 'average')\n",
    "    else:\n",
    "        ax.plot(results_low.values/wall_speed, results_low.index*dy/height, color = 'r', label = 'x < {:.3}'.format(factor*dx/lenght))\n",
    "        ax.plot(results_mid.values/wall_speed, results_mid.index*dy/height, color = 'g',  label = '{:.3} < x < {:.3}'.format(factor*dx/lenght, 1-factor*dx/lenght))\n",
    "        ax.plot(results_high.values/wall_speed, results_high.index*dy/height, color = 'b',  label = '{:.3} < x'.format(1-factor*dx/lenght))\n",
    "    ax.legend(loc = 'lower right')\n",
    "    return ax"
   ]
  },
  {
   "cell_type": "code",
   "execution_count": 151,
   "id": "e0b838e1-e0d0-4a22-83cf-0eb5dc4bb4a4",
   "metadata": {},
   "outputs": [
    {
     "data": {
      "application/vnd.jupyter.widget-view+json": {
       "model_id": "739c4ccf25d84695b7d4f6c390b5b12d",
       "version_major": 2,
       "version_minor": 0
      },
      "text/plain": [
       "Canvas(toolbar=Toolbar(toolitems=[('Home', 'Reset original view', 'home', 'home'), ('Back', 'Back to previous …"
      ]
     },
     "metadata": {},
     "output_type": "display_data"
    },
    {
     "data": {
      "text/plain": [
       "<AxesSubplot:xlabel='vx/U', ylabel='y/h'>"
      ]
     },
     "execution_count": 151,
     "metadata": {},
     "output_type": "execute_result"
    }
   ],
   "source": [
    "fig, ax = plt.subplots(constrained_layout = True)\n",
    "plot_profile(ax, df_partial, height = h, lenght = l, dx = dx, dy = dy, wall_speed = U, factor = 3)"
   ]
  },
  {
   "cell_type": "markdown",
   "id": "12dc6e7b-d356-4e4a-a622-5d89bc5a6670",
   "metadata": {},
   "source": [
    "#### Prolonging profile near the top wall"
   ]
  },
  {
   "cell_type": "code",
   "execution_count": 89,
   "id": "2ab3925c-0601-4742-b19c-6a63fd7ac69b",
   "metadata": {},
   "outputs": [],
   "source": [
    "def prolong_profile(profile, values, height):\n",
    "    dy = values[1]-values[0]\n",
    "    first_der = (profile[1:]-profile[:profile.shape[0]-1])/dy\n",
    "    second_der = (first_der[1:]-first_der[:first_der.shape[0]-1])/dy\n",
    "    \n",
    "    dy_end = (height-values[-1])\n",
    "    prolong_first_order = profile[-1]+dy_end*first_der[-1]\n",
    "    prolong_second_order = prolong_first_order+0.5*dy_end*dy_end*second_der[-1]\n",
    "    \n",
    "    return values[-1]+dy_end, prolong_first_order, prolong_second_order"
   ]
  },
  {
   "cell_type": "code",
   "execution_count": 121,
   "id": "1f403aec-5c03-42be-9de9-9d82a13346ef",
   "metadata": {},
   "outputs": [
    {
     "name": "stdout",
     "output_type": "stream",
     "text": [
      "(0.001, 65.87592781197878, 69.84733577991821)\n"
     ]
    }
   ],
   "source": [
    "print(prolong_profile(results_mid.values,  results_mid.index.values*dy, h)) # y value, first prolong, 2nd one"
   ]
  },
  {
   "cell_type": "markdown",
   "id": "22d76544-1bdc-4144-884c-c1f05e7bc764",
   "metadata": {},
   "source": [
    "### Dependance of the profile on time\n",
    "\n",
    "We may not be in steady flow yet."
   ]
  },
  {
   "cell_type": "code",
   "execution_count": 166,
   "id": "6f6cfd21-ed83-49bb-a306-ec4ff65c52fd",
   "metadata": {},
   "outputs": [],
   "source": [
    "def plot_profile_evolution(ax, df, height, lenght, dx, dy, wall_speed, time_step, number_of_splits = 1):\n",
    "    s = df.shape[0]\n",
    "    number_of_frames_per_curve = s//number_of_splits\n",
    "    max_index = np.max(df.index.values)\n",
    "    number_of_true_frames = max_index//number_of_splits\n",
    "    for k in range(number_of_splits):\n",
    "        df_ = df[k*number_of_frames_per_curve:(k+1)*number_of_frames_per_curve]\n",
    "        results = df_.groupby('y_int').mean()['vx']\n",
    "        ax.plot(results.values/wall_speed, results.index*dy/height,  label = '{:.1e} < t < {:.1e} s'.format(time_step*k*number_of_true_frames, time_step*(k+1)*number_of_true_frames))\n",
    "\n",
    "    ax.set_xlabel('vx/U')\n",
    "    ax.set_ylabel('y/h')\n",
    "    ax.legend(loc = 'lower right')\n"
   ]
  },
  {
   "cell_type": "code",
   "execution_count": 167,
   "id": "a36fde48-eac9-4d5a-9604-73196cefa022",
   "metadata": {},
   "outputs": [
    {
     "data": {
      "application/vnd.jupyter.widget-view+json": {
       "model_id": "6abd72ace52b4cac8f2bcf2b764bca63",
       "version_major": 2,
       "version_minor": 0
      },
      "text/plain": [
       "Canvas(toolbar=Toolbar(toolitems=[('Home', 'Reset original view', 'home', 'home'), ('Back', 'Back to previous …"
      ]
     },
     "metadata": {},
     "output_type": "display_data"
    }
   ],
   "source": [
    "fig, ax = plt.subplots(constrained_layout = True)\n",
    "plot_profile_evolution(ax, df_particles, height = h, lenght = l, dx = dx, dy = dy,  wall_speed = U, time_step = dt, number_of_splits = 3)"
   ]
  }
 ],
 "metadata": {
  "kernelspec": {
   "display_name": "Python 3",
   "language": "python",
   "name": "python3"
  },
  "language_info": {
   "codemirror_mode": {
    "name": "ipython",
    "version": 3
   },
   "file_extension": ".py",
   "mimetype": "text/x-python",
   "name": "python",
   "nbconvert_exporter": "python",
   "pygments_lexer": "ipython3",
   "version": "3.7.10"
  }
 },
 "nbformat": 4,
 "nbformat_minor": 5
}
