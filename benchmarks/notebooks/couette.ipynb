{
 "cells": [
  {
   "cell_type": "markdown",
   "id": "a8b53218-4737-47e4-aef2-20fe760cb28e",
   "metadata": {
    "tags": []
   },
   "source": [
    "# Couette flow simulations"
   ]
  },
  {
   "cell_type": "code",
   "execution_count": 1,
   "id": "21f1fb8c-4d6c-47ad-bbc1-2d377440ba0e",
   "metadata": {},
   "outputs": [],
   "source": [
    "%matplotlib widget \n",
    "# global import\n",
    "import numpy as np\n",
    "import pandas as pd\n",
    "\n",
    "# plotting\n",
    "import matplotlib.pyplot as plt\n",
    "\n",
    "# local import\n",
    "import lppydsmc as ld"
   ]
  },
  {
   "cell_type": "markdown",
   "id": "0f66c6f6-1ed5-4535-949b-d6a0089e00a4",
   "metadata": {},
   "source": [
    "## General theory\n",
    "\n",
    "In the next sections, we will study the couette flow for three Knudsen number: 0.1, 1.0 and 10.\n",
    "\n",
    "The idea first is to compare to the results obtained by Bird (Molecular Gas Dynamic, 1994, section 12.2)\n"
   ]
  },
  {
   "cell_type": "code",
   "execution_count": 52,
   "id": "45beb0bf-bbce-4ecc-b090-241e5f064e4b",
   "metadata": {},
   "outputs": [
    {
     "data": {
      "text/plain": [
       "2941.176470588235"
      ]
     },
     "execution_count": 52,
     "metadata": {},
     "output_type": "execute_result"
    }
   ],
   "source": [
    "1/(2*1.7e-4) # to have a mean distance between 2 collisions of 1.7e-4m"
   ]
  },
  {
   "cell_type": "code",
   "execution_count": 53,
   "id": "97be5877-c3a2-416e-acf8-4960551fc51a",
   "metadata": {},
   "outputs": [
    {
     "data": {
      "text/plain": [
       "2000"
      ]
     },
     "execution_count": 53,
     "metadata": {},
     "output_type": "execute_result"
    }
   ],
   "source": [
    "250*8 # number of points on the graph * number of subcells (the subcells are only here to make 2 collisions closer)"
   ]
  },
  {
   "cell_type": "code",
   "execution_count": 55,
   "id": "53840377-4d33-48c2-a748-b92f64996ab4",
   "metadata": {},
   "outputs": [
    {
     "name": "stdout",
     "output_type": "stream",
     "text": [
      "11000.0\n",
      "472.72727272727275\n"
     ]
    }
   ],
   "source": [
    "sample_per_cell = 1.3e6\n",
    "dt = 2.5e-5 # s\n",
    "factor = 4\n",
    "sampling_time = 0.275 # sampling_time\n",
    "nb_iterations = sampling_time/dt\n",
    "nb_iterations_sampled = nb_iterations/factor\n",
    "mnpc = sample_per_cell/nb_iterations_sampled\n",
    "print(nb_iterations) # the total number is 15000. Bird wait 0.1s before sampling, and he take a sample every 4 dt.\n",
    "print(mnpc)"
   ]
  },
  {
   "cell_type": "code",
   "execution_count": 44,
   "id": "267a6ef6-a885-4c95-b55e-546f73bd4a3e",
   "metadata": {},
   "outputs": [
    {
     "data": {
      "text/plain": [
       "7.142857142857143"
      ]
     },
     "execution_count": 44,
     "metadata": {},
     "output_type": "execute_result"
    }
   ],
   "source": [
    "volume"
   ]
  },
  {
   "cell_type": "markdown",
   "id": "ff7e640e-69b3-4835-b06b-56814150214e",
   "metadata": {},
   "source": [
    "## Case 1 "
   ]
  },
  {
   "cell_type": "code",
   "execution_count": 2,
   "id": "8263db65-addc-4a40-8a40-d85b80e278d9",
   "metadata": {},
   "outputs": [],
   "source": [
    "path_couette_1 = \"/home/calot/Documents/projets/lppydsmc/benchmarks/config_files/couette_bird.ini\""
   ]
  },
  {
   "cell_type": "code",
   "execution_count": null,
   "id": "a47b00aa-4db1-4b98-90c5-d106c3820afa",
   "metadata": {},
   "outputs": [],
   "source": [
    "# launching simulations\n",
    "simulation = True\n",
    "if(simulation):\n",
    "    ld.main(path_couette_1, save = True); \n",
    "    # seems to be taking its time right now ... May be I should run it at night?"
   ]
  },
  {
   "cell_type": "markdown",
   "id": "6d3a859f-5b17-4e18-bd27-04f5053baf4d",
   "metadata": {},
   "source": [
    "### Loading Results"
   ]
  },
  {
   "cell_type": "code",
   "execution_count": 4,
   "id": "c679d2e8-d992-443e-8016-56e0fad2b106",
   "metadata": {},
   "outputs": [
    {
     "name": "stdout",
     "output_type": "stream",
     "text": [
      "['/dsmc_collisions', '/dsmc_tracking', '/particles', '/wall_collisions']\n"
     ]
    }
   ],
   "source": [
    "results_path = \"/home/calot/Documents/projets/lppydsmc/benchmarks/results/couette_1_2/monitoring.h5\" # seems ok ...\n",
    "store = pd.HDFStore(results_path)\n",
    "print(store.keys())"
   ]
  },
  {
   "cell_type": "code",
   "execution_count": 6,
   "id": "68b550db-94dc-4789-aac7-779cfcc846ce",
   "metadata": {},
   "outputs": [],
   "source": [
    "h = 1e-3\n",
    "l = 2.5e-5\n",
    "dy = h/40.\n",
    "dx = 2.5e-5\n",
    "U = 100 # m/s\n",
    "dt = 1e-7"
   ]
  },
  {
   "cell_type": "code",
   "execution_count": 7,
   "id": "01e76764-48cb-4349-a3a2-8bf8de43a937",
   "metadata": {},
   "outputs": [],
   "source": [
    "df_particles = store['particles']"
   ]
  },
  {
   "cell_type": "code",
   "execution_count": 8,
   "id": "1edea2f7-5e83-416a-9a8a-4c0678664f38",
   "metadata": {},
   "outputs": [],
   "source": [
    "df_particles['v2'] = df_particles['vx']*df_particles['vx']+df_particles['vy']*df_particles['vy']+df_particles['vz']*df_particles['vz']\n",
    "df_particles['v'] = np.sqrt(df_particles['v2'])"
   ]
  },
  {
   "cell_type": "code",
   "execution_count": 9,
   "id": "3b5e31b6-5ffa-45af-9677-e79548f7f668",
   "metadata": {},
   "outputs": [],
   "source": [
    "frames = 0.2 # taking the last 80% of the simulation\n",
    "max_frame = np.max(df_particles.index)\n",
    "df_partial = df_particles.loc[df_particles.index > frames*max_frame]"
   ]
  },
  {
   "cell_type": "markdown",
   "id": "62657e77-4216-418c-8e15-befbaaa4bc5d",
   "metadata": {},
   "source": [
    "### Scatter plot"
   ]
  },
  {
   "cell_type": "code",
   "execution_count": 10,
   "id": "38287eca-babf-40be-aa80-55d1a8da61b6",
   "metadata": {},
   "outputs": [
    {
     "data": {
      "application/vnd.jupyter.widget-view+json": {
       "model_id": "7419769562424b328f53c315c4e0d24b",
       "version_major": 2,
       "version_minor": 0
      },
      "text/plain": [
       "Canvas(toolbar=Toolbar(toolitems=[('Home', 'Reset original view', 'home', 'home'), ('Back', 'Back to previous …"
      ]
     },
     "metadata": {},
     "output_type": "display_data"
    },
    {
     "data": {
      "text/plain": [
       "<AxesSubplot:xlabel='x', ylabel='y'>"
      ]
     },
     "execution_count": 10,
     "metadata": {},
     "output_type": "execute_result"
    }
   ],
   "source": [
    "df_last_frame = df_partial.loc[df_partial.index == max_frame]\n",
    "fig, ax = plt.subplots(constrained_layout=True)\n",
    "ax.axis('equal')\n",
    "sns.scatterplot(data = df_last_frame, x='x',y='y');"
   ]
  },
  {
   "cell_type": "markdown",
   "id": "853ec39f-6136-4e1a-8339-21974b529a14",
   "metadata": {},
   "source": [
    "### Distribution"
   ]
  },
  {
   "cell_type": "code",
   "execution_count": 11,
   "id": "8f482895-1a79-4e90-8a70-f9b2233e77e3",
   "metadata": {},
   "outputs": [
    {
     "data": {
      "application/vnd.jupyter.widget-view+json": {
       "model_id": "ac46c891cf094c019fd8fbadbecf850f",
       "version_major": 2,
       "version_minor": 0
      },
      "text/plain": [
       "Canvas(toolbar=Toolbar(toolitems=[('Home', 'Reset original view', 'home', 'home'), ('Back', 'Back to previous …"
      ]
     },
     "metadata": {},
     "output_type": "display_data"
    },
    {
     "data": {
      "text/plain": [
       "Text(0.5, 0, 'v (m/s)')"
      ]
     },
     "execution_count": 11,
     "metadata": {},
     "output_type": "execute_result"
    }
   ],
   "source": [
    "bins = 100\n",
    "\n",
    "fig, ax = plt.subplots(2,2, constrained_layout = True)\n",
    "ax[0,0].hist(df_partial['vx'], bins = bins, color = 'r', density = False)\n",
    "ax[0,1].hist(df_partial['vy'], bins = bins, color = 'g', density = False)\n",
    "ax[1,0].hist(df_partial['vz'], bins = bins, color = 'b', density = False)\n",
    "ax[1,1].hist(df_partial['v'], bins = bins, color = 'k', density = False);\n",
    "\n",
    "ax[0,0].set_xlabel('vx (m/s)')\n",
    "ax[0,1].set_xlabel('vy (m/s)')\n",
    "ax[1,0].set_xlabel('vz (m/s)')\n",
    "ax[1,1].set_xlabel('v (m/s)')"
   ]
  },
  {
   "cell_type": "markdown",
   "id": "5eb98696-4ead-42c1-b4c0-70b1286961bc",
   "metadata": {},
   "source": [
    "### Distribution $v_x$ depending on $y$"
   ]
  },
  {
   "cell_type": "code",
   "execution_count": 16,
   "id": "dfb83331-d75f-4f9b-8288-0206cbc909bc",
   "metadata": {},
   "outputs": [],
   "source": [
    "df_particles['vx/U'] = df_particles['vx']/U\n",
    "df_particles['y/h'] = df_particles['y']/h\n",
    "df_partial = df_particles.loc[df_particles.index > frames*max_frame]"
   ]
  },
  {
   "cell_type": "code",
   "execution_count": 17,
   "id": "bf2d52f1-b85d-4a18-8f64-38a5ef76a826",
   "metadata": {},
   "outputs": [
    {
     "data": {
      "application/vnd.jupyter.widget-view+json": {
       "model_id": "80cda48a085f4e4ea087104b5561ea58",
       "version_major": 2,
       "version_minor": 0
      },
      "text/plain": [
       "Canvas(toolbar=Toolbar(toolitems=[('Home', 'Reset original view', 'home', 'home'), ('Back', 'Back to previous …"
      ]
     },
     "metadata": {},
     "output_type": "display_data"
    },
    {
     "data": {
      "text/plain": [
       "<AxesSubplot:xlabel='vx/U', ylabel='y/h'>"
      ]
     },
     "execution_count": 17,
     "metadata": {},
     "output_type": "execute_result"
    }
   ],
   "source": [
    "fig, ax = plt.subplots(constrained_layout = True)\n",
    "sns.histplot(data = df_partial, x = 'vx/U', y = 'y/h', cbar = True, bins = 40, stat = 'density', ax = ax)"
   ]
  },
  {
   "cell_type": "markdown",
   "id": "f827783c-67b3-4356-b0b8-46231d458bf9",
   "metadata": {},
   "source": [
    "### Profile - and dependance on the x-position"
   ]
  },
  {
   "cell_type": "code",
   "execution_count": 21,
   "id": "69847cb5-e221-4e85-be31-a49af75ba006",
   "metadata": {},
   "outputs": [],
   "source": [
    "df_particles['y_int'] = (df_particles['y']/dy).astype(int) \n",
    "df_partial = df_particles.loc[df_particles.index > frames*max_frame]"
   ]
  },
  {
   "cell_type": "code",
   "execution_count": 22,
   "id": "fe2d4a5b-af1b-4305-99da-9b8b42add6be",
   "metadata": {},
   "outputs": [],
   "source": [
    "def plot_profile(ax, df, height, lenght, dx, dy, wall_speed, factor = 0):\n",
    "    # df['y_int'] = (df['y']/dy).astype(int) \n",
    "    if(factor == 0):\n",
    "        results = df.groupby('y_int').mean()['vx']\n",
    "    else:\n",
    "        df_partial_x_low = df.loc[df['x']<factor*dx]\n",
    "        df_partial_x_mid = df.loc[(df['x']<lenght-factor*dx) & (df_partial['x']>factor*dx)]\n",
    "        df_partial_x_high = df.loc[df['x']>lenght-factor*dx]\n",
    "        results_low = df_partial_x_low.groupby('y_int').mean()['vx']\n",
    "        results_mid = df_partial_x_mid.groupby('y_int').mean()['vx']\n",
    "        results_high = df_partial_x_high.groupby('y_int').mean()['vx']\n",
    "        \n",
    "    ax.set_xlabel('vx/U')\n",
    "    ax.set_ylabel('y/h')\n",
    "    if(factor == 0):\n",
    "        ax.plot(results.values/wall_speed, results.index*dy/height, color = 'k',  label = 'average')\n",
    "    else:\n",
    "        ax.plot(results_low.values/wall_speed, results_low.index*dy/height, color = 'r', label = 'x < {:.3}'.format(factor*dx/lenght))\n",
    "        ax.plot(results_mid.values/wall_speed, results_mid.index*dy/height, color = 'g',  label = '{:.3} < x < {:.3}'.format(factor*dx/lenght, 1-factor*dx/lenght))\n",
    "        ax.plot(results_high.values/wall_speed, results_high.index*dy/height, color = 'b',  label = '{:.3} < x'.format(1-factor*dx/lenght))\n",
    "    ax.legend(loc = 'lower right')\n",
    "    return ax"
   ]
  },
  {
   "cell_type": "code",
   "execution_count": 34,
   "id": "e0b838e1-e0d0-4a22-83cf-0eb5dc4bb4a4",
   "metadata": {},
   "outputs": [
    {
     "data": {
      "application/vnd.jupyter.widget-view+json": {
       "model_id": "3762c0e0cee74782b9a8ed3b5464a529",
       "version_major": 2,
       "version_minor": 0
      },
      "text/plain": [
       "Canvas(toolbar=Toolbar(toolitems=[('Home', 'Reset original view', 'home', 'home'), ('Back', 'Back to previous …"
      ]
     },
     "metadata": {},
     "output_type": "display_data"
    },
    {
     "data": {
      "text/plain": [
       "<AxesSubplot:xlabel='vx/U', ylabel='y/h'>"
      ]
     },
     "execution_count": 34,
     "metadata": {},
     "output_type": "execute_result"
    }
   ],
   "source": [
    "fig, ax = plt.subplots(constrained_layout = True)\n",
    "plot_profile(ax, df_partial, height = h, lenght = l, dx = dx, dy = dy, wall_speed = U, factor = 0)"
   ]
  },
  {
   "cell_type": "markdown",
   "id": "12dc6e7b-d356-4e4a-a622-5d89bc5a6670",
   "metadata": {},
   "source": [
    "#### Prolonging profile near the top wall"
   ]
  },
  {
   "cell_type": "code",
   "execution_count": 24,
   "id": "2ab3925c-0601-4742-b19c-6a63fd7ac69b",
   "metadata": {},
   "outputs": [],
   "source": [
    "def prolong_profile(profile, values, height):\n",
    "    dy = values[1]-values[0]\n",
    "    first_der = (profile[1:]-profile[:profile.shape[0]-1])/dy\n",
    "    second_der = (first_der[1:]-first_der[:first_der.shape[0]-1])/dy\n",
    "    \n",
    "    dy_end = (height-values[-1])\n",
    "    prolong_first_order = profile[-1]+dy_end*first_der[-1]\n",
    "    prolong_second_order = prolong_first_order+0.5*dy_end*dy_end*second_der[-1]\n",
    "    \n",
    "    return values[-1]+dy_end, prolong_first_order, prolong_second_order"
   ]
  },
  {
   "cell_type": "code",
   "execution_count": 26,
   "id": "1f403aec-5c03-42be-9de9-9d82a13346ef",
   "metadata": {},
   "outputs": [
    {
     "name": "stdout",
     "output_type": "stream",
     "text": [
      "(0.001, 91.0200937832459, 87.89639465591756)\n"
     ]
    }
   ],
   "source": [
    "results = df_partial.groupby('y_int').mean()['vx']\n",
    "\n",
    "print(prolong_profile(results.values,  results.index.values*dy, h)) # y value, first prolong, 2nd one"
   ]
  },
  {
   "cell_type": "markdown",
   "id": "22d76544-1bdc-4144-884c-c1f05e7bc764",
   "metadata": {},
   "source": [
    "### Dependance of the profile on time\n",
    "\n",
    "We may not be in steady flow yet."
   ]
  },
  {
   "cell_type": "code",
   "execution_count": 27,
   "id": "6f6cfd21-ed83-49bb-a306-ec4ff65c52fd",
   "metadata": {},
   "outputs": [],
   "source": [
    "def plot_profile_evolution(ax, df, height, lenght, dx, dy, wall_speed, time_step, number_of_splits = 1):\n",
    "    s = df.shape[0]\n",
    "    number_of_frames_per_curve = s//number_of_splits\n",
    "    max_index = np.max(df.index.values)\n",
    "    number_of_true_frames = max_index//number_of_splits\n",
    "    for k in range(number_of_splits):\n",
    "        df_ = df[k*number_of_frames_per_curve:(k+1)*number_of_frames_per_curve]\n",
    "        results = df_.groupby('y_int').mean()['vx']\n",
    "        ax.plot(results.values/wall_speed, results.index*dy/height,  label = '{:.1e} < t < {:.1e} s'.format(time_step*k*number_of_true_frames, time_step*(k+1)*number_of_true_frames))\n",
    "\n",
    "    ax.set_xlabel('vx/U')\n",
    "    ax.set_ylabel('y/h')\n",
    "    ax.legend(loc = 'lower right')\n"
   ]
  },
  {
   "cell_type": "code",
   "execution_count": 29,
   "id": "a36fde48-eac9-4d5a-9604-73196cefa022",
   "metadata": {},
   "outputs": [
    {
     "data": {
      "application/vnd.jupyter.widget-view+json": {
       "model_id": "008b2386e79b405aa3ea6cab6d4e3e74",
       "version_major": 2,
       "version_minor": 0
      },
      "text/plain": [
       "Canvas(toolbar=Toolbar(toolitems=[('Home', 'Reset original view', 'home', 'home'), ('Back', 'Back to previous …"
      ]
     },
     "metadata": {},
     "output_type": "display_data"
    }
   ],
   "source": [
    "fig, ax = plt.subplots(constrained_layout = True)\n",
    "plot_profile_evolution(ax, df_particles, height = h, lenght = l, dx = dx, dy = dy,  wall_speed = U, time_step = dt, number_of_splits = 1)"
   ]
  },
  {
   "cell_type": "code",
   "execution_count": null,
   "id": "6dfc9668-ac4a-4d87-afcc-77cfe8b0adf0",
   "metadata": {},
   "outputs": [],
   "source": []
  }
 ],
 "metadata": {
  "kernelspec": {
   "display_name": "Python 3",
   "language": "python",
   "name": "python3"
  },
  "language_info": {
   "codemirror_mode": {
    "name": "ipython",
    "version": 3
   },
   "file_extension": ".py",
   "mimetype": "text/x-python",
   "name": "python",
   "nbconvert_exporter": "python",
   "pygments_lexer": "ipython3",
   "version": "3.7.10"
  }
 },
 "nbformat": 4,
 "nbformat_minor": 5
}
