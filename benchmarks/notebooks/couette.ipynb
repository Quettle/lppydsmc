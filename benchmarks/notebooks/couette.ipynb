{
 "cells": [
  {
   "cell_type": "code",
   "execution_count": 1,
   "id": "bda8abdd-2384-41c3-a282-100b38570532",
   "metadata": {},
   "outputs": [],
   "source": [
    "%matplotlib widget \n",
    "# global import\n",
    "import numpy as np\n",
    "import pandas as pd\n",
    "\n",
    "# plotting\n",
    "import matplotlib.pyplot as plt\n",
    "\n",
    "# local import\n",
    "import lppydsmc as ld"
   ]
  },
  {
   "cell_type": "code",
   "execution_count": 2,
   "id": "8263db65-addc-4a40-8a40-d85b80e278d9",
   "metadata": {},
   "outputs": [],
   "source": [
    "path_couette_1 = \"/home/calot/Documents/projets/lppydsmc/benchmarks/config_files/couette_1.ini\""
   ]
  },
  {
   "cell_type": "code",
   "execution_count": null,
   "id": "a47b00aa-4db1-4b98-90c5-d106c3820afa",
   "metadata": {},
   "outputs": [
    {
     "name": "stdout",
     "output_type": "stream",
     "text": [
      "|    it    |   INIT   |  INJECT  |   DEL    | C. WALLS | C. PARTS |  REACT   | EXEC TIME (s) |\n",
      "----------------------------------------------------------------------------------------------\n",
      "|    0     |  40000   |    NA    |    0     |    0     |    0     |    NA    |       0       |\n"
     ]
    }
   ],
   "source": [
    "# launching simulations\n",
    "ld.main(path_couette_1, save = True);"
   ]
  },
  {
   "cell_type": "code",
   "execution_count": null,
   "id": "c679d2e8-d992-443e-8016-56e0fad2b106",
   "metadata": {},
   "outputs": [],
   "source": []
  }
 ],
 "metadata": {
  "kernelspec": {
   "display_name": "Python 3",
   "language": "python",
   "name": "python3"
  },
  "language_info": {
   "codemirror_mode": {
    "name": "ipython",
    "version": 3
   },
   "file_extension": ".py",
   "mimetype": "text/x-python",
   "name": "python",
   "nbconvert_exporter": "python",
   "pygments_lexer": "ipython3",
   "version": "3.7.10"
  }
 },
 "nbformat": 4,
 "nbformat_minor": 5
}
