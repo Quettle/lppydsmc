{
 "cells": [
  {
   "cell_type": "markdown",
   "id": "a8b53218-4737-47e4-aef2-20fe760cb28e",
   "metadata": {
    "tags": []
   },
   "source": [
    "# Couette flow simulations"
   ]
  },
  {
   "cell_type": "code",
   "execution_count": 1,
   "id": "21f1fb8c-4d6c-47ad-bbc1-2d377440ba0e",
   "metadata": {},
   "outputs": [],
   "source": [
    "%matplotlib widget \n",
    "# global import\n",
    "import numpy as np\n",
    "import pandas as pd\n",
    "\n",
    "# plotting\n",
    "import matplotlib.pyplot as plt\n",
    "import seaborn as sns\n",
    "# local import\n",
    "import lppydsmc as ld"
   ]
  },
  {
   "cell_type": "markdown",
   "id": "0f66c6f6-1ed5-4535-949b-d6a0089e00a4",
   "metadata": {},
   "source": [
    "## General theory\n",
    "\n",
    "In the next sections, we will study the couette flow for three Knudsen number: 0.1, 1.0 and 10.\n",
    "\n",
    "The idea first is to compare to the results obtained by Bird (Molecular Gas Dynamic, 1994, section 12.2)\n"
   ]
  },
  {
   "cell_type": "code",
   "execution_count": 2,
   "id": "53840377-4d33-48c2-a748-b92f64996ab4",
   "metadata": {},
   "outputs": [
    {
     "name": "stdout",
     "output_type": "stream",
     "text": [
      "11000.0\n",
      "472.72727272727275\n"
     ]
    }
   ],
   "source": [
    "sample_per_cell = 1.3e6\n",
    "dt = 2.5e-5 # s\n",
    "factor = 4\n",
    "sampling_time = 0.275 # sampling_time\n",
    "nb_iterations = sampling_time/dt\n",
    "nb_iterations_sampled = nb_iterations/factor\n",
    "mnpc = sample_per_cell/nb_iterations_sampled\n",
    "print(nb_iterations) # the total number is 15000. Bird wait 0.1s before sampling, and he take a sample every 4 dt.\n",
    "print(mnpc)"
   ]
  },
  {
   "cell_type": "markdown",
   "id": "ff7e640e-69b3-4835-b06b-56814150214e",
   "metadata": {},
   "source": [
    "## Case 1 "
   ]
  },
  {
   "cell_type": "code",
   "execution_count": 3,
   "id": "8263db65-addc-4a40-8a40-d85b80e278d9",
   "metadata": {},
   "outputs": [],
   "source": [
    "path_couette_1 = \"/home/calot/Documents/projets/lppydsmc/benchmarks/config_files/couette_1.ini\""
   ]
  },
  {
   "cell_type": "code",
   "execution_count": 4,
   "id": "a47b00aa-4db1-4b98-90c5-d106c3820afa",
   "metadata": {},
   "outputs": [],
   "source": [
    "# launching simulations\n",
    "simulation = False\n",
    "if(simulation):\n",
    "    ld.main(path_couette_1, save = True); \n",
    "    # seems to be taking its time right now ... May be I should run it at night?"
   ]
  },
  {
   "cell_type": "markdown",
   "id": "6d3a859f-5b17-4e18-bd27-04f5053baf4d",
   "metadata": {},
   "source": [
    "### Loading Results"
   ]
  },
  {
   "cell_type": "code",
   "execution_count": 5,
   "id": "c679d2e8-d992-443e-8016-56e0fad2b106",
   "metadata": {},
   "outputs": [
    {
     "name": "stdout",
     "output_type": "stream",
     "text": [
      "['/dsmc_collisions', '/dsmc_tracking', '/particles', '/wall_collisions']\n"
     ]
    }
   ],
   "source": [
    "results_path = \"/home/paul/Documents/lppydsmc/benchmarks/results/couette_1_2/monitoring.h5\" # seems ok ...\n",
    "store = pd.HDFStore(results_path)\n",
    "print(store.keys())"
   ]
  },
  {
   "cell_type": "code",
   "execution_count": 6,
   "id": "68b550db-94dc-4789-aac7-779cfcc846ce",
   "metadata": {},
   "outputs": [],
   "source": [
    "h = 1e-3\n",
    "l = 2.5e-5\n",
    "dy = h/100.\n",
    "dx = 2.5e-5\n",
    "U = 300 # m/s\n",
    "dt = 1e-7\n",
    "dz = 1e-3\n",
    "\n",
    "mass = 2.16e-25 # kg\n",
    "volume_cell = dy*dx*dz\n",
    "particles_weight = 5000000000\n",
    "injection_density=2e+24"
   ]
  },
  {
   "cell_type": "code",
   "execution_count": 7,
   "id": "01e76764-48cb-4349-a3a2-8bf8de43a937",
   "metadata": {},
   "outputs": [],
   "source": [
    "df_particles = store['particles']"
   ]
  },
  {
   "cell_type": "code",
   "execution_count": 8,
   "id": "1edea2f7-5e83-416a-9a8a-4c0678664f38",
   "metadata": {},
   "outputs": [],
   "source": [
    "df_particles['v2'] = df_particles['vx']*df_particles['vx']+df_particles['vy']*df_particles['vy']+df_particles['vz']*df_particles['vz']\n",
    "df_particles['v'] = np.sqrt(df_particles['v2'])"
   ]
  },
  {
   "cell_type": "code",
   "execution_count": 9,
   "id": "3b5e31b6-5ffa-45af-9677-e79548f7f668",
   "metadata": {},
   "outputs": [],
   "source": [
    "frames = 0.2 # taking the last 80% of the simulation\n",
    "max_frame = np.max(df_particles.index)\n",
    "df_partial = df_particles.loc[df_particles.index > frames*max_frame]"
   ]
  },
  {
   "cell_type": "code",
   "execution_count": 10,
   "id": "796406ae-38b5-4bed-9fb8-7b551f7fdb1b",
   "metadata": {},
   "outputs": [],
   "source": [
    "df_particles = pd.DataFrame(df_partial)"
   ]
  },
  {
   "cell_type": "markdown",
   "id": "62657e77-4216-418c-8e15-befbaaa4bc5d",
   "metadata": {},
   "source": [
    "### Scatter plot"
   ]
  },
  {
   "cell_type": "code",
   "execution_count": 53,
   "id": "38287eca-babf-40be-aa80-55d1a8da61b6",
   "metadata": {},
   "outputs": [
    {
     "data": {
      "application/vnd.jupyter.widget-view+json": {
       "model_id": "61ee887cd1124734a14d22d6b15a999c",
       "version_major": 2,
       "version_minor": 0
      },
      "text/plain": [
       "Canvas(toolbar=Toolbar(toolitems=[('Home', 'Reset original view', 'home', 'home'), ('Back', 'Back to previous …"
      ]
     },
     "metadata": {},
     "output_type": "display_data"
    }
   ],
   "source": [
    "df_last_frame = df_partial.loc[df_partial.index == max_frame]\n",
    "fig, ax = plt.subplots(constrained_layout=True)\n",
    "ax.axis('equal')\n",
    "sns.scatterplot(data = df_last_frame, x='x',y='y');"
   ]
  },
  {
   "cell_type": "markdown",
   "id": "853ec39f-6136-4e1a-8339-21974b529a14",
   "metadata": {},
   "source": [
    "### Distribution"
   ]
  },
  {
   "cell_type": "code",
   "execution_count": null,
   "id": "8f482895-1a79-4e90-8a70-f9b2233e77e3",
   "metadata": {},
   "outputs": [],
   "source": [
    "bins = 100\n",
    "\n",
    "fig, ax = plt.subplots(2,2, constrained_layout = True)\n",
    "ax[0,0].hist(df_partial['vx'], bins = bins, color = 'r', density = False)\n",
    "ax[0,1].hist(df_partial['vy'], bins = bins, color = 'g', density = False)\n",
    "ax[1,0].hist(df_partial['vz'], bins = bins, color = 'b', density = False)\n",
    "ax[1,1].hist(df_partial['v'], bins = bins, color = 'k', density = False);\n",
    "\n",
    "ax[0,0].set_xlabel('vx (m/s)')\n",
    "ax[0,1].set_xlabel('vy (m/s)')\n",
    "ax[1,0].set_xlabel('vz (m/s)')\n",
    "ax[1,1].set_xlabel('v (m/s)');"
   ]
  },
  {
   "cell_type": "markdown",
   "id": "5eb98696-4ead-42c1-b4c0-70b1286961bc",
   "metadata": {},
   "source": [
    "### Distribution $v_x$ depending on $y$"
   ]
  },
  {
   "cell_type": "code",
   "execution_count": 13,
   "id": "dfb83331-d75f-4f9b-8288-0206cbc909bc",
   "metadata": {},
   "outputs": [],
   "source": [
    "df_particles['vx/U'] = df_particles['vx']/U\n",
    "df_particles['y/h'] = df_particles['y']/h\n",
    "df_partial = df_particles.loc[df_particles.index > frames*max_frame]"
   ]
  },
  {
   "cell_type": "code",
   "execution_count": null,
   "id": "bf2d52f1-b85d-4a18-8f64-38a5ef76a826",
   "metadata": {},
   "outputs": [],
   "source": [
    "fig, ax = plt.subplots(constrained_layout = True)\n",
    "sns.histplot(data = df_partial, x = 'vx/U', y = 'y/h', cbar = True, bins = 40, stat = 'density', ax = ax);"
   ]
  },
  {
   "cell_type": "markdown",
   "id": "f827783c-67b3-4356-b0b8-46231d458bf9",
   "metadata": {},
   "source": [
    "### Profile - and dependance on the x-position"
   ]
  },
  {
   "cell_type": "code",
   "execution_count": 15,
   "id": "69847cb5-e221-4e85-be31-a49af75ba006",
   "metadata": {},
   "outputs": [],
   "source": [
    "df_particles['y_int'] = (df_particles['y']/dy).astype(int) \n",
    "df_partial = df_particles.loc[df_particles.index > frames*max_frame]"
   ]
  },
  {
   "cell_type": "code",
   "execution_count": 69,
   "id": "fe2d4a5b-af1b-4305-99da-9b8b42add6be",
   "metadata": {},
   "outputs": [],
   "source": [
    "def plot_profile(ax, df, height, lenght, dx, dy, wall_speed, factor = 0):\n",
    "    # df['y_int'] = (df['y']/dy).astype(int) \n",
    "    if(factor == 0):\n",
    "        results = df.groupby('y_int').mean()['vx']\n",
    "    else:\n",
    "        df_partial_x_low = df.loc[df['x']<factor*dx]\n",
    "        df_partial_x_mid = df.loc[(df['x']<lenght-factor*dx) & (df_partial['x']>factor*dx)]\n",
    "        df_partial_x_high = df.loc[df['x']>lenght-factor*dx]\n",
    "        results_low = df_partial_x_low.groupby('y_int').mean()['vx']\n",
    "        results_mid = df_partial_x_mid.groupby('y_int').mean()['vx']\n",
    "        results_high = df_partial_x_high.groupby('y_int').mean()['vx']\n",
    "        \n",
    "    ax.set_xlabel('vx/U')\n",
    "    ax.set_ylabel('y/h')\n",
    "    if(factor == 0):\n",
    "        ax.plot(results.values/wall_speed, results.index*dy/height, '.',color = 'k',  label = 'average')\n",
    "    else:\n",
    "        ax.plot(results_low.values/wall_speed, results_low.index*dy/height,'.', color = 'r', label = 'x < {:.3}'.format(factor*dx/lenght))\n",
    "        ax.plot(results_mid.values/wall_speed, results_mid.index*dy/height, '.',color = 'g',  label = '{:.3} < x < {:.3}'.format(factor*dx/lenght, 1-factor*dx/lenght))\n",
    "        ax.plot(results_high.values/wall_speed, results_high.index*dy/height,'.', color = 'b',  label = '{:.3} < x'.format(1-factor*dx/lenght))\n",
    "    # ax.legend(loc = 'lower right')\n",
    "    return ax"
   ]
  },
  {
   "cell_type": "code",
   "execution_count": 70,
   "id": "e0b838e1-e0d0-4a22-83cf-0eb5dc4bb4a4",
   "metadata": {},
   "outputs": [
    {
     "data": {
      "application/vnd.jupyter.widget-view+json": {
       "model_id": "ed9770231660457783e1b630afbe447e",
       "version_major": 2,
       "version_minor": 0
      },
      "text/plain": [
       "Canvas(toolbar=Toolbar(toolitems=[('Home', 'Reset original view', 'home', 'home'), ('Back', 'Back to previous …"
      ]
     },
     "metadata": {},
     "output_type": "display_data"
    }
   ],
   "source": [
    "fig, ax = plt.subplots(constrained_layout = True)\n",
    "plot_profile(ax, df_partial, height = h, lenght = l, dx = dx, dy = dy, wall_speed = U, factor = 1);"
   ]
  },
  {
   "cell_type": "markdown",
   "id": "12dc6e7b-d356-4e4a-a622-5d89bc5a6670",
   "metadata": {},
   "source": [
    "#### Prolonging profile near the top wall"
   ]
  },
  {
   "cell_type": "code",
   "execution_count": 71,
   "id": "2ab3925c-0601-4742-b19c-6a63fd7ac69b",
   "metadata": {},
   "outputs": [],
   "source": [
    "def prolong_profile(profile, values, height):\n",
    "    dy = values[1]-values[0]\n",
    "    first_der = (profile[1:]-profile[:profile.shape[0]-1])/dy\n",
    "    second_der = (first_der[1:]-first_der[:first_der.shape[0]-1])/dy\n",
    "    \n",
    "    dy_end = (height-values[-1])\n",
    "    prolong_first_order = profile[-1]+dy_end*first_der[-1]\n",
    "    prolong_second_order = prolong_first_order+0.5*dy_end*dy_end*second_der[-1]\n",
    "    \n",
    "    return values[-1]+dy_end, prolong_first_order, prolong_second_order"
   ]
  },
  {
   "cell_type": "code",
   "execution_count": 76,
   "id": "1f403aec-5c03-42be-9de9-9d82a13346ef",
   "metadata": {},
   "outputs": [
    {
     "name": "stdout",
     "output_type": "stream",
     "text": [
      "(0.001, 284.9396610042644, 284.9210984684353)\n"
     ]
    }
   ],
   "source": [
    "results = df_partial.groupby('y_int').mean()['vx']\n",
    "\n",
    "print(prolong_profile(results.values,  results.index.values*dy, h)) # y value, first prolong, 2nd one"
   ]
  },
  {
   "cell_type": "markdown",
   "id": "22d76544-1bdc-4144-884c-c1f05e7bc764",
   "metadata": {},
   "source": [
    "### Dependance of the profile on time\n",
    "\n",
    "We may not be in steady flow yet."
   ]
  },
  {
   "cell_type": "code",
   "execution_count": 16,
   "id": "6f6cfd21-ed83-49bb-a306-ec4ff65c52fd",
   "metadata": {},
   "outputs": [],
   "source": [
    "def plot_profile_evolution(ax, df, height, lenght, dx, dy, wall_speed, time_step, number_of_splits = 1):\n",
    "    s = df.shape[0]\n",
    "    number_of_frames_per_curve = s//number_of_splits\n",
    "    max_index = np.max(df.index.values)\n",
    "    number_of_true_frames = max_index//number_of_splits\n",
    "    for k in range(number_of_splits):\n",
    "        df_ = df[k*number_of_frames_per_curve:(k+1)*number_of_frames_per_curve]\n",
    "        results = df_.groupby('y_int').mean()['vx']\n",
    "        ax.plot(results.values/wall_speed, results.index*dy/height,  label = '{:.1e} < t < {:.1e} s'.format(time_step*k*number_of_true_frames, time_step*(k+1)*number_of_true_frames))\n",
    "\n",
    "    ax.set_xlabel('vx/U')\n",
    "    ax.set_ylabel('y/h')\n",
    "    ax.legend(loc = 'lower right')\n"
   ]
  },
  {
   "cell_type": "code",
   "execution_count": 17,
   "id": "a36fde48-eac9-4d5a-9604-73196cefa022",
   "metadata": {},
   "outputs": [
    {
     "data": {
      "application/vnd.jupyter.widget-view+json": {
       "model_id": "d9ac66205457465b87f24088f20ac921",
       "version_major": 2,
       "version_minor": 0
      },
      "text/plain": [
       "Canvas(toolbar=Toolbar(toolitems=[('Home', 'Reset original view', 'home', 'home'), ('Back', 'Back to previous …"
      ]
     },
     "metadata": {},
     "output_type": "display_data"
    }
   ],
   "source": [
    "fig, ax = plt.subplots(constrained_layout = True)\n",
    "plot_profile_evolution(ax, df_particles, height = h, lenght = l, dx = dx, dy = dy,  wall_speed = U, time_step = dt, number_of_splits = 1)"
   ]
  },
  {
   "cell_type": "markdown",
   "id": "6de5b8b1-6bc0-4b4d-9512-5f6df587af54",
   "metadata": {},
   "source": [
    "# Temperatuere profile"
   ]
  },
  {
   "cell_type": "code",
   "execution_count": 18,
   "id": "e1418b16-4e8e-4e2d-afdb-9cc46a722927",
   "metadata": {},
   "outputs": [],
   "source": [
    "def plot_profile_temperature(ax, df, height, mass, factor = 0):    \n",
    "    ax.set_xlabel('T (K)')\n",
    "    ax.set_ylabel('y/h')\n",
    "    \n",
    "    # speed norm\n",
    "    df['v2'] = df['vx']*df['vx']+df['vy']*df['vy']+df['vz']*df['vz']\n",
    "    df['v'] = np.sqrt(df['v2'])\n",
    "\n",
    "    # drift \n",
    "    v_mean = df.groupby(df['y_int']).mean()\n",
    "    v_mean['drift2'] = v_mean['vx']*v_mean['vx']+v_mean['vy']*v_mean['vy']+v_mean['vz']*v_mean['vz']\n",
    "    v_mean['drift'] = np.sqrt(v_mean['drift2'])\n",
    "\n",
    "    # 3/2 k T = 1/2 m (<v²>-|<v>|²)\n",
    "    temperature = mass/(3.*ld.utils.physics.BOLTZMAN_CONSTANT)*(v_mean['v2']-v_mean['drift2'])\n",
    "    \n",
    "    ax.plot(temperature,v_mean['y']/height, '.')\n",
    "    # ax.legend(loc = 'lower right')\n",
    "    return ax"
   ]
  },
  {
   "cell_type": "code",
   "execution_count": 19,
   "id": "ff7da873-9879-45e7-82bc-1e615ffe5faf",
   "metadata": {},
   "outputs": [
    {
     "data": {
      "application/vnd.jupyter.widget-view+json": {
       "model_id": "4ead3234a6644d7585a6866dabac2f2d",
       "version_major": 2,
       "version_minor": 0
      },
      "text/plain": [
       "Canvas(toolbar=Toolbar(toolitems=[('Home', 'Reset original view', 'home', 'home'), ('Back', 'Back to previous …"
      ]
     },
     "metadata": {},
     "output_type": "display_data"
    }
   ],
   "source": [
    "fig, ax = plt.subplots(constrained_layout = True)\n",
    "plot_profile_temperature(ax, df_particles, height = h, mass = mass, factor = 1);"
   ]
  },
  {
   "cell_type": "code",
   "execution_count": 20,
   "id": "39d14939-9bd5-4fbe-b5a6-434afd20948b",
   "metadata": {},
   "outputs": [],
   "source": [
    "def plot_profile_density(ax, df, height, volume_cell, particles_weight):    \n",
    "    ax.set_xlabel('density ($m^{-3}$)')\n",
    "    ax.set_ylabel('y/h')\n",
    "    \n",
    "    # drift \n",
    "    df_count = df.groupby(df['y_int']).count()    \n",
    "    df_mean = df.groupby(df['y_int']).mean()    \n",
    "    ax.plot(df_count['y']/(volume_cell*df.index.unique().shape[0])*particles_weight,df_mean['y']/height,'.')\n",
    "    # ax.legend(loc = 'lower right')\n",
    "    return ax"
   ]
  },
  {
   "cell_type": "code",
   "execution_count": 21,
   "id": "ab2c19f3-f8a6-445e-835d-811fa3892f2c",
   "metadata": {},
   "outputs": [
    {
     "data": {
      "application/vnd.jupyter.widget-view+json": {
       "model_id": "3a77fb5d60df459eb5839275a397d2b2",
       "version_major": 2,
       "version_minor": 0
      },
      "text/plain": [
       "Canvas(toolbar=Toolbar(toolitems=[('Home', 'Reset original view', 'home', 'home'), ('Back', 'Back to previous …"
      ]
     },
     "metadata": {},
     "output_type": "display_data"
    }
   ],
   "source": [
    "fig, ax = plt.subplots(constrained_layout = True)\n",
    "plot_profile_density(ax, df_particles, height = h, volume_cell = volume_cell, particles_weight = particles_weight);"
   ]
  },
  {
   "cell_type": "markdown",
   "id": "3ff1d537-e743-4508-9997-d0f2b6979d67",
   "metadata": {},
   "source": [
    "# Shear stress\n",
    "\n",
    "Bird gives the formula page 285 : $\\tau_{x,y} = - n \\bar{(muv)}$.\n",
    "With :\n",
    "- $n$ the density.\n",
    "- $u$ the velocity along x\n",
    "- $v$ the velocity along y\n",
    "- $m$ the molecular mass"
   ]
  },
  {
   "cell_type": "code",
   "execution_count": 22,
   "id": "e5d202d7-c8c9-4415-b7d0-523e0e34550e",
   "metadata": {},
   "outputs": [],
   "source": [
    "def plot_shere_stress_profile(ax, df, height, density, mass):    \n",
    "    ax.set_xlabel('shear stress ($N.m^{-2}$)')\n",
    "    ax.set_ylabel('y/h')\n",
    "    \n",
    "    # drift\n",
    "    df['shear_stress'] = -density*mass*df['vx']*df['vy']\n",
    "    df_mean = df.groupby(df['y_int']).mean()    \n",
    "    ax.plot(df_mean['shear_stress'],df_mean['y']/height,'.')\n",
    "    # ax.legend(loc = 'lower right')\n",
    "    return ax"
   ]
  },
  {
   "cell_type": "code",
   "execution_count": 23,
   "id": "18abcb49-a906-41f6-9cfd-4fbf39474cd8",
   "metadata": {},
   "outputs": [
    {
     "data": {
      "application/vnd.jupyter.widget-view+json": {
       "model_id": "725abe2b86934a5c8fdfd9c473a3d515",
       "version_major": 2,
       "version_minor": 0
      },
      "text/plain": [
       "Canvas(toolbar=Toolbar(toolitems=[('Home', 'Reset original view', 'home', 'home'), ('Back', 'Back to previous …"
      ]
     },
     "metadata": {},
     "output_type": "display_data"
    },
    {
     "data": {
      "text/plain": [
       "<AxesSubplot:xlabel='shear stress ($N.m^{-2}$)', ylabel='y/h'>"
      ]
     },
     "execution_count": 23,
     "metadata": {},
     "output_type": "execute_result"
    }
   ],
   "source": [
    "fig, ax = plt.subplots(constrained_layout = True)\n",
    "plot_shere_stress_profile(ax, df_particles, h, injection_density, mass)"
   ]
  },
  {
   "cell_type": "code",
   "execution_count": null,
   "id": "e958b4ed-4e92-4558-8359-eed07dcffbca",
   "metadata": {},
   "outputs": [],
   "source": []
  }
 ],
 "metadata": {
  "kernelspec": {
   "display_name": "Python 3",
   "language": "python",
   "name": "python3"
  },
  "language_info": {
   "codemirror_mode": {
    "name": "ipython",
    "version": 3
   },
   "file_extension": ".py",
   "mimetype": "text/x-python",
   "name": "python",
   "nbconvert_exporter": "python",
   "pygments_lexer": "ipython3",
   "version": "3.7.10"
  }
 },
 "nbformat": 4,
 "nbformat_minor": 5
}
