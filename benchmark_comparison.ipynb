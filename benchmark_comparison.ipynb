{
 "cells": [
  {
   "cell_type": "markdown",
   "id": "20905b66-5884-4bda-9e14-a543f9317fc5",
   "metadata": {},
   "source": [
    "# Benchmarking by comparing to analytical and theoretical results"
   ]
  },
  {
   "cell_type": "markdown",
   "id": "561a0aff-c498-4f54-a6fa-f81c4f41a886",
   "metadata": {},
   "source": [
    "## TODO :\n",
    "\n",
    "Analyse des premiers résultats :\n",
    "- variation assez élevée du nombre de particules quittant le système à un instant donné (<25, mais varie entre 5 et 25)\n",
    "- les débits massiques en sortie ne correspondent pas (mais ça peut être normal, pour le coup ça dépend pas mal de données rentrées sur le site)\n",
    "Pour la suite, je vais essayer de comparer sur plusieurs nombre de particules par cellule : 100 - 200 - 500 - 1000 - 2000 - 5000 - 10000, pour commencer, sur environ $10^{-4}$ secondes. Soit, avec $dt = 5 \\times 10^{-7}$, on doit faire 10000 pas de temps.\n",
    "\n",
    "Avant cela, il y a également le problème des pas de temps et d'espace. Dans cet [article](https://www.sciencedirect.com/science/article/pii/S0045793015002558), on voit que les contraintes sont au nombre de quatre et plus subtiles que ce que j'ai considéré jusqu'à présent.\n"
   ]
  },
  {
   "cell_type": "markdown",
   "id": "44a7c860-cd55-475a-97c5-77902052d786",
   "metadata": {},
   "source": [
    "## Comparison with flow in tube\n",
    "\n",
    "[Link](http://fisica.ufpr.br/sharipov/tube.html)\n"
   ]
  },
  {
   "cell_type": "markdown",
   "id": "67281787-85d3-4ccf-a163-970198797752",
   "metadata": {},
   "source": [
    "Speed of sound : \n",
    " $$ v = \\sqrt{\\frac{\\gamma R T_K}{M}}$$\n",
    "with : \n",
    "* $\\gamma$ : the adiabatic index\n",
    "* $R = 8.314 \\text{ J.K.mol}^{-1}$ the gas constant\n",
    "* $T_K$ the temperature in Kelvin\n",
    "* $M$ the molecular mass\n",
    "\n",
    "\n",
    "For our case with Iodine $[I]$ :\n",
    "* $\\gamma = \\frac{5}{3}$\n",
    "* $T_K = 300 \\text{ K}$\n",
    "* $M \\approx 126.9 \\text{ g.mol}^{-1}$\n",
    "\n",
    "Which yields : $v \\approx  \\text{ m.s}^{-1}$"
   ]
  },
  {
   "cell_type": "code",
   "execution_count": 3,
   "id": "ffc1c5a6-8461-4f33-96d3-92a4fd5d1dac",
   "metadata": {},
   "outputs": [],
   "source": [
    "import numpy as np\n",
    "def speed_of_sound(molecular_mass, temperature, gamma):\n",
    "    # all units in SI\n",
    "    return np.sqrt(8.314*gamma*temperature/molecular_mass)"
   ]
  },
  {
   "cell_type": "code",
   "execution_count": 5,
   "id": "539ca483-0ae0-4b0a-a94d-d7e2ffd808d4",
   "metadata": {},
   "outputs": [
    {
     "name": "stdout",
     "output_type": "stream",
     "text": [
      "Speed of sound for iodine [I] at temperature 300 K : 180.99192585903475 m/s\n"
     ]
    }
   ],
   "source": [
    "gamma = 5/3.\n",
    "molecular_mass = 0.1269 # kg/mol\n",
    "temperature = 300 # K\n",
    "v = speed_of_sound(molecular_mass, temperature, gamma)\n",
    "print(f'Speed of sound for iodine [I] at temperature 300 K : {v} m/s')"
   ]
  },
  {
   "cell_type": "markdown",
   "id": "2156588c-2366-4246-bc06-ec6e9e91e56c",
   "metadata": {},
   "source": [
    "### Definition of the tube\n",
    "\n",
    "Imports : "
   ]
  },
  {
   "cell_type": "code",
   "execution_count": 9,
   "id": "8fd3cc45-0e1f-4caa-a7c7-344b4556bb44",
   "metadata": {},
   "outputs": [],
   "source": [
    "%matplotlib inline\n",
    "\n",
    "# system\n",
    "from src.system_creator import SystemCreator\n",
    "\n",
    "# Grid\n",
    "from src.utils import Grid, pos_in_grid, convert_to_grid_datatype\n",
    "\n",
    "# Particles\n",
    "from src.utils import Particle\n",
    "\n",
    "# injection \n",
    "from src.utils import inject\n",
    "\n",
    "# advection\n",
    "from src.utils import advect\n",
    "from src.utils import euler_explicit, leap_frog\n",
    "\n",
    "# collisions\n",
    "from src.utils import handler_wall_collision, handler_wall_collision_point, make_collisions_vectorized, make_collisions_out_walls, deal_with_corner\n",
    "\n",
    "# utils \n",
    "from src.utils import gaussian, maxwellian_flux, maxwellian_mean_speed, get_mass_part, mean_free_path, mean_free_time\n",
    "\n",
    "# systems\n",
    "from src.utils import thruster\n",
    "\n",
    "# plotting \n",
    "from src.plotting import plot_boundaries, plot_particles, plot_grid, plot_system\n",
    "\n",
    "# collisions between particles\n",
    "from src.utils import handler_particles_collisions, candidates # candidates, index_choosen_couples, probability, is_colliding, reflect, \n",
    "\n",
    "# other imports\n",
    "import numpy as np\n",
    "import matplotlib.pyplot as plt\n",
    "from tqdm import tqdm\n",
    "# from icecream import ic\n",
    "import pandas as pd\n",
    "# import seaborn as sns\n",
    "import os\n",
    "np.random.seed(1111)"
   ]
  },
  {
   "cell_type": "code",
   "execution_count": 12,
   "id": "10596e23-046f-4ce1-bfa6-65cff3008314",
   "metadata": {},
   "outputs": [
    {
     "data": {
      "image/png": "[encoded data removed]",
      "text/plain": [
       "<Figure size 432x288 with 1 Axes>"
      ]
     },
     "metadata": {
      "needs_background": "light"
     },
     "output_type": "display_data"
    }
   ],
   "source": [
    "# Square System :\n",
    "dz = 0.001\n",
    "idx_out_walls = [1,2] # no out walls\n",
    "\n",
    "segments = 0.001*3*np.array([[0,0,10,0], [0,0,0,1], [10,0,10,1], [0,1,10,1]]) # bottom, left, right, top\n",
    "system = SystemCreator(segments)\n",
    "\n",
    "offsets = system.get_offsets()\n",
    "system_shape = system.system_shape()\n",
    "a = system.get_dir_vects()\n",
    "segments = system.get_segments()\n",
    "extremal_values = system.get_extremal_values()\n",
    "\n",
    "fig, ax = plt.subplots()\n",
    "ax.axis('equal')\n",
    "plot_boundaries(ax, segments)"
   ]
  },
  {
   "cell_type": "code",
   "execution_count": 113,
   "id": "cc3e8f75-d4c2-4576-b754-d98dc19e231e",
   "metadata": {},
   "outputs": [],
   "source": [
    "AVOGADRO_CONSTANT = 6.02e23 # mol-1\n",
    "# grid :\n",
    "mean_number_per_cell = 1000\n",
    "max_number_per_cell = 10*mean_number_per_cell\n",
    "resolutions = np.array((20,2), dtype = int) # tube\n",
    "grid = Grid(resolutions, max_number_per_cell)\n",
    "volume_cell = dz * system_shape[0]/resolutions[0] * system_shape[1]/resolutions[1]\n",
    "\n",
    "# Particles - 1 type \n",
    "density = 3.2e19 # m-3\n",
    "n_simu = mean_number_per_cell*np.prod(resolutions) # number of particles in the simulated system\n",
    "n_real = volume_cell * density * np.prod(resolutions) # number of particles in the real system\n",
    "mr = n_real/n_simu # macro particules ratio = number of particles in the real system / number of macro part in the simulated system\n",
    "density_dsmc = density/mr\n",
    "temperature = 300 # K\n",
    "\n",
    "part_type = 'I'\n",
    "charge, mass, radius = 0, get_mass_part(53, 53, 74), 2e-10\n",
    "size_array = 2*mean_number_per_cell*np.prod(resolutions)\n",
    "v_mean = maxwellian_mean_speed(temperature, mass)\n",
    "container = Particle(part_type, charge, mass, radius, size_array)\n",
    "cross_section = container.get_params()[3]\n",
    "\n",
    "# mean free path and time\n",
    "mfp = mean_free_path(cross_section, density)\n",
    "typical_lenght = 0.001\n",
    "mft = mean_free_time(typical_lenght, v_mean = v_mean)\n",
    "\n",
    "    # Injection params\n",
    "in_wall = np.array([0,0,0,0.001], dtype = float) # tube\n",
    "in_vect = np.array([1,0], dtype = float)\n",
    "\n",
    "debit = maxwellian_flux(density_dsmc, v_mean)*np.linalg.norm(in_wall[:2]-in_wall[2:])*dz # particles per second\n",
    "vel_std = gaussian(temperature, mass)\n",
    "\n",
    "dt = 5e-7 # in sec, should be a fraction of the mean free time\n",
    "\n",
    "# advection\n",
    "def f(arr, dt):\n",
    "    return np.zeros(shape = (arr.shape[0], 3))\n",
    "args = []\n",
    "scheme = euler_explicit"
   ]
  },
  {
   "cell_type": "code",
   "execution_count": 114,
   "id": "9c537d15-bc94-4390-973a-fbb7aa1c3d70",
   "metadata": {},
   "outputs": [
    {
     "name": "stdout",
     "output_type": "stream",
     "text": [
      "Input mass flow rate : 3.786e-10 kg/s\n",
      "Equivalent pressure : 1.326e-01 Pa\n"
     ]
    }
   ],
   "source": [
    "print('Input mass flow rate : {:.3e} kg/s'.format(mr*debit*mass))\n",
    "print('Equivalent pressure : {:.3e} Pa'.format(density*8.314*temperature/AVOGADRO_CONSTANT))"
   ]
  },
  {
   "cell_type": "code",
   "execution_count": 115,
   "id": "7e55d71d-d9b1-4b7a-8493-8dca7e649a8c",
   "metadata": {},
   "outputs": [],
   "source": [
    "# NAME tests\n",
    "from pathlib import Path\n",
    "\n",
    "dir_path = Path('results/benchmark/tube-flow')\n",
    "\n",
    "name_df = dir_path/'df.h5'\n",
    "name_coll = dir_path/'collisions.npy'\n",
    "name_monitor_dsmc = dir_path/'monitor-dsmc.npy'\n",
    "name_pmax = dir_path/'pmaxes-evo.npy'\n",
    "name_average = dir_path/'averages-evo.npy'\n",
    "\n",
    "if(os.path.exists(dir_path)):\n",
    "    os.system('rm -f -r {}'.format(dir_path))\n",
    "os.makedirs(dir_path)"
   ]
  },
  {
   "cell_type": "code",
   "execution_count": 116,
   "id": "36241297-29b1-45b4-90d4-aea4eb7531f8",
   "metadata": {},
   "outputs": [
    {
     "name": "stdout",
     "output_type": "stream",
     "text": [
      "|    it    |   INIT   |  INJECT  |   DEL    |    TRY   |\n",
      "--------------------------------------------------------\n",
      "|    0     |    0     |    12    |    0     |    1     |\n",
      "|   100    |   1237   |    12    |    0     |    2     |\n",
      "|   200    |   2448   |    12    |    1     |    2     |\n",
      "|   300    |   3399   |    12    |    3     |    2     |\n",
      "|   400    |   4053   |    12    |    7     |    2     |\n",
      "|   500    |   4539   |    12    |    11    |    2     |\n",
      "|   600    |   4845   |    12    |    3     |    2     |\n",
      "|   700    |   5117   |    12    |    11    |    2     |\n",
      "|   800    |   5251   |    12    |    10    |    2     |\n",
      "|   900    |   5400   |    12    |    13    |    2     |\n",
      "|   1000   |   5529   |    12    |    11    |    2     |\n",
      "|   1100   |   5609   |    12    |    13    |    2     |\n",
      "|   1200   |   5685   |    12    |    8     |    2     |\n",
      "|   1300   |   5760   |    12    |    17    |    2     |\n",
      "|   1400   |   5823   |    12    |    15    |    2     |\n",
      "|   1500   |   5943   |    12    |    17    |    2     |\n",
      "|   1600   |   5964   |    12    |    12    |    2     |\n",
      "|   1700   |   5975   |    12    |    17    |    2     |\n",
      "|   1800   |   5955   |    12    |    10    |    2     |\n",
      "|   1900   |   5951   |    12    |    7     |    2     |\n",
      "|   2000   |   6054   |    12    |    7     |    2     |\n",
      "|   2100   |   6050   |    12    |    15    |    2     |\n",
      "|   2200   |   6089   |    12    |    11    |    2     |\n",
      "|   2300   |   6156   |    12    |    10    |    2     |\n",
      "|   2400   |   6161   |    12    |    8     |    2     |\n",
      "|   2500   |   6128   |    12    |    7     |    2     |\n",
      "|   2600   |   6159   |    13    |    9     |    2     |\n",
      "|   2700   |   6156   |    13    |    14    |    2     |\n",
      "|   2800   |   6176   |    13    |    13    |    2     |\n",
      "|   2900   |   6171   |    13    |    10    |    2     |\n",
      "|   3000   |   6214   |    13    |    9     |    2     |\n",
      "|   3100   |   6282   |    13    |    15    |    2     |\n",
      "|   3200   |   6330   |    13    |    14    |    2     |\n",
      "|   3300   |   6292   |    13    |    13    |    2     |\n",
      "|   3400   |   6343   |    13    |    18    |    2     |\n",
      "|   3500   |   6328   |    13    |    5     |    2     |\n",
      "|   3600   |   6342   |    13    |    10    |    2     |\n",
      "|   3700   |   6319   |    13    |    13    |    2     |\n",
      "|   3800   |   6319   |    13    |    15    |    2     |\n",
      "|   3900   |   6288   |    13    |    8     |    2     |\n",
      "|   4000   |   6289   |    13    |    14    |    2     |\n",
      "|   4100   |   6309   |    13    |    12    |    2     |\n",
      "|   4200   |   6287   |    12    |    15    |    2     |\n",
      "|   4300   |   6332   |    12    |    10    |    2     |\n",
      "|   4400   |   6314   |    12    |    14    |    2     |\n",
      "|   4500   |   6353   |    12    |    10    |    2     |\n",
      "|   4600   |   6330   |    12    |    11    |    2     |\n",
      "|   4700   |   6365   |    12    |    11    |    2     |\n",
      "|   4800   |   6328   |    12    |    11    |    2     |\n",
      "|   4900   |   6344   |    12    |    14    |    2     |\n",
      "|   5000   |   6378   |    12    |    11    |    2     |\n",
      "|   5100   |   6408   |    12    |    14    |    2     |\n",
      "|   5200   |   6426   |    12    |    9     |    2     |\n",
      "|   5300   |   6412   |    12    |    18    |    2     |\n",
      "|   5400   |   6407   |    12    |    17    |    2     |\n",
      "|   5500   |   6417   |    12    |    11    |    2     |\n",
      "|   5600   |   6431   |    12    |    9     |    2     |\n",
      "|   5700   |   6485   |    12    |    16    |    2     |\n",
      "|   5800   |   6423   |    12    |    12    |    2     |\n",
      "|   5900   |   6381   |    12    |    13    |    2     |\n",
      "|   6000   |   6424   |    12    |    9     |    2     |\n",
      "|   6100   |   6442   |    12    |    10    |    2     |\n",
      "|   6200   |   6395   |    12    |    7     |    2     |\n",
      "|   6300   |   6448   |    12    |    11    |    2     |\n",
      "|   6400   |   6407   |    12    |    11    |    2     |\n",
      "|   6500   |   6387   |    12    |    10    |    2     |\n",
      "|   6600   |   6388   |    12    |    6     |    2     |\n",
      "|   6700   |   6406   |    12    |    13    |    2     |\n",
      "|   6800   |   6358   |    13    |    12    |    2     |\n",
      "|   6900   |   6355   |    13    |    8     |    2     |\n",
      "|   7000   |   6358   |    13    |    5     |    2     |\n",
      "|   7100   |   6342   |    13    |    10    |    2     |\n",
      "|   7200   |   6373   |    13    |    19    |    2     |\n",
      "|   7300   |   6309   |    13    |    14    |    2     |\n",
      "|   7400   |   6369   |    13    |    13    |    2     |\n",
      "|   7500   |   6390   |    13    |    18    |    2     |\n",
      "|   7600   |   6410   |    13    |    12    |    2     |\n",
      "|   7700   |   6386   |    13    |    10    |    2     |\n",
      "|   7800   |   6408   |    13    |    16    |    2     |\n",
      "|   7900   |   6357   |    13    |    8     |    2     |\n",
      "|   8000   |   6369   |    13    |    14    |    2     |\n",
      "|   8100   |   6381   |    13    |    19    |    2     |\n",
      "|   8200   |   6444   |    13    |    9     |    2     |\n",
      "|   8300   |   6450   |    13    |    15    |    2     |\n",
      "|   8400   |   6458   |    12    |    8     |    2     |\n",
      "|   8500   |   6435   |    12    |    6     |    2     |\n",
      "|   8600   |   6454   |    12    |    16    |    2     |\n",
      "|   8700   |   6421   |    12    |    16    |    2     |\n",
      "|   8800   |   6455   |    12    |    13    |    2     |\n",
      "|   8900   |   6497   |    12    |    11    |    2     |\n",
      "|   9000   |   6517   |    12    |    15    |    2     |\n",
      "|   9100   |   6498   |    12    |    11    |    2     |\n",
      "|   9200   |   6497   |    12    |    16    |    2     |\n",
      "|   9300   |   6521   |    12    |    10    |    2     |\n",
      "|   9400   |   6533   |    12    |    6     |    2     |\n",
      "|   9500   |   6554   |    12    |    13    |    2     |\n",
      "|   9600   |   6521   |    12    |    16    |    2     |\n",
      "|   9700   |   6440   |    12    |    10    |    2     |\n",
      "|   9800   |   6461   |    12    |    16    |    2     |\n",
      "|   9900   |   6502   |    12    |    16    |    2     |\n"
     ]
    }
   ],
   "source": [
    "iterations = 10000\n",
    "\n",
    "store = pd.HDFStore(name_df)\n",
    "\n",
    "df = pd.DataFrame(columns = ['x','y','vx','vy','vz'])\n",
    "\n",
    "remains = 0\n",
    "saving_period = 100\n",
    "adding_period = 10\n",
    "\n",
    "averages = np.full(shape = grid.current.shape, fill_value = mean_number_per_cell)\n",
    "pmax = 2*v_mean*cross_section*np.ones(averages.shape)\n",
    "remains_per_cell = np.zeros(shape = grid.current.shape, dtype = float)\n",
    "\n",
    "# dsmc saving\n",
    "averages_evo = np.zeros((iterations, averages.shape[0], averages.shape[1]))\n",
    "pmax_evo = np.zeros((iterations, pmax.shape[0], pmax.shape[1]))\n",
    "arr_nb_colls = np.zeros((iterations, resolutions[0], resolutions[1]))\n",
    "monitors = np.zeros((iterations, 3))\n",
    "\n",
    "# delete partciles saving \n",
    "deleted_evo = np.zeros((iterations), dtype = int)\n",
    "print('|{:^10}|{:^10}|{:^10}|{:^10}|{:^10}|'.format(' it ', ' INIT ', ' INJECT ', ' DEL ', ' TRY'))\n",
    "print('{:-^56}'.format(''))\n",
    "\n",
    "for it in range(iterations): # tqdm\n",
    "    n1 = container.get_current()\n",
    "                   \n",
    "    # injecting particles - no injection\n",
    "    new, remains = inject(in_wall, in_vect, debit, vel_std, radius, dt, remains)\n",
    "    container.add_multiple(new)\n",
    "                   \n",
    "    n2 = container.get_current()-n1\n",
    "    \n",
    "    # PHASE : ADVECTING\n",
    "        # MOVING PARTICLES\n",
    "    arr = container.get_particles()\n",
    "    \n",
    "    if(it%adding_period == 0):\n",
    "        df = df.append(pd.DataFrame(data=arr, index=[it]*arr.shape[0], columns = ['x','y','vx','vy','vz']))\n",
    "    \n",
    "    advect(arr, f, dt, args, scheme) # advect is inplace\n",
    "    \n",
    "        # HANDLING BOUNDARIES \n",
    "    arr_save = np.copy(arr)\n",
    "    count = np.full(fill_value = True, shape = arr.shape[0])\n",
    "    idxes_out = []\n",
    "    c = 0\n",
    "    while(np.sum(count, where = count == True) > 0):\n",
    "        c+=1\n",
    "        ct, cp = handler_wall_collision_point(arr[count], segments, a) # handler_wall_collision(arr[count], segments, a, radius)\n",
    "        count, idxes_out_ = make_collisions_out_walls(arr, a, ct, cp, idx_out_walls, count) # idxes_out : indexes of the particles (in arr) that got out of the system\n",
    "        idxes_out.append(idxes_out_)\n",
    "    \n",
    "    idxes_out = np.concatenate(idxes_out)\n",
    "    # no need to delete anything (in theory)\n",
    "    container.delete_multiple(idxes_out)\n",
    "    deleted_evo[it] = len(idxes_out)\n",
    "    arr = container.get_particles()\n",
    "    \n",
    "    # PHASE : COLLISIONS\n",
    "        # UPDATING GRID - HARD RESET\n",
    "    grid.reset()\n",
    "    positions = pos_in_grid(arr[:,:2], resolutions, offsets, system_shape)\n",
    "    particles = convert_to_grid_datatype(positions, new = positions.shape[0])\n",
    "    grid.add_multiple(particles)\n",
    "        \n",
    "        # DSMC\n",
    "        # TODO: make parallel\n",
    "    currents = grid.get_currents()\n",
    "    averages = (it*averages+currents)/(it+1) # may be it too violent ? \n",
    "    \n",
    "    # saving for plotting later on\n",
    "    pmax_evo[it,:,:] = pmax[:,:]\n",
    "    averages_evo[it, :, :] = averages[:,:]\n",
    "    \n",
    "    remains_per_cell, nb_colls, new_pmax, monitor = handler_particles_collisions([arr], grid.get_grid(), currents, dt, averages, pmax, cross_section, volume_cell, mr, remains_per_cell, monitoring = True)\n",
    "    monitors[it] = monitor\n",
    "    arr_nb_colls[it,:,:] = nb_colls\n",
    "    \n",
    "    # PLOTTING AND SAVING (OPTIONAL)\n",
    "    if(it%saving_period==0):\n",
    "        store.append('df', df)\n",
    "        df = pd.DataFrame(columns = ['x','y','vx','vy','vz']) # this way not too much memory is used\n",
    "        print('|{:^10}|{:^10}|{:^10}|{:^10}|{:^10}|'.format(it, n1, n2, idxes_out.shape[0], c))\n",
    "   \n",
    "# saving back\n",
    "np.save(file = name_monitor_dsmc, arr = monitors, allow_pickle=False)\n",
    "np.save(file = name_coll, arr = arr_nb_colls, allow_pickle=False)\n",
    "np.save(file = name_pmax, arr = pmax_evo, allow_pickle=False)\n",
    "np.save(file = name_average, arr = averages_evo, allow_pickle=False)\n",
    "store.append('df', df)\n",
    "store.close()"
   ]
  },
  {
   "cell_type": "markdown",
   "id": "363ef7e0-3783-464d-bd3b-17b340727de4",
   "metadata": {},
   "source": [
    "### Analysis\n",
    "\n",
    "Objectives :\n",
    "* Extract the speed of the flow to compare it to the theoretical one\n",
    "* Compare mass flow rates in output"
   ]
  },
  {
   "cell_type": "code",
   "execution_count": 117,
   "id": "3c4d09a2-41e9-4fff-ad86-cbd1182ce7e5",
   "metadata": {},
   "outputs": [],
   "source": [
    "import pandas as pd\n",
    "import numpy as np\n",
    "import matplotlib.pyplot as plt\n",
    "\n",
    "# opening dataframe and array\n",
    "store = pd.HDFStore(name_df)\n",
    "df = store['df']\n",
    "arr_nb_colls = np.load(name_coll)\n",
    "monitors = np.load(name_monitor_dsmc)"
   ]
  },
  {
   "cell_type": "code",
   "execution_count": 135,
   "id": "552ad6c8-36ab-4e5c-84cc-3b397c191fa7",
   "metadata": {},
   "outputs": [
    {
     "data": {
      "image/png": "[encoded data removed]",
      "text/plain": [
       "<Figure size 432x288 with 1 Axes>"
      ]
     },
     "metadata": {
      "needs_background": "light"
     },
     "output_type": "display_data"
    }
   ],
   "source": [
    "# plt.plot(df['x'].groupby(df.index).agg('count').values);\n",
    "plt.plot(df.groupby(df.index).x.agg('count').values);"
   ]
  },
  {
   "cell_type": "code",
   "execution_count": 130,
   "id": "431043fb-9ec7-4586-a99c-7acb3fcbbd15",
   "metadata": {},
   "outputs": [
    {
     "name": "stdout",
     "output_type": "stream",
     "text": [
      "Total number of collision 23329\n"
     ]
    },
    {
     "data": {
      "image/png": "[encoded data removed]",
      "text/plain": [
       "<Figure size 432x288 with 1 Axes>"
      ]
     },
     "metadata": {
      "needs_background": "light"
     },
     "output_type": "display_data"
    }
   ],
   "source": [
    "collisions_evo = np.sum(arr_nb_colls, axis = (1,2))\n",
    "print('Total number of collision', int(np.sum(arr_nb_colls)));\n",
    "# number of collisions - evolution\n",
    "plt.plot(collisions_evo);"
   ]
  },
  {
   "cell_type": "code",
   "execution_count": 119,
   "id": "8a39c7bb-d72b-4bc5-8c55-52fef8e902ea",
   "metadata": {},
   "outputs": [
    {
     "name": "stdout",
     "output_type": "stream",
     "text": [
      "Mass flow rate : 3.773e-10 kg/s.\n"
     ]
    },
    {
     "data": {
      "image/png": "[encoded data removed]",
      "text/plain": [
       "<Figure size 432x288 with 1 Axes>"
      ]
     },
     "metadata": {
      "needs_background": "light"
     },
     "output_type": "display_data"
    }
   ],
   "source": [
    "plt.plot(deleted_evo)\n",
    "\n",
    "def compute_mass_flow_rate(qty, delta_time, mass):\n",
    "    return qty*mass/delta_time\n",
    "\n",
    "print('Mass flow rate : {:.3e} kg/s.'.format(compute_mass_flow_rate(mr*np.sum(deleted_evo[8000:]), delta_time = dt*2000, mass = mass)))"
   ]
  },
  {
   "cell_type": "code",
   "execution_count": 120,
   "id": "0fd6078d-b690-4d04-a7d8-b1521a1ed3ff",
   "metadata": {},
   "outputs": [],
   "source": [
    "# Mach number and speed flow\n",
    "min_it, max_it, step = iterations-2000, iterations, adding_period # we save every adding_period the state of the particles\n",
    "iterations_list = [k for k in range(min_it, max_it, step)]\n",
    "df_it = df.loc[np.isin(df.index,iterations_list) & (df['x']>0.009)]\n",
    "flow_speed = np.mean(df_it['vx'])"
   ]
  },
  {
   "cell_type": "code",
   "execution_count": 121,
   "id": "c856c79b-1a7a-44d4-aa22-d2a6cf7effbf",
   "metadata": {},
   "outputs": [
    {
     "name": "stdout",
     "output_type": "stream",
     "text": [
      "Mean speed along the x-axis for the last cell : 1.156e+02 m/s\n"
     ]
    }
   ],
   "source": [
    "print('Mean speed along the x-axis for the last cell : {:.3e} m/s'.format(flow_speed))"
   ]
  }
 ],
 "metadata": {
  "kernelspec": {
   "display_name": "Python 3",
   "language": "python",
   "name": "python3"
  },
  "language_info": {
   "codemirror_mode": {
    "name": "ipython",
    "version": 3
   },
   "file_extension": ".py",
   "mimetype": "text/x-python",
   "name": "python",
   "nbconvert_exporter": "python",
   "pygments_lexer": "ipython3",
   "version": "3.9.4"
  }
 },
 "nbformat": 4,
 "nbformat_minor": 5
}
