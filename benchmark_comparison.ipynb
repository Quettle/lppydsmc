{
 "cells": [
  {
   "cell_type": "markdown",
   "id": "20905b66-5884-4bda-9e14-a543f9317fc5",
   "metadata": {},
   "source": [
    "# Benchmarking by comparing to analytical and theoretical results"
   ]
  },
  {
   "cell_type": "markdown",
   "id": "561a0aff-c498-4f54-a6fa-f81c4f41a886",
   "metadata": {},
   "source": [
    "## TODO :\n",
    "\n",
    "Analyse des premiers résultats :\n",
    "- variation assez élevée du nombre de particules quittant le système à un instant donné (<25, mais varie entre 5 et 25)\n",
    "- les débits massiques en sortie ne correspondent pas (mais ça peut être normal, pour le coup ça dépend pas mal de données rentrées sur le site)\n",
    "Pour la suite, je vais essayer de comparer sur plusieurs nombre de particules par cellule : 100 - 200 - 500 - 1000 - 2000 - 5000 - 10000, pour commencer, sur environ $10^{-4}$ secondes. Soit, avec $dt = 5 \\times 10^{-7}$, on doit faire 10000 pas de temps.\n",
    "\n",
    "Avant cela, il y a également le problème des pas de temps et d'espace. Dans cet [article](https://www.sciencedirect.com/science/article/pii/S0045793015002558), on voit que les contraintes sont au nombre de quatre et plus subtiles que ce que j'ai considéré jusqu'à présent.\n"
   ]
  },
  {
   "cell_type": "markdown",
   "id": "44a7c860-cd55-475a-97c5-77902052d786",
   "metadata": {},
   "source": [
    "## Comparison with flow in tube\n",
    "\n",
    "[Link](http://fisica.ufpr.br/sharipov/tube.html)\n"
   ]
  },
  {
   "cell_type": "markdown",
   "id": "67281787-85d3-4ccf-a163-970198797752",
   "metadata": {},
   "source": [
    "Speed of sound : \n",
    " $$ v = \\sqrt{\\frac{\\gamma R T_K}{M}}$$\n",
    "with : \n",
    "* $\\gamma$ : the adiabatic index\n",
    "* $R = 8.314 \\text{ J.K.mol}^{-1}$ the gas constant\n",
    "* $T_K$ the temperature in Kelvin\n",
    "* $M$ the molecular mass\n",
    "\n",
    "\n",
    "For our case with Iodine $[I]$ :\n",
    "* $\\gamma = \\frac{5}{3}$\n",
    "* $T_K = 300 \\text{ K}$\n",
    "* $M \\approx 126.9 \\text{ g.mol}^{-1}$\n",
    "\n",
    "Which yields : $v \\approx  \\text{ m.s}^{-1}$"
   ]
  },
  {
   "cell_type": "code",
   "execution_count": 1,
   "id": "ffc1c5a6-8461-4f33-96d3-92a4fd5d1dac",
   "metadata": {},
   "outputs": [],
   "source": [
    "import numpy as np\n",
    "def speed_of_sound(molecular_mass, temperature, gamma):\n",
    "    # all units in SI\n",
    "    return np.sqrt(8.314*gamma*temperature/molecular_mass)"
   ]
  },
  {
   "cell_type": "code",
   "execution_count": 2,
   "id": "539ca483-0ae0-4b0a-a94d-d7e2ffd808d4",
   "metadata": {},
   "outputs": [
    {
     "name": "stdout",
     "output_type": "stream",
     "text": [
      "Speed of sound for iodine [I] at temperature 300 K : 180.99192585903475 m/s\n"
     ]
    }
   ],
   "source": [
    "gamma = 5/3.\n",
    "molecular_mass = 0.1269 # kg/mol\n",
    "temperature = 300 # K\n",
    "v = speed_of_sound(molecular_mass, temperature, gamma)\n",
    "print(f'Speed of sound for iodine [I] at temperature 300 K : {v} m/s')"
   ]
  },
  {
   "cell_type": "markdown",
   "id": "2156588c-2366-4246-bc06-ec6e9e91e56c",
   "metadata": {},
   "source": [
    "### Definition of the tube\n",
    "\n",
    "Imports : "
   ]
  },
  {
   "cell_type": "code",
   "execution_count": 21,
   "id": "8fd3cc45-0e1f-4caa-a7c7-344b4556bb44",
   "metadata": {},
   "outputs": [],
   "source": [
    "%matplotlib widget\n",
    "\n",
    "# system\n",
    "from src.system_creator import SystemCreator\n",
    "\n",
    "# Grid\n",
    "from src.utils import Grid, pos_in_grid, convert_to_grid_datatype\n",
    "\n",
    "# Particles\n",
    "from src.utils import Particle\n",
    "\n",
    "# injection \n",
    "from src.utils import inject\n",
    "\n",
    "# advection\n",
    "from src.utils import advect\n",
    "from src.utils import euler_explicit, leap_frog\n",
    "\n",
    "# collisions\n",
    "from src.utils import handler_wall_collision, handler_wall_collision_point, make_collisions_vectorized, make_collisions_out_walls, deal_with_corner\n",
    "\n",
    "# utils \n",
    "from src.utils import gaussian, maxwellian_flux, maxwellian_mean_speed, get_mass_part, mean_free_path, mean_free_time\n",
    "\n",
    "# systems\n",
    "from src.utils import systems\n",
    "\n",
    "# plotting \n",
    "from src.plotting import plot_boundaries, plot_particles, plot_grid, plot_system\n",
    "from src.plotting import analysis\n",
    "\n",
    "# collisions between particles\n",
    "from src.utils import handler_particles_collisions, candidates # candidates, index_choosen_couples, probability, is_colliding, reflect, \n",
    "\n",
    "# saving \n",
    "from src.data import Saver\n",
    "\n",
    "# other imports\n",
    "import numpy as np\n",
    "import matplotlib.pyplot as plt\n",
    "from tqdm import tqdm\n",
    "import pandas as pd\n",
    "import seaborn as sns\n",
    "import os\n",
    "np.random.seed(1111)"
   ]
  },
  {
   "cell_type": "code",
   "execution_count": 22,
   "id": "10596e23-046f-4ce1-bfa6-65cff3008314",
   "metadata": {},
   "outputs": [
    {
     "data": {
      "application/vnd.jupyter.widget-view+json": {
       "model_id": "9fc4cd0bb145489c98283dee786fc3ac",
       "version_major": 2,
       "version_minor": 0
      },
      "text/plain": [
       "Canvas(toolbar=Toolbar(toolitems=[('Home', 'Reset original view', 'home', 'home'), ('Back', 'Back to previous …"
      ]
     },
     "metadata": {},
     "output_type": "display_data"
    }
   ],
   "source": [
    "# Square System :\n",
    "dz = 0.001\n",
    "idx_out_walls = [1,2] # no out walls\n",
    "\n",
    "segments = 0.001*3*np.array([[0,0,10,0], [0,0,0,1], [10,0,10,1], [0,1,10,1]]) # bottom, left, right, top\n",
    "system = SystemCreator(segments)\n",
    "\n",
    "offsets = system.get_offsets()\n",
    "system_shape = system.system_shape()\n",
    "a = system.get_dir_vects()\n",
    "segments = system.get_segments()\n",
    "extremal_values = system.get_extremal_values()\n",
    "\n",
    "fig, ax = plt.subplots()\n",
    "ax.axis('equal')\n",
    "plot_boundaries(ax, segments)"
   ]
  },
  {
   "cell_type": "code",
   "execution_count": 23,
   "id": "cc3e8f75-d4c2-4576-b754-d98dc19e231e",
   "metadata": {},
   "outputs": [],
   "source": [
    "AVOGADRO_CONSTANT = 6.02e23 # mol-1\n",
    "\n",
    "# grid :\n",
    "mean_number_per_cell = 100\n",
    "max_number_per_cell = 10*mean_number_per_cell\n",
    "resolutions = np.array((20,2), dtype = int) # tube\n",
    "grid = Grid(resolutions, max_number_per_cell)\n",
    "volume_cell = dz * system_shape[0]/resolutions[0] * system_shape[1]/resolutions[1]\n",
    "\n",
    "# Particles - 1 type \n",
    "density = 3.2e19 # m-3\n",
    "n_simu = mean_number_per_cell*np.prod(resolutions) # number of particles in the simulated system\n",
    "n_real = volume_cell * density * np.prod(resolutions) # number of particles in the real system\n",
    "mr = n_real/n_simu # macro particules ratio = number of particles in the real system / number of macro part in the simulated system\n",
    "density_dsmc = density/mr\n",
    "temperature = 300 # K\n",
    "\n",
    "part_type = 'I'\n",
    "charge, mass, radius = 0, get_mass_part(53, 53, 74), 2e-10\n",
    "size_array = 2*mean_number_per_cell*np.prod(resolutions)\n",
    "v_mean = maxwellian_mean_speed(temperature, mass)\n",
    "container = Particle(part_type, charge, mass, radius, size_array)\n",
    "cross_section = container.get_params()[3]\n",
    "\n",
    "    # mean free path and time\n",
    "mfp = mean_free_path(cross_section, density)\n",
    "typical_lenght = 0.001\n",
    "mft = mean_free_time(typical_lenght, v_mean = v_mean)\n",
    "\n",
    "    # Injection params\n",
    "in_wall = np.array([0,0,0,0.001], dtype = float) # tube\n",
    "in_vect = np.array([1,0], dtype = float)\n",
    "\n",
    "debit = maxwellian_flux(density_dsmc, v_mean)*np.linalg.norm(in_wall[:2]-in_wall[2:])*dz # particles per second\n",
    "vel_std = gaussian(temperature, mass)\n",
    "\n",
    "    # Simulation params\n",
    "iterations = 1000\n",
    "dt = 1e-5 # in sec, should be a fraction of the mean free time\n",
    "    \n",
    "    # saving params\n",
    "saving_period = 100\n",
    "adding_period = 10\n",
    "\n",
    "    # advection\n",
    "def f(arr, dt):\n",
    "    return np.zeros(shape = (arr.shape[0], 3))\n",
    "args = []\n",
    "scheme = euler_explicit"
   ]
  },
  {
   "cell_type": "code",
   "execution_count": 6,
   "id": "9c537d15-bc94-4390-973a-fbb7aa1c3d70",
   "metadata": {},
   "outputs": [
    {
     "name": "stdout",
     "output_type": "stream",
     "text": [
      "Input mass flow rate : 3.786e-10 kg/s\n",
      "Equivalent pressure : 1.326e-01 Pa\n",
      "Fraction between the mean deplacement per time step and the mean free path : 3.584441e-02 \n"
     ]
    }
   ],
   "source": [
    "print('Input mass flow rate : {:.3e} kg/s'.format(mr*debit*mass))\n",
    "print('Equivalent pressure : {:.3e} Pa'.format(density*8.314*temperature/AVOGADRO_CONSTANT))\n",
    "print('Fraction between the mean deplacement per time step and the mean free path : {:e} '.format(dt*v_mean/mfp))"
   ]
  },
  {
   "cell_type": "code",
   "execution_count": 7,
   "id": "7e55d71d-d9b1-4b7a-8493-8dca7e649a8c",
   "metadata": {},
   "outputs": [],
   "source": [
    "# NAME tests\n",
    "from pathlib import Path\n",
    "\n",
    "dir_path = Path('results/benchmark/')\n",
    "name = 'tube-flow.h5'\n",
    "\n",
    "saver = Saver(dir_path, name)"
   ]
  },
  {
   "cell_type": "code",
   "execution_count": 8,
   "id": "36241297-29b1-45b4-90d4-aea4eb7531f8",
   "metadata": {},
   "outputs": [
    {
     "name": "stdout",
     "output_type": "stream",
     "text": [
      "|    it    |   INIT   |  INJECT  |   DEL    |    TRY   |\n",
      "--------------------------------------------------------\n",
      "|    0     |    0     |    24    |    0     |    2     |\n",
      "|   100    |   596    |    24    |    33    |    3     |\n",
      "|   200    |   616    |    24    |    24    |    3     |\n",
      "|   300    |   600    |    24    |    20    |    3     |\n",
      "|   400    |   621    |    24    |    22    |    3     |\n",
      "|   500    |   620    |    24    |    32    |    3     |\n",
      "|   600    |   619    |    25    |    29    |    3     |\n",
      "|   700    |   643    |    25    |    24    |    3     |\n",
      "|   800    |   655    |    25    |    27    |    3     |\n",
      "|   900    |   651    |    25    |    26    |    3     |\n",
      "|   999    |   629    |    25    |    22    |    3     |\n"
     ]
    }
   ],
   "source": [
    "df = pd.DataFrame(columns = ['x','y','vx','vy','vz']) # bucket for the particles - index of particles is the iteration number\n",
    "\n",
    "# defining useful arrays and ints \n",
    "remains = 0 # fractionnal part of the number of particles to inject (it is then passed to the following time step)\n",
    "averages = np.full(shape = grid.current.shape, fill_value = mean_number_per_cell) # average number of particles per cell\n",
    "pmax = 2*v_mean*cross_section*np.ones(averages.shape) # max proba per cell in the simu\n",
    "remains_per_cell = np.zeros(shape = grid.current.shape, dtype = float) # remains per cell for the particles collisions step\n",
    "\n",
    "# SIMULATING\n",
    "print('|{:^10}|{:^10}|{:^10}|{:^10}|{:^10}|'.format(' it ', ' INIT ', ' INJECT ', ' DEL ', ' TRY'))\n",
    "print('{:-^56}'.format(''))\n",
    "\n",
    "for it in range(iterations): # tqdm\n",
    "    n1 = container.get_current()\n",
    "                   \n",
    "    # injecting particles\n",
    "    new, remains = inject(in_wall, in_vect, debit, vel_std, radius, dt, remains)\n",
    "    container.add_multiple(new)\n",
    "                   \n",
    "    n2 = container.get_current()-n1\n",
    "    \n",
    "    # PHASE : ADVECTING\n",
    "        # MOVING PARTICLES\n",
    "    arr = container.get_particles()\n",
    "    \n",
    "    if(it%adding_period == 0):\n",
    "        df = df.append(pd.DataFrame(data=arr, index=[it]*arr.shape[0], columns = ['x','y','vx','vy','vz']))\n",
    "    \n",
    "    advect(arr, f, dt, args, scheme) # advect is inplace\n",
    "    \n",
    "        # HANDLING BOUNDARIES \n",
    "    count = np.full(fill_value = True, shape = arr.shape[0])\n",
    "    idxes_out = []\n",
    "    c = 0\n",
    "    while(np.sum(count, where = count == True) > 0):\n",
    "        c+=1\n",
    "        ct, cp = handler_wall_collision_point(arr[count], segments, a) # handler_wall_collision(arr[count], segments, a, radius)\n",
    "        count, idxes_out_ = make_collisions_out_walls(arr, a, ct, cp, idx_out_walls, count) # idxes_out : indexes of the particles (in arr) that got out of the system\n",
    "        idxes_out.append(idxes_out_)\n",
    "    \n",
    "    idxes_out = np.concatenate(idxes_out)\n",
    "    \n",
    "    # TODO : make delete multiple better - currently the function creates a new array where as we can do it inplace.\n",
    "    container.delete_multiple(idxes_out)\n",
    "    \n",
    "    arr = container.get_particles()\n",
    "    \n",
    "    # PHASE : COLLISIONS\n",
    "        # UPDATING GRID - HARD RESET\n",
    "        # TODO : change the way it's done\n",
    "    grid.reset()\n",
    "    positions = pos_in_grid(arr[:,:2], resolutions, offsets, system_shape)\n",
    "    particles = convert_to_grid_datatype(positions, new = positions.shape[0])\n",
    "    grid.add_multiple(particles)\n",
    "        \n",
    "        # DSMC\n",
    "        # TODO: make parallel\n",
    "    currents = grid.get_currents()\n",
    "    averages = (it*averages+currents)/(it+1) # may be it too violent ? \n",
    "    \n",
    "    remains_per_cell, nb_colls, pmax, monitor = handler_particles_collisions([arr], grid.get_grid(), currents, dt, averages, pmax, cross_section, volume_cell, mr, remains_per_cell, monitoring = True)\n",
    "    # PLOTTING AND SAVING (OPTIONAL)\n",
    "    if(it%saving_period==0 or it == iterations-1): # saving if last iterations too\n",
    "        saver.save(it = it, append = {\n",
    "                        'df' : df,\n",
    "                        'collisions_per_cell' : nb_colls, # evolution of the number of collisions per cell - size : grid.shape[0] x grid.shape[1] (2D)\n",
    "                        'total_distance' : float(monitor[0]), # evolution of the sum of the distance accross all cells \n",
    "                        'total_proba' : float(monitor[1]), # evolution of the sum of proba accross all cells\n",
    "                        'pmax_per_cell' : pmax,  # evolution of the sum of pmax - per cell (2D)\n",
    "                        'total_deleted' : len(idxes_out), # evolution of the number of deleted particles per cell (int)\n",
    "                        'averages_per_cell' : averages\n",
    "                  })\n",
    "        \n",
    "        # resetting dataframe to not use too much memory\n",
    "        df = pd.DataFrame(columns = ['x','y','vx','vy','vz']) \n",
    "        print('|{:^10}|{:^10}|{:^10}|{:^10}|{:^10}|'.format(it, n1, n2, idxes_out.shape[0], c))\n",
    "   \n",
    "saver.close()"
   ]
  },
  {
   "cell_type": "markdown",
   "id": "363ef7e0-3783-464d-bd3b-17b340727de4",
   "metadata": {},
   "source": [
    "### Analysis\n",
    "\n",
    "Objectives :\n",
    "* Extract the speed of the flow to compare it to the theoretical one\n",
    "* Compare mass flow rates in output"
   ]
  },
  {
   "cell_type": "code",
   "execution_count": 11,
   "id": "3c4d09a2-41e9-4fff-ad86-cbd1182ce7e5",
   "metadata": {},
   "outputs": [],
   "source": [
    "%matplotlib widget\n",
    "\n",
    "import pandas as pd\n",
    "import numpy as np\n",
    "import matplotlib.pyplot as plt\n",
    "from pathlib import Path\n",
    "from src.data import Saver\n",
    "from src.plotting import analysis\n",
    "dir_path = Path('results/benchmark/')\n",
    "name = 'tube-flow.h5'\n",
    "\n",
    "store = pd.HDFStore(dir_path/name)"
   ]
  },
  {
   "cell_type": "code",
   "execution_count": 12,
   "id": "cd31982b-4376-4fd8-9e03-48694a330488",
   "metadata": {},
   "outputs": [
    {
     "data": {
      "text/plain": [
       "['/collisions_per_cell',\n",
       " '/df',\n",
       " '/pmax_per_cell',\n",
       " '/total_deleted',\n",
       " '/total_distance',\n",
       " '/total_proba']"
      ]
     },
     "execution_count": 12,
     "metadata": {},
     "output_type": "execute_result"
    }
   ],
   "source": [
    "store.keys()\n"
   ]
  },
  {
   "cell_type": "code",
   "execution_count": 26,
   "id": "c252d6cb-5908-419c-881b-44255d8a193b",
   "metadata": {},
   "outputs": [],
   "source": [
    "\n",
    "df = store['df']"
   ]
  },
  {
   "cell_type": "code",
   "execution_count": 13,
   "id": "3172df6e-3476-4102-818f-1496a7c121f6",
   "metadata": {},
   "outputs": [
    {
     "data": {
      "application/vnd.jupyter.widget-view+json": {
       "model_id": "0a64811ff5fc47e083b52f390fb8261e",
       "version_major": 2,
       "version_minor": 0
      },
      "text/plain": [
       "Canvas(toolbar=Toolbar(toolitems=[('Home', 'Reset original view', 'home', 'home'), ('Back', 'Back to previous …"
      ]
     },
     "metadata": {},
     "output_type": "display_data"
    },
    {
     "data": {
      "text/plain": [
       "[<matplotlib.lines.Line2D at 0x7fe6ce899340>]"
      ]
     },
     "execution_count": 13,
     "metadata": {},
     "output_type": "execute_result"
    }
   ],
   "source": [
    "# plotting pmax evolution\n",
    "pmax_per_cell = store['pmax_per_cell']\n",
    "\n",
    "fig, ax = plt.subplots()\n",
    "ax.plot(pmax_per_cell.groupby(pmax_per_cell.index).mean())"
   ]
  },
  {
   "cell_type": "code",
   "execution_count": 17,
   "id": "19e2224a-b55a-476c-86df-e48bfbb25ae8",
   "metadata": {},
   "outputs": [],
   "source": [
    "nb_collisions_per_cell = store['collisions_per_cell']\n",
    "nb_collisions_per_cell = nb_collisions_per_cell.groupby(nb_collisions_per_cell.index).sum()"
   ]
  },
  {
   "cell_type": "code",
   "execution_count": 18,
   "id": "06c57a32-9b49-48d9-bb25-7a0d93de051f",
   "metadata": {},
   "outputs": [
    {
     "data": {
      "application/vnd.jupyter.widget-view+json": {
       "model_id": "896bb8245afc4c8e9b5acc99c5d2fc74",
       "version_major": 2,
       "version_minor": 0
      },
      "text/plain": [
       "Canvas(toolbar=Toolbar(toolitems=[('Home', 'Reset original view', 'home', 'home'), ('Back', 'Back to previous …"
      ]
     },
     "metadata": {},
     "output_type": "display_data"
    },
    {
     "data": {
      "text/plain": [
       "[<matplotlib.lines.Line2D at 0x7fe6ce61d520>]"
      ]
     },
     "execution_count": 18,
     "metadata": {},
     "output_type": "execute_result"
    }
   ],
   "source": [
    "fig, ax = plt.subplots()\n",
    "plt.plot(collisions_per_cell)"
   ]
  },
  {
   "cell_type": "code",
   "execution_count": 19,
   "id": "552ad6c8-36ab-4e5c-84cc-3b397c191fa7",
   "metadata": {},
   "outputs": [
    {
     "data": {
      "application/vnd.jupyter.widget-view+json": {
       "model_id": "dfe293742244436e901ac1e53b22adc5",
       "version_major": 2,
       "version_minor": 0
      },
      "text/plain": [
       "Canvas(toolbar=Toolbar(toolitems=[('Home', 'Reset original view', 'home', 'home'), ('Back', 'Back to previous …"
      ]
     },
     "metadata": {},
     "output_type": "display_data"
    }
   ],
   "source": [
    "fig, ax = plt.subplots()\n",
    "analysis.nb_particles_evolution(ax, store['df'])"
   ]
  },
  {
   "cell_type": "code",
   "execution_count": 20,
   "id": "ed4607b1-cb01-4caa-b64e-48ccf61c3039",
   "metadata": {},
   "outputs": [
    {
     "data": {
      "application/vnd.jupyter.widget-view+json": {
       "model_id": "41eb306d13a741908dbb01e93047af59",
       "version_major": 2,
       "version_minor": 0
      },
      "text/plain": [
       "Canvas(toolbar=Toolbar(toolitems=[('Home', 'Reset original view', 'home', 'home'), ('Back', 'Back to previous …"
      ]
     },
     "metadata": {},
     "output_type": "display_data"
    },
    {
     "data": {
      "text/plain": [
       "[<matplotlib.lines.Line2D at 0x7fe6ce546550>]"
      ]
     },
     "execution_count": 20,
     "metadata": {},
     "output_type": "execute_result"
    }
   ],
   "source": [
    "fig, ax = plt.subplots()\n",
    "proba = store['total_proba']/nb_collisions_per_cell\n",
    "ax.plot(proba.groupby(proba.index).sum())"
   ]
  },
  {
   "cell_type": "code",
   "execution_count": 24,
   "id": "8a39c7bb-d72b-4bc5-8c55-52fef8e902ea",
   "metadata": {},
   "outputs": [
    {
     "data": {
      "application/vnd.jupyter.widget-view+json": {
       "model_id": "67540f3e19564740a7198246527e1883",
       "version_major": 2,
       "version_minor": 0
      },
      "text/plain": [
       "Canvas(toolbar=Toolbar(toolitems=[('Home', 'Reset original view', 'home', 'home'), ('Back', 'Back to previous …"
      ]
     },
     "metadata": {},
     "output_type": "display_data"
    },
    {
     "name": "stdout",
     "output_type": "stream",
     "text": [
      "Mass flow rate : 0.000e+00 kg/s.\n"
     ]
    }
   ],
   "source": [
    "fig, ax = plt.subplots()\n",
    "\n",
    "deleted_evo = store['total_deleted']\n",
    "plt.plot(deleted_evo)\n",
    "\n",
    "def compute_mass_flow_rate(qty, delta_time, mass):\n",
    "    return qty*mass/delta_time\n",
    "\n",
    "print('Mass flow rate : {:.3e} kg/s.'.format(compute_mass_flow_rate(mr*np.sum(deleted_evo[8000:]), delta_time = dt*2000, mass = mass)))"
   ]
  },
  {
   "cell_type": "code",
   "execution_count": 27,
   "id": "0fd6078d-b690-4d04-a7d8-b1521a1ed3ff",
   "metadata": {},
   "outputs": [],
   "source": [
    "# Mach number and speed flow\n",
    "min_it, max_it, step = iterations-2000, iterations, adding_period # we save every adding_period the state of the particles\n",
    "iterations_list = [k for k in range(min_it, max_it, step)]\n",
    "df_it = df.loc[np.isin(df.index,iterations_list) & (df['x']>0.009)]\n",
    "flow_speed = np.mean(df_it['vx'])"
   ]
  },
  {
   "cell_type": "code",
   "execution_count": 28,
   "id": "c856c79b-1a7a-44d4-aa22-d2a6cf7effbf",
   "metadata": {},
   "outputs": [
    {
     "name": "stdout",
     "output_type": "stream",
     "text": [
      "Mean speed along the x-axis for the last cell : 1.168e+02 m/s\n"
     ]
    }
   ],
   "source": [
    "print('Mean speed along the x-axis for the last cell : {:.3e} m/s'.format(flow_speed))"
   ]
  },
  {
   "cell_type": "code",
   "execution_count": null,
   "id": "8bba6aac-e34f-4d3d-9252-7263680b2745",
   "metadata": {},
   "outputs": [],
   "source": []
  }
 ],
 "metadata": {
  "kernelspec": {
   "display_name": "Python 3",
   "language": "python",
   "name": "python3"
  },
  "language_info": {
   "codemirror_mode": {
    "name": "ipython",
    "version": 3
   },
   "file_extension": ".py",
   "mimetype": "text/x-python",
   "name": "python",
   "nbconvert_exporter": "python",
   "pygments_lexer": "ipython3",
   "version": "3.7.10"
  }
 },
 "nbformat": 4,
 "nbformat_minor": 5
}
