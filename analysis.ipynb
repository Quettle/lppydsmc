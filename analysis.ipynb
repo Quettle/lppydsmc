{
 "cells": [
  {
   "cell_type": "markdown",
   "metadata": {},
   "source": [
    "## Note : \n",
    "Mean free path : $\\lambda = \\frac{1}{n \\sigma}$\n",
    "\n",
    "If $n \\rightarrow 100 \\times n$, then :\n",
    "- $\\lambda \\rightarrow \\frac{\\lambda}{100}$\n",
    "- $\\text{cell size} \\rightarrow \\frac{\\text{cell size}}{100}$ ($100^2$ more cells because the grid is 2D)\n",
    "- $dt \\rightarrow \\frac{dt}{100}$\n",
    "\n",
    "But you can lower, down to a certain extent, the number of particles per cell to \"not incease too much the computation time\"."
   ]
  },
  {
   "cell_type": "markdown",
   "metadata": {},
   "source": [
    "## Representative physical length scale\n",
    "\n",
    "The system has two lenghts : \n",
    "* lenght of the tube : $L = 0.01$ $m$\n",
    "* width : $w = 0.001$ $m$\n",
    "\n",
    "The width is the representative physical length scale that constrains the flow.\n",
    "\n",
    "So : $K_d = \\frac{\\lambda}{w}$.\n",
    "\n",
    "\n"
   ]
  },
  {
   "cell_type": "code",
   "execution_count": null,
   "metadata": {
    "slideshow": {
     "slide_type": "slide"
    }
   },
   "outputs": [],
   "source": [
    "%matplotlib widget\n",
    "\n",
    "# notebook\n",
    "import pandas as pd\n",
    "import numpy as np\n",
    "import matplotlib.pyplot as plt\n",
    "import scipy as scipy\n",
    "from pathlib import Path\n",
    "\n",
    "from src.data import Saver\n",
    "from src.plotting import analysis\n",
    "from src.utils import physics\n",
    "\n",
    "plt.figure.max_open_warning = False"
   ]
  },
  {
   "cell_type": "markdown",
   "metadata": {},
   "source": [
    "## Loading results"
   ]
  },
  {
   "cell_type": "code",
   "execution_count": null,
   "metadata": {
    "slideshow": {
     "slide_type": "slide"
    }
   },
   "outputs": [],
   "source": [
    "dir_path = Path('results/')\n",
    "\n",
    "simu = 'low' # low, mid, thruster_low, test_hall\n",
    "\n",
    "dz = 0.001"
   ]
  },
  {
   "cell_type": "code",
   "execution_count": null,
   "metadata": {
    "slideshow": {
     "slide_type": "subslide"
    }
   },
   "outputs": [],
   "source": [
    "if(simu == 'low'):\n",
    "    dt = 1e-6\n",
    "    mr = 6400000\n",
    "    name = 'test_tube_low_reflect_in_wall.h5'\n",
    "    lenght = 0.01 # m\n",
    "    width = 0.001\n",
    "    nb_cells = 10\n",
    "    cell_size = 0.001\n",
    "    temperature = 300 # K\n",
    "    volume = cell_size*lenght*dz\n",
    "elif(simu == 'test_tube_low_no_inject'):\n",
    "    dt = 1e-6 \n",
    "    mr = 3.200000e+07\n",
    "    name = 'test_tube_low_no_inject.h5'\n",
    "    lenght = 0.01 # m\n",
    "    width = 0.001\n",
    "    nb_cells = 10\n",
    "    cell_size = 0.001\n",
    "    temperature = 300 # K\n",
    "    volume = cell_size*lenght*dz\n",
    "elif(simu == 'low_with_init'):\n",
    "    dt = 1e-6 \n",
    "    mr = 3.200000e+07\n",
    "    name = 'test_tube_low_with_init.h5'\n",
    "    lenght = 0.01 # m\n",
    "    width = 0.001\n",
    "    nb_cells = 10\n",
    "    cell_size = 0.001\n",
    "    temperature = 300 # K\n",
    "    volume = cell_size*lenght*dz\n",
    "elif(simu == 'low_wave'):\n",
    "    dt = 1e-7 \n",
    "    mr = 3.200000e+06\n",
    "    name = 'test_tube_low_wave.h5'\n",
    "    lenght = 0.01 # m\n",
    "    width = 0.001\n",
    "    nb_cells = 10\n",
    "    cell_size = 0.001\n",
    "    temperature = 300 # K\n",
    "    volume = cell_size*lenght*dz\n",
    "elif(simu == 'mid'):\n",
    "    dt = 5e-07\n",
    "    mr = 1.6e6\n",
    "    name = 'test_tube_mid.h5'\n",
    "    lenght = 0.01\n",
    "    width = 0.001\n",
    "    cell_size = 0.0001\n",
    "    nb_cells = 100\n",
    "    temperature = 300 # K\n",
    "    volume = cell_size*lenght*dz\n",
    "elif(simu == 'high'):\n",
    "    dt = 5e-9 \n",
    "    mr = 3.200000e+11\n",
    "    name = 'test_tube_high.h5'\n",
    "    lenght = 0.01\n",
    "    width = 0.001\n",
    "    cell_size = 0.000001 # not feasible\n",
    "    temperature = 300 # K\n",
    "    volume = cell_size*lenght*dz\n",
    "elif(simu == 'big'):\n",
    "    dt = 1e-6 \n",
    "    mr = 3.200000e+07\n",
    "    name = 'test_big_tube.h5'\n",
    "    lenght = 0.1\n",
    "    width = 0.001\n",
    "    cell_size = 0.001\n",
    "    temperature = 300 # K\n",
    "    volume = cell_size*lenght*dz\n",
    "elif(simu == 'thruster_low'): # representative lenght scale varies along the flow ...\n",
    "    dt = 1e-6 \n",
    "    mr = 3.200000e+07\n",
    "    name = 'test_thruster_low.h5'\n",
    "    lenght = 0.011 # m\n",
    "    width = 0.005\n",
    "    cell_size = 0.001\n",
    "    temperature = 300 # K\n",
    "    nb_cells = 33\n",
    "    volume = cell_size*cell_size*dz*nb_cells\n",
    "elif(simu == 'test_hall'): # representative lenght scale varies along the flow ...\n",
    "    dt = 1e-5\n",
    "    mr = 160000000\n",
    "    name = 'test_hall.h5'\n",
    "    lenght = 0.025 # m\n",
    "    width = 0.01\n",
    "    cell_size = 0.001\n",
    "    temperature = 640 # K\n",
    "    nb_cells = 20*25\n",
    "    volume = cell_size*cell_size*dz*nb_cells"
   ]
  },
  {
   "cell_type": "code",
   "execution_count": null,
   "metadata": {},
   "outputs": [],
   "source": [
    "store = pd.HDFStore(dir_path/name)"
   ]
  },
  {
   "cell_type": "code",
   "execution_count": null,
   "metadata": {},
   "outputs": [],
   "source": [
    "# defining each variable\n",
    "collisions_per_cell_full = store['collisions_per_cell'] \n",
    "df_full = store['df']\n",
    "pmax_per_cell = store['pmax_per_cell'] # cell-discretization not taken into account \n",
    "averages_per_cell = store['averages_per_cell'] # idem\n",
    "total_deleted = store['total_deleted']\n",
    "total_distance = store['total_distance']\n",
    "total_proba = store['total_proba']\n",
    "collisions_with_walls = store['collisions_with_walls']"
   ]
  },
  {
   "cell_type": "code",
   "execution_count": null,
   "metadata": {},
   "outputs": [],
   "source": [
    "choice = 'I'\n",
    "gamma = 5/3. # roughly for atomes, for diatomic molecule : 7/5.\n",
    "\n",
    "if(choice=='I'):\n",
    "    mass = physics.get_mass_part(53, 53, 74) # I\n",
    "    molecular_mass = 0.1269 # kg/mol\n",
    "elif(choice=='Xe'):\n",
    "    mass = 131.293*physics.ATOMIC_MASS # Xe\n",
    "    molecular_mass = 0.131293\n",
    "    \n",
    "verbose=False"
   ]
  },
  {
   "cell_type": "code",
   "execution_count": null,
   "metadata": {},
   "outputs": [],
   "source": [
    "sound_vel = physics.speed_of_sound(molecular_mass, temperature, gamma)\n",
    "print(f'Speed of sound for [{choice}] at temperature {temperature} K : {sound_vel} m/s')"
   ]
  },
  {
   "cell_type": "markdown",
   "metadata": {},
   "source": [
    "## Note : \n",
    "To save a figure, you can use : `analysis.save_fig(fig, path, title = None, dpi = 400, figsize = None)`, which allows you to easily save a figure while giving it a title and changing its size.\n",
    "You can also use the interactive widget."
   ]
  },
  {
   "cell_type": "markdown",
   "metadata": {},
   "source": [
    "## Choosing the part of the system to plot "
   ]
  },
  {
   "cell_type": "code",
   "execution_count": null,
   "metadata": {},
   "outputs": [],
   "source": [
    "# grid resolutions for the thruster\n",
    "\n",
    "thruster = False\n",
    "\n",
    "if(thruster):\n",
    "    res_x_0, res_y_0 = 11, 5\n",
    "else:\n",
    "    res_x_0, res_y_0 = 10, 1 # 100, 10 # 25, 10\n",
    "\n",
    "total_nb_cells = res_x_0*res_y_0"
   ]
  },
  {
   "cell_type": "code",
   "execution_count": null,
   "metadata": {},
   "outputs": [],
   "source": [
    "fig, ax = plt.subplots(1, constrained_layout = True, figsize = (res_x_0, res_y_0));\n",
    "\n",
    "fact = 10\n",
    "volume_cell_plot = volume/(fact*fact*res_x_0*res_y_0)\n",
    "duration = df_full.index.unique().values.shape[0]\n",
    "analysis.hist2d(ax, df_full, bins = (fact*res_x_0,fact*res_y_0), weights = mr*np.ones(df_full.shape[0])/(duration*volume_cell_plot), stat = 'count'); # TODO: add cmap"
   ]
  },
  {
   "cell_type": "code",
   "execution_count": null,
   "metadata": {},
   "outputs": [],
   "source": [
    "use_part = False\n",
    "\n",
    "# tube last part\n",
    "if(use_part):\n",
    "    if(thruster):\n",
    "        part = 1 # 2\n",
    "        if(part == 1):\n",
    "            x_min, x_max = 0, 3e-3 \n",
    "            y_min, y_max = 0.0, 5e-3\n",
    "            \n",
    "            # collisions\n",
    "            res_x, res_y = 3, 5 \n",
    "            offset = 0\n",
    "            cells = [k for k in range(15)]\n",
    "            \n",
    "        elif(part == 2):\n",
    "            x_min, x_max = 0.005, 1e-2\n",
    "            y_min, y_max = 2e-3, 3e-3\n",
    "            \n",
    "            # collisions\n",
    "            res_x, res_y = 5,1\n",
    "            offset = 27\n",
    "            cells = [27, 32, 37, 42, 47] \n",
    "            \n",
    "        volume = (x_max-x_min)*(y_max-y_min)*dz\n",
    "        df = df_full.loc[(df_full['x']>x_min) & (df_full['x']<x_max) & (df_full['y']>y_min) & (df_full['y']<y_max)].copy(deep=True)\n",
    "\n",
    "        # in addition we want to select the right cells in collisions\n",
    "        # plotting the mfp for the selected cells.\n",
    "        # first along x axis, then along y axis\n",
    "        nb_rows = collisions_per_cell_full.shape[0]\n",
    "        \n",
    "        index_collisions = collisions_per_cell_full.index.unique().values\n",
    "        collisions_per_cell = np.zeros((res_x,res_y,index_collisions.shape[0]))\n",
    "\n",
    "        for cell in cells :\n",
    "            i, j = (cell-offset)//res_y_0, (cell-offset)%res_y_0\n",
    "            collisions_per_cell[i,j,:] = collisions_per_cell_full[cell:nb_rows:total_nb_cells].values\n",
    "    else: # tube\n",
    "        hall = False\n",
    "        if(not hall):\n",
    "            x_min, x_max = 9e-3, 1e-2\n",
    "            y_min, y_max = 0, 1e-3\n",
    "\n",
    "            res_x, res_y = 1, 1\n",
    "            offset = 9 \n",
    "            cells = [9]\n",
    "        else:\n",
    "            x_min, x_max = 2e-2, 2.5e-2\n",
    "            y_min, y_max = 0, 1e-2\n",
    "\n",
    "            res_x, res_y = 5, 10 \n",
    "            offset = 200 \n",
    "            cells = [offset+k for k in range(50)] \n",
    "            \n",
    "        volume = (x_max-x_min)*(y_max-y_min)*dz\n",
    "        df = df_full.loc[(df_full['x']>x_min) & (df_full['x']<x_max) & (df_full['y']>y_min) & (df_full['y']<y_max)].copy(deep=True)\n",
    "        # in addition we want to select the right cells in collisions\n",
    "        # plotting the mfp for the selected cells.\n",
    "        # first along x axis, then along y axis\n",
    "            \n",
    "        nb_rows = collisions_per_cell_full.shape[0]\n",
    "        \n",
    "        index_collisions = collisions_per_cell_full.index.unique().values\n",
    "        collisions_per_cell = np.zeros((res_x,res_y,index_collisions.shape[0]))\n",
    "\n",
    "        for cell in cells :\n",
    "            i, j = (cell-offset)//res_y_0, (cell-offset)%res_y_0\n",
    "            collisions_per_cell[i,j,:] = collisions_per_cell_full[cell:nb_rows:total_nb_cells].values\n",
    "        \n",
    "else:\n",
    "    df = df_full # another reference.\n",
    "    nb_rows = collisions_per_cell_full.shape[0]\n",
    "\n",
    "    ## we are still\n",
    "    index_collisions = collisions_per_cell_full.index.unique().values\n",
    "    collisions_per_cell = np.zeros((res_x_0,res_y_0,index_collisions.shape[0]))\n",
    "    for cell in range(total_nb_cells):\n",
    "        i, j = cell//res_y_0, cell%res_y_0\n",
    "        collisions_per_cell[i,j,:] = collisions_per_cell_full[cell:nb_rows:total_nb_cells].values"
   ]
  },
  {
   "cell_type": "markdown",
   "metadata": {},
   "source": [
    "## Choosing frames to plot"
   ]
  },
  {
   "cell_type": "code",
   "execution_count": null,
   "metadata": {},
   "outputs": [],
   "source": [
    "unique_index = df.index.unique().values\n",
    "nb_save = unique_index.shape[0]\n",
    "iterations = np.max(unique_index)\n",
    "adding_period = unique_index[1]-unique_index[0] # adding period - required to\n",
    "# generally speaking, you choose frames so you have the steady state\n",
    "frames = unique_index[int(0.8*nb_save):nb_save] \n",
    "\n",
    "if(verbose):\n",
    "    print(f'Available frames :  {unique_index}')\n",
    "    print(f'Max iteration : {iterations}')\n",
    "    print(f'Choosen frames (for plotting) : \\n{frames}')"
   ]
  },
  {
   "cell_type": "markdown",
   "metadata": {},
   "source": [
    "## Particles analysis\n",
    "### Plotting number of particles evolution"
   ]
  },
  {
   "cell_type": "code",
   "execution_count": null,
   "metadata": {},
   "outputs": [],
   "source": [
    "nb_parts = df['x'].groupby(df.index).agg('count').values"
   ]
  },
  {
   "cell_type": "code",
   "execution_count": null,
   "metadata": {},
   "outputs": [],
   "source": [
    "fig, ax = plt.subplots()\n",
    "ax.plot(df.index.unique()*dt, nb_parts)\n",
    "analysis.set_axis(ax, x = 'time', y = 'quantity')"
   ]
  },
  {
   "cell_type": "markdown",
   "metadata": {},
   "source": [
    "### Plotting density evolution"
   ]
  },
  {
   "cell_type": "code",
   "execution_count": null,
   "metadata": {},
   "outputs": [],
   "source": [
    "fig, ax = plt.subplots()\n",
    "ax.plot(df.index.unique()*dt, nb_parts*mr/volume)\n",
    "analysis.set_axis(ax, x = 'time', y = 'density')"
   ]
  },
  {
   "cell_type": "markdown",
   "metadata": {},
   "source": [
    "### Density as a function of x"
   ]
  },
  {
   "cell_type": "code",
   "execution_count": null,
   "metadata": {},
   "outputs": [],
   "source": [
    "fig, ax = plt.subplots()\n",
    "bins = 100\n",
    "volume_cell_plot = volume/bins\n",
    "duration = df.index.unique().values.shape[0]\n",
    "weights = mr*np.ones(df.shape[0])/(duration*volume_cell_plot)\n",
    "analysis.hist1d(ax, df, 'x', bins = bins, density = False, color = 'default', weights = weights, histtype = 'step')\n",
    "analysis.set_axis(ax, x = 'x', y = 'density');"
   ]
  },
  {
   "cell_type": "markdown",
   "metadata": {},
   "source": [
    "### Pressure in mTorr"
   ]
  },
  {
   "cell_type": "code",
   "execution_count": null,
   "metadata": {},
   "outputs": [],
   "source": [
    "pressure_torr = physics.pressure_torr(nb_parts*mr, volume, temperature)"
   ]
  },
  {
   "cell_type": "code",
   "execution_count": null,
   "metadata": {},
   "outputs": [],
   "source": [
    "fig, ax = plt.subplots()\n",
    "ax.plot(df.index.unique()*dt, pressure_torr*1e3)\n",
    "analysis.set_axis(ax, x = 'time', y = None)\n",
    "ax.set_ylabel('pressure (mTorr)');"
   ]
  },
  {
   "cell_type": "markdown",
   "metadata": {},
   "source": [
    "### Final state"
   ]
  },
  {
   "cell_type": "code",
   "execution_count": null,
   "metadata": {},
   "outputs": [],
   "source": [
    "fig, ax = plt.subplots()\n",
    "analysis.state(ax, df.loc[df.index == frames[-1]], c = None)"
   ]
  },
  {
   "cell_type": "markdown",
   "metadata": {},
   "source": [
    "### Velocity distribution"
   ]
  },
  {
   "cell_type": "code",
   "execution_count": null,
   "metadata": {},
   "outputs": [],
   "source": [
    "fig, axes = analysis.velocity_distribution(df, frames, bins = 100, density = True, sharex = False, sharey = False);"
   ]
  },
  {
   "cell_type": "markdown",
   "metadata": {},
   "source": [
    "df_mean = df.groupby(df.index).mean()\n",
    "## Temperature evolution\n",
    "\n",
    "First - not by cell but for the whole system.\n",
    "\n",
    "### Theory : \n",
    "\n",
    "The kinetic energy density $w$ is\n",
    "\n",
    "$w = \\frac{3}{2}p(\\vec{r},t) + n(\\vec{r},t)\\frac{1}{2} m |\\vec{u}(\\vec{r},t)|^2$ \n",
    "\n",
    "With $\\vec{u}(\\vec{r},t) = ((<(v_x, v_y, v_z)>)(\\vec{r},t))^T$ thus : $|\\vec{u}(\\vec{r},t)| = |<\\vec{v}>|$.\n",
    "\n",
    "Here the drift is not zero. So we have to remove it to have only $\\frac{3}{2}p(\\vec{r},t) = w - n(\\vec{r},t)\\frac{1}{2} m |\\vec{u}(\\vec{r},t)|^2$.\n",
    "\n",
    "This yields : \n",
    "\n",
    "$\\frac{3}{2}p(\\vec{r},t) = n(\\vec{r},t)  <\\frac{1}{2}mv^2> - n(\\vec{r},t)\\frac{1}{2} m |\\vec{u}(\\vec{r},t)|^2$\n",
    "\n",
    "Which yields : \n",
    "\n",
    "$$ \\frac{3}{2}p(\\vec{r},t) = \\frac{m n(\\vec{r},t)}{2}  (<v^2> - |<\\vec{v}>|^2) $$\n",
    "\n",
    "With $p = nkT$.\n",
    "\n",
    "Intuition : total energy - energy contains in the drift."
   ]
  },
  {
   "cell_type": "code",
   "execution_count": null,
   "metadata": {},
   "outputs": [],
   "source": [
    "df['v'] = np.sqrt(df['vx']*df['vx']+df['vy']*df['vy']+df['vz']*df['vz']) # df.apply(analysis.speed_norm, axis = 1)\n",
    "df['v2'] = df['v']**2\n",
    "df_mean = df.groupby(df.index).mean()\n",
    "df_mean['v_drift'] = np.sqrt(df_mean['vx']*df_mean['vx']+df_mean['vy']*df_mean['vy']+df_mean['vz']*df_mean['vz'])"
   ]
  },
  {
   "cell_type": "code",
   "execution_count": null,
   "metadata": {},
   "outputs": [],
   "source": [
    "# maxwellian temperature \n",
    "temperature_mb = np.pi*mass*df_mean['v']**2/(8*physics.BOLTZMAN_CONSTANT)"
   ]
  },
  {
   "cell_type": "code",
   "execution_count": null,
   "metadata": {},
   "outputs": [],
   "source": [
    "df_mean['temperature'] =  mass/(3.*physics.BOLTZMAN_CONSTANT) * (df_mean['v2']-df_mean['v_drift']**2)\n",
    "temperatures = df_mean['temperature']"
   ]
  },
  {
   "cell_type": "code",
   "execution_count": null,
   "metadata": {},
   "outputs": [],
   "source": [
    "fig, ax = plt.subplots(1,2)\n",
    "ax[0].plot(unique_index*dt,temperatures)\n",
    "ax[1].plot(unique_index*dt,temperature_mb)\n",
    "\n",
    "analysis.set_axis(ax[0], x = 'time', y = 'temperature')\n",
    "analysis.set_axis(ax[1], x = 'time', y = 'temperature')"
   ]
  },
  {
   "cell_type": "code",
   "execution_count": null,
   "metadata": {},
   "outputs": [],
   "source": [
    "fig, ax = plt.subplots()\n",
    "ax.plot(unique_index*dt,temperatures)\n",
    "analysis.set_axis(ax, x = 'time', y = 'temperature')"
   ]
  },
  {
   "cell_type": "code",
   "execution_count": null,
   "metadata": {},
   "outputs": [],
   "source": [
    "fig, ax = plt.subplots()\n",
    "ax.plot(unique_index*dt, physics.pressure_torr(nb_parts*mr, volume, temperature_mb)*1e3)\n",
    "analysis.set_axis(ax, x = 'iteration', y = None)\n",
    "ax.set_ylabel('pressure (mTorr)');"
   ]
  },
  {
   "cell_type": "code",
   "execution_count": null,
   "metadata": {},
   "outputs": [],
   "source": [
    "sound_speed = physics.speed_of_sound(molecular_mass, temperature_mb, gamma)"
   ]
  },
  {
   "cell_type": "code",
   "execution_count": null,
   "metadata": {},
   "outputs": [],
   "source": [
    "fig, ax = plt.subplots()\n",
    "ax.plot(unique_index*dt,sound_speed)\n",
    "analysis.set_axis(ax, x = 'time', y = 'sound speed')"
   ]
  },
  {
   "cell_type": "markdown",
   "metadata": {},
   "source": [
    "## Flow speed"
   ]
  },
  {
   "cell_type": "code",
   "execution_count": null,
   "metadata": {},
   "outputs": [],
   "source": [
    "fig, ax = plt.subplots()\n",
    "ax.plot(unique_index*dt,df_mean['v_drift'])\n",
    "analysis.set_axis(ax, x = 'time', y = 'v');"
   ]
  },
  {
   "cell_type": "markdown",
   "metadata": {},
   "source": [
    "## Mach number"
   ]
  },
  {
   "cell_type": "code",
   "execution_count": null,
   "metadata": {},
   "outputs": [],
   "source": [
    "fig, ax = plt.subplots()\n",
    "ax.plot(unique_index*dt,df_mean['v_drift']/sound_speed)\n",
    "analysis.set_axis(ax, x = 'time')\n",
    "ax.set_ylabel('Mach number');"
   ]
  },
  {
   "cell_type": "markdown",
   "metadata": {},
   "source": [
    "## Collision with walls - analysis"
   ]
  },
  {
   "cell_type": "code",
   "execution_count": null,
   "metadata": {},
   "outputs": [],
   "source": [
    "fig, ax = plt.subplots()\n",
    "analysis.set_axis(ax, x = 'time', y = 'quantity')\n",
    "ax.plot(collisions_with_walls.index*dt, collisions_with_walls*mr);"
   ]
  },
  {
   "cell_type": "markdown",
   "metadata": {},
   "source": [
    "## DSMC collisions analysis"
   ]
  },
  {
   "cell_type": "markdown",
   "metadata": {},
   "source": [
    "### Particles collisions analysis"
   ]
  },
  {
   "cell_type": "code",
   "execution_count": null,
   "metadata": {},
   "outputs": [],
   "source": [
    "# start by summing over all cells\n",
    "collisions = np.sum(collisions_per_cell, axis = (0,1))\n",
    "print('Total number of collision in the simulation (in reality) : {:e} ({:e})'.format(int(np.sum(collisions_per_cell)),mr*np.sum(collisions_per_cell)));"
   ]
  },
  {
   "cell_type": "code",
   "execution_count": null,
   "metadata": {},
   "outputs": [],
   "source": [
    "fig, ax = plt.subplots()\n",
    "analysis.set_axis(ax, x = 'time', y = 'quantity')\n",
    "ax.plot(index_collisions, collisions*mr);"
   ]
  },
  {
   "cell_type": "markdown",
   "metadata": {},
   "source": [
    "### Rate between the two"
   ]
  },
  {
   "cell_type": "code",
   "execution_count": null,
   "metadata": {},
   "outputs": [],
   "source": [
    "fig, ax = plt.subplots()\n",
    "analysis.set_axis(ax, x = 'time')\n",
    "ax.set_ylabel('rate')\n",
    "ax.plot(index_collisions*dt, collisions_with_walls/collisions);"
   ]
  },
  {
   "cell_type": "markdown",
   "metadata": {},
   "source": [
    "## Mean free path \n",
    "The formula for the mean free path is : $\\lambda = \\frac{v_{mean}}{\\nu}$, where : \n",
    "* $v_{mean}$ is the mean velocity ;\n",
    "* $\\nu$ is the frequency of collision for ONE particle.\n",
    "\n",
    "We have : $\\frac{1}{\\nu} = \\frac{N_c dt}{2 N}$ with $N_c$ the number of particle in the cell, and $N$ the number of collisions.\n",
    "\n",
    "This yields :  $\\lambda = \\frac{v_{mean}N_c dt}{2N}$. There is no need for $m_r$ here as both $N_c$ and $N$ would require the multiplication to have the current number in the system.\n",
    "\n",
    "We start by doing it for the whole system."
   ]
  },
  {
   "cell_type": "code",
   "execution_count": null,
   "metadata": {},
   "outputs": [],
   "source": [
    "x_res = 10 # for example the number of cells during the simulations (if you want a plot per cell)\n",
    "y_res = 1\n",
    "x_step = 0.001 # size of the cell\n",
    "y_step = 0.001"
   ]
  },
  {
   "cell_type": "code",
   "execution_count": null,
   "metadata": {},
   "outputs": [],
   "source": [
    "v_mean = df_mean['v']"
   ]
  },
  {
   "cell_type": "code",
   "execution_count": null,
   "metadata": {},
   "outputs": [],
   "source": [
    "# selecting the time iteration that we also saved for the collisions (saving frequency is not necessary the same)\n",
    "v_mean = v_mean.loc[np.isin(v_mean.index,index_collisions)]\n",
    "nb_particles_in_system = df['x'].groupby(df.index).agg('count').loc[np.isin(unique_index,index_collisions)]"
   ]
  },
  {
   "cell_type": "code",
   "execution_count": null,
   "metadata": {},
   "outputs": [],
   "source": [
    "mfp = physics.mean_free_path_simu(nb_particles_in_system, collisions, dt, v_mean)"
   ]
  },
  {
   "cell_type": "markdown",
   "metadata": {},
   "source": [
    "### Mean free path evolution"
   ]
  },
  {
   "cell_type": "code",
   "execution_count": null,
   "metadata": {},
   "outputs": [],
   "source": [
    "fig, ax = plt.subplots()\n",
    "ax.plot(index_collisions*dt, mfp)\n",
    "analysis.set_axis(ax, x = 'time', y = 'mean free path')"
   ]
  },
  {
   "cell_type": "markdown",
   "metadata": {},
   "source": [
    "### Knudsen evolution"
   ]
  },
  {
   "cell_type": "code",
   "execution_count": null,
   "metadata": {},
   "outputs": [],
   "source": [
    "fig, ax = plt.subplots()\n",
    "ax.plot(index_collisions*dt, mfp/cell_size)\n",
    "analysis.set_axis(ax, x = 'time', y = 'Knudsen')"
   ]
  },
  {
   "cell_type": "markdown",
   "metadata": {},
   "source": [
    "### Total mean free path\n",
    "\n",
    "Accouting for collisions between particles and **collisions with walls**.\n",
    "\n",
    "In the case where the number of collisions with walls is much bigger than the number of collisions between particles, then this mean free path is basically the average distance a particle covers between two wall collisions."
   ]
  },
  {
   "cell_type": "code",
   "execution_count": null,
   "metadata": {},
   "outputs": [],
   "source": [
    "mfp_ = 0.5*nb_particles_in_system*dt*v_mean/(collisions+collisions_with_walls)"
   ]
  },
  {
   "cell_type": "markdown",
   "metadata": {},
   "source": [
    "#### Total Mean free path evolution "
   ]
  },
  {
   "cell_type": "code",
   "execution_count": null,
   "metadata": {},
   "outputs": [],
   "source": [
    "fig, ax = plt.subplots()\n",
    "ax.plot(index_collisions*dt, mfp_)\n",
    "analysis.set_axis(ax, x = 'time', y = 'mean free path');"
   ]
  },
  {
   "cell_type": "markdown",
   "metadata": {},
   "source": [
    "#### Total Knudsen - evolution"
   ]
  },
  {
   "cell_type": "code",
   "execution_count": null,
   "metadata": {},
   "outputs": [],
   "source": [
    "fig, ax = plt.subplots()\n",
    "ax.plot(index_collisions*dt, mfp_/cell_size)\n",
    "analysis.set_axis(ax, x = 'time', y = 'Knudsen');"
   ]
  },
  {
   "cell_type": "markdown",
   "metadata": {},
   "source": [
    "## Out particle analysis"
   ]
  },
  {
   "cell_type": "code",
   "execution_count": null,
   "metadata": {},
   "outputs": [],
   "source": [
    "fig, ax = plt.subplots()\n",
    "mass_flow_rate = mr*physics.compute_mass_flow_rate(total_deleted, dt, mass)\n",
    "analysis.set_axis(ax, x = 'time', y = 'mass flow rate')\n",
    "plt.plot(mass_flow_rate.index*dt, mass_flow_rate);"
   ]
  },
  {
   "cell_type": "markdown",
   "metadata": {},
   "source": [
    "### Mean number of particles"
   ]
  },
  {
   "cell_type": "code",
   "execution_count": null,
   "metadata": {},
   "outputs": [],
   "source": [
    "averages = averages_per_cell.groupby(averages_per_cell.index).sum() # returns a pandas Series"
   ]
  },
  {
   "cell_type": "code",
   "execution_count": null,
   "metadata": {},
   "outputs": [],
   "source": [
    "fig, ax = plt.subplots()\n",
    "analysis.set_axis(ax, x = 'time', y = 'quantity')\n",
    "ax.plot(averages.index*dt, averages);"
   ]
  },
  {
   "cell_type": "markdown",
   "metadata": {},
   "source": [
    "### Mean acceptance probability"
   ]
  },
  {
   "cell_type": "code",
   "execution_count": null,
   "metadata": {},
   "outputs": [],
   "source": [
    "proba = total_proba/collisions\n",
    "print('Mean proba : {:e}'.format(np.mean(proba)))\n",
    "fig, ax = plt.subplots()\n",
    "analysis.set_axis(ax, x = 'time', y = 'probability')\n",
    "ax.plot(proba.index*dt, proba, label = 'proba');"
   ]
  },
  {
   "cell_type": "markdown",
   "metadata": {},
   "source": [
    "### Maximum probability"
   ]
  },
  {
   "cell_type": "code",
   "execution_count": null,
   "metadata": {},
   "outputs": [],
   "source": [
    "pmax = pmax_per_cell.groupby(pmax_per_cell.index).sum() # returns a pandas Series"
   ]
  },
  {
   "cell_type": "code",
   "execution_count": null,
   "metadata": {},
   "outputs": [],
   "source": [
    "fig, ax = plt.subplots()\n",
    "analysis.set_axis(ax, x = 'time', y = 'probability')\n",
    "ax.plot(pmax.index*dt, pmax);"
   ]
  },
  {
   "cell_type": "markdown",
   "metadata": {},
   "source": [
    "### Mean distance between two colliding particles"
   ]
  },
  {
   "cell_type": "code",
   "execution_count": null,
   "metadata": {},
   "outputs": [],
   "source": [
    "fig, ax = plt.subplots()\n",
    "dist = total_distance/collisions\n",
    "print('Mean distance : {:e} m'.format(np.mean(dist)))\n",
    "analysis.set_axis(ax, x = 'time', y = 'distance')\n",
    "ax.plot(dist.index*dt, dist);"
   ]
  },
  {
   "cell_type": "markdown",
   "metadata": {},
   "source": [
    "### Velocity axis distribution per *cell*"
   ]
  },
  {
   "cell_type": "code",
   "execution_count": null,
   "metadata": {},
   "outputs": [],
   "source": [
    "# spatial_hist2d plots an hist per cell defined by the params below\n",
    "# it is a 2D plot of size y_res * x_res\n",
    "# where each plot (i,j) takes the particle between i*x_step < x < (i+1)*x_step and j*y_step < y < (j+1)*y_step\n",
    "# for i varying between between 0 and x_res-1, and j varying between between 0 and y_res-1\n",
    "# You should not use too many cells because it quickly becomes very hard to view.\n",
    "# Params\n",
    "x_res = 11 # for example the number of cells during the simulations (if you want a plot per cell)\n",
    "y_res = 5\n",
    "x_step = 0.001 # size of the cell\n",
    "y_step = 0.001 \n",
    "\n",
    "# Plotting - vx\n",
    "# fig, axes = analysis.spatial_hist2d(df, frames, val = 'vx', x_res = x_res, y_res = y_res, x_step = x_step, y_step=y_step);"
   ]
  },
  {
   "cell_type": "code",
   "execution_count": null,
   "metadata": {},
   "outputs": [],
   "source": [
    "# Plotting - vy\n",
    "# fig, axes = analysis.spatial_hist2d(df, frames, val = 'vy', x_res = x_res, y_res = y_res, x_step = x_step, y_step=y_step);"
   ]
  },
  {
   "cell_type": "markdown",
   "metadata": {},
   "source": [
    "## Bonus - Not necessarily recommended and takes lots of time\n",
    "Next is the plot of the system for each saved step. "
   ]
  },
  {
   "cell_type": "code",
   "execution_count": null,
   "metadata": {},
   "outputs": [],
   "source": [
    "# creating speed_norm (for the color)\n",
    "# df['speed_norm'] = np.sqrt(df['vx']**2+df['vy']**2+df['vz']**2) -> DO NOT NEED THAT"
   ]
  },
  {
   "cell_type": "code",
   "execution_count": null,
   "metadata": {},
   "outputs": [],
   "source": [
    "%matplotlib notebook\n",
    "import numpy as np\n",
    "from matplotlib import pyplot as plt\n",
    "from matplotlib.animation import FuncAnimation\n",
    "\n",
    "def update_hist(num, df):\n",
    "    dfit = df.loc[df.index == num]\n",
    "\n",
    "    scat.set_offsets(np.c_[dfit['x'],dfit['y']])\n",
    "    scat.set_array(df['v'])\n",
    "    \n",
    "    ax.set_title('{}/{}'.format(num+1, iterations), fontsize=15)\n",
    "\n",
    "fig, ax = plt.subplots()\n",
    "dfit = df.loc[df.index == 0]\n",
    "scat = ax.scatter(dfit['x'], dfit['y'], s=0.1, c = dfit['v'], cmap='seismic') #  c = df['speed_norm']\n",
    "analysis.set_axis(ax, x = 'x', y = 'y')\n",
    "# if you want the boundaries to be plotted and the grid too, you have to initialize those fields yourself.\n",
    "# in the other case, only particles will be plotted.\n",
    "# plot_boundaries(ax, segments)\n",
    "# plot_grid(ax, resolutions, system_shape)\n",
    "\n",
    "ax.set_title('{}/{}'.format(1, iterations), fontsize=12)\n",
    "ax.axis('equal')\n",
    "\n",
    "interval = 40 # 25 images per second\n",
    "anim = FuncAnimation(fig, update_hist, interval=interval, frames=iterations, fargs=(df, ), save_count=iterations)\n",
    "anim.save(dir_path/'system_state_evo.avi', dpi = 300);"
   ]
  },
  {
   "cell_type": "code",
   "execution_count": null,
   "metadata": {},
   "outputs": [],
   "source": []
  }
 ],
 "metadata": {
  "kernelspec": {
   "display_name": "Python 3.9",
   "language": "python",
   "name": "python39"
  },
  "language_info": {
   "codemirror_mode": {
    "name": "ipython",
    "version": 3
   },
   "file_extension": ".py",
   "mimetype": "text/x-python",
   "name": "python",
   "nbconvert_exporter": "python",
   "pygments_lexer": "ipython3",
   "version": "3.9.2"
  }
 },
 "nbformat": 4,
 "nbformat_minor": 5
}
