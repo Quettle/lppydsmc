{
 "cells": [
  {
   "cell_type": "code",
   "execution_count": 1,
   "id": "2c294f0e",
   "metadata": {},
   "outputs": [],
   "source": [
    "%matplotlib widget\n",
    "\n",
    "import pandas as pd\n",
    "import numpy as np\n",
    "import matplotlib.pyplot as plt\n",
    "import scipy as scipy\n",
    "from pathlib import Path\n",
    "\n",
    "from src.data import Saver\n",
    "from src.plotting import analysis\n",
    "from src.utils import physics"
   ]
  },
  {
   "cell_type": "markdown",
   "id": "41a1c4b9-07d4-428a-bda3-2ad976fd494f",
   "metadata": {},
   "source": [
    "## Loading results"
   ]
  },
  {
   "cell_type": "code",
   "execution_count": 2,
   "id": "ee562672-3c2c-486c-8111-0fa16499f170",
   "metadata": {},
   "outputs": [],
   "source": [
    "dir_path = Path('results/')\n",
    "name = 'test_tube.h5'"
   ]
  },
  {
   "cell_type": "code",
   "execution_count": 3,
   "id": "138ea030-be0c-467c-a21f-2c9dd61c27f1",
   "metadata": {},
   "outputs": [],
   "source": [
    "store = pd.HDFStore(dir_path/name)"
   ]
  },
  {
   "cell_type": "code",
   "execution_count": 4,
   "id": "10c4acea",
   "metadata": {},
   "outputs": [],
   "source": [
    "# defining each variable\n",
    "collisions_per_cell = store['collisions_per_cell'] \n",
    "df = store['df']\n",
    "pmax_per_cell = store['pmax_per_cell']\n",
    "averages_per_cell = store['averages_per_cell']\n",
    "total_deleted = store['total_deleted']\n",
    "total_distance = store['total_distance']\n",
    "total_proba = store['total_proba']\n",
    "collisions_with_walls = store['collisions_with_walls']"
   ]
  },
  {
   "cell_type": "code",
   "execution_count": 5,
   "id": "893cb81e-edfb-4b6d-9ec9-cf9e4b9d9aaf",
   "metadata": {},
   "outputs": [],
   "source": [
    "# particle mass \n",
    "mass = physics.get_mass_part(53, 53, 74) # mass of the particle\n",
    "# time step\n",
    "dt = 1e-6 \n",
    "# ratio between real particles and simulated macro-particles\n",
    "mr = 3.200000e+07\n",
    "\n",
    "verbose=False"
   ]
  },
  {
   "cell_type": "code",
   "execution_count": 6,
   "id": "a58f5476-8970-4013-b45f-7f243bb337c4",
   "metadata": {},
   "outputs": [
    {
     "name": "stdout",
     "output_type": "stream",
     "text": [
      "Speed of sound for iodine [I] at temperature 300 K : 180.99192585903475 m/s\n"
     ]
    }
   ],
   "source": [
    "gamma = 5/3.\n",
    "molecular_mass = 0.1269 # kg/mol\n",
    "temperature = 300 # K - the supposed injection temperature\n",
    "sound_vel = physics.speed_of_sound(molecular_mass, temperature, gamma)\n",
    "print(f'Speed of sound for iodine [I] at temperature 300 K : {sound_vel} m/s')"
   ]
  },
  {
   "cell_type": "markdown",
   "id": "5c64f6aa-1c01-4535-bdc7-2d5536f47c70",
   "metadata": {},
   "source": [
    "## Note : \n",
    "To save a figure, you can use : `analysis.save_fig(fig, path, title = None, dpi = 400, figsize = None)`, which allows you to easily save a figure while giving it a title and changing its size.\n",
    "You can also use the interactive widget."
   ]
  },
  {
   "cell_type": "markdown",
   "id": "10318e2c-2c7f-4ce4-9fa0-3252ad5931a1",
   "metadata": {},
   "source": [
    "## Choosing frames to plot"
   ]
  },
  {
   "cell_type": "code",
   "execution_count": 7,
   "id": "c6673859-afad-4304-80b6-ebf5eaf738a0",
   "metadata": {},
   "outputs": [],
   "source": [
    "unique_index = df.index.unique().values\n",
    "nb_save = unique_index.shape[0]\n",
    "iterations = np.max(unique_index)\n",
    "adding_period = unique_index[1]-unique_index[0] # adding period - required to\n",
    "# generally speaking, you choose frames so you have the steady state\n",
    "frames = unique_index[int(0.8*nb_save):nb_save] \n",
    "\n",
    "if(verbose):\n",
    "    print(f'Available frames :  {unique_index}')\n",
    "    print(f'Max iteration : {iterations}')\n",
    "    print(f'Choosen frames (for plotting) : \\n{frames}')"
   ]
  },
  {
   "cell_type": "markdown",
   "id": "33ddb279-4ded-4c75-a498-fb98346069b1",
   "metadata": {},
   "source": [
    "## Particles analysis\n",
    "### Plotting number of particles evolution"
   ]
  },
  {
   "cell_type": "code",
   "execution_count": 8,
   "id": "0cc48d1c",
   "metadata": {},
   "outputs": [
    {
     "data": {
      "application/vnd.jupyter.widget-view+json": {
       "model_id": "7628e71569184284b45703bfe859fccb",
       "version_major": 2,
       "version_minor": 0
      },
      "text/plain": [
       "Canvas(toolbar=Toolbar(toolitems=[('Home', 'Reset original view', 'home', 'home'), ('Back', 'Back to previous …"
      ]
     },
     "metadata": {},
     "output_type": "display_data"
    }
   ],
   "source": [
    "fig, ax = plt.subplots()\n",
    "analysis.nb_particles_evolution(ax, df, times = dt*unique_index);"
   ]
  },
  {
   "cell_type": "markdown",
   "id": "b044d369-fdaa-46b3-b4ea-b14605be9b3a",
   "metadata": {},
   "source": [
    "### Mean number of particles per cell"
   ]
  },
  {
   "cell_type": "code",
   "execution_count": 9,
   "id": "7ca93619-1173-4d56-9cd6-49940727dde5",
   "metadata": {},
   "outputs": [],
   "source": [
    "averages = averages_per_cell.groupby(averages_per_cell.index).sum() # returns a pandas Series"
   ]
  },
  {
   "cell_type": "code",
   "execution_count": 10,
   "id": "0922f05a-b94b-412c-b04c-f61cba6b77d8",
   "metadata": {},
   "outputs": [
    {
     "data": {
      "application/vnd.jupyter.widget-view+json": {
       "model_id": "09ff61022a9c4af2bdaa105eaa156b3c",
       "version_major": 2,
       "version_minor": 0
      },
      "text/plain": [
       "Canvas(toolbar=Toolbar(toolitems=[('Home', 'Reset original view', 'home', 'home'), ('Back', 'Back to previous …"
      ]
     },
     "metadata": {},
     "output_type": "display_data"
    }
   ],
   "source": [
    "fig, ax = plt.subplots()\n",
    "analysis.set_axis(ax, x = 'time', y = 'quantity')\n",
    "ax.plot(averages.index*dt, averages);"
   ]
  },
  {
   "cell_type": "markdown",
   "id": "ac5ffde8-4c2b-474b-a9bb-2deaa440d9eb",
   "metadata": {},
   "source": [
    "### Final state"
   ]
  },
  {
   "cell_type": "code",
   "execution_count": 11,
   "id": "e1268823-29ce-40e0-b526-a9ff15e9dbf1",
   "metadata": {},
   "outputs": [
    {
     "data": {
      "application/vnd.jupyter.widget-view+json": {
       "model_id": "0245e8cb0fb9490ead3c661d68721f7e",
       "version_major": 2,
       "version_minor": 0
      },
      "text/plain": [
       "Canvas(toolbar=Toolbar(toolitems=[('Home', 'Reset original view', 'home', 'home'), ('Back', 'Back to previous …"
      ]
     },
     "metadata": {},
     "output_type": "display_data"
    }
   ],
   "source": [
    "fig, ax = plt.subplots()\n",
    "analysis.state(ax, df.loc[df.index == frames[-1]], c = None)"
   ]
  },
  {
   "cell_type": "markdown",
   "id": "bbfefed5-b246-4917-b77b-7e65651560f1",
   "metadata": {},
   "source": [
    "### Velocity distribution"
   ]
  },
  {
   "cell_type": "code",
   "execution_count": 12,
   "id": "5d80f1d8-460b-4191-bd21-48372384eac5",
   "metadata": {},
   "outputs": [
    {
     "data": {
      "application/vnd.jupyter.widget-view+json": {
       "model_id": "53a739a27ff940728dbd838b24943b46",
       "version_major": 2,
       "version_minor": 0
      },
      "text/plain": [
       "Canvas(toolbar=Toolbar(toolitems=[('Home', 'Reset original view', 'home', 'home'), ('Back', 'Back to previous …"
      ]
     },
     "metadata": {},
     "output_type": "display_data"
    }
   ],
   "source": [
    "fig, axes = analysis.velocity_distribution(df, frames, bins = 50, density = True, sharex = False, sharey = False);"
   ]
  },
  {
   "cell_type": "markdown",
   "id": "485c7d95-ac34-48f8-893c-e1fbc86b5476",
   "metadata": {},
   "source": [
    "## Temperature evolution\n",
    "\n",
    "First - not by cell but for the whole system."
   ]
  },
  {
   "cell_type": "code",
   "execution_count": 13,
   "id": "34318c5a-29a3-43d1-b9a7-1571bb2ba999",
   "metadata": {},
   "outputs": [],
   "source": [
    "# this takes LOTS of time\n",
    "df['v'] = df.apply(analysis.speed_norm, axis = 1)\n",
    "speed = df['v']"
   ]
  },
  {
   "cell_type": "code",
   "execution_count": 14,
   "id": "f0d3022a-c766-40ad-892b-281b6ce4acd3",
   "metadata": {},
   "outputs": [
    {
     "data": {
      "text/plain": [
       "0    252.009079\n",
       "0    352.098271\n",
       "0    314.778477\n",
       "0    362.746072\n",
       "0    216.704739\n",
       "Name: v, dtype: float64"
      ]
     },
     "execution_count": 14,
     "metadata": {},
     "output_type": "execute_result"
    }
   ],
   "source": [
    "speed.head()"
   ]
  },
  {
   "cell_type": "code",
   "execution_count": 17,
   "id": "8ad504e8-e67b-42bb-9808-ff09957b36a6",
   "metadata": {},
   "outputs": [],
   "source": [
    "v2 = np.array([scipy.stats.moment(speed.loc[speed.index == k].values, moment = 2) for k in frames])"
   ]
  },
  {
   "cell_type": "code",
   "execution_count": 18,
   "id": "bffaf8be-0c85-44d6-891e-75080ea6481a",
   "metadata": {},
   "outputs": [],
   "source": [
    "temperatures = v2  * mass/(3*physics.BOLTZMAN_CONSTANT)"
   ]
  },
  {
   "cell_type": "code",
   "execution_count": 19,
   "id": "5dafc882-b108-4f92-95b0-e7b71c6fcf31",
   "metadata": {},
   "outputs": [
    {
     "data": {
      "application/vnd.jupyter.widget-view+json": {
       "model_id": "63700130cc534754ab85503e7ec66204",
       "version_major": 2,
       "version_minor": 0
      },
      "text/plain": [
       "Canvas(toolbar=Toolbar(toolitems=[('Home', 'Reset original view', 'home', 'home'), ('Back', 'Back to previous …"
      ]
     },
     "metadata": {},
     "output_type": "display_data"
    }
   ],
   "source": [
    "fig, ax = plt.subplots()\n",
    "ax.plot(frames*dt,temperatures)\n",
    "analysis.set_axis(ax, x = 'time', y = 'temperature')"
   ]
  },
  {
   "cell_type": "code",
   "execution_count": 20,
   "id": "2622e767-8033-4a2d-8fc3-f1e6013d50e2",
   "metadata": {},
   "outputs": [],
   "source": [
    "sound_speed = np.array([physics.speed_of_sound(molecular_mass, temp, gamma) for temp in temperatures])"
   ]
  },
  {
   "cell_type": "code",
   "execution_count": 26,
   "id": "a7bd74cc-764b-4f4f-952c-3d4f7f6dbccd",
   "metadata": {},
   "outputs": [],
   "source": [
    "out_vel = df['vx']\n",
    "out_vel = out_vel.iloc[np.isin(out_vel.index, frames)]\n",
    "out_vel = out_vel.groupby(out_vel.index).mean()"
   ]
  },
  {
   "cell_type": "code",
   "execution_count": 31,
   "id": "36caa5ed-ce54-4702-b90f-a7087872b5e7",
   "metadata": {},
   "outputs": [
    {
     "data": {
      "application/vnd.jupyter.widget-view+json": {
       "model_id": "84299b4c521044c19a4799269b8fce11",
       "version_major": 2,
       "version_minor": 0
      },
      "text/plain": [
       "Canvas(toolbar=Toolbar(toolitems=[('Home', 'Reset original view', 'home', 'home'), ('Back', 'Back to previous …"
      ]
     },
     "metadata": {},
     "output_type": "display_data"
    }
   ],
   "source": [
    "fig, ax = plt.subplots()\n",
    "ax.plot(frames*dt,sound_speed)\n",
    "analysis.set_axis(ax, x = 'time', y = 'sound speed')"
   ]
  },
  {
   "cell_type": "code",
   "execution_count": 32,
   "id": "86bf41f7-be1d-4954-ad47-5619993ce182",
   "metadata": {},
   "outputs": [
    {
     "data": {
      "application/vnd.jupyter.widget-view+json": {
       "model_id": "cd79fb43a3bd43f0a74f3a1f7dd0e018",
       "version_major": 2,
       "version_minor": 0
      },
      "text/plain": [
       "Canvas(toolbar=Toolbar(toolitems=[('Home', 'Reset original view', 'home', 'home'), ('Back', 'Back to previous …"
      ]
     },
     "metadata": {},
     "output_type": "display_data"
    }
   ],
   "source": [
    "fig, ax = plt.subplots()\n",
    "ax.plot(frames*dt,out_vel)\n",
    "analysis.set_axis(ax, x = 'time', y = 'vx')"
   ]
  },
  {
   "cell_type": "markdown",
   "id": "214ec3f4-bb92-4ce2-89ce-34a0cdc780cb",
   "metadata": {},
   "source": [
    "### Velocity axis distribution per *cell*"
   ]
  },
  {
   "cell_type": "code",
   "execution_count": 97,
   "id": "c121169a-4cc7-4c4b-b786-de9cf8335251",
   "metadata": {},
   "outputs": [
    {
     "data": {
      "application/vnd.jupyter.widget-view+json": {
       "model_id": "182ce0109e3f4e16b6bbdc6588bda887",
       "version_major": 2,
       "version_minor": 0
      },
      "text/plain": [
       "Canvas(toolbar=Toolbar(toolitems=[('Home', 'Reset original view', 'home', 'home'), ('Back', 'Back to previous …"
      ]
     },
     "metadata": {},
     "output_type": "display_data"
    }
   ],
   "source": [
    "# spatial_hist2d plots an hist per cell defined by the params below\n",
    "# it is a 2D plot of size y_res * x_res\n",
    "# where each plot (i,j) takes the particle between i*x_step < x < (i+1)*x_step and j*y_step < y < (j+1)*y_step\n",
    "# for i varying between between 0 and x_res-1, and j varying between between 0 and y_res-1\n",
    "# You should not use too many cells because it quickly becomes very hard to view.\n",
    "# Params\n",
    "x_res = 10 # for example the number of cells during the simulations (if you want a plot per cell)\n",
    "y_res = 1\n",
    "x_step = 0.001 # size of the cell\n",
    "y_step = 0.001 \n",
    "\n",
    "# Plotting - vx\n",
    "fig, axes = analysis.spatial_hist2d(df, frames, val = 'vx', x_res = x_res, y_res = y_res, x_step = x_step, y_step=y_step);"
   ]
  },
  {
   "cell_type": "code",
   "execution_count": 13,
   "id": "47a61da5-6a9f-4e07-b6bb-2699647de92c",
   "metadata": {},
   "outputs": [
    {
     "data": {
      "application/vnd.jupyter.widget-view+json": {
       "model_id": "20237e3015a549f69c89a698f8120621",
       "version_major": 2,
       "version_minor": 0
      },
      "text/plain": [
       "Canvas(toolbar=Toolbar(toolitems=[('Home', 'Reset original view', 'home', 'home'), ('Back', 'Back to previous …"
      ]
     },
     "metadata": {},
     "output_type": "display_data"
    }
   ],
   "source": [
    "# Plotting - vy\n",
    "fig, axes = analysis.spatial_hist2d(df, frames, val = 'vy', x_res = x_res, y_res = y_res, x_step = x_step, y_step=y_step);"
   ]
  },
  {
   "cell_type": "markdown",
   "id": "c4a2d289-12fa-4dcd-b646-86552d22a632",
   "metadata": {},
   "source": [
    "## Collision with walls - analysis"
   ]
  },
  {
   "cell_type": "code",
   "execution_count": 90,
   "id": "fad509a1-b6ca-4cd7-8050-a76c6f56a8ac",
   "metadata": {},
   "outputs": [
    {
     "data": {
      "application/vnd.jupyter.widget-view+json": {
       "model_id": "1719ce72f20c4f9baab69a288326e910",
       "version_major": 2,
       "version_minor": 0
      },
      "text/plain": [
       "Canvas(toolbar=Toolbar(toolitems=[('Home', 'Reset original view', 'home', 'home'), ('Back', 'Back to previous …"
      ]
     },
     "metadata": {},
     "output_type": "display_data"
    }
   ],
   "source": [
    "fig, ax = plt.subplots()\n",
    "analysis.set_axis(ax, x = 'time', y = 'quantity')\n",
    "ax.plot(collisions_with_walls.index*dt, collisions_with_walls*mr);"
   ]
  },
  {
   "cell_type": "markdown",
   "id": "3e042a50-144e-4238-aaf8-71c4a6dd6e24",
   "metadata": {},
   "source": [
    "## DSMC collisions analysis"
   ]
  },
  {
   "cell_type": "markdown",
   "id": "0b3f09e4-863f-48bf-8d2e-c1763282b198",
   "metadata": {},
   "source": [
    "### Particles collisions analysis"
   ]
  },
  {
   "cell_type": "code",
   "execution_count": 33,
   "id": "6069b3a5",
   "metadata": {},
   "outputs": [
    {
     "name": "stdout",
     "output_type": "stream",
     "text": [
      "Total number of collision in the simulation (in reality) : 919.0 (2.940800e+10)\n"
     ]
    }
   ],
   "source": [
    "# start by summing over all cells\n",
    "collisions = collisions_per_cell.groupby(collisions_per_cell.index).sum() # returns a pandas Series\n",
    "print('Total number of collision in the simulation (in reality) : {} ({:e})'.format(np.sum(collisions),mr*np.sum(collisions)));"
   ]
  },
  {
   "cell_type": "code",
   "execution_count": 89,
   "id": "7476daab",
   "metadata": {},
   "outputs": [
    {
     "data": {
      "application/vnd.jupyter.widget-view+json": {
       "model_id": "9448d3c8ced045efa41d1cbd22b85033",
       "version_major": 2,
       "version_minor": 0
      },
      "text/plain": [
       "Canvas(toolbar=Toolbar(toolitems=[('Home', 'Reset original view', 'home', 'home'), ('Back', 'Back to previous …"
      ]
     },
     "metadata": {},
     "output_type": "display_data"
    }
   ],
   "source": [
    "fig, ax = plt.subplots()\n",
    "analysis.set_axis(ax, x = 'time', y = 'quantity')\n",
    "ax.plot(collisions.index*dt, collisions*mr);"
   ]
  },
  {
   "cell_type": "markdown",
   "id": "3dc95192-ffc6-4564-9d3b-4cf284a02e07",
   "metadata": {},
   "source": [
    "### Mean acceptance probability"
   ]
  },
  {
   "cell_type": "code",
   "execution_count": 17,
   "id": "758303a7-11d5-4960-a0bb-4cae6757fa6a",
   "metadata": {},
   "outputs": [
    {
     "name": "stdout",
     "output_type": "stream",
     "text": [
      "Mean proba : 4.073878e-01\n"
     ]
    },
    {
     "data": {
      "application/vnd.jupyter.widget-view+json": {
       "model_id": "58c5de0e0983451786e69271376ecc5e",
       "version_major": 2,
       "version_minor": 0
      },
      "text/plain": [
       "Canvas(toolbar=Toolbar(toolitems=[('Home', 'Reset original view', 'home', 'home'), ('Back', 'Back to previous …"
      ]
     },
     "metadata": {},
     "output_type": "display_data"
    }
   ],
   "source": [
    "proba = total_proba/collisions\n",
    "print('Mean proba : {:e}'.format(np.mean(proba)))\n",
    "fig, ax = plt.subplots()\n",
    "analysis.set_axis(ax, x = 'time', y = 'probability')\n",
    "ax.plot(proba.index*dt, proba, label = 'proba');"
   ]
  },
  {
   "cell_type": "markdown",
   "id": "0140d981-6e99-491e-9e8c-d193afe6ed82",
   "metadata": {},
   "source": [
    "### Maximum probability"
   ]
  },
  {
   "cell_type": "code",
   "execution_count": 18,
   "id": "60399a15-6ddb-4d2a-a84b-f49285488d50",
   "metadata": {},
   "outputs": [],
   "source": [
    "pmax = pmax_per_cell.groupby(pmax_per_cell.index).sum() # returns a pandas Series"
   ]
  },
  {
   "cell_type": "code",
   "execution_count": 19,
   "id": "9c2b9637-bac8-470e-882b-bf87eb9dbf7b",
   "metadata": {},
   "outputs": [
    {
     "data": {
      "application/vnd.jupyter.widget-view+json": {
       "model_id": "093824b0b05f420a823b1ac4585c630a",
       "version_major": 2,
       "version_minor": 0
      },
      "text/plain": [
       "Canvas(toolbar=Toolbar(toolitems=[('Home', 'Reset original view', 'home', 'home'), ('Back', 'Back to previous …"
      ]
     },
     "metadata": {},
     "output_type": "display_data"
    }
   ],
   "source": [
    "fig, ax = plt.subplots()\n",
    "analysis.set_axis(ax, x = 'time', y = 'probability')\n",
    "ax.plot(pmax.index*dt, pmax);"
   ]
  },
  {
   "cell_type": "markdown",
   "id": "07087c80-8e28-4527-9812-5a3822e46747",
   "metadata": {},
   "source": [
    "### Mean distance between two colliding particles"
   ]
  },
  {
   "cell_type": "code",
   "execution_count": 20,
   "id": "104e739b-17e3-48bf-9f4f-24836437b233",
   "metadata": {},
   "outputs": [
    {
     "data": {
      "application/vnd.jupyter.widget-view+json": {
       "model_id": "5ff0ea101379464285e1d94819da9f6d",
       "version_major": 2,
       "version_minor": 0
      },
      "text/plain": [
       "Canvas(toolbar=Toolbar(toolitems=[('Home', 'Reset original view', 'home', 'home'), ('Back', 'Back to previous …"
      ]
     },
     "metadata": {},
     "output_type": "display_data"
    },
    {
     "name": "stdout",
     "output_type": "stream",
     "text": [
      "Mean distance : 5.211814e-04 m\n"
     ]
    }
   ],
   "source": [
    "fig, ax = plt.subplots()\n",
    "dist = total_distance/collisions\n",
    "print('Mean distance : {:e} m'.format(np.mean(dist)))\n",
    "analysis.set_axis(ax, x = 'time', y = 'distance')\n",
    "ax.plot(dist.index*dt, dist);"
   ]
  },
  {
   "cell_type": "markdown",
   "id": "3d44e7eb-8a81-4a3c-b2a3-fb93bf73c5bf",
   "metadata": {},
   "source": [
    "## Mean free path \n",
    "The formula for the mean free path is : $\\lambda = \\frac{v_{mean}}{\\nu}$, where : \n",
    "* $v_{mean}$ is the mean velocity ;\n",
    "* $\\nu$ is the frequency of collision for ONE particle.\n",
    "\n",
    "We have : $\\frac{1}{\\nu} = \\frac{N_c dt}{2 N}$ with $N_c$ the number of particle in the cell, and $N$ the number of collisions.\n",
    "\n",
    "This yields :  $\\lambda = \\frac{v_{mean}N_c dt}{2N}$. There is no need for $m_r$ here as both $N_c$ and $N$ would require the multiplication to have the current number in the system.\n",
    "\n",
    "We start by doing it for the whole system."
   ]
  },
  {
   "cell_type": "code",
   "execution_count": 34,
   "id": "bf520612-a1db-4eaf-8067-87289372fd46",
   "metadata": {},
   "outputs": [],
   "source": [
    "x_res = 10 # for example the number of cells during the simulations (if you want a plot per cell)\n",
    "y_res = 1\n",
    "x_step = 0.001 # size of the cell\n",
    "y_step = 0.001"
   ]
  },
  {
   "cell_type": "code",
   "execution_count": 35,
   "id": "04f5c048-dadc-4b23-b8d3-76d7ed230644",
   "metadata": {},
   "outputs": [],
   "source": [
    "v_mean = df['v'].groupby(df.index).mean()"
   ]
  },
  {
   "cell_type": "code",
   "execution_count": 36,
   "id": "b0823ccf-27eb-4c86-959b-c632c440ac82",
   "metadata": {},
   "outputs": [],
   "source": [
    "v_mean = v_mean.loc[np.isin(v_mean.index,collisions.index)]\n",
    "nb_particles_in_system = df['x'].groupby(df.index).agg('count').loc[np.isin(unique_index,collisions.index)]"
   ]
  },
  {
   "cell_type": "code",
   "execution_count": 37,
   "id": "c8e96c75-d19f-4ccb-be0e-c219ff71800c",
   "metadata": {},
   "outputs": [],
   "source": [
    "mfp = 0.5*nb_particles_in_system*dt*v_mean/(collisions)"
   ]
  },
  {
   "cell_type": "code",
   "execution_count": 38,
   "id": "388472af-1321-4c63-8170-a0046df34bda",
   "metadata": {},
   "outputs": [
    {
     "data": {
      "application/vnd.jupyter.widget-view+json": {
       "model_id": "4e8ee73b62934714b96cf1b03c2d9fb2",
       "version_major": 2,
       "version_minor": 0
      },
      "text/plain": [
       "Canvas(toolbar=Toolbar(toolitems=[('Home', 'Reset original view', 'home', 'home'), ('Back', 'Back to previous …"
      ]
     },
     "metadata": {},
     "output_type": "display_data"
    }
   ],
   "source": [
    "fig, ax = plt.subplots()\n",
    "ax.plot(collisions.index*dt, mfp)\n",
    "analysis.set_axis(ax, x = 'time', y = 'mean free path')"
   ]
  },
  {
   "cell_type": "markdown",
   "id": "1e2661cc-8a77-4a1c-90ab-f0c4300255d7",
   "metadata": {},
   "source": [
    "## Out particle analysis"
   ]
  },
  {
   "cell_type": "code",
   "execution_count": 39,
   "id": "cae4a469-a475-433b-a438-8bc2ef99e8fc",
   "metadata": {},
   "outputs": [
    {
     "data": {
      "application/vnd.jupyter.widget-view+json": {
       "model_id": "738889a24fdd4493bddefb16c415b268",
       "version_major": 2,
       "version_minor": 0
      },
      "text/plain": [
       "Canvas(toolbar=Toolbar(toolitems=[('Home', 'Reset original view', 'home', 'home'), ('Back', 'Back to previous …"
      ]
     },
     "metadata": {},
     "output_type": "display_data"
    }
   ],
   "source": [
    "fig, ax = plt.subplots()\n",
    "mass_flow_rate = mr*physics.compute_mass_flow_rate(total_deleted, dt, mass)\n",
    "analysis.set_axis(ax, x = 'time', y = 'mass flow rate')\n",
    "plt.plot(mass_flow_rate.index*dt, mass_flow_rate);"
   ]
  },
  {
   "cell_type": "markdown",
   "id": "dbb70a31-dc3a-4b6a-afdc-f6d3f509b2ac",
   "metadata": {},
   "source": [
    "## Bonus - Not necessarily recommended and takes lots of time\n",
    "Next is the plot of the system for each saved step. "
   ]
  },
  {
   "cell_type": "code",
   "execution_count": 23,
   "id": "f9aae1ad-3b94-4892-ab99-7343389a5786",
   "metadata": {},
   "outputs": [],
   "source": [
    "# creating speed_norm (for the color)\n",
    "df['speed_norm'] = np.sqrt(df['vx']**2+df['vy']**2+df['vz']**2)"
   ]
  },
  {
   "cell_type": "code",
   "execution_count": null,
   "id": "a41a9230-76f2-4428-81c8-3b6a2ddf3233",
   "metadata": {},
   "outputs": [],
   "source": [
    "import numpy as np\n",
    "from matplotlib import pyplot as plt\n",
    "from matplotlib.animation import FuncAnimation\n",
    "\n",
    "def update_hist(num, df):\n",
    "    dfit = df.loc[df.index == num]\n",
    "\n",
    "    scat.set_offsets(np.c_[dfit['x'],dfit['y']])\n",
    "    scat.set_array(df['speed_norm'])\n",
    "    \n",
    "    ax.set_title('{}/{}'.format(num+1, iterations), fontsize=15)\n",
    "\n",
    "fig, ax = plt.subplots()\n",
    "dfit = df.loc[df.index == 0]\n",
    "scat = ax.scatter(dfit['x'], dfit['y'], s=0.1, c = dfit['speed_norm'], cmap='seismic') #  c = df['speed_norm']\n",
    "analysis.set_axis(ax, x = 'x', y = 'y')\n",
    "# if you want the boundaries to be plotted and the grid too, you have to initialize those fields yourself.\n",
    "# in the other case, only particles will be plotted.\n",
    "# plot_boundaries(ax, segments)\n",
    "# plot_grid(ax, resolutions, system_shape)\n",
    "\n",
    "ax.set_title('{}/{}'.format(1, iterations), fontsize=12)\n",
    "ax.axis('equal')\n",
    "\n",
    "interval = 40 # 25 images per second\n",
    "anim = FuncAnimation(fig, update_hist, interval=interval, frames=iterations, fargs=(df, ), save_count=iterations)\n",
    "anim.save(dir_path/'system_state_evo.mp4', dpi = 300);"
   ]
  }
 ],
 "metadata": {
  "kernelspec": {
   "display_name": "Python 3",
   "language": "python",
   "name": "python3"
  },
  "language_info": {
   "codemirror_mode": {
    "name": "ipython",
    "version": 3
   },
   "file_extension": ".py",
   "mimetype": "text/x-python",
   "name": "python",
   "nbconvert_exporter": "python",
   "pygments_lexer": "ipython3",
   "version": "3.9.4"
  }
 },
 "nbformat": 4,
 "nbformat_minor": 5
}
