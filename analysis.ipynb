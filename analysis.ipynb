{
 "cells": [
  {
   "cell_type": "markdown",
   "id": "2292864b",
   "metadata": {},
   "source": [
    "## Note : \n",
    "Mean free path : $\\lambda = \\frac{1}{n \\sigma}$\n",
    "\n",
    "If $n \\rightarrow 100 \\times n$, then :\n",
    "- $\\lambda \\rightarrow \\frac{\\lambda}{100}$\n",
    "- $\\text{cell size} \\rightarrow \\frac{\\text{cell size}}{100}$ ($100^2$ more cells because the grid is 2D)\n",
    "- $dt \\rightarrow \\frac{dt}{100}$\n",
    "\n",
    "But you can lower, down to a certain extent, the number of particles per cell to \"not incease too much the computation time\"."
   ]
  },
  {
   "cell_type": "markdown",
   "id": "8674e7ec",
   "metadata": {},
   "source": [
    "## Representative physical length scale\n",
    "\n",
    "The system has two lenghts : \n",
    "* lenght of the tube : $L = 0.01$ $m$\n",
    "* width : $w = 0.001$ $m$\n",
    "\n",
    "The width is the representative physical length scale that constrains the flow.\n",
    "\n",
    "So : $K_d = \\frac{\\lambda}{w}$.\n",
    "\n",
    "\n"
   ]
  },
  {
   "cell_type": "code",
   "execution_count": 1,
   "id": "71b6d621",
   "metadata": {
    "slideshow": {
     "slide_type": "slide"
    }
   },
   "outputs": [],
   "source": [
    "%matplotlib widget\n",
    "\n",
    "# notebook\n",
    "import pandas as pd\n",
    "import numpy as np\n",
    "import matplotlib.pyplot as plt\n",
    "import scipy as scipy\n",
    "from pathlib import Path\n",
    "\n",
    "from lppydsmc.data.saver import Saver\n",
    "from plotting import analysis\n",
    "from lppydsmc.utils import physics\n",
    "\n",
    "plt.figure.max_open_warning = False"
   ]
  },
  {
   "cell_type": "markdown",
   "id": "dd77c5cf",
   "metadata": {},
   "source": [
    "## Loading results"
   ]
  },
  {
   "cell_type": "code",
   "execution_count": 2,
   "id": "3d32caa3",
   "metadata": {
    "slideshow": {
     "slide_type": "slide"
    }
   },
   "outputs": [],
   "source": [
    "dir_path = Path('results/')\n",
    "\n",
    "simu = 'neutral_three_grids' # low, mid, thruster_low, test_hall\n",
    "\n",
    "dz = 0.001"
   ]
  },
  {
   "cell_type": "code",
   "execution_count": 3,
   "id": "637957e7",
   "metadata": {
    "slideshow": {
     "slide_type": "subslide"
    }
   },
   "outputs": [],
   "source": [
    "if(simu == 'low'):\n",
    "    dt = 1e-6\n",
    "    mr = 32000000\n",
    "    name = 'test_hard_reset.h5'\n",
    "    lenght = 0.01 # m\n",
    "    width = 0.001\n",
    "    nb_cells = 10\n",
    "    cell_size = 0.001\n",
    "    temperature = 300 # K\n",
    "    volume = cell_size*lenght*dz\n",
    "elif(simu == 'test_tube_low_no_inject'):\n",
    "    dt = 1e-6 \n",
    "    mr = 3.200000e+07\n",
    "    name = 'test_tube_low_no_inject.h5'\n",
    "    lenght = 0.01 # m\n",
    "    width = 0.001\n",
    "    nb_cells = 10\n",
    "    cell_size = 0.001\n",
    "    temperature = 300 # K\n",
    "    volume = cell_size*lenght*dz\n",
    "elif(simu == 'low_with_init'):\n",
    "    dt = 1e-6 \n",
    "    mr = 3.200000e+07\n",
    "    name = 'test_tube_low_with_init.h5'\n",
    "    lenght = 0.01 # m\n",
    "    width = 0.001\n",
    "    nb_cells = 10\n",
    "    cell_size = 0.001\n",
    "    temperature = 300 # K\n",
    "    volume = cell_size*lenght*dz\n",
    "elif(simu == 'low_wave'):\n",
    "    dt = 1e-7 \n",
    "    mr = 3.200000e+06\n",
    "    name = 'test_tube_low_wave.h5'\n",
    "    lenght = 0.01 # m\n",
    "    width = 0.001\n",
    "    nb_cells = 10\n",
    "    cell_size = 0.001\n",
    "    temperature = 300 # K\n",
    "    volume = cell_size*lenght*dz\n",
    "elif(simu == 'mid'):\n",
    "    dt = 5e-07\n",
    "    mr = 1.6e6\n",
    "    name = 'test_tube_mid.h5'\n",
    "    lenght = 0.01\n",
    "    width = 0.001\n",
    "    cell_size = 0.0001\n",
    "    nb_cells = 100\n",
    "    temperature = 300 # K\n",
    "    volume = cell_size*lenght*dz\n",
    "elif(simu == 'high'):\n",
    "    dt = 5e-9 \n",
    "    mr = 3.200000e+11\n",
    "    name = 'test_tube_high.h5'\n",
    "    lenght = 0.01\n",
    "    width = 0.001\n",
    "    cell_size = 0.000001 # not feasible\n",
    "    temperature = 300 # K\n",
    "    volume = cell_size*lenght*dz\n",
    "elif(simu == 'big'):\n",
    "    dt = 1e-6 \n",
    "    mr = 3.200000e+07\n",
    "    name = 'test_big_tube.h5'\n",
    "    lenght = 0.1\n",
    "    width = 0.001\n",
    "    cell_size = 0.001\n",
    "    temperature = 300 # K\n",
    "    volume = cell_size*lenght*dz\n",
    "elif(simu == 'thruster_low'): # representative lenght scale varies along the flow ...\n",
    "    dt = 1e-6 \n",
    "    mr = 3.200000e+07\n",
    "    name = 'test_thruster_low.h5'\n",
    "    lenght = 0.011 # m\n",
    "    width = 0.005\n",
    "    cell_size = 0.001\n",
    "    temperature = 300 # K\n",
    "    nb_cells = 33\n",
    "    volume = cell_size*cell_size*dz*nb_cells\n",
    "elif(simu == 'neutral_three_grids'): # representative lenght scale varies along the flow ...\n",
    "    dt = 1e-6 \n",
    "    mr = 160000000\n",
    "    name = 'neutral_three_grids.h5'\n",
    "    lenght = 0.018 # m\n",
    "    width = 0.005\n",
    "    cell_size = 0.001\n",
    "    temperature = 300 # K\n",
    "    nb_cells = 41\n",
    "    volume = cell_size*cell_size*dz*nb_cells\n",
    "elif(simu == 'test_hall'): # representative lenght scale varies along the flow ...\n",
    "    dt = 1e-5\n",
    "    mr = 160000000\n",
    "    name = 'test_hall.h5'\n",
    "    lenght = 0.025 # m\n",
    "    width = 0.01\n",
    "    cell_size = 0.001\n",
    "    temperature = 640 # K\n",
    "    nb_cells = 20*25\n",
    "    volume = cell_size*cell_size*dz*nb_cells"
   ]
  },
  {
   "cell_type": "code",
   "execution_count": 4,
   "id": "9b97e8f3",
   "metadata": {},
   "outputs": [],
   "source": [
    "store = pd.HDFStore(dir_path/name)"
   ]
  },
  {
   "cell_type": "code",
   "execution_count": 5,
   "id": "02437b80",
   "metadata": {},
   "outputs": [],
   "source": [
    "# defining each variable\n",
    "collisions_per_cell_full = store['collisions_per_cell'] \n",
    "df_full = store['df']\n",
    "pmax_per_cell = store['pmax_per_cell'] # cell-discretization not taken into account \n",
    "averages_per_cell = store['averages_per_cell'] # idem\n",
    "total_deleted = store['total_deleted']\n",
    "total_distance = store['total_distance']\n",
    "total_proba = store['total_proba']\n",
    "collisions_with_walls = store['collisions_with_walls']"
   ]
  },
  {
   "cell_type": "code",
   "execution_count": 6,
   "id": "3a744580-05ef-4b8a-952a-ee63f9bfd317",
   "metadata": {},
   "outputs": [
    {
     "data": {
      "text/plain": [
       "1672.0"
      ]
     },
     "execution_count": 6,
     "metadata": {},
     "output_type": "execute_result"
    }
   ],
   "source": [
    "np.sum(collisions_per_cell_full) "
   ]
  },
  {
   "cell_type": "code",
   "execution_count": 12,
   "id": "272f0f17",
   "metadata": {},
   "outputs": [],
   "source": [
    "choice = 'I'\n",
    "gamma = 5/3. # roughly for atomes, for diatomic molecule : 7/5.\n",
    "\n",
    "if(choice=='I'):\n",
    "    mass = physics.get_mass_part(53, 53, 74) # I\n",
    "    molecular_mass = 0.1269 # kg/mol\n",
    "elif(choice=='Xe'):\n",
    "    mass = 131.293*physics.ATOMIC_MASS # Xe\n",
    "    molecular_mass = 0.131293\n",
    "    \n",
    "verbose=False"
   ]
  },
  {
   "cell_type": "code",
   "execution_count": 13,
   "id": "17cbe022",
   "metadata": {},
   "outputs": [
    {
     "name": "stdout",
     "output_type": "stream",
     "text": [
      "Speed of sound for [I] at temperature 300 K : 180.99192585903475 m/s\n"
     ]
    }
   ],
   "source": [
    "sound_vel = physics.speed_of_sound(molecular_mass, temperature, gamma)\n",
    "print(f'Speed of sound for [{choice}] at temperature {temperature} K : {sound_vel} m/s')"
   ]
  },
  {
   "cell_type": "markdown",
   "id": "ffe8ae01",
   "metadata": {},
   "source": [
    "## Note : \n",
    "To save a figure, you can use : `analysis.save_fig(fig, path, title = None, dpi = 400, figsize = None)`, which allows you to easily save a figure while giving it a title and changing its size.\n",
    "You can also use the interactive widget."
   ]
  },
  {
   "cell_type": "markdown",
   "id": "bf70d067",
   "metadata": {},
   "source": [
    "## Choosing the part of the system to plot "
   ]
  },
  {
   "cell_type": "code",
   "execution_count": 9,
   "id": "a6f7428a",
   "metadata": {},
   "outputs": [],
   "source": [
    "# grid resolutions for the thruster\n",
    "\n",
    "thruster = True\n",
    "\n",
    "if(thruster):\n",
    "    res_x_0, res_y_0 = 18, 5\n",
    "else:\n",
    "    res_x_0, res_y_0 = 10, 1 # 100, 10 # 25, 10\n",
    "\n",
    "total_nb_cells = res_x_0*res_y_0"
   ]
  },
  {
   "cell_type": "code",
   "execution_count": 18,
   "id": "3b3f4555",
   "metadata": {},
   "outputs": [
    {
     "data": {
      "application/vnd.jupyter.widget-view+json": {
       "model_id": "d26f6060697546e0a13e99fd4eaeb1e9",
       "version_major": 2,
       "version_minor": 0
      },
      "text/plain": [
       "Canvas(toolbar=Toolbar(toolitems=[('Home', 'Reset original view', 'home', 'home'), ('Back', 'Back to previous …"
      ]
     },
     "metadata": {},
     "output_type": "display_data"
    }
   ],
   "source": [
    "fig, ax = plt.subplots(1, constrained_layout = True, figsize = (res_x_0, res_y_0));\n",
    "\n",
    "fact = 10\n",
    "volume_cell_plot = volume/(fact*fact*res_x_0*res_y_0)\n",
    "duration = df_full.index.unique().values.shape[0]\n",
    "analysis.hist2d(ax, df_full, bins = (fact*res_x_0,fact*res_y_0), weights = mr*np.ones(df_full.shape[0])/(duration*volume_cell_plot), stat = 'count'); # TODO: add cmap"
   ]
  },
  {
   "cell_type": "code",
   "execution_count": 10,
   "id": "af6e5e62",
   "metadata": {},
   "outputs": [],
   "source": [
    "use_part = False\n",
    "\n",
    "# tube last part\n",
    "if(use_part):\n",
    "    if(thruster):\n",
    "        part = 1 # 2\n",
    "        if(part == 1):\n",
    "            x_min, x_max = 0, 3e-3 \n",
    "            y_min, y_max = 0.0, 5e-3\n",
    "            \n",
    "            # collisions\n",
    "            res_x, res_y = 3, 5 \n",
    "            offset = 0\n",
    "            cells = [k for k in range(15)]\n",
    "            \n",
    "        elif(part == 2):\n",
    "            x_min, x_max = 0.005, 1e-2\n",
    "            y_min, y_max = 2e-3, 3e-3\n",
    "            \n",
    "            # collisions\n",
    "            res_x, res_y = 5,1\n",
    "            offset = 27\n",
    "            cells = [27, 32, 37, 42, 47] \n",
    "            \n",
    "        volume = (x_max-x_min)*(y_max-y_min)*dz\n",
    "        df = df_full.loc[(df_full['x']>x_min) & (df_full['x']<x_max) & (df_full['y']>y_min) & (df_full['y']<y_max)].copy(deep=True)\n",
    "\n",
    "        # in addition we want to select the right cells in collisions\n",
    "        # plotting the mfp for the selected cells.\n",
    "        # first along x axis, then along y axis\n",
    "        nb_rows = collisions_per_cell_full.shape[0]\n",
    "        \n",
    "        index_collisions = collisions_per_cell_full.index.unique().values\n",
    "        collisions_per_cell = np.zeros((res_x,res_y,index_collisions.shape[0]))\n",
    "\n",
    "        for cell in cells :\n",
    "            i, j = (cell-offset)//res_y_0, (cell-offset)%res_y_0\n",
    "            collisions_per_cell[i,j,:] = collisions_per_cell_full[cell:nb_rows:total_nb_cells].values\n",
    "    else: # tube\n",
    "        hall = False\n",
    "        if(not hall):\n",
    "            x_min, x_max = 9e-3, 1e-2\n",
    "            y_min, y_max = 0, 1e-3\n",
    "\n",
    "            res_x, res_y = 1, 1\n",
    "            offset = 9 \n",
    "            cells = [9]\n",
    "        else:\n",
    "            x_min, x_max = 2e-2, 2.5e-2\n",
    "            y_min, y_max = 0, 1e-2\n",
    "\n",
    "            res_x, res_y = 5, 10 \n",
    "            offset = 200 \n",
    "            cells = [offset+k for k in range(50)] \n",
    "            \n",
    "        volume = (x_max-x_min)*(y_max-y_min)*dz\n",
    "        df = df_full.loc[(df_full['x']>x_min) & (df_full['x']<x_max) & (df_full['y']>y_min) & (df_full['y']<y_max)].copy(deep=True)\n",
    "        # in addition we want to select the right cells in collisions\n",
    "        # plotting the mfp for the selected cells.\n",
    "        # first along x axis, then along y axis\n",
    "            \n",
    "        nb_rows = collisions_per_cell_full.shape[0]\n",
    "        \n",
    "        index_collisions = collisions_per_cell_full.index.unique().values\n",
    "        collisions_per_cell = np.zeros((res_x,res_y,index_collisions.shape[0]))\n",
    "\n",
    "        for cell in cells :\n",
    "            i, j = (cell-offset)//res_y_0, (cell-offset)%res_y_0\n",
    "            collisions_per_cell[i,j,:] = collisions_per_cell_full[cell:nb_rows:total_nb_cells].values\n",
    "        \n",
    "else:\n",
    "    df = df_full # another reference.\n",
    "    nb_rows = collisions_per_cell_full.shape[0]\n",
    "\n",
    "    ## we are still\n",
    "    index_collisions = collisions_per_cell_full.index.unique().values\n",
    "    collisions_per_cell = np.zeros((res_x_0,res_y_0,index_collisions.shape[0]))\n",
    "    for cell in range(total_nb_cells):\n",
    "        i, j = cell//res_y_0, cell%res_y_0\n",
    "        collisions_per_cell[i,j,:] = collisions_per_cell_full[cell:nb_rows:total_nb_cells].values"
   ]
  },
  {
   "cell_type": "markdown",
   "id": "dd05cd9c",
   "metadata": {},
   "source": [
    "## Choosing frames to plot"
   ]
  },
  {
   "cell_type": "code",
   "execution_count": 11,
   "id": "c460d1c0",
   "metadata": {},
   "outputs": [
    {
     "ename": "NameError",
     "evalue": "name 'verbose' is not defined",
     "output_type": "error",
     "traceback": [
      "\u001b[0;31m---------------------------------------------------------------------------\u001b[0m",
      "\u001b[0;31mNameError\u001b[0m                                 Traceback (most recent call last)",
      "\u001b[0;32m<ipython-input-11-55a7eb0a16e6>\u001b[0m in \u001b[0;36m<module>\u001b[0;34m\u001b[0m\n\u001b[1;32m      6\u001b[0m \u001b[0mframes\u001b[0m \u001b[0;34m=\u001b[0m \u001b[0munique_index\u001b[0m\u001b[0;34m[\u001b[0m\u001b[0mint\u001b[0m\u001b[0;34m(\u001b[0m\u001b[0;36m0.8\u001b[0m\u001b[0;34m*\u001b[0m\u001b[0mnb_save\u001b[0m\u001b[0;34m)\u001b[0m\u001b[0;34m:\u001b[0m\u001b[0mnb_save\u001b[0m\u001b[0;34m]\u001b[0m\u001b[0;34m\u001b[0m\u001b[0;34m\u001b[0m\u001b[0m\n\u001b[1;32m      7\u001b[0m \u001b[0;34m\u001b[0m\u001b[0m\n\u001b[0;32m----> 8\u001b[0;31m \u001b[0;32mif\u001b[0m\u001b[0;34m(\u001b[0m\u001b[0mverbose\u001b[0m\u001b[0;34m)\u001b[0m\u001b[0;34m:\u001b[0m\u001b[0;34m\u001b[0m\u001b[0;34m\u001b[0m\u001b[0m\n\u001b[0m\u001b[1;32m      9\u001b[0m     \u001b[0mprint\u001b[0m\u001b[0;34m(\u001b[0m\u001b[0;34mf'Available frames :  {unique_index}'\u001b[0m\u001b[0;34m)\u001b[0m\u001b[0;34m\u001b[0m\u001b[0;34m\u001b[0m\u001b[0m\n\u001b[1;32m     10\u001b[0m     \u001b[0mprint\u001b[0m\u001b[0;34m(\u001b[0m\u001b[0;34mf'Max iteration : {iterations}'\u001b[0m\u001b[0;34m)\u001b[0m\u001b[0;34m\u001b[0m\u001b[0;34m\u001b[0m\u001b[0m\n",
      "\u001b[0;31mNameError\u001b[0m: name 'verbose' is not defined"
     ]
    }
   ],
   "source": [
    "unique_index = df.index.unique().values\n",
    "nb_save = unique_index.shape[0]\n",
    "iterations = np.max(unique_index)\n",
    "adding_period = unique_index[1]-unique_index[0] # adding period - required to\n",
    "# generally speaking, you choose frames so you have the steady state\n",
    "frames = unique_index[int(0.8*nb_save):nb_save] \n",
    "\n",
    "if(verbose):\n",
    "    print(f'Available frames :  {unique_index}')\n",
    "    print(f'Max iteration : {iterations}')\n",
    "    print(f'Choosen frames (for plotting) : \\n{frames}')"
   ]
  },
  {
   "cell_type": "markdown",
   "id": "f66f0bf8",
   "metadata": {},
   "source": [
    "## Particles analysis\n",
    "### Plotting number of particles evolution"
   ]
  },
  {
   "cell_type": "code",
   "execution_count": 21,
   "id": "6934008e",
   "metadata": {},
   "outputs": [],
   "source": [
    "nb_parts = df['x'].groupby(df.index).agg('count').values"
   ]
  },
  {
   "cell_type": "code",
   "execution_count": 22,
   "id": "ec64508a",
   "metadata": {},
   "outputs": [
    {
     "data": {
      "application/vnd.jupyter.widget-view+json": {
       "model_id": "23a40df96e7b4f74b254583d2d96ac4a",
       "version_major": 2,
       "version_minor": 0
      },
      "text/plain": [
       "Canvas(toolbar=Toolbar(toolitems=[('Home', 'Reset original view', 'home', 'home'), ('Back', 'Back to previous …"
      ]
     },
     "metadata": {},
     "output_type": "display_data"
    }
   ],
   "source": [
    "fig, ax = plt.subplots()\n",
    "ax.plot(df.index.unique()*dt, nb_parts)\n",
    "analysis.set_axis(ax, x = 'time', y = 'quantity')"
   ]
  },
  {
   "cell_type": "markdown",
   "id": "428cae1c",
   "metadata": {},
   "source": [
    "### Plotting density evolution"
   ]
  },
  {
   "cell_type": "code",
   "execution_count": 23,
   "id": "e6bfc3eb",
   "metadata": {},
   "outputs": [
    {
     "data": {
      "application/vnd.jupyter.widget-view+json": {
       "model_id": "dde7b6554d5b4f82b98dac975df20902",
       "version_major": 2,
       "version_minor": 0
      },
      "text/plain": [
       "Canvas(toolbar=Toolbar(toolitems=[('Home', 'Reset original view', 'home', 'home'), ('Back', 'Back to previous …"
      ]
     },
     "metadata": {},
     "output_type": "display_data"
    }
   ],
   "source": [
    "fig, ax = plt.subplots()\n",
    "ax.plot(df.index.unique()*dt, nb_parts*mr/volume)\n",
    "analysis.set_axis(ax, x = 'time', y = 'density')"
   ]
  },
  {
   "cell_type": "markdown",
   "id": "8ab61926",
   "metadata": {},
   "source": [
    "### Density as a function of x"
   ]
  },
  {
   "cell_type": "code",
   "execution_count": 25,
   "id": "6a9891b5-ab25-4e39-8391-9c639ecd7561",
   "metadata": {},
   "outputs": [],
   "source": [
    "df_it = df.loc[np.isin(df.index, frames)]"
   ]
  },
  {
   "cell_type": "code",
   "execution_count": 26,
   "id": "3c920672-9b35-4e10-b155-23b647ad78b2",
   "metadata": {},
   "outputs": [],
   "source": [
    "\n",
    "# scatter plot\n",
    "dy = 1e-3\n",
    "y_offset = 2e-3 # m\n",
    "\n",
    "df_central = df_it.loc[(df_it['y']>y_offset) & (df_it['y']<y_offset+dy)]"
   ]
  },
  {
   "cell_type": "code",
   "execution_count": 31,
   "id": "dd67980a-ab96-4d1b-acf3-dc31b4f610ee",
   "metadata": {},
   "outputs": [
    {
     "data": {
      "application/vnd.jupyter.widget-view+json": {
       "model_id": "d3d9bf3ea51a40c497b091be523687e9",
       "version_major": 2,
       "version_minor": 0
      },
      "text/plain": [
       "Canvas(toolbar=Toolbar(toolitems=[('Home', 'Reset original view', 'home', 'home'), ('Back', 'Back to previous …"
      ]
     },
     "metadata": {},
     "output_type": "display_data"
    }
   ],
   "source": [
    "fig, ax = plt.subplots(constrained_layout = True)\n",
    "dx, bins = 1e-3, 18 # should always be equal to 1.8e-2 m\n",
    "# ax.set_yscale('log')\n",
    "duration_it = df_it.index.unique().values.shape[0]\n",
    "\n",
    "analysis.hist1d(ax, df_central, 'x', bins = bins, weights = mr/(dy*dx*dz*duration_it)*np.ones(df_central.shape[0]), color = 'b', histtype = 'step', label = 'I')\n",
    "analysis.set_axis(ax, 'x', 'density')\n",
    "# ax.legend(loc='best');"
   ]
  },
  {
   "cell_type": "markdown",
   "id": "6dddc901",
   "metadata": {},
   "source": [
    "### Pressure in mTorr"
   ]
  },
  {
   "cell_type": "code",
   "execution_count": 16,
   "id": "92234ae0",
   "metadata": {},
   "outputs": [],
   "source": [
    "pressure_torr = physics.pressure_torr(nb_parts*mr, volume, temperature)"
   ]
  },
  {
   "cell_type": "code",
   "execution_count": 17,
   "id": "fafb6a9b",
   "metadata": {},
   "outputs": [
    {
     "data": {
      "application/vnd.jupyter.widget-view+json": {
       "model_id": "1242836220184a3cb1cd9c170c4df946",
       "version_major": 2,
       "version_minor": 0
      },
      "text/plain": [
       "Canvas(toolbar=Toolbar(toolitems=[('Home', 'Reset original view', 'home', 'home'), ('Back', 'Back to previous …"
      ]
     },
     "metadata": {},
     "output_type": "display_data"
    }
   ],
   "source": [
    "fig, ax = plt.subplots()\n",
    "ax.plot(df.index.unique()*dt, pressure_torr*1e3)\n",
    "analysis.set_axis(ax, x = 'time', y = None)\n",
    "ax.set_ylabel('pressure (mTorr)');"
   ]
  },
  {
   "cell_type": "markdown",
   "id": "f17a989d",
   "metadata": {},
   "source": [
    "### Final state"
   ]
  },
  {
   "cell_type": "code",
   "execution_count": 18,
   "id": "846c3003",
   "metadata": {},
   "outputs": [
    {
     "data": {
      "application/vnd.jupyter.widget-view+json": {
       "model_id": "7dde6a867d5a47c89151c0c8d539c270",
       "version_major": 2,
       "version_minor": 0
      },
      "text/plain": [
       "Canvas(toolbar=Toolbar(toolitems=[('Home', 'Reset original view', 'home', 'home'), ('Back', 'Back to previous …"
      ]
     },
     "metadata": {},
     "output_type": "display_data"
    }
   ],
   "source": [
    "fig, ax = plt.subplots()\n",
    "analysis.state(ax, df.loc[df.index == frames[-1]], c = None)"
   ]
  },
  {
   "cell_type": "markdown",
   "id": "7d3f1593",
   "metadata": {},
   "source": [
    "### Velocity distribution"
   ]
  },
  {
   "cell_type": "code",
   "execution_count": 32,
   "id": "1bae07ec",
   "metadata": {},
   "outputs": [
    {
     "data": {
      "application/vnd.jupyter.widget-view+json": {
       "model_id": "db2cf376dd3446c6bce0e7c83f2a9aaf",
       "version_major": 2,
       "version_minor": 0
      },
      "text/plain": [
       "Canvas(toolbar=Toolbar(toolitems=[('Home', 'Reset original view', 'home', 'home'), ('Back', 'Back to previous …"
      ]
     },
     "metadata": {},
     "output_type": "display_data"
    }
   ],
   "source": [
    "fig, axes = analysis.velocity_distribution(df, frames, bins = 100, density = True, sharex = False, sharey = False);"
   ]
  },
  {
   "cell_type": "markdown",
   "id": "3ac57e0a",
   "metadata": {},
   "source": [
    "df_mean = df.groupby(df.index).mean()\n",
    "## Temperature evolution\n",
    "\n",
    "First - not by cell but for the whole system.\n",
    "\n",
    "### Theory : \n",
    "\n",
    "The kinetic energy density $w$ is\n",
    "\n",
    "$w = \\frac{3}{2}p(\\vec{r},t) + n(\\vec{r},t)\\frac{1}{2} m |\\vec{u}(\\vec{r},t)|^2$ \n",
    "\n",
    "With $\\vec{u}(\\vec{r},t) = ((<(v_x, v_y, v_z)>)(\\vec{r},t))^T$ thus : $|\\vec{u}(\\vec{r},t)| = |<\\vec{v}>|$.\n",
    "\n",
    "Here the drift is not zero. So we have to remove it to have only $\\frac{3}{2}p(\\vec{r},t) = w - n(\\vec{r},t)\\frac{1}{2} m |\\vec{u}(\\vec{r},t)|^2$.\n",
    "\n",
    "This yields : \n",
    "\n",
    "$\\frac{3}{2}p(\\vec{r},t) = n(\\vec{r},t)  <\\frac{1}{2}mv^2> - n(\\vec{r},t)\\frac{1}{2} m |\\vec{u}(\\vec{r},t)|^2$\n",
    "\n",
    "Which yields : \n",
    "\n",
    "$$ \\frac{3}{2}p(\\vec{r},t) = \\frac{m n(\\vec{r},t)}{2}  (<v^2> - |<\\vec{v}>|^2) $$\n",
    "\n",
    "With $p = nkT$.\n",
    "\n",
    "Intuition : total energy - energy contains in the drift."
   ]
  },
  {
   "cell_type": "code",
   "execution_count": 20,
   "id": "496f52e4",
   "metadata": {},
   "outputs": [],
   "source": [
    "df['v'] = np.sqrt(df['vx']*df['vx']+df['vy']*df['vy']+df['vz']*df['vz']) # df.apply(analysis.speed_norm, axis = 1)\n",
    "df['v2'] = df['v']**2\n",
    "df_mean = df.groupby(df.index).mean()\n",
    "df_mean['v_drift'] = np.sqrt(df_mean['vx']*df_mean['vx']+df_mean['vy']*df_mean['vy']+df_mean['vz']*df_mean['vz'])"
   ]
  },
  {
   "cell_type": "code",
   "execution_count": 21,
   "id": "43a08fbf",
   "metadata": {},
   "outputs": [],
   "source": [
    "# maxwellian temperature \n",
    "temperature_mb = np.pi*mass*df_mean['v']**2/(8*physics.BOLTZMAN_CONSTANT)"
   ]
  },
  {
   "cell_type": "code",
   "execution_count": 22,
   "id": "6b42bbca",
   "metadata": {},
   "outputs": [],
   "source": [
    "df_mean['temperature'] =  mass/(3.*physics.BOLTZMAN_CONSTANT) * (df_mean['v2']-df_mean['v_drift']**2)\n",
    "temperatures = df_mean['temperature']"
   ]
  },
  {
   "cell_type": "code",
   "execution_count": 23,
   "id": "eb5681e3",
   "metadata": {},
   "outputs": [
    {
     "data": {
      "application/vnd.jupyter.widget-view+json": {
       "model_id": "9263f3cf6ffe4ab4b3f67e3cba2d054a",
       "version_major": 2,
       "version_minor": 0
      },
      "text/plain": [
       "Canvas(toolbar=Toolbar(toolitems=[('Home', 'Reset original view', 'home', 'home'), ('Back', 'Back to previous …"
      ]
     },
     "metadata": {},
     "output_type": "display_data"
    }
   ],
   "source": [
    "fig, ax = plt.subplots(1,2)\n",
    "ax[0].plot(unique_index*dt,temperatures)\n",
    "ax[1].plot(unique_index*dt,temperature_mb)\n",
    "\n",
    "analysis.set_axis(ax[0], x = 'time', y = 'temperature')\n",
    "analysis.set_axis(ax[1], x = 'time', y = 'temperature')"
   ]
  },
  {
   "cell_type": "code",
   "execution_count": 24,
   "id": "4937d714",
   "metadata": {},
   "outputs": [
    {
     "data": {
      "application/vnd.jupyter.widget-view+json": {
       "model_id": "8f0c157101024006bddb20b277d20578",
       "version_major": 2,
       "version_minor": 0
      },
      "text/plain": [
       "Canvas(toolbar=Toolbar(toolitems=[('Home', 'Reset original view', 'home', 'home'), ('Back', 'Back to previous …"
      ]
     },
     "metadata": {},
     "output_type": "display_data"
    }
   ],
   "source": [
    "fig, ax = plt.subplots()\n",
    "ax.plot(unique_index*dt,temperatures)\n",
    "analysis.set_axis(ax, x = 'time', y = 'temperature')"
   ]
  },
  {
   "cell_type": "code",
   "execution_count": null,
   "id": "cf38e075",
   "metadata": {},
   "outputs": [],
   "source": [
    "fig, ax = plt.subplots()\n",
    "ax.plot(unique_index*dt, physics.pressure_torr(nb_parts*mr, volume, temperature_mb)*1e3)\n",
    "analysis.set_axis(ax, x = 'iteration', y = None)\n",
    "ax.set_ylabel('pressure (mTorr)');"
   ]
  },
  {
   "cell_type": "code",
   "execution_count": null,
   "id": "71c91836",
   "metadata": {},
   "outputs": [],
   "source": [
    "sound_speed = physics.speed_of_sound(molecular_mass, temperature_mb, gamma)"
   ]
  },
  {
   "cell_type": "code",
   "execution_count": null,
   "id": "7e8f7d6d",
   "metadata": {},
   "outputs": [],
   "source": [
    "fig, ax = plt.subplots()\n",
    "ax.plot(unique_index*dt,sound_speed)\n",
    "analysis.set_axis(ax, x = 'time', y = 'sound speed')"
   ]
  },
  {
   "cell_type": "markdown",
   "id": "22f2de38",
   "metadata": {},
   "source": [
    "## Flow speed"
   ]
  },
  {
   "cell_type": "code",
   "execution_count": null,
   "id": "68e0b1bd",
   "metadata": {},
   "outputs": [],
   "source": [
    "fig, ax = plt.subplots()\n",
    "ax.plot(unique_index*dt,df_mean['v_drift'])\n",
    "analysis.set_axis(ax, x = 'time', y = 'v');"
   ]
  },
  {
   "cell_type": "markdown",
   "id": "b18dd90f",
   "metadata": {},
   "source": [
    "## Mach number"
   ]
  },
  {
   "cell_type": "code",
   "execution_count": null,
   "id": "baba17d2",
   "metadata": {},
   "outputs": [],
   "source": [
    "fig, ax = plt.subplots()\n",
    "ax.plot(unique_index*dt,df_mean['v_drift']/sound_speed)\n",
    "analysis.set_axis(ax, x = 'time')\n",
    "ax.set_ylabel('Mach number');"
   ]
  },
  {
   "cell_type": "markdown",
   "id": "3e2eb298",
   "metadata": {},
   "source": [
    "## Collision with walls - analysis"
   ]
  },
  {
   "cell_type": "code",
   "execution_count": null,
   "id": "5d341e4c",
   "metadata": {},
   "outputs": [],
   "source": [
    "fig, ax = plt.subplots()\n",
    "analysis.set_axis(ax, x = 'time', y = 'quantity')\n",
    "ax.plot(collisions_with_walls.index*dt, collisions_with_walls*mr);"
   ]
  },
  {
   "cell_type": "markdown",
   "id": "b777be5c",
   "metadata": {},
   "source": [
    "## DSMC collisions analysis"
   ]
  },
  {
   "cell_type": "markdown",
   "id": "578055ed",
   "metadata": {},
   "source": [
    "### Particles collisions analysis"
   ]
  },
  {
   "cell_type": "code",
   "execution_count": 20,
   "id": "e077d0b7",
   "metadata": {},
   "outputs": [
    {
     "name": "stdout",
     "output_type": "stream",
     "text": [
      "Total number of collision in the simulation (in reality) : 1.672000e+03 (2.675200e+11)\n"
     ]
    }
   ],
   "source": [
    "# start by summing over all cells\n",
    "collisions = np.sum(collisions_per_cell, axis = (0,1))\n",
    "print('Total number of collision in the simulation (in reality) : {:e} ({:e})'.format(int(np.sum(collisions_per_cell)),mr*np.sum(collisions_per_cell)));"
   ]
  },
  {
   "cell_type": "code",
   "execution_count": 22,
   "id": "94a1fa7b-81b5-448b-82c3-9a133cc1c35d",
   "metadata": {},
   "outputs": [
    {
     "data": {
      "text/plain": [
       "(101,)"
      ]
     },
     "execution_count": 22,
     "metadata": {},
     "output_type": "execute_result"
    }
   ],
   "source": [
    "collisions.shape"
   ]
  },
  {
   "cell_type": "code",
   "execution_count": 25,
   "id": "0bd41cdc-d9bc-425f-befb-443b74cbca40",
   "metadata": {},
   "outputs": [
    {
     "name": "stdout",
     "output_type": "stream",
     "text": [
      "2.128e+10\n"
     ]
    }
   ],
   "source": [
    "print('{:.3e}'.format(np.sum(collisions[:20]*mr)))"
   ]
  },
  {
   "cell_type": "code",
   "execution_count": 17,
   "id": "2cf833ff",
   "metadata": {},
   "outputs": [
    {
     "data": {
      "application/vnd.jupyter.widget-view+json": {
       "model_id": "f1c5442651fc4f20bb6d8ed2c8a1862a",
       "version_major": 2,
       "version_minor": 0
      },
      "text/plain": [
       "Canvas(toolbar=Toolbar(toolitems=[('Home', 'Reset original view', 'home', 'home'), ('Back', 'Back to previous …"
      ]
     },
     "metadata": {},
     "output_type": "display_data"
    }
   ],
   "source": [
    "fig, ax = plt.subplots()\n",
    "analysis.set_axis(ax, x = 'time', y = 'quantity')\n",
    "ax.plot(index_collisions*dt, collisions*mr);"
   ]
  },
  {
   "cell_type": "markdown",
   "id": "89c0e3ca",
   "metadata": {},
   "source": [
    "### Rate between the two"
   ]
  },
  {
   "cell_type": "code",
   "execution_count": null,
   "id": "02ab3e39",
   "metadata": {},
   "outputs": [],
   "source": [
    "fig, ax = plt.subplots()\n",
    "analysis.set_axis(ax, x = 'time')\n",
    "ax.set_ylabel('rate')\n",
    "ax.plot(index_collisions*dt, collisions_with_walls/collisions);"
   ]
  },
  {
   "cell_type": "markdown",
   "id": "2259141e",
   "metadata": {},
   "source": [
    "## Mean free path \n",
    "The formula for the mean free path is : $\\lambda = \\frac{v_{mean}}{\\nu}$, where : \n",
    "* $v_{mean}$ is the mean velocity ;\n",
    "* $\\nu$ is the frequency of collision for ONE particle.\n",
    "\n",
    "We have : $\\frac{1}{\\nu} = \\frac{N_c dt}{2 N}$ with $N_c$ the number of particle in the cell, and $N$ the number of collisions.\n",
    "\n",
    "This yields :  $\\lambda = \\frac{v_{mean}N_c dt}{2N}$. There is no need for $m_r$ here as both $N_c$ and $N$ would require the multiplication to have the current number in the system.\n",
    "\n",
    "We start by doing it for the whole system."
   ]
  },
  {
   "cell_type": "code",
   "execution_count": null,
   "id": "9a4a6ec3",
   "metadata": {},
   "outputs": [],
   "source": [
    "x_res = 10 # for example the number of cells during the simulations (if you want a plot per cell)\n",
    "y_res = 1\n",
    "x_step = 0.001 # size of the cell\n",
    "y_step = 0.001"
   ]
  },
  {
   "cell_type": "code",
   "execution_count": null,
   "id": "f8b8fe2f",
   "metadata": {},
   "outputs": [],
   "source": [
    "v_mean = df_mean['v']"
   ]
  },
  {
   "cell_type": "code",
   "execution_count": null,
   "id": "6a785d8f",
   "metadata": {},
   "outputs": [],
   "source": [
    "# selecting the time iteration that we also saved for the collisions (saving frequency is not necessary the same)\n",
    "v_mean = v_mean.loc[np.isin(v_mean.index,index_collisions)]\n",
    "nb_particles_in_system = df['x'].groupby(df.index).agg('count').loc[np.isin(unique_index,index_collisions)]"
   ]
  },
  {
   "cell_type": "code",
   "execution_count": null,
   "id": "64c09710",
   "metadata": {},
   "outputs": [],
   "source": [
    "mfp = physics.mean_free_path_simu(nb_particles_in_system, collisions, dt, v_mean)"
   ]
  },
  {
   "cell_type": "markdown",
   "id": "302da779",
   "metadata": {},
   "source": [
    "### Mean free path evolution"
   ]
  },
  {
   "cell_type": "code",
   "execution_count": null,
   "id": "04fe1d42",
   "metadata": {},
   "outputs": [],
   "source": [
    "fig, ax = plt.subplots()\n",
    "ax.plot(index_collisions*dt, mfp)\n",
    "analysis.set_axis(ax, x = 'time', y = 'mean free path')"
   ]
  },
  {
   "cell_type": "markdown",
   "id": "30a6adf9",
   "metadata": {},
   "source": [
    "### Knudsen evolution"
   ]
  },
  {
   "cell_type": "code",
   "execution_count": null,
   "id": "801d068e",
   "metadata": {},
   "outputs": [],
   "source": [
    "fig, ax = plt.subplots()\n",
    "ax.plot(index_collisions*dt, mfp/cell_size)\n",
    "analysis.set_axis(ax, x = 'time', y = 'Knudsen')"
   ]
  },
  {
   "cell_type": "markdown",
   "id": "889efc1f",
   "metadata": {},
   "source": [
    "### Total mean free path\n",
    "\n",
    "Accouting for collisions between particles and **collisions with walls**.\n",
    "\n",
    "In the case where the number of collisions with walls is much bigger than the number of collisions between particles, then this mean free path is basically the average distance a particle covers between two wall collisions."
   ]
  },
  {
   "cell_type": "code",
   "execution_count": null,
   "id": "5f6e822b",
   "metadata": {},
   "outputs": [],
   "source": [
    "mfp_ = 0.5*nb_particles_in_system*dt*v_mean/(collisions+collisions_with_walls)"
   ]
  },
  {
   "cell_type": "markdown",
   "id": "70f5aa12",
   "metadata": {},
   "source": [
    "#### Total Mean free path evolution "
   ]
  },
  {
   "cell_type": "code",
   "execution_count": null,
   "id": "3963fc7a",
   "metadata": {},
   "outputs": [],
   "source": [
    "fig, ax = plt.subplots()\n",
    "ax.plot(index_collisions*dt, mfp_)\n",
    "analysis.set_axis(ax, x = 'time', y = 'mean free path');"
   ]
  },
  {
   "cell_type": "markdown",
   "id": "8a0fb004",
   "metadata": {},
   "source": [
    "#### Total Knudsen - evolution"
   ]
  },
  {
   "cell_type": "code",
   "execution_count": null,
   "id": "bf756b2f",
   "metadata": {},
   "outputs": [],
   "source": [
    "fig, ax = plt.subplots()\n",
    "ax.plot(index_collisions*dt, mfp_/cell_size)\n",
    "analysis.set_axis(ax, x = 'time', y = 'Knudsen');"
   ]
  },
  {
   "cell_type": "markdown",
   "id": "e6963079",
   "metadata": {},
   "source": [
    "## Out particle analysis"
   ]
  },
  {
   "cell_type": "code",
   "execution_count": null,
   "id": "f3d6ca33",
   "metadata": {},
   "outputs": [],
   "source": [
    "fig, ax = plt.subplots()\n",
    "mass_flow_rate = mr*physics.compute_mass_flow_rate(total_deleted, dt, mass)\n",
    "analysis.set_axis(ax, x = 'time', y = 'mass flow rate')\n",
    "plt.plot(mass_flow_rate.index*dt, mass_flow_rate);"
   ]
  },
  {
   "cell_type": "markdown",
   "id": "519b93bb",
   "metadata": {},
   "source": [
    "### Mean number of particles"
   ]
  },
  {
   "cell_type": "code",
   "execution_count": 26,
   "id": "8a3453e5",
   "metadata": {},
   "outputs": [],
   "source": [
    "averages = averages_per_cell.groupby(averages_per_cell.index).sum() # returns a pandas Series"
   ]
  },
  {
   "cell_type": "code",
   "execution_count": 27,
   "id": "6c7ba0ea",
   "metadata": {},
   "outputs": [
    {
     "data": {
      "application/vnd.jupyter.widget-view+json": {
       "model_id": "4c3020a1287d4f39bd7add1a525db1e5",
       "version_major": 2,
       "version_minor": 0
      },
      "text/plain": [
       "Canvas(toolbar=Toolbar(toolitems=[('Home', 'Reset original view', 'home', 'home'), ('Back', 'Back to previous …"
      ]
     },
     "metadata": {},
     "output_type": "display_data"
    }
   ],
   "source": [
    "fig, ax = plt.subplots()\n",
    "analysis.set_axis(ax, x = 'time', y = 'quantity')\n",
    "ax.plot(averages.index*dt, averages);"
   ]
  },
  {
   "cell_type": "markdown",
   "id": "4dc87113",
   "metadata": {},
   "source": [
    "### Mean acceptance probability"
   ]
  },
  {
   "cell_type": "code",
   "execution_count": 28,
   "id": "ba739485",
   "metadata": {},
   "outputs": [
    {
     "name": "stdout",
     "output_type": "stream",
     "text": [
      "Mean proba : 4.537715e-01\n"
     ]
    },
    {
     "data": {
      "application/vnd.jupyter.widget-view+json": {
       "model_id": "81dd892039e34190ab8f3eed68c94128",
       "version_major": 2,
       "version_minor": 0
      },
      "text/plain": [
       "Canvas(toolbar=Toolbar(toolitems=[('Home', 'Reset original view', 'home', 'home'), ('Back', 'Back to previous …"
      ]
     },
     "metadata": {},
     "output_type": "display_data"
    }
   ],
   "source": [
    "proba = total_proba/collisions\n",
    "print('Mean proba : {:e}'.format(np.mean(proba)))\n",
    "fig, ax = plt.subplots()\n",
    "analysis.set_axis(ax, x = 'time', y = 'probability')\n",
    "ax.plot(proba.index*dt, proba, label = 'proba');"
   ]
  },
  {
   "cell_type": "markdown",
   "id": "f46542d9",
   "metadata": {},
   "source": [
    "### Maximum probability"
   ]
  },
  {
   "cell_type": "code",
   "execution_count": 29,
   "id": "b7aecf6c",
   "metadata": {},
   "outputs": [],
   "source": [
    "pmax = pmax_per_cell.groupby(pmax_per_cell.index).sum() # returns a pandas Series"
   ]
  },
  {
   "cell_type": "code",
   "execution_count": 30,
   "id": "34ff1a65",
   "metadata": {},
   "outputs": [
    {
     "data": {
      "application/vnd.jupyter.widget-view+json": {
       "model_id": "bca2d105d26b4837a84fbf10d9c968ba",
       "version_major": 2,
       "version_minor": 0
      },
      "text/plain": [
       "Canvas(toolbar=Toolbar(toolitems=[('Home', 'Reset original view', 'home', 'home'), ('Back', 'Back to previous …"
      ]
     },
     "metadata": {},
     "output_type": "display_data"
    }
   ],
   "source": [
    "fig, ax = plt.subplots()\n",
    "analysis.set_axis(ax, x = 'time', y = 'probability')\n",
    "ax.plot(pmax.index*dt, pmax);"
   ]
  },
  {
   "cell_type": "markdown",
   "id": "c80e2c2e",
   "metadata": {},
   "source": [
    "### Mean distance between two colliding particles"
   ]
  },
  {
   "cell_type": "code",
   "execution_count": 31,
   "id": "7387810e",
   "metadata": {},
   "outputs": [
    {
     "data": {
      "application/vnd.jupyter.widget-view+json": {
       "model_id": "bed930e08bab4f00bc9ec062f8676352",
       "version_major": 2,
       "version_minor": 0
      },
      "text/plain": [
       "Canvas(toolbar=Toolbar(toolitems=[('Home', 'Reset original view', 'home', 'home'), ('Back', 'Back to previous …"
      ]
     },
     "metadata": {},
     "output_type": "display_data"
    },
    {
     "name": "stdout",
     "output_type": "stream",
     "text": [
      "Mean distance : 4.989214e-04 m\n"
     ]
    }
   ],
   "source": [
    "fig, ax = plt.subplots()\n",
    "dist = total_distance/collisions\n",
    "print('Mean distance : {:e} m'.format(np.mean(dist)))\n",
    "analysis.set_axis(ax, x = 'time', y = 'distance')\n",
    "ax.plot(dist.index*dt, dist);"
   ]
  },
  {
   "cell_type": "markdown",
   "id": "87dbd217",
   "metadata": {},
   "source": [
    "### Velocity axis distribution per *cell*"
   ]
  },
  {
   "cell_type": "code",
   "execution_count": null,
   "id": "1db899e8",
   "metadata": {},
   "outputs": [],
   "source": [
    "# spatial_hist2d plots an hist per cell defined by the params below\n",
    "# it is a 2D plot of size y_res * x_res\n",
    "# where each plot (i,j) takes the particle between i*x_step < x < (i+1)*x_step and j*y_step < y < (j+1)*y_step\n",
    "# for i varying between between 0 and x_res-1, and j varying between between 0 and y_res-1\n",
    "# You should not use too many cells because it quickly becomes very hard to view.\n",
    "# Params\n",
    "x_res = 11 # for example the number of cells during the simulations (if you want a plot per cell)\n",
    "y_res = 5\n",
    "x_step = 0.001 # size of the cell\n",
    "y_step = 0.001 \n",
    "\n",
    "# Plotting - vx\n",
    "# fig, axes = analysis.spatial_hist2d(df, frames, val = 'vx', x_res = x_res, y_res = y_res, x_step = x_step, y_step=y_step);"
   ]
  },
  {
   "cell_type": "code",
   "execution_count": null,
   "id": "7db4fa9a",
   "metadata": {},
   "outputs": [],
   "source": [
    "# Plotting - vy\n",
    "# fig, axes = analysis.spatial_hist2d(df, frames, val = 'vy', x_res = x_res, y_res = y_res, x_step = x_step, y_step=y_step);"
   ]
  },
  {
   "cell_type": "markdown",
   "id": "22e87bac",
   "metadata": {},
   "source": [
    "## Bonus - Not necessarily recommended and takes lots of time\n",
    "Next is the plot of the system for each saved step. "
   ]
  },
  {
   "cell_type": "code",
   "execution_count": null,
   "id": "1d07dbdf",
   "metadata": {},
   "outputs": [],
   "source": [
    "# creating speed_norm (for the color)\n",
    "# df['speed_norm'] = np.sqrt(df['vx']**2+df['vy']**2+df['vz']**2) -> DO NOT NEED THAT"
   ]
  },
  {
   "cell_type": "code",
   "execution_count": null,
   "id": "62143ff0",
   "metadata": {},
   "outputs": [],
   "source": [
    "%matplotlib notebook\n",
    "import numpy as np\n",
    "from matplotlib import pyplot as plt\n",
    "from matplotlib.animation import FuncAnimation\n",
    "\n",
    "def update_hist(num, df):\n",
    "    dfit = df.loc[df.index == num]\n",
    "\n",
    "    scat.set_offsets(np.c_[dfit['x'],dfit['y']])\n",
    "    scat.set_array(df['v'])\n",
    "    \n",
    "    ax.set_title('{}/{}'.format(num+1, iterations), fontsize=15)\n",
    "\n",
    "fig, ax = plt.subplots()\n",
    "dfit = df.loc[df.index == 0]\n",
    "scat = ax.scatter(dfit['x'], dfit['y'], s=0.1, c = dfit['v'], cmap='seismic') #  c = df['speed_norm']\n",
    "analysis.set_axis(ax, x = 'x', y = 'y')\n",
    "# if you want the boundaries to be plotted and the grid too, you have to initialize those fields yourself.\n",
    "# in the other case, only particles will be plotted.\n",
    "# plot_boundaries(ax, segments)\n",
    "# plot_grid(ax, resolutions, system_shape)\n",
    "\n",
    "ax.set_title('{}/{}'.format(1, iterations), fontsize=12)\n",
    "ax.axis('equal')\n",
    "\n",
    "interval = 40 # 25 images per second\n",
    "anim = FuncAnimation(fig, update_hist, interval=interval, frames=iterations, fargs=(df, ), save_count=iterations)\n",
    "anim.save(dir_path/'system_state_evo.avi', dpi = 300);"
   ]
  },
  {
   "cell_type": "code",
   "execution_count": null,
   "id": "5d1a316d",
   "metadata": {},
   "outputs": [],
   "source": []
  }
 ],
 "metadata": {
  "kernelspec": {
   "display_name": "Python 3",
   "language": "python",
   "name": "python3"
  },
  "language_info": {
   "codemirror_mode": {
    "name": "ipython",
    "version": 3
   },
   "file_extension": ".py",
   "mimetype": "text/x-python",
   "name": "python",
   "nbconvert_exporter": "python",
   "pygments_lexer": "ipython3",
   "version": "3.7.10"
  }
 },
 "nbformat": 4,
 "nbformat_minor": 5
}
