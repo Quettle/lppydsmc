{
 "cells": [
  {
   "cell_type": "code",
   "execution_count": 1,
   "id": "2c294f0e",
   "metadata": {},
   "outputs": [],
   "source": [
    "%matplotlib widget\n",
    "\n",
    "import pandas as pd\n",
    "import numpy as np\n",
    "import matplotlib.pyplot as plt\n",
    "from pathlib import Path\n",
    "from src.data import Saver\n",
    "from src.plotting import analysis\n",
    "from src.utils import physics"
   ]
  },
  {
   "cell_type": "markdown",
   "id": "41a1c4b9-07d4-428a-bda3-2ad976fd494f",
   "metadata": {},
   "source": [
    "## Loading results"
   ]
  },
  {
   "cell_type": "code",
   "execution_count": 2,
   "id": "ee562672-3c2c-486c-8111-0fa16499f170",
   "metadata": {},
   "outputs": [],
   "source": [
    "dir_path = Path('results/')\n",
    "name = 'test_thruster.h5'"
   ]
  },
  {
   "cell_type": "code",
   "execution_count": 3,
   "id": "138ea030-be0c-467c-a21f-2c9dd61c27f1",
   "metadata": {},
   "outputs": [],
   "source": [
    "store = pd.HDFStore(dir_path/name)"
   ]
  },
  {
   "cell_type": "code",
   "execution_count": 4,
   "id": "10c4acea",
   "metadata": {},
   "outputs": [],
   "source": [
    "# defining each variable\n",
    "collisions_per_cell = store['collisions_per_cell'] \n",
    "df = store['df']\n",
    "pmax_per_cell = store['pmax_per_cell']\n",
    "averages_per_cell = store['averages_per_cell']\n",
    "total_deleted = store['total_deleted']\n",
    "total_distance = store['total_distance']\n",
    "total_proba = store['total_proba']"
   ]
  },
  {
   "cell_type": "code",
   "execution_count": 5,
   "id": "893cb81e-edfb-4b6d-9ec9-cf9e4b9d9aaf",
   "metadata": {},
   "outputs": [],
   "source": [
    "# particle mass \n",
    "mass = physics.get_mass_part(53, 53, 74) # mass of the particle\n",
    "# time step\n",
    "dt = 1e-6 \n",
    "# ratio between real particles and simulated macro-particles\n",
    "mr = 32000000\n",
    "\n",
    "\n",
    "verbose=False"
   ]
  },
  {
   "cell_type": "markdown",
   "id": "5c64f6aa-1c01-4535-bdc7-2d5536f47c70",
   "metadata": {},
   "source": [
    "## Note : \n",
    "To save a figure, you can use : `analysis.save_fig(fig, path, title = None, dpi = 400, figsize = None)`, which allows you to easily save a figure while giving it a title and changing its size.\n",
    "You can also use the interactive widget."
   ]
  },
  {
   "cell_type": "markdown",
   "id": "10318e2c-2c7f-4ce4-9fa0-3252ad5931a1",
   "metadata": {},
   "source": [
    "## Choosing frames to plot"
   ]
  },
  {
   "cell_type": "code",
   "execution_count": 6,
   "id": "c6673859-afad-4304-80b6-ebf5eaf738a0",
   "metadata": {},
   "outputs": [],
   "source": [
    "unique_index = df.index.unique().values\n",
    "nb_save = unique_index.shape[0]\n",
    "iterations = np.max(unique_index)\n",
    "adding_period = unique_index[1]-unique_index[0] # adding period - required to\n",
    "# generally speaking, you choose frames so you have the steady state\n",
    "frames = unique_index[int(0.8*nb_save):nb_save] \n",
    "\n",
    "if(verbose):\n",
    "    print(f'Available frames :  {unique_index}')\n",
    "    print(f'Max iteration : {iterations}')\n",
    "    print(f'Choosen frames (for plotting) : \\n{frames}')"
   ]
  },
  {
   "cell_type": "markdown",
   "id": "33ddb279-4ded-4c75-a498-fb98346069b1",
   "metadata": {},
   "source": [
    "## Particles analysis\n",
    "### Plotting number of particles evolution"
   ]
  },
  {
   "cell_type": "code",
   "execution_count": 7,
   "id": "0cc48d1c",
   "metadata": {},
   "outputs": [
    {
     "data": {
      "application/vnd.jupyter.widget-view+json": {
       "model_id": "5d8e8fd1e3f048d18d6028d80f51c157",
       "version_major": 2,
       "version_minor": 0
      },
      "text/plain": [
       "Canvas(toolbar=Toolbar(toolitems=[('Home', 'Reset original view', 'home', 'home'), ('Back', 'Back to previous …"
      ]
     },
     "metadata": {},
     "output_type": "display_data"
    }
   ],
   "source": [
    "fig, ax = plt.subplots()\n",
    "analysis.nb_particles_evolution(ax, df, times = dt*unique_index);"
   ]
  },
  {
   "cell_type": "markdown",
   "id": "b044d369-fdaa-46b3-b4ea-b14605be9b3a",
   "metadata": {},
   "source": [
    "### Mean number of particles per cell"
   ]
  },
  {
   "cell_type": "code",
   "execution_count": 8,
   "id": "7ca93619-1173-4d56-9cd6-49940727dde5",
   "metadata": {},
   "outputs": [],
   "source": [
    "averages = averages_per_cell.groupby(averages_per_cell.index).sum() # returns a pandas Series"
   ]
  },
  {
   "cell_type": "code",
   "execution_count": 9,
   "id": "0922f05a-b94b-412c-b04c-f61cba6b77d8",
   "metadata": {},
   "outputs": [
    {
     "data": {
      "application/vnd.jupyter.widget-view+json": {
       "model_id": "499685e7015e41d294e9516f524dea0d",
       "version_major": 2,
       "version_minor": 0
      },
      "text/plain": [
       "Canvas(toolbar=Toolbar(toolitems=[('Home', 'Reset original view', 'home', 'home'), ('Back', 'Back to previous …"
      ]
     },
     "metadata": {},
     "output_type": "display_data"
    }
   ],
   "source": [
    "fig, ax = plt.subplots()\n",
    "analysis.set_axis(ax, x = 'time', y = 'quantity')\n",
    "ax.plot(averages.index*dt, averages);"
   ]
  },
  {
   "cell_type": "markdown",
   "id": "ac5ffde8-4c2b-474b-a9bb-2deaa440d9eb",
   "metadata": {},
   "source": [
    "### Final state"
   ]
  },
  {
   "cell_type": "code",
   "execution_count": 10,
   "id": "e1268823-29ce-40e0-b526-a9ff15e9dbf1",
   "metadata": {},
   "outputs": [
    {
     "data": {
      "application/vnd.jupyter.widget-view+json": {
       "model_id": "8b96fb7030ba450aa8ad891e35b9a927",
       "version_major": 2,
       "version_minor": 0
      },
      "text/plain": [
       "Canvas(toolbar=Toolbar(toolitems=[('Home', 'Reset original view', 'home', 'home'), ('Back', 'Back to previous …"
      ]
     },
     "metadata": {},
     "output_type": "display_data"
    }
   ],
   "source": [
    "fig, ax = plt.subplots()\n",
    "analysis.state(ax, df.loc[df.index == frames[-1]], c = None)"
   ]
  },
  {
   "cell_type": "markdown",
   "id": "bbfefed5-b246-4917-b77b-7e65651560f1",
   "metadata": {},
   "source": [
    "### Velocity distribution"
   ]
  },
  {
   "cell_type": "code",
   "execution_count": 11,
   "id": "5d80f1d8-460b-4191-bd21-48372384eac5",
   "metadata": {},
   "outputs": [
    {
     "data": {
      "application/vnd.jupyter.widget-view+json": {
       "model_id": "668d0c593bb54dd78816bbd7beeea8de",
       "version_major": 2,
       "version_minor": 0
      },
      "text/plain": [
       "Canvas(toolbar=Toolbar(toolitems=[('Home', 'Reset original view', 'home', 'home'), ('Back', 'Back to previous …"
      ]
     },
     "metadata": {},
     "output_type": "display_data"
    }
   ],
   "source": [
    "fig, axes = analysis.velocity_distribution(df, frames, bins = 50, density = True, sharex = False, sharey = False);"
   ]
  },
  {
   "cell_type": "markdown",
   "id": "214ec3f4-bb92-4ce2-89ce-34a0cdc780cb",
   "metadata": {},
   "source": [
    "### Velocity axis distribution per *cell*"
   ]
  },
  {
   "cell_type": "code",
   "execution_count": 12,
   "id": "c121169a-4cc7-4c4b-b786-de9cf8335251",
   "metadata": {},
   "outputs": [
    {
     "data": {
      "application/vnd.jupyter.widget-view+json": {
       "model_id": "5057de2f7321449fb6d421957c36705e",
       "version_major": 2,
       "version_minor": 0
      },
      "text/plain": [
       "Canvas(toolbar=Toolbar(toolitems=[('Home', 'Reset original view', 'home', 'home'), ('Back', 'Back to previous …"
      ]
     },
     "metadata": {},
     "output_type": "display_data"
    }
   ],
   "source": [
    "# spatial_hist2d plots an hist per cell defined by the params below\n",
    "# it is a 2D plot of size y_res * x_res\n",
    "# where each plot (i,j) takes the particle between i*x_step < x < (i+1)*x_step and j*y_step < y < (j+1)*y_step\n",
    "# for i varying between between 0 and x_res-1, and j varying between between 0 and y_res-1\n",
    "# You should not use too many cells because it quickly becomes very hard to view.\n",
    "# Params\n",
    "x_res = 3  # for example the number of cells during the simulations (if you want a plot per cell)\n",
    "y_res = 1\n",
    "x_step = 0.001 # size of the cell\n",
    "y_step = 0.001 \n",
    "\n",
    "# Plotting - vx\n",
    "fig, axes = analysis.spatial_hist2d(df, frames, val = 'vx', x_res = x_res, y_res = y_res, x_step = x_step, y_step=y_step);"
   ]
  },
  {
   "cell_type": "code",
   "execution_count": 13,
   "id": "47a61da5-6a9f-4e07-b6bb-2699647de92c",
   "metadata": {},
   "outputs": [
    {
     "data": {
      "application/vnd.jupyter.widget-view+json": {
       "model_id": "3b7699913de64cf39dac88e728d2d512",
       "version_major": 2,
       "version_minor": 0
      },
      "text/plain": [
       "Canvas(toolbar=Toolbar(toolitems=[('Home', 'Reset original view', 'home', 'home'), ('Back', 'Back to previous …"
      ]
     },
     "metadata": {},
     "output_type": "display_data"
    }
   ],
   "source": [
    "# Plotting - vy\n",
    "fig, axes = analysis.spatial_hist2d(df, frames, val = 'vy', x_res = x_res, y_res = y_res, x_step = x_step, y_step=y_step);"
   ]
  },
  {
   "cell_type": "markdown",
   "id": "3e042a50-144e-4238-aaf8-71c4a6dd6e24",
   "metadata": {},
   "source": [
    "## DSMC collisions analysis"
   ]
  },
  {
   "cell_type": "markdown",
   "id": "0b3f09e4-863f-48bf-8d2e-c1763282b198",
   "metadata": {},
   "source": [
    "### Particles collisions analysis"
   ]
  },
  {
   "cell_type": "code",
   "execution_count": 14,
   "id": "6069b3a5",
   "metadata": {},
   "outputs": [
    {
     "name": "stdout",
     "output_type": "stream",
     "text": [
      "Total number of collision : 19446.0\n"
     ]
    }
   ],
   "source": [
    "# start by summing over all cells\n",
    "collisions = collisions_per_cell.groupby(collisions_per_cell.index).sum() # returns a pandas Series\n",
    "print('Total number of collision :', np.sum(collisions));"
   ]
  },
  {
   "cell_type": "code",
   "execution_count": 15,
   "id": "7476daab",
   "metadata": {},
   "outputs": [
    {
     "data": {
      "application/vnd.jupyter.widget-view+json": {
       "model_id": "2ab6e20ead7049a7b6d5d7a86499167a",
       "version_major": 2,
       "version_minor": 0
      },
      "text/plain": [
       "Canvas(toolbar=Toolbar(toolitems=[('Home', 'Reset original view', 'home', 'home'), ('Back', 'Back to previous …"
      ]
     },
     "metadata": {},
     "output_type": "display_data"
    }
   ],
   "source": [
    "fig, ax = plt.subplots()\n",
    "analysis.set_axis(ax, x = 'time', y = 'quantity')\n",
    "ax.plot(collisions.index*dt, collisions);"
   ]
  },
  {
   "cell_type": "markdown",
   "id": "3dc95192-ffc6-4564-9d3b-4cf284a02e07",
   "metadata": {},
   "source": [
    "### Mean acceptance probability"
   ]
  },
  {
   "cell_type": "code",
   "execution_count": 16,
   "id": "758303a7-11d5-4960-a0bb-4cae6757fa6a",
   "metadata": {},
   "outputs": [
    {
     "name": "stdout",
     "output_type": "stream",
     "text": [
      "Mean proba : 1.799616e-01\n"
     ]
    },
    {
     "data": {
      "application/vnd.jupyter.widget-view+json": {
       "model_id": "94afdb1bebbd4212a241369c7a5eabf4",
       "version_major": 2,
       "version_minor": 0
      },
      "text/plain": [
       "Canvas(toolbar=Toolbar(toolitems=[('Home', 'Reset original view', 'home', 'home'), ('Back', 'Back to previous …"
      ]
     },
     "metadata": {},
     "output_type": "display_data"
    }
   ],
   "source": [
    "proba = total_proba/collisions\n",
    "print('Mean proba : {:e}'.format(np.mean(proba)))\n",
    "fig, ax = plt.subplots()\n",
    "analysis.set_axis(ax, x = 'time', y = 'probability')\n",
    "ax.plot(proba.index*dt, proba, label = 'proba');"
   ]
  },
  {
   "cell_type": "markdown",
   "id": "0140d981-6e99-491e-9e8c-d193afe6ed82",
   "metadata": {},
   "source": [
    "### Maximum probability"
   ]
  },
  {
   "cell_type": "code",
   "execution_count": 17,
   "id": "60399a15-6ddb-4d2a-a84b-f49285488d50",
   "metadata": {},
   "outputs": [],
   "source": [
    "pmax = pmax_per_cell.groupby(pmax_per_cell.index).sum() # returns a pandas Series"
   ]
  },
  {
   "cell_type": "code",
   "execution_count": 18,
   "id": "9c2b9637-bac8-470e-882b-bf87eb9dbf7b",
   "metadata": {},
   "outputs": [
    {
     "data": {
      "application/vnd.jupyter.widget-view+json": {
       "model_id": "20884594c6a54118a46ccb2a04f9229a",
       "version_major": 2,
       "version_minor": 0
      },
      "text/plain": [
       "Canvas(toolbar=Toolbar(toolitems=[('Home', 'Reset original view', 'home', 'home'), ('Back', 'Back to previous …"
      ]
     },
     "metadata": {},
     "output_type": "display_data"
    }
   ],
   "source": [
    "fig, ax = plt.subplots()\n",
    "analysis.set_axis(ax, x = 'time', y = 'probability')\n",
    "ax.plot(pmax.index*dt, pmax);"
   ]
  },
  {
   "cell_type": "markdown",
   "id": "07087c80-8e28-4527-9812-5a3822e46747",
   "metadata": {},
   "source": [
    "### Mean distance between two colliding particles"
   ]
  },
  {
   "cell_type": "code",
   "execution_count": 19,
   "id": "104e739b-17e3-48bf-9f4f-24836437b233",
   "metadata": {},
   "outputs": [
    {
     "data": {
      "application/vnd.jupyter.widget-view+json": {
       "model_id": "a8f452a82ee049db88c968953aa039cc",
       "version_major": 2,
       "version_minor": 0
      },
      "text/plain": [
       "Canvas(toolbar=Toolbar(toolitems=[('Home', 'Reset original view', 'home', 'home'), ('Back', 'Back to previous …"
      ]
     },
     "metadata": {},
     "output_type": "display_data"
    },
    {
     "name": "stdout",
     "output_type": "stream",
     "text": [
      "Mean distance : 4.055559e-04 m\n"
     ]
    }
   ],
   "source": [
    "fig, ax = plt.subplots()\n",
    "dist = total_distance/collisions\n",
    "print('Mean distance : {:e} m'.format(np.mean(dist)))\n",
    "analysis.set_axis(ax, x = 'time', y = 'distance')\n",
    "ax.plot(dist.index*dt, dist);"
   ]
  },
  {
   "cell_type": "markdown",
   "id": "1e2661cc-8a77-4a1c-90ab-f0c4300255d7",
   "metadata": {},
   "source": [
    "## Out particle analysis"
   ]
  },
  {
   "cell_type": "code",
   "execution_count": 20,
   "id": "cae4a469-a475-433b-a438-8bc2ef99e8fc",
   "metadata": {},
   "outputs": [
    {
     "data": {
      "application/vnd.jupyter.widget-view+json": {
       "model_id": "559e3179bb6c4dec8be5f739cbc4dd7c",
       "version_major": 2,
       "version_minor": 0
      },
      "text/plain": [
       "Canvas(toolbar=Toolbar(toolitems=[('Home', 'Reset original view', 'home', 'home'), ('Back', 'Back to previous …"
      ]
     },
     "metadata": {},
     "output_type": "display_data"
    }
   ],
   "source": [
    "fig, ax = plt.subplots()\n",
    "mass_flow_rate = mr*physics.compute_mass_flow_rate(total_deleted, dt, mass)\n",
    "analysis.set_axis(ax, x = 'time', y = 'mass flow rate')\n",
    "plt.plot(mass_flow_rate.index*dt, mass_flow_rate);"
   ]
  },
  {
   "cell_type": "markdown",
   "id": "dbb70a31-dc3a-4b6a-afdc-f6d3f509b2ac",
   "metadata": {},
   "source": [
    "## Bonus\n",
    "\n",
    "Next is the plot of the system for each saved step. "
   ]
  },
  {
   "cell_type": "code",
   "execution_count": 24,
   "id": "f9aae1ad-3b94-4892-ab99-7343389a5786",
   "metadata": {},
   "outputs": [],
   "source": [
    "# creating speed_norm (for the color)\n",
    "df['speed_norm'] = np.sqrt(df['vx']**2+df['vy']**2+df['vz']**2)"
   ]
  },
  {
   "cell_type": "code",
   "execution_count": null,
   "id": "a41a9230-76f2-4428-81c8-3b6a2ddf3233",
   "metadata": {},
   "outputs": [],
   "source": [
    "import numpy as np\n",
    "from matplotlib import pyplot as plt\n",
    "from matplotlib.animation import FuncAnimation\n",
    "\n",
    "def update_hist(num, df):\n",
    "    dfit = df.loc[df.index == num]\n",
    "\n",
    "    scat.set_offsets(np.c_[dfit['x'],dfit['y']])\n",
    "    scat.set_array(df['speed_norm'])\n",
    "    \n",
    "    ax.set_title('{}/{}'.format(num+1, iterations), fontsize=15)\n",
    "\n",
    "fig, ax = plt.subplots()\n",
    "dfit = df.loc[df.index == 0]\n",
    "scat = ax.scatter(dfit['x'], dfit['y'], s=0.1, c = dfit['speed_norm'], cmap='seismic') #  c = df['speed_norm']\n",
    "analysis.set_axis(ax, x = 'x', y = 'y')\n",
    "# if you want the boundaries to be plotted and the grid too, you have to initialize those fields yourself.\n",
    "# in the other case, only particles will be plotted.\n",
    "# plot_boundaries(ax, segments)\n",
    "# plot_grid(ax, resolutions, system_shape)\n",
    "\n",
    "ax.set_title('{}/{}'.format(1, iterations), fontsize=12)\n",
    "ax.axis('equal')\n",
    "\n",
    "interval = 40 # 25 images per second\n",
    "anim = FuncAnimation(fig, update_hist, interval=interval, frames=iterations, fargs=(df, ), save_count=iterations)\n",
    "anim.save(dir_path/'system_state_evo.mp4', dpi = 300);"
   ]
  }
 ],
 "metadata": {
  "kernelspec": {
   "display_name": "Python 3",
   "language": "python",
   "name": "python3"
  },
  "language_info": {
   "codemirror_mode": {
    "name": "ipython",
    "version": 3
   },
   "file_extension": ".py",
   "mimetype": "text/x-python",
   "name": "python",
   "nbconvert_exporter": "python",
   "pygments_lexer": "ipython3",
   "version": "3.9.4"
  }
 },
 "nbformat": 4,
 "nbformat_minor": 5
}
