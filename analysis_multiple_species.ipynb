{
 "cells": [
  {
   "cell_type": "markdown",
   "id": "2292864b",
   "metadata": {},
   "source": [
    "## Note : \n",
    "Mean free path : $\\lambda = \\frac{1}{n \\sigma}$\n",
    "\n",
    "If $n \\rightarrow 100 \\times n$, then :\n",
    "- $\\lambda \\rightarrow \\frac{\\lambda}{100}$\n",
    "- $\\text{cell size} \\rightarrow \\frac{\\text{cell size}}{100}$ ($100^2$ more cells because the grid is 2D)\n",
    "- $dt \\rightarrow \\frac{dt}{100}$\n",
    "\n",
    "But you can lower, down to a certain extent, the number of particles per cell to \"not incease too much the computation time\"."
   ]
  },
  {
   "cell_type": "markdown",
   "id": "8674e7ec",
   "metadata": {},
   "source": [
    "## Representative physical length scale\n",
    "\n",
    "The system has two lenghts : \n",
    "* lenght of the tube : $L = 0.01$ $m$\n",
    "* width : $w = 0.001$ $m$\n",
    "\n",
    "The width is the representative physical length scale that constrains the flow.\n",
    "\n",
    "So : $K_d = \\frac{\\lambda}{w}$.\n",
    "\n",
    "\n"
   ]
  },
  {
   "cell_type": "code",
   "execution_count": 1,
   "id": "71b6d621",
   "metadata": {
    "slideshow": {
     "slide_type": "slide"
    }
   },
   "outputs": [],
   "source": [
    "%matplotlib widget\n",
    "\n",
    "# notebook\n",
    "import pandas as pd\n",
    "import numpy as np\n",
    "import matplotlib.pyplot as plt\n",
    "import seaborn as sns\n",
    "import scipy as scipy\n",
    "from pathlib import Path\n",
    "\n",
    "from lppydsmc.data.saver import Saver\n",
    "from plotting import analysis\n",
    "from lppydsmc.utils import physics\n",
    "\n",
    "plt.figure.max_open_warning = False"
   ]
  },
  {
   "cell_type": "code",
   "execution_count": 2,
   "id": "36c3952e-24ee-495b-9e8f-0371d4640fff",
   "metadata": {},
   "outputs": [],
   "source": [
    "def convert_to_species(row):\n",
    "    if(row['species'] == 0 or row['species'] == 0.0):\n",
    "        return 'I'\n",
    "    else :\n",
    "        return 'I-'"
   ]
  },
  {
   "cell_type": "markdown",
   "id": "dd77c5cf",
   "metadata": {},
   "source": [
    "## Loading results"
   ]
  },
  {
   "cell_type": "code",
   "execution_count": 3,
   "id": "3d32caa3",
   "metadata": {
    "slideshow": {
     "slide_type": "slide"
    }
   },
   "outputs": [],
   "source": [
    "dir_path = Path('results/')\n",
    "\n",
    "simu = 'dmsc_multiple_species' # low, mid, thruster_low, test_hall\n",
    "\n",
    "dz = 0.001"
   ]
  },
  {
   "cell_type": "code",
   "execution_count": 4,
   "id": "637957e7",
   "metadata": {
    "slideshow": {
     "slide_type": "subslide"
    }
   },
   "outputs": [],
   "source": [
    "\n",
    "if(simu == 'dmsc_multiple_species'): # representative lenght scale varies along the flow ...\n",
    "    dt = 1e-8\n",
    "    mr = 8000000 # np.array([80000000,   800000.])\n",
    "    name = 'test_dmsc_reactions_corrected.h5'\n",
    "    lenght = 0.018 # m\n",
    "    width = 0.005\n",
    "    cell_size = 0.001\n",
    "    temperature = np.array([300,1000]) # K\n",
    "    nb_cells = 41\n",
    "    volume = cell_size*cell_size*dz*nb_cells"
   ]
  },
  {
   "cell_type": "code",
   "execution_count": 5,
   "id": "9b97e8f3",
   "metadata": {},
   "outputs": [],
   "source": [
    "store = pd.HDFStore(dir_path/name)"
   ]
  },
  {
   "cell_type": "code",
   "execution_count": 6,
   "id": "f2498073-f584-469e-96f3-e693a7f2e3ea",
   "metadata": {},
   "outputs": [],
   "source": [
    "# defining each variable\n",
    "collisions_per_cell_full = store['collisions_per_cell'] \n",
    "df_full = store['df']\n",
    "pmax_per_cell = store['pmax_per_cell'] # cell-discretization not taken into account \n",
    "averages_per_cell = store['averages_per_cell'] # idem\n",
    "total_deleted = store['total_deleted']\n",
    "total_distance = store['total_distance']\n",
    "total_proba = store['total_proba']\n",
    "collisions_with_walls = store['collisions_with_walls']\n",
    "df_out_particles = store['df_out_particles']"
   ]
  },
  {
   "cell_type": "code",
   "execution_count": 11,
   "id": "4ec6a166-a988-408a-874e-da7da0b0cd4a",
   "metadata": {},
   "outputs": [
    {
     "data": {
      "text/plain": [
       "37.0"
      ]
     },
     "execution_count": 11,
     "metadata": {},
     "output_type": "execute_result"
    }
   ],
   "source": [
    "np.sum(collisions_per_cell_full)"
   ]
  },
  {
   "cell_type": "code",
   "execution_count": 12,
   "id": "67ae81db-6e6c-402d-b8d9-9eda61343665",
   "metadata": {},
   "outputs": [],
   "source": [
    "# df_full['x'] = df_full['x'].astype(float)\n",
    "# df_full['y'] = df_full['y'].astype(float)\n",
    "# df_full['vx'] = df_full['vx'].astype(float)\n",
    "# df_full['vy'] = df_full['vy'].astype(float)\n",
    "# df_full['vz'] = df_full['vz'].astype(float)"
   ]
  },
  {
   "cell_type": "code",
   "execution_count": 13,
   "id": "272f0f17",
   "metadata": {},
   "outputs": [],
   "source": [
    "choice = 'I'\n",
    "gamma = 5/3. # roughly for atomes, for diatomic molecule : 7/5.\n",
    "\n",
    "mass = physics.get_mass_part(53, 53, 74) # I\n",
    "molecular_mass = 0.1269 # kg/mol\n",
    "    \n",
    "verbose=False"
   ]
  },
  {
   "cell_type": "code",
   "execution_count": 14,
   "id": "17cbe022",
   "metadata": {},
   "outputs": [
    {
     "name": "stdout",
     "output_type": "stream",
     "text": [
      "Speed of sound for [I] at temperature [ 300 1000] K : [180.99192586 330.44453506] m/s\n"
     ]
    }
   ],
   "source": [
    "sound_vel = physics.speed_of_sound(molecular_mass, temperature, gamma)\n",
    "print(f'Speed of sound for [{choice}] at temperature {temperature} K : {sound_vel} m/s')"
   ]
  },
  {
   "cell_type": "markdown",
   "id": "ffe8ae01",
   "metadata": {},
   "source": [
    "## Note : \n",
    "To save a figure, you can use : `analysis.save_fig(fig, path, title = None, dpi = 400, figsize = None)`, which allows you to easily save a figure while giving it a title and changing its size.\n",
    "You can also use the interactive widget."
   ]
  },
  {
   "cell_type": "markdown",
   "id": "bf70d067",
   "metadata": {},
   "source": [
    "## Choosing the part of the system to plot "
   ]
  },
  {
   "cell_type": "code",
   "execution_count": 15,
   "id": "a6f7428a",
   "metadata": {},
   "outputs": [],
   "source": [
    "# grid resolutions for the thruster\n",
    "\n",
    "thruster = True\n",
    "\n",
    "if(thruster):\n",
    "    res_x_0, res_y_0 = 18, 5 # 3 grids\n",
    "else:\n",
    "    res_x_0, res_y_0 = 10, 1 # 100, 10 # 25, 10\n",
    "\n",
    "total_nb_cells = res_x_0*res_y_0"
   ]
  },
  {
   "cell_type": "code",
   "execution_count": null,
   "id": "1788f008-6ca7-4cfb-ad1a-f6ee60566f2d",
   "metadata": {},
   "outputs": [],
   "source": [
    "fig, ax = plt.subplots(1, constrained_layout = True, figsize = (res_x_0, res_y_0));\n",
    "\n",
    "fact = 10\n",
    "volume_cell_plot = volume/(fact*fact*res_x_0*res_y_0)\n",
    "duration = df_full.index.unique().values.shape[0]\n",
    "analysis.hist2d(ax, df_full, bins = (fact*res_x_0,fact*res_y_0), weights = mr*np.ones(df_full.shape[0])/(duration*volume_cell_plot), stat = 'count'); # TODO: add cmap"
   ]
  },
  {
   "cell_type": "code",
   "execution_count": 17,
   "id": "3d41005a-1e29-429a-8da4-ce09d9daf5b0",
   "metadata": {},
   "outputs": [],
   "source": [
    "use_part = False\n",
    "\n",
    "# tube last part\n",
    "if(use_part):\n",
    "    if(thruster):\n",
    "        part = 1 # 2\n",
    "        if(part == 1):\n",
    "            x_min, x_max = 0, 3e-3 \n",
    "            y_min, y_max = 0.0, 5e-3\n",
    "            \n",
    "            # collisions\n",
    "            res_x, res_y = 3, 5 \n",
    "            offset = 0\n",
    "            cells = [k for k in range(15)]\n",
    "            \n",
    "        elif(part == 2):\n",
    "            x_min, x_max = 0.005, 1e-2\n",
    "            y_min, y_max = 2e-3, 3e-3\n",
    "            \n",
    "            # collisions\n",
    "            res_x, res_y = 5,1\n",
    "            offset = 27\n",
    "            cells = [27, 32, 37, 42, 47] \n",
    "            \n",
    "        volume = (x_max-x_min)*(y_max-y_min)*dz\n",
    "        df = df_full.loc[(df_full['x']>x_min) & (df_full['x']<x_max) & (df_full['y']>y_min) & (df_full['y']<y_max)].copy(deep=True)\n",
    "\n",
    "        # in addition we want to select the right cells in collisions\n",
    "        # plotting the mfp for the selected cells.\n",
    "        # first along x axis, then along y axis\n",
    "        nb_rows = collisions_per_cell_full.shape[0]\n",
    "        \n",
    "        index_collisions = collisions_per_cell_full.index.unique().values\n",
    "        collisions_per_cell = np.zeros((res_x,res_y,index_collisions.shape[0]))\n",
    "\n",
    "        for cell in cells :\n",
    "            i, j = (cell-offset)//res_y_0, (cell-offset)%res_y_0\n",
    "            collisions_per_cell[i,j,:] = collisions_per_cell_full[cell:nb_rows:total_nb_cells].values\n",
    "    else: # tube\n",
    "        hall = False\n",
    "        if(not hall):\n",
    "            x_min, x_max = 9e-3, 1e-2\n",
    "            y_min, y_max = 0, 1e-3\n",
    "\n",
    "            res_x, res_y = 1, 1\n",
    "            offset = 9 \n",
    "            cells = [9]\n",
    "        else:\n",
    "            x_min, x_max = 2e-2, 2.5e-2\n",
    "            y_min, y_max = 0, 1e-2\n",
    "\n",
    "            res_x, res_y = 5, 10 \n",
    "            offset = 200 \n",
    "            cells = [offset+k for k in range(50)] \n",
    "            \n",
    "        volume = (x_max-x_min)*(y_max-y_min)*dz\n",
    "        df = df_full.loc[(df_full['x']>x_min) & (df_full['x']<x_max) & (df_full['y']>y_min) & (df_full['y']<y_max)].copy(deep=True)\n",
    "        # in addition we want to select the right cells in collisions\n",
    "        # plotting the mfp for the selected cells.\n",
    "        # first along x axis, then along y axis\n",
    "            \n",
    "        nb_rows = collisions_per_cell_full.shape[0]\n",
    "        \n",
    "        index_collisions = collisions_per_cell_full.index.unique().values\n",
    "        collisions_per_cell = np.zeros((res_x,res_y,index_collisions.shape[0]))\n",
    "\n",
    "        for cell in cells :\n",
    "            i, j = (cell-offset)//res_y_0, (cell-offset)%res_y_0\n",
    "            collisions_per_cell[i,j,:] = collisions_per_cell_full[cell:nb_rows:total_nb_cells].values\n",
    "        \n",
    "else:\n",
    "    df = df_full # another reference.\n",
    "    nb_rows = collisions_per_cell_full.shape[0]\n",
    "\n",
    "    ## we are still\n",
    "    index_collisions = collisions_per_cell_full.index.unique().values\n",
    "    collisions_per_cell = np.zeros((res_x_0,res_y_0,index_collisions.shape[0]))\n",
    "    for cell in range(total_nb_cells):\n",
    "        i, j = cell//res_y_0, cell%res_y_0\n",
    "        collisions_per_cell[i,j,:] = collisions_per_cell_full[cell:nb_rows:total_nb_cells].values"
   ]
  },
  {
   "cell_type": "markdown",
   "id": "dd05cd9c",
   "metadata": {},
   "source": [
    "## Choosing frames to plot"
   ]
  },
  {
   "cell_type": "code",
   "execution_count": 18,
   "id": "c460d1c0",
   "metadata": {},
   "outputs": [],
   "source": [
    "unique_index = df.index.unique().values\n",
    "nb_save = unique_index.shape[0]\n",
    "iterations = np.max(unique_index)\n",
    "adding_period = unique_index[1]-unique_index[0] # adding period - required to\n",
    "# generally speaking, you choose frames so you have the steady state\n",
    "frames = unique_index[int(0.8*nb_save):nb_save] \n",
    "\n",
    "if(verbose):\n",
    "    print(f'Available frames :  {unique_index}')\n",
    "    print(f'Max iteration : {iterations}')\n",
    "    print(f'Choosen frames (for plotting) : \\n{frames}')"
   ]
  },
  {
   "cell_type": "markdown",
   "id": "f66f0bf8",
   "metadata": {},
   "source": [
    "## Particles analysis"
   ]
  },
  {
   "cell_type": "code",
   "execution_count": 19,
   "id": "4c431e03-8c5a-45ee-8301-654d907c3a1e",
   "metadata": {},
   "outputs": [],
   "source": [
    "# df['species'] = df.apply(convert_to_species, axis = 1)"
   ]
  },
  {
   "cell_type": "code",
   "execution_count": 20,
   "id": "6573c52c-e206-49d8-8563-37261bead344",
   "metadata": {},
   "outputs": [],
   "source": [
    "df_it = df.loc[np.isin(df.index, frames)]"
   ]
  },
  {
   "cell_type": "code",
   "execution_count": 21,
   "id": "49f0522f-e0ba-49e3-bb3f-3ec0ed3d0e61",
   "metadata": {},
   "outputs": [
    {
     "data": {
      "text/html": [
       "<div>\n",
       "<style scoped>\n",
       "    .dataframe tbody tr th:only-of-type {\n",
       "        vertical-align: middle;\n",
       "    }\n",
       "\n",
       "    .dataframe tbody tr th {\n",
       "        vertical-align: top;\n",
       "    }\n",
       "\n",
       "    .dataframe thead th {\n",
       "        text-align: right;\n",
       "    }\n",
       "</style>\n",
       "<table border=\"1\" class=\"dataframe\">\n",
       "  <thead>\n",
       "    <tr style=\"text-align: right;\">\n",
       "      <th></th>\n",
       "      <th>x</th>\n",
       "      <th>y</th>\n",
       "      <th>vx</th>\n",
       "      <th>vy</th>\n",
       "      <th>vz</th>\n",
       "      <th>species</th>\n",
       "    </tr>\n",
       "  </thead>\n",
       "  <tbody>\n",
       "    <tr>\n",
       "      <th>16050</th>\n",
       "      <td>0.007679</td>\n",
       "      <td>0.002271</td>\n",
       "      <td>58.354407</td>\n",
       "      <td>45.181279</td>\n",
       "      <td>-192.507845</td>\n",
       "      <td>0.0</td>\n",
       "    </tr>\n",
       "    <tr>\n",
       "      <th>16050</th>\n",
       "      <td>0.000569</td>\n",
       "      <td>0.001105</td>\n",
       "      <td>135.242624</td>\n",
       "      <td>-8.326015</td>\n",
       "      <td>-16.469043</td>\n",
       "      <td>0.0</td>\n",
       "    </tr>\n",
       "    <tr>\n",
       "      <th>16050</th>\n",
       "      <td>0.002606</td>\n",
       "      <td>0.002045</td>\n",
       "      <td>72.985645</td>\n",
       "      <td>-178.698455</td>\n",
       "      <td>13.158056</td>\n",
       "      <td>0.0</td>\n",
       "    </tr>\n",
       "    <tr>\n",
       "      <th>16050</th>\n",
       "      <td>0.004712</td>\n",
       "      <td>0.000868</td>\n",
       "      <td>153.896715</td>\n",
       "      <td>-33.297811</td>\n",
       "      <td>-33.744427</td>\n",
       "      <td>0.0</td>\n",
       "    </tr>\n",
       "    <tr>\n",
       "      <th>16050</th>\n",
       "      <td>0.000129</td>\n",
       "      <td>0.004496</td>\n",
       "      <td>-74.037515</td>\n",
       "      <td>-406.123878</td>\n",
       "      <td>-101.793030</td>\n",
       "      <td>0.0</td>\n",
       "    </tr>\n",
       "  </tbody>\n",
       "</table>\n",
       "</div>"
      ],
      "text/plain": [
       "              x         y          vx          vy          vz  species\n",
       "16050  0.007679  0.002271   58.354407   45.181279 -192.507845      0.0\n",
       "16050  0.000569  0.001105  135.242624   -8.326015  -16.469043      0.0\n",
       "16050  0.002606  0.002045   72.985645 -178.698455   13.158056      0.0\n",
       "16050  0.004712  0.000868  153.896715  -33.297811  -33.744427      0.0\n",
       "16050  0.000129  0.004496  -74.037515 -406.123878 -101.793030      0.0"
      ]
     },
     "execution_count": 21,
     "metadata": {},
     "output_type": "execute_result"
    }
   ],
   "source": [
    "df_it.head()"
   ]
  },
  {
   "cell_type": "markdown",
   "id": "87be8e9e-489b-470e-85aa-2620f1821fa9",
   "metadata": {},
   "source": [
    "# Not mandatory\n",
    "fig, ax = plt.subplots()\n",
    "sns.despine(fig)\n",
    "\n",
    "sns.scatterplot(\n",
    "    data = df_it,\n",
    "    # bins = 100,\n",
    "    x=\"x\", y =\"y\", hue=\"species\", s = 5.\n",
    ");"
   ]
  },
  {
   "cell_type": "code",
   "execution_count": 22,
   "id": "dfd3aa04-cc2c-4b58-bc11-79e74b3ba8d6",
   "metadata": {},
   "outputs": [],
   "source": [
    "# scatter plot\n",
    "dy = 1e-3\n",
    "y_offset = 2e-3 # m"
   ]
  },
  {
   "cell_type": "code",
   "execution_count": 23,
   "id": "e832fd7f-92bf-4cd4-87ba-a2d3e7428c45",
   "metadata": {},
   "outputs": [],
   "source": [
    "df_central = df_it.loc[(df_it['y']>y_offset) & (df_it['y']<y_offset+dy)]"
   ]
  },
  {
   "cell_type": "code",
   "execution_count": 24,
   "id": "7ea77be9-6652-4f96-ac2e-c9ac29264510",
   "metadata": {},
   "outputs": [],
   "source": [
    "df_central_I = df_central.loc[df_central['species']==0.0]\n",
    "df_central_Im = df_central.loc[df_central['species']==1.0]"
   ]
  },
  {
   "cell_type": "code",
   "execution_count": 25,
   "id": "7bb9424b-c17e-4dcd-b0d2-3c52908478a6",
   "metadata": {},
   "outputs": [
    {
     "data": {
      "application/vnd.jupyter.widget-view+json": {
       "model_id": "c34046b90ea0402b88dff05269e19969",
       "version_major": 2,
       "version_minor": 0
      },
      "text/plain": [
       "Canvas(toolbar=Toolbar(toolitems=[('Home', 'Reset original view', 'home', 'home'), ('Back', 'Back to previous …"
      ]
     },
     "metadata": {},
     "output_type": "display_data"
    }
   ],
   "source": [
    "fig, ax = plt.subplots(constrained_layout = True)\n",
    "dx_neutrals, bins_neutrals = 1e-4, 180 # should always be equal to 1.8e-2 m\n",
    "dx_ions, bins_ions = 1e-3, 18 # should always be equal to 1.8e-2 m\n",
    "\n",
    "ax.set_yscale('log')\n",
    "duration_it = df_it.index.unique().values.shape[0]\n",
    "\n",
    "analysis.hist1d(ax, df_central_I, 'x', bins = bins_neutrals, weights = mr/(dy*dx_neutrals*dz*duration_it)*np.ones(df_central_I.shape[0]), color = 'b', histtype = 'step', label = 'I')\n",
    "analysis.hist1d(ax, df_central_Im, 'x', bins = bins_ions, weights = mr/(dy*dx_ions*dz*duration_it)*np.ones(df_central_Im.shape[0]), color = 'r', histtype = 'step', label = 'I-')\n",
    "analysis.set_axis(ax, 'x', 'density')\n",
    "ax.legend(loc='best');"
   ]
  },
  {
   "cell_type": "markdown",
   "id": "33d988aa-5011-4501-8292-f7a150565d3a",
   "metadata": {
    "tags": []
   },
   "source": [
    "### Plotting density of particles evolution"
   ]
  },
  {
   "cell_type": "code",
   "execution_count": 26,
   "id": "fabed2e3-6402-4993-87a7-10d63b729323",
   "metadata": {},
   "outputs": [],
   "source": [
    "df_species = df['species']"
   ]
  },
  {
   "cell_type": "code",
   "execution_count": 27,
   "id": "6934008e",
   "metadata": {},
   "outputs": [],
   "source": [
    "nb_parts = df_species.groupby(df_species.index).agg('count').values"
   ]
  },
  {
   "cell_type": "code",
   "execution_count": 28,
   "id": "392e0918-3166-4f4e-9cdd-b774ba218b75",
   "metadata": {},
   "outputs": [],
   "source": [
    "df_I = df_species.loc[df_species==0.0]\n",
    "nb_parts_I = df_I.groupby(df_I.index).agg('count').values"
   ]
  },
  {
   "cell_type": "code",
   "execution_count": 29,
   "id": "35c69d6c-337f-45aa-bbcc-f544fd1c1c19",
   "metadata": {},
   "outputs": [
    {
     "data": {
      "application/vnd.jupyter.widget-view+json": {
       "model_id": "7d0117958ed043fea5b5ee36a658864a",
       "version_major": 2,
       "version_minor": 0
      },
      "text/plain": [
       "Canvas(toolbar=Toolbar(toolitems=[('Home', 'Reset original view', 'home', 'home'), ('Back', 'Back to previous …"
      ]
     },
     "metadata": {},
     "output_type": "display_data"
    }
   ],
   "source": [
    "fig, ax = plt.subplots(constrained_layout = True)\n",
    "ax.plot(df.index.unique()*dt, nb_parts_I*mr/volume, label = 'I')\n",
    "ax.plot(df.index.unique()*dt, (nb_parts-nb_parts_I)*mr/volume, label = 'I-')\n",
    "ax.set_yscale('log')\n",
    "plt.legend(loc='best')\n",
    "analysis.set_axis(ax, x = 'time', y = 'density')"
   ]
  },
  {
   "cell_type": "markdown",
   "id": "7d3f1593",
   "metadata": {},
   "source": [
    "### Velocity distribution"
   ]
  },
  {
   "cell_type": "code",
   "execution_count": 30,
   "id": "2071a870-fd3e-4871-bbc7-f4e2021a4e33",
   "metadata": {},
   "outputs": [],
   "source": [
    "df_it_I = df_it.loc[df_it['species']==0.0]\n",
    "df_it_Im = df_it.loc[df_it['species']==1.0]"
   ]
  },
  {
   "cell_type": "code",
   "execution_count": 31,
   "id": "1bae07ec",
   "metadata": {},
   "outputs": [
    {
     "data": {
      "application/vnd.jupyter.widget-view+json": {
       "model_id": "23af5e9391d14a1fbd043914f23dbee7",
       "version_major": 2,
       "version_minor": 0
      },
      "text/plain": [
       "Canvas(toolbar=Toolbar(toolitems=[('Home', 'Reset original view', 'home', 'home'), ('Back', 'Back to previous …"
      ]
     },
     "metadata": {},
     "output_type": "display_data"
    }
   ],
   "source": [
    "fig, axes = analysis.velocity_distribution(df_it_I.loc[(df_it_I['vx']>-1000)&(df_it_I['vx']<1000)], frames = None, bins = 100, density = True, sharex = False, sharey = False); # (df_it_I['vx']<1000) & "
   ]
  },
  {
   "cell_type": "markdown",
   "id": "2e7cc9c3-46ed-44e7-a62a-446729918ac5",
   "metadata": {},
   "source": [
    "### stream plot"
   ]
  },
  {
   "cell_type": "code",
   "execution_count": 32,
   "id": "833cd8ca-ac82-4e2c-9623-5f95483639b8",
   "metadata": {},
   "outputs": [],
   "source": [
    "dp = 1e-4\n",
    "df['i'] = (df['x']/dp).astype(int)\n",
    "df['j'] = (df['y']/dp).astype(int)"
   ]
  },
  {
   "cell_type": "code",
   "execution_count": 40,
   "id": "0956dedf-b0d4-4879-8afd-3f956e2595ae",
   "metadata": {},
   "outputs": [],
   "source": [
    "groups = df.loc[df['species'] == 1.0].groupby(['i','j']).mean()"
   ]
  },
  {
   "cell_type": "code",
   "execution_count": 41,
   "id": "62432f14-9aac-4e15-9016-5750abacccb9",
   "metadata": {},
   "outputs": [],
   "source": [
    "groups = groups.reset_index()"
   ]
  },
  {
   "cell_type": "code",
   "execution_count": 42,
   "id": "36053bc1-db59-4e1c-80ad-17ea6892f111",
   "metadata": {},
   "outputs": [
    {
     "data": {
      "text/html": [
       "<div>\n",
       "<style scoped>\n",
       "    .dataframe tbody tr th:only-of-type {\n",
       "        vertical-align: middle;\n",
       "    }\n",
       "\n",
       "    .dataframe tbody tr th {\n",
       "        vertical-align: top;\n",
       "    }\n",
       "\n",
       "    .dataframe thead th {\n",
       "        text-align: right;\n",
       "    }\n",
       "</style>\n",
       "<table border=\"1\" class=\"dataframe\">\n",
       "  <thead>\n",
       "    <tr style=\"text-align: right;\">\n",
       "      <th></th>\n",
       "      <th>i</th>\n",
       "      <th>j</th>\n",
       "      <th>x</th>\n",
       "      <th>y</th>\n",
       "      <th>vx</th>\n",
       "      <th>vy</th>\n",
       "      <th>vz</th>\n",
       "      <th>species</th>\n",
       "    </tr>\n",
       "  </thead>\n",
       "  <tbody>\n",
       "    <tr>\n",
       "      <th>0</th>\n",
       "      <td>0</td>\n",
       "      <td>0</td>\n",
       "      <td>0.000055</td>\n",
       "      <td>0.000054</td>\n",
       "      <td>2587.111817</td>\n",
       "      <td>-3.466133</td>\n",
       "      <td>-205.272698</td>\n",
       "      <td>1.0</td>\n",
       "    </tr>\n",
       "    <tr>\n",
       "      <th>1</th>\n",
       "      <td>0</td>\n",
       "      <td>1</td>\n",
       "      <td>0.000076</td>\n",
       "      <td>0.000149</td>\n",
       "      <td>2507.162318</td>\n",
       "      <td>99.393527</td>\n",
       "      <td>-225.657185</td>\n",
       "      <td>1.0</td>\n",
       "    </tr>\n",
       "    <tr>\n",
       "      <th>2</th>\n",
       "      <td>0</td>\n",
       "      <td>2</td>\n",
       "      <td>0.000061</td>\n",
       "      <td>0.000249</td>\n",
       "      <td>2584.550180</td>\n",
       "      <td>-269.278174</td>\n",
       "      <td>68.875143</td>\n",
       "      <td>1.0</td>\n",
       "    </tr>\n",
       "    <tr>\n",
       "      <th>3</th>\n",
       "      <td>0</td>\n",
       "      <td>3</td>\n",
       "      <td>0.000057</td>\n",
       "      <td>0.000356</td>\n",
       "      <td>2572.519468</td>\n",
       "      <td>-305.016733</td>\n",
       "      <td>118.936571</td>\n",
       "      <td>1.0</td>\n",
       "    </tr>\n",
       "    <tr>\n",
       "      <th>4</th>\n",
       "      <td>0</td>\n",
       "      <td>4</td>\n",
       "      <td>0.000063</td>\n",
       "      <td>0.000434</td>\n",
       "      <td>2516.570620</td>\n",
       "      <td>36.634172</td>\n",
       "      <td>-112.744561</td>\n",
       "      <td>1.0</td>\n",
       "    </tr>\n",
       "  </tbody>\n",
       "</table>\n",
       "</div>"
      ],
      "text/plain": [
       "   i  j         x         y           vx          vy          vz  species\n",
       "0  0  0  0.000055  0.000054  2587.111817   -3.466133 -205.272698      1.0\n",
       "1  0  1  0.000076  0.000149  2507.162318   99.393527 -225.657185      1.0\n",
       "2  0  2  0.000061  0.000249  2584.550180 -269.278174   68.875143      1.0\n",
       "3  0  3  0.000057  0.000356  2572.519468 -305.016733  118.936571      1.0\n",
       "4  0  4  0.000063  0.000434  2516.570620   36.634172 -112.744561      1.0"
      ]
     },
     "execution_count": 42,
     "metadata": {},
     "output_type": "execute_result"
    }
   ],
   "source": [
    "groups.head()"
   ]
  },
  {
   "cell_type": "markdown",
   "id": "7f3a836f-9a64-450b-ae36-2a15255a65e5",
   "metadata": {},
   "source": [
    "# fig, ax = plt.subplots()\n",
    "\n",
    "values = {\n",
    "    'width' : 3*dp,\n",
    "    'headwidth' : 3,\n",
    "    'headlength' : 5\n",
    "}\n",
    "\n",
    "ax.quiver(dp*groups['i'], dp*groups['j'], groups['vx'], groups['vy'], groups['vx'], **values);"
   ]
  },
  {
   "cell_type": "code",
   "execution_count": 43,
   "id": "0e576d3d-6321-4a08-9567-10bd098e832b",
   "metadata": {},
   "outputs": [],
   "source": [
    "U,V = np.zeros((groups['j'].max()-groups['j'].min(),groups['i'].max()-groups['i'].min()), dtype = float), np.zeros((groups['j'].max()-groups['j'].min(),groups['i'].max()-groups['i'].min()), dtype = float)\n",
    "X, Y = np.arange(groups['i'].min(), groups['i'].max()),  np.arange(groups['j'].min(), groups['j'].max())\n",
    "\n",
    "for x in X:\n",
    "    for y in Y:\n",
    "        row = groups.loc[(groups['i'] == x) &  (groups['j'] == y)]\n",
    "        try :\n",
    "            U[y,x] = row['vx']\n",
    "            V[y,x] = row['vy']\n",
    "        except ValueError as e:\n",
    "            pass"
   ]
  },
  {
   "cell_type": "code",
   "execution_count": 44,
   "id": "2aaa41e0-e1df-4934-b49f-e0c39a29646f",
   "metadata": {},
   "outputs": [
    {
     "name": "stdout",
     "output_type": "stream",
     "text": [
      "(49, 169) (49, 169)\n",
      "(169,) (49,)\n"
     ]
    }
   ],
   "source": [
    "print(U.shape, V.shape)\n",
    "print(X.shape, Y.shape)\n",
    "speed = np.sqrt(U**2+V**2)\n",
    "lw = 2 * speed / (speed.max()+1e-8)"
   ]
  },
  {
   "cell_type": "code",
   "execution_count": 45,
   "id": "9e51d784-9e6f-43d2-963d-15c7146ba409",
   "metadata": {},
   "outputs": [
    {
     "data": {
      "application/vnd.jupyter.widget-view+json": {
       "model_id": "e737142ffc924bbfbec16195f55e55aa",
       "version_major": 2,
       "version_minor": 0
      },
      "text/plain": [
       "Canvas(toolbar=Toolbar(toolitems=[('Home', 'Reset original view', 'home', 'home'), ('Back', 'Back to previous …"
      ]
     },
     "metadata": {},
     "output_type": "display_data"
    }
   ],
   "source": [
    "fig, ax = plt.subplots(constrained_layout=True)\n",
    "# ax.axis('equal')\n",
    "h = ax.streamplot(x=dp*X,y=dp*Y,u=U,v=V, density = 3, color=U, linewidth=lw, cmap='plasma'); \n",
    "cbar = fig.colorbar(h.lines, ax=ax)\n",
    "analysis.set_axis(ax, x = 'x', y = 'y');"
   ]
  },
  {
   "cell_type": "markdown",
   "id": "767ed387-6f9d-4cb9-b321-61707036221c",
   "metadata": {
    "tags": []
   },
   "source": [
    "## Out particles plot"
   ]
  },
  {
   "cell_type": "code",
   "execution_count": 46,
   "id": "9f255777-31a0-4b41-a958-6c139841a662",
   "metadata": {},
   "outputs": [
    {
     "data": {
      "text/html": [
       "<div>\n",
       "<style scoped>\n",
       "    .dataframe tbody tr th:only-of-type {\n",
       "        vertical-align: middle;\n",
       "    }\n",
       "\n",
       "    .dataframe tbody tr th {\n",
       "        vertical-align: top;\n",
       "    }\n",
       "\n",
       "    .dataframe thead th {\n",
       "        text-align: right;\n",
       "    }\n",
       "</style>\n",
       "<table border=\"1\" class=\"dataframe\">\n",
       "  <thead>\n",
       "    <tr style=\"text-align: right;\">\n",
       "      <th></th>\n",
       "      <th>x</th>\n",
       "      <th>y</th>\n",
       "      <th>vx</th>\n",
       "      <th>vy</th>\n",
       "      <th>vz</th>\n",
       "      <th>species</th>\n",
       "    </tr>\n",
       "  </thead>\n",
       "  <tbody>\n",
       "    <tr>\n",
       "      <th>104</th>\n",
       "      <td>0.000001</td>\n",
       "      <td>0.004096</td>\n",
       "      <td>76.216532</td>\n",
       "      <td>-174.344545</td>\n",
       "      <td>-136.037403</td>\n",
       "      <td>0.0</td>\n",
       "    </tr>\n",
       "    <tr>\n",
       "      <th>109</th>\n",
       "      <td>0.000004</td>\n",
       "      <td>0.003075</td>\n",
       "      <td>293.299264</td>\n",
       "      <td>-47.653420</td>\n",
       "      <td>59.544206</td>\n",
       "      <td>0.0</td>\n",
       "    </tr>\n",
       "    <tr>\n",
       "      <th>143</th>\n",
       "      <td>0.000004</td>\n",
       "      <td>0.003061</td>\n",
       "      <td>306.497988</td>\n",
       "      <td>63.272520</td>\n",
       "      <td>-48.996602</td>\n",
       "      <td>0.0</td>\n",
       "    </tr>\n",
       "    <tr>\n",
       "      <th>151</th>\n",
       "      <td>0.000003</td>\n",
       "      <td>0.004331</td>\n",
       "      <td>166.337286</td>\n",
       "      <td>-55.403632</td>\n",
       "      <td>177.379883</td>\n",
       "      <td>0.0</td>\n",
       "    </tr>\n",
       "    <tr>\n",
       "      <th>154</th>\n",
       "      <td>0.000001</td>\n",
       "      <td>0.001241</td>\n",
       "      <td>87.853258</td>\n",
       "      <td>22.957517</td>\n",
       "      <td>65.773741</td>\n",
       "      <td>0.0</td>\n",
       "    </tr>\n",
       "  </tbody>\n",
       "</table>\n",
       "</div>"
      ],
      "text/plain": [
       "            x         y          vx          vy          vz  species\n",
       "104  0.000001  0.004096   76.216532 -174.344545 -136.037403      0.0\n",
       "109  0.000004  0.003075  293.299264  -47.653420   59.544206      0.0\n",
       "143  0.000004  0.003061  306.497988   63.272520  -48.996602      0.0\n",
       "151  0.000003  0.004331  166.337286  -55.403632  177.379883      0.0\n",
       "154  0.000001  0.001241   87.853258   22.957517   65.773741      0.0"
      ]
     },
     "execution_count": 46,
     "metadata": {},
     "output_type": "execute_result"
    }
   ],
   "source": [
    "df_out_particles.head()"
   ]
  },
  {
   "cell_type": "code",
   "execution_count": 47,
   "id": "a9974003-59d9-42c6-94e0-0074388969ce",
   "metadata": {},
   "outputs": [],
   "source": [
    "df_out_particles = df_out_particles.loc[df_out_particles['vx']>0]"
   ]
  },
  {
   "cell_type": "code",
   "execution_count": 48,
   "id": "0d4c1e26-1968-48bc-b7dd-8808c86fe42c",
   "metadata": {},
   "outputs": [],
   "source": [
    "# df_out_particles['species'] = df_out_particles.apply(convert_to_species, axis = 1)"
   ]
  },
  {
   "cell_type": "code",
   "execution_count": 49,
   "id": "1d6712e2-6ffa-44a1-93c4-9e80563f6b28",
   "metadata": {},
   "outputs": [],
   "source": [
    "df_out_particles['v'] = np.sqrt(df_out_particles['vx']**2+df_out_particles['vy']**2+df_out_particles['vz']**2)\n",
    "df_out_particles['energy'] = df_out_particles['v']**2\n",
    "df_out_particles['angle'] = np.arctan(df_out_particles['vy']/df_out_particles['vx'])"
   ]
  },
  {
   "cell_type": "code",
   "execution_count": 50,
   "id": "eacf5fc0-375d-457f-9046-f2d532017b5f",
   "metadata": {},
   "outputs": [],
   "source": [
    "ions_out = df_out_particles.loc[df_out_particles['species'] == 1.0]\n",
    "neutral_out =  df_out_particles.loc[df_out_particles['species'] == 0.0]"
   ]
  },
  {
   "cell_type": "code",
   "execution_count": 51,
   "id": "2d9dcb57-8a59-421f-aa5b-75abedbfd830",
   "metadata": {},
   "outputs": [
    {
     "name": "stdout",
     "output_type": "stream",
     "text": [
      "Out particles neutralization percentage : 99.95 %\n"
     ]
    }
   ],
   "source": [
    "results = df_out_particles[['species', 'x']].groupby('species').count();\n",
    "try:\n",
    "    print('Out particles neutralization percentage : {:.4} %'.format(100*results.iloc[0,0]/(results.iloc[0,0]+results.iloc[1,0])))\n",
    "except:\n",
    "    print('100% neutralization')\n",
    "    print(results)"
   ]
  },
  {
   "cell_type": "code",
   "execution_count": 52,
   "id": "80bcbc52-d13c-40b2-a768-0f85677750a4",
   "metadata": {},
   "outputs": [
    {
     "data": {
      "text/html": [
       "<div>\n",
       "<style scoped>\n",
       "    .dataframe tbody tr th:only-of-type {\n",
       "        vertical-align: middle;\n",
       "    }\n",
       "\n",
       "    .dataframe tbody tr th {\n",
       "        vertical-align: top;\n",
       "    }\n",
       "\n",
       "    .dataframe thead th {\n",
       "        text-align: right;\n",
       "    }\n",
       "</style>\n",
       "<table border=\"1\" class=\"dataframe\">\n",
       "  <thead>\n",
       "    <tr style=\"text-align: right;\">\n",
       "      <th></th>\n",
       "      <th>vx</th>\n",
       "      <th>vy</th>\n",
       "      <th>vz</th>\n",
       "      <th>v</th>\n",
       "      <th>energy</th>\n",
       "    </tr>\n",
       "    <tr>\n",
       "      <th>species</th>\n",
       "      <th></th>\n",
       "      <th></th>\n",
       "      <th></th>\n",
       "      <th></th>\n",
       "      <th></th>\n",
       "    </tr>\n",
       "  </thead>\n",
       "  <tbody>\n",
       "    <tr>\n",
       "      <th>0.0</th>\n",
       "      <td>179.672281</td>\n",
       "      <td>-0.656078</td>\n",
       "      <td>0.395335</td>\n",
       "      <td>267.297627</td>\n",
       "      <td>1.894365e+05</td>\n",
       "    </tr>\n",
       "    <tr>\n",
       "      <th>1.0</th>\n",
       "      <td>3585.861925</td>\n",
       "      <td>-50.671991</td>\n",
       "      <td>-39.516811</td>\n",
       "      <td>3614.305000</td>\n",
       "      <td>1.991966e+07</td>\n",
       "    </tr>\n",
       "  </tbody>\n",
       "</table>\n",
       "</div>"
      ],
      "text/plain": [
       "                  vx         vy         vz            v        energy\n",
       "species                                                              \n",
       "0.0       179.672281  -0.656078   0.395335   267.297627  1.894365e+05\n",
       "1.0      3585.861925 -50.671991 -39.516811  3614.305000  1.991966e+07"
      ]
     },
     "execution_count": 52,
     "metadata": {},
     "output_type": "execute_result"
    }
   ],
   "source": [
    "vel_results = df_out_particles[['species', 'vx', 'vy', 'vz', 'v','energy']].groupby('species').agg('mean');\n",
    "vel_results"
   ]
  },
  {
   "cell_type": "code",
   "execution_count": 53,
   "id": "98fe9937-f48e-418a-9e46-84a7a3e043fe",
   "metadata": {},
   "outputs": [],
   "source": [
    "analysis.set_fontsizes(SMALL_SIZE = 10, MEDIUM_SIZE = 12, BIGGER_SIZE = 14)"
   ]
  },
  {
   "cell_type": "code",
   "execution_count": 54,
   "id": "2f6e883e-c9da-4507-b5ee-76bc82f1eb53",
   "metadata": {},
   "outputs": [
    {
     "data": {
      "application/vnd.jupyter.widget-view+json": {
       "model_id": "f7a9b7a035f94809be983c6c0bd192fa",
       "version_major": 2,
       "version_minor": 0
      },
      "text/plain": [
       "Canvas(toolbar=Toolbar(toolitems=[('Home', 'Reset original view', 'home', 'home'), ('Back', 'Back to previous …"
      ]
     },
     "metadata": {},
     "output_type": "display_data"
    }
   ],
   "source": [
    "fig, ax = plt.subplots(constrained_layout = True)\n",
    "sns.despine(fig)\n",
    "\n",
    "sns.histplot(\n",
    "    df_out_particles.loc[df_out_particles['vx']>0], # problem : some of them are actually exciting trough the in-flux wall\n",
    "    x=\"vx\", hue=\"species\",\n",
    "    bins = 50,\n",
    "    multiple=\"stack\",\n",
    "    palette=\"light:m_r\",\n",
    "    edgecolor=\".3\",\n",
    "    linewidth=.5,\n",
    "    log_scale=[False,True],\n",
    ");"
   ]
  },
  {
   "cell_type": "code",
   "execution_count": 55,
   "id": "26401389-5a3a-488f-a234-3d299e9b4e5b",
   "metadata": {},
   "outputs": [
    {
     "data": {
      "application/vnd.jupyter.widget-view+json": {
       "model_id": "ce0124e31a554209a30280e23f1cc614",
       "version_major": 2,
       "version_minor": 0
      },
      "text/plain": [
       "Canvas(toolbar=Toolbar(toolitems=[('Home', 'Reset original view', 'home', 'home'), ('Back', 'Back to previous …"
      ]
     },
     "metadata": {},
     "output_type": "display_data"
    },
    {
     "data": {
      "text/plain": [
       "<AxesSubplot:xlabel='angle', ylabel='Count'>"
      ]
     },
     "execution_count": 55,
     "metadata": {},
     "output_type": "execute_result"
    }
   ],
   "source": [
    "fig, ax = plt.subplots(constrained_layout = True)\n",
    "#sns.despine(fig)\n",
    "ax.set_xticks([-np.pi/2, -np.pi/4, 0, np.pi/4, np.pi/2]);\n",
    "ax.set_xticklabels(['-π/2', '-π/4', '0', 'π/4', 'π/2'])\n",
    "sns.histplot(\n",
    "    df_out_particles,\n",
    "    # bins = 100,\n",
    "    x=\"angle\", hue=\"species\",\n",
    "    multiple=\"stack\",\n",
    "    palette=\"light:m_r\",\n",
    "    edgecolor=\".3\",\n",
    "    linewidth=.5,\n",
    "    log_scale=False,\n",
    ")\n"
   ]
  },
  {
   "cell_type": "markdown",
   "id": "530211c1-8d2e-46e5-8007-a40637a45020",
   "metadata": {},
   "source": [
    "### Thrust due to ions"
   ]
  },
  {
   "cell_type": "code",
   "execution_count": 56,
   "id": "9782df6c-0480-4f41-bf82-9a653e650488",
   "metadata": {},
   "outputs": [
    {
     "data": {
      "text/html": [
       "<div>\n",
       "<style scoped>\n",
       "    .dataframe tbody tr th:only-of-type {\n",
       "        vertical-align: middle;\n",
       "    }\n",
       "\n",
       "    .dataframe tbody tr th {\n",
       "        vertical-align: top;\n",
       "    }\n",
       "\n",
       "    .dataframe thead th {\n",
       "        text-align: right;\n",
       "    }\n",
       "</style>\n",
       "<table border=\"1\" class=\"dataframe\">\n",
       "  <thead>\n",
       "    <tr style=\"text-align: right;\">\n",
       "      <th></th>\n",
       "      <th>x</th>\n",
       "      <th>y</th>\n",
       "      <th>vx</th>\n",
       "      <th>vy</th>\n",
       "      <th>vz</th>\n",
       "      <th>species</th>\n",
       "      <th>v</th>\n",
       "      <th>energy</th>\n",
       "      <th>angle</th>\n",
       "    </tr>\n",
       "  </thead>\n",
       "  <tbody>\n",
       "    <tr>\n",
       "      <th>104</th>\n",
       "      <td>0.000001</td>\n",
       "      <td>0.004096</td>\n",
       "      <td>76.216532</td>\n",
       "      <td>-174.344545</td>\n",
       "      <td>-136.037403</td>\n",
       "      <td>0.0</td>\n",
       "      <td>233.904158</td>\n",
       "      <td>54711.155073</td>\n",
       "      <td>-1.158671</td>\n",
       "    </tr>\n",
       "    <tr>\n",
       "      <th>109</th>\n",
       "      <td>0.000004</td>\n",
       "      <td>0.003075</td>\n",
       "      <td>293.299264</td>\n",
       "      <td>-47.653420</td>\n",
       "      <td>59.544206</td>\n",
       "      <td>0.0</td>\n",
       "      <td>303.052503</td>\n",
       "      <td>91840.819333</td>\n",
       "      <td>-0.161066</td>\n",
       "    </tr>\n",
       "    <tr>\n",
       "      <th>143</th>\n",
       "      <td>0.000004</td>\n",
       "      <td>0.003061</td>\n",
       "      <td>306.497988</td>\n",
       "      <td>63.272520</td>\n",
       "      <td>-48.996602</td>\n",
       "      <td>0.0</td>\n",
       "      <td>316.772939</td>\n",
       "      <td>100345.095110</td>\n",
       "      <td>0.203577</td>\n",
       "    </tr>\n",
       "    <tr>\n",
       "      <th>151</th>\n",
       "      <td>0.000003</td>\n",
       "      <td>0.004331</td>\n",
       "      <td>166.337286</td>\n",
       "      <td>-55.403632</td>\n",
       "      <td>177.379883</td>\n",
       "      <td>0.0</td>\n",
       "      <td>249.401840</td>\n",
       "      <td>62201.277800</td>\n",
       "      <td>-0.321523</td>\n",
       "    </tr>\n",
       "    <tr>\n",
       "      <th>154</th>\n",
       "      <td>0.000001</td>\n",
       "      <td>0.001241</td>\n",
       "      <td>87.853258</td>\n",
       "      <td>22.957517</td>\n",
       "      <td>65.773741</td>\n",
       "      <td>0.0</td>\n",
       "      <td>112.122378</td>\n",
       "      <td>12571.427543</td>\n",
       "      <td>0.255601</td>\n",
       "    </tr>\n",
       "  </tbody>\n",
       "</table>\n",
       "</div>"
      ],
      "text/plain": [
       "            x         y          vx          vy          vz  species  \\\n",
       "104  0.000001  0.004096   76.216532 -174.344545 -136.037403      0.0   \n",
       "109  0.000004  0.003075  293.299264  -47.653420   59.544206      0.0   \n",
       "143  0.000004  0.003061  306.497988   63.272520  -48.996602      0.0   \n",
       "151  0.000003  0.004331  166.337286  -55.403632  177.379883      0.0   \n",
       "154  0.000001  0.001241   87.853258   22.957517   65.773741      0.0   \n",
       "\n",
       "              v         energy     angle  \n",
       "104  233.904158   54711.155073 -1.158671  \n",
       "109  303.052503   91840.819333 -0.161066  \n",
       "143  316.772939  100345.095110  0.203577  \n",
       "151  249.401840   62201.277800 -0.321523  \n",
       "154  112.122378   12571.427543  0.255601  "
      ]
     },
     "execution_count": 56,
     "metadata": {},
     "output_type": "execute_result"
    }
   ],
   "source": [
    "df_out_particles.head()"
   ]
  },
  {
   "cell_type": "code",
   "execution_count": 57,
   "id": "1d8266e6-5bf6-4917-9ea9-1a65f4275bf7",
   "metadata": {},
   "outputs": [
    {
     "name": "stdout",
     "output_type": "stream",
     "text": [
      "3.95e-05\n"
     ]
    }
   ],
   "source": [
    "df_out_particles_it = df_out_particles.loc[np.isin(df_out_particles.index, frames)]\n",
    "duration = (np.max(frames)-np.min(frames))*dt\n",
    "print(duration)"
   ]
  },
  {
   "cell_type": "code",
   "execution_count": 58,
   "id": "e1f392e5-73df-41e6-9496-91c39a00e274",
   "metadata": {},
   "outputs": [
    {
     "name": "stdout",
     "output_type": "stream",
     "text": [
      "Mean speed out : 1.814e+02 m/s.\n"
     ]
    }
   ],
   "source": [
    "print('Mean speed out : {:.3e} m/s.'.format(df_out_particles.mean()['vx']))"
   ]
  },
  {
   "cell_type": "code",
   "execution_count": 59,
   "id": "5ca7f9d2-8608-4a17-b4c2-adf48cc30fdb",
   "metadata": {},
   "outputs": [
    {
     "data": {
      "text/plain": [
       "73018.42846872447"
      ]
     },
     "execution_count": 59,
     "metadata": {},
     "output_type": "execute_result"
    }
   ],
   "source": [
    "df_out_particles_it.sum()['vx']"
   ]
  },
  {
   "cell_type": "code",
   "execution_count": 60,
   "id": "3db71c20-9b81-45ee-b5cb-816632aeacdc",
   "metadata": {},
   "outputs": [
    {
     "name": "stdout",
     "output_type": "stream",
     "text": [
      "Ratio ion / neutral : 5.24\n",
      "Thrust per injection surface : 3.70e-01 N/m²\n"
     ]
    }
   ],
   "source": [
    "density_ion = 3.2e17\n",
    "v_mean_injection_ion = 2000 # m/s\n",
    "flux_ion = 0.25*density_ion*v_mean_injection_ion\n",
    "\n",
    "density = 3.2e19\n",
    "v_mean_injection = 200 # m/s\n",
    "flux = 0.25*density*v_mean_injection\n",
    "\n",
    "# in this simulation\n",
    "mean_speed_ion = df_out_particles.loc[df_out_particles['vx']>1000].mean()['vx'] # the thing is that now I cant make the difference between I- and I (as I inject both) - I choose the criteria speed > 1000 but not too sure about that\n",
    "mean_speed = df_out_particles.loc[df_out_particles['vx']<1000].mean()['vx'] # m/s\n",
    "\n",
    "surfasic_thrust_ion = mean_speed_ion*mass*flux_ion\n",
    "surfasic_thrust = mean_speed*mass*flux # total\n",
    "total_thrust = surfasic_thrust + surfasic_thrust_ion\n",
    "print('Ratio ion / neutral : {:.3}'.format(surfasic_thrust_ion/surfasic_thrust))\n",
    "print('Thrust per injection surface : {:.2e} N/m²'.format(total_thrust))"
   ]
  },
  {
   "cell_type": "code",
   "execution_count": 61,
   "id": "c335ad83-1395-4919-bf43-c678713ee55d",
   "metadata": {},
   "outputs": [
    {
     "name": "stdout",
     "output_type": "stream",
     "text": [
      "Pegase thrust : 7.408e-04 N\n"
     ]
    }
   ],
   "source": [
    "surface_pegase = 5e-2 * 4e-2 # m²\n",
    "print('Pegase thrust : {:.3e} N'.format(total_thrust*surface_pegase))"
   ]
  },
  {
   "cell_type": "code",
   "execution_count": 62,
   "id": "75112f62-8c75-4353-9895-43dd6abcd917",
   "metadata": {},
   "outputs": [
    {
     "name": "stdout",
     "output_type": "stream",
     "text": [
      "Thrust : 6.282e-04 N\n"
     ]
    }
   ],
   "source": [
    "injection_surface = 1e-3*5e-3\n",
    "print('Thrust : {:.3e} N'.format(mr*df_out_particles_it.sum()['vx']*mass/(duration*injection_surface)))"
   ]
  },
  {
   "cell_type": "code",
   "execution_count": 63,
   "id": "b2bf9587-d0e7-424d-a94d-9df1abe3f557",
   "metadata": {},
   "outputs": [
    {
     "name": "stdout",
     "output_type": "stream",
     "text": [
      "Isp : 9.330e+02 s-1\n",
      "Theoretical Isp : 2.167e+03 s-1\n",
      "Efficiency : 43.1 %\n"
     ]
    }
   ],
   "source": [
    "V_accel = 300 # V\n",
    "e = 1.6e-19\n",
    "print('Isp : {:.3e} s-1'.format(mean_speed_ion/9.81))\n",
    "print('Theoretical Isp : {:.3e} s-1'.format((np.sqrt(2*e*V_accel/mass))/9.81))\n",
    "print('Efficiency : {:.3} %'.format(100*mean_speed_ion/np.sqrt(2*e*V_accel/mass)))"
   ]
  },
  {
   "cell_type": "markdown",
   "id": "3ac57e0a",
   "metadata": {},
   "source": [
    "df_mean = df.groupby(df.index).mean()\n",
    "## Temperature evolution\n",
    "\n",
    "First - not by cell but for the whole system.\n",
    "\n",
    "### Theory : \n",
    "\n",
    "The kinetic energy density $w$ is\n",
    "\n",
    "$w = \\frac{3}{2}p(\\vec{r},t) + n(\\vec{r},t)\\frac{1}{2} m |\\vec{u}(\\vec{r},t)|^2$ \n",
    "\n",
    "With $\\vec{u}(\\vec{r},t) = ((<(v_x, v_y, v_z)>)(\\vec{r},t))^T$ thus : $|\\vec{u}(\\vec{r},t)| = |<\\vec{v}>|$.\n",
    "\n",
    "Here the drift is not zero. So we have to remove it to have only $\\frac{3}{2}p(\\vec{r},t) = w - n(\\vec{r},t)\\frac{1}{2} m |\\vec{u}(\\vec{r},t)|^2$.\n",
    "\n",
    "This yields : \n",
    "\n",
    "$\\frac{3}{2}p(\\vec{r},t) = n(\\vec{r},t)  <\\frac{1}{2}mv^2> - n(\\vec{r},t)\\frac{1}{2} m |\\vec{u}(\\vec{r},t)|^2$\n",
    "\n",
    "Which yields : \n",
    "\n",
    "$$ \\frac{3}{2}p(\\vec{r},t) = \\frac{m n(\\vec{r},t)}{2}  (<v^2> - |<\\vec{v}>|^2) $$\n",
    "\n",
    "With $p = nkT$.\n",
    "\n",
    "Intuition : total energy - energy contains in the drift."
   ]
  },
  {
   "cell_type": "code",
   "execution_count": 43,
   "id": "496f52e4",
   "metadata": {},
   "outputs": [],
   "source": [
    "df['v'] = np.sqrt(df['vx']*df['vx']+df['vy']*df['vy']+df['vz']*df['vz']) # df.apply(analysis.speed_norm, axis = 1)\n",
    "df['v2'] = df['v']**2\n",
    "df_mean = df.groupby(df.index).mean()\n",
    "df_mean['v_drift'] = np.sqrt(df_mean['vx']*df_mean['vx']+df_mean['vy']*df_mean['vy']+df_mean['vz']*df_mean['vz'])"
   ]
  },
  {
   "cell_type": "code",
   "execution_count": 44,
   "id": "43a08fbf",
   "metadata": {},
   "outputs": [],
   "source": [
    "# maxwellian temperature \n",
    "temperature_mb = np.pi*mass*df_mean['v']**2/(8*physics.BOLTZMAN_CONSTANT)"
   ]
  },
  {
   "cell_type": "code",
   "execution_count": 45,
   "id": "6b42bbca",
   "metadata": {},
   "outputs": [],
   "source": [
    "df_mean['temperature'] =  mass/(3.*physics.BOLTZMAN_CONSTANT) * (df_mean['v2']-df_mean['v_drift']**2)\n",
    "temperatures = df_mean['temperature']"
   ]
  },
  {
   "cell_type": "code",
   "execution_count": 46,
   "id": "eb5681e3",
   "metadata": {},
   "outputs": [
    {
     "data": {
      "application/vnd.jupyter.widget-view+json": {
       "model_id": "c288d257e36c4b6f83404be82d74004e",
       "version_major": 2,
       "version_minor": 0
      },
      "text/plain": [
       "Canvas(toolbar=Toolbar(toolitems=[('Home', 'Reset original view', 'home', 'home'), ('Back', 'Back to previous …"
      ]
     },
     "metadata": {},
     "output_type": "display_data"
    }
   ],
   "source": [
    "fig, ax = plt.subplots(1,2)\n",
    "ax[0].plot(unique_index*dt,temperatures)\n",
    "ax[1].plot(unique_index*dt,temperature_mb)\n",
    "\n",
    "analysis.set_axis(ax[0], x = 'time', y = 'temperature')\n",
    "analysis.set_axis(ax[1], x = 'time', y = 'temperature')"
   ]
  },
  {
   "cell_type": "code",
   "execution_count": 47,
   "id": "4937d714",
   "metadata": {},
   "outputs": [
    {
     "data": {
      "application/vnd.jupyter.widget-view+json": {
       "model_id": "f0b422eaace3479986964fd150016b0b",
       "version_major": 2,
       "version_minor": 0
      },
      "text/plain": [
       "Canvas(toolbar=Toolbar(toolitems=[('Home', 'Reset original view', 'home', 'home'), ('Back', 'Back to previous …"
      ]
     },
     "metadata": {},
     "output_type": "display_data"
    }
   ],
   "source": [
    "fig, ax = plt.subplots()\n",
    "ax.plot(unique_index*dt,temperatures)\n",
    "analysis.set_axis(ax, x = 'time', y = 'temperature')"
   ]
  },
  {
   "cell_type": "code",
   "execution_count": 48,
   "id": "cf38e075",
   "metadata": {},
   "outputs": [
    {
     "data": {
      "application/vnd.jupyter.widget-view+json": {
       "model_id": "727ff5ef32cc42889c2af4973f69f790",
       "version_major": 2,
       "version_minor": 0
      },
      "text/plain": [
       "Canvas(toolbar=Toolbar(toolitems=[('Home', 'Reset original view', 'home', 'home'), ('Back', 'Back to previous …"
      ]
     },
     "metadata": {},
     "output_type": "display_data"
    },
    {
     "ename": "TypeError",
     "evalue": "'int' object is not subscriptable",
     "output_type": "error",
     "traceback": [
      "\u001b[0;31m---------------------------------------------------------------------------\u001b[0m",
      "\u001b[0;31mTypeError\u001b[0m                                 Traceback (most recent call last)",
      "\u001b[0;32m<ipython-input-48-c87532e5ea79>\u001b[0m in \u001b[0;36m<module>\u001b[0;34m\u001b[0m\n\u001b[1;32m      1\u001b[0m \u001b[0mfig\u001b[0m\u001b[0;34m,\u001b[0m \u001b[0max\u001b[0m \u001b[0;34m=\u001b[0m \u001b[0mplt\u001b[0m\u001b[0;34m.\u001b[0m\u001b[0msubplots\u001b[0m\u001b[0;34m(\u001b[0m\u001b[0;34m)\u001b[0m\u001b[0;34m\u001b[0m\u001b[0;34m\u001b[0m\u001b[0m\n\u001b[0;32m----> 2\u001b[0;31m \u001b[0max\u001b[0m\u001b[0;34m.\u001b[0m\u001b[0mplot\u001b[0m\u001b[0;34m(\u001b[0m\u001b[0munique_index\u001b[0m\u001b[0;34m*\u001b[0m\u001b[0mdt\u001b[0m\u001b[0;34m,\u001b[0m \u001b[0mphysics\u001b[0m\u001b[0;34m.\u001b[0m\u001b[0mpressure_torr\u001b[0m\u001b[0;34m(\u001b[0m\u001b[0mnb_parts\u001b[0m\u001b[0;34m*\u001b[0m\u001b[0mmr\u001b[0m\u001b[0;34m[\u001b[0m\u001b[0;36m0\u001b[0m\u001b[0;34m]\u001b[0m\u001b[0;34m,\u001b[0m \u001b[0mvolume\u001b[0m\u001b[0;34m,\u001b[0m \u001b[0mtemperature_mb\u001b[0m\u001b[0;34m)\u001b[0m\u001b[0;34m*\u001b[0m\u001b[0;36m1e3\u001b[0m\u001b[0;34m)\u001b[0m\u001b[0;34m\u001b[0m\u001b[0;34m\u001b[0m\u001b[0m\n\u001b[0m\u001b[1;32m      3\u001b[0m \u001b[0manalysis\u001b[0m\u001b[0;34m.\u001b[0m\u001b[0mset_axis\u001b[0m\u001b[0;34m(\u001b[0m\u001b[0max\u001b[0m\u001b[0;34m,\u001b[0m \u001b[0mx\u001b[0m \u001b[0;34m=\u001b[0m \u001b[0;34m'iteration'\u001b[0m\u001b[0;34m,\u001b[0m \u001b[0my\u001b[0m \u001b[0;34m=\u001b[0m \u001b[0;32mNone\u001b[0m\u001b[0;34m)\u001b[0m\u001b[0;34m\u001b[0m\u001b[0;34m\u001b[0m\u001b[0m\n\u001b[1;32m      4\u001b[0m \u001b[0max\u001b[0m\u001b[0;34m.\u001b[0m\u001b[0mset_ylabel\u001b[0m\u001b[0;34m(\u001b[0m\u001b[0;34m'pressure (mTorr)'\u001b[0m\u001b[0;34m)\u001b[0m\u001b[0;34m;\u001b[0m\u001b[0;34m\u001b[0m\u001b[0;34m\u001b[0m\u001b[0m\n",
      "\u001b[0;31mTypeError\u001b[0m: 'int' object is not subscriptable"
     ]
    }
   ],
   "source": [
    "fig, ax = plt.subplots()\n",
    "ax.plot(unique_index*dt, physics.pressure_torr(nb_parts*mr[0], volume, temperature_mb)*1e3)\n",
    "analysis.set_axis(ax, x = 'iteration', y = None)\n",
    "ax.set_ylabel('pressure (mTorr)');"
   ]
  },
  {
   "cell_type": "code",
   "execution_count": 49,
   "id": "71c91836",
   "metadata": {},
   "outputs": [],
   "source": [
    "sound_speed = physics.speed_of_sound(molecular_mass, temperature_mb, gamma)"
   ]
  },
  {
   "cell_type": "code",
   "execution_count": 42,
   "id": "7e8f7d6d",
   "metadata": {},
   "outputs": [
    {
     "data": {
      "application/vnd.jupyter.widget-view+json": {
       "model_id": "807de4ea55494fa3801ecf52c6d8591e",
       "version_major": 2,
       "version_minor": 0
      },
      "text/plain": [
       "Canvas(toolbar=Toolbar(toolitems=[('Home', 'Reset original view', 'home', 'home'), ('Back', 'Back to previous …"
      ]
     },
     "metadata": {},
     "output_type": "display_data"
    }
   ],
   "source": [
    "fig, ax = plt.subplots()\n",
    "ax.plot(unique_index*dt,sound_speed)\n",
    "analysis.set_axis(ax, x = 'time', y = 'sound speed')"
   ]
  },
  {
   "cell_type": "markdown",
   "id": "22f2de38",
   "metadata": {},
   "source": [
    "## Flow speed"
   ]
  },
  {
   "cell_type": "code",
   "execution_count": 43,
   "id": "68e0b1bd",
   "metadata": {},
   "outputs": [
    {
     "data": {
      "application/vnd.jupyter.widget-view+json": {
       "model_id": "87188625983849aa92e5e322b1a3b8f2",
       "version_major": 2,
       "version_minor": 0
      },
      "text/plain": [
       "Canvas(toolbar=Toolbar(toolitems=[('Home', 'Reset original view', 'home', 'home'), ('Back', 'Back to previous …"
      ]
     },
     "metadata": {},
     "output_type": "display_data"
    }
   ],
   "source": [
    "fig, ax = plt.subplots()\n",
    "ax.plot(unique_index*dt,df_mean['v_drift'])\n",
    "analysis.set_axis(ax, x = 'time', y = 'v');"
   ]
  },
  {
   "cell_type": "markdown",
   "id": "b18dd90f",
   "metadata": {},
   "source": [
    "## Mach number"
   ]
  },
  {
   "cell_type": "code",
   "execution_count": 44,
   "id": "baba17d2",
   "metadata": {},
   "outputs": [
    {
     "data": {
      "application/vnd.jupyter.widget-view+json": {
       "model_id": "8acd996afc544709ad8bd4a3a5fa75c6",
       "version_major": 2,
       "version_minor": 0
      },
      "text/plain": [
       "Canvas(toolbar=Toolbar(toolitems=[('Home', 'Reset original view', 'home', 'home'), ('Back', 'Back to previous …"
      ]
     },
     "metadata": {},
     "output_type": "display_data"
    }
   ],
   "source": [
    "fig, ax = plt.subplots()\n",
    "ax.plot(unique_index*dt,df_mean['v_drift']/sound_speed)\n",
    "analysis.set_axis(ax, x = 'time')\n",
    "ax.set_ylabel('Mach number');"
   ]
  },
  {
   "cell_type": "markdown",
   "id": "3e2eb298",
   "metadata": {},
   "source": [
    "## Collision with walls - analysis"
   ]
  },
  {
   "cell_type": "code",
   "execution_count": 130,
   "id": "5d341e4c",
   "metadata": {},
   "outputs": [
    {
     "data": {
      "application/vnd.jupyter.widget-view+json": {
       "model_id": "3286092bc2a549f4aa77deec180e80de",
       "version_major": 2,
       "version_minor": 0
      },
      "text/plain": [
       "Canvas(toolbar=Toolbar(toolitems=[('Home', 'Reset original view', 'home', 'home'), ('Back', 'Back to previous …"
      ]
     },
     "metadata": {},
     "output_type": "display_data"
    }
   ],
   "source": [
    "fig, ax = plt.subplots()\n",
    "analysis.set_axis(ax, x = 'time', y = 'quantity')\n",
    "ax.plot(collisions_with_walls.index*dt, collisions_with_walls); # *np.mean(mr)"
   ]
  },
  {
   "cell_type": "markdown",
   "id": "b777be5c",
   "metadata": {},
   "source": [
    "## DSMC collisions analysis"
   ]
  },
  {
   "cell_type": "markdown",
   "id": "578055ed",
   "metadata": {},
   "source": [
    "### Particles collisions analysis"
   ]
  },
  {
   "cell_type": "code",
   "execution_count": 65,
   "id": "e077d0b7",
   "metadata": {},
   "outputs": [
    {
     "name": "stdout",
     "output_type": "stream",
     "text": [
      "Total number of collision in the simulation (in reality) : 3.700000e+01 (2.960000e+08)\n"
     ]
    }
   ],
   "source": [
    "# start by summing over all cells\n",
    "collisions = np.sum(collisions_per_cell, axis = (0,1))\n",
    "print('Total number of collision in the simulation (in reality) : {:e} ({:e})'.format(int(np.sum(collisions_per_cell)),mr*np.sum(collisions_per_cell)));"
   ]
  },
  {
   "cell_type": "code",
   "execution_count": 68,
   "id": "2cf833ff",
   "metadata": {},
   "outputs": [
    {
     "data": {
      "application/vnd.jupyter.widget-view+json": {
       "model_id": "4c119322768b4f77afa5fdb4ea094791",
       "version_major": 2,
       "version_minor": 0
      },
      "text/plain": [
       "Canvas(toolbar=Toolbar(toolitems=[('Home', 'Reset original view', 'home', 'home'), ('Back', 'Back to previous …"
      ]
     },
     "metadata": {},
     "output_type": "display_data"
    }
   ],
   "source": [
    "fig, ax = plt.subplots()\n",
    "analysis.set_axis(ax, x = 'time', y = 'quantity')\n",
    "ax.plot(index_collisions*dt, collisions*mr);"
   ]
  },
  {
   "cell_type": "markdown",
   "id": "89c0e3ca",
   "metadata": {},
   "source": [
    "### Rate between the two"
   ]
  },
  {
   "cell_type": "code",
   "execution_count": 55,
   "id": "02ab3e39",
   "metadata": {},
   "outputs": [
    {
     "data": {
      "application/vnd.jupyter.widget-view+json": {
       "model_id": "d50fae74a6c041c997fc36bbcc74a0e2",
       "version_major": 2,
       "version_minor": 0
      },
      "text/plain": [
       "Canvas(toolbar=Toolbar(toolitems=[('Home', 'Reset original view', 'home', 'home'), ('Back', 'Back to previous …"
      ]
     },
     "metadata": {},
     "output_type": "display_data"
    }
   ],
   "source": [
    "fig, ax = plt.subplots()\n",
    "analysis.set_axis(ax, x = 'time')\n",
    "ax.set_ylabel('rate')\n",
    "ax.plot(index_collisions*dt, collisions_with_walls/collisions);"
   ]
  },
  {
   "cell_type": "markdown",
   "id": "2259141e",
   "metadata": {},
   "source": [
    "## Mean free path \n",
    "The formula for the mean free path is : $\\lambda = \\frac{v_{mean}}{\\nu}$, where : \n",
    "* $v_{mean}$ is the mean velocity ;\n",
    "* $\\nu$ is the frequency of collision for ONE particle.\n",
    "\n",
    "We have : $\\frac{1}{\\nu} = \\frac{N_c dt}{2 N}$ with $N_c$ the number of particle in the cell, and $N$ the number of collisions.\n",
    "\n",
    "This yields :  $\\lambda = \\frac{v_{mean}N_c dt}{2N}$. There is no need for $m_r$ here as both $N_c$ and $N$ would require the multiplication to have the current number in the system.\n",
    "\n",
    "We start by doing it for the whole system."
   ]
  },
  {
   "cell_type": "code",
   "execution_count": 56,
   "id": "9a4a6ec3",
   "metadata": {},
   "outputs": [],
   "source": [
    "x_res = 10 # for example the number of cells during the simulations (if you want a plot per cell)\n",
    "y_res = 1\n",
    "x_step = 0.001 # size of the cell\n",
    "y_step = 0.001"
   ]
  },
  {
   "cell_type": "code",
   "execution_count": 57,
   "id": "f8b8fe2f",
   "metadata": {},
   "outputs": [],
   "source": [
    "v_mean = df_mean['v']"
   ]
  },
  {
   "cell_type": "code",
   "execution_count": 58,
   "id": "6a785d8f",
   "metadata": {},
   "outputs": [],
   "source": [
    "# selecting the time iteration that we also saved for the collisions (saving frequency is not necessary the same)\n",
    "v_mean = v_mean.loc[np.isin(v_mean.index,index_collisions)]\n",
    "nb_particles_in_system = df['x'].groupby(df.index).agg('count').loc[np.isin(unique_index,index_collisions)]"
   ]
  },
  {
   "cell_type": "code",
   "execution_count": 59,
   "id": "64c09710",
   "metadata": {},
   "outputs": [],
   "source": [
    "mfp = physics.mean_free_path_simu(nb_particles_in_system, collisions, dt, v_mean)"
   ]
  },
  {
   "cell_type": "markdown",
   "id": "302da779",
   "metadata": {},
   "source": [
    "### Mean free path evolution"
   ]
  },
  {
   "cell_type": "code",
   "execution_count": 60,
   "id": "04fe1d42",
   "metadata": {},
   "outputs": [
    {
     "data": {
      "application/vnd.jupyter.widget-view+json": {
       "model_id": "c76d91666c984c358cfeda71528492f3",
       "version_major": 2,
       "version_minor": 0
      },
      "text/plain": [
       "Canvas(toolbar=Toolbar(toolitems=[('Home', 'Reset original view', 'home', 'home'), ('Back', 'Back to previous …"
      ]
     },
     "metadata": {},
     "output_type": "display_data"
    }
   ],
   "source": [
    "fig, ax = plt.subplots()\n",
    "ax.plot(index_collisions*dt, mfp)\n",
    "analysis.set_axis(ax, x = 'time', y = 'mean free path')"
   ]
  },
  {
   "cell_type": "markdown",
   "id": "30a6adf9",
   "metadata": {},
   "source": [
    "### Knudsen evolution"
   ]
  },
  {
   "cell_type": "code",
   "execution_count": 61,
   "id": "801d068e",
   "metadata": {},
   "outputs": [
    {
     "data": {
      "application/vnd.jupyter.widget-view+json": {
       "model_id": "89a93381afa94be2881aff3b33ee3652",
       "version_major": 2,
       "version_minor": 0
      },
      "text/plain": [
       "Canvas(toolbar=Toolbar(toolitems=[('Home', 'Reset original view', 'home', 'home'), ('Back', 'Back to previous …"
      ]
     },
     "metadata": {},
     "output_type": "display_data"
    }
   ],
   "source": [
    "fig, ax = plt.subplots()\n",
    "ax.plot(index_collisions*dt, mfp/cell_size)\n",
    "analysis.set_axis(ax, x = 'time', y = 'Knudsen')"
   ]
  },
  {
   "cell_type": "markdown",
   "id": "889efc1f",
   "metadata": {},
   "source": [
    "### Total mean free path\n",
    "\n",
    "Accouting for collisions between particles and **collisions with walls**.\n",
    "\n",
    "In the case where the number of collisions with walls is much bigger than the number of collisions between particles, then this mean free path is basically the average distance a particle covers between two wall collisions."
   ]
  },
  {
   "cell_type": "code",
   "execution_count": null,
   "id": "5f6e822b",
   "metadata": {},
   "outputs": [],
   "source": [
    "mfp_ = 0.5*nb_particles_in_system*dt*v_mean/(collisions+collisions_with_walls)"
   ]
  },
  {
   "cell_type": "markdown",
   "id": "70f5aa12",
   "metadata": {},
   "source": [
    "#### Total Mean free path evolution "
   ]
  },
  {
   "cell_type": "code",
   "execution_count": null,
   "id": "3963fc7a",
   "metadata": {},
   "outputs": [],
   "source": [
    "fig, ax = plt.subplots()\n",
    "ax.plot(index_collisions*dt, mfp_)\n",
    "analysis.set_axis(ax, x = 'time', y = 'mean free path');"
   ]
  },
  {
   "cell_type": "markdown",
   "id": "8a0fb004",
   "metadata": {},
   "source": [
    "#### Total Knudsen - evolution"
   ]
  },
  {
   "cell_type": "code",
   "execution_count": null,
   "id": "bf756b2f",
   "metadata": {},
   "outputs": [],
   "source": [
    "fig, ax = plt.subplots()\n",
    "ax.plot(index_collisions*dt, mfp_/cell_size)\n",
    "analysis.set_axis(ax, x = 'time', y = 'Knudsen');"
   ]
  },
  {
   "cell_type": "markdown",
   "id": "e6963079",
   "metadata": {},
   "source": [
    "## Out particle analysis"
   ]
  },
  {
   "cell_type": "code",
   "execution_count": 64,
   "id": "f3d6ca33",
   "metadata": {},
   "outputs": [
    {
     "data": {
      "application/vnd.jupyter.widget-view+json": {
       "model_id": "52dd6015eabd4e41a979f74541b04f3c",
       "version_major": 2,
       "version_minor": 0
      },
      "text/plain": [
       "Canvas(toolbar=Toolbar(toolitems=[('Home', 'Reset original view', 'home', 'home'), ('Back', 'Back to previous …"
      ]
     },
     "metadata": {},
     "output_type": "display_data"
    }
   ],
   "source": [
    "fig, ax = plt.subplots()\n",
    "mass_flow_rate = mr*physics.compute_mass_flow_rate(total_deleted, dt, mass)\n",
    "analysis.set_axis(ax, x = 'time', y = 'mass flow rate')\n",
    "plt.plot(mass_flow_rate.index*dt, mass_flow_rate);"
   ]
  },
  {
   "cell_type": "markdown",
   "id": "519b93bb",
   "metadata": {},
   "source": [
    "### Mean number of particles"
   ]
  },
  {
   "cell_type": "code",
   "execution_count": 69,
   "id": "8a3453e5",
   "metadata": {},
   "outputs": [],
   "source": [
    "averages = averages_per_cell.groupby(averages_per_cell.index).sum() # returns a pandas Series"
   ]
  },
  {
   "cell_type": "code",
   "execution_count": 70,
   "id": "6c7ba0ea",
   "metadata": {},
   "outputs": [
    {
     "data": {
      "application/vnd.jupyter.widget-view+json": {
       "model_id": "ff638895d3ee4966835064223a17d141",
       "version_major": 2,
       "version_minor": 0
      },
      "text/plain": [
       "Canvas(toolbar=Toolbar(toolitems=[('Home', 'Reset original view', 'home', 'home'), ('Back', 'Back to previous …"
      ]
     },
     "metadata": {},
     "output_type": "display_data"
    }
   ],
   "source": [
    "fig, ax = plt.subplots()\n",
    "analysis.set_axis(ax, x = 'time', y = 'quantity')\n",
    "ax.plot(averages.index*dt, averages);"
   ]
  },
  {
   "cell_type": "markdown",
   "id": "4dc87113",
   "metadata": {},
   "source": [
    "### Mean acceptance probability"
   ]
  },
  {
   "cell_type": "code",
   "execution_count": 71,
   "id": "ba739485",
   "metadata": {},
   "outputs": [
    {
     "name": "stdout",
     "output_type": "stream",
     "text": [
      "Mean proba : 2.377298e-01\n"
     ]
    },
    {
     "data": {
      "application/vnd.jupyter.widget-view+json": {
       "model_id": "7b5a76cbc9a64acbad09cc985967c8e2",
       "version_major": 2,
       "version_minor": 0
      },
      "text/plain": [
       "Canvas(toolbar=Toolbar(toolitems=[('Home', 'Reset original view', 'home', 'home'), ('Back', 'Back to previous …"
      ]
     },
     "metadata": {},
     "output_type": "display_data"
    }
   ],
   "source": [
    "proba = total_proba/collisions\n",
    "print('Mean proba : {:e}'.format(np.mean(proba)))\n",
    "fig, ax = plt.subplots()\n",
    "analysis.set_axis(ax, x = 'time', y = 'probability')\n",
    "ax.plot(proba.index*dt, proba, label = 'proba');"
   ]
  },
  {
   "cell_type": "markdown",
   "id": "f46542d9",
   "metadata": {},
   "source": [
    "### Maximum probability"
   ]
  },
  {
   "cell_type": "code",
   "execution_count": 72,
   "id": "b7aecf6c",
   "metadata": {},
   "outputs": [],
   "source": [
    "pmax = pmax_per_cell.groupby(pmax_per_cell.index).sum() # returns a pandas Series"
   ]
  },
  {
   "cell_type": "code",
   "execution_count": 73,
   "id": "34ff1a65",
   "metadata": {},
   "outputs": [
    {
     "data": {
      "application/vnd.jupyter.widget-view+json": {
       "model_id": "68ad64e5d6bf47dfb7e1cbff563a5fde",
       "version_major": 2,
       "version_minor": 0
      },
      "text/plain": [
       "Canvas(toolbar=Toolbar(toolitems=[('Home', 'Reset original view', 'home', 'home'), ('Back', 'Back to previous …"
      ]
     },
     "metadata": {},
     "output_type": "display_data"
    }
   ],
   "source": [
    "fig, ax = plt.subplots()\n",
    "analysis.set_axis(ax, x = 'time', y = 'probability')\n",
    "ax.plot(pmax.index*dt, pmax);"
   ]
  },
  {
   "cell_type": "markdown",
   "id": "c80e2c2e",
   "metadata": {},
   "source": [
    "### Mean distance between two colliding particles"
   ]
  },
  {
   "cell_type": "code",
   "execution_count": 74,
   "id": "7387810e",
   "metadata": {},
   "outputs": [
    {
     "data": {
      "application/vnd.jupyter.widget-view+json": {
       "model_id": "19b6de41fcb949e4854184360e7fcf33",
       "version_major": 2,
       "version_minor": 0
      },
      "text/plain": [
       "Canvas(toolbar=Toolbar(toolitems=[('Home', 'Reset original view', 'home', 'home'), ('Back', 'Back to previous …"
      ]
     },
     "metadata": {},
     "output_type": "display_data"
    },
    {
     "name": "stdout",
     "output_type": "stream",
     "text": [
      "Mean distance : 4.942604e-04 m\n"
     ]
    }
   ],
   "source": [
    "fig, ax = plt.subplots()\n",
    "dist = total_distance/collisions\n",
    "print('Mean distance : {:e} m'.format(np.mean(dist)))\n",
    "analysis.set_axis(ax, x = 'time', y = 'distance')\n",
    "ax.plot(dist.index*dt, dist);"
   ]
  },
  {
   "cell_type": "markdown",
   "id": "87dbd217",
   "metadata": {},
   "source": [
    "### Velocity axis distribution per *cell*"
   ]
  },
  {
   "cell_type": "code",
   "execution_count": null,
   "id": "1db899e8",
   "metadata": {},
   "outputs": [],
   "source": [
    "# spatial_hist2d plots an hist per cell defined by the params below\n",
    "# it is a 2D plot of size y_res * x_res\n",
    "# where each plot (i,j) takes the particle between i*x_step < x < (i+1)*x_step and j*y_step < y < (j+1)*y_step\n",
    "# for i varying between between 0 and x_res-1, and j varying between between 0 and y_res-1\n",
    "# You should not use too many cells because it quickly becomes very hard to view.\n",
    "# Params\n",
    "x_res = 11 # for example the number of cells during the simulations (if you want a plot per cell)\n",
    "y_res = 5\n",
    "x_step = 0.001 # size of the cell\n",
    "y_step = 0.001 \n",
    "\n",
    "# Plotting - vx\n",
    "# fig, axes = analysis.spatial_hist2d(df, frames, val = 'vx', x_res = x_res, y_res = y_res, x_step = x_step, y_step=y_step);"
   ]
  },
  {
   "cell_type": "code",
   "execution_count": null,
   "id": "7db4fa9a",
   "metadata": {},
   "outputs": [],
   "source": [
    "# Plotting - vy\n",
    "# fig, axes = analysis.spatial_hist2d(df, frames, val = 'vy', x_res = x_res, y_res = y_res, x_step = x_step, y_step=y_step);"
   ]
  },
  {
   "cell_type": "markdown",
   "id": "22e87bac",
   "metadata": {},
   "source": [
    "## Bonus - Not necessarily recommended and takes lots of time\n",
    "Next is the plot of the system for each saved step. "
   ]
  },
  {
   "cell_type": "code",
   "execution_count": null,
   "id": "1d07dbdf",
   "metadata": {},
   "outputs": [],
   "source": [
    "# creating speed_norm (for the color)\n",
    "# df['speed_norm'] = np.sqrt(df['vx']**2+df['vy']**2+df['vz']**2) -> DO NOT NEED THAT"
   ]
  },
  {
   "cell_type": "code",
   "execution_count": null,
   "id": "62143ff0",
   "metadata": {},
   "outputs": [],
   "source": [
    "%matplotlib notebook\n",
    "import numpy as np\n",
    "from matplotlib import pyplot as plt\n",
    "from matplotlib.animation import FuncAnimation\n",
    "\n",
    "def update_hist(num, df):\n",
    "    dfit = df.loc[df.index == num]\n",
    "\n",
    "    scat.set_offsets(np.c_[dfit['x'],dfit['y']])\n",
    "    scat.set_array(df['v'])\n",
    "    \n",
    "    ax.set_title('{}/{}'.format(num+1, iterations), fontsize=15)\n",
    "\n",
    "fig, ax = plt.subplots()\n",
    "dfit = df.loc[df.index == 0]\n",
    "scat = ax.scatter(dfit['x'], dfit['y'], s=0.1, c = dfit['v'], cmap='seismic') #  c = df['speed_norm']\n",
    "analysis.set_axis(ax, x = 'x', y = 'y')\n",
    "# if you want the boundaries to be plotted and the grid too, you have to initialize those fields yourself.\n",
    "# in the other case, only particles will be plotted.\n",
    "# plot_boundaries(ax, segments)\n",
    "# plot_grid(ax, resolutions, system_shape)\n",
    "\n",
    "ax.set_title('{}/{}'.format(1, iterations), fontsize=12)\n",
    "ax.axis('equal')\n",
    "\n",
    "interval = 40 # 25 images per second\n",
    "anim = FuncAnimation(fig, update_hist, interval=interval, frames=iterations, fargs=(df, ), save_count=iterations)\n",
    "anim.save(dir_path/'system_state_evo.avi', dpi = 300);"
   ]
  },
  {
   "cell_type": "code",
   "execution_count": null,
   "id": "5d1a316d",
   "metadata": {},
   "outputs": [],
   "source": []
  }
 ],
 "metadata": {
  "kernelspec": {
   "display_name": "Python 3",
   "language": "python",
   "name": "python3"
  },
  "language_info": {
   "codemirror_mode": {
    "name": "ipython",
    "version": 3
   },
   "file_extension": ".py",
   "mimetype": "text/x-python",
   "name": "python",
   "nbconvert_exporter": "python",
   "pygments_lexer": "ipython3",
   "version": "3.7.10"
  }
 },
 "nbformat": 4,
 "nbformat_minor": 5
}
