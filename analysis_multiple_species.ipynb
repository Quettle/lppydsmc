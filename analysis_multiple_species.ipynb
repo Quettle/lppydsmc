{
 "cells": [
  {
   "cell_type": "markdown",
   "metadata": {},
   "source": [
    "## Note : \n",
    "Mean free path : $\\lambda = \\frac{1}{n \\sigma}$\n",
    "\n",
    "If $n \\rightarrow 100 \\times n$, then :\n",
    "- $\\lambda \\rightarrow \\frac{\\lambda}{100}$\n",
    "- $\\text{cell size} \\rightarrow \\frac{\\text{cell size}}{100}$ ($100^2$ more cells because the grid is 2D)\n",
    "- $dt \\rightarrow \\frac{dt}{100}$\n",
    "\n",
    "But you can lower, down to a certain extent, the number of particles per cell to \"not incease too much the computation time\"."
   ]
  },
  {
   "cell_type": "markdown",
   "metadata": {},
   "source": [
    "## Representative physical length scale\n",
    "\n",
    "The system has two lenghts : \n",
    "* lenght of the tube : $L = 0.01$ $m$\n",
    "* width : $w = 0.001$ $m$\n",
    "\n",
    "The width is the representative physical length scale that constrains the flow.\n",
    "\n",
    "So : $K_d = \\frac{\\lambda}{w}$.\n",
    "\n",
    "\n"
   ]
  },
  {
   "cell_type": "code",
   "execution_count": 1,
   "metadata": {
    "slideshow": {
     "slide_type": "slide"
    }
   },
   "outputs": [],
   "source": [
    "%matplotlib widget\n",
    "\n",
    "# notebook\n",
    "import pandas as pd\n",
    "import numpy as np\n",
    "import matplotlib.pyplot as plt\n",
    "import seaborn as sns\n",
    "import scipy as scipy\n",
    "from pathlib import Path\n",
    "\n",
    "from lppydsmc.data.saver import Saver\n",
    "from plotting import analysis\n",
    "from lppydsmc.utils import physics\n",
    "\n",
    "plt.figure.max_open_warning = False"
   ]
  },
  {
   "cell_type": "code",
   "execution_count": 2,
   "metadata": {},
   "outputs": [],
   "source": [
    "def convert_to_species(row):\n",
    "    if(row['species'] == 0 or row['species'] == 0.0):\n",
    "        return 'I'\n",
    "    else :\n",
    "        return 'I-'"
   ]
  },
  {
   "cell_type": "markdown",
   "metadata": {},
   "source": [
    "## Loading results"
   ]
  },
  {
   "cell_type": "code",
   "execution_count": 3,
   "metadata": {
    "slideshow": {
     "slide_type": "slide"
    }
   },
   "outputs": [],
   "source": [
    "dir_path = Path('results/')\n",
    "\n",
    "simu = 'dmsc_multiple_species' # low, mid, thruster_low, test_hall\n",
    "\n",
    "dz = 0.001"
   ]
  },
  {
   "cell_type": "code",
   "execution_count": 4,
   "metadata": {
    "slideshow": {
     "slide_type": "subslide"
    }
   },
   "outputs": [],
   "source": [
    "\n",
    "if(simu == 'dmsc_multiple_species'): # representative lenght scale varies along the flow ...\n",
    "    dt = 1e-8 # 1e-8\n",
    "    mr = 3200000 # 16000000 # np.array([80000000,   800000.])\n",
    "    name = 'test_dmsc_reactions_with_loading_lots.h5'\n",
    "    lenght = 0.018 # m\n",
    "    width = 0.005\n",
    "    cell_size = 0.001\n",
    "    temperature = np.array([300,1000]) # K\n",
    "    nb_cells = 41\n",
    "    volume = cell_size*cell_size*dz*nb_cells"
   ]
  },
  {
   "cell_type": "code",
   "execution_count": 5,
   "metadata": {},
   "outputs": [],
   "source": [
    "store = pd.HDFStore(dir_path/name)"
   ]
  },
  {
   "cell_type": "code",
   "execution_count": 6,
   "metadata": {},
   "outputs": [],
   "source": [
    "# defining each variable\n",
    "collisions_per_cell_full = store['collisions_per_cell'] \n",
    "df_full = store['df']\n",
    "pmax_per_cell = store['pmax_per_cell'] # cell-discretization not taken into account \n",
    "averages_per_cell = store['averages_per_cell'] # idem\n",
    "total_deleted = store['total_deleted']\n",
    "total_distance = store['total_distance']\n",
    "total_proba = store['total_proba']\n",
    "collisions_with_walls = store['collisions_with_walls']\n",
    "df_out_particles = store['df_out_particles']"
   ]
  },
  {
   "cell_type": "code",
   "execution_count": 7,
   "metadata": {},
   "outputs": [
    {
     "data": {
      "text/plain": [
       "10177.0"
      ]
     },
     "execution_count": 7,
     "metadata": {},
     "output_type": "execute_result"
    }
   ],
   "source": [
    "np.sum(collisions_per_cell_full)"
   ]
  },
  {
   "cell_type": "code",
   "execution_count": 8,
   "metadata": {},
   "outputs": [],
   "source": [
    "# df_full['x'] = df_full['x'].astype(float)\n",
    "# df_full['y'] = df_full['y'].astype(float)\n",
    "# df_full['vx'] = df_full['vx'].astype(float)\n",
    "# df_full['vy'] = df_full['vy'].astype(float)\n",
    "# df_full['vz'] = df_full['vz'].astype(float)"
   ]
  },
  {
   "cell_type": "code",
   "execution_count": 9,
   "metadata": {},
   "outputs": [],
   "source": [
    "choice = 'I'\n",
    "gamma = 5/3. # roughly for atomes, for diatomic molecule : 7/5.\n",
    "\n",
    "mass = physics.get_mass_part(53, 53, 74) # I\n",
    "molecular_mass = 0.1269 # kg/mol\n",
    "    \n",
    "verbose=False"
   ]
  },
  {
   "cell_type": "code",
   "execution_count": 10,
   "metadata": {},
   "outputs": [
    {
     "name": "stdout",
     "output_type": "stream",
     "text": [
      "Speed of sound for [I] at temperature [ 300 1000] K : [180.99192586 330.44453506] m/s\n"
     ]
    }
   ],
   "source": [
    "sound_vel = physics.speed_of_sound(molecular_mass, temperature, gamma)\n",
    "print(f'Speed of sound for [{choice}] at temperature {temperature} K : {sound_vel} m/s')"
   ]
  },
  {
   "cell_type": "markdown",
   "metadata": {},
   "source": [
    "## Note : \n",
    "To save a figure, you can use : `analysis.save_fig(fig, path, title = None, dpi = 400, figsize = None)`, which allows you to easily save a figure while giving it a title and changing its size.\n",
    "You can also use the interactive widget."
   ]
  },
  {
   "cell_type": "markdown",
   "metadata": {},
   "source": [
    "## Choosing the part of the system to plot "
   ]
  },
  {
   "cell_type": "code",
   "execution_count": 11,
   "metadata": {},
   "outputs": [],
   "source": [
    "# grid resolutions for the thruster\n",
    "\n",
    "thruster = True\n",
    "\n",
    "if(thruster):\n",
    "    res_x_0, res_y_0 = 18, 5 # 3 grids\n",
    "else:\n",
    "    res_x_0, res_y_0 = 10, 1 # 100, 10 # 25, 10\n",
    "\n",
    "total_nb_cells = res_x_0*res_y_0"
   ]
  },
  {
   "cell_type": "code",
   "execution_count": 12,
   "metadata": {},
   "outputs": [],
   "source": [
    "fig, ax = plt.subplots(1, constrained_layout = True, figsize = (res_x_0, res_y_0));\n",
    "\n",
    "fact = 10\n",
    "volume_cell_plot = volume/(fact*fact*res_x_0*res_y_0)\n",
    "duration = df_full.index.unique().values.shape[0]\n",
    "analysis.hist2d(ax, df_full, bins = (fact*res_x_0,fact*res_y_0), weights = mr*np.ones(df_full.shape[0])/(duration*volume_cell_plot), stat = 'count'); # TODO: add cmap"
   ]
  },
  {
   "cell_type": "code",
   "execution_count": 12,
   "metadata": {},
   "outputs": [],
   "source": [
    "use_part = False\n",
    "\n",
    "# tube last part\n",
    "if(use_part):\n",
    "    if(thruster):\n",
    "        part = 1 # 2\n",
    "        if(part == 1):\n",
    "            x_min, x_max = 0, 3e-3 \n",
    "            y_min, y_max = 0.0, 5e-3\n",
    "            \n",
    "            # collisions\n",
    "            res_x, res_y = 3, 5 \n",
    "            offset = 0\n",
    "            cells = [k for k in range(15)]\n",
    "            \n",
    "        elif(part == 2):\n",
    "            x_min, x_max = 0.005, 1e-2\n",
    "            y_min, y_max = 2e-3, 3e-3\n",
    "            \n",
    "            # collisions\n",
    "            res_x, res_y = 5,1\n",
    "            offset = 27\n",
    "            cells = [27, 32, 37, 42, 47] \n",
    "            \n",
    "        volume = (x_max-x_min)*(y_max-y_min)*dz\n",
    "        df = df_full.loc[(df_full['x']>x_min) & (df_full['x']<x_max) & (df_full['y']>y_min) & (df_full['y']<y_max)].copy(deep=True)\n",
    "\n",
    "        # in addition we want to select the right cells in collisions\n",
    "        # plotting the mfp for the selected cells.\n",
    "        # first along x axis, then along y axis\n",
    "        nb_rows = collisions_per_cell_full.shape[0]\n",
    "        \n",
    "        index_collisions = collisions_per_cell_full.index.unique().values\n",
    "        collisions_per_cell = np.zeros((res_x,res_y,index_collisions.shape[0]))\n",
    "\n",
    "        for cell in cells :\n",
    "            i, j = (cell-offset)//res_y_0, (cell-offset)%res_y_0\n",
    "            collisions_per_cell[i,j,:] = collisions_per_cell_full[cell:nb_rows:total_nb_cells].values\n",
    "    else: # tube\n",
    "        hall = False\n",
    "        if(not hall):\n",
    "            x_min, x_max = 9e-3, 1e-2\n",
    "            y_min, y_max = 0, 1e-3\n",
    "\n",
    "            res_x, res_y = 1, 1\n",
    "            offset = 9 \n",
    "            cells = [9]\n",
    "        else:\n",
    "            x_min, x_max = 2e-2, 2.5e-2\n",
    "            y_min, y_max = 0, 1e-2\n",
    "\n",
    "            res_x, res_y = 5, 10 \n",
    "            offset = 200 \n",
    "            cells = [offset+k for k in range(50)] \n",
    "            \n",
    "        volume = (x_max-x_min)*(y_max-y_min)*dz\n",
    "        df = df_full.loc[(df_full['x']>x_min) & (df_full['x']<x_max) & (df_full['y']>y_min) & (df_full['y']<y_max)].copy(deep=True)\n",
    "        # in addition we want to select the right cells in collisions\n",
    "        # plotting the mfp for the selected cells.\n",
    "        # first along x axis, then along y axis\n",
    "            \n",
    "        nb_rows = collisions_per_cell_full.shape[0]\n",
    "        \n",
    "        index_collisions = collisions_per_cell_full.index.unique().values\n",
    "        collisions_per_cell = np.zeros((res_x,res_y,index_collisions.shape[0]))\n",
    "\n",
    "        for cell in cells :\n",
    "            i, j = (cell-offset)//res_y_0, (cell-offset)%res_y_0\n",
    "            collisions_per_cell[i,j,:] = collisions_per_cell_full[cell:nb_rows:total_nb_cells].values\n",
    "        \n",
    "else:\n",
    "    df = df_full # another reference.\n",
    "    nb_rows = collisions_per_cell_full.shape[0]\n",
    "\n",
    "    ## we are still\n",
    "    index_collisions = collisions_per_cell_full.index.unique().values\n",
    "    collisions_per_cell = np.zeros((res_x_0,res_y_0,index_collisions.shape[0]))\n",
    "    for cell in range(total_nb_cells):\n",
    "        i, j = cell//res_y_0, cell%res_y_0\n",
    "        collisions_per_cell[i,j,:] = collisions_per_cell_full[cell:nb_rows:total_nb_cells].values"
   ]
  },
  {
   "cell_type": "markdown",
   "metadata": {},
   "source": [
    "## Choosing frames to plot"
   ]
  },
  {
   "cell_type": "code",
   "execution_count": 30,
   "metadata": {},
   "outputs": [],
   "source": [
    "unique_index = df.index.unique().values\n",
    "nb_save = unique_index.shape[0]\n",
    "iterations = np.max(unique_index)\n",
    "adding_period = unique_index[1]-unique_index[0] # adding period - required to\n",
    "fraction_transient = 0.20 # in practice, it is closer to 0.2-0.3\n",
    "# generally speaking, you choose frames so you have the steady state\n",
    "frames = unique_index[int(fraction_transient*nb_save):nb_save] \n",
    "\n",
    "if(verbose):\n",
    "    print(f'Available frames :  {unique_index}')\n",
    "    print(f'Max iteration : {iterations}')\n",
    "    print(f'Choosen frames (for plotting) : \\n{frames}')"
   ]
  },
  {
   "cell_type": "code",
   "execution_count": 14,
   "metadata": {},
   "outputs": [
    {
     "data": {
      "text/plain": [
       "2000"
      ]
     },
     "execution_count": 14,
     "metadata": {},
     "output_type": "execute_result"
    }
   ],
   "source": [
    "frames[-1] "
   ]
  },
  {
   "cell_type": "markdown",
   "metadata": {},
   "source": [
    "## Particles analysis"
   ]
  },
  {
   "cell_type": "code",
   "execution_count": 15,
   "metadata": {},
   "outputs": [],
   "source": [
    "# df['species'] = df.apply(convert_to_species, axis = 1)"
   ]
  },
  {
   "cell_type": "code",
   "execution_count": 16,
   "metadata": {},
   "outputs": [],
   "source": [
    "df_it = df.loc[np.isin(df.index, frames)]"
   ]
  },
  {
   "cell_type": "code",
   "execution_count": 17,
   "metadata": {},
   "outputs": [
    {
     "data": {
      "text/html": [
       "<div>\n",
       "<style scoped>\n",
       "    .dataframe tbody tr th:only-of-type {\n",
       "        vertical-align: middle;\n",
       "    }\n",
       "\n",
       "    .dataframe tbody tr th {\n",
       "        vertical-align: top;\n",
       "    }\n",
       "\n",
       "    .dataframe thead th {\n",
       "        text-align: right;\n",
       "    }\n",
       "</style>\n",
       "<table border=\"1\" class=\"dataframe\">\n",
       "  <thead>\n",
       "    <tr style=\"text-align: right;\">\n",
       "      <th></th>\n",
       "      <th>x</th>\n",
       "      <th>y</th>\n",
       "      <th>vx</th>\n",
       "      <th>vy</th>\n",
       "      <th>vz</th>\n",
       "      <th>species</th>\n",
       "    </tr>\n",
       "  </thead>\n",
       "  <tbody>\n",
       "    <tr>\n",
       "      <th>5</th>\n",
       "      <td>0.013122</td>\n",
       "      <td>0.002007</td>\n",
       "      <td>213.978347</td>\n",
       "      <td>-18.295125</td>\n",
       "      <td>-228.513556</td>\n",
       "      <td>0.0</td>\n",
       "    </tr>\n",
       "    <tr>\n",
       "      <th>5</th>\n",
       "      <td>0.015102</td>\n",
       "      <td>0.002074</td>\n",
       "      <td>162.771286</td>\n",
       "      <td>52.456725</td>\n",
       "      <td>98.139414</td>\n",
       "      <td>0.0</td>\n",
       "    </tr>\n",
       "    <tr>\n",
       "      <th>5</th>\n",
       "      <td>0.003266</td>\n",
       "      <td>0.003222</td>\n",
       "      <td>-436.299770</td>\n",
       "      <td>6.608027</td>\n",
       "      <td>275.600839</td>\n",
       "      <td>0.0</td>\n",
       "    </tr>\n",
       "    <tr>\n",
       "      <th>5</th>\n",
       "      <td>0.009743</td>\n",
       "      <td>0.002338</td>\n",
       "      <td>61.790534</td>\n",
       "      <td>-88.370322</td>\n",
       "      <td>23.803820</td>\n",
       "      <td>0.0</td>\n",
       "    </tr>\n",
       "    <tr>\n",
       "      <th>5</th>\n",
       "      <td>0.002316</td>\n",
       "      <td>0.003996</td>\n",
       "      <td>68.408131</td>\n",
       "      <td>-51.526181</td>\n",
       "      <td>50.390298</td>\n",
       "      <td>0.0</td>\n",
       "    </tr>\n",
       "  </tbody>\n",
       "</table>\n",
       "</div>"
      ],
      "text/plain": [
       "          x         y          vx         vy          vz  species\n",
       "5  0.013122  0.002007  213.978347 -18.295125 -228.513556      0.0\n",
       "5  0.015102  0.002074  162.771286  52.456725   98.139414      0.0\n",
       "5  0.003266  0.003222 -436.299770   6.608027  275.600839      0.0\n",
       "5  0.009743  0.002338   61.790534 -88.370322   23.803820      0.0\n",
       "5  0.002316  0.003996   68.408131 -51.526181   50.390298      0.0"
      ]
     },
     "execution_count": 17,
     "metadata": {},
     "output_type": "execute_result"
    }
   ],
   "source": [
    "df_it.head()"
   ]
  },
  {
   "cell_type": "code",
   "execution_count": 18,
   "metadata": {},
   "outputs": [
    {
     "data": {
      "text/html": [
       "<div>\n",
       "<style scoped>\n",
       "    .dataframe tbody tr th:only-of-type {\n",
       "        vertical-align: middle;\n",
       "    }\n",
       "\n",
       "    .dataframe tbody tr th {\n",
       "        vertical-align: top;\n",
       "    }\n",
       "\n",
       "    .dataframe thead th {\n",
       "        text-align: right;\n",
       "    }\n",
       "</style>\n",
       "<table border=\"1\" class=\"dataframe\">\n",
       "  <thead>\n",
       "    <tr style=\"text-align: right;\">\n",
       "      <th></th>\n",
       "      <th>x</th>\n",
       "      <th>y</th>\n",
       "      <th>vx</th>\n",
       "      <th>vy</th>\n",
       "      <th>vz</th>\n",
       "    </tr>\n",
       "    <tr>\n",
       "      <th>species</th>\n",
       "      <th></th>\n",
       "      <th></th>\n",
       "      <th></th>\n",
       "      <th></th>\n",
       "      <th></th>\n",
       "    </tr>\n",
       "  </thead>\n",
       "  <tbody>\n",
       "    <tr>\n",
       "      <th>0.0</th>\n",
       "      <td>106416073</td>\n",
       "      <td>106416073</td>\n",
       "      <td>106416073</td>\n",
       "      <td>106416073</td>\n",
       "      <td>106416073</td>\n",
       "    </tr>\n",
       "    <tr>\n",
       "      <th>1.0</th>\n",
       "      <td>16824</td>\n",
       "      <td>16824</td>\n",
       "      <td>16824</td>\n",
       "      <td>16824</td>\n",
       "      <td>16824</td>\n",
       "    </tr>\n",
       "  </tbody>\n",
       "</table>\n",
       "</div>"
      ],
      "text/plain": [
       "                 x          y         vx         vy         vz\n",
       "species                                                       \n",
       "0.0      106416073  106416073  106416073  106416073  106416073\n",
       "1.0          16824      16824      16824      16824      16824"
      ]
     },
     "execution_count": 18,
     "metadata": {},
     "output_type": "execute_result"
    }
   ],
   "source": [
    "df_it.groupby(df_it[\"species\"]).count()"
   ]
  },
  {
   "cell_type": "markdown",
   "metadata": {},
   "source": [
    "# Not mandatory\n",
    "fig, ax = plt.subplots()\n",
    "sns.despine(fig)\n",
    "\n",
    "sns.scatterplot(\n",
    "    data = df_it,\n",
    "    # bins = 100,\n",
    "    x=\"x\", y =\"y\", hue=\"species\", s = 5.\n",
    ");"
   ]
  },
  {
   "cell_type": "code",
   "execution_count": 19,
   "metadata": {},
   "outputs": [],
   "source": [
    "# scatter plot\n",
    "dy = 1e-3\n",
    "y_offset = 2e-3 # m"
   ]
  },
  {
   "cell_type": "code",
   "execution_count": 20,
   "metadata": {},
   "outputs": [],
   "source": [
    "df_central = df_it.loc[(df_it['y']>y_offset) & (df_it['y']<y_offset+dy)]"
   ]
  },
  {
   "cell_type": "code",
   "execution_count": 21,
   "metadata": {},
   "outputs": [],
   "source": [
    "df_central_I = df_central.loc[df_central['species']==0.0]\n",
    "df_central_Im = df_central.loc[df_central['species']==1.0]"
   ]
  },
  {
   "cell_type": "code",
   "execution_count": 24,
   "metadata": {},
   "outputs": [
    {
     "data": {
      "application/vnd.jupyter.widget-view+json": {
       "model_id": "09fcc0fa89f34adfb0f253f944eef175",
       "version_major": 2,
       "version_minor": 0
      },
      "text/plain": [
       "Canvas(toolbar=Toolbar(toolitems=[('Home', 'Reset original view', 'home', 'home'), ('Back', 'Back to previous …"
      ]
     },
     "metadata": {},
     "output_type": "display_data"
    }
   ],
   "source": [
    "fig, ax = plt.subplots(constrained_layout = True)\n",
    "dx_neutrals, bins_neutrals = 1e-4, 180 # should always be equal to 1.8e-2 m\n",
    "dx_ions, bins_ions = 0.5e-3, 36 # should always be equal to 1.8e-2 m\n",
    "\n",
    "ax.set_yscale('log')\n",
    "duration_it = df_it.index.unique().values.shape[0]\n",
    "\n",
    "analysis.hist1d(ax, df_central_I, 'x', bins = bins_neutrals, weights = mr/(dy*dx_neutrals*dz*duration_it)*np.ones(df_central_I.shape[0]), color = 'b', histtype = 'step', label = 'I')\n",
    "analysis.hist1d(ax, df_central_Im, 'x', bins = bins_ions, weights = mr/(dy*dx_ions*dz*duration_it)*np.ones(df_central_Im.shape[0]), color = 'r', histtype = 'step', label = 'I-')\n",
    "analysis.set_axis(ax, 'x', 'density')\n",
    "ax.legend(loc='best');"
   ]
  },
  {
   "cell_type": "markdown",
   "metadata": {
    "tags": []
   },
   "source": [
    "### Plotting density of particles evolution"
   ]
  },
  {
   "cell_type": "code",
   "execution_count": 25,
   "metadata": {},
   "outputs": [],
   "source": [
    "df_species = df['species']"
   ]
  },
  {
   "cell_type": "code",
   "execution_count": 26,
   "metadata": {},
   "outputs": [],
   "source": [
    "nb_parts = df_species.groupby(df_species.index).agg('count').values"
   ]
  },
  {
   "cell_type": "code",
   "execution_count": 27,
   "metadata": {},
   "outputs": [],
   "source": [
    "df_I = df_species.loc[df_species==0.0]\n",
    "nb_parts_I = df_I.groupby(df_I.index).agg('count').values"
   ]
  },
  {
   "cell_type": "code",
   "execution_count": 28,
   "metadata": {},
   "outputs": [
    {
     "data": {
      "application/vnd.jupyter.widget-view+json": {
       "model_id": "e5ff638a53034d88a91c847b0c6af453",
       "version_major": 2,
       "version_minor": 0
      },
      "text/plain": [
       "Canvas(toolbar=Toolbar(toolitems=[('Home', 'Reset original view', 'home', 'home'), ('Back', 'Back to previous …"
      ]
     },
     "metadata": {},
     "output_type": "display_data"
    }
   ],
   "source": [
    "fig, ax = plt.subplots(constrained_layout = True)\n",
    "ax.plot(df.index.unique()*dt, nb_parts_I*mr/volume, label = 'I')\n",
    "ax.plot(df.index.unique()*dt, (nb_parts-nb_parts_I)*mr/volume, label = 'I-')\n",
    "ax.set_yscale('log')\n",
    "plt.legend(loc='best')\n",
    "analysis.set_axis(ax, x = 'time', y = 'density')"
   ]
  },
  {
   "cell_type": "markdown",
   "metadata": {},
   "source": [
    "### Velocity distribution"
   ]
  },
  {
   "cell_type": "code",
   "execution_count": 29,
   "metadata": {},
   "outputs": [],
   "source": [
    "df_it_I = df_it.loc[df_it['species']==0.0]\n",
    "df_it_Im = df_it.loc[df_it['species']==1.0]"
   ]
  },
  {
   "cell_type": "code",
   "execution_count": 31,
   "metadata": {},
   "outputs": [
    {
     "data": {
      "application/vnd.jupyter.widget-view+json": {
       "model_id": "f62a6c5f9fea456e88d7378f005760e1",
       "version_major": 2,
       "version_minor": 0
      },
      "text/plain": [
       "Canvas(toolbar=Toolbar(toolitems=[('Home', 'Reset original view', 'home', 'home'), ('Back', 'Back to previous …"
      ]
     },
     "metadata": {},
     "output_type": "display_data"
    }
   ],
   "source": [
    "fig, axes = analysis.velocity_distribution(df_it_Im, frames = None, bins = 100, density = True, sharex = False, sharey = False); # (df_it_I['vx']<1000) & "
   ]
  },
  {
   "cell_type": "code",
   "execution_count": 30,
   "metadata": {},
   "outputs": [
    {
     "data": {
      "application/vnd.jupyter.widget-view+json": {
       "model_id": "8b0d7c25c76e4ac58fdc212358f3012a",
       "version_major": 2,
       "version_minor": 0
      },
      "text/plain": [
       "Canvas(toolbar=Toolbar(toolitems=[('Home', 'Reset original view', 'home', 'home'), ('Back', 'Back to previous …"
      ]
     },
     "metadata": {},
     "output_type": "display_data"
    }
   ],
   "source": [
    "fig, axes = analysis.velocity_distribution(df_it_I.loc[(df_it_I['vx']>-1000)&(df_it_I['vx']<1000)], frames = None, bins = 100, density = True, sharex = False, sharey = False); # (df_it_I['vx']<1000) & "
   ]
  },
  {
   "cell_type": "markdown",
   "metadata": {},
   "source": [
    "### stream plot"
   ]
  },
  {
   "cell_type": "code",
   "execution_count": 32,
   "metadata": {},
   "outputs": [],
   "source": [
    "dp = 1e-4\n",
    "df['i'] = (df['x']/dp).astype(int)\n",
    "df['j'] = (df['y']/dp).astype(int)"
   ]
  },
  {
   "cell_type": "code",
   "execution_count": 57,
   "metadata": {},
   "outputs": [],
   "source": [
    "groups = df.loc[df['species'] == 0.0].groupby(['i','j']).mean()"
   ]
  },
  {
   "cell_type": "code",
   "execution_count": 58,
   "metadata": {},
   "outputs": [],
   "source": [
    "groups = groups.reset_index()"
   ]
  },
  {
   "cell_type": "code",
   "execution_count": 59,
   "metadata": {},
   "outputs": [
    {
     "data": {
      "text/html": [
       "<div>\n",
       "<style scoped>\n",
       "    .dataframe tbody tr th:only-of-type {\n",
       "        vertical-align: middle;\n",
       "    }\n",
       "\n",
       "    .dataframe tbody tr th {\n",
       "        vertical-align: top;\n",
       "    }\n",
       "\n",
       "    .dataframe thead th {\n",
       "        text-align: right;\n",
       "    }\n",
       "</style>\n",
       "<table border=\"1\" class=\"dataframe\">\n",
       "  <thead>\n",
       "    <tr style=\"text-align: right;\">\n",
       "      <th></th>\n",
       "      <th>i</th>\n",
       "      <th>j</th>\n",
       "      <th>x</th>\n",
       "      <th>y</th>\n",
       "      <th>vx</th>\n",
       "      <th>vy</th>\n",
       "      <th>vz</th>\n",
       "      <th>species</th>\n",
       "    </tr>\n",
       "  </thead>\n",
       "  <tbody>\n",
       "    <tr>\n",
       "      <th>0</th>\n",
       "      <td>0</td>\n",
       "      <td>0</td>\n",
       "      <td>0.000050</td>\n",
       "      <td>0.000050</td>\n",
       "      <td>4.005587</td>\n",
       "      <td>2.153542</td>\n",
       "      <td>1.999296</td>\n",
       "      <td>0.0</td>\n",
       "    </tr>\n",
       "    <tr>\n",
       "      <th>1</th>\n",
       "      <td>0</td>\n",
       "      <td>1</td>\n",
       "      <td>0.000051</td>\n",
       "      <td>0.000149</td>\n",
       "      <td>2.710209</td>\n",
       "      <td>4.677024</td>\n",
       "      <td>2.460784</td>\n",
       "      <td>0.0</td>\n",
       "    </tr>\n",
       "    <tr>\n",
       "      <th>2</th>\n",
       "      <td>0</td>\n",
       "      <td>2</td>\n",
       "      <td>0.000051</td>\n",
       "      <td>0.000249</td>\n",
       "      <td>13.005699</td>\n",
       "      <td>1.855610</td>\n",
       "      <td>12.562790</td>\n",
       "      <td>0.0</td>\n",
       "    </tr>\n",
       "    <tr>\n",
       "      <th>3</th>\n",
       "      <td>0</td>\n",
       "      <td>3</td>\n",
       "      <td>0.000051</td>\n",
       "      <td>0.000350</td>\n",
       "      <td>12.782944</td>\n",
       "      <td>4.534887</td>\n",
       "      <td>7.706892</td>\n",
       "      <td>0.0</td>\n",
       "    </tr>\n",
       "    <tr>\n",
       "      <th>4</th>\n",
       "      <td>0</td>\n",
       "      <td>4</td>\n",
       "      <td>0.000050</td>\n",
       "      <td>0.000450</td>\n",
       "      <td>17.410068</td>\n",
       "      <td>0.025774</td>\n",
       "      <td>5.535056</td>\n",
       "      <td>0.0</td>\n",
       "    </tr>\n",
       "  </tbody>\n",
       "</table>\n",
       "</div>"
      ],
      "text/plain": [
       "   i  j         x         y         vx        vy         vz  species\n",
       "0  0  0  0.000050  0.000050   4.005587  2.153542   1.999296      0.0\n",
       "1  0  1  0.000051  0.000149   2.710209  4.677024   2.460784      0.0\n",
       "2  0  2  0.000051  0.000249  13.005699  1.855610  12.562790      0.0\n",
       "3  0  3  0.000051  0.000350  12.782944  4.534887   7.706892      0.0\n",
       "4  0  4  0.000050  0.000450  17.410068  0.025774   5.535056      0.0"
      ]
     },
     "execution_count": 59,
     "metadata": {},
     "output_type": "execute_result"
    }
   ],
   "source": [
    "groups.head()"
   ]
  },
  {
   "cell_type": "markdown",
   "metadata": {},
   "source": [
    "# fig, ax = plt.subplots()\n",
    "\n",
    "values = {\n",
    "    'width' : 3*dp,\n",
    "    'headwidth' : 3,\n",
    "    'headlength' : 5\n",
    "}\n",
    "\n",
    "ax.quiver(dp*groups['i'], dp*groups['j'], groups['vx'], groups['vy'], groups['vx'], **values);"
   ]
  },
  {
   "cell_type": "code",
   "execution_count": 60,
   "metadata": {},
   "outputs": [],
   "source": [
    "U,V = np.zeros((groups['j'].max()-groups['j'].min(),groups['i'].max()-groups['i'].min()), dtype = float), np.zeros((groups['j'].max()-groups['j'].min(),groups['i'].max()-groups['i'].min()), dtype = float)\n",
    "X, Y = np.arange(groups['i'].min(), groups['i'].max()),  np.arange(groups['j'].min(), groups['j'].max())\n",
    "\n",
    "for x in X:\n",
    "    for y in Y:\n",
    "        row = groups.loc[(groups['i'] == x) &  (groups['j'] == y)]\n",
    "        try :\n",
    "            U[y,x] = row['vx']\n",
    "            V[y,x] = row['vy']\n",
    "        except ValueError as e:\n",
    "            pass"
   ]
  },
  {
   "cell_type": "code",
   "execution_count": 61,
   "metadata": {},
   "outputs": [
    {
     "name": "stdout",
     "output_type": "stream",
     "text": [
      "(49, 179) (49, 179)\n",
      "(179,) (49,)\n"
     ]
    }
   ],
   "source": [
    "print(U.shape, V.shape)\n",
    "print(X.shape, Y.shape)\n",
    "speed = np.sqrt(U**2+V**2)\n",
    "lw = 2 * speed / (speed.max()+1e-8)"
   ]
  },
  {
   "cell_type": "code",
   "execution_count": 62,
   "metadata": {},
   "outputs": [
    {
     "data": {
      "application/vnd.jupyter.widget-view+json": {
       "model_id": "7000e9c611d04338bbd6629b2b230b44",
       "version_major": 2,
       "version_minor": 0
      },
      "text/plain": [
       "Canvas(toolbar=Toolbar(toolitems=[('Home', 'Reset original view', 'home', 'home'), ('Back', 'Back to previous …"
      ]
     },
     "metadata": {},
     "output_type": "display_data"
    }
   ],
   "source": [
    "fig, ax = plt.subplots(constrained_layout=True)\n",
    "# ax.axis('equal')\n",
    "h = ax.streamplot(x=dp*X,y=dp*Y,u=U,v=V, density = 3, color=U, linewidth=lw, cmap='plasma'); \n",
    "cbar = fig.colorbar(h.lines, ax=ax)\n",
    "analysis.set_axis(ax, x = 'x', y = 'y');"
   ]
  },
  {
   "cell_type": "markdown",
   "metadata": {
    "tags": []
   },
   "source": [
    "## Out particles plot"
   ]
  },
  {
   "cell_type": "code",
   "execution_count": 31,
   "metadata": {},
   "outputs": [
    {
     "data": {
      "text/html": [
       "<div>\n",
       "<style scoped>\n",
       "    .dataframe tbody tr th:only-of-type {\n",
       "        vertical-align: middle;\n",
       "    }\n",
       "\n",
       "    .dataframe tbody tr th {\n",
       "        vertical-align: top;\n",
       "    }\n",
       "\n",
       "    .dataframe thead th {\n",
       "        text-align: right;\n",
       "    }\n",
       "</style>\n",
       "<table border=\"1\" class=\"dataframe\">\n",
       "  <thead>\n",
       "    <tr style=\"text-align: right;\">\n",
       "      <th></th>\n",
       "      <th>x</th>\n",
       "      <th>y</th>\n",
       "      <th>vx</th>\n",
       "      <th>vy</th>\n",
       "      <th>vz</th>\n",
       "      <th>species</th>\n",
       "    </tr>\n",
       "  </thead>\n",
       "  <tbody>\n",
       "    <tr>\n",
       "      <th>1</th>\n",
       "      <td>-6.607005e-07</td>\n",
       "      <td>0.004157</td>\n",
       "      <td>-184.709686</td>\n",
       "      <td>-194.369511</td>\n",
       "      <td>-136.412644</td>\n",
       "      <td>0.0</td>\n",
       "    </tr>\n",
       "    <tr>\n",
       "      <th>1</th>\n",
       "      <td>-5.150588e-07</td>\n",
       "      <td>0.002332</td>\n",
       "      <td>-134.390922</td>\n",
       "      <td>-44.034838</td>\n",
       "      <td>-57.670025</td>\n",
       "      <td>0.0</td>\n",
       "    </tr>\n",
       "    <tr>\n",
       "      <th>1</th>\n",
       "      <td>-1.003467e-06</td>\n",
       "      <td>0.002065</td>\n",
       "      <td>-242.298289</td>\n",
       "      <td>-118.385751</td>\n",
       "      <td>57.350139</td>\n",
       "      <td>0.0</td>\n",
       "    </tr>\n",
       "    <tr>\n",
       "      <th>1</th>\n",
       "      <td>-8.160556e-07</td>\n",
       "      <td>0.000229</td>\n",
       "      <td>-286.742703</td>\n",
       "      <td>92.057504</td>\n",
       "      <td>-31.955781</td>\n",
       "      <td>0.0</td>\n",
       "    </tr>\n",
       "    <tr>\n",
       "      <th>1</th>\n",
       "      <td>1.800273e-02</td>\n",
       "      <td>0.002363</td>\n",
       "      <td>376.732753</td>\n",
       "      <td>-2.923945</td>\n",
       "      <td>-60.245838</td>\n",
       "      <td>0.0</td>\n",
       "    </tr>\n",
       "  </tbody>\n",
       "</table>\n",
       "</div>"
      ],
      "text/plain": [
       "              x         y          vx          vy          vz  species\n",
       "1 -6.607005e-07  0.004157 -184.709686 -194.369511 -136.412644      0.0\n",
       "1 -5.150588e-07  0.002332 -134.390922  -44.034838  -57.670025      0.0\n",
       "1 -1.003467e-06  0.002065 -242.298289 -118.385751   57.350139      0.0\n",
       "1 -8.160556e-07  0.000229 -286.742703   92.057504  -31.955781      0.0\n",
       "1  1.800273e-02  0.002363  376.732753   -2.923945  -60.245838      0.0"
      ]
     },
     "execution_count": 31,
     "metadata": {},
     "output_type": "execute_result"
    }
   ],
   "source": [
    "df_out_particles.head()"
   ]
  },
  {
   "cell_type": "code",
   "execution_count": 32,
   "metadata": {},
   "outputs": [],
   "source": [
    "df_out_particles = df_out_particles.loc[df_out_particles['vx']>0]"
   ]
  },
  {
   "cell_type": "code",
   "execution_count": 33,
   "metadata": {},
   "outputs": [],
   "source": [
    "# df_out_particles['species'] = df_out_particles.apply(convert_to_species, axis = 1)"
   ]
  },
  {
   "cell_type": "code",
   "execution_count": 34,
   "metadata": {},
   "outputs": [],
   "source": [
    "df_out_particles['v'] = np.sqrt(df_out_particles['vx']**2+df_out_particles['vy']**2+df_out_particles['vz']**2)\n",
    "df_out_particles['energy'] = df_out_particles['v']**2\n",
    "df_out_particles['angle'] = np.arctan(df_out_particles['vy']/df_out_particles['vx'])"
   ]
  },
  {
   "cell_type": "code",
   "execution_count": 35,
   "metadata": {},
   "outputs": [],
   "source": [
    "ions_out = df_out_particles.loc[df_out_particles['species'] == 1.0]\n",
    "neutral_out =  df_out_particles.loc[df_out_particles['species'] == 0.0]"
   ]
  },
  {
   "cell_type": "code",
   "execution_count": 36,
   "metadata": {},
   "outputs": [
    {
     "name": "stdout",
     "output_type": "stream",
     "text": [
      "100% neutralization\n",
      "             x\n",
      "species       \n",
      "0.0      11370\n"
     ]
    }
   ],
   "source": [
    "results = df_out_particles[['species', 'x']].groupby('species').count();\n",
    "try:\n",
    "    print('Out particles neutralization percentage : {:.4} %'.format(100*results.iloc[0,0]/(results.iloc[0,0]+results.iloc[1,0])))\n",
    "except:\n",
    "    print('100% neutralization')\n",
    "    print(results)"
   ]
  },
  {
   "cell_type": "code",
   "execution_count": 37,
   "metadata": {},
   "outputs": [
    {
     "data": {
      "text/html": [
       "<div>\n",
       "<style scoped>\n",
       "    .dataframe tbody tr th:only-of-type {\n",
       "        vertical-align: middle;\n",
       "    }\n",
       "\n",
       "    .dataframe tbody tr th {\n",
       "        vertical-align: top;\n",
       "    }\n",
       "\n",
       "    .dataframe thead th {\n",
       "        text-align: right;\n",
       "    }\n",
       "</style>\n",
       "<table border=\"1\" class=\"dataframe\">\n",
       "  <thead>\n",
       "    <tr style=\"text-align: right;\">\n",
       "      <th></th>\n",
       "      <th>vx</th>\n",
       "      <th>vy</th>\n",
       "      <th>vz</th>\n",
       "      <th>v</th>\n",
       "      <th>energy</th>\n",
       "    </tr>\n",
       "    <tr>\n",
       "      <th>species</th>\n",
       "      <th></th>\n",
       "      <th></th>\n",
       "      <th></th>\n",
       "      <th></th>\n",
       "      <th></th>\n",
       "    </tr>\n",
       "  </thead>\n",
       "  <tbody>\n",
       "    <tr>\n",
       "      <th>0.0</th>\n",
       "      <td>1258.939111</td>\n",
       "      <td>10.346157</td>\n",
       "      <td>-0.235449</td>\n",
       "      <td>1376.538113</td>\n",
       "      <td>2.406150e+07</td>\n",
       "    </tr>\n",
       "  </tbody>\n",
       "</table>\n",
       "</div>"
      ],
      "text/plain": [
       "                  vx         vy        vz            v        energy\n",
       "species                                                             \n",
       "0.0      1258.939111  10.346157 -0.235449  1376.538113  2.406150e+07"
      ]
     },
     "execution_count": 37,
     "metadata": {},
     "output_type": "execute_result"
    }
   ],
   "source": [
    "vel_results = df_out_particles[['species', 'vx', 'vy', 'vz', 'v','energy']].groupby('species').agg('mean');\n",
    "vel_results"
   ]
  },
  {
   "cell_type": "code",
   "execution_count": 38,
   "metadata": {},
   "outputs": [],
   "source": [
    "analysis.set_fontsizes(SMALL_SIZE = 10, MEDIUM_SIZE = 12, BIGGER_SIZE = 14)"
   ]
  },
  {
   "cell_type": "code",
   "execution_count": 39,
   "metadata": {},
   "outputs": [
    {
     "data": {
      "application/vnd.jupyter.widget-view+json": {
       "model_id": "d2232a96d6e7454f957b308cd689bd49",
       "version_major": 2,
       "version_minor": 0
      },
      "text/plain": [
       "Canvas(toolbar=Toolbar(toolitems=[('Home', 'Reset original view', 'home', 'home'), ('Back', 'Back to previous …"
      ]
     },
     "metadata": {},
     "output_type": "display_data"
    }
   ],
   "source": [
    "fig, ax = plt.subplots(constrained_layout = True)\n",
    "sns.despine(fig)\n",
    "\n",
    "sns.histplot(\n",
    "    df_out_particles.loc[df_out_particles['vx']>0], # problem : some of them are actually exciting trough the in-flux wall\n",
    "    x=\"vx\", hue=\"species\",\n",
    "    bins = 50,\n",
    "    multiple=\"stack\",\n",
    "    palette=\"light:m_r\",\n",
    "    edgecolor=\".3\",\n",
    "    linewidth=.5,\n",
    "    log_scale=[False,True],\n",
    ");"
   ]
  },
  {
   "cell_type": "code",
   "execution_count": 40,
   "metadata": {},
   "outputs": [
    {
     "data": {
      "application/vnd.jupyter.widget-view+json": {
       "model_id": "e9e19527415b41b997a4e4fbd1ce9399",
       "version_major": 2,
       "version_minor": 0
      },
      "text/plain": [
       "Canvas(toolbar=Toolbar(toolitems=[('Home', 'Reset original view', 'home', 'home'), ('Back', 'Back to previous …"
      ]
     },
     "metadata": {},
     "output_type": "display_data"
    },
    {
     "data": {
      "text/plain": [
       "<AxesSubplot:xlabel='angle', ylabel='Count'>"
      ]
     },
     "execution_count": 40,
     "metadata": {},
     "output_type": "execute_result"
    }
   ],
   "source": [
    "fig, ax = plt.subplots(constrained_layout = True)\n",
    "#sns.despine(fig)\n",
    "ax.set_xticks([-np.pi/2, -np.pi/4, 0, np.pi/4, np.pi/2]);\n",
    "ax.set_xticklabels(['-π/2', '-π/4', '0', 'π/4', 'π/2'])\n",
    "sns.histplot(\n",
    "    df_out_particles,\n",
    "    # bins = 100,\n",
    "    x=\"angle\", hue=\"species\",\n",
    "    multiple=\"stack\",\n",
    "    palette=\"light:m_r\",\n",
    "    edgecolor=\".3\",\n",
    "    linewidth=.5,\n",
    "    log_scale=False,\n",
    ")\n"
   ]
  },
  {
   "cell_type": "markdown",
   "metadata": {},
   "source": [
    "### Thrust due to ions"
   ]
  },
  {
   "cell_type": "code",
   "execution_count": 41,
   "metadata": {},
   "outputs": [
    {
     "data": {
      "text/html": [
       "<div>\n",
       "<style scoped>\n",
       "    .dataframe tbody tr th:only-of-type {\n",
       "        vertical-align: middle;\n",
       "    }\n",
       "\n",
       "    .dataframe tbody tr th {\n",
       "        vertical-align: top;\n",
       "    }\n",
       "\n",
       "    .dataframe thead th {\n",
       "        text-align: right;\n",
       "    }\n",
       "</style>\n",
       "<table border=\"1\" class=\"dataframe\">\n",
       "  <thead>\n",
       "    <tr style=\"text-align: right;\">\n",
       "      <th></th>\n",
       "      <th>x</th>\n",
       "      <th>y</th>\n",
       "      <th>vx</th>\n",
       "      <th>vy</th>\n",
       "      <th>vz</th>\n",
       "      <th>species</th>\n",
       "      <th>v</th>\n",
       "      <th>energy</th>\n",
       "      <th>angle</th>\n",
       "    </tr>\n",
       "  </thead>\n",
       "  <tbody>\n",
       "    <tr>\n",
       "      <th>1</th>\n",
       "      <td>0.018003</td>\n",
       "      <td>2.362874e-03</td>\n",
       "      <td>376.732753</td>\n",
       "      <td>-2.923945</td>\n",
       "      <td>-60.245838</td>\n",
       "      <td>0.0</td>\n",
       "      <td>381.530704</td>\n",
       "      <td>145565.677762</td>\n",
       "      <td>-0.007761</td>\n",
       "    </tr>\n",
       "    <tr>\n",
       "      <th>1</th>\n",
       "      <td>0.017610</td>\n",
       "      <td>-3.675210e-07</td>\n",
       "      <td>44.798561</td>\n",
       "      <td>-281.923287</td>\n",
       "      <td>-75.787354</td>\n",
       "      <td>0.0</td>\n",
       "      <td>295.349579</td>\n",
       "      <td>87231.373661</td>\n",
       "      <td>-1.413211</td>\n",
       "    </tr>\n",
       "    <tr>\n",
       "      <th>1</th>\n",
       "      <td>0.018000</td>\n",
       "      <td>5.064657e-04</td>\n",
       "      <td>72.153562</td>\n",
       "      <td>-53.137515</td>\n",
       "      <td>-244.808366</td>\n",
       "      <td>0.0</td>\n",
       "      <td>260.693053</td>\n",
       "      <td>67960.867994</td>\n",
       "      <td>-0.634773</td>\n",
       "    </tr>\n",
       "    <tr>\n",
       "      <th>1</th>\n",
       "      <td>0.018001</td>\n",
       "      <td>3.722523e-03</td>\n",
       "      <td>205.830924</td>\n",
       "      <td>71.136528</td>\n",
       "      <td>-56.019810</td>\n",
       "      <td>0.0</td>\n",
       "      <td>224.866614</td>\n",
       "      <td>50564.993925</td>\n",
       "      <td>0.332756</td>\n",
       "    </tr>\n",
       "    <tr>\n",
       "      <th>1</th>\n",
       "      <td>0.018000</td>\n",
       "      <td>2.901596e-03</td>\n",
       "      <td>83.481394</td>\n",
       "      <td>3.296491</td>\n",
       "      <td>-119.414235</td>\n",
       "      <td>0.0</td>\n",
       "      <td>145.738703</td>\n",
       "      <td>21239.769632</td>\n",
       "      <td>0.039467</td>\n",
       "    </tr>\n",
       "  </tbody>\n",
       "</table>\n",
       "</div>"
      ],
      "text/plain": [
       "          x             y          vx          vy          vz  species  \\\n",
       "1  0.018003  2.362874e-03  376.732753   -2.923945  -60.245838      0.0   \n",
       "1  0.017610 -3.675210e-07   44.798561 -281.923287  -75.787354      0.0   \n",
       "1  0.018000  5.064657e-04   72.153562  -53.137515 -244.808366      0.0   \n",
       "1  0.018001  3.722523e-03  205.830924   71.136528  -56.019810      0.0   \n",
       "1  0.018000  2.901596e-03   83.481394    3.296491 -119.414235      0.0   \n",
       "\n",
       "            v         energy     angle  \n",
       "1  381.530704  145565.677762 -0.007761  \n",
       "1  295.349579   87231.373661 -1.413211  \n",
       "1  260.693053   67960.867994 -0.634773  \n",
       "1  224.866614   50564.993925  0.332756  \n",
       "1  145.738703   21239.769632  0.039467  "
      ]
     },
     "execution_count": 41,
     "metadata": {},
     "output_type": "execute_result"
    }
   ],
   "source": [
    "df_out_particles.head()"
   ]
  },
  {
   "cell_type": "code",
   "execution_count": 42,
   "metadata": {},
   "outputs": [
    {
     "name": "stdout",
     "output_type": "stream",
     "text": [
      "1.595e-05\n"
     ]
    }
   ],
   "source": [
    "df_out_particles_it = df_out_particles.loc[np.isin(df_out_particles.index, frames)]\n",
    "duration = (np.max(frames)-np.min(frames))*dt\n",
    "print(duration)"
   ]
  },
  {
   "cell_type": "code",
   "execution_count": 43,
   "metadata": {},
   "outputs": [
    {
     "name": "stdout",
     "output_type": "stream",
     "text": [
      "Mean speed out : 1.259e+03 m/s.\n"
     ]
    }
   ],
   "source": [
    "print('Mean speed out : {:.3e} m/s.'.format(df_out_particles.mean()['vx']))"
   ]
  },
  {
   "cell_type": "code",
   "execution_count": 44,
   "metadata": {},
   "outputs": [
    {
     "data": {
      "text/plain": [
       "2352723.3229656033"
      ]
     },
     "execution_count": 44,
     "metadata": {},
     "output_type": "execute_result"
    }
   ],
   "source": [
    "df_out_particles_it.sum()['vx']"
   ]
  },
  {
   "cell_type": "code",
   "execution_count": 45,
   "metadata": {},
   "outputs": [
    {
     "name": "stdout",
     "output_type": "stream",
     "text": [
      "Ratio ion / neutral : 11.0\n",
      "Thrust per injection surface : 7.61e-01 N/m²\n"
     ]
    }
   ],
   "source": [
    "density_ion = 3.2e17\n",
    "v_mean_injection_ion = 2000 # m/s\n",
    "flux_ion = 0.25*density_ion*v_mean_injection_ion\n",
    "\n",
    "density = 3.2e19\n",
    "v_mean_injection = 200 # m/s\n",
    "flux = 0.25*density*v_mean_injection\n",
    "\n",
    "# in this simulation\n",
    "mean_speed_ion = df_out_particles.loc[df_out_particles['vx']>1000].mean()['vx'] # the thing is that now I cant make the difference between I- and I (as I inject both) - I choose the criteria speed > 1000 but not too sure about that\n",
    "mean_speed = df_out_particles.loc[df_out_particles['vx']<1000].mean()['vx'] # m/s\n",
    "surfasic_thrust_ion = mean_speed_ion*mass*flux_ion\n",
    "surfasic_thrust = mean_speed*mass*flux # total\n",
    "total_thrust = surfasic_thrust + surfasic_thrust_ion\n",
    "print('Ratio ion / neutral : {:.3}'.format(surfasic_thrust_ion/surfasic_thrust))\n",
    "print('Thrust per injection surface : {:.2e} N/m²'.format(total_thrust))"
   ]
  },
  {
   "cell_type": "code",
   "execution_count": 46,
   "metadata": {},
   "outputs": [
    {
     "name": "stdout",
     "output_type": "stream",
     "text": [
      "Pegase thrust : 1.521e-03 N\n"
     ]
    }
   ],
   "source": [
    "surface_pegase = 5e-2 * 4e-2 # m²\n",
    "print('Pegase thrust : {:.3e} N'.format(total_thrust*surface_pegase))"
   ]
  },
  {
   "cell_type": "code",
   "execution_count": 47,
   "metadata": {},
   "outputs": [
    {
     "name": "stdout",
     "output_type": "stream",
     "text": [
      "Thrust : 2.005e-02 N\n"
     ]
    }
   ],
   "source": [
    "injection_surface = 1e-3*5e-3\n",
    "print('Thrust : {:.3e} N'.format(mr*df_out_particles_it.sum()['vx']*mass/(duration*injection_surface)))"
   ]
  },
  {
   "cell_type": "code",
   "execution_count": 48,
   "metadata": {},
   "outputs": [
    {
     "name": "stdout",
     "output_type": "stream",
     "text": [
      "Isp : 2.092e+03 s-1\n",
      "Theoretical Isp : 2.167e+03 s-1\n",
      "Efficiency : 96.5 %\n"
     ]
    }
   ],
   "source": [
    "V_accel = 300 # V\n",
    "e = 1.6e-19\n",
    "print('Isp : {:.3e} s-1'.format(mean_speed_ion/9.81))\n",
    "print('Theoretical Isp : {:.3e} s-1'.format((np.sqrt(2*e*V_accel/mass))/9.81))\n",
    "print('Efficiency : {:.3} %'.format(100*mean_speed_ion/np.sqrt(2*e*V_accel/mass)))"
   ]
  },
  {
   "cell_type": "markdown",
   "metadata": {},
   "source": [
    "df_mean = df.groupby(df.index).mean()\n",
    "## Temperature evolution\n",
    "\n",
    "First - not by cell but for the whole system.\n",
    "\n",
    "### Theory : \n",
    "\n",
    "The kinetic energy density $w$ is\n",
    "\n",
    "$w = \\frac{3}{2}p(\\vec{r},t) + n(\\vec{r},t)\\frac{1}{2} m |\\vec{u}(\\vec{r},t)|^2$ \n",
    "\n",
    "With $\\vec{u}(\\vec{r},t) = ((<(v_x, v_y, v_z)>)(\\vec{r},t))^T$ thus : $|\\vec{u}(\\vec{r},t)| = |<\\vec{v}>|$.\n",
    "\n",
    "Here the drift is not zero. So we have to remove it to have only $\\frac{3}{2}p(\\vec{r},t) = w - n(\\vec{r},t)\\frac{1}{2} m |\\vec{u}(\\vec{r},t)|^2$.\n",
    "\n",
    "This yields : \n",
    "\n",
    "$\\frac{3}{2}p(\\vec{r},t) = n(\\vec{r},t)  <\\frac{1}{2}mv^2> - n(\\vec{r},t)\\frac{1}{2} m |\\vec{u}(\\vec{r},t)|^2$\n",
    "\n",
    "Which yields : \n",
    "\n",
    "$$ \\frac{3}{2}p(\\vec{r},t) = \\frac{m n(\\vec{r},t)}{2}  (<v^2> - |<\\vec{v}>|^2) $$\n",
    "\n",
    "With $p = nkT$.\n",
    "\n",
    "Intuition : total energy - energy contains in the drift."
   ]
  },
  {
   "cell_type": "code",
   "execution_count": 53,
   "metadata": {},
   "outputs": [],
   "source": [
    "df['v'] = np.sqrt(df['vx']*df['vx']+df['vy']*df['vy']+df['vz']*df['vz']) # df.apply(analysis.speed_norm, axis = 1)\n",
    "df['v2'] = df['v']**2\n",
    "df_mean = df.groupby(df.index).mean()\n",
    "df_mean['v_drift'] = np.sqrt(df_mean['vx']*df_mean['vx']+df_mean['vy']*df_mean['vy']+df_mean['vz']*df_mean['vz'])"
   ]
  },
  {
   "cell_type": "code",
   "execution_count": 54,
   "metadata": {},
   "outputs": [],
   "source": [
    "# maxwellian temperature \n",
    "temperature_mb = np.pi*mass*df_mean['v']**2/(8*physics.BOLTZMAN_CONSTANT)"
   ]
  },
  {
   "cell_type": "code",
   "execution_count": 55,
   "metadata": {},
   "outputs": [],
   "source": [
    "df_mean['temperature'] =  mass/(3.*physics.BOLTZMAN_CONSTANT) * (df_mean['v2']-df_mean['v_drift']**2)\n",
    "temperatures = df_mean['temperature']"
   ]
  },
  {
   "cell_type": "code",
   "execution_count": 56,
   "metadata": {},
   "outputs": [
    {
     "data": {
      "application/vnd.jupyter.widget-view+json": {
       "model_id": "940713d76f134d1c891fa6bdb3e59415",
       "version_major": 2,
       "version_minor": 0
      },
      "text/plain": [
       "Canvas(toolbar=Toolbar(toolitems=[('Home', 'Reset original view', 'home', 'home'), ('Back', 'Back to previous …"
      ]
     },
     "metadata": {},
     "output_type": "display_data"
    }
   ],
   "source": [
    "fig, ax = plt.subplots(1,2)\n",
    "ax[0].plot(unique_index*dt,temperatures)\n",
    "ax[1].plot(unique_index*dt,temperature_mb)\n",
    "\n",
    "analysis.set_axis(ax[0], x = 'time', y = 'temperature')\n",
    "analysis.set_axis(ax[1], x = 'time', y = 'temperature')"
   ]
  },
  {
   "cell_type": "code",
   "execution_count": 57,
   "metadata": {},
   "outputs": [
    {
     "data": {
      "application/vnd.jupyter.widget-view+json": {
       "model_id": "14d72ed14696494b8534df688819cf10",
       "version_major": 2,
       "version_minor": 0
      },
      "text/plain": [
       "Canvas(toolbar=Toolbar(toolitems=[('Home', 'Reset original view', 'home', 'home'), ('Back', 'Back to previous …"
      ]
     },
     "metadata": {},
     "output_type": "display_data"
    }
   ],
   "source": [
    "fig, ax = plt.subplots()\n",
    "ax.plot(unique_index*dt,temperatures)\n",
    "analysis.set_axis(ax, x = 'time', y = 'temperature')"
   ]
  },
  {
   "cell_type": "code",
   "execution_count": 58,
   "metadata": {},
   "outputs": [
    {
     "data": {
      "application/vnd.jupyter.widget-view+json": {
       "model_id": "123acdf567fd41929f9e1f426b975db5",
       "version_major": 2,
       "version_minor": 0
      },
      "text/plain": [
       "Canvas(toolbar=Toolbar(toolitems=[('Home', 'Reset original view', 'home', 'home'), ('Back', 'Back to previous …"
      ]
     },
     "metadata": {},
     "output_type": "display_data"
    },
    {
     "ename": "TypeError",
     "evalue": "'int' object is not subscriptable",
     "output_type": "error",
     "traceback": [
      "\u001b[0;31m---------------------------------------------------------------------------\u001b[0m",
      "\u001b[0;31mTypeError\u001b[0m                                 Traceback (most recent call last)",
      "\u001b[0;32m<ipython-input-58-c87532e5ea79>\u001b[0m in \u001b[0;36m<module>\u001b[0;34m\u001b[0m\n\u001b[1;32m      1\u001b[0m \u001b[0mfig\u001b[0m\u001b[0;34m,\u001b[0m \u001b[0max\u001b[0m \u001b[0;34m=\u001b[0m \u001b[0mplt\u001b[0m\u001b[0;34m.\u001b[0m\u001b[0msubplots\u001b[0m\u001b[0;34m(\u001b[0m\u001b[0;34m)\u001b[0m\u001b[0;34m\u001b[0m\u001b[0;34m\u001b[0m\u001b[0m\n\u001b[0;32m----> 2\u001b[0;31m \u001b[0max\u001b[0m\u001b[0;34m.\u001b[0m\u001b[0mplot\u001b[0m\u001b[0;34m(\u001b[0m\u001b[0munique_index\u001b[0m\u001b[0;34m*\u001b[0m\u001b[0mdt\u001b[0m\u001b[0;34m,\u001b[0m \u001b[0mphysics\u001b[0m\u001b[0;34m.\u001b[0m\u001b[0mpressure_torr\u001b[0m\u001b[0;34m(\u001b[0m\u001b[0mnb_parts\u001b[0m\u001b[0;34m*\u001b[0m\u001b[0mmr\u001b[0m\u001b[0;34m[\u001b[0m\u001b[0;36m0\u001b[0m\u001b[0;34m]\u001b[0m\u001b[0;34m,\u001b[0m \u001b[0mvolume\u001b[0m\u001b[0;34m,\u001b[0m \u001b[0mtemperature_mb\u001b[0m\u001b[0;34m)\u001b[0m\u001b[0;34m*\u001b[0m\u001b[0;36m1e3\u001b[0m\u001b[0;34m)\u001b[0m\u001b[0;34m\u001b[0m\u001b[0;34m\u001b[0m\u001b[0m\n\u001b[0m\u001b[1;32m      3\u001b[0m \u001b[0manalysis\u001b[0m\u001b[0;34m.\u001b[0m\u001b[0mset_axis\u001b[0m\u001b[0;34m(\u001b[0m\u001b[0max\u001b[0m\u001b[0;34m,\u001b[0m \u001b[0mx\u001b[0m \u001b[0;34m=\u001b[0m \u001b[0;34m'iteration'\u001b[0m\u001b[0;34m,\u001b[0m \u001b[0my\u001b[0m \u001b[0;34m=\u001b[0m \u001b[0;32mNone\u001b[0m\u001b[0;34m)\u001b[0m\u001b[0;34m\u001b[0m\u001b[0;34m\u001b[0m\u001b[0m\n\u001b[1;32m      4\u001b[0m \u001b[0max\u001b[0m\u001b[0;34m.\u001b[0m\u001b[0mset_ylabel\u001b[0m\u001b[0;34m(\u001b[0m\u001b[0;34m'pressure (mTorr)'\u001b[0m\u001b[0;34m)\u001b[0m\u001b[0;34m;\u001b[0m\u001b[0;34m\u001b[0m\u001b[0;34m\u001b[0m\u001b[0m\n",
      "\u001b[0;31mTypeError\u001b[0m: 'int' object is not subscriptable"
     ]
    }
   ],
   "source": [
    "fig, ax = plt.subplots()\n",
    "ax.plot(unique_index*dt, physics.pressure_torr(nb_parts*mr[0], volume, temperature_mb)*1e3)\n",
    "analysis.set_axis(ax, x = 'iteration', y = None)\n",
    "ax.set_ylabel('pressure (mTorr)');"
   ]
  },
  {
   "cell_type": "code",
   "execution_count": 59,
   "metadata": {},
   "outputs": [],
   "source": [
    "sound_speed = physics.speed_of_sound(molecular_mass, temperature_mb, gamma)"
   ]
  },
  {
   "cell_type": "code",
   "execution_count": 42,
   "metadata": {},
   "outputs": [
    {
     "data": {
      "application/vnd.jupyter.widget-view+json": {
       "model_id": "807de4ea55494fa3801ecf52c6d8591e",
       "version_major": 2,
       "version_minor": 0
      },
      "text/plain": [
       "Canvas(toolbar=Toolbar(toolitems=[('Home', 'Reset original view', 'home', 'home'), ('Back', 'Back to previous …"
      ]
     },
     "metadata": {},
     "output_type": "display_data"
    }
   ],
   "source": [
    "fig, ax = plt.subplots()\n",
    "ax.plot(unique_index*dt,sound_speed)\n",
    "analysis.set_axis(ax, x = 'time', y = 'sound speed')"
   ]
  },
  {
   "cell_type": "markdown",
   "metadata": {},
   "source": [
    "## Flow speed"
   ]
  },
  {
   "cell_type": "code",
   "execution_count": 43,
   "metadata": {},
   "outputs": [
    {
     "data": {
      "application/vnd.jupyter.widget-view+json": {
       "model_id": "87188625983849aa92e5e322b1a3b8f2",
       "version_major": 2,
       "version_minor": 0
      },
      "text/plain": [
       "Canvas(toolbar=Toolbar(toolitems=[('Home', 'Reset original view', 'home', 'home'), ('Back', 'Back to previous …"
      ]
     },
     "metadata": {},
     "output_type": "display_data"
    }
   ],
   "source": [
    "fig, ax = plt.subplots()\n",
    "ax.plot(unique_index*dt,df_mean['v_drift'])\n",
    "analysis.set_axis(ax, x = 'time', y = 'v');"
   ]
  },
  {
   "cell_type": "markdown",
   "metadata": {},
   "source": [
    "## Mach number"
   ]
  },
  {
   "cell_type": "code",
   "execution_count": 44,
   "metadata": {},
   "outputs": [
    {
     "data": {
      "application/vnd.jupyter.widget-view+json": {
       "model_id": "8acd996afc544709ad8bd4a3a5fa75c6",
       "version_major": 2,
       "version_minor": 0
      },
      "text/plain": [
       "Canvas(toolbar=Toolbar(toolitems=[('Home', 'Reset original view', 'home', 'home'), ('Back', 'Back to previous …"
      ]
     },
     "metadata": {},
     "output_type": "display_data"
    }
   ],
   "source": [
    "fig, ax = plt.subplots()\n",
    "ax.plot(unique_index*dt,df_mean['v_drift']/sound_speed)\n",
    "analysis.set_axis(ax, x = 'time')\n",
    "ax.set_ylabel('Mach number');"
   ]
  },
  {
   "cell_type": "markdown",
   "metadata": {},
   "source": [
    "## Collision with walls - analysis"
   ]
  },
  {
   "cell_type": "code",
   "execution_count": 49,
   "metadata": {},
   "outputs": [
    {
     "name": "stdout",
     "output_type": "stream",
     "text": [
      "Collisions with walls : 9.741e+11\n"
     ]
    }
   ],
   "source": [
    "print('Collisions with walls : {:.3e}'.format(np.sum(collisions_with_walls)*mr))"
   ]
  },
  {
   "cell_type": "code",
   "execution_count": 50,
   "metadata": {},
   "outputs": [
    {
     "data": {
      "application/vnd.jupyter.widget-view+json": {
       "model_id": "138885385689485a9d1eb6ddd938c1da",
       "version_major": 2,
       "version_minor": 0
      },
      "text/plain": [
       "Canvas(toolbar=Toolbar(toolitems=[('Home', 'Reset original view', 'home', 'home'), ('Back', 'Back to previous …"
      ]
     },
     "metadata": {},
     "output_type": "display_data"
    }
   ],
   "source": [
    "fig, ax = plt.subplots()\n",
    "analysis.set_axis(ax, x = 'time', y = 'quantity')\n",
    "ax.plot(collisions_with_walls.index*dt, mr*collisions_with_walls); # *np.mean(mr)"
   ]
  },
  {
   "cell_type": "markdown",
   "metadata": {},
   "source": [
    "## DSMC collisions analysis"
   ]
  },
  {
   "cell_type": "markdown",
   "metadata": {},
   "source": [
    "### Particles collisions analysis"
   ]
  },
  {
   "cell_type": "code",
   "execution_count": 51,
   "metadata": {},
   "outputs": [
    {
     "name": "stdout",
     "output_type": "stream",
     "text": [
      "Total number of collision in the simulation (in reality) : 1.017700e+04 (3.256640e+10)\n"
     ]
    }
   ],
   "source": [
    "# start by summing over all cells\n",
    "collisions = np.sum(collisions_per_cell, axis = (0,1))\n",
    "print('Total number of collision in the simulation (in reality) : {:e} ({:e})'.format(int(np.sum(collisions_per_cell)),mr*np.sum(collisions_per_cell)));"
   ]
  },
  {
   "cell_type": "code",
   "execution_count": 52,
   "metadata": {},
   "outputs": [
    {
     "data": {
      "application/vnd.jupyter.widget-view+json": {
       "model_id": "580d65e301e0456a87b9d12cddd946ba",
       "version_major": 2,
       "version_minor": 0
      },
      "text/plain": [
       "Canvas(toolbar=Toolbar(toolitems=[('Home', 'Reset original view', 'home', 'home'), ('Back', 'Back to previous …"
      ]
     },
     "metadata": {},
     "output_type": "display_data"
    }
   ],
   "source": [
    "fig, ax = plt.subplots()\n",
    "analysis.set_axis(ax, x = 'time', y = 'quantity')\n",
    "ax.plot(index_collisions*dt, collisions*mr);"
   ]
  },
  {
   "cell_type": "markdown",
   "metadata": {},
   "source": [
    "### Rate between the two"
   ]
  },
  {
   "cell_type": "code",
   "execution_count": 53,
   "metadata": {},
   "outputs": [
    {
     "data": {
      "application/vnd.jupyter.widget-view+json": {
       "model_id": "1f17554b167448be9493d31a7b6461a6",
       "version_major": 2,
       "version_minor": 0
      },
      "text/plain": [
       "Canvas(toolbar=Toolbar(toolitems=[('Home', 'Reset original view', 'home', 'home'), ('Back', 'Back to previous …"
      ]
     },
     "metadata": {},
     "output_type": "display_data"
    }
   ],
   "source": [
    "fig, ax = plt.subplots()\n",
    "analysis.set_axis(ax, x = 'time')\n",
    "ax.set_ylabel('rate')\n",
    "ax.plot(index_collisions*dt, collisions_with_walls/collisions);"
   ]
  },
  {
   "cell_type": "markdown",
   "metadata": {},
   "source": [
    "## Mean free path \n",
    "The formula for the mean free path is : $\\lambda = \\frac{v_{mean}}{\\nu}$, where : \n",
    "* $v_{mean}$ is the mean velocity ;\n",
    "* $\\nu$ is the frequency of collision for ONE particle.\n",
    "\n",
    "We have : $\\frac{1}{\\nu} = \\frac{N_c dt}{2 N}$ with $N_c$ the number of particle in the cell, and $N$ the number of collisions.\n",
    "\n",
    "This yields :  $\\lambda = \\frac{v_{mean}N_c dt}{2N}$. There is no need for $m_r$ here as both $N_c$ and $N$ would require the multiplication to have the current number in the system.\n",
    "\n",
    "We start by doing it for the whole system."
   ]
  },
  {
   "cell_type": "code",
   "execution_count": 63,
   "metadata": {},
   "outputs": [],
   "source": [
    "x_res = 10 # for example the number of cells during the simulations (if you want a plot per cell)\n",
    "y_res = 1\n",
    "x_step = 0.001 # size of the cell\n",
    "y_step = 0.001"
   ]
  },
  {
   "cell_type": "code",
   "execution_count": 64,
   "metadata": {},
   "outputs": [],
   "source": [
    "v_mean = df_mean['v']"
   ]
  },
  {
   "cell_type": "code",
   "execution_count": 65,
   "metadata": {},
   "outputs": [],
   "source": [
    "# selecting the time iteration that we also saved for the collisions (saving frequency is not necessary the same)\n",
    "v_mean = v_mean.loc[np.isin(v_mean.index,index_collisions)]\n",
    "nb_particles_in_system = df['x'].groupby(df.index).agg('count').loc[np.isin(unique_index,index_collisions)]"
   ]
  },
  {
   "cell_type": "code",
   "execution_count": 66,
   "metadata": {},
   "outputs": [],
   "source": [
    "mfp = physics.mean_free_path_simu(nb_particles_in_system, collisions, dt, v_mean)"
   ]
  },
  {
   "cell_type": "markdown",
   "metadata": {},
   "source": [
    "### Mean free path evolution"
   ]
  },
  {
   "cell_type": "code",
   "execution_count": 67,
   "metadata": {},
   "outputs": [
    {
     "data": {
      "application/vnd.jupyter.widget-view+json": {
       "model_id": "96ef836673a84f1f95f5845a4db1c722",
       "version_major": 2,
       "version_minor": 0
      },
      "text/plain": [
       "Canvas(toolbar=Toolbar(toolitems=[('Home', 'Reset original view', 'home', 'home'), ('Back', 'Back to previous …"
      ]
     },
     "metadata": {},
     "output_type": "display_data"
    }
   ],
   "source": [
    "fig, ax = plt.subplots()\n",
    "ax.plot(index_collisions*dt, mfp)\n",
    "analysis.set_axis(ax, x = 'time', y = 'mean free path')"
   ]
  },
  {
   "cell_type": "markdown",
   "metadata": {},
   "source": [
    "### Knudsen evolution"
   ]
  },
  {
   "cell_type": "code",
   "execution_count": 68,
   "metadata": {},
   "outputs": [
    {
     "data": {
      "application/vnd.jupyter.widget-view+json": {
       "model_id": "b3fd3347d1ad466d97b59ca896ade940",
       "version_major": 2,
       "version_minor": 0
      },
      "text/plain": [
       "Canvas(toolbar=Toolbar(toolitems=[('Home', 'Reset original view', 'home', 'home'), ('Back', 'Back to previous …"
      ]
     },
     "metadata": {},
     "output_type": "display_data"
    }
   ],
   "source": [
    "fig, ax = plt.subplots()\n",
    "ax.plot(index_collisions*dt, mfp/cell_size)\n",
    "analysis.set_axis(ax, x = 'time', y = 'Knudsen')"
   ]
  },
  {
   "cell_type": "markdown",
   "metadata": {},
   "source": [
    "### Total mean free path\n",
    "\n",
    "Accouting for collisions between particles and **collisions with walls**.\n",
    "\n",
    "In the case where the number of collisions with walls is much bigger than the number of collisions between particles, then this mean free path is basically the average distance a particle covers between two wall collisions."
   ]
  },
  {
   "cell_type": "code",
   "execution_count": 69,
   "metadata": {},
   "outputs": [],
   "source": [
    "mfp_ = 0.5*nb_particles_in_system*dt*v_mean/(collisions+collisions_with_walls)"
   ]
  },
  {
   "cell_type": "markdown",
   "metadata": {},
   "source": [
    "#### Total Mean free path evolution "
   ]
  },
  {
   "cell_type": "code",
   "execution_count": 70,
   "metadata": {},
   "outputs": [
    {
     "data": {
      "application/vnd.jupyter.widget-view+json": {
       "model_id": "169fbe56f74845ad8f3c9036adaec05d",
       "version_major": 2,
       "version_minor": 0
      },
      "text/plain": [
       "Canvas(toolbar=Toolbar(toolitems=[('Home', 'Reset original view', 'home', 'home'), ('Back', 'Back to previous …"
      ]
     },
     "metadata": {},
     "output_type": "display_data"
    }
   ],
   "source": [
    "fig, ax = plt.subplots()\n",
    "ax.plot(index_collisions*dt, mfp_)\n",
    "analysis.set_axis(ax, x = 'time', y = 'mean free path');"
   ]
  },
  {
   "cell_type": "markdown",
   "metadata": {},
   "source": [
    "#### Total Knudsen - evolution"
   ]
  },
  {
   "cell_type": "code",
   "execution_count": 71,
   "metadata": {},
   "outputs": [
    {
     "data": {
      "application/vnd.jupyter.widget-view+json": {
       "model_id": "6325045be7244a43b5f57caefd7aff1e",
       "version_major": 2,
       "version_minor": 0
      },
      "text/plain": [
       "Canvas(toolbar=Toolbar(toolitems=[('Home', 'Reset original view', 'home', 'home'), ('Back', 'Back to previous …"
      ]
     },
     "metadata": {},
     "output_type": "display_data"
    }
   ],
   "source": [
    "fig, ax = plt.subplots()\n",
    "ax.plot(index_collisions*dt, mfp_/cell_size)\n",
    "analysis.set_axis(ax, x = 'time', y = 'Knudsen');"
   ]
  },
  {
   "cell_type": "markdown",
   "metadata": {},
   "source": [
    "## Out particle analysis"
   ]
  },
  {
   "cell_type": "code",
   "execution_count": 54,
   "metadata": {},
   "outputs": [
    {
     "data": {
      "application/vnd.jupyter.widget-view+json": {
       "model_id": "31eab78a4feb4bda9bb8f6db46502eb3",
       "version_major": 2,
       "version_minor": 0
      },
      "text/plain": [
       "Canvas(toolbar=Toolbar(toolitems=[('Home', 'Reset original view', 'home', 'home'), ('Back', 'Back to previous …"
      ]
     },
     "metadata": {},
     "output_type": "display_data"
    }
   ],
   "source": [
    "fig, ax = plt.subplots()\n",
    "mass_flow_rate = mr*physics.compute_mass_flow_rate(total_deleted, dt, mass)\n",
    "analysis.set_axis(ax, x = 'time', y = 'mass flow rate')\n",
    "plt.plot(mass_flow_rate.index*dt, mass_flow_rate);"
   ]
  },
  {
   "cell_type": "markdown",
   "metadata": {},
   "source": [
    "### Mean number of particles"
   ]
  },
  {
   "cell_type": "code",
   "execution_count": 55,
   "metadata": {},
   "outputs": [],
   "source": [
    "averages = averages_per_cell.groupby(averages_per_cell.index).sum() # returns a pandas Series"
   ]
  },
  {
   "cell_type": "code",
   "execution_count": 56,
   "metadata": {},
   "outputs": [
    {
     "data": {
      "application/vnd.jupyter.widget-view+json": {
       "model_id": "6e503f9d5e3944c89df30f737e07573f",
       "version_major": 2,
       "version_minor": 0
      },
      "text/plain": [
       "Canvas(toolbar=Toolbar(toolitems=[('Home', 'Reset original view', 'home', 'home'), ('Back', 'Back to previous …"
      ]
     },
     "metadata": {},
     "output_type": "display_data"
    }
   ],
   "source": [
    "fig, ax = plt.subplots()\n",
    "analysis.set_axis(ax, x = 'time', y = 'quantity')\n",
    "ax.plot(averages.index*dt, averages);"
   ]
  },
  {
   "cell_type": "markdown",
   "metadata": {},
   "source": [
    "### Mean acceptance probability"
   ]
  },
  {
   "cell_type": "code",
   "execution_count": 57,
   "metadata": {},
   "outputs": [
    {
     "name": "stdout",
     "output_type": "stream",
     "text": [
      "Mean proba : 2.095243e-02\n"
     ]
    },
    {
     "data": {
      "application/vnd.jupyter.widget-view+json": {
       "model_id": "3d94183172b748edb4b8082903015efc",
       "version_major": 2,
       "version_minor": 0
      },
      "text/plain": [
       "Canvas(toolbar=Toolbar(toolitems=[('Home', 'Reset original view', 'home', 'home'), ('Back', 'Back to previous …"
      ]
     },
     "metadata": {},
     "output_type": "display_data"
    }
   ],
   "source": [
    "proba = total_proba/collisions\n",
    "print('Mean proba : {:e}'.format(np.mean(proba)))\n",
    "fig, ax = plt.subplots()\n",
    "analysis.set_axis(ax, x = 'time', y = 'probability')\n",
    "ax.plot(proba.index*dt, proba, label = 'proba');"
   ]
  },
  {
   "cell_type": "markdown",
   "metadata": {},
   "source": [
    "### Maximum probability"
   ]
  },
  {
   "cell_type": "code",
   "execution_count": 58,
   "metadata": {},
   "outputs": [],
   "source": [
    "pmax = pmax_per_cell.groupby(pmax_per_cell.index).sum() # returns a pandas Series"
   ]
  },
  {
   "cell_type": "code",
   "execution_count": 59,
   "metadata": {},
   "outputs": [
    {
     "data": {
      "text/plain": [
       "25.948142853273396"
      ]
     },
     "execution_count": 59,
     "metadata": {},
     "output_type": "execute_result"
    }
   ],
   "source": [
    "np.max(pmax_per_cell)/np.min(pmax_per_cell)"
   ]
  },
  {
   "cell_type": "code",
   "execution_count": 60,
   "metadata": {},
   "outputs": [
    {
     "data": {
      "application/vnd.jupyter.widget-view+json": {
       "model_id": "da13adaa37e144eba344b97073a64bcc",
       "version_major": 2,
       "version_minor": 0
      },
      "text/plain": [
       "Canvas(toolbar=Toolbar(toolitems=[('Home', 'Reset original view', 'home', 'home'), ('Back', 'Back to previous …"
      ]
     },
     "metadata": {},
     "output_type": "display_data"
    }
   ],
   "source": [
    "fig, ax = plt.subplots()\n",
    "analysis.set_axis(ax, x = 'time', y = 'probability')\n",
    "ax.plot(pmax.index*dt, pmax);"
   ]
  },
  {
   "cell_type": "markdown",
   "metadata": {},
   "source": [
    "### Mean distance between two colliding particles"
   ]
  },
  {
   "cell_type": "code",
   "execution_count": 61,
   "metadata": {},
   "outputs": [
    {
     "data": {
      "application/vnd.jupyter.widget-view+json": {
       "model_id": "713557b6b38f4875b795cefd69da6d1b",
       "version_major": 2,
       "version_minor": 0
      },
      "text/plain": [
       "Canvas(toolbar=Toolbar(toolitems=[('Home', 'Reset original view', 'home', 'home'), ('Back', 'Back to previous …"
      ]
     },
     "metadata": {},
     "output_type": "display_data"
    },
    {
     "name": "stdout",
     "output_type": "stream",
     "text": [
      "Mean distance : 6.338776e-05 m\n"
     ]
    }
   ],
   "source": [
    "fig, ax = plt.subplots()\n",
    "dist = total_distance/collisions\n",
    "print('Mean distance : {:e} m'.format(np.mean(dist)))\n",
    "analysis.set_axis(ax, x = 'time', y = 'distance')\n",
    "ax.plot(dist.index*dt, dist);"
   ]
  },
  {
   "cell_type": "markdown",
   "metadata": {},
   "source": [
    "### Velocity axis distribution per *cell*"
   ]
  },
  {
   "cell_type": "code",
   "execution_count": null,
   "metadata": {},
   "outputs": [],
   "source": [
    "# spatial_hist2d plots an hist per cell defined by the params below\n",
    "# it is a 2D plot of size y_res * x_res\n",
    "# where each plot (i,j) takes the particle between i*x_step < x < (i+1)*x_step and j*y_step < y < (j+1)*y_step\n",
    "# for i varying between between 0 and x_res-1, and j varying between between 0 and y_res-1\n",
    "# You should not use too many cells because it quickly becomes very hard to view.\n",
    "# Params\n",
    "x_res = 11 # for example the number of cells during the simulations (if you want a plot per cell)\n",
    "y_res = 5\n",
    "x_step = 0.001 # size of the cell\n",
    "y_step = 0.001 \n",
    "\n",
    "# Plotting - vx\n",
    "# fig, axes = analysis.spatial_hist2d(df, frames, val = 'vx', x_res = x_res, y_res = y_res, x_step = x_step, y_step=y_step);"
   ]
  },
  {
   "cell_type": "code",
   "execution_count": null,
   "metadata": {},
   "outputs": [],
   "source": [
    "# Plotting - vy\n",
    "# fig, axes = analysis.spatial_hist2d(df, frames, val = 'vy', x_res = x_res, y_res = y_res, x_step = x_step, y_step=y_step);"
   ]
  },
  {
   "cell_type": "markdown",
   "metadata": {},
   "source": [
    "## Bonus - Not necessarily recommended and takes lots of time\n",
    "Next is the plot of the system for each saved step. "
   ]
  },
  {
   "cell_type": "code",
   "execution_count": null,
   "metadata": {},
   "outputs": [],
   "source": [
    "# creating speed_norm (for the color)\n",
    "# df['speed_norm'] = np.sqrt(df['vx']**2+df['vy']**2+df['vz']**2) -> DO NOT NEED THAT"
   ]
  },
  {
   "cell_type": "code",
   "execution_count": null,
   "metadata": {},
   "outputs": [],
   "source": [
    "%matplotlib notebook\n",
    "import numpy as np\n",
    "from matplotlib import pyplot as plt\n",
    "from matplotlib.animation import FuncAnimation\n",
    "\n",
    "def update_hist(num, df):\n",
    "    dfit = df.loc[df.index == num]\n",
    "\n",
    "    scat.set_offsets(np.c_[dfit['x'],dfit['y']])\n",
    "    scat.set_array(df['v'])\n",
    "    \n",
    "    ax.set_title('{}/{}'.format(num+1, iterations), fontsize=15)\n",
    "\n",
    "fig, ax = plt.subplots()\n",
    "dfit = df.loc[df.index == 0]\n",
    "scat = ax.scatter(dfit['x'], dfit['y'], s=0.1, c = dfit['v'], cmap='seismic') #  c = df['speed_norm']\n",
    "analysis.set_axis(ax, x = 'x', y = 'y')\n",
    "# if you want the boundaries to be plotted and the grid too, you have to initialize those fields yourself.\n",
    "# in the other case, only particles will be plotted.\n",
    "# plot_boundaries(ax, segments)\n",
    "# plot_grid(ax, resolutions, system_shape)\n",
    "\n",
    "ax.set_title('{}/{}'.format(1, iterations), fontsize=12)\n",
    "ax.axis('equal')\n",
    "\n",
    "interval = 40 # 25 images per second\n",
    "anim = FuncAnimation(fig, update_hist, interval=interval, frames=iterations, fargs=(df, ), save_count=iterations)\n",
    "anim.save(dir_path/'system_state_evo.avi', dpi = 300);"
   ]
  },
  {
   "cell_type": "code",
   "execution_count": null,
   "metadata": {},
   "outputs": [],
   "source": []
  }
 ],
 "metadata": {
  "kernelspec": {
   "display_name": "Python 3.9",
   "language": "python",
   "name": "python39"
  },
  "language_info": {
   "codemirror_mode": {
    "name": "ipython",
    "version": 3
   },
   "file_extension": ".py",
   "mimetype": "text/x-python",
   "name": "python",
   "nbconvert_exporter": "python",
   "pygments_lexer": "ipython3",
   "version": "3.9.5"
  }
 },
 "nbformat": 4,
 "nbformat_minor": 5
}
