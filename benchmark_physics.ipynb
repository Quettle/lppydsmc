{
 "cells": [
  {
   "cell_type": "markdown",
   "id": "57a866b4",
   "metadata": {},
   "source": [
    "# Benchmarking simulation tests \n",
    "Simple integration tests where certain results are expected and will be compared to theory."
   ]
  },
  {
   "cell_type": "code",
   "execution_count": 1,
   "id": "d98bfcee",
   "metadata": {},
   "outputs": [],
   "source": [
    "BOLTZMAN_CONSTANT = 1.38064e-23 # J K−1\n",
    "\n",
    "# 1st : theoretical collision frequency for MB distribution\n",
    "def collision_frequency_th_T(T, m, d, n): # per unit of volume and time\n",
    "    return 0.5*n*4*np.sqrt(BOLTZMAN_CONSTANT*T/m)*d*d*n\n",
    "\n",
    "def energy(arr, mass): # arr of velocities - shape n x 3\n",
    "    return 0.5*mass*np.sum(np.linalg.norm(arr, axis =1)**2)"
   ]
  },
  {
   "cell_type": "code",
   "execution_count": 3,
   "id": "169f6ec1",
   "metadata": {},
   "outputs": [],
   "source": [
    "%matplotlib widget\n",
    "\n",
    "# system\n",
    "import lppydsmc as ld\n",
    "\n",
    "# other imports\n",
    "import numpy as np\n",
    "import matplotlib.pyplot as plt\n",
    "from tqdm import tqdm\n",
    "import pandas as pd\n",
    "import seaborn as sns\n",
    "import os\n",
    "np.random.seed(1111)"
   ]
  },
  {
   "cell_type": "markdown",
   "id": "bfe8eb56",
   "metadata": {},
   "source": [
    "## Defining the system"
   ]
  },
  {
   "cell_type": "code",
   "execution_count": null,
   "id": "b8c3563c",
   "metadata": {},
   "outputs": [],
   "source": [
    "# Square System :\n",
    "dz = 0.001\n",
    "idx_out_walls = [] # no out walls\n",
    "\n",
    "segments = 0.001*3*np.array([[0,0,1,0], [0,0,0,1], [1,0,1,1], [0,1,1,1]]) # tube\n",
    "system = SystemCreator(segments)\n",
    "\n",
    "offsets = ld.system.get_offsets()\n",
    "system_shape = ld.system.system_shape()\n",
    "a = system.get_dir_vects()\n",
    "segments = system.get_segments()\n",
    "extremal_values = system.get_extremal_values()"
   ]
  },
  {
   "cell_type": "markdown",
   "id": "612eb279",
   "metadata": {},
   "source": [
    "## Simulation params"
   ]
  },
  {
   "cell_type": "code",
   "execution_count": null,
   "id": "2b7f51cb",
   "metadata": {},
   "outputs": [],
   "source": [
    "# Simulation params\n",
    "iterations = 1000\n",
    "dt = 1e-5 # in sec, should be a fraction of the mean free time\n",
    "    \n",
    "# saving params\n",
    "saving_period = 100\n",
    "adding_period = 10\n",
    "\n",
    "# advection\n",
    "def f(arr, dt):\n",
    "    return np.zeros(shape = (arr.shape[0], 3))\n",
    "\n",
    "args = []\n",
    "scheme = euler_explicit"
   ]
  },
  {
   "cell_type": "markdown",
   "id": "3cbd868e",
   "metadata": {},
   "source": [
    "## Thermalisation\n",
    "\n",
    "An array of particle initialized randomly on the square with uniform speed is constructed and immediately given to the container for particles."
   ]
  },
  {
   "cell_type": "code",
   "execution_count": null,
   "id": "dcd856ad",
   "metadata": {},
   "outputs": [],
   "source": [
    "# Grid :\n",
    "mean_number_per_cell = 100\n",
    "max_number_per_cell = 10*mean_number_per_cell\n",
    "resolutions = np.array((3,3), dtype = int)\n",
    "\n",
    "grid = Grid(resolutions, max_number_per_cell)\n",
    "volume_cell = dz * system_shape[0]/resolutions[0] * system_shape[1]/resolutions[1]\n",
    "\n",
    "# Density of the gas\n",
    "density = 3.2e19 # m-3\n",
    "n_simu = mean_number_per_cell*np.prod(resolutions) # number of particles in the simulated system\n",
    "n_real = volume_cell * density * np.prod(resolutions) # number of particles in the real system\n",
    "mr = n_real/n_simu # macro particules ratio = number of particles in the real system / number of macro part in the simulated system\n",
    "density_dsmc = density/mr\n",
    "\n",
    "# Particles\n",
    "part_type = 'I'\n",
    "charge, mass, radius = 0, get_mass_part(53, 53, 74), 2e-10\n",
    "\n",
    "# Array\n",
    "size_array = mean_number_per_cell*np.prod(resolutions) # 2* # we take exactly the right size\n",
    "\n",
    "print(f'Number of particles : {size_array}')\n",
    "\n",
    "min_vel, max_vel = -200, 200\n",
    "x = np.random.uniform(low = extremal_values['min_x'], high = extremal_values['max_x'], size = size_array)\n",
    "y = np.random.uniform(low = extremal_values['min_y'], high = extremal_values['max_y'], size = size_array)\n",
    "vx = np.random.uniform(low = min_vel, high = max_vel, size = size_array)\n",
    "vy = np.random.uniform(low = min_vel, high = max_vel, size = size_array)\n",
    "vz = np.random.uniform(low = min_vel, high = max_vel, size = size_array)\n",
    "arr = np.stack((x,y,vx,vy,vz), axis = 1) \n",
    "v_mean = np.mean(np.linalg.norm(arr[:,2:], axis = 1))\n",
    "arr_save = np.copy(arr)\n",
    "\n",
    "container = Particle(part_type, charge, mass, radius, size_array)\n",
    "container.add_multiple(arr)\n",
    "cross_section = container.get_params()[3]\n",
    "\n",
    "# Energy in the system :\n",
    "nrj = energy(arr, mass)\n",
    "target_temperature = (2*nrj/size_array)/(3*BOLTZMAN_CONSTANT)\n",
    "print(f'Energy in the system : {nrj} J')\n",
    "print(f'Should relax toward the temperature : {target_temperature} K')"
   ]
  },
  {
   "cell_type": "markdown",
   "id": "061e6be6",
   "metadata": {},
   "source": [
    "### Simulation"
   ]
  },
  {
   "cell_type": "code",
   "execution_count": null,
   "id": "3132a123",
   "metadata": {},
   "outputs": [],
   "source": [
    "# NAME tests\n",
    "from pathlib import Path\n",
    "\n",
    "dir_path = Path('results/benchmark/')\n",
    "name = 'thermalization.h5'\n",
    "\n",
    "saver = Saver(dir_path, name)\n"
   ]
  },
  {
   "cell_type": "code",
   "execution_count": null,
   "id": "2b0e49c0",
   "metadata": {},
   "outputs": [],
   "source": [
    "df = pd.DataFrame(columns = ['x','y','vx','vy','vz']) # bucket for the particles - index of particles is the iteration number\n",
    "\n",
    "# defining useful arrays and ints \n",
    "remains = 0 # fractionnal part of the number of particles to inject (it is then passed to the following time step)\n",
    "averages = np.full(shape = grid.current.shape, fill_value = mean_number_per_cell) # average number of particles per cell\n",
    "pmax = 2*v_mean*cross_section*np.ones(averages.shape) # max proba per cell in the simu\n",
    "remains_per_cell = np.zeros(shape = grid.current.shape, dtype = float) # remains per cell for the particles collisions step\n",
    "\n",
    "# SIMULATING\n",
    "print('|{:^10}|{:^10}|{:^10}|{:^10}|{:^10}|'.format(' it ', ' INIT ', ' INJECT ', ' DEL ', ' TRY'))\n",
    "print('{:-^56}'.format(''))\n",
    "\n",
    "for it in range(iterations): # tqdm\n",
    "    n1 = container.get_current()\n",
    "                   \n",
    "    # injecting particles - no injection\n",
    "    # new, remains = inject(in_wall, in_vect, debit, vel_std, radius, dt, remains)\n",
    "    # container.add_multiple(new)\n",
    "                   \n",
    "    n2 = container.get_current()-n1\n",
    "    \n",
    "    # PHASE : ADVECTING\n",
    "        # MOVING PARTICLES\n",
    "    arr = container.get_particles()\n",
    "    \n",
    "    if(it%adding_period == 0):\n",
    "        df = df.append(pd.DataFrame(data=arr, index=[it]*arr.shape[0], columns = ['x','y','vx','vy','vz']))\n",
    "    \n",
    "    advect(arr, f, dt, args, scheme) # advect is inplace\n",
    "    \n",
    "        # HANDLING BOUNDARIES \n",
    "    count = np.full(fill_value = True, shape = arr.shape[0])\n",
    "    idxes_out = []\n",
    "    c = 0\n",
    "    while(np.sum(count, where = count == True) > 0):\n",
    "        c+=1\n",
    "        ct, cp = handler_wall_collision_point(arr[count], segments, a) # handler_wall_collision(arr[count], segments, a, radius)\n",
    "        count, idxes_out_ = make_collisions_out_walls(arr, a, ct, cp, idx_out_walls, count) # idxes_out : indexes of the particles (in arr) that got out of the system\n",
    "        idxes_out.append(idxes_out_)\n",
    "    \n",
    "    idxes_out = np.concatenate(idxes_out)\n",
    "    \n",
    "    # TODO : make delete multiple better - currently the function creates a new array where as we can do it inplace.\n",
    "    container.delete_multiple(idxes_out)\n",
    "    \n",
    "    arr = container.get_particles()\n",
    "    \n",
    "    # PHASE : COLLISIONS\n",
    "        # UPDATING GRID - HARD RESET\n",
    "        # TODO : change the way it's done\n",
    "    grid.reset()\n",
    "    positions = pos_in_grid(arr[:,:2], resolutions, offsets, system_shape)\n",
    "    particles = convert_to_grid_datatype(positions, new = positions.shape[0])\n",
    "    grid.add_multiple(particles)\n",
    "        \n",
    "        # DSMC\n",
    "        # TODO: make parallel\n",
    "    currents = grid.get_currents()\n",
    "    averages = (it*averages+currents)/(it+1) # may be it too violent ? \n",
    "    \n",
    "    remains_per_cell, nb_colls, pmax, monitor = handler_particles_collisions([arr], grid.get_grid(), currents, dt, averages, pmax, cross_section, volume_cell, mr, remains_per_cell, monitoring = True)\n",
    "    # PLOTTING AND SAVING (OPTIONAL)\n",
    "    if(it%saving_period==0 or it == iterations-1): # saving if last iterations too\n",
    "        saver.save(it = it, append = {\n",
    "                        'df' : df,\n",
    "                        'collisions_per_cell' : nb_colls, # evolution of the number of collisions per cell - size : grid.shape[0] x grid.shape[1] (2D)\n",
    "                        'total_distance' : float(monitor[0]), # evolution of the sum of the distance accross all cells \n",
    "                        'total_proba' : float(monitor[1]), # evolution of the sum of proba accross all cells\n",
    "                        'pmax_per_cell' : pmax,  # evolution of the sum of pmax - per cell (2D)\n",
    "                        'total_deleted' : len(idxes_out), # evolution of the number of deleted particles per cell (int)\n",
    "                        'averages_per_cell' : averages\n",
    "                  })\n",
    "        \n",
    "        # resetting dataframe to not use too much memory\n",
    "        df = pd.DataFrame(columns = ['x','y','vx','vy','vz']) \n",
    "        print('|{:^10}|{:^10}|{:^10}|{:^10}|{:^10}|'.format(it, n1, n2, idxes_out.shape[0], c))\n",
    "   \n",
    "saver.close()"
   ]
  },
  {
   "cell_type": "markdown",
   "id": "8b3ba43a",
   "metadata": {},
   "source": [
    "### Analysis"
   ]
  },
  {
   "cell_type": "code",
   "execution_count": null,
   "id": "f19b3cc2",
   "metadata": {
    "tags": []
   },
   "outputs": [],
   "source": [
    "%matplotlib widget\n",
    "\n",
    "import pandas as pd\n",
    "import numpy as np\n",
    "import matplotlib.pyplot as plt\n",
    "from pathlib import Path\n",
    "from src.data import Saver\n",
    "from src.plotting import analysis\n",
    "\n",
    "dir_path = Path('results/benchmark/')\n",
    "name = 'thermalization.h5'\n",
    "\n",
    "store = pd.HDFStore(dir_path/name)"
   ]
  },
  {
   "cell_type": "code",
   "execution_count": null,
   "id": "f4cdb9c1-7a34-4590-a6e2-c368656ff1b1",
   "metadata": {},
   "outputs": [],
   "source": [
    "collisions_per_cell = store['collisions_per_cell'] \n",
    "df = store['df']\n",
    "pmax_per_cell = store['pmax_per_cell']\n",
    "total_deleted = store['total_deleted']\n",
    "total_distance = store['total_distance']\n",
    "total_proba = store['total_proba']"
   ]
  },
  {
   "cell_type": "code",
   "execution_count": null,
   "id": "1541bc7b-9e8e-4af7-b251-d84447ac6fb0",
   "metadata": {
    "tags": []
   },
   "outputs": [],
   "source": [
    "unique_index = df.index.unique().values\n",
    "nb_save = unique_index.shape[0]\n",
    "iterations = np.max(unique_index)\n",
    "adding_period = unique_index[1]-unique_index[0] # adding period - required to\n",
    "frames = unique_index[int(0.5*nb_save):nb_save]\n",
    "fig, axes = analysis.spatial_hist2d(df, frames, 'vy', x_res = 3, y_res = 3, x_step = 1e-3, y_step = 1e-3);"
   ]
  },
  {
   "cell_type": "code",
   "execution_count": null,
   "id": "2dd196c7-e113-4406-8e07-1a124d71775c",
   "metadata": {
    "tags": []
   },
   "outputs": [],
   "source": [
    "#analysis.save_fig(fig, path = 'test.png', title = 'vy ($m.s^{-1}$) distribution for each cell - iterations : [500,1000]', dpi = 400, figsize = (8,6))"
   ]
  },
  {
   "cell_type": "code",
   "execution_count": null,
   "id": "9fa9b9c9",
   "metadata": {},
   "outputs": [],
   "source": [
    "\n",
    "fig, axes = analysis.velocity_distribution(df, frames);"
   ]
  },
  {
   "cell_type": "code",
   "execution_count": null,
   "id": "40d96bcb-ae27-4503-8153-e56e8c449cd2",
   "metadata": {},
   "outputs": [],
   "source": [
    "fig, ax = plt.subplots(2,2, constrained_layout = True, figsize = (15,15));\n",
    "analysis.state(ax[0,0], df.loc[df.index == 250], c = None)\n",
    "analysis.hist2d(ax[0,1], df, weights = df['vx']) # TODO: add cmap\n",
    "analysis.nb_particles_evolution(ax[1,0], df, times = dt*np.arange(0,1000,10))\n",
    "analysis.hist1d(ax[1,1], df, 'x', bins = 50)"
   ]
  },
  {
   "cell_type": "code",
   "execution_count": null,
   "id": "37c920ee",
   "metadata": {},
   "outputs": [],
   "source": [
    "def variance(vx, vy, vz):\n",
    "    norms = np.sqrt(vx*vx+vy*vy+vz*vz) # N particles - shape : N\n",
    "    mean = np.mean(norms)\n",
    "    return np.mean((norms - mean)**2)"
   ]
  },
  {
   "cell_type": "code",
   "execution_count": null,
   "id": "a86ce910",
   "metadata": {},
   "outputs": [],
   "source": [
    "step = adding_period\n",
    "var_evo = np.array([variance(df.loc[df.index==k]['vx'], df.loc[df.index==k]['vy'], df.loc[df.index==k]['vz']) for k in range(0,iterations,step)])"
   ]
  },
  {
   "cell_type": "code",
   "execution_count": null,
   "id": "bb2376ec",
   "metadata": {},
   "outputs": [],
   "source": [
    "var_evo.shape"
   ]
  },
  {
   "cell_type": "code",
   "execution_count": null,
   "id": "993e084e",
   "metadata": {},
   "outputs": [],
   "source": [
    "fig, ax = plt.subplots()\n",
    "ax.plot(var_evo*mass/(3*BOLTZMAN_CONSTANT));"
   ]
  },
  {
   "cell_type": "code",
   "execution_count": null,
   "id": "f8bd84a2",
   "metadata": {},
   "outputs": [],
   "source": [
    "# We can then try to minimize a given function \n",
    "a = np.sqrt(BOLTZMAN_CONSTANT*target_temperature/mass) # mean speed at the end (not the most likely one in theory)\n",
    "sigma_eq = a*a*(3*np.pi-8)/np.pi\n",
    "print(f'Variance at equilibrium (MB distribution) : {sigma_eq}')"
   ]
  },
  {
   "cell_type": "code",
   "execution_count": null,
   "id": "e16dec4c",
   "metadata": {},
   "outputs": [],
   "source": [
    "from scipy.optimize import least_squares\n",
    "\n",
    "# loss function (to minimize)\n",
    "def loss_fn(X, var_arr, init_var, eq_var, times):\n",
    "    # X = [tau] \n",
    "    # forced to use a list though\n",
    "    tau = X[0]\n",
    "    return np.sum(np.abs(var_arr-(init_var-eq_var)*np.exp(-times/tau)-eq_var))\n"
   ]
  },
  {
   "cell_type": "code",
   "execution_count": null,
   "id": "387749ee",
   "metadata": {},
   "outputs": [],
   "source": [
    "tau_init = 1e-3 \n",
    "var_arr = var_evo\n",
    "init_var = var_arr[0]\n",
    "eq_var = sigma_eq\n",
    "\n",
    "# times\n",
    "step = 1\n",
    "t_init = 0\n",
    "times = np.array([t_init+k*dt for k in range(0,iterations//adding_period,step)])"
   ]
  },
  {
   "cell_type": "code",
   "execution_count": null,
   "id": "f8cf0fad",
   "metadata": {},
   "outputs": [],
   "source": [
    "results = least_squares(loss_fn, np.array([tau_init]), bounds = ([1e-3*tau_init],[1e3*tau_init]), args = (var_arr,init_var,eq_var,times)).x\n",
    "tau = results[0]\n",
    "\n",
    "print(tau)"
   ]
  },
  {
   "cell_type": "code",
   "execution_count": null,
   "id": "da9652a9",
   "metadata": {},
   "outputs": [],
   "source": [
    "def get_Temp(times):\n",
    "    return (init_var-eq_var)*np.exp(-times/tau)+eq_var\n",
    "\n",
    "\n",
    "fig, ax = plt.subplots(figsize=(15,10))\n",
    "ax.set_title(\"$\\sigma_e$ = {} m/s ; $\\\\tau$ = {} s\".format(\"{:e}\".format(np.sqrt(eq_var)),\"{:e}\".format(tau)))\n",
    "plt.xlabel(\"temps (s)\",fontsize=18)\n",
    "plt.ylabel(\"variance de la vitesse ($m^2/s^2$)\",fontsize=16)\n",
    "\n",
    "plt.plot(times, get_Temp(times), label = '$\\sigma^2(t) = (\\sigma^2(0)-\\sigma^2_e)exp(-t/\\\\tau)+\\sigma^2_e$')\n",
    "plt.plot(times,var_arr, label = 'Simulation')\n",
    "plt.xticks(fontsize=15)\n",
    "plt.yticks(fontsize=15)\n",
    "#plt.plot(listTime,Temp_smooth)\n",
    "plt.legend(loc='best',fontsize=16);\n"
   ]
  },
  {
   "cell_type": "markdown",
   "id": "206df926",
   "metadata": {},
   "source": [
    "## Number of collisions"
   ]
  },
  {
   "cell_type": "code",
   "execution_count": 7,
   "id": "44682890",
   "metadata": {},
   "outputs": [
    {
     "ename": "NameError",
     "evalue": "name 'system_shape' is not defined",
     "output_type": "error",
     "traceback": [
      "\u001b[0;31m---------------------------------------------------------------------------\u001b[0m",
      "\u001b[0;31mNameError\u001b[0m                                 Traceback (most recent call last)",
      "\u001b[0;32m<ipython-input-7-294cf328ed76>\u001b[0m in \u001b[0;36m<module>\u001b[0;34m\u001b[0m\n\u001b[1;32m      6\u001b[0m \u001b[0;34m\u001b[0m\u001b[0m\n\u001b[1;32m      7\u001b[0m \u001b[0mgrid\u001b[0m \u001b[0;34m=\u001b[0m \u001b[0mld\u001b[0m\u001b[0;34m.\u001b[0m\u001b[0mdata_structures\u001b[0m\u001b[0;34m.\u001b[0m\u001b[0mGrid\u001b[0m\u001b[0;34m(\u001b[0m\u001b[0mnp\u001b[0m\u001b[0;34m.\u001b[0m\u001b[0mprod\u001b[0m\u001b[0;34m(\u001b[0m\u001b[0mresolutions\u001b[0m\u001b[0;34m)\u001b[0m\u001b[0;34m,\u001b[0m \u001b[0mmax_number_per_cell\u001b[0m\u001b[0;34m)\u001b[0m\u001b[0;34m\u001b[0m\u001b[0;34m\u001b[0m\u001b[0m\n\u001b[0;32m----> 8\u001b[0;31m \u001b[0mvolume_cell\u001b[0m \u001b[0;34m=\u001b[0m \u001b[0mdz\u001b[0m \u001b[0;34m*\u001b[0m \u001b[0msystem_shape\u001b[0m\u001b[0;34m[\u001b[0m\u001b[0;36m0\u001b[0m\u001b[0;34m]\u001b[0m\u001b[0;34m/\u001b[0m\u001b[0mresolutions\u001b[0m\u001b[0;34m[\u001b[0m\u001b[0;36m0\u001b[0m\u001b[0;34m]\u001b[0m \u001b[0;34m*\u001b[0m \u001b[0msystem_shape\u001b[0m\u001b[0;34m[\u001b[0m\u001b[0;36m1\u001b[0m\u001b[0;34m]\u001b[0m\u001b[0;34m/\u001b[0m\u001b[0mresolutions\u001b[0m\u001b[0;34m[\u001b[0m\u001b[0;36m1\u001b[0m\u001b[0;34m]\u001b[0m\u001b[0;34m\u001b[0m\u001b[0;34m\u001b[0m\u001b[0m\n\u001b[0m\u001b[1;32m      9\u001b[0m \u001b[0;34m\u001b[0m\u001b[0m\n\u001b[1;32m     10\u001b[0m \u001b[0;31m# Density of the gas\u001b[0m\u001b[0;34m\u001b[0m\u001b[0;34m\u001b[0m\u001b[0;34m\u001b[0m\u001b[0m\n",
      "\u001b[0;31mNameError\u001b[0m: name 'system_shape' is not defined"
     ]
    }
   ],
   "source": [
    "dz = 0.001\n",
    "# Grid :\n",
    "mean_number_per_cell = 100\n",
    "max_number_per_cell = 10*mean_number_per_cell\n",
    "resolutions = np.array((3,3), dtype = int)\n",
    "\n",
    "grid = ld.data_structures.Grid(np.prod(resolutions), max_number_per_cell)\n",
    "volume_cell = dz * system_shape[0]/resolutions[0] * system_shape[1]/resolutions[1]\n",
    "\n",
    "# Density of the gas\n",
    "density = 3.2e19 # m-3\n",
    "n_simu = mean_number_per_cell*np.prod(resolutions) # number of particles in the simulated system\n",
    "n_real = volume_cell * density * np.prod(resolutions) # number of particles in the real system\n",
    "mr = n_real/n_simu # macro particules ratio = number of particles in the real system / number of macro part in the simulated system\n",
    "density_dsmc = density/mr\n",
    "\n",
    "# Particles\n",
    "part_type = 'I'\n",
    "charge, mass, radius = 0, get_mass_part(53, 53, 74), 2e-10\n",
    "\n",
    "# Array\n",
    "size_array = mean_number_per_cell*np.prod(resolutions) # 2* # we take exactly the right size\n",
    "print(f'Number of particles : {size_array}')\n",
    "\n",
    "temperature = 300 # K\n",
    "loc = 0\n",
    "vel_std = gaussian(temperature, mass)\n",
    "x = np.random.uniform(low = extremal_values['min_x'], high = extremal_values['max_x'], size = size_array)\n",
    "y = np.random.uniform(low = extremal_values['min_y'], high = extremal_values['max_y'], size = size_array)\n",
    "vx = np.random.normal(loc=0.0, scale=vel_std, size = size_array)\n",
    "vy = np.random.normal(loc=0.0, scale=vel_std, size = size_array)\n",
    "vz = np.random.normal(loc=0.0, scale=vel_std, size = size_array)\n",
    "arr = np.stack((x,y,vx,vy,vz), axis = 1) \n",
    "v_mean = np.mean(np.linalg.norm(arr[:,2:], axis = 1))\n",
    "\n",
    "arr_copy = np.copy(arr)\n",
    "\n",
    "container = ld.data_structures.Particle(part_type, charge, mass, radius, size_array)\n",
    "container.add_multiple(arr)\n",
    "cross_section = container.get_params()[3]\n",
    "\n",
    "# Energy in the system :\n",
    "nrj = energy(arr, mass)\n",
    "\n",
    "print(f'Energy in the system : {nrj} J')\n",
    "T_exp = (2*nrj/size_array)/(3*BOLTZMAN_CONSTANT)\n",
    "print(f'Should relax toward the temperature : {T_exp} K')"
   ]
  },
  {
   "cell_type": "code",
   "execution_count": null,
   "id": "3782f46a-6660-4c2d-b261-35bbb6af7a4b",
   "metadata": {},
   "outputs": [],
   "source": [
    "# Simulation params\n",
    "iterations = 1000\n",
    "dt = 1e-5 # in sec, should be a fraction of the mean free time\n",
    "    \n",
    "# saving params\n",
    "saving_period = 10\n",
    "adding_period = 1\n",
    "\n",
    "# advection\n",
    "def f(arr, dt):\n",
    "    return np.zeros(shape = (arr.shape[0], 3))\n",
    "\n",
    "args = []\n",
    "scheme = euler_explicit"
   ]
  },
  {
   "cell_type": "code",
   "execution_count": null,
   "id": "bc40ffec",
   "metadata": {},
   "outputs": [],
   "source": [
    "# NAME tests\n",
    "from pathlib import Path\n",
    "\n",
    "dir_path = Path('results/benchmark/')\n",
    "name = 'collisions.h5'\n",
    "\n",
    "saver = Saver(dir_path, name)\n"
   ]
  },
  {
   "cell_type": "code",
   "execution_count": null,
   "id": "22a11413-1ab9-4aa1-95e6-9031053c532b",
   "metadata": {},
   "outputs": [],
   "source": [
    "from time import time"
   ]
  },
  {
   "cell_type": "code",
   "execution_count": null,
   "id": "165ef645",
   "metadata": {},
   "outputs": [],
   "source": [
    "df = pd.DataFrame(columns = ['x','y','vx','vy','vz']) # bucket for the particles - index of particles is the iteration number\n",
    "\n",
    "# defining useful arrays and ints \n",
    "remains = 0 # fractionnal part of the number of particles to inject (it is then passed to the following time step)\n",
    "averages = np.full(shape = grid.current.shape, fill_value = mean_number_per_cell) # average number of particles per cell\n",
    "pmax = 2*v_mean*cross_section*np.ones(averages.shape) # max proba per cell in the simu\n",
    "remains_per_cell = np.zeros(shape = grid.current.shape, dtype = float) # remains per cell for the particles collisions step\n",
    "\n",
    "# SIMULATING\n",
    "print('|{:^10}|{:^10}|{:^10}|{:^10}|{:^10}|'.format(' it ', ' INIT ', ' INJECT ', ' DEL ', ' TRY'))\n",
    "print('{:-^56}'.format(''))\n",
    "\n",
    "for it in range(iterations): # tqdm\n",
    "\n",
    "    n1 = container.get_current()\n",
    "                   \n",
    "    # injecting particles - no injection\n",
    "    # new, remains = inject(in_wall, in_vect, debit, vel_std, radius, dt, remains)\n",
    "    # container.add_multiple(new)\n",
    "                   \n",
    "    n2 = container.get_current()-n1\n",
    "    \n",
    "    # PHASE : ADVECTING\n",
    "        # MOVING PARTICLES\n",
    "    arr = container.get_particles()\n",
    "    \n",
    "    if(it%adding_period == 0):\n",
    "        df = df.append(pd.DataFrame(data=arr, index=[it]*arr.shape[0], columns = ['x','y','vx','vy','vz']))\n",
    "    \n",
    "    advect(arr, f, dt, args, scheme) # advect is inplace\n",
    "    \n",
    "        # HANDLING BOUNDARIES \n",
    "    count = np.full(fill_value = True, shape = arr.shape[0])\n",
    "    idxes_out = []\n",
    "    c = 0\n",
    "    while(np.sum(count, where = count == True) > 0):\n",
    "        c+=1\n",
    "        ct, cp = handler_wall_collision_point(arr[count], segments, a) # handler_wall_collision(arr[count], segments, a, radius)\n",
    "        count, idxes_out_ = make_collisions_out_walls(arr, a, ct, cp, idx_out_walls, count) # idxes_out : indexes of the particles (in arr) that got out of the system\n",
    "        idxes_out.append(idxes_out_)\n",
    "    \n",
    "    idxes_out = np.concatenate(idxes_out)\n",
    "    \n",
    "    # TODO : make delete multiple better - currently the function creates a new array where as we can do it inplace.\n",
    "    container.delete_multiple(idxes_out)\n",
    "    \n",
    "    arr = container.get_particles()\n",
    "    \n",
    "    # PHASE : COLLISIONS\n",
    "        # UPDATING GRID - HARD RESET\n",
    "        # TODO : change the way it's done\n",
    "    grid.reset()\n",
    "    positions = pos_in_grid(arr[:,:2], resolutions, offsets, system_shape)\n",
    "    particles = convert_to_grid_datatype(positions, new = positions.shape[0])\n",
    "    grid.add_multiple(particles)\n",
    "        \n",
    "        # DSMC\n",
    "        # TODO: make parallel\n",
    "    currents = grid.get_currents()\n",
    "    averages = (it*averages+currents)/(it+1) # may be it too violent ? \n",
    "    \n",
    "    remains_per_cell, nb_colls, pmax, monitor = handler_particles_collisions([arr], grid.get_grid(), currents, dt, averages, pmax, cross_section, volume_cell, mr, remains_per_cell, monitoring = True)\n",
    "    # PLOTTING AND SAVING (OPTIONAL)\n",
    "    if(it%saving_period==0 or it == iterations-1): # saving if last iterations too\n",
    "        saver.save(it = it, append = {\n",
    "                        'df' : df,\n",
    "                        'collisions_per_cell' : nb_colls, # evolution of the number of collisions per cell - size : grid.shape[0] x grid.shape[1] (2D)\n",
    "                        'total_distance' : float(monitor[0]), # evolution of the sum of the distance accross all cells \n",
    "                        'total_proba' : float(monitor[1]), # evolution of the sum of proba accross all cells\n",
    "                        'pmax_per_cell' : pmax,  # evolution of the sum of pmax - per cell (2D)\n",
    "                        'total_deleted' : len(idxes_out), # evolution of the number of deleted particles per cell (int)\n",
    "                        'averages_per_cell' : averages\n",
    "                 })\n",
    "        \n",
    "        # resetting dataframe to not use too much memory\n",
    "        df = pd.DataFrame(columns = ['x','y','vx','vy','vz']) \n",
    "        print('|{:^10}|{:^10}|{:^10}|{:^10}|{:^10}|'.format(it, n1, n2, idxes_out.shape[0], c))\n",
    "\n",
    "saver.close()"
   ]
  },
  {
   "cell_type": "markdown",
   "id": "2dc0e249-51ca-4d0c-b5d3-75cde3e989c9",
   "metadata": {},
   "source": [
    "# Analysis"
   ]
  },
  {
   "cell_type": "code",
   "execution_count": null,
   "id": "b8d2e000-b2be-43ee-972f-480228538c98",
   "metadata": {
    "tags": []
   },
   "outputs": [],
   "source": [
    "%matplotlib widget\n",
    "\n",
    "import pandas as pd\n",
    "import numpy as np\n",
    "import matplotlib.pyplot as plt\n",
    "from pathlib import Path\n",
    "from src.data import Saver\n",
    "from src.plotting import analysis\n",
    "\n",
    "dir_path = Path('results/benchmark/')\n",
    "name = 'thermalization.h5'\n",
    "\n",
    "store = pd.HDFStore(dir_path/name)"
   ]
  },
  {
   "cell_type": "code",
   "execution_count": null,
   "id": "3572a47d-ec52-4488-81da-649bec224898",
   "metadata": {},
   "outputs": [],
   "source": [
    "collisions_per_cell = store['collisions_per_cell'] \n",
    "nb_collisions_per_cell = collisions_per_cell.groupby(collisions_per_cell.index).sum()\n",
    "df = store['df']\n",
    "pmax_per_cell = store['pmax_per_cell']\n",
    "total_deleted = store['total_deleted']\n",
    "total_distance = store['total_distance']\n",
    "total_proba = store['total_proba']"
   ]
  },
  {
   "cell_type": "code",
   "execution_count": null,
   "id": "53807eaf",
   "metadata": {},
   "outputs": [],
   "source": [
    "nu_c = collision_frequency_th_T(T = T_exp, m = mass, d=2*radius, n = density)\n",
    "simu_time = iterations*dt\n",
    "volume_system = np.prod(resolutions)*volume_cell"
   ]
  },
  {
   "cell_type": "code",
   "execution_count": null,
   "id": "36c76a99",
   "metadata": {},
   "outputs": [],
   "source": [
    "collisions_nb = np.sum(nb_collisions_per_cell)\n",
    "print('Total number of collision : {:e}'.format(collisions_nb));\n",
    "print('Equivalent in reality : {:e}'.format(mr*collisions_nb))\n",
    "print('Expected number of collisions in reality : {:e}'.format(nu_c*simu_time*volume_system))"
   ]
  },
  {
   "cell_type": "code",
   "execution_count": null,
   "id": "ea153458",
   "metadata": {},
   "outputs": [],
   "source": [
    "fig, ax = plt.subplots()\n",
    "# number of collisions - evolution\n",
    "plt.plot(nb_collisions_per_cell.index, nb_collisions_per_cell);"
   ]
  },
  {
   "cell_type": "code",
   "execution_count": null,
   "id": "feb60a26-a706-4f90-8894-395264e4abe3",
   "metadata": {},
   "outputs": [],
   "source": [
    "collisions_per_cell.size"
   ]
  },
  {
   "cell_type": "code",
   "execution_count": null,
   "id": "137cbc20",
   "metadata": {},
   "outputs": [],
   "source": [
    "print('Number of collision per cell : \\n');\n",
    "nb_cells = collisions_per_cell[0].size # number of cells\n",
    "nb_save = collisions_per_cell.size\n",
    "S = []\n",
    "for k in range(nb_cells):\n",
    "    s = 0\n",
    "    for i in range(k, nb_save, nb_cells):\n",
    "        s += collisions_per_cell.iloc[i]\n",
    "    S.append(s)\n",
    "print(S)"
   ]
  },
  {
   "cell_type": "code",
   "execution_count": null,
   "id": "f44970c3",
   "metadata": {},
   "outputs": [],
   "source": [
    "proba = total_proba/nb_collisions_per_cell\n",
    "dist = total_distance/nb_collisions_per_cell\n",
    "print('Mean proba : {:e}'.format(np.mean(proba)))\n",
    "print('Mean distance : {:e} m'.format(np.mean(dist)))\n",
    "\n",
    "fig, ax = plt.subplots(2)\n",
    "ax[0].plot(proba.index, proba, label = 'proba')\n",
    "ax[1].plot(dist.index, dist, label = 'distance');"
   ]
  },
  {
   "cell_type": "code",
   "execution_count": null,
   "id": "b8af9c80-d03a-42ee-9f2d-3e3a0573a3ce",
   "metadata": {},
   "outputs": [],
   "source": []
  }
 ],
 "metadata": {
  "kernelspec": {
   "display_name": "Python 3",
   "language": "python",
   "name": "python3"
  },
  "language_info": {
   "codemirror_mode": {
    "name": "ipython",
    "version": 3
   },
   "file_extension": ".py",
   "mimetype": "text/x-python",
   "name": "python",
   "nbconvert_exporter": "python",
   "pygments_lexer": "ipython3",
   "version": "3.7.10"
  }
 },
 "nbformat": 4,
 "nbformat_minor": 5
}
