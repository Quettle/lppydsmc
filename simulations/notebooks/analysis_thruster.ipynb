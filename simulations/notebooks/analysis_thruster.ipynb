{
 "cells": [
  {
   "cell_type": "code",
   "execution_count": 1,
   "id": "smart-transport",
   "metadata": {},
   "outputs": [],
   "source": [
    "%matplotlib widget\n",
    "import pandas as pd\n",
    "import numpy as np\n",
    "\n",
    "from pathlib import Path\n",
    "\n",
    "import matplotlib.pyplot as plt\n",
    "import seaborn as sns\n",
    "\n",
    "# local import\n",
    "import lppydsmc as ld"
   ]
  },
  {
   "cell_type": "code",
   "execution_count": 2,
   "id": "recorded-temperature",
   "metadata": {},
   "outputs": [],
   "source": [
    "dir_path = Path('../../../lppydsmc/simulations/results').resolve()"
   ]
  },
  {
   "cell_type": "code",
   "execution_count": 3,
   "id": "massive-handling",
   "metadata": {},
   "outputs": [],
   "source": [
    "name_simulation = 'thruster_two_grids_background_gas' # 'thruster_two_grids_neutrals' # thruster_two_grids thruster_three_grids_neutrals thruster_three_grids"
   ]
  },
  {
   "cell_type": "code",
   "execution_count": 4,
   "id": "successful-midnight",
   "metadata": {},
   "outputs": [
    {
     "name": "stdout",
     "output_type": "stream",
     "text": [
      "['/fluxes', '/out_particles', '/particles', '/wall_collisions']\n"
     ]
    }
   ],
   "source": [
    "store = pd.HDFStore(dir_path/Path(name_simulation)/'monitoring.h5')\n",
    "print(store.keys())"
   ]
  },
  {
   "cell_type": "markdown",
   "id": "copyrighted-duncan",
   "metadata": {},
   "source": [
    "# Parameters of the simulation\n",
    "\n",
    "If you used the option `-s` (or `save`) when launching the simulation, it can be found under `<dir_path>/<name_simulation>/params.ini`."
   ]
  },
  {
   "cell_type": "code",
   "execution_count": 5,
   "id": "rubber-gilbert",
   "metadata": {},
   "outputs": [],
   "source": [
    "time_step = 1e-07\n",
    "steps_between_savings = 4\n",
    "dsmc_grid_shape = np.array([16,5], dtype = int)\n",
    "offsets = np.array([0,0])\n",
    "system_size = np.array([0.016,0.005])\n",
    "dx = dy = dz = 0.001\n",
    "cell_volume = dx*dy*dz\n",
    "particles_weight = 320000 # 32000000"
   ]
  },
  {
   "cell_type": "markdown",
   "id": "compact-walter",
   "metadata": {},
   "source": [
    "# Analysis of the results\n",
    "\n",
    "First, we will simply focus on getting the density and velocity functions out to launch on background gas a better simulation."
   ]
  },
  {
   "cell_type": "code",
   "execution_count": 6,
   "id": "tired-turning",
   "metadata": {},
   "outputs": [],
   "source": [
    "df_particles = store['particles']"
   ]
  },
  {
   "cell_type": "code",
   "execution_count": 7,
   "id": "distant-adams",
   "metadata": {},
   "outputs": [
    {
     "name": "stdout",
     "output_type": "stream",
     "text": [
      "1         71\n",
      "4        285\n",
      "8        570\n",
      "12       839\n",
      "16       928\n",
      "        ... \n",
      "984     1080\n",
      "988     1072\n",
      "992     1076\n",
      "996     1083\n",
      "1000    1071\n",
      "Name: species, Length: 251, dtype: int64\n"
     ]
    }
   ],
   "source": [
    "evo_nb_particles = df_particles['species'].groupby(df_particles.index).count()\n",
    "print(evo_nb_particles)"
   ]
  },
  {
   "cell_type": "code",
   "execution_count": 8,
   "id": "understood-overhead",
   "metadata": {},
   "outputs": [
    {
     "data": {
      "application/vnd.jupyter.widget-view+json": {
       "model_id": "270eaf05cf26438c93ce514334f759e3",
       "version_major": 2,
       "version_minor": 0
      },
      "text/plain": [
       "Canvas(toolbar=Toolbar(toolitems=[('Home', 'Reset original view', 'home', 'home'), ('Back', 'Back to previous …"
      ]
     },
     "metadata": {},
     "output_type": "display_data"
    }
   ],
   "source": [
    "fig, ax = plt.subplots(constrained_layout = True)\n",
    "ax.plot(evo_nb_particles.index*time_step, evo_nb_particles)\n",
    "ax.set_xlabel('time (s)')\n",
    "ax.set_ylabel('Number of particles');"
   ]
  },
  {
   "cell_type": "markdown",
   "id": "divine-detector",
   "metadata": {},
   "source": [
    "The previous figure shows at what point we are arriving in a more steady state."
   ]
  },
  {
   "cell_type": "code",
   "execution_count": 9,
   "id": "gorgeous-ability",
   "metadata": {},
   "outputs": [],
   "source": [
    "steady_state = int(2e-5/time_step)\n",
    "# df_particles_steady = df_particles[df_particles.index > steady_state]"
   ]
  },
  {
   "cell_type": "markdown",
   "id": "demographic-muscle",
   "metadata": {},
   "source": [
    "At this point, the goal is simply to create *density* and *dynamic* functions from the results in steady flow. \n",
    "To start with, we will select a mesh (in practice we use the same as for the DSMC), compute the values and interpolate them in a function that we save for later use."
   ]
  },
  {
   "cell_type": "code",
   "execution_count": 10,
   "id": "handled-publication",
   "metadata": {},
   "outputs": [],
   "source": [
    "interpolate = False\n",
    "if(interpolate):\n",
    "    X, Y, density_arr, dynamic_arr = ld.background_gas.interpolate.interpolate(df_particles, offsets, dsmc_grid_shape, system_size, cell_volume, particles_weight, steady_state = steady_state)\n",
    "    np.save('gas_density_arr_{}.npy'.format(name_simulation), density_arr, allow_pickle = True)\n",
    "    np.save('gas_dynamic_arr_{}.npy'.format(name_simulation), dynamic_arr, allow_pickle = True)\n",
    "    np.save('x_arr_{}.npy'.format(name_simulation), X, allow_pickle = True)\n",
    "    np.save('y_arr_{}.npy'.format(name_simulation), Y, allow_pickle = True)\n",
    "    # ld.background_gas.interpolate.read_interpolation()"
   ]
  },
  {
   "cell_type": "code",
   "execution_count": 19,
   "id": "outdoor-language",
   "metadata": {},
   "outputs": [],
   "source": []
  },
  {
   "cell_type": "markdown",
   "id": "persistent-biodiversity",
   "metadata": {},
   "source": [
    "## Check output thruster"
   ]
  },
  {
   "cell_type": "code",
   "execution_count": 17,
   "id": "continent-simulation",
   "metadata": {},
   "outputs": [],
   "source": [
    "df_out = store['out_particles'] # df particles should be updated at every frame ... but anyway"
   ]
  },
  {
   "cell_type": "code",
   "execution_count": 13,
   "id": "planned-collector",
   "metadata": {},
   "outputs": [
    {
     "data": {
      "text/html": [
       "<div>\n",
       "<style scoped>\n",
       "    .dataframe tbody tr th:only-of-type {\n",
       "        vertical-align: middle;\n",
       "    }\n",
       "\n",
       "    .dataframe tbody tr th {\n",
       "        vertical-align: top;\n",
       "    }\n",
       "\n",
       "    .dataframe thead th {\n",
       "        text-align: right;\n",
       "    }\n",
       "</style>\n",
       "<table border=\"1\" class=\"dataframe\">\n",
       "  <thead>\n",
       "    <tr style=\"text-align: right;\">\n",
       "      <th></th>\n",
       "      <th>x</th>\n",
       "      <th>y</th>\n",
       "      <th>vx</th>\n",
       "      <th>vy</th>\n",
       "      <th>vz</th>\n",
       "      <th>species</th>\n",
       "    </tr>\n",
       "  </thead>\n",
       "  <tbody>\n",
       "    <tr>\n",
       "      <th>12</th>\n",
       "      <td>-0.000371</td>\n",
       "      <td>0.003926</td>\n",
       "      <td>-6698.941273</td>\n",
       "      <td>-819.996187</td>\n",
       "      <td>797.790037</td>\n",
       "      <td>0.0</td>\n",
       "    </tr>\n",
       "    <tr>\n",
       "      <th>12</th>\n",
       "      <td>-0.000286</td>\n",
       "      <td>0.000937</td>\n",
       "      <td>-6569.134074</td>\n",
       "      <td>735.507669</td>\n",
       "      <td>-3.435215</td>\n",
       "      <td>0.0</td>\n",
       "    </tr>\n",
       "    <tr>\n",
       "      <th>12</th>\n",
       "      <td>-0.000147</td>\n",
       "      <td>0.001488</td>\n",
       "      <td>-6609.413279</td>\n",
       "      <td>1406.166849</td>\n",
       "      <td>-205.416170</td>\n",
       "      <td>0.0</td>\n",
       "    </tr>\n",
       "    <tr>\n",
       "      <th>12</th>\n",
       "      <td>-0.000096</td>\n",
       "      <td>0.004890</td>\n",
       "      <td>-6677.381557</td>\n",
       "      <td>-449.168556</td>\n",
       "      <td>-138.178526</td>\n",
       "      <td>0.0</td>\n",
       "    </tr>\n",
       "    <tr>\n",
       "      <th>12</th>\n",
       "      <td>-0.000103</td>\n",
       "      <td>0.003390</td>\n",
       "      <td>-6661.864690</td>\n",
       "      <td>-1594.947177</td>\n",
       "      <td>436.379528</td>\n",
       "      <td>0.0</td>\n",
       "    </tr>\n",
       "  </tbody>\n",
       "</table>\n",
       "</div>"
      ],
      "text/plain": [
       "           x         y           vx           vy          vz  species\n",
       "12 -0.000371  0.003926 -6698.941273  -819.996187  797.790037      0.0\n",
       "12 -0.000286  0.000937 -6569.134074   735.507669   -3.435215      0.0\n",
       "12 -0.000147  0.001488 -6609.413279  1406.166849 -205.416170      0.0\n",
       "12 -0.000096  0.004890 -6677.381557  -449.168556 -138.178526      0.0\n",
       "12 -0.000103  0.003390 -6661.864690 -1594.947177  436.379528      0.0"
      ]
     },
     "execution_count": 13,
     "metadata": {},
     "output_type": "execute_result"
    }
   ],
   "source": [
    "df_out.head()"
   ]
  },
  {
   "cell_type": "code",
   "execution_count": 14,
   "id": "current-driving",
   "metadata": {},
   "outputs": [
    {
     "data": {
      "text/html": [
       "<div>\n",
       "<style scoped>\n",
       "    .dataframe tbody tr th:only-of-type {\n",
       "        vertical-align: middle;\n",
       "    }\n",
       "\n",
       "    .dataframe tbody tr th {\n",
       "        vertical-align: top;\n",
       "    }\n",
       "\n",
       "    .dataframe thead th {\n",
       "        text-align: right;\n",
       "    }\n",
       "</style>\n",
       "<table border=\"1\" class=\"dataframe\">\n",
       "  <thead>\n",
       "    <tr style=\"text-align: right;\">\n",
       "      <th></th>\n",
       "      <th>x</th>\n",
       "      <th>y</th>\n",
       "      <th>vx</th>\n",
       "      <th>vy</th>\n",
       "      <th>vz</th>\n",
       "    </tr>\n",
       "    <tr>\n",
       "      <th>species</th>\n",
       "      <th></th>\n",
       "      <th></th>\n",
       "      <th></th>\n",
       "      <th></th>\n",
       "      <th></th>\n",
       "    </tr>\n",
       "  </thead>\n",
       "  <tbody>\n",
       "    <tr>\n",
       "      <th>0.0</th>\n",
       "      <td>15612</td>\n",
       "      <td>15612</td>\n",
       "      <td>15612</td>\n",
       "      <td>15612</td>\n",
       "      <td>15612</td>\n",
       "    </tr>\n",
       "    <tr>\n",
       "      <th>1.0</th>\n",
       "      <td>1871</td>\n",
       "      <td>1871</td>\n",
       "      <td>1871</td>\n",
       "      <td>1871</td>\n",
       "      <td>1871</td>\n",
       "    </tr>\n",
       "  </tbody>\n",
       "</table>\n",
       "</div>"
      ],
      "text/plain": [
       "             x      y     vx     vy     vz\n",
       "species                                   \n",
       "0.0      15612  15612  15612  15612  15612\n",
       "1.0       1871   1871   1871   1871   1871"
      ]
     },
     "execution_count": 14,
     "metadata": {},
     "output_type": "execute_result"
    }
   ],
   "source": [
    "df_out.groupby('species').count()"
   ]
  },
  {
   "cell_type": "code",
   "execution_count": 20,
   "id": "minimal-realtor",
   "metadata": {},
   "outputs": [
    {
     "data": {
      "text/html": [
       "<div>\n",
       "<style scoped>\n",
       "    .dataframe tbody tr th:only-of-type {\n",
       "        vertical-align: middle;\n",
       "    }\n",
       "\n",
       "    .dataframe tbody tr th {\n",
       "        vertical-align: top;\n",
       "    }\n",
       "\n",
       "    .dataframe thead th {\n",
       "        text-align: right;\n",
       "    }\n",
       "</style>\n",
       "<table border=\"1\" class=\"dataframe\">\n",
       "  <thead>\n",
       "    <tr style=\"text-align: right;\">\n",
       "      <th></th>\n",
       "      <th>x</th>\n",
       "      <th>y</th>\n",
       "      <th>vx</th>\n",
       "      <th>vy</th>\n",
       "      <th>vz</th>\n",
       "    </tr>\n",
       "    <tr>\n",
       "      <th>species</th>\n",
       "      <th></th>\n",
       "      <th></th>\n",
       "      <th></th>\n",
       "      <th></th>\n",
       "      <th></th>\n",
       "    </tr>\n",
       "  </thead>\n",
       "  <tbody>\n",
       "    <tr>\n",
       "      <th>0.0</th>\n",
       "      <td>0.011746</td>\n",
       "      <td>0.002489</td>\n",
       "      <td>11405.530871</td>\n",
       "      <td>-41.798310</td>\n",
       "      <td>-4.769201</td>\n",
       "    </tr>\n",
       "    <tr>\n",
       "      <th>1.0</th>\n",
       "      <td>0.016674</td>\n",
       "      <td>0.002488</td>\n",
       "      <td>21061.246738</td>\n",
       "      <td>-23.876742</td>\n",
       "      <td>24.776384</td>\n",
       "    </tr>\n",
       "  </tbody>\n",
       "</table>\n",
       "</div>"
      ],
      "text/plain": [
       "                x         y            vx         vy         vz\n",
       "species                                                        \n",
       "0.0      0.011746  0.002489  11405.530871 -41.798310  -4.769201\n",
       "1.0      0.016674  0.002488  21061.246738 -23.876742  24.776384"
      ]
     },
     "execution_count": 20,
     "metadata": {},
     "output_type": "execute_result"
    }
   ],
   "source": [
    "df_out.groupby('species').mean()"
   ]
  },
  {
   "cell_type": "markdown",
   "id": "specific-iraqi",
   "metadata": {},
   "source": [
    "## Particles collisions with walls"
   ]
  },
  {
   "cell_type": "code",
   "execution_count": 21,
   "id": "preliminary-diabetes",
   "metadata": {},
   "outputs": [],
   "source": [
    "df_wall_collisions = store['wall_collisions']"
   ]
  },
  {
   "cell_type": "code",
   "execution_count": 27,
   "id": "turned-above",
   "metadata": {},
   "outputs": [
    {
     "data": {
      "application/vnd.jupyter.widget-view+json": {
       "model_id": "75991cd55e6b4821a08a63e467d1217a",
       "version_major": 2,
       "version_minor": 0
      },
      "text/plain": [
       "Canvas(toolbar=Toolbar(toolitems=[('Home', 'Reset original view', 'home', 'home'), ('Back', 'Back to previous …"
      ]
     },
     "metadata": {},
     "output_type": "display_data"
    },
    {
     "data": {
      "text/plain": [
       "<AxesSubplot:xlabel='x', ylabel='y'>"
      ]
     },
     "execution_count": 27,
     "metadata": {},
     "output_type": "execute_result"
    }
   ],
   "source": [
    "fig, ax = plt.subplots(constrained_layout = True)\n",
    "sns.scatterplot(ax=ax, data = df_wall_collisions, x = 'x', y = 'y', hue = 'species', s = 0.3)"
   ]
  },
  {
   "cell_type": "code",
   "execution_count": null,
   "id": "balanced-duplicate",
   "metadata": {},
   "outputs": [],
   "source": []
  }
 ],
 "metadata": {
  "kernelspec": {
   "display_name": "Python 3",
   "language": "python",
   "name": "python3"
  },
  "language_info": {
   "codemirror_mode": {
    "name": "ipython",
    "version": 3
   },
   "file_extension": ".py",
   "mimetype": "text/x-python",
   "name": "python",
   "nbconvert_exporter": "python",
   "pygments_lexer": "ipython3",
   "version": "3.7.9"
  }
 },
 "nbformat": 4,
 "nbformat_minor": 5
}
