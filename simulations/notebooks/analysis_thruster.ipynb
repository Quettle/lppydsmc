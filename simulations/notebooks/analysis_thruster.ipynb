{
 "cells": [
  {
   "cell_type": "code",
   "execution_count": 1,
   "id": "backed-cleaning",
   "metadata": {},
   "outputs": [],
   "source": [
    "%matplotlib widget\n",
    "import pandas as pd\n",
    "import numpy as np\n",
    "\n",
    "from pathlib import Path\n",
    "\n",
    "import matplotlib.pyplot as plt\n",
    "import seaborn as sns\n",
    "\n",
    "# local import\n",
    "import lppydsmc as ld"
   ]
  },
  {
   "cell_type": "code",
   "execution_count": 2,
   "id": "rubber-divide",
   "metadata": {},
   "outputs": [],
   "source": [
    "dir_path = Path('../../../lppydsmc/simulations/results').resolve()"
   ]
  },
  {
   "cell_type": "code",
   "execution_count": 46,
   "id": "bacterial-headset",
   "metadata": {},
   "outputs": [],
   "source": [
    "name_simulation = 'thruster_two_grids_ions' # 'thruster_two_grids_neutrals' # thruster_two_grids thruster_three_grids_neutrals thruster_three_grids"
   ]
  },
  {
   "cell_type": "code",
   "execution_count": 47,
   "id": "cutting-accessory",
   "metadata": {},
   "outputs": [
    {
     "name": "stdout",
     "output_type": "stream",
     "text": [
      "['/fluxes', '/out_particles', '/particles', '/wall_collisions']\n"
     ]
    }
   ],
   "source": [
    "store = pd.HDFStore(dir_path/Path(name_simulation)/'monitoring.h5')\n",
    "print(store.keys())"
   ]
  },
  {
   "cell_type": "markdown",
   "id": "affiliated-scenario",
   "metadata": {},
   "source": [
    "# Parameters of the simulation\n",
    "\n",
    "If you used the option `-s` (or `save`) when launching the simulation, it can be found under `<dir_path>/<name_simulation>/params.ini`.\n",
    "\n",
    "**ADAPT THE FOLLOWING VALUES TO YOUR SIMULATION PARAMETERS.**"
   ]
  },
  {
   "cell_type": "code",
   "execution_count": 48,
   "id": "cardiac-resistance",
   "metadata": {},
   "outputs": [],
   "source": [
    "time_step = 1e-8\n",
    "steps_between_savings = 1\n",
    "dsmc_grid_shape = np.array([16,5], dtype = int)\n",
    "offsets = np.array([0,0])\n",
    "system_size = np.array([0.016,0.005])\n",
    "dx = dy = 1e-3\n",
    "dz = 0.001\n",
    "cell_volume = dx*dy*dz\n",
    "particles_weight = 320000"
   ]
  },
  {
   "cell_type": "markdown",
   "id": "automated-youth",
   "metadata": {},
   "source": [
    "# Analysis of the results\n",
    "\n",
    "First, we will simply focus on getting the density and velocity functions out to launch on background gas a better simulation."
   ]
  },
  {
   "cell_type": "code",
   "execution_count": 49,
   "id": "lesbian-fisher",
   "metadata": {},
   "outputs": [],
   "source": [
    "df_particles = store['particles']"
   ]
  },
  {
   "cell_type": "code",
   "execution_count": 50,
   "id": "favorite-basics",
   "metadata": {},
   "outputs": [],
   "source": [
    "df_particles['v'] = np.sqrt(df_particles['vx']**2+df_particles['vy']**2+df_particles['vz']**2)"
   ]
  },
  {
   "cell_type": "code",
   "execution_count": 51,
   "id": "circular-tuner",
   "metadata": {},
   "outputs": [
    {
     "data": {
      "application/vnd.jupyter.widget-view+json": {
       "model_id": "36b07882f97249a8a92f8ec318ff8f21",
       "version_major": 2,
       "version_minor": 0
      },
      "text/plain": [
       "Canvas(toolbar=Toolbar(toolitems=[('Home', 'Reset original view', 'home', 'home'), ('Back', 'Back to previous …"
      ]
     },
     "metadata": {},
     "output_type": "display_data"
    },
    {
     "data": {
      "text/plain": [
       "<AxesSubplot:xlabel='v', ylabel='Count'>"
      ]
     },
     "execution_count": 51,
     "metadata": {},
     "output_type": "execute_result"
    }
   ],
   "source": [
    "fig, ax = plt.subplots(2,2,constrained_layout = True)\n",
    "df = df_particles[(df_particles['x']>10e-3) & (df_particles.index * time_step > 4e-5)]\n",
    "sns.histplot(ax = ax[0,0], data = df, x = 'vx', color = 'r')\n",
    "sns.histplot(ax = ax[0,1], data = df, x = 'vy', color = 'g')\n",
    "sns.histplot(ax = ax[1,0], data = df, x = 'vz', color = 'b')\n",
    "sns.histplot(ax = ax[1,1], data = df, x = 'v', color = 'k')"
   ]
  },
  {
   "cell_type": "code",
   "execution_count": 52,
   "id": "metallic-broadway",
   "metadata": {},
   "outputs": [
    {
     "name": "stdout",
     "output_type": "stream",
     "text": [
      "1          7\n",
      "2         14\n",
      "3         21\n",
      "4         28\n",
      "5         35\n",
      "        ... \n",
      "9996     981\n",
      "9997     983\n",
      "9998     987\n",
      "9999     988\n",
      "10000    987\n",
      "Name: species, Length: 10000, dtype: int64\n"
     ]
    }
   ],
   "source": [
    "evo_nb_particles = df_particles['species'].groupby(df_particles.index).count()\n",
    "print(evo_nb_particles)"
   ]
  },
  {
   "cell_type": "code",
   "execution_count": 53,
   "id": "demonstrated-treaty",
   "metadata": {},
   "outputs": [
    {
     "data": {
      "application/vnd.jupyter.widget-view+json": {
       "model_id": "4a83794bddea411ea898c9158d113c56",
       "version_major": 2,
       "version_minor": 0
      },
      "text/plain": [
       "Canvas(toolbar=Toolbar(toolitems=[('Home', 'Reset original view', 'home', 'home'), ('Back', 'Back to previous …"
      ]
     },
     "metadata": {},
     "output_type": "display_data"
    }
   ],
   "source": [
    "fig, ax = plt.subplots(constrained_layout = True)\n",
    "ax.plot(evo_nb_particles.index*time_step, evo_nb_particles)\n",
    "ax.set_xlabel('time (s)')\n",
    "ax.set_ylabel('Number of particles');"
   ]
  },
  {
   "cell_type": "markdown",
   "id": "japanese-rebecca",
   "metadata": {},
   "source": [
    "The previous figure shows at what point we are arriving in a more steady state."
   ]
  },
  {
   "cell_type": "code",
   "execution_count": 54,
   "id": "metallic-cornwall",
   "metadata": {},
   "outputs": [],
   "source": [
    "steady_state = int(2e-5/time_step)\n",
    "# df_particles_steady = df_particles[df_particles.index > steady_state]"
   ]
  },
  {
   "cell_type": "markdown",
   "id": "balanced-cholesterol",
   "metadata": {},
   "source": [
    "At this point, the goal is simply to create *density* and *dynamic* functions from the results in steady flow. \n",
    "To start with, we will select a mesh (in practice we use the same as for the DSMC), compute the values and interpolate them in a function that we save for later use."
   ]
  },
  {
   "cell_type": "code",
   "execution_count": 11,
   "id": "attractive-persian",
   "metadata": {},
   "outputs": [],
   "source": [
    "interpolate = True\n",
    "if(interpolate):\n",
    "    X, Y, density_arr, dynamic_arr = ld.background_gas.interpolate.interpolate(df_particles, offsets, dsmc_grid_shape, system_size, cell_volume, particles_weight, steady_state = steady_state)\n",
    "    np.save('gas_density_arr_{}.npy'.format(name_simulation), density_arr, allow_pickle = True)\n",
    "    np.save('gas_dynamic_arr_{}.npy'.format(name_simulation), dynamic_arr, allow_pickle = True)\n",
    "    np.save('x_arr_{}.npy'.format(name_simulation), X, allow_pickle = True)\n",
    "    np.save('y_arr_{}.npy'.format(name_simulation), Y, allow_pickle = True)\n",
    "    # ld.background_gas.interpolate.read_interpolation()"
   ]
  },
  {
   "cell_type": "code",
   "execution_count": 12,
   "id": "present-journey",
   "metadata": {},
   "outputs": [],
   "source": [
    "# checking the value to make sure we don't have anything unwanted\n",
    "\n",
    "# TODO: the function is inverted !!!!!!! (should invert the axes I believe - Or I did something wrong ... I don't know)\n",
    "path_density_arr = 'gas_density_arr_{}.npy'.format(name_simulation) \n",
    "path_dynamic_arr = 'gas_dynamic_arr_{}.npy'.format(name_simulation)\n",
    "path_x = 'x_arr_{}.npy'.format(name_simulation)\n",
    "path_y = 'y_arr_{}.npy'.format(name_simulation)\n",
    "density_fn, dynamic_fn = ld.background_gas.interpolate.read_interpolation(path_x, path_y, path_density_arr, path_dynamic_arr)"
   ]
  },
  {
   "cell_type": "code",
   "execution_count": 16,
   "id": "unavailable-mayor",
   "metadata": {},
   "outputs": [],
   "source": [
    "X, Y = np.linspace(0,16e-3,100), np.linspace(0,5e-3,25)\n",
    "Z_dynamic = np.zeros((Y.shape[0],X.shape[0],3)) # this one is random ! (and this is not strictly speaking the one we are interested into)\n",
    "Z_density = np.zeros((Y.shape[0],X.shape[0]))\n",
    "for i, x in enumerate(X):\n",
    "    for j, y in enumerate(Y):\n",
    "        Z_dynamic[j,i,:] = dynamic_fn(np.array([x]),np.array([y]))[0]\n",
    "        Z_density[j,i] = density_fn(np.array([x]),np.array([y]))[0]"
   ]
  },
  {
   "cell_type": "code",
   "execution_count": 17,
   "id": "immediate-declaration",
   "metadata": {},
   "outputs": [
    {
     "data": {
      "application/vnd.jupyter.widget-view+json": {
       "model_id": "b58d9e4c633142b6985e1618fb8bff62",
       "version_major": 2,
       "version_minor": 0
      },
      "text/plain": [
       "Canvas(toolbar=Toolbar(toolitems=[('Home', 'Reset original view', 'home', 'home'), ('Back', 'Back to previous …"
      ]
     },
     "metadata": {},
     "output_type": "display_data"
    }
   ],
   "source": [
    "%matplotlib widget\n",
    "from mpl_toolkits.mplot3d import Axes3D\n",
    "import matplotlib.pyplot as plt\n",
    "from matplotlib import cm\n",
    "from matplotlib.ticker import LinearLocator, FormatStrFormatter\n",
    "import numpy as np\n",
    "\n",
    "fig = plt.figure()\n",
    "ax = fig.gca(projection='3d')\n",
    "\n",
    "# Make data.\n",
    "X, Y = np.meshgrid(X, Y)\n",
    "vmax = np.max(Z_density)\n",
    "vmin = np.min(Z_density)\n",
    "# Plot the surface.\n",
    "midpoint = 1 - vmax / (vmax + abs(vmin))\n",
    "orig_cmap = cm.coolwarm\n",
    "shifted_cmap = shiftedColorMap(orig_cmap, midpoint=midpoint, name='shifted')\n",
    "\n",
    "surf = ax.plot_surface(X, Y, Z_density, cmap=shifted_cmap,\n",
    "                       linewidth=0, antialiased=False)\n",
    "\n",
    "# Customize the z axis.\n",
    "# ax.zaxis.set_major_locator(LinearLocator(10))\n",
    "# ax.zaxis.set_major_formatter(FormatStrFormatter('%.02f'))\n",
    "# Add a color bar which maps values to colors.\n",
    "fig.colorbar(surf, shrink=0.5, aspect=5)\n",
    "plt.show()"
   ]
  },
  {
   "cell_type": "code",
   "execution_count": 15,
   "id": "loaded-captain",
   "metadata": {},
   "outputs": [],
   "source": [
    "import numpy as np\n",
    "import matplotlib\n",
    "import matplotlib.pyplot as plt\n",
    "from mpl_toolkits.axes_grid1 import AxesGrid\n",
    "\n",
    "def shiftedColorMap(cmap, start=0, midpoint=0.5, stop=1.0, name='shiftedcmap'):\n",
    "    '''\n",
    "    Function to offset the \"center\" of a colormap. Useful for\n",
    "    data with a negative min and positive max and you want the\n",
    "    middle of the colormap's dynamic range to be at zero.\n",
    "\n",
    "    Input\n",
    "    -----\n",
    "      cmap : The matplotlib colormap to be altered\n",
    "      start : Offset from lowest point in the colormap's range.\n",
    "          Defaults to 0.0 (no lower offset). Should be between\n",
    "          0.0 and `midpoint`.\n",
    "      midpoint : The new center of the colormap. Defaults to \n",
    "          0.5 (no shift). Should be between 0.0 and 1.0. In\n",
    "          general, this should be  1 - vmax / (vmax + abs(vmin))\n",
    "          For example if your data range from -15.0 to +5.0 and\n",
    "          you want the center of the colormap at 0.0, `midpoint`\n",
    "          should be set to  1 - 5/(5 + 15)) or 0.75\n",
    "      stop : Offset from highest point in the colormap's range.\n",
    "          Defaults to 1.0 (no upper offset). Should be between\n",
    "          `midpoint` and 1.0.\n",
    "    '''\n",
    "    cdict = {\n",
    "        'red': [],\n",
    "        'green': [],\n",
    "        'blue': [],\n",
    "        'alpha': []\n",
    "    }\n",
    "\n",
    "    # regular index to compute the colors\n",
    "    reg_index = np.linspace(start, stop, 257)\n",
    "\n",
    "    # shifted index to match the data\n",
    "    shift_index = np.hstack([\n",
    "        np.linspace(0.0, midpoint, 128, endpoint=False), \n",
    "        np.linspace(midpoint, 1.0, 129, endpoint=True)\n",
    "    ])\n",
    "\n",
    "    for ri, si in zip(reg_index, shift_index):\n",
    "        r, g, b, a = cmap(ri)\n",
    "\n",
    "        cdict['red'].append((si, r, r))\n",
    "        cdict['green'].append((si, g, g))\n",
    "        cdict['blue'].append((si, b, b))\n",
    "        cdict['alpha'].append((si, a, a))\n",
    "\n",
    "    newcmap = matplotlib.colors.LinearSegmentedColormap(name, cdict)\n",
    "    plt.register_cmap(cmap=newcmap)\n",
    "\n",
    "    return newcmap\n"
   ]
  },
  {
   "cell_type": "code",
   "execution_count": 42,
   "id": "figured-lancaster",
   "metadata": {},
   "outputs": [
    {
     "data": {
      "text/plain": [
       "(array([32, 32, 32, ..., 99, 99, 99]), array([ 6,  7,  8, ..., 91, 92, 93]))"
      ]
     },
     "execution_count": 42,
     "metadata": {},
     "output_type": "execute_result"
    }
   ],
   "source": [
    "np.where(Z_density<0)"
   ]
  },
  {
   "cell_type": "markdown",
   "id": "third-johns",
   "metadata": {},
   "source": [
    "## Check output thruster"
   ]
  },
  {
   "cell_type": "code",
   "execution_count": 55,
   "id": "infectious-wrestling",
   "metadata": {},
   "outputs": [],
   "source": [
    "df_out = store['out_particles'] # df particles should be updated at every frame ... but anyway"
   ]
  },
  {
   "cell_type": "code",
   "execution_count": 56,
   "id": "atomic-cotton",
   "metadata": {},
   "outputs": [],
   "source": [
    "df_out = df_out[df_out['x']>1e-3]"
   ]
  },
  {
   "cell_type": "code",
   "execution_count": 57,
   "id": "athletic-dubai",
   "metadata": {},
   "outputs": [
    {
     "data": {
      "text/html": [
       "<div>\n",
       "<style scoped>\n",
       "    .dataframe tbody tr th:only-of-type {\n",
       "        vertical-align: middle;\n",
       "    }\n",
       "\n",
       "    .dataframe tbody tr th {\n",
       "        vertical-align: top;\n",
       "    }\n",
       "\n",
       "    .dataframe thead th {\n",
       "        text-align: right;\n",
       "    }\n",
       "</style>\n",
       "<table border=\"1\" class=\"dataframe\">\n",
       "  <thead>\n",
       "    <tr style=\"text-align: right;\">\n",
       "      <th></th>\n",
       "      <th>x</th>\n",
       "      <th>y</th>\n",
       "      <th>vx</th>\n",
       "      <th>vy</th>\n",
       "      <th>vz</th>\n",
       "      <th>species</th>\n",
       "    </tr>\n",
       "  </thead>\n",
       "  <tbody>\n",
       "    <tr>\n",
       "      <th>129</th>\n",
       "      <td>0.016007</td>\n",
       "      <td>0.002651</td>\n",
       "      <td>20966.043247</td>\n",
       "      <td>2225.182062</td>\n",
       "      <td>403.717186</td>\n",
       "      <td>0.0</td>\n",
       "    </tr>\n",
       "    <tr>\n",
       "      <th>130</th>\n",
       "      <td>0.016110</td>\n",
       "      <td>0.002324</td>\n",
       "      <td>20959.543433</td>\n",
       "      <td>-2334.380589</td>\n",
       "      <td>-380.188825</td>\n",
       "      <td>0.0</td>\n",
       "    </tr>\n",
       "    <tr>\n",
       "      <th>130</th>\n",
       "      <td>0.016159</td>\n",
       "      <td>0.002122</td>\n",
       "      <td>21091.500830</td>\n",
       "      <td>1014.261344</td>\n",
       "      <td>322.332924</td>\n",
       "      <td>0.0</td>\n",
       "    </tr>\n",
       "    <tr>\n",
       "      <th>130</th>\n",
       "      <td>0.016166</td>\n",
       "      <td>0.002832</td>\n",
       "      <td>21074.841685</td>\n",
       "      <td>1000.237913</td>\n",
       "      <td>-323.362922</td>\n",
       "      <td>1.0</td>\n",
       "    </tr>\n",
       "    <tr>\n",
       "      <th>130</th>\n",
       "      <td>0.016022</td>\n",
       "      <td>0.002661</td>\n",
       "      <td>21072.378862</td>\n",
       "      <td>431.880745</td>\n",
       "      <td>434.604799</td>\n",
       "      <td>1.0</td>\n",
       "    </tr>\n",
       "  </tbody>\n",
       "</table>\n",
       "</div>"
      ],
      "text/plain": [
       "            x         y            vx           vy          vz  species\n",
       "129  0.016007  0.002651  20966.043247  2225.182062  403.717186      0.0\n",
       "130  0.016110  0.002324  20959.543433 -2334.380589 -380.188825      0.0\n",
       "130  0.016159  0.002122  21091.500830  1014.261344  322.332924      0.0\n",
       "130  0.016166  0.002832  21074.841685  1000.237913 -323.362922      1.0\n",
       "130  0.016022  0.002661  21072.378862   431.880745  434.604799      1.0"
      ]
     },
     "execution_count": 57,
     "metadata": {},
     "output_type": "execute_result"
    }
   ],
   "source": [
    "df_out.head()"
   ]
  },
  {
   "cell_type": "code",
   "execution_count": 58,
   "id": "suburban-title",
   "metadata": {},
   "outputs": [],
   "source": [
    "df_out_neutrals = df_out[df_out['species'] == 0.0]\n",
    "df_out_ions = df_out[df_out['species'] == 1.0]"
   ]
  },
  {
   "cell_type": "code",
   "execution_count": 59,
   "id": "intended-broadway",
   "metadata": {},
   "outputs": [
    {
     "data": {
      "application/vnd.jupyter.widget-view+json": {
       "model_id": "8284ab2ab40d4b2ea4916b44ad482755",
       "version_major": 2,
       "version_minor": 0
      },
      "text/plain": [
       "Canvas(toolbar=Toolbar(toolitems=[('Home', 'Reset original view', 'home', 'home'), ('Back', 'Back to previous …"
      ]
     },
     "metadata": {},
     "output_type": "display_data"
    }
   ],
   "source": [
    "groups_neutrals = df_out_neutrals.groupby(df_out_neutrals.index).count()\n",
    "groups_ions = df_out_ions.groupby(df_out_ions.index).count()\n",
    "fig, ax = plt.subplots(constrained_layout = True)\n",
    "bins = 20\n",
    "factor_neutrals =  bins/groups_neutrals.shape[0]\n",
    "factor_ions = bins/groups_ions.shape[0]\n",
    "ax.hist(groups_neutrals.index*time_step, weights = factor_neutrals*groups_neutrals['species'], bins = bins, histtype = 'step')\n",
    "ax.hist(groups_ions.index*time_step, weights = factor_ions*groups_ions['species'], bins = bins, histtype = 'step');"
   ]
  },
  {
   "cell_type": "code",
   "execution_count": 60,
   "id": "harmful-clarity",
   "metadata": {},
   "outputs": [
    {
     "data": {
      "text/html": [
       "<div>\n",
       "<style scoped>\n",
       "    .dataframe tbody tr th:only-of-type {\n",
       "        vertical-align: middle;\n",
       "    }\n",
       "\n",
       "    .dataframe tbody tr th {\n",
       "        vertical-align: top;\n",
       "    }\n",
       "\n",
       "    .dataframe thead th {\n",
       "        text-align: right;\n",
       "    }\n",
       "</style>\n",
       "<table border=\"1\" class=\"dataframe\">\n",
       "  <thead>\n",
       "    <tr style=\"text-align: right;\">\n",
       "      <th></th>\n",
       "      <th>x</th>\n",
       "      <th>y</th>\n",
       "      <th>vx</th>\n",
       "      <th>vy</th>\n",
       "      <th>vz</th>\n",
       "    </tr>\n",
       "    <tr>\n",
       "      <th>species</th>\n",
       "      <th></th>\n",
       "      <th></th>\n",
       "      <th></th>\n",
       "      <th></th>\n",
       "      <th></th>\n",
       "    </tr>\n",
       "  </thead>\n",
       "  <tbody>\n",
       "    <tr>\n",
       "      <th>0.0</th>\n",
       "      <td>42442</td>\n",
       "      <td>42442</td>\n",
       "      <td>42442</td>\n",
       "      <td>42442</td>\n",
       "      <td>42442</td>\n",
       "    </tr>\n",
       "    <tr>\n",
       "      <th>1.0</th>\n",
       "      <td>7573</td>\n",
       "      <td>7573</td>\n",
       "      <td>7573</td>\n",
       "      <td>7573</td>\n",
       "      <td>7573</td>\n",
       "    </tr>\n",
       "  </tbody>\n",
       "</table>\n",
       "</div>"
      ],
      "text/plain": [
       "             x      y     vx     vy     vz\n",
       "species                                   \n",
       "0.0      42442  42442  42442  42442  42442\n",
       "1.0       7573   7573   7573   7573   7573"
      ]
     },
     "execution_count": 60,
     "metadata": {},
     "output_type": "execute_result"
    }
   ],
   "source": [
    "df_out.groupby('species').count()"
   ]
  },
  {
   "cell_type": "code",
   "execution_count": 62,
   "id": "enclosed-publication",
   "metadata": {},
   "outputs": [
    {
     "data": {
      "text/plain": [
       "0.8215682578577824"
      ]
     },
     "execution_count": 62,
     "metadata": {},
     "output_type": "execute_result"
    }
   ],
   "source": [
    "1-7573/42442"
   ]
  },
  {
   "cell_type": "code",
   "execution_count": 61,
   "id": "superb-husband",
   "metadata": {},
   "outputs": [
    {
     "data": {
      "text/plain": [
       "0.8337501769619178"
      ]
     },
     "execution_count": 61,
     "metadata": {},
     "output_type": "execute_result"
    }
   ],
   "source": [
    "1-7046/42382"
   ]
  },
  {
   "cell_type": "code",
   "execution_count": 63,
   "id": "scientific-heater",
   "metadata": {},
   "outputs": [
    {
     "data": {
      "text/html": [
       "<div>\n",
       "<style scoped>\n",
       "    .dataframe tbody tr th:only-of-type {\n",
       "        vertical-align: middle;\n",
       "    }\n",
       "\n",
       "    .dataframe tbody tr th {\n",
       "        vertical-align: top;\n",
       "    }\n",
       "\n",
       "    .dataframe thead th {\n",
       "        text-align: right;\n",
       "    }\n",
       "</style>\n",
       "<table border=\"1\" class=\"dataframe\">\n",
       "  <thead>\n",
       "    <tr style=\"text-align: right;\">\n",
       "      <th></th>\n",
       "      <th>x</th>\n",
       "      <th>y</th>\n",
       "      <th>vx</th>\n",
       "      <th>vy</th>\n",
       "      <th>vz</th>\n",
       "    </tr>\n",
       "    <tr>\n",
       "      <th>species</th>\n",
       "      <th></th>\n",
       "      <th></th>\n",
       "      <th></th>\n",
       "      <th></th>\n",
       "      <th></th>\n",
       "    </tr>\n",
       "  </thead>\n",
       "  <tbody>\n",
       "    <tr>\n",
       "      <th>0.0</th>\n",
       "      <td>0.016102</td>\n",
       "      <td>0.002500</td>\n",
       "      <td>20217.771394</td>\n",
       "      <td>22.552055</td>\n",
       "      <td>0.531562</td>\n",
       "    </tr>\n",
       "    <tr>\n",
       "      <th>1.0</th>\n",
       "      <td>0.016108</td>\n",
       "      <td>0.002498</td>\n",
       "      <td>21078.482261</td>\n",
       "      <td>-4.985717</td>\n",
       "      <td>-9.193084</td>\n",
       "    </tr>\n",
       "  </tbody>\n",
       "</table>\n",
       "</div>"
      ],
      "text/plain": [
       "                x         y            vx         vy        vz\n",
       "species                                                       \n",
       "0.0      0.016102  0.002500  20217.771394  22.552055  0.531562\n",
       "1.0      0.016108  0.002498  21078.482261  -4.985717 -9.193084"
      ]
     },
     "execution_count": 63,
     "metadata": {},
     "output_type": "execute_result"
    }
   ],
   "source": [
    "df_out.groupby('species').mean()"
   ]
  },
  {
   "cell_type": "code",
   "execution_count": 64,
   "id": "wired-lesbian",
   "metadata": {},
   "outputs": [
    {
     "data": {
      "application/vnd.jupyter.widget-view+json": {
       "model_id": "5be4e6d746fe49bbb20e1d45c24cb54f",
       "version_major": 2,
       "version_minor": 0
      },
      "text/plain": [
       "Canvas(toolbar=Toolbar(toolitems=[('Home', 'Reset original view', 'home', 'home'), ('Back', 'Back to previous …"
      ]
     },
     "metadata": {},
     "output_type": "display_data"
    },
    {
     "data": {
      "text/plain": [
       "<AxesSubplot:xlabel='vx', ylabel='Count'>"
      ]
     },
     "execution_count": 64,
     "metadata": {},
     "output_type": "execute_result"
    }
   ],
   "source": [
    "fig, ax = plt.subplots()\n",
    "sns.histplot(data = df_out[df_out['vx']>18e3], x = 'vx', hue = 'species', bins = 100)\n",
    "# ax.set_yscale('log')"
   ]
  },
  {
   "cell_type": "markdown",
   "id": "square-ivory",
   "metadata": {},
   "source": [
    "## Particles collisions with walls"
   ]
  },
  {
   "cell_type": "code",
   "execution_count": 65,
   "id": "manufactured-senegal",
   "metadata": {},
   "outputs": [],
   "source": [
    "df_wall_collisions = store['wall_collisions']"
   ]
  },
  {
   "cell_type": "code",
   "execution_count": 66,
   "id": "lesser-isaac",
   "metadata": {},
   "outputs": [
    {
     "data": {
      "application/vnd.jupyter.widget-view+json": {
       "model_id": "545ed981c1a74c98b66eebf26f62d4d9",
       "version_major": 2,
       "version_minor": 0
      },
      "text/plain": [
       "Canvas(toolbar=Toolbar(toolitems=[('Home', 'Reset original view', 'home', 'home'), ('Back', 'Back to previous …"
      ]
     },
     "metadata": {},
     "output_type": "display_data"
    },
    {
     "data": {
      "text/plain": [
       "<seaborn.axisgrid.JointGrid at 0x7f3e801b7810>"
      ]
     },
     "execution_count": 66,
     "metadata": {},
     "output_type": "execute_result"
    }
   ],
   "source": [
    "# fig, ax = plt.subplots(constrained_layout = True)\n",
    "sns.jointplot(data = df_wall_collisions, x = 'x', y = 'y', hue = 'species', s = 0.3)\n",
    "# plt.legend(loc = 'lower center') \n",
    "# ax=ax, "
   ]
  },
  {
   "cell_type": "code",
   "execution_count": null,
   "id": "manufactured-affairs",
   "metadata": {},
   "outputs": [],
   "source": []
  },
  {
   "cell_type": "code",
   "execution_count": null,
   "id": "imported-survival",
   "metadata": {},
   "outputs": [],
   "source": []
  }
 ],
 "metadata": {
  "kernelspec": {
   "display_name": "Python 3",
   "language": "python",
   "name": "python3"
  },
  "language_info": {
   "codemirror_mode": {
    "name": "ipython",
    "version": 3
   },
   "file_extension": ".py",
   "mimetype": "text/x-python",
   "name": "python",
   "nbconvert_exporter": "python",
   "pygments_lexer": "ipython3",
   "version": "3.7.9"
  }
 },
 "nbformat": 4,
 "nbformat_minor": 5
}
