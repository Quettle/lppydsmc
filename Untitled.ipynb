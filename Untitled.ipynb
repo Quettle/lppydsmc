{
 "cells": [
  {
   "cell_type": "code",
   "execution_count": 1,
   "id": "beautiful-death",
   "metadata": {},
   "outputs": [],
   "source": [
    "import numpy as np"
   ]
  },
  {
   "cell_type": "code",
   "execution_count": 6,
   "id": "danish-directory",
   "metadata": {},
   "outputs": [],
   "source": [
    "grid = np.zeros((10,10,10))"
   ]
  },
  {
   "cell_type": "code",
   "execution_count": 8,
   "id": "nearby-arcade",
   "metadata": {},
   "outputs": [
    {
     "data": {
      "text/plain": [
       "array([0., 0., 0., 0., 0., 0., 0., 0., 0., 0.])"
      ]
     },
     "execution_count": 8,
     "metadata": {},
     "output_type": "execute_result"
    }
   ],
   "source": [
    "grid[(1,2)]"
   ]
  },
  {
   "cell_type": "code",
   "execution_count": 9,
   "id": "criminal-killer",
   "metadata": {},
   "outputs": [
    {
     "name": "stdout",
     "output_type": "stream",
     "text": [
      "<numpy.lib.index_tricks.ndenumerate object at 0x7fa35abf7050>\n"
     ]
    }
   ],
   "source": [
    "grid = np.zeros((3,2,2))\n"
   ]
  },
  {
   "cell_type": "code",
   "execution_count": 10,
   "id": "included-inflation",
   "metadata": {},
   "outputs": [
    {
     "name": "stdout",
     "output_type": "stream",
     "text": [
      "(0, 0, 0)\n",
      "(0, 0, 1)\n",
      "(0, 1, 0)\n",
      "(0, 1, 1)\n",
      "(1, 0, 0)\n",
      "(1, 0, 1)\n",
      "(1, 1, 0)\n",
      "(1, 1, 1)\n",
      "(2, 0, 0)\n",
      "(2, 0, 1)\n",
      "(2, 1, 0)\n",
      "(2, 1, 1)\n"
     ]
    }
   ],
   "source": [
    "for index, x in np.ndenumerate(grid):\n",
    "    print(index)"
   ]
  },
  {
   "cell_type": "code",
   "execution_count": 37,
   "id": "planned-finder",
   "metadata": {},
   "outputs": [],
   "source": [
    "pos = (-0.1,.3)\n",
    "offset = (0.0,0.1)\n",
    "res = (10,10)\n",
    "size = (3,3)\n",
    "new_pos = tuple([int(a*c/b) for a,b,c in zip(pos, size, res)])"
   ]
  },
  {
   "cell_type": "code",
   "execution_count": 38,
   "id": "emerging-geology",
   "metadata": {},
   "outputs": [
    {
     "data": {
      "text/plain": [
       "(0, 1)"
      ]
     },
     "execution_count": 38,
     "metadata": {},
     "output_type": "execute_result"
    }
   ],
   "source": [
    "new_pos"
   ]
  },
  {
   "cell_type": "code",
   "execution_count": 32,
   "id": "vulnerable-flash",
   "metadata": {},
   "outputs": [
    {
     "data": {
      "text/plain": [
       "0"
      ]
     },
     "execution_count": 32,
     "metadata": {},
     "output_type": "execute_result"
    }
   ],
   "source": [
    "int(-0.5)"
   ]
  },
  {
   "cell_type": "code",
   "execution_count": null,
   "id": "impossible-attachment",
   "metadata": {},
   "outputs": [],
   "source": []
  }
 ],
 "metadata": {
  "kernelspec": {
   "display_name": "Python 3",
   "language": "python",
   "name": "python3"
  },
  "language_info": {
   "codemirror_mode": {
    "name": "ipython",
    "version": 3
   },
   "file_extension": ".py",
   "mimetype": "text/x-python",
   "name": "python",
   "nbconvert_exporter": "python",
   "pygments_lexer": "ipython3",
   "version": "3.7.9"
  }
 },
 "nbformat": 4,
 "nbformat_minor": 5
}
