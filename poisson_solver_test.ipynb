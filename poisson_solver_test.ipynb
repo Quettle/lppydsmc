{
 "cells": [
  {
   "cell_type": "code",
   "execution_count": 1,
   "id": "f3fbb2f0-2e1f-401d-bb23-2246d7779959",
   "metadata": {},
   "outputs": [],
   "source": [
    "%matplotlib widget\n",
    "import lppydsmc.poisson_solver as ps\n",
    "import numpy as np\n",
    "from fenics import * # for plotting\n",
    "from plotting import analysis\n",
    "import os\n",
    "os.environ[\"MKL_NUM_THREADS\"] = \"1\" \n",
    "os.environ[\"NUMEXPR_NUM_THREADS\"] = \"1\" \n",
    "os.environ[\"OMP_NUM_THREADS\"] = \"1\" "
   ]
  },
  {
   "cell_type": "markdown",
   "id": "8c4c463c-1788-494d-92ef-cda9463f70cd",
   "metadata": {},
   "source": [
    "# A first example"
   ]
  },
  {
   "cell_type": "code",
   "execution_count": 2,
   "id": "9cc7ca49-50b3-4715-8e6d-5e146f2fd4fa",
   "metadata": {},
   "outputs": [],
   "source": [
    "in_vertices = np.array([[0,0],[1,0],[1,1],[0,1]]) \n",
    "out_vertices_list = [np.array([[0.25, 0.5],[0.5,0.25],[0.75,0.5],[0.5,0.75]])] # list of all polygones to remove\n",
    "mesh = ps.mesh.polygonal(resolution = 10, in_vertices = in_vertices, out_vertices_list = out_vertices_list)"
   ]
  },
  {
   "cell_type": "code",
   "execution_count": 10,
   "id": "42cda928-2102-402d-a64d-243045ef2a33",
   "metadata": {},
   "outputs": [
    {
     "ename": "AttributeError",
     "evalue": "'dolfin.cpp.mesh.Mesh' object has no attribute 'size'",
     "output_type": "error",
     "traceback": [
      "\u001b[0;31m---------------------------------------------------------------------------\u001b[0m",
      "\u001b[0;31mAttributeError\u001b[0m                            Traceback (most recent call last)",
      "\u001b[0;32m<ipython-input-10-a189c38b0dcf>\u001b[0m in \u001b[0;36m<module>\u001b[0;34m\u001b[0m\n\u001b[0;32m----> 1\u001b[0;31m \u001b[0mmesh\u001b[0m\u001b[0;34m.\u001b[0m\u001b[0msize\u001b[0m\u001b[0;34m\u001b[0m\u001b[0;34m\u001b[0m\u001b[0m\n\u001b[0m",
      "\u001b[0;31mAttributeError\u001b[0m: 'dolfin.cpp.mesh.Mesh' object has no attribute 'size'"
     ]
    }
   ],
   "source": [
    "mesh.size"
   ]
  },
  {
   "cell_type": "code",
   "execution_count": 3,
   "id": "aa7fc2e0-4030-4472-9738-6fe24bbd1725",
   "metadata": {},
   "outputs": [
    {
     "data": {
      "text/plain": [
       "dolfin.cpp.mesh.Mesh"
      ]
     },
     "execution_count": 3,
     "metadata": {},
     "output_type": "execute_result"
    }
   ],
   "source": [
    "type(mesh)"
   ]
  },
  {
   "cell_type": "code",
   "execution_count": 9,
   "id": "6dcff027-82f5-4b6a-ae74-ed38d0486725",
   "metadata": {},
   "outputs": [
    {
     "data": {
      "text/plain": [
       "'DOLFIN Mesh object'"
      ]
     },
     "execution_count": 9,
     "metadata": {},
     "output_type": "execute_result"
    }
   ],
   "source": [
    "mesh.__doc__"
   ]
  },
  {
   "cell_type": "code",
   "execution_count": 7,
   "id": "63a540f2-fe2f-4f89-b348-b14391cbd552",
   "metadata": {},
   "outputs": [
    {
     "ename": "TypeError",
     "evalue": "<dolfin.cpp.mesh.Mesh object at 0x7f0cd133d5f0> is not a callable object",
     "output_type": "error",
     "traceback": [
      "\u001b[0;31m---------------------------------------------------------------------------\u001b[0m",
      "\u001b[0;31mTypeError\u001b[0m                                 Traceback (most recent call last)",
      "\u001b[0;32m<ipython-input-7-71aee38a1e16>\u001b[0m in \u001b[0;36m<module>\u001b[0;34m\u001b[0m\n\u001b[1;32m      1\u001b[0m \u001b[0;32mimport\u001b[0m \u001b[0minspect\u001b[0m\u001b[0;34m\u001b[0m\u001b[0;34m\u001b[0m\u001b[0m\n\u001b[0;32m----> 2\u001b[0;31m \u001b[0minspect\u001b[0m\u001b[0;34m.\u001b[0m\u001b[0msignature\u001b[0m\u001b[0;34m(\u001b[0m\u001b[0mmesh\u001b[0m\u001b[0;34m)\u001b[0m\u001b[0;34m\u001b[0m\u001b[0;34m\u001b[0m\u001b[0m\n\u001b[0m",
      "\u001b[0;32m~/.conda/envs/NIRN/lib/python3.7/inspect.py\u001b[0m in \u001b[0;36msignature\u001b[0;34m(obj, follow_wrapped)\u001b[0m\n\u001b[1;32m   3081\u001b[0m \u001b[0;32mdef\u001b[0m \u001b[0msignature\u001b[0m\u001b[0;34m(\u001b[0m\u001b[0mobj\u001b[0m\u001b[0;34m,\u001b[0m \u001b[0;34m*\u001b[0m\u001b[0;34m,\u001b[0m \u001b[0mfollow_wrapped\u001b[0m\u001b[0;34m=\u001b[0m\u001b[0;32mTrue\u001b[0m\u001b[0;34m)\u001b[0m\u001b[0;34m:\u001b[0m\u001b[0;34m\u001b[0m\u001b[0;34m\u001b[0m\u001b[0m\n\u001b[1;32m   3082\u001b[0m     \u001b[0;34m\"\"\"Get a signature object for the passed callable.\"\"\"\u001b[0m\u001b[0;34m\u001b[0m\u001b[0;34m\u001b[0m\u001b[0m\n\u001b[0;32m-> 3083\u001b[0;31m     \u001b[0;32mreturn\u001b[0m \u001b[0mSignature\u001b[0m\u001b[0;34m.\u001b[0m\u001b[0mfrom_callable\u001b[0m\u001b[0;34m(\u001b[0m\u001b[0mobj\u001b[0m\u001b[0;34m,\u001b[0m \u001b[0mfollow_wrapped\u001b[0m\u001b[0;34m=\u001b[0m\u001b[0mfollow_wrapped\u001b[0m\u001b[0;34m)\u001b[0m\u001b[0;34m\u001b[0m\u001b[0;34m\u001b[0m\u001b[0m\n\u001b[0m\u001b[1;32m   3084\u001b[0m \u001b[0;34m\u001b[0m\u001b[0m\n\u001b[1;32m   3085\u001b[0m \u001b[0;34m\u001b[0m\u001b[0m\n",
      "\u001b[0;32m~/.conda/envs/NIRN/lib/python3.7/inspect.py\u001b[0m in \u001b[0;36mfrom_callable\u001b[0;34m(cls, obj, follow_wrapped)\u001b[0m\n\u001b[1;32m   2831\u001b[0m         \u001b[0;34m\"\"\"Constructs Signature for the given callable object.\"\"\"\u001b[0m\u001b[0;34m\u001b[0m\u001b[0;34m\u001b[0m\u001b[0m\n\u001b[1;32m   2832\u001b[0m         return _signature_from_callable(obj, sigcls=cls,\n\u001b[0;32m-> 2833\u001b[0;31m                                         follow_wrapper_chains=follow_wrapped)\n\u001b[0m\u001b[1;32m   2834\u001b[0m \u001b[0;34m\u001b[0m\u001b[0m\n\u001b[1;32m   2835\u001b[0m     \u001b[0;34m@\u001b[0m\u001b[0mproperty\u001b[0m\u001b[0;34m\u001b[0m\u001b[0;34m\u001b[0m\u001b[0m\n",
      "\u001b[0;32m~/.conda/envs/NIRN/lib/python3.7/inspect.py\u001b[0m in \u001b[0;36m_signature_from_callable\u001b[0;34m(obj, follow_wrapper_chains, skip_bound_arg, sigcls)\u001b[0m\n\u001b[1;32m   2206\u001b[0m \u001b[0;34m\u001b[0m\u001b[0m\n\u001b[1;32m   2207\u001b[0m     \u001b[0;32mif\u001b[0m \u001b[0;32mnot\u001b[0m \u001b[0mcallable\u001b[0m\u001b[0;34m(\u001b[0m\u001b[0mobj\u001b[0m\u001b[0;34m)\u001b[0m\u001b[0;34m:\u001b[0m\u001b[0;34m\u001b[0m\u001b[0;34m\u001b[0m\u001b[0m\n\u001b[0;32m-> 2208\u001b[0;31m         \u001b[0;32mraise\u001b[0m \u001b[0mTypeError\u001b[0m\u001b[0;34m(\u001b[0m\u001b[0;34m'{!r} is not a callable object'\u001b[0m\u001b[0;34m.\u001b[0m\u001b[0mformat\u001b[0m\u001b[0;34m(\u001b[0m\u001b[0mobj\u001b[0m\u001b[0;34m)\u001b[0m\u001b[0;34m)\u001b[0m\u001b[0;34m\u001b[0m\u001b[0;34m\u001b[0m\u001b[0m\n\u001b[0m\u001b[1;32m   2209\u001b[0m \u001b[0;34m\u001b[0m\u001b[0m\n\u001b[1;32m   2210\u001b[0m     \u001b[0;32mif\u001b[0m \u001b[0misinstance\u001b[0m\u001b[0;34m(\u001b[0m\u001b[0mobj\u001b[0m\u001b[0;34m,\u001b[0m \u001b[0mtypes\u001b[0m\u001b[0;34m.\u001b[0m\u001b[0mMethodType\u001b[0m\u001b[0;34m)\u001b[0m\u001b[0;34m:\u001b[0m\u001b[0;34m\u001b[0m\u001b[0;34m\u001b[0m\u001b[0m\n",
      "\u001b[0;31mTypeError\u001b[0m: <dolfin.cpp.mesh.Mesh object at 0x7f0cd133d5f0> is not a callable object"
     ]
    }
   ],
   "source": [
    "import inspect\n",
    "inspect.signature(mesh)"
   ]
  },
  {
   "cell_type": "code",
   "execution_count": 3,
   "id": "1ae5ab94-8f61-4d54-be0f-8416f7bb38cd",
   "metadata": {},
   "outputs": [],
   "source": [
    "# poisson solver \n",
    "\n",
    "# boundary conditions\n",
    "boundary_conditions = { \n",
    "                'top' : {\n",
    "                    'type' : 'Dirichlet',\n",
    "                    'solution' : '1 + x[0]*x[0] + 2*x[1]*x[1]', # 2D, x[1] = 'x', x[2] = 'y' for example.\n",
    "                    'solution_kwargs' : {},\n",
    "                    'degree' : 2,\n",
    "                    'boundary' : 'on_boundary && near(x[1], 1, tol)', # must return a boolean\n",
    "                                                                      # on_boundary corresponds to a boolean fenics returns, because it knows in practice if *x* is on the boundary or not.\n",
    "                                                                      # *near(x[0], 1, tol)* is equivalent to *abs(x[0]-1)<tol*\n",
    "                    'boundary_kwargs' : {\n",
    "                        'tol' : 1e-14\n",
    "                    }               \n",
    "                },\n",
    "                'bottom' : {\n",
    "                    'type' : 'Dirichlet',\n",
    "                    'solution' : 'x[0] <= 0.5 + tol ? k_0 : k_1',\n",
    "                    'solution_kwargs' : {\n",
    "                        'k_0' : 1.0,\n",
    "                        'k_1' : 0.01,\n",
    "                        'tol' : 1e-14\n",
    "                    },\n",
    "                    'degree' : 0,\n",
    "                    'boundary' : 'on_boundary && near(x[1], 0, tol)',\n",
    "                    'boundary_kwargs' : {\n",
    "                        'tol' : 1e-14\n",
    "                    }\n",
    "                }\n",
    "            }\n",
    "# charge density\n",
    "charge_density = {\n",
    "                'value' : 'max_density-x[0]*(max_density-min_density)/lx',  # must be a string too\n",
    "                'degree' : 2,\n",
    "                'kwargs' : {\n",
    "                    'max_density' : 2e17,\n",
    "                    'min_density' : 1e17,\n",
    "                    'lx' : 1.0 # size of the system - no offset\n",
    "                } \n",
    "            }"
   ]
  },
  {
   "cell_type": "code",
   "execution_count": 4,
   "id": "33175404-008f-4311-9199-d059fccf4264",
   "metadata": {},
   "outputs": [],
   "source": [
    "potential_field, electric_field = ps.solver(mesh, boundary_conditions, charge_density) "
   ]
  },
  {
   "cell_type": "code",
   "execution_count": 5,
   "id": "b26d3977-87d3-47a0-8fac-89541421df18",
   "metadata": {},
   "outputs": [],
   "source": [
    "import matplotlib.pyplot as plt\n",
    "\n",
    "E = electric_field\n",
    "Phi = potential_field"
   ]
  },
  {
   "cell_type": "code",
   "execution_count": 13,
   "id": "44985559-6863-408a-ba34-567ef68e9161",
   "metadata": {},
   "outputs": [
    {
     "data": {
      "application/vnd.jupyter.widget-view+json": {
       "model_id": "478aa2df121a473d892d226fe6b12440",
       "version_major": 2,
       "version_minor": 0
      },
      "text/plain": [
       "Canvas(toolbar=Toolbar(toolitems=[('Home', 'Reset original view', 'home', 'home'), ('Back', 'Back to previous …"
      ]
     },
     "metadata": {},
     "output_type": "display_data"
    }
   ],
   "source": [
    "Ex, Ey = E.split(deepcopy=True)\n",
    "NE=sqrt(dot(E,E))\n",
    "\n",
    "plt.figure(figsize=(5,10), constrained_layout = True)\n",
    "\n",
    "plt.subplot(2,1,1)\n",
    "fig=plot(Phi)\n",
    "plt.title('U(V)', size=10)\n",
    "fig.set_cmap(\"viridis\") \n",
    "plt.colorbar(fig, shrink=1)\n",
    "plt.xlabel('x(m)', size=10)\n",
    "plt.ylabel('y(m)', size=10)\n",
    "\n",
    "plt.subplot(2,1,2)\n",
    "fig=plot(NE)\n",
    "plt.title('E(V/m)', size=10)\n",
    "fig.set_cmap(\"viridis\") \n",
    "plt.colorbar(fig)\n",
    "plt.xlabel('x(m)', size=10)\n",
    "plt.ylabel('y(m)', size=10)\n",
    "\n",
    "plt.show()"
   ]
  },
  {
   "cell_type": "markdown",
   "id": "9e70ab1a-2a4e-4275-bfc8-66642348f1d5",
   "metadata": {},
   "source": [
    "## Can we reproduce previous results on the thruster ?"
   ]
  },
  {
   "cell_type": "code",
   "execution_count": 5,
   "id": "3bf17961-8d14-46a7-9ec5-779bd0a14bd1",
   "metadata": {},
   "outputs": [],
   "source": [
    "import lppydsmc as ld\n",
    "dp = 0.001  \n",
    "\n",
    "# here, x : l, y : w\n",
    "dict_thruster = {\n",
    "    'w_in' : 5*dp,\n",
    "    'l_in' : 3*dp,\n",
    "    'w_1' : 3*dp,\n",
    "    'l_1' : dp,\n",
    "    'l_int' : dp,\n",
    "    'w_2' : dp,\n",
    "    'l_2' : 10*dp,\n",
    "    'w_out' : 5*dp,\n",
    "    'l_out' : dp,\n",
    "    'offsets' : np.array([0,0]) \n",
    "}\n",
    "# Note:  l_mot = l_in \n",
    "in_vertices = np.flip(ld.systems.helper.thruster_points(**dict_thruster), axis = 0)\n",
    "mesh = ps.mesh.polygonal(resolution = 100, in_vertices = in_vertices)"
   ]
  },
  {
   "cell_type": "code",
   "execution_count": 6,
   "id": "4cf15714-726f-4003-82f6-0c6d76a95537",
   "metadata": {},
   "outputs": [],
   "source": [
    "tol = 1e-14\n",
    "\n",
    "# useful lenghts to define boundary conditions\n",
    "x_in = dict_thruster['offsets'][0]\n",
    "x_electrode_1 = x_in + dict_thruster['l_in']\n",
    "x_inter_electrodes_area = x_electrode_1 + dict_thruster['l_1']\n",
    "x_electrode_2 = x_inter_electrodes_area + dict_thruster['l_int']\n",
    "x_out = x_electrode_2 + dict_thruster['l_2']"
   ]
  },
  {
   "cell_type": "code",
   "execution_count": 7,
   "id": "c5ba7e2d-3dfc-4832-bbec-b73de17b9846",
   "metadata": {},
   "outputs": [],
   "source": [
    "# poisson solver \n",
    "\n",
    "potential_boundary_conditions = {\n",
    "    'inflow_area' : '0.0',\n",
    "    'inflow_area_sides': 'Neumann',\n",
    "    'electrode_1' : '30.0',\n",
    "    'inter_electrode_area':'Neumann',\n",
    "    'electrode_2': '300.0'\n",
    "}\n",
    "\n",
    "# boundary conditions\n",
    "boundary_conditions = {\n",
    "                'inflow_area' : {\n",
    "                    'type' : 'Dirichlet',\n",
    "                    'solution' : potential_boundary_conditions['inflow_area'], \n",
    "                    'solution_kwargs' : {},\n",
    "                    'degree' : 0, # because constant\n",
    "                    'boundary' : 'on_boundary && near(x[0], x_in, tol)', \n",
    "                    'boundary_kwargs' : {\n",
    "                        'tol' : tol,\n",
    "                        'x_in' : x_in\n",
    "                    }               \n",
    "                },\n",
    "                'inflow_area_sides' : {\n",
    "                    'type' : 'Neumann'\n",
    "                },\n",
    "                'electrode_1' : {\n",
    "                    'type' : 'Dirichlet',\n",
    "                    'solution' : potential_boundary_conditions['electrode_1'], \n",
    "                    'solution_kwargs' : {},\n",
    "                    'degree' : 0,\n",
    "                    'boundary' : 'on_boundary && x[0] > x_electrode_1 - tol && x[0] < x_inter_electrodes_area + tol',\n",
    "                    'boundary_kwargs' : {\n",
    "                        'tol' : tol,\n",
    "                        'x_electrode_1' : x_electrode_1,\n",
    "                        'x_inter_electrodes_area' : x_inter_electrodes_area\n",
    "                    }\n",
    "                },\n",
    "                'inter_electrode_area' : {\n",
    "                    'type' : 'Neumann'\n",
    "                },\n",
    "                'electrode_2' : {\n",
    "                    'type' : 'Dirichlet',\n",
    "                    'solution' : potential_boundary_conditions['electrode_2'], \n",
    "                    'solution_kwargs' : {},\n",
    "                    'degree' : 0,\n",
    "                    'boundary' : 'on_boundary && x[0] > x_electrode_2 - tol && x[0] < x_out + tol',\n",
    "                    'boundary_kwargs' : {\n",
    "                        'tol' : tol,\n",
    "                        'x_electrode_2' : x_electrode_2,\n",
    "                        'x_out' : x_out\n",
    "                    }\n",
    "                }\n",
    "            }\n",
    "# charge density\n",
    "charge_density = {\n",
    "                'value' : '0',  # must be a string too\n",
    "                'degree' : 0,\n",
    "                'kwargs' : {}\n",
    "            }"
   ]
  },
  {
   "cell_type": "code",
   "execution_count": 8,
   "id": "ae6e1f43-9f34-433f-83d5-ddb1bdaf732c",
   "metadata": {},
   "outputs": [],
   "source": [
    "potential_field, electric_field = ps.solver(mesh, boundary_conditions, charge_density) "
   ]
  },
  {
   "cell_type": "code",
   "execution_count": 9,
   "id": "124d2094-113c-480a-b2a0-2bcd992dd3c6",
   "metadata": {},
   "outputs": [],
   "source": [
    "import matplotlib.pyplot as plt\n",
    "\n",
    "E = electric_field\n",
    "Phi = potential_field"
   ]
  },
  {
   "cell_type": "code",
   "execution_count": 21,
   "id": "b3dfa1bd-8be5-4c2b-892b-f0dd0cd55e02",
   "metadata": {},
   "outputs": [
    {
     "data": {
      "application/vnd.jupyter.widget-view+json": {
       "model_id": "480346f293fe475fa149f9999926384d",
       "version_major": 2,
       "version_minor": 0
      },
      "text/plain": [
       "Canvas(toolbar=Toolbar(toolitems=[('Home', 'Reset original view', 'home', 'home'), ('Back', 'Back to previous …"
      ]
     },
     "metadata": {},
     "output_type": "display_data"
    }
   ],
   "source": [
    "Ex, Ey = E.split(deepcopy=True)\n",
    "NE=sqrt(dot(E,E))\n",
    "\n",
    "plt.figure(figsize=(20,20), constrained_layout = True)\n",
    "\n",
    "plt.subplot(1,1,1)\n",
    "fig=plot(Phi)\n",
    "plt.title('U(V)', size=30)\n",
    "fig.set_cmap(\"viridis\") \n",
    "plt.colorbar(fig, shrink=1)\n",
    "plt.xlabel('x(m)', size=30)\n",
    "plt.ylabel('y(m)', size=30)\n",
    "\n",
    "# plt.subplot(2,1,2)\n",
    "# fig=plot(NE)\n",
    "# plt.title('E(V/m)', size=30)\n",
    "# fig.set_cmap(\"viridis\") \n",
    "# plt.colorbar(fig)\n",
    "# plt.xlabel('x(m)', size=30)\n",
    "# plt.ylabel('y(m)', size=30)\n",
    "\n",
    "plt.show()"
   ]
  },
  {
   "cell_type": "markdown",
   "id": "30fc9ea5",
   "metadata": {},
   "source": [
    "# Thruster 3 grids"
   ]
  },
  {
   "cell_type": "code",
   "execution_count": 14,
   "id": "9e5efc62",
   "metadata": {},
   "outputs": [],
   "source": [
    "import lppydsmc as ld\n",
    "dp = 0.001  \n",
    "\n",
    "# here, x : l, y : w\n",
    "dict_thruster = {\n",
    "    'w_in' : 5*dp,\n",
    "    'l_in' : 3*dp,\n",
    "    'w_1' : 3*dp,\n",
    "    'l_1' : dp,\n",
    "    'l_int' : dp,\n",
    "    'w_2' : dp,\n",
    "    'l_2' : 10*dp,\n",
    "    'l_int_2' : dp,\n",
    "    'w_3' : 3*dp,\n",
    "    'l_3' : 1*dp,\n",
    "    'w_out' : 5*dp,\n",
    "    'l_out' : dp,\n",
    "    'offsets' : np.array([0,0]) \n",
    "}\n",
    "# Note:  l_mot = l_in \n",
    "in_vertices = np.flip(ld.systems.helper.thruster_three_grids_points(**dict_thruster), axis = 0)\n",
    "mesh = ps.mesh.polygonal(resolution = 100, in_vertices = in_vertices)"
   ]
  },
  {
   "cell_type": "code",
   "execution_count": 15,
   "id": "e763c9ac",
   "metadata": {},
   "outputs": [],
   "source": [
    "tol = 1e-14\n",
    "\n",
    "# useful lenghts to define boundary conditions\n",
    "x_in = dict_thruster['offsets'][0]\n",
    "x_electrode_1 = x_in + dict_thruster['l_in']\n",
    "x_inter_electrodes_area = x_electrode_1 + dict_thruster['l_1']\n",
    "x_electrode_2 = x_inter_electrodes_area + dict_thruster['l_int']\n",
    "x_inter_electrodes_area_2 = x_electrode_2 + dict_thruster['l_2']\n",
    "x_electrode_3 = x_inter_electrodes_area_2 + dict_thruster['l_int_2']\n",
    "x_out = x_electrode_3 + dict_thruster['l_3']"
   ]
  },
  {
   "cell_type": "code",
   "execution_count": 16,
   "id": "6a5a44e6",
   "metadata": {},
   "outputs": [],
   "source": [
    "# poisson solver \n",
    "\n",
    "potential_boundary_conditions = {\n",
    "    'inflow_area' : '0.0',\n",
    "    'inflow_area_sides': 'Neumann',\n",
    "    'electrode_1' : '30.0',\n",
    "    'inter_electrode_area':'Neumann',\n",
    "    'electrode_2': '300.0',\n",
    "    'inter_electrode_area_2':'Neumann',\n",
    "    'electrode_3': '-100.0'\n",
    "}\n",
    "\n",
    "# boundary conditions\n",
    "boundary_conditions = {\n",
    "                'inflow_area' : {\n",
    "                    'type' : 'Dirichlet',\n",
    "                    'solution' : potential_boundary_conditions['inflow_area'], \n",
    "                    'solution_kwargs' : {},\n",
    "                    'degree' : 0, # because constant\n",
    "                    'boundary' : 'on_boundary && near(x[0], x_in, tol)', \n",
    "                    'boundary_kwargs' : {\n",
    "                        'tol' : tol,\n",
    "                        'x_in' : x_in\n",
    "                    }               \n",
    "                },\n",
    "                'inflow_area_sides' : {\n",
    "                    'type' : 'Neumann'\n",
    "                },\n",
    "                'electrode_1' : {\n",
    "                    'type' : 'Dirichlet',\n",
    "                    'solution' : potential_boundary_conditions['electrode_1'], \n",
    "                    'solution_kwargs' : {},\n",
    "                    'degree' : 0,\n",
    "                    'boundary' : 'on_boundary && x[0] > x_electrode_1 - tol && x[0] < x_inter_electrodes_area + tol',\n",
    "                    'boundary_kwargs' : {\n",
    "                        'tol' : tol,\n",
    "                        'x_electrode_1' : x_electrode_1,\n",
    "                        'x_inter_electrodes_area' : x_inter_electrodes_area\n",
    "                    }\n",
    "                },\n",
    "                'inter_electrode_area' : {\n",
    "                    'type' : 'Neumann'\n",
    "                },\n",
    "                'electrode_2' : {\n",
    "                    'type' : 'Dirichlet',\n",
    "                    'solution' : potential_boundary_conditions['electrode_2'], \n",
    "                    'solution_kwargs' : {},\n",
    "                    'degree' : 0,\n",
    "                    'boundary' : 'on_boundary && x[0] > x_electrode_2 - tol && x[0] < x_inter_electrodes_area_2 + tol',\n",
    "                    'boundary_kwargs' : {\n",
    "                        'tol' : tol,\n",
    "                        'x_electrode_2' : x_electrode_2,\n",
    "                        'x_inter_electrodes_area_2' : x_inter_electrodes_area_2\n",
    "                    }\n",
    "                },\n",
    "                'inter_electrode_area_2' : {\n",
    "                    'type' : 'Neumann'\n",
    "                },\n",
    "                'electrode_3' : {\n",
    "                    'type' : 'Dirichlet',\n",
    "                    'solution' : potential_boundary_conditions['electrode_3'], \n",
    "                    'solution_kwargs' : {},\n",
    "                    'degree' : 0,\n",
    "                    'boundary' : 'on_boundary && x[0] > x_electrode_3 - tol && x[0] < x_out + tol',\n",
    "                    'boundary_kwargs' : {\n",
    "                        'tol' : tol,\n",
    "                        'x_electrode_3' : x_electrode_3,\n",
    "                        'x_out' : x_out\n",
    "                    }\n",
    "                },\n",
    "            }\n",
    "# charge density\n",
    "charge_density = {\n",
    "                'value' : '0',  # must be a string too\n",
    "                'degree' : 0,\n",
    "                'kwargs' : {}\n",
    "            }"
   ]
  },
  {
   "cell_type": "code",
   "execution_count": 17,
   "id": "a03664dc",
   "metadata": {},
   "outputs": [],
   "source": [
    "potential_field, electric_field = ps.solver(mesh, boundary_conditions, charge_density) "
   ]
  },
  {
   "cell_type": "code",
   "execution_count": 18,
   "id": "8a0c3c3b",
   "metadata": {},
   "outputs": [],
   "source": [
    "import matplotlib.pyplot as plt\n",
    "\n",
    "E = electric_field\n",
    "Phi = potential_field"
   ]
  },
  {
   "cell_type": "code",
   "execution_count": 21,
   "id": "95a51113",
   "metadata": {},
   "outputs": [
    {
     "data": {
      "application/vnd.jupyter.widget-view+json": {
       "model_id": "4dc31867f71f46bd8c8b75b8e9fc1d01",
       "version_major": 2,
       "version_minor": 0
      },
      "text/plain": [
       "Canvas(toolbar=Toolbar(toolitems=[('Home', 'Reset original view', 'home', 'home'), ('Back', 'Back to previous …"
      ]
     },
     "metadata": {},
     "output_type": "display_data"
    }
   ],
   "source": [
    "Ex, Ey = E.split(deepcopy=True)\n",
    "NE=sqrt(dot(E,E))\n",
    "\n",
    "plt.figure(figsize=(10,10), constrained_layout = True)\n",
    "\n",
    "plt.subplot(2,1,1)\n",
    "fig=plot(Phi)\n",
    "plt.title('U(V)', size=20)\n",
    "fig.set_cmap(\"viridis\") \n",
    "plt.colorbar(fig)\n",
    "plt.xlabel('x(m)', size=20)\n",
    "plt.ylabel('y(m)', size=20)\n",
    "\n",
    "plt.subplot(2,1,2)\n",
    "fig=plot(NE)\n",
    "plt.title('E(V/m)', size=20)\n",
    "fig.set_cmap(\"viridis\") \n",
    "plt.colorbar(fig, shrink = )\n",
    "plt.xlabel('x(m)', size=20)\n",
    "plt.ylabel('y(m)', size=20)\n",
    "\n",
    "plt.show()"
   ]
  },
  {
   "cell_type": "code",
   "execution_count": 8,
   "id": "e9eb7726",
   "metadata": {},
   "outputs": [],
   "source": [
    "X = np.linspace(0,1.8e-2, 1000)\n",
    "central_potential_field = np.array([potential_field(x, 2.5e-3) for x in X])"
   ]
  },
  {
   "cell_type": "code",
   "execution_count": 9,
   "id": "575b39de",
   "metadata": {},
   "outputs": [
    {
     "data": {
      "application/vnd.jupyter.widget-view+json": {
       "model_id": "001424caff9c43a4b043cfc108435d9d",
       "version_major": 2,
       "version_minor": 0
      },
      "text/plain": [
       "Canvas(toolbar=Toolbar(toolitems=[('Home', 'Reset original view', 'home', 'home'), ('Back', 'Back to previous …"
      ]
     },
     "metadata": {},
     "output_type": "display_data"
    }
   ],
   "source": [
    "fig, ax = plt.subplots()\n",
    "ax.plot(X, central_potential_field)\n",
    "analysis.set_axis(ax, x = 'x', y = 'potential');"
   ]
  },
  {
   "cell_type": "code",
   "execution_count": null,
   "id": "78dd51dd-c3c0-466a-8e12-3d2b2d1261d6",
   "metadata": {},
   "outputs": [],
   "source": []
  }
 ],
 "metadata": {
  "kernelspec": {
   "display_name": "Python 3",
   "language": "python",
   "name": "python3"
  },
  "language_info": {
   "codemirror_mode": {
    "name": "ipython",
    "version": 3
   },
   "file_extension": ".py",
   "mimetype": "text/x-python",
   "name": "python",
   "nbconvert_exporter": "python",
   "pygments_lexer": "ipython3",
   "version": "3.7.10"
  }
 },
 "nbformat": 4,
 "nbformat_minor": 5
}
