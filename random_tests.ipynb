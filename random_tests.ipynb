{
 "cells": [
  {
   "cell_type": "code",
   "execution_count": 1,
   "id": "informational-james",
   "metadata": {},
   "outputs": [],
   "source": [
    "import lppydsmc as ld\n",
    "import numpy as np\n",
    "from pprint import pprint"
   ]
  },
  {
   "cell_type": "code",
   "execution_count": 2,
   "id": "united-nelson",
   "metadata": {},
   "outputs": [
    {
     "name": "stdout",
     "output_type": "stream",
     "text": [
      "Help on function handler_particles_collisions in module lppydsmc.background_gas.collider:\n",
      "\n",
      "handler_particles_collisions(arr, dt, radius, mass, gas_radius, gas_mass, gas_density_fn, gas_dynamic_fn=None, monitoring=False)\n",
      "\n"
     ]
    }
   ],
   "source": [
    "help(ld.background_gas.handler_particles_collisions)"
   ]
  },
  {
   "cell_type": "code",
   "execution_count": 3,
   "id": "cloudy-costs",
   "metadata": {},
   "outputs": [],
   "source": [
    "arr = np.array([[1e-3,1e-3,1e3,1e3,1e3]]*int(1e3))\n",
    "dt = 1e-5\n",
    "radius = 2e-10 # m\n",
    "mass = 2e-25 # kg\n",
    "gas_radius = 2e-10\n",
    "gas_mass = 2e-25\n",
    "gas_density_fn = lambda x,y : 3.2e19"
   ]
  },
  {
   "cell_type": "code",
   "execution_count": 4,
   "id": "thorough-monroe",
   "metadata": {},
   "outputs": [
    {
     "data": {
      "text/plain": [
       "array([  2,   5,   7,  11,  12,  16,  18,  19,  21,  26,  27,  30,  33,\n",
       "        39,  46,  50,  55,  60,  64,  76,  77,  82,  83,  84,  86,  93,\n",
       "        95,  96, 103, 107, 110, 111, 113, 114, 118, 122, 123, 138, 141,\n",
       "       145, 150, 151, 155, 157, 161, 162, 168, 169, 171, 178, 179, 183,\n",
       "       185, 187, 199, 201, 202, 203, 206, 208, 209, 213, 215, 220, 221,\n",
       "       223, 235, 237, 240, 241, 243, 245, 250, 255, 262, 266, 267, 268,\n",
       "       271, 277, 281, 286, 289, 290, 292, 298, 299, 300, 302, 307, 311,\n",
       "       314, 323, 326, 330, 334, 335, 341, 346, 350, 351, 355, 359, 363,\n",
       "       365, 368, 370, 372, 380, 383, 388, 389, 395, 398, 409, 415, 416,\n",
       "       422, 425, 426, 432, 435, 438, 445, 451, 453, 457, 464, 465, 471,\n",
       "       479, 481, 483, 486, 488, 489, 490, 499, 502, 506, 509, 510, 511,\n",
       "       515, 516, 517, 531, 533, 539, 543, 544, 546, 555, 563, 568, 569,\n",
       "       571, 583, 591, 592, 594, 595, 597, 602, 605, 607, 609, 616, 618,\n",
       "       621, 622, 627, 631, 633, 649, 651, 652, 661, 664, 665, 670, 673,\n",
       "       676, 678, 680, 684, 689, 691, 696, 701, 703, 710, 716, 717, 718,\n",
       "       720, 722, 723, 725, 729, 734, 737, 744, 749, 750, 752, 757, 761,\n",
       "       763, 764, 766, 769, 773, 774, 775, 783, 785, 793, 794, 801, 810,\n",
       "       816, 817, 818, 820, 825, 832, 837, 840, 842, 847, 848, 849, 850,\n",
       "       852, 856, 858, 863, 866, 870, 871, 872, 875, 880, 889, 890, 893,\n",
       "       897, 901, 903, 909, 915, 918, 921, 923, 924, 926, 937, 938, 944,\n",
       "       946, 956, 958, 960, 963, 964, 969, 972, 977, 983, 984, 985, 987,\n",
       "       989, 993, 998, 999])"
      ]
     },
     "execution_count": 4,
     "metadata": {},
     "output_type": "execute_result"
    }
   ],
   "source": [
    "ld.background_gas.handler_particles_collisions(arr, dt, radius, mass, gas_radius, gas_mass, gas_density_fn, gas_dynamic_fn = dynamic_fn, monitoring = False)"
   ]
  },
  {
   "cell_type": "code",
   "execution_count": 8,
   "id": "threaded-orchestra",
   "metadata": {},
   "outputs": [],
   "source": [
    "from pathlib import Path\n",
    "path_density_arr = Path(\"simulations/config_files/background_gas_fns/gas_density_arr_thruster_two_grids_neutrals.npy\").resolve()\n",
    "path_dynamic_arr = Path(\"simulations/config_files/background_gas_fns/gas_dynamic_arr_thruster_two_grids_neutrals.npy\").resolve()\n",
    "path_x = Path(\"simulations/config_files/background_gas_fns/x_arr_thruster_two_grids_neutrals.npy\").resolve()\n",
    "path_y = Path(\"simulations/config_files/background_gas_fns/y_arr_thruster_two_grids_neutrals.npy\").resolve()\n",
    "\n",
    "density_fn, dynamic_fn = ld.background_gas.interpolate.read_interpolation(path_x, path_y, path_density_arr, path_dynamic_arr)"
   ]
  },
  {
   "cell_type": "code",
   "execution_count": 21,
   "id": "african-cookbook",
   "metadata": {},
   "outputs": [],
   "source": [
    "X = np.linspace(0,16e-3, 1000)\n",
    "Y = np.linspace(0,5e-3, 1000)"
   ]
  },
  {
   "cell_type": "code",
   "execution_count": 10,
   "id": "casual-enforcement",
   "metadata": {},
   "outputs": [],
   "source": [
    "Z = np.zeros((1000,1000))\n",
    "for i, x in enumerate(X):\n",
    "    for j, y in enumerate(Y):\n",
    "        Z[i,j] = density_fn(x,y)"
   ]
  },
  {
   "cell_type": "code",
   "execution_count": 22,
   "id": "floral-output",
   "metadata": {},
   "outputs": [
    {
     "data": {
      "application/vnd.jupyter.widget-view+json": {
       "model_id": "924a80a478d7489d93803548b293b031",
       "version_major": 2,
       "version_minor": 0
      },
      "text/plain": [
       "Canvas(toolbar=Toolbar(toolitems=[('Home', 'Reset original view', 'home', 'home'), ('Back', 'Back to previous …"
      ]
     },
     "metadata": {},
     "output_type": "display_data"
    }
   ],
   "source": [
    "%matplotlib widget\n",
    "from mpl_toolkits.mplot3d import Axes3D\n",
    "import matplotlib.pyplot as plt\n",
    "from matplotlib import cm\n",
    "from matplotlib.ticker import LinearLocator, FormatStrFormatter\n",
    "import numpy as np\n",
    "\n",
    "\n",
    "fig = plt.figure()\n",
    "ax = fig.gca(projection='3d')\n",
    "\n",
    "# Make data.\n",
    "X, Y = np.meshgrid(X, Y)\n",
    "# Plot the surface.\n",
    "surf = ax.plot_surface(X, Y, Z, cmap=cm.coolwarm,\n",
    "                       linewidth=0, antialiased=False)\n",
    "\n",
    "# Customize the z axis.\n",
    "# ax.set_zlim(-1.01, 1.01)\n",
    "# ax.zaxis.set_major_locator(LinearLocator(10))\n",
    "# ax.zaxis.set_major_formatter(FormatStrFormatter('%.02f'))\n",
    "\n",
    "# Add a color bar which maps values to colors.\n",
    "fig.colorbar(surf, shrink=0.5, aspect=5)\n",
    "\n",
    "plt.show()"
   ]
  }
 ],
 "metadata": {
  "kernelspec": {
   "display_name": "Python 3",
   "language": "python",
   "name": "python3"
  },
  "language_info": {
   "codemirror_mode": {
    "name": "ipython",
    "version": 3
   },
   "file_extension": ".py",
   "mimetype": "text/x-python",
   "name": "python",
   "nbconvert_exporter": "python",
   "pygments_lexer": "ipython3",
   "version": "3.7.9"
  }
 },
 "nbformat": 4,
 "nbformat_minor": 5
}
